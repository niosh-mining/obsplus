{
 "cells": [
  {
   "cell_type": "markdown",
   "metadata": {},
   "source": [
    "# Profile file segement read\n",
    "Profile reading file segments from a large continuous bank.\n",
    "Use the Kemmerer dataset."
   ]
  },
  {
   "cell_type": "code",
   "execution_count": null,
   "metadata": {},
   "outputs": [],
   "source": [
    "import obsplus\n",
    "import obspy\n",
    "\n",
    "# load dataset and bank index/inv\n",
    "ds = obsplus.load_dataset('kemmerer')\n",
    "bank = ds.waveform_client\n",
    "index = bank.read_index()"
   ]
  },
  {
   "cell_type": "code",
   "execution_count": null,
   "metadata": {},
   "outputs": [],
   "source": [
    "# get start/stop of continuous archive\n",
    "t1 = obspy.UTCDateTime(index.starttime.min())\n",
    "t2 = obspy.UTCDateTime(index.endtime.max())\n"
   ]
  },
  {
   "cell_type": "code",
   "execution_count": null,
   "metadata": {},
   "outputs": [],
   "source": [
    "# create requests for pulling a few seconds of data every hour\n",
    "time = t1\n",
    "requests = []\n",
    "while time < t2:\n",
    "    requests.append(('*', '*', '*', '*', time + 15, time + 30))\n",
    "    time += 3600"
   ]
  },
  {
   "cell_type": "code",
   "execution_count": null,
   "metadata": {},
   "outputs": [],
   "source": [
    "%%timeit \n",
    "[bank.get_waveforms(*x) for x in requests]"
   ]
  },
  {
   "cell_type": "code",
   "execution_count": null,
   "metadata": {},
   "outputs": [],
   "source": [
    "%%timeit\n",
    "for st in bank.yield_waveforms(starttime=t1, endtime=t2, duration=3600, overlap=10):\n",
    "    pass"
   ]
  }
 ],
 "metadata": {
  "kernelspec": {
   "display_name": "Python 3",
   "language": "python",
   "name": "python3"
  },
  "language_info": {
   "codemirror_mode": {
    "name": "ipython",
    "version": 3
   },
   "file_extension": ".py",
   "mimetype": "text/x-python",
   "name": "python",
   "nbconvert_exporter": "python",
   "pygments_lexer": "ipython3",
   "version": "3.7.0"
  }
 },
 "nbformat": 4,
 "nbformat_minor": 2
}

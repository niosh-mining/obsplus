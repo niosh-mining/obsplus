{
 "cells": [
  {
   "cell_type": "markdown",
   "metadata": {},
   "source": [
    "# EventMill profiler\n",
    "The following is a suite of profiling for `EventMill`."
   ]
  },
  {
   "cell_type": "code",
   "execution_count": null,
   "metadata": {},
   "outputs": [],
   "source": [
    "import cProfile\n",
    "from contextlib import contextmanager\n",
    "\n",
    "import obsplus\n",
    "import obspy\n",
    "import obspy.core.event as ev\n",
    "from obsplus.events import EventMill\n",
    "from obsplus.utils.events import duplicate_events\n",
    "\n",
    "profile_path = 'profile.prof'"
   ]
  },
  {
   "cell_type": "code",
   "execution_count": null,
   "metadata": {},
   "outputs": [],
   "source": [
    "def get_events(multiples=1):\n",
    "    \"\"\"\n",
    "    Return the events from bingham and crandall. This includes about 20 events.\n",
    "    \n",
    "    If multiples > 1 make duplicates and add to catalog. The number of events in\n",
    "    the catalog is equal to the original number * multiples.\n",
    "    \"\"\"\n",
    "    bingham_dataset = obsplus.load_dataset('bingham_test')\n",
    "    events1 = bingham_dataset.event_client.get_events().copy()\n",
    "    \n",
    "    crandall_dataset = obsplus.load_dataset('crandall_test')\n",
    "    events2 = crandall_dataset.event_client.get_events().copy()\n",
    "    \n",
    "    events = events1 + events2\n",
    "    # add some event descriptions\n",
    "    events[1].event_descriptions.append(ev.EventDescription(\"LR\"))\n",
    "    events[2].event_descriptions.append(ev.EventDescription(\"A Big One\"))\n",
    "    \n",
    "    if multiples > 1:\n",
    "        new = events.copy()\n",
    "        for _ in range(multiples):\n",
    "            new += duplicate_events(events)\n",
    "        events = new\n",
    "        \n",
    "    return events\n",
    "\n",
    "\n",
    "def event_mill(events):\n",
    "    \"\"\"Init a mill from bingham test\"\"\"\n",
    "    mill = EventMill(events)\n",
    "    return mill\n",
    "\n",
    "\n",
    "@contextmanager\n",
    "def profile(path=profile_path):\n",
    "    pr = cProfile.Profile()\n",
    "    pr.enable()\n",
    "    yield\n",
    "    pr.disable()\n",
    "    pr.dump_stats(path)\n",
    "    "
   ]
  },
  {
   "cell_type": "code",
   "execution_count": null,
   "metadata": {},
   "outputs": [],
   "source": [
    "cat = get_events()"
   ]
  },
  {
   "cell_type": "code",
   "execution_count": null,
   "metadata": {},
   "outputs": [],
   "source": []
  },
  {
   "cell_type": "code",
   "execution_count": null,
   "metadata": {},
   "outputs": [],
   "source": []
  },
  {
   "cell_type": "code",
   "execution_count": null,
   "metadata": {},
   "outputs": [],
   "source": [
    "cat = new"
   ]
  },
  {
   "cell_type": "code",
   "execution_count": null,
   "metadata": {},
   "outputs": [],
   "source": [
    "mill1 = event_mill()"
   ]
  },
  {
   "cell_type": "code",
   "execution_count": null,
   "metadata": {},
   "outputs": [],
   "source": [
    "%time _ = mill1.to_model()"
   ]
  },
  {
   "cell_type": "code",
   "execution_count": null,
   "metadata": {},
   "outputs": [],
   "source": [
    "# with profile():\n",
    "#     mill1.to_model()\n"
   ]
  },
  {
   "cell_type": "code",
   "execution_count": null,
   "metadata": {},
   "outputs": [],
   "source": [
    "%timeit mill1.to_parquet('test.zip')"
   ]
  },
  {
   "cell_type": "code",
   "execution_count": null,
   "metadata": {},
   "outputs": [],
   "source": [
    "with profile():\n",
    "    mill1.to_parquet('test.zip')"
   ]
  },
  {
   "cell_type": "code",
   "execution_count": null,
   "metadata": {},
   "outputs": [],
   "source": [
    "%timeit _ = EventMill.from_parquet('test.zip')"
   ]
  },
  {
   "cell_type": "code",
   "execution_count": null,
   "metadata": {},
   "outputs": [],
   "source": [
    "%timeit cat.write('test.qml', 'quakeml')"
   ]
  },
  {
   "cell_type": "code",
   "execution_count": null,
   "metadata": {},
   "outputs": [],
   "source": [
    "%timeit _=obspy.read_events('test.qml')"
   ]
  },
  {
   "cell_type": "code",
   "execution_count": null,
   "metadata": {},
   "outputs": [],
   "source": [
    "mill1"
   ]
  },
  {
   "cell_type": "code",
   "execution_count": null,
   "metadata": {},
   "outputs": [],
   "source": [
    "print(cat)"
   ]
  },
  {
   "cell_type": "code",
   "execution_count": null,
   "metadata": {},
   "outputs": [],
   "source": []
  }
 ],
 "metadata": {
  "kernelspec": {
   "display_name": "Python 3",
   "language": "python",
   "name": "python3"
  },
  "language_info": {
   "codemirror_mode": {
    "name": "ipython",
    "version": 3
   },
   "file_extension": ".py",
   "mimetype": "text/x-python",
   "name": "python",
   "nbconvert_exporter": "python",
   "pygments_lexer": "ipython3",
   "version": "3.8.5"
  }
 },
 "nbformat": 4,
 "nbformat_minor": 4
}

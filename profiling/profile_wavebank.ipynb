{
 "cells": [
  {
   "cell_type": "markdown",
   "metadata": {},
   "source": [
    "# Profile wavebank indexing\n",
    "This notebook is intended to help profile the "
   ]
  },
  {
   "cell_type": "code",
   "execution_count": null,
   "metadata": {},
   "outputs": [],
   "source": [
    "import shutil\n",
    "import tempfile\n",
    "from pathlib import Path\n",
    "\n",
    "import obspy\n",
    "import obsplus"
   ]
  },
  {
   "cell_type": "code",
   "execution_count": null,
   "metadata": {},
   "outputs": [],
   "source": [
    "test_dir = Path('archive')\n",
    "index_file = test_dir / '.index.h5'\n",
    "\n",
    "if index_file.exists():\n",
    "    index_file.unlink()"
   ]
  },
  {
   "cell_type": "code",
   "execution_count": null,
   "metadata": {},
   "outputs": [],
   "source": [
    "# make test directory\n",
    "if not test_dir.exists():\n",
    "    test_dir.mkdir(exist_ok=True, parents=True)\n",
    "    endtime = 0\n",
    "    for a in range(4000):\n",
    "        st = obspy.read()\n",
    "        for tr in st:\n",
    "            tr.stats.starttime = obspy.UTCDateTime(endtime)\n",
    "        st.write(str(test_dir / f'{a}.mseed'))\n",
    "        endtime = tr.stats.endtime\n",
    "    "
   ]
  },
  {
   "cell_type": "code",
   "execution_count": null,
   "metadata": {},
   "outputs": [],
   "source": [
    "wb = obsplus.WaveBank(test_dir)\n",
    "\n",
    "def index_update():\n",
    "    if index_file.exists():\n",
    "        index_file.unlink()\n",
    "    wb.update_index()"
   ]
  },
  {
   "cell_type": "code",
   "execution_count": null,
   "metadata": {},
   "outputs": [],
   "source": [
    "# %timeit index_update()"
   ]
  },
  {
   "cell_type": "markdown",
   "metadata": {},
   "source": [
    "## Profile yielding traces"
   ]
  },
  {
   "cell_type": "code",
   "execution_count": null,
   "metadata": {},
   "outputs": [],
   "source": [
    "index = wb.read_index()\n",
    "start = index.starttime.min()\n",
    "end = start + 48 * 3600 * 2"
   ]
  },
  {
   "cell_type": "code",
   "execution_count": null,
   "metadata": {},
   "outputs": [],
   "source": [
    "print(obspy.UTCDateTime(start), obspy.UTCDateTime(end))"
   ]
  },
  {
   "cell_type": "code",
   "execution_count": null,
   "metadata": {},
   "outputs": [],
   "source": [
    "%%time\n",
    "for st in wb.yield_waveforms(starttime=start, endtime=end, duration=3600, overlap=2):\n",
    "    pass"
   ]
  },
  {
   "cell_type": "markdown",
   "metadata": {},
   "source": [
    "## Profile getting stream from bank"
   ]
  },
  {
   "cell_type": "code",
   "execution_count": null,
   "metadata": {},
   "outputs": [],
   "source": [
    "# profile loading and joining many traces\n",
    "%timeit st = wb.get_waveforms(starttime=start, endtime=start+3600*2)"
   ]
  },
  {
   "cell_type": "code",
   "execution_count": null,
   "metadata": {},
   "outputs": [],
   "source": [
    "# profile trimming part of a trace\n",
    "%timeit st = wb.get_waveforms(starttime=start + 10, endtime=start + 70)"
   ]
  },
  {
   "cell_type": "code",
   "execution_count": null,
   "metadata": {},
   "outputs": [],
   "source": [
    "#%load_ext snakeviz"
   ]
  },
  {
   "cell_type": "code",
   "execution_count": null,
   "metadata": {},
   "outputs": [],
   "source": [
    "#%%snakeviz\n",
    "#st = wb.get_waveforms(starttime=start, endtime=start+3600*2)"
   ]
  },
  {
   "cell_type": "code",
   "execution_count": null,
   "metadata": {},
   "outputs": [],
   "source": []
  }
 ],
 "metadata": {
  "kernelspec": {
   "display_name": "Python 3",
   "language": "python",
   "name": "python3"
  },
  "language_info": {
   "codemirror_mode": {
    "name": "ipython",
    "version": 3
   },
   "file_extension": ".py",
   "mimetype": "text/x-python",
   "name": "python",
   "nbconvert_exporter": "python",
   "pygments_lexer": "ipython3",
   "version": "3.7.0"
  }
 },
 "nbformat": 4,
 "nbformat_minor": 2
}

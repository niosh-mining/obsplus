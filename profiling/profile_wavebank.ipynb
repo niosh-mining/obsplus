{
 "cells": [
  {
   "cell_type": "markdown",
   "metadata": {},
   "source": [
    "# Profile wavebank indexing\n",
    "This notebook is intended to help profile the "
   ]
  },
  {
   "cell_type": "code",
   "execution_count": 1,
   "metadata": {},
   "outputs": [],
   "source": [
    "import shutil\n",
    "import tempfile\n",
    "from pathlib import Path\n",
    "\n",
    "import obspy\n",
    "import obsplus"
   ]
  },
  {
   "cell_type": "code",
   "execution_count": 2,
   "metadata": {},
   "outputs": [],
   "source": [
    "test_dir = Path('archive')\n",
    "index_file = test_dir / '.index.h5'\n",
    "\n",
    "if index_file.exists():\n",
    "    index_file.unlink()"
   ]
  },
  {
   "cell_type": "code",
   "execution_count": 3,
   "metadata": {},
   "outputs": [],
   "source": [
    "# make test directory\n",
    "if not test_dir.exists():\n",
    "    test_dir.mkdir(exist_ok=True, parents=True)\n",
    "    endtime = 0\n",
    "    for a in range(4000):\n",
    "        st = obspy.read()\n",
    "        for tr in st:\n",
    "            tr.stats.starttime = obspy.UTCDateTime(endtime)\n",
    "        st.write(str(test_dir / f'{a}.mseed'))\n",
    "        endtime = tr.stats.endtime\n",
    "    "
   ]
  },
  {
   "cell_type": "code",
   "execution_count": 4,
   "metadata": {},
   "outputs": [],
   "source": [
    "wb = obsplus.WaveBank(test_dir)\n",
    "\n",
    "def index_update():\n",
    "    if index_file.exists():\n",
    "        index_file.unlink()\n",
    "    wb.update_index()"
   ]
  },
  {
   "cell_type": "code",
   "execution_count": 5,
   "metadata": {},
   "outputs": [
    {
     "name": "stdout",
     "output_type": "stream",
     "text": [
      "604 ms ± 6.09 ms per loop (mean ± std. dev. of 7 runs, 1 loop each)\n"
     ]
    }
   ],
   "source": [
    "%timeit index_update()\n"
   ]
  },
  {
   "cell_type": "code",
   "execution_count": 6,
   "metadata": {},
   "outputs": [],
   "source": [
    "# shutil.rmtree(str(test_dir))"
   ]
  }
 ],
 "metadata": {
  "kernelspec": {
   "display_name": "Python 3",
   "language": "python",
   "name": "python3"
  },
  "language_info": {
   "codemirror_mode": {
    "name": "ipython",
    "version": 3
   },
   "file_extension": ".py",
   "mimetype": "text/x-python",
   "name": "python",
   "nbconvert_exporter": "python",
   "pygments_lexer": "ipython3",
   "version": "3.7.0"
  }
 },
 "nbformat": 4,
 "nbformat_minor": 2
}

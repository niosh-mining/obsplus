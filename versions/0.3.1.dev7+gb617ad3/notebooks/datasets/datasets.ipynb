{
 "cells": [
  {
   "cell_type": "markdown",
   "metadata": {},
   "source": [
    "# Datasets\n",
    "\n",
    "ObsPlus includes a few interesting datasets which are used for testing purposes, but a [template with instructions](https://github.com/niosh-mining/opsdata) is provided if you would like to create and distribute your own.\n",
    "\n",
    "\n",
    "The datasets are \"lazy\" in that all but the most essential information will be downloaded only when some code requests the dataset. This helps keep the size of ObsPlus small, a network connection will be needed the first time each dataset is used. Here are a few examples of things that can be done with datasets:\n",
    "\n",
    "## Dataset basics\n",
    "Loading a dataset only requires knowing its name (and having installed it, more on that later)."
   ]
  },
  {
   "cell_type": "code",
   "execution_count": 1,
   "metadata": {
    "execution": {
     "iopub.execute_input": "2025-01-09T05:07:03.727693Z",
     "iopub.status.busy": "2025-01-09T05:07:03.727469Z",
     "iopub.status.idle": "2025-01-09T05:07:04.853520Z",
     "shell.execute_reply": "2025-01-09T05:07:04.852962Z"
    }
   },
   "outputs": [],
   "source": [
    "import obspy\n",
    "\n",
    "import obsplus\n",
    "\n",
    "ds = obsplus.load_dataset(\"crandall_test\")"
   ]
  },
  {
   "cell_type": "markdown",
   "metadata": {},
   "source": [
    "The best way to access the data in a dataset is by using the desired client:"
   ]
  },
  {
   "cell_type": "code",
   "execution_count": 2,
   "metadata": {
    "execution": {
     "iopub.execute_input": "2025-01-09T05:07:04.855969Z",
     "iopub.status.busy": "2025-01-09T05:07:04.855405Z",
     "iopub.status.idle": "2025-01-09T05:07:06.346525Z",
     "shell.execute_reply": "2025-01-09T05:07:06.346025Z"
    }
   },
   "outputs": [],
   "source": [
    "wave_client = ds.waveform_client\n",
    "station_client = ds.station_client\n",
    "event_client = ds.event_client"
   ]
  },
  {
   "cell_type": "markdown",
   "metadata": {},
   "source": [
    "These clients behave the same as any `Client` in ObsPy:"
   ]
  },
  {
   "cell_type": "code",
   "execution_count": 3,
   "metadata": {
    "execution": {
     "iopub.execute_input": "2025-01-09T05:07:06.348484Z",
     "iopub.status.busy": "2025-01-09T05:07:06.348312Z",
     "iopub.status.idle": "2025-01-09T05:07:06.615823Z",
     "shell.execute_reply": "2025-01-09T05:07:06.615326Z"
    }
   },
   "outputs": [],
   "source": [
    "st = wave_client.get_waveforms()\n",
    "assert isinstance(st, obspy.Stream)\n",
    "inv = station_client.get_stations()\n",
    "assert isinstance(inv, obspy.Inventory)\n",
    "cat = event_client.get_events()\n",
    "assert isinstance(cat, obspy.Catalog)"
   ]
  },
  {
   "cell_type": "markdown",
   "metadata": {},
   "source": [
    "A 'Fetcher' can be used for \"dataset aware\" querying."
   ]
  },
  {
   "cell_type": "code",
   "execution_count": 4,
   "metadata": {
    "execution": {
     "iopub.execute_input": "2025-01-09T05:07:06.617666Z",
     "iopub.status.busy": "2025-01-09T05:07:06.617496Z",
     "iopub.status.idle": "2025-01-09T05:07:06.713372Z",
     "shell.execute_reply": "2025-01-09T05:07:06.712837Z"
    }
   },
   "outputs": [],
   "source": [
    "fetcher = ds.get_fetcher()"
   ]
  },
  {
   "cell_type": "markdown",
   "metadata": {},
   "source": [
    "Each dataset is a just a directory of files whose path is stored as the `data_path` attribute:"
   ]
  },
  {
   "cell_type": "code",
   "execution_count": 5,
   "metadata": {
    "execution": {
     "iopub.execute_input": "2025-01-09T05:07:06.715314Z",
     "iopub.status.busy": "2025-01-09T05:07:06.714976Z",
     "iopub.status.idle": "2025-01-09T05:07:06.719643Z",
     "shell.execute_reply": "2025-01-09T05:07:06.719268Z"
    }
   },
   "outputs": [
    {
     "data": {
      "text/plain": [
       "PosixPath('/home/runner/opsdata/crandall_test')"
      ]
     },
     "execution_count": 5,
     "metadata": {},
     "output_type": "execute_result"
    }
   ],
   "source": [
    "ds.data_path"
   ]
  },
  {
   "cell_type": "markdown",
   "metadata": {},
   "source": [
    "The *included* data files are found in the `source_path`:"
   ]
  },
  {
   "cell_type": "code",
   "execution_count": 6,
   "metadata": {
    "execution": {
     "iopub.execute_input": "2025-01-09T05:07:06.747495Z",
     "iopub.status.busy": "2025-01-09T05:07:06.747329Z",
     "iopub.status.idle": "2025-01-09T05:07:06.750495Z",
     "shell.execute_reply": "2025-01-09T05:07:06.750109Z"
    }
   },
   "outputs": [
    {
     "data": {
      "text/plain": [
       "PosixPath('/home/runner/work/obsplus/obsplus/src/obsplus/datasets/crandall_test')"
      ]
     },
     "execution_count": 6,
     "metadata": {},
     "output_type": "execute_result"
    }
   ],
   "source": [
    "ds.source_path"
   ]
  },
  {
   "cell_type": "markdown",
   "metadata": {},
   "source": [
    "Datasets can be copied with the `copy_dataset` function."
   ]
  },
  {
   "cell_type": "code",
   "execution_count": 7,
   "metadata": {
    "execution": {
     "iopub.execute_input": "2025-01-09T05:07:06.752311Z",
     "iopub.status.busy": "2025-01-09T05:07:06.751869Z",
     "iopub.status.idle": "2025-01-09T05:07:06.795542Z",
     "shell.execute_reply": "2025-01-09T05:07:06.795167Z"
    }
   },
   "outputs": [],
   "source": [
    "from pathlib import Path\n",
    "\n",
    "obsplus.copy_dataset(\"crandall_test\", \".\")\n",
    "path = Path(\".\") / \"crandall_test\"\n",
    "assert path.exists() and path.is_dir()"
   ]
  },
  {
   "cell_type": "markdown",
   "metadata": {},
   "source": [
    "## Data path\n",
    "By default, all datasets are stored in the user's home directory in a directory called 'opsdata'. Each dataset is contained by a subdirectory with the same name as the dataset. The environmental variable `OPSDATA_PATH` can be used to change the default dataset location."
   ]
  },
  {
   "cell_type": "markdown",
   "metadata": {},
   "source": [
    "## Included Test Datasets\n",
    "\n",
    "1. TA_test:\n",
    "    A small dataset with two stations from the TA with channels that have very low sampling rates. \n",
    "\n",
    "2. Crandall_test:\n",
    "    Event waveforms for the [Crandall Canyon Mine collapse](https://en.wikipedia.org/wiki/Crandall_Canyon_Mine) and associated aftershocks. The dataset also includes a catalog of the events and a station inventory.\n",
    "    \n",
    "3. Bingham_test:\n",
    "    Event waveforms associated with the [Bingham Canyon Landslide](https://en.wikipedia.org/wiki/Bingham_Canyon_Mine#Landslides), one of the largest anthropogenic landslides ever recorded. The dataset also includes a catalog of the events and a station inventory. \n",
    "    \n",
    "Each of these data sets is accessed via `obsplus.load_dataset` function which takes the name of the dataset as the only argument and returns a `DataSet` instance. This will take a few minutes if the datasets have not yet been downloaded, otherwise it should be very quick."
   ]
  },
  {
   "cell_type": "code",
   "execution_count": 8,
   "metadata": {
    "execution": {
     "iopub.execute_input": "2025-01-09T05:07:06.797264Z",
     "iopub.status.busy": "2025-01-09T05:07:06.796939Z",
     "iopub.status.idle": "2025-01-09T05:07:06.808148Z",
     "shell.execute_reply": "2025-01-09T05:07:06.807742Z"
    }
   },
   "outputs": [],
   "source": [
    "# cleanup temporary directory\n",
    "import shutil\n",
    "from pathlib import Path\n",
    "\n",
    "path = Path(\"crandall_test\")\n",
    "if path.exists():\n",
    "    shutil.rmtree(path)"
   ]
  }
 ],
 "metadata": {
  "kernelspec": {
   "display_name": "Python 3",
   "language": "python",
   "name": "python3"
  },
  "language_info": {
   "codemirror_mode": {
    "name": "ipython",
    "version": 3
   },
   "file_extension": ".py",
   "mimetype": "text/x-python",
   "name": "python",
   "nbconvert_exporter": "python",
   "pygments_lexer": "ipython3",
   "version": "3.12.8"
  }
 },
 "nbformat": 4,
 "nbformat_minor": 4
}

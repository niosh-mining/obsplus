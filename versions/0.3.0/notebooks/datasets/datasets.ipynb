{
 "cells": [
  {
   "cell_type": "markdown",
   "metadata": {},
   "source": [
    "# Datasets\n",
    "\n",
    "ObsPlus includes a few interesting datasets which are used for testing purposes, but a [template with instructions](https://github.com/niosh-mining/opsdata) is provided if you would like to create and distribute your own.\n",
    "\n",
    "\n",
    "The datasets are \"lazy\" in that all but the most essential information will be downloaded only when some code requests the dataset. This helps keep the size of ObsPlus small, a network connection will be needed the first time each dataset is used. Here are a few examples of things that can be done with datasets:\n",
    "\n",
    "## Dataset basics\n",
    "Loading a dataset only requires knowing its name (and having installed it, more on that later)."
   ]
  },
  {
   "cell_type": "code",
   "execution_count": 1,
   "metadata": {
    "execution": {
     "iopub.execute_input": "2024-02-28T22:18:13.064363Z",
     "iopub.status.busy": "2024-02-28T22:18:13.063929Z",
     "iopub.status.idle": "2024-02-28T22:19:01.549906Z",
     "shell.execute_reply": "2024-02-28T22:19:01.549290Z"
    }
   },
   "outputs": [
    {
     "name": "stdout",
     "output_type": "stream",
     "text": [
      "downloading waveform data for crandall_test dataset ...\n"
     ]
    },
    {
     "name": "stderr",
     "output_type": "stream",
     "text": [
      "[2024-02-28 22:18:16,276] - obspy.clients.fdsn.mass_downloader - INFO: Initializing FDSN client(s) for http://service.iris.edu.\n"
     ]
    },
    {
     "name": "stderr",
     "output_type": "stream",
     "text": [
      "[2024-02-28 22:18:16,279] - obspy.clients.fdsn.mass_downloader - INFO: Successfully initialized 1 client(s): http://service.iris.edu.\n"
     ]
    },
    {
     "name": "stderr",
     "output_type": "stream",
     "text": [
      "[2024-02-28 22:18:16,280] - obspy.clients.fdsn.mass_downloader - INFO: Total acquired or preexisting stations: 0\n"
     ]
    },
    {
     "name": "stderr",
     "output_type": "stream",
     "text": [
      "[2024-02-28 22:18:16,280] - obspy.clients.fdsn.mass_downloader - INFO: Client 'http://service.iris.edu' - Requesting reliable availability.\n"
     ]
    },
    {
     "name": "stderr",
     "output_type": "stream",
     "text": [
      "[2024-02-28 22:18:17,467] - obspy.clients.fdsn.mass_downloader - INFO: Client 'http://service.iris.edu' - Successfully requested availability (1.19 seconds)\n"
     ]
    },
    {
     "name": "stderr",
     "output_type": "stream",
     "text": [
      "[2024-02-28 22:18:17,498] - obspy.clients.fdsn.mass_downloader - INFO: Client 'http://service.iris.edu' - Found 19 stations (57 channels).\n"
     ]
    },
    {
     "name": "stderr",
     "output_type": "stream",
     "text": [
      "[2024-02-28 22:18:17,501] - obspy.clients.fdsn.mass_downloader - INFO: Client 'http://service.iris.edu' - Will attempt to download data from 19 stations.\n"
     ]
    },
    {
     "name": "stderr",
     "output_type": "stream",
     "text": [
      "[2024-02-28 22:18:17,504] - obspy.clients.fdsn.mass_downloader - INFO: Client 'http://service.iris.edu' - Status for 57 time intervals/channels before downloading: NEEDS_DOWNLOADING\n"
     ]
    },
    {
     "name": "stderr",
     "output_type": "stream",
     "text": [
      "[2024-02-28 22:18:19,129] - obspy.clients.fdsn.mass_downloader - INFO: Client 'http://service.iris.edu' - Successfully downloaded 7 channels (of 7)\n"
     ]
    },
    {
     "name": "stderr",
     "output_type": "stream",
     "text": [
      "[2024-02-28 22:18:21,185] - obspy.clients.fdsn.mass_downloader - INFO: Client 'http://service.iris.edu' - Successfully downloaded 41 channels (of 50)\n"
     ]
    },
    {
     "name": "stderr",
     "output_type": "stream",
     "text": [
      "[2024-02-28 22:18:21,186] - obspy.clients.fdsn.mass_downloader - INFO: Client 'http://service.iris.edu' - Launching basic QC checks...\n"
     ]
    },
    {
     "name": "stderr",
     "output_type": "stream",
     "text": [
      "[2024-02-28 22:18:21,224] - obspy.clients.fdsn.mass_downloader - INFO: Client 'http://service.iris.edu' - Downloaded 0.4 MB [120.09 KB/sec] of data, 0.0 MB of which were discarded afterwards.\n"
     ]
    },
    {
     "name": "stderr",
     "output_type": "stream",
     "text": [
      "[2024-02-28 22:18:21,224] - obspy.clients.fdsn.mass_downloader - INFO: Client 'http://service.iris.edu' - Status for 9 time intervals/channels after downloading: DOWNLOAD_FAILED\n"
     ]
    },
    {
     "name": "stderr",
     "output_type": "stream",
     "text": [
      "[2024-02-28 22:18:21,225] - obspy.clients.fdsn.mass_downloader - INFO: Client 'http://service.iris.edu' - Status for 48 time intervals/channels after downloading: DOWNLOADED\n"
     ]
    },
    {
     "name": "stderr",
     "output_type": "stream",
     "text": [
      "[2024-02-28 22:18:21,463] - obspy.clients.fdsn.mass_downloader - INFO: Client 'http://service.iris.edu' - Successfully downloaded '/home/runner/opsdata/crandall_test/stations/TA.O18A.xml'.\n"
     ]
    },
    {
     "name": "stderr",
     "output_type": "stream",
     "text": [
      "[2024-02-28 22:18:21,464] - obspy.clients.fdsn.mass_downloader - INFO: Client 'http://service.iris.edu' - Successfully downloaded '/home/runner/opsdata/crandall_test/stations/TA.O15A.xml'.\n"
     ]
    },
    {
     "name": "stderr",
     "output_type": "stream",
     "text": [
      "[2024-02-28 22:18:21,468] - obspy.clients.fdsn.mass_downloader - INFO: Client 'http://service.iris.edu' - Successfully downloaded '/home/runner/opsdata/crandall_test/stations/TA.P16A.xml'.\n"
     ]
    },
    {
     "name": "stderr",
     "output_type": "stream",
     "text": [
      "[2024-02-28 22:18:21,529] - obspy.clients.fdsn.mass_downloader - INFO: Client 'http://service.iris.edu' - Successfully downloaded '/home/runner/opsdata/crandall_test/stations/TA.O16A.xml'.\n"
     ]
    },
    {
     "name": "stderr",
     "output_type": "stream",
     "text": [
      "[2024-02-28 22:18:21,530] - obspy.clients.fdsn.mass_downloader - INFO: Client 'http://service.iris.edu' - Successfully downloaded '/home/runner/opsdata/crandall_test/stations/TA.P17A.xml'.\n"
     ]
    },
    {
     "name": "stderr",
     "output_type": "stream",
     "text": [
      "[2024-02-28 22:18:21,537] - obspy.clients.fdsn.mass_downloader - INFO: Client 'http://service.iris.edu' - Successfully downloaded '/home/runner/opsdata/crandall_test/stations/TA.P15A.xml'.\n"
     ]
    },
    {
     "name": "stderr",
     "output_type": "stream",
     "text": [
      "[2024-02-28 22:18:21,804] - obspy.clients.fdsn.mass_downloader - INFO: Client 'http://service.iris.edu' - Successfully downloaded '/home/runner/opsdata/crandall_test/stations/TA.R17A.xml'.\n"
     ]
    },
    {
     "name": "stderr",
     "output_type": "stream",
     "text": [
      "[2024-02-28 22:18:21,805] - obspy.clients.fdsn.mass_downloader - INFO: Client 'http://service.iris.edu' - Successfully downloaded '/home/runner/opsdata/crandall_test/stations/TA.P18A.xml'.\n"
     ]
    },
    {
     "name": "stderr",
     "output_type": "stream",
     "text": [
      "[2024-02-28 22:18:21,807] - obspy.clients.fdsn.mass_downloader - INFO: Client 'http://service.iris.edu' - Successfully downloaded '/home/runner/opsdata/crandall_test/stations/TA.Q16A.xml'.\n"
     ]
    },
    {
     "name": "stderr",
     "output_type": "stream",
     "text": [
      "[2024-02-28 22:18:21,858] - obspy.clients.fdsn.mass_downloader - INFO: Client 'http://service.iris.edu' - Successfully downloaded '/home/runner/opsdata/crandall_test/stations/UU.CTU.xml'.\n"
     ]
    },
    {
     "name": "stderr",
     "output_type": "stream",
     "text": [
      "[2024-02-28 22:18:21,862] - obspy.clients.fdsn.mass_downloader - INFO: Client 'http://service.iris.edu' - Successfully downloaded '/home/runner/opsdata/crandall_test/stations/TA.Q15A.xml'.\n"
     ]
    },
    {
     "name": "stderr",
     "output_type": "stream",
     "text": [
      "[2024-02-28 22:18:21,943] - obspy.clients.fdsn.mass_downloader - INFO: Client 'http://service.iris.edu' - Successfully downloaded '/home/runner/opsdata/crandall_test/stations/TA.Q18A.xml'.\n"
     ]
    },
    {
     "name": "stderr",
     "output_type": "stream",
     "text": [
      "[2024-02-28 22:18:21,946] - obspy.clients.fdsn.mass_downloader - INFO: Client 'http://service.iris.edu' - Successfully downloaded '/home/runner/opsdata/crandall_test/stations/UU.MPU.xml'.\n"
     ]
    },
    {
     "name": "stderr",
     "output_type": "stream",
     "text": [
      "[2024-02-28 22:18:21,946] - obspy.clients.fdsn.mass_downloader - INFO: Client 'http://service.iris.edu' - Successfully downloaded '/home/runner/opsdata/crandall_test/stations/UU.SRU.xml'.\n"
     ]
    },
    {
     "name": "stderr",
     "output_type": "stream",
     "text": [
      "[2024-02-28 22:18:22,127] - obspy.clients.fdsn.mass_downloader - INFO: Client 'http://service.iris.edu' - Successfully downloaded '/home/runner/opsdata/crandall_test/stations/UU.TMU.xml'.\n"
     ]
    },
    {
     "name": "stderr",
     "output_type": "stream",
     "text": [
      "[2024-02-28 22:18:22,132] - obspy.clients.fdsn.mass_downloader - INFO: Client 'http://service.iris.edu' - Successfully downloaded '/home/runner/opsdata/crandall_test/stations/UU.NLU.xml'.\n"
     ]
    },
    {
     "name": "stderr",
     "output_type": "stream",
     "text": [
      "[2024-02-28 22:18:22,144] - obspy.clients.fdsn.mass_downloader - INFO: Client 'http://service.iris.edu' - Downloaded 16 station files [0.4 MB] in 0.9 seconds [472.35 KB/sec].\n"
     ]
    },
    {
     "name": "stderr",
     "output_type": "stream",
     "text": [
      "[2024-02-28 22:18:22,145] - obspy.clients.fdsn.mass_downloader - INFO: ============================== Final report\n"
     ]
    },
    {
     "name": "stderr",
     "output_type": "stream",
     "text": [
      "[2024-02-28 22:18:22,145] - obspy.clients.fdsn.mass_downloader - INFO: 0 MiniSEED files [0.0 MB] already existed.\n"
     ]
    },
    {
     "name": "stderr",
     "output_type": "stream",
     "text": [
      "[2024-02-28 22:18:22,146] - obspy.clients.fdsn.mass_downloader - INFO: 0 StationXML files [0.0 MB] already existed.\n"
     ]
    },
    {
     "name": "stderr",
     "output_type": "stream",
     "text": [
      "[2024-02-28 22:18:22,147] - obspy.clients.fdsn.mass_downloader - INFO: Client 'http://service.iris.edu' - Acquired 48 MiniSEED files [0.4 MB].\n"
     ]
    },
    {
     "name": "stderr",
     "output_type": "stream",
     "text": [
      "[2024-02-28 22:18:22,148] - obspy.clients.fdsn.mass_downloader - INFO: Client 'http://service.iris.edu' - Acquired 16 StationXML files [0.4 MB].\n"
     ]
    },
    {
     "name": "stderr",
     "output_type": "stream",
     "text": [
      "[2024-02-28 22:18:22,148] - obspy.clients.fdsn.mass_downloader - INFO: Downloaded 0.8 MB in total.\n"
     ]
    },
    {
     "name": "stderr",
     "output_type": "stream",
     "text": [
      "[2024-02-28 22:18:22,244] - obspy.clients.fdsn.mass_downloader - INFO: Initializing FDSN client(s) for http://service.iris.edu.\n"
     ]
    },
    {
     "name": "stderr",
     "output_type": "stream",
     "text": [
      "[2024-02-28 22:18:22,244] - obspy.clients.fdsn.mass_downloader - INFO: Initializing FDSN client(s) for http://service.iris.edu.\n"
     ]
    },
    {
     "name": "stderr",
     "output_type": "stream",
     "text": [
      "[2024-02-28 22:18:22,246] - obspy.clients.fdsn.mass_downloader - INFO: Successfully initialized 1 client(s): http://service.iris.edu.\n"
     ]
    },
    {
     "name": "stderr",
     "output_type": "stream",
     "text": [
      "[2024-02-28 22:18:22,246] - obspy.clients.fdsn.mass_downloader - INFO: Successfully initialized 1 client(s): http://service.iris.edu.\n"
     ]
    },
    {
     "name": "stderr",
     "output_type": "stream",
     "text": [
      "[2024-02-28 22:18:22,248] - obspy.clients.fdsn.mass_downloader - INFO: Total acquired or preexisting stations: 0\n"
     ]
    },
    {
     "name": "stderr",
     "output_type": "stream",
     "text": [
      "[2024-02-28 22:18:22,248] - obspy.clients.fdsn.mass_downloader - INFO: Total acquired or preexisting stations: 0\n"
     ]
    },
    {
     "name": "stderr",
     "output_type": "stream",
     "text": [
      "[2024-02-28 22:18:22,249] - obspy.clients.fdsn.mass_downloader - INFO: Client 'http://service.iris.edu' - Requesting reliable availability.\n"
     ]
    },
    {
     "name": "stderr",
     "output_type": "stream",
     "text": [
      "[2024-02-28 22:18:22,249] - obspy.clients.fdsn.mass_downloader - INFO: Client 'http://service.iris.edu' - Requesting reliable availability.\n"
     ]
    },
    {
     "name": "stderr",
     "output_type": "stream",
     "text": [
      "[2024-02-28 22:18:23,364] - obspy.clients.fdsn.mass_downloader - INFO: Client 'http://service.iris.edu' - Successfully requested availability (1.11 seconds)\n"
     ]
    },
    {
     "name": "stderr",
     "output_type": "stream",
     "text": [
      "[2024-02-28 22:18:23,364] - obspy.clients.fdsn.mass_downloader - INFO: Client 'http://service.iris.edu' - Successfully requested availability (1.11 seconds)\n"
     ]
    },
    {
     "name": "stderr",
     "output_type": "stream",
     "text": [
      "[2024-02-28 22:18:23,394] - obspy.clients.fdsn.mass_downloader - INFO: Client 'http://service.iris.edu' - Found 19 stations (57 channels).\n"
     ]
    },
    {
     "name": "stderr",
     "output_type": "stream",
     "text": [
      "[2024-02-28 22:18:23,394] - obspy.clients.fdsn.mass_downloader - INFO: Client 'http://service.iris.edu' - Found 19 stations (57 channels).\n"
     ]
    },
    {
     "name": "stderr",
     "output_type": "stream",
     "text": [
      "[2024-02-28 22:18:23,398] - obspy.clients.fdsn.mass_downloader - INFO: Client 'http://service.iris.edu' - Will attempt to download data from 19 stations.\n"
     ]
    },
    {
     "name": "stderr",
     "output_type": "stream",
     "text": [
      "[2024-02-28 22:18:23,398] - obspy.clients.fdsn.mass_downloader - INFO: Client 'http://service.iris.edu' - Will attempt to download data from 19 stations.\n"
     ]
    },
    {
     "name": "stderr",
     "output_type": "stream",
     "text": [
      "[2024-02-28 22:18:23,401] - obspy.clients.fdsn.mass_downloader - INFO: Client 'http://service.iris.edu' - Status for 57 time intervals/channels before downloading: NEEDS_DOWNLOADING\n"
     ]
    },
    {
     "name": "stderr",
     "output_type": "stream",
     "text": [
      "[2024-02-28 22:18:23,401] - obspy.clients.fdsn.mass_downloader - INFO: Client 'http://service.iris.edu' - Status for 57 time intervals/channels before downloading: NEEDS_DOWNLOADING\n"
     ]
    },
    {
     "name": "stderr",
     "output_type": "stream",
     "text": [
      "[2024-02-28 22:18:24,355] - obspy.clients.fdsn.mass_downloader - INFO: Client 'http://service.iris.edu' - Successfully downloaded 7 channels (of 7)\n"
     ]
    },
    {
     "name": "stderr",
     "output_type": "stream",
     "text": [
      "[2024-02-28 22:18:24,355] - obspy.clients.fdsn.mass_downloader - INFO: Client 'http://service.iris.edu' - Successfully downloaded 7 channels (of 7)\n"
     ]
    },
    {
     "name": "stderr",
     "output_type": "stream",
     "text": [
      "[2024-02-28 22:18:26,522] - obspy.clients.fdsn.mass_downloader - INFO: Client 'http://service.iris.edu' - Successfully downloaded 44 channels (of 50)\n"
     ]
    },
    {
     "name": "stderr",
     "output_type": "stream",
     "text": [
      "[2024-02-28 22:18:26,522] - obspy.clients.fdsn.mass_downloader - INFO: Client 'http://service.iris.edu' - Successfully downloaded 44 channels (of 50)\n"
     ]
    },
    {
     "name": "stderr",
     "output_type": "stream",
     "text": [
      "[2024-02-28 22:18:26,523] - obspy.clients.fdsn.mass_downloader - INFO: Client 'http://service.iris.edu' - Launching basic QC checks...\n"
     ]
    },
    {
     "name": "stderr",
     "output_type": "stream",
     "text": [
      "[2024-02-28 22:18:26,523] - obspy.clients.fdsn.mass_downloader - INFO: Client 'http://service.iris.edu' - Launching basic QC checks...\n"
     ]
    },
    {
     "name": "stderr",
     "output_type": "stream",
     "text": [
      "[2024-02-28 22:18:26,561] - obspy.clients.fdsn.mass_downloader - INFO: Client 'http://service.iris.edu' - Downloaded 0.3 MB [96.30 KB/sec] of data, 0.0 MB of which were discarded afterwards.\n"
     ]
    },
    {
     "name": "stderr",
     "output_type": "stream",
     "text": [
      "[2024-02-28 22:18:26,561] - obspy.clients.fdsn.mass_downloader - INFO: Client 'http://service.iris.edu' - Downloaded 0.3 MB [96.30 KB/sec] of data, 0.0 MB of which were discarded afterwards.\n"
     ]
    },
    {
     "name": "stderr",
     "output_type": "stream",
     "text": [
      "[2024-02-28 22:18:26,562] - obspy.clients.fdsn.mass_downloader - INFO: Client 'http://service.iris.edu' - Status for 6 time intervals/channels after downloading: DOWNLOAD_FAILED\n"
     ]
    },
    {
     "name": "stderr",
     "output_type": "stream",
     "text": [
      "[2024-02-28 22:18:26,562] - obspy.clients.fdsn.mass_downloader - INFO: Client 'http://service.iris.edu' - Status for 6 time intervals/channels after downloading: DOWNLOAD_FAILED\n"
     ]
    },
    {
     "name": "stderr",
     "output_type": "stream",
     "text": [
      "[2024-02-28 22:18:26,563] - obspy.clients.fdsn.mass_downloader - INFO: Client 'http://service.iris.edu' - Status for 51 time intervals/channels after downloading: DOWNLOADED\n"
     ]
    },
    {
     "name": "stderr",
     "output_type": "stream",
     "text": [
      "[2024-02-28 22:18:26,563] - obspy.clients.fdsn.mass_downloader - INFO: Client 'http://service.iris.edu' - Status for 51 time intervals/channels after downloading: DOWNLOADED\n"
     ]
    },
    {
     "name": "stderr",
     "output_type": "stream",
     "text": [
      "[2024-02-28 22:18:26,634] - obspy.clients.fdsn.mass_downloader - INFO: Client 'http://service.iris.edu' - Successfully downloaded '/home/runner/opsdata/crandall_test/stations/TA.R16A.xml'.\n"
     ]
    },
    {
     "name": "stderr",
     "output_type": "stream",
     "text": [
      "[2024-02-28 22:18:26,634] - obspy.clients.fdsn.mass_downloader - INFO: Client 'http://service.iris.edu' - Successfully downloaded '/home/runner/opsdata/crandall_test/stations/TA.R16A.xml'.\n"
     ]
    },
    {
     "name": "stderr",
     "output_type": "stream",
     "text": [
      "[2024-02-28 22:18:26,637] - obspy.clients.fdsn.mass_downloader - INFO: Client 'http://service.iris.edu' - Downloaded 1 station files [0.0 MB] in 0.1 seconds [393.50 KB/sec].\n"
     ]
    },
    {
     "name": "stderr",
     "output_type": "stream",
     "text": [
      "[2024-02-28 22:18:26,637] - obspy.clients.fdsn.mass_downloader - INFO: Client 'http://service.iris.edu' - Downloaded 1 station files [0.0 MB] in 0.1 seconds [393.50 KB/sec].\n"
     ]
    },
    {
     "name": "stderr",
     "output_type": "stream",
     "text": [
      "[2024-02-28 22:18:26,638] - obspy.clients.fdsn.mass_downloader - INFO: ============================== Final report\n"
     ]
    },
    {
     "name": "stderr",
     "output_type": "stream",
     "text": [
      "[2024-02-28 22:18:26,638] - obspy.clients.fdsn.mass_downloader - INFO: ============================== Final report\n"
     ]
    },
    {
     "name": "stderr",
     "output_type": "stream",
     "text": [
      "[2024-02-28 22:18:26,639] - obspy.clients.fdsn.mass_downloader - INFO: 0 MiniSEED files [0.0 MB] already existed.\n"
     ]
    },
    {
     "name": "stderr",
     "output_type": "stream",
     "text": [
      "[2024-02-28 22:18:26,639] - obspy.clients.fdsn.mass_downloader - INFO: 0 MiniSEED files [0.0 MB] already existed.\n"
     ]
    },
    {
     "name": "stderr",
     "output_type": "stream",
     "text": [
      "[2024-02-28 22:18:26,641] - obspy.clients.fdsn.mass_downloader - INFO: 16 StationXML files [0.4 MB] already existed.\n"
     ]
    },
    {
     "name": "stderr",
     "output_type": "stream",
     "text": [
      "[2024-02-28 22:18:26,641] - obspy.clients.fdsn.mass_downloader - INFO: 16 StationXML files [0.4 MB] already existed.\n"
     ]
    },
    {
     "name": "stderr",
     "output_type": "stream",
     "text": [
      "[2024-02-28 22:18:26,642] - obspy.clients.fdsn.mass_downloader - INFO: Client 'http://service.iris.edu' - Acquired 51 MiniSEED files [0.3 MB].\n"
     ]
    },
    {
     "name": "stderr",
     "output_type": "stream",
     "text": [
      "[2024-02-28 22:18:26,642] - obspy.clients.fdsn.mass_downloader - INFO: Client 'http://service.iris.edu' - Acquired 51 MiniSEED files [0.3 MB].\n"
     ]
    },
    {
     "name": "stderr",
     "output_type": "stream",
     "text": [
      "[2024-02-28 22:18:26,643] - obspy.clients.fdsn.mass_downloader - INFO: Client 'http://service.iris.edu' - Acquired 1 StationXML files [0.0 MB].\n"
     ]
    },
    {
     "name": "stderr",
     "output_type": "stream",
     "text": [
      "[2024-02-28 22:18:26,643] - obspy.clients.fdsn.mass_downloader - INFO: Client 'http://service.iris.edu' - Acquired 1 StationXML files [0.0 MB].\n"
     ]
    },
    {
     "name": "stderr",
     "output_type": "stream",
     "text": [
      "[2024-02-28 22:18:26,644] - obspy.clients.fdsn.mass_downloader - INFO: Downloaded 0.3 MB in total.\n"
     ]
    },
    {
     "name": "stderr",
     "output_type": "stream",
     "text": [
      "[2024-02-28 22:18:26,644] - obspy.clients.fdsn.mass_downloader - INFO: Downloaded 0.3 MB in total.\n"
     ]
    },
    {
     "name": "stderr",
     "output_type": "stream",
     "text": [
      "[2024-02-28 22:18:26,778] - obspy.clients.fdsn.mass_downloader - INFO: Initializing FDSN client(s) for http://service.iris.edu.\n"
     ]
    },
    {
     "name": "stderr",
     "output_type": "stream",
     "text": [
      "[2024-02-28 22:18:26,778] - obspy.clients.fdsn.mass_downloader - INFO: Initializing FDSN client(s) for http://service.iris.edu.\n"
     ]
    },
    {
     "name": "stderr",
     "output_type": "stream",
     "text": [
      "[2024-02-28 22:18:26,778] - obspy.clients.fdsn.mass_downloader - INFO: Initializing FDSN client(s) for http://service.iris.edu.\n"
     ]
    },
    {
     "name": "stderr",
     "output_type": "stream",
     "text": [
      "[2024-02-28 22:18:26,781] - obspy.clients.fdsn.mass_downloader - INFO: Successfully initialized 1 client(s): http://service.iris.edu.\n"
     ]
    },
    {
     "name": "stderr",
     "output_type": "stream",
     "text": [
      "[2024-02-28 22:18:26,781] - obspy.clients.fdsn.mass_downloader - INFO: Successfully initialized 1 client(s): http://service.iris.edu.\n"
     ]
    },
    {
     "name": "stderr",
     "output_type": "stream",
     "text": [
      "[2024-02-28 22:18:26,781] - obspy.clients.fdsn.mass_downloader - INFO: Successfully initialized 1 client(s): http://service.iris.edu.\n"
     ]
    },
    {
     "name": "stderr",
     "output_type": "stream",
     "text": [
      "[2024-02-28 22:18:26,782] - obspy.clients.fdsn.mass_downloader - INFO: Total acquired or preexisting stations: 0\n"
     ]
    },
    {
     "name": "stderr",
     "output_type": "stream",
     "text": [
      "[2024-02-28 22:18:26,782] - obspy.clients.fdsn.mass_downloader - INFO: Total acquired or preexisting stations: 0\n"
     ]
    },
    {
     "name": "stderr",
     "output_type": "stream",
     "text": [
      "[2024-02-28 22:18:26,782] - obspy.clients.fdsn.mass_downloader - INFO: Total acquired or preexisting stations: 0\n"
     ]
    },
    {
     "name": "stderr",
     "output_type": "stream",
     "text": [
      "[2024-02-28 22:18:26,783] - obspy.clients.fdsn.mass_downloader - INFO: Client 'http://service.iris.edu' - Requesting reliable availability.\n"
     ]
    },
    {
     "name": "stderr",
     "output_type": "stream",
     "text": [
      "[2024-02-28 22:18:26,783] - obspy.clients.fdsn.mass_downloader - INFO: Client 'http://service.iris.edu' - Requesting reliable availability.\n"
     ]
    },
    {
     "name": "stderr",
     "output_type": "stream",
     "text": [
      "[2024-02-28 22:18:26,783] - obspy.clients.fdsn.mass_downloader - INFO: Client 'http://service.iris.edu' - Requesting reliable availability.\n"
     ]
    },
    {
     "name": "stderr",
     "output_type": "stream",
     "text": [
      "[2024-02-28 22:18:27,893] - obspy.clients.fdsn.mass_downloader - INFO: Client 'http://service.iris.edu' - Successfully requested availability (1.11 seconds)\n"
     ]
    },
    {
     "name": "stderr",
     "output_type": "stream",
     "text": [
      "[2024-02-28 22:18:27,893] - obspy.clients.fdsn.mass_downloader - INFO: Client 'http://service.iris.edu' - Successfully requested availability (1.11 seconds)\n"
     ]
    },
    {
     "name": "stderr",
     "output_type": "stream",
     "text": [
      "[2024-02-28 22:18:27,893] - obspy.clients.fdsn.mass_downloader - INFO: Client 'http://service.iris.edu' - Successfully requested availability (1.11 seconds)\n"
     ]
    },
    {
     "name": "stderr",
     "output_type": "stream",
     "text": [
      "[2024-02-28 22:18:27,925] - obspy.clients.fdsn.mass_downloader - INFO: Client 'http://service.iris.edu' - Found 19 stations (57 channels).\n"
     ]
    },
    {
     "name": "stderr",
     "output_type": "stream",
     "text": [
      "[2024-02-28 22:18:27,925] - obspy.clients.fdsn.mass_downloader - INFO: Client 'http://service.iris.edu' - Found 19 stations (57 channels).\n"
     ]
    },
    {
     "name": "stderr",
     "output_type": "stream",
     "text": [
      "[2024-02-28 22:18:27,925] - obspy.clients.fdsn.mass_downloader - INFO: Client 'http://service.iris.edu' - Found 19 stations (57 channels).\n"
     ]
    },
    {
     "name": "stderr",
     "output_type": "stream",
     "text": [
      "[2024-02-28 22:18:27,929] - obspy.clients.fdsn.mass_downloader - INFO: Client 'http://service.iris.edu' - Will attempt to download data from 19 stations.\n"
     ]
    },
    {
     "name": "stderr",
     "output_type": "stream",
     "text": [
      "[2024-02-28 22:18:27,929] - obspy.clients.fdsn.mass_downloader - INFO: Client 'http://service.iris.edu' - Will attempt to download data from 19 stations.\n"
     ]
    },
    {
     "name": "stderr",
     "output_type": "stream",
     "text": [
      "[2024-02-28 22:18:27,929] - obspy.clients.fdsn.mass_downloader - INFO: Client 'http://service.iris.edu' - Will attempt to download data from 19 stations.\n"
     ]
    },
    {
     "name": "stderr",
     "output_type": "stream",
     "text": [
      "[2024-02-28 22:18:27,933] - obspy.clients.fdsn.mass_downloader - INFO: Client 'http://service.iris.edu' - Status for 57 time intervals/channels before downloading: NEEDS_DOWNLOADING\n"
     ]
    },
    {
     "name": "stderr",
     "output_type": "stream",
     "text": [
      "[2024-02-28 22:18:27,933] - obspy.clients.fdsn.mass_downloader - INFO: Client 'http://service.iris.edu' - Status for 57 time intervals/channels before downloading: NEEDS_DOWNLOADING\n"
     ]
    },
    {
     "name": "stderr",
     "output_type": "stream",
     "text": [
      "[2024-02-28 22:18:27,933] - obspy.clients.fdsn.mass_downloader - INFO: Client 'http://service.iris.edu' - Status for 57 time intervals/channels before downloading: NEEDS_DOWNLOADING\n"
     ]
    },
    {
     "name": "stderr",
     "output_type": "stream",
     "text": [
      "[2024-02-28 22:18:29,070] - obspy.clients.fdsn.mass_downloader - INFO: Client 'http://service.iris.edu' - Successfully downloaded 7 channels (of 7)\n"
     ]
    },
    {
     "name": "stderr",
     "output_type": "stream",
     "text": [
      "[2024-02-28 22:18:29,070] - obspy.clients.fdsn.mass_downloader - INFO: Client 'http://service.iris.edu' - Successfully downloaded 7 channels (of 7)\n"
     ]
    },
    {
     "name": "stderr",
     "output_type": "stream",
     "text": [
      "[2024-02-28 22:18:29,070] - obspy.clients.fdsn.mass_downloader - INFO: Client 'http://service.iris.edu' - Successfully downloaded 7 channels (of 7)\n"
     ]
    },
    {
     "name": "stderr",
     "output_type": "stream",
     "text": [
      "[2024-02-28 22:18:29,118] - obspy.clients.fdsn.mass_downloader - INFO: Client 'http://service.iris.edu' - Successfully downloaded 44 channels (of 50)\n"
     ]
    },
    {
     "name": "stderr",
     "output_type": "stream",
     "text": [
      "[2024-02-28 22:18:29,118] - obspy.clients.fdsn.mass_downloader - INFO: Client 'http://service.iris.edu' - Successfully downloaded 44 channels (of 50)\n"
     ]
    },
    {
     "name": "stderr",
     "output_type": "stream",
     "text": [
      "[2024-02-28 22:18:29,118] - obspy.clients.fdsn.mass_downloader - INFO: Client 'http://service.iris.edu' - Successfully downloaded 44 channels (of 50)\n"
     ]
    },
    {
     "name": "stderr",
     "output_type": "stream",
     "text": [
      "[2024-02-28 22:18:29,120] - obspy.clients.fdsn.mass_downloader - INFO: Client 'http://service.iris.edu' - Launching basic QC checks...\n"
     ]
    },
    {
     "name": "stderr",
     "output_type": "stream",
     "text": [
      "[2024-02-28 22:18:29,120] - obspy.clients.fdsn.mass_downloader - INFO: Client 'http://service.iris.edu' - Launching basic QC checks...\n"
     ]
    },
    {
     "name": "stderr",
     "output_type": "stream",
     "text": [
      "[2024-02-28 22:18:29,120] - obspy.clients.fdsn.mass_downloader - INFO: Client 'http://service.iris.edu' - Launching basic QC checks...\n"
     ]
    },
    {
     "name": "stderr",
     "output_type": "stream",
     "text": [
      "[2024-02-28 22:18:29,158] - obspy.clients.fdsn.mass_downloader - INFO: Client 'http://service.iris.edu' - Downloaded 0.3 MB [267.75 KB/sec] of data, 0.0 MB of which were discarded afterwards.\n"
     ]
    },
    {
     "name": "stderr",
     "output_type": "stream",
     "text": [
      "[2024-02-28 22:18:29,158] - obspy.clients.fdsn.mass_downloader - INFO: Client 'http://service.iris.edu' - Downloaded 0.3 MB [267.75 KB/sec] of data, 0.0 MB of which were discarded afterwards.\n"
     ]
    },
    {
     "name": "stderr",
     "output_type": "stream",
     "text": [
      "[2024-02-28 22:18:29,158] - obspy.clients.fdsn.mass_downloader - INFO: Client 'http://service.iris.edu' - Downloaded 0.3 MB [267.75 KB/sec] of data, 0.0 MB of which were discarded afterwards.\n"
     ]
    },
    {
     "name": "stderr",
     "output_type": "stream",
     "text": [
      "[2024-02-28 22:18:29,160] - obspy.clients.fdsn.mass_downloader - INFO: Client 'http://service.iris.edu' - Status for 6 time intervals/channels after downloading: DOWNLOAD_FAILED\n"
     ]
    },
    {
     "name": "stderr",
     "output_type": "stream",
     "text": [
      "[2024-02-28 22:18:29,160] - obspy.clients.fdsn.mass_downloader - INFO: Client 'http://service.iris.edu' - Status for 6 time intervals/channels after downloading: DOWNLOAD_FAILED\n"
     ]
    },
    {
     "name": "stderr",
     "output_type": "stream",
     "text": [
      "[2024-02-28 22:18:29,160] - obspy.clients.fdsn.mass_downloader - INFO: Client 'http://service.iris.edu' - Status for 6 time intervals/channels after downloading: DOWNLOAD_FAILED\n"
     ]
    },
    {
     "name": "stderr",
     "output_type": "stream",
     "text": [
      "[2024-02-28 22:18:29,161] - obspy.clients.fdsn.mass_downloader - INFO: Client 'http://service.iris.edu' - Status for 51 time intervals/channels after downloading: DOWNLOADED\n"
     ]
    },
    {
     "name": "stderr",
     "output_type": "stream",
     "text": [
      "[2024-02-28 22:18:29,161] - obspy.clients.fdsn.mass_downloader - INFO: Client 'http://service.iris.edu' - Status for 51 time intervals/channels after downloading: DOWNLOADED\n"
     ]
    },
    {
     "name": "stderr",
     "output_type": "stream",
     "text": [
      "[2024-02-28 22:18:29,161] - obspy.clients.fdsn.mass_downloader - INFO: Client 'http://service.iris.edu' - Status for 51 time intervals/channels after downloading: DOWNLOADED\n"
     ]
    },
    {
     "name": "stderr",
     "output_type": "stream",
     "text": [
      "[2024-02-28 22:18:29,177] - obspy.clients.fdsn.mass_downloader - INFO: Client 'http://service.iris.edu' - No station information to download.\n"
     ]
    },
    {
     "name": "stderr",
     "output_type": "stream",
     "text": [
      "[2024-02-28 22:18:29,177] - obspy.clients.fdsn.mass_downloader - INFO: Client 'http://service.iris.edu' - No station information to download.\n"
     ]
    },
    {
     "name": "stderr",
     "output_type": "stream",
     "text": [
      "[2024-02-28 22:18:29,177] - obspy.clients.fdsn.mass_downloader - INFO: Client 'http://service.iris.edu' - No station information to download.\n"
     ]
    },
    {
     "name": "stderr",
     "output_type": "stream",
     "text": [
      "[2024-02-28 22:18:29,179] - obspy.clients.fdsn.mass_downloader - INFO: ============================== Final report\n"
     ]
    },
    {
     "name": "stderr",
     "output_type": "stream",
     "text": [
      "[2024-02-28 22:18:29,179] - obspy.clients.fdsn.mass_downloader - INFO: ============================== Final report\n"
     ]
    },
    {
     "name": "stderr",
     "output_type": "stream",
     "text": [
      "[2024-02-28 22:18:29,179] - obspy.clients.fdsn.mass_downloader - INFO: ============================== Final report\n"
     ]
    },
    {
     "name": "stderr",
     "output_type": "stream",
     "text": [
      "[2024-02-28 22:18:29,180] - obspy.clients.fdsn.mass_downloader - INFO: 0 MiniSEED files [0.0 MB] already existed.\n"
     ]
    },
    {
     "name": "stderr",
     "output_type": "stream",
     "text": [
      "[2024-02-28 22:18:29,180] - obspy.clients.fdsn.mass_downloader - INFO: 0 MiniSEED files [0.0 MB] already existed.\n"
     ]
    },
    {
     "name": "stderr",
     "output_type": "stream",
     "text": [
      "[2024-02-28 22:18:29,180] - obspy.clients.fdsn.mass_downloader - INFO: 0 MiniSEED files [0.0 MB] already existed.\n"
     ]
    },
    {
     "name": "stderr",
     "output_type": "stream",
     "text": [
      "[2024-02-28 22:18:29,182] - obspy.clients.fdsn.mass_downloader - INFO: 17 StationXML files [0.4 MB] already existed.\n"
     ]
    },
    {
     "name": "stderr",
     "output_type": "stream",
     "text": [
      "[2024-02-28 22:18:29,182] - obspy.clients.fdsn.mass_downloader - INFO: 17 StationXML files [0.4 MB] already existed.\n"
     ]
    },
    {
     "name": "stderr",
     "output_type": "stream",
     "text": [
      "[2024-02-28 22:18:29,182] - obspy.clients.fdsn.mass_downloader - INFO: 17 StationXML files [0.4 MB] already existed.\n"
     ]
    },
    {
     "name": "stderr",
     "output_type": "stream",
     "text": [
      "[2024-02-28 22:18:29,184] - obspy.clients.fdsn.mass_downloader - INFO: Client 'http://service.iris.edu' - Acquired 51 MiniSEED files [0.3 MB].\n"
     ]
    },
    {
     "name": "stderr",
     "output_type": "stream",
     "text": [
      "[2024-02-28 22:18:29,184] - obspy.clients.fdsn.mass_downloader - INFO: Client 'http://service.iris.edu' - Acquired 51 MiniSEED files [0.3 MB].\n"
     ]
    },
    {
     "name": "stderr",
     "output_type": "stream",
     "text": [
      "[2024-02-28 22:18:29,184] - obspy.clients.fdsn.mass_downloader - INFO: Client 'http://service.iris.edu' - Acquired 51 MiniSEED files [0.3 MB].\n"
     ]
    },
    {
     "name": "stderr",
     "output_type": "stream",
     "text": [
      "[2024-02-28 22:18:29,185] - obspy.clients.fdsn.mass_downloader - INFO: Client 'http://service.iris.edu' - Acquired 0 StationXML files [0.0 MB].\n"
     ]
    },
    {
     "name": "stderr",
     "output_type": "stream",
     "text": [
      "[2024-02-28 22:18:29,185] - obspy.clients.fdsn.mass_downloader - INFO: Client 'http://service.iris.edu' - Acquired 0 StationXML files [0.0 MB].\n"
     ]
    },
    {
     "name": "stderr",
     "output_type": "stream",
     "text": [
      "[2024-02-28 22:18:29,185] - obspy.clients.fdsn.mass_downloader - INFO: Client 'http://service.iris.edu' - Acquired 0 StationXML files [0.0 MB].\n"
     ]
    },
    {
     "name": "stderr",
     "output_type": "stream",
     "text": [
      "[2024-02-28 22:18:29,186] - obspy.clients.fdsn.mass_downloader - INFO: Downloaded 0.3 MB in total.\n"
     ]
    },
    {
     "name": "stderr",
     "output_type": "stream",
     "text": [
      "[2024-02-28 22:18:29,186] - obspy.clients.fdsn.mass_downloader - INFO: Downloaded 0.3 MB in total.\n"
     ]
    },
    {
     "name": "stderr",
     "output_type": "stream",
     "text": [
      "[2024-02-28 22:18:29,186] - obspy.clients.fdsn.mass_downloader - INFO: Downloaded 0.3 MB in total.\n"
     ]
    },
    {
     "name": "stderr",
     "output_type": "stream",
     "text": [
      "[2024-02-28 22:18:29,318] - obspy.clients.fdsn.mass_downloader - INFO: Initializing FDSN client(s) for http://service.iris.edu.\n"
     ]
    },
    {
     "name": "stderr",
     "output_type": "stream",
     "text": [
      "[2024-02-28 22:18:29,318] - obspy.clients.fdsn.mass_downloader - INFO: Initializing FDSN client(s) for http://service.iris.edu.\n"
     ]
    },
    {
     "name": "stderr",
     "output_type": "stream",
     "text": [
      "[2024-02-28 22:18:29,318] - obspy.clients.fdsn.mass_downloader - INFO: Initializing FDSN client(s) for http://service.iris.edu.\n"
     ]
    },
    {
     "name": "stderr",
     "output_type": "stream",
     "text": [
      "[2024-02-28 22:18:29,318] - obspy.clients.fdsn.mass_downloader - INFO: Initializing FDSN client(s) for http://service.iris.edu.\n"
     ]
    },
    {
     "name": "stderr",
     "output_type": "stream",
     "text": [
      "[2024-02-28 22:18:29,321] - obspy.clients.fdsn.mass_downloader - INFO: Successfully initialized 1 client(s): http://service.iris.edu.\n"
     ]
    },
    {
     "name": "stderr",
     "output_type": "stream",
     "text": [
      "[2024-02-28 22:18:29,321] - obspy.clients.fdsn.mass_downloader - INFO: Successfully initialized 1 client(s): http://service.iris.edu.\n"
     ]
    },
    {
     "name": "stderr",
     "output_type": "stream",
     "text": [
      "[2024-02-28 22:18:29,321] - obspy.clients.fdsn.mass_downloader - INFO: Successfully initialized 1 client(s): http://service.iris.edu.\n"
     ]
    },
    {
     "name": "stderr",
     "output_type": "stream",
     "text": [
      "[2024-02-28 22:18:29,321] - obspy.clients.fdsn.mass_downloader - INFO: Successfully initialized 1 client(s): http://service.iris.edu.\n"
     ]
    },
    {
     "name": "stderr",
     "output_type": "stream",
     "text": [
      "[2024-02-28 22:18:29,324] - obspy.clients.fdsn.mass_downloader - INFO: Total acquired or preexisting stations: 0\n"
     ]
    },
    {
     "name": "stderr",
     "output_type": "stream",
     "text": [
      "[2024-02-28 22:18:29,324] - obspy.clients.fdsn.mass_downloader - INFO: Total acquired or preexisting stations: 0\n"
     ]
    },
    {
     "name": "stderr",
     "output_type": "stream",
     "text": [
      "[2024-02-28 22:18:29,324] - obspy.clients.fdsn.mass_downloader - INFO: Total acquired or preexisting stations: 0\n"
     ]
    },
    {
     "name": "stderr",
     "output_type": "stream",
     "text": [
      "[2024-02-28 22:18:29,324] - obspy.clients.fdsn.mass_downloader - INFO: Total acquired or preexisting stations: 0\n"
     ]
    },
    {
     "name": "stderr",
     "output_type": "stream",
     "text": [
      "[2024-02-28 22:18:29,326] - obspy.clients.fdsn.mass_downloader - INFO: Client 'http://service.iris.edu' - Requesting reliable availability.\n"
     ]
    },
    {
     "name": "stderr",
     "output_type": "stream",
     "text": [
      "[2024-02-28 22:18:29,326] - obspy.clients.fdsn.mass_downloader - INFO: Client 'http://service.iris.edu' - Requesting reliable availability.\n"
     ]
    },
    {
     "name": "stderr",
     "output_type": "stream",
     "text": [
      "[2024-02-28 22:18:29,326] - obspy.clients.fdsn.mass_downloader - INFO: Client 'http://service.iris.edu' - Requesting reliable availability.\n"
     ]
    },
    {
     "name": "stderr",
     "output_type": "stream",
     "text": [
      "[2024-02-28 22:18:29,326] - obspy.clients.fdsn.mass_downloader - INFO: Client 'http://service.iris.edu' - Requesting reliable availability.\n"
     ]
    },
    {
     "name": "stderr",
     "output_type": "stream",
     "text": [
      "[2024-02-28 22:18:30,439] - obspy.clients.fdsn.mass_downloader - INFO: Client 'http://service.iris.edu' - Successfully requested availability (1.11 seconds)\n"
     ]
    },
    {
     "name": "stderr",
     "output_type": "stream",
     "text": [
      "[2024-02-28 22:18:30,439] - obspy.clients.fdsn.mass_downloader - INFO: Client 'http://service.iris.edu' - Successfully requested availability (1.11 seconds)\n"
     ]
    },
    {
     "name": "stderr",
     "output_type": "stream",
     "text": [
      "[2024-02-28 22:18:30,439] - obspy.clients.fdsn.mass_downloader - INFO: Client 'http://service.iris.edu' - Successfully requested availability (1.11 seconds)\n"
     ]
    },
    {
     "name": "stderr",
     "output_type": "stream",
     "text": [
      "[2024-02-28 22:18:30,439] - obspy.clients.fdsn.mass_downloader - INFO: Client 'http://service.iris.edu' - Successfully requested availability (1.11 seconds)\n"
     ]
    },
    {
     "name": "stderr",
     "output_type": "stream",
     "text": [
      "[2024-02-28 22:18:30,470] - obspy.clients.fdsn.mass_downloader - INFO: Client 'http://service.iris.edu' - Found 19 stations (57 channels).\n"
     ]
    },
    {
     "name": "stderr",
     "output_type": "stream",
     "text": [
      "[2024-02-28 22:18:30,470] - obspy.clients.fdsn.mass_downloader - INFO: Client 'http://service.iris.edu' - Found 19 stations (57 channels).\n"
     ]
    },
    {
     "name": "stderr",
     "output_type": "stream",
     "text": [
      "[2024-02-28 22:18:30,470] - obspy.clients.fdsn.mass_downloader - INFO: Client 'http://service.iris.edu' - Found 19 stations (57 channels).\n"
     ]
    },
    {
     "name": "stderr",
     "output_type": "stream",
     "text": [
      "[2024-02-28 22:18:30,470] - obspy.clients.fdsn.mass_downloader - INFO: Client 'http://service.iris.edu' - Found 19 stations (57 channels).\n"
     ]
    },
    {
     "name": "stderr",
     "output_type": "stream",
     "text": [
      "[2024-02-28 22:18:30,475] - obspy.clients.fdsn.mass_downloader - INFO: Client 'http://service.iris.edu' - Will attempt to download data from 19 stations.\n"
     ]
    },
    {
     "name": "stderr",
     "output_type": "stream",
     "text": [
      "[2024-02-28 22:18:30,475] - obspy.clients.fdsn.mass_downloader - INFO: Client 'http://service.iris.edu' - Will attempt to download data from 19 stations.\n"
     ]
    },
    {
     "name": "stderr",
     "output_type": "stream",
     "text": [
      "[2024-02-28 22:18:30,475] - obspy.clients.fdsn.mass_downloader - INFO: Client 'http://service.iris.edu' - Will attempt to download data from 19 stations.\n"
     ]
    },
    {
     "name": "stderr",
     "output_type": "stream",
     "text": [
      "[2024-02-28 22:18:30,475] - obspy.clients.fdsn.mass_downloader - INFO: Client 'http://service.iris.edu' - Will attempt to download data from 19 stations.\n"
     ]
    },
    {
     "name": "stderr",
     "output_type": "stream",
     "text": [
      "[2024-02-28 22:18:30,479] - obspy.clients.fdsn.mass_downloader - INFO: Client 'http://service.iris.edu' - Status for 57 time intervals/channels before downloading: NEEDS_DOWNLOADING\n"
     ]
    },
    {
     "name": "stderr",
     "output_type": "stream",
     "text": [
      "[2024-02-28 22:18:30,479] - obspy.clients.fdsn.mass_downloader - INFO: Client 'http://service.iris.edu' - Status for 57 time intervals/channels before downloading: NEEDS_DOWNLOADING\n"
     ]
    },
    {
     "name": "stderr",
     "output_type": "stream",
     "text": [
      "[2024-02-28 22:18:30,479] - obspy.clients.fdsn.mass_downloader - INFO: Client 'http://service.iris.edu' - Status for 57 time intervals/channels before downloading: NEEDS_DOWNLOADING\n"
     ]
    },
    {
     "name": "stderr",
     "output_type": "stream",
     "text": [
      "[2024-02-28 22:18:30,479] - obspy.clients.fdsn.mass_downloader - INFO: Client 'http://service.iris.edu' - Status for 57 time intervals/channels before downloading: NEEDS_DOWNLOADING\n"
     ]
    },
    {
     "name": "stderr",
     "output_type": "stream",
     "text": [
      "[2024-02-28 22:18:31,087] - obspy.clients.fdsn.mass_downloader - INFO: Client 'http://service.iris.edu' - Successfully downloaded 7 channels (of 7)\n"
     ]
    },
    {
     "name": "stderr",
     "output_type": "stream",
     "text": [
      "[2024-02-28 22:18:31,087] - obspy.clients.fdsn.mass_downloader - INFO: Client 'http://service.iris.edu' - Successfully downloaded 7 channels (of 7)\n"
     ]
    },
    {
     "name": "stderr",
     "output_type": "stream",
     "text": [
      "[2024-02-28 22:18:31,087] - obspy.clients.fdsn.mass_downloader - INFO: Client 'http://service.iris.edu' - Successfully downloaded 7 channels (of 7)\n"
     ]
    },
    {
     "name": "stderr",
     "output_type": "stream",
     "text": [
      "[2024-02-28 22:18:31,087] - obspy.clients.fdsn.mass_downloader - INFO: Client 'http://service.iris.edu' - Successfully downloaded 7 channels (of 7)\n"
     ]
    },
    {
     "name": "stderr",
     "output_type": "stream",
     "text": [
      "[2024-02-28 22:18:31,351] - obspy.clients.fdsn.mass_downloader - INFO: Client 'http://service.iris.edu' - Successfully downloaded 44 channels (of 50)\n"
     ]
    },
    {
     "name": "stderr",
     "output_type": "stream",
     "text": [
      "[2024-02-28 22:18:31,351] - obspy.clients.fdsn.mass_downloader - INFO: Client 'http://service.iris.edu' - Successfully downloaded 44 channels (of 50)\n"
     ]
    },
    {
     "name": "stderr",
     "output_type": "stream",
     "text": [
      "[2024-02-28 22:18:31,351] - obspy.clients.fdsn.mass_downloader - INFO: Client 'http://service.iris.edu' - Successfully downloaded 44 channels (of 50)\n"
     ]
    },
    {
     "name": "stderr",
     "output_type": "stream",
     "text": [
      "[2024-02-28 22:18:31,351] - obspy.clients.fdsn.mass_downloader - INFO: Client 'http://service.iris.edu' - Successfully downloaded 44 channels (of 50)\n"
     ]
    },
    {
     "name": "stderr",
     "output_type": "stream",
     "text": [
      "[2024-02-28 22:18:31,353] - obspy.clients.fdsn.mass_downloader - INFO: Client 'http://service.iris.edu' - Launching basic QC checks...\n"
     ]
    },
    {
     "name": "stderr",
     "output_type": "stream",
     "text": [
      "[2024-02-28 22:18:31,353] - obspy.clients.fdsn.mass_downloader - INFO: Client 'http://service.iris.edu' - Launching basic QC checks...\n"
     ]
    },
    {
     "name": "stderr",
     "output_type": "stream",
     "text": [
      "[2024-02-28 22:18:31,353] - obspy.clients.fdsn.mass_downloader - INFO: Client 'http://service.iris.edu' - Launching basic QC checks...\n"
     ]
    },
    {
     "name": "stderr",
     "output_type": "stream",
     "text": [
      "[2024-02-28 22:18:31,353] - obspy.clients.fdsn.mass_downloader - INFO: Client 'http://service.iris.edu' - Launching basic QC checks...\n"
     ]
    },
    {
     "name": "stderr",
     "output_type": "stream",
     "text": [
      "[2024-02-28 22:18:31,392] - obspy.clients.fdsn.mass_downloader - INFO: Client 'http://service.iris.edu' - Downloaded 0.3 MB [367.67 KB/sec] of data, 0.0 MB of which were discarded afterwards.\n"
     ]
    },
    {
     "name": "stderr",
     "output_type": "stream",
     "text": [
      "[2024-02-28 22:18:31,392] - obspy.clients.fdsn.mass_downloader - INFO: Client 'http://service.iris.edu' - Downloaded 0.3 MB [367.67 KB/sec] of data, 0.0 MB of which were discarded afterwards.\n"
     ]
    },
    {
     "name": "stderr",
     "output_type": "stream",
     "text": [
      "[2024-02-28 22:18:31,392] - obspy.clients.fdsn.mass_downloader - INFO: Client 'http://service.iris.edu' - Downloaded 0.3 MB [367.67 KB/sec] of data, 0.0 MB of which were discarded afterwards.\n"
     ]
    },
    {
     "name": "stderr",
     "output_type": "stream",
     "text": [
      "[2024-02-28 22:18:31,392] - obspy.clients.fdsn.mass_downloader - INFO: Client 'http://service.iris.edu' - Downloaded 0.3 MB [367.67 KB/sec] of data, 0.0 MB of which were discarded afterwards.\n"
     ]
    },
    {
     "name": "stderr",
     "output_type": "stream",
     "text": [
      "[2024-02-28 22:18:31,394] - obspy.clients.fdsn.mass_downloader - INFO: Client 'http://service.iris.edu' - Status for 6 time intervals/channels after downloading: DOWNLOAD_FAILED\n"
     ]
    },
    {
     "name": "stderr",
     "output_type": "stream",
     "text": [
      "[2024-02-28 22:18:31,394] - obspy.clients.fdsn.mass_downloader - INFO: Client 'http://service.iris.edu' - Status for 6 time intervals/channels after downloading: DOWNLOAD_FAILED\n"
     ]
    },
    {
     "name": "stderr",
     "output_type": "stream",
     "text": [
      "[2024-02-28 22:18:31,394] - obspy.clients.fdsn.mass_downloader - INFO: Client 'http://service.iris.edu' - Status for 6 time intervals/channels after downloading: DOWNLOAD_FAILED\n"
     ]
    },
    {
     "name": "stderr",
     "output_type": "stream",
     "text": [
      "[2024-02-28 22:18:31,394] - obspy.clients.fdsn.mass_downloader - INFO: Client 'http://service.iris.edu' - Status for 6 time intervals/channels after downloading: DOWNLOAD_FAILED\n"
     ]
    },
    {
     "name": "stderr",
     "output_type": "stream",
     "text": [
      "[2024-02-28 22:18:31,396] - obspy.clients.fdsn.mass_downloader - INFO: Client 'http://service.iris.edu' - Status for 51 time intervals/channels after downloading: DOWNLOADED\n"
     ]
    },
    {
     "name": "stderr",
     "output_type": "stream",
     "text": [
      "[2024-02-28 22:18:31,396] - obspy.clients.fdsn.mass_downloader - INFO: Client 'http://service.iris.edu' - Status for 51 time intervals/channels after downloading: DOWNLOADED\n"
     ]
    },
    {
     "name": "stderr",
     "output_type": "stream",
     "text": [
      "[2024-02-28 22:18:31,396] - obspy.clients.fdsn.mass_downloader - INFO: Client 'http://service.iris.edu' - Status for 51 time intervals/channels after downloading: DOWNLOADED\n"
     ]
    },
    {
     "name": "stderr",
     "output_type": "stream",
     "text": [
      "[2024-02-28 22:18:31,396] - obspy.clients.fdsn.mass_downloader - INFO: Client 'http://service.iris.edu' - Status for 51 time intervals/channels after downloading: DOWNLOADED\n"
     ]
    },
    {
     "name": "stderr",
     "output_type": "stream",
     "text": [
      "[2024-02-28 22:18:31,413] - obspy.clients.fdsn.mass_downloader - INFO: Client 'http://service.iris.edu' - No station information to download.\n"
     ]
    },
    {
     "name": "stderr",
     "output_type": "stream",
     "text": [
      "[2024-02-28 22:18:31,413] - obspy.clients.fdsn.mass_downloader - INFO: Client 'http://service.iris.edu' - No station information to download.\n"
     ]
    },
    {
     "name": "stderr",
     "output_type": "stream",
     "text": [
      "[2024-02-28 22:18:31,413] - obspy.clients.fdsn.mass_downloader - INFO: Client 'http://service.iris.edu' - No station information to download.\n"
     ]
    },
    {
     "name": "stderr",
     "output_type": "stream",
     "text": [
      "[2024-02-28 22:18:31,413] - obspy.clients.fdsn.mass_downloader - INFO: Client 'http://service.iris.edu' - No station information to download.\n"
     ]
    },
    {
     "name": "stderr",
     "output_type": "stream",
     "text": [
      "[2024-02-28 22:18:31,415] - obspy.clients.fdsn.mass_downloader - INFO: ============================== Final report\n"
     ]
    },
    {
     "name": "stderr",
     "output_type": "stream",
     "text": [
      "[2024-02-28 22:18:31,415] - obspy.clients.fdsn.mass_downloader - INFO: ============================== Final report\n"
     ]
    },
    {
     "name": "stderr",
     "output_type": "stream",
     "text": [
      "[2024-02-28 22:18:31,415] - obspy.clients.fdsn.mass_downloader - INFO: ============================== Final report\n"
     ]
    },
    {
     "name": "stderr",
     "output_type": "stream",
     "text": [
      "[2024-02-28 22:18:31,415] - obspy.clients.fdsn.mass_downloader - INFO: ============================== Final report\n"
     ]
    },
    {
     "name": "stderr",
     "output_type": "stream",
     "text": [
      "[2024-02-28 22:18:31,417] - obspy.clients.fdsn.mass_downloader - INFO: 0 MiniSEED files [0.0 MB] already existed.\n"
     ]
    },
    {
     "name": "stderr",
     "output_type": "stream",
     "text": [
      "[2024-02-28 22:18:31,417] - obspy.clients.fdsn.mass_downloader - INFO: 0 MiniSEED files [0.0 MB] already existed.\n"
     ]
    },
    {
     "name": "stderr",
     "output_type": "stream",
     "text": [
      "[2024-02-28 22:18:31,417] - obspy.clients.fdsn.mass_downloader - INFO: 0 MiniSEED files [0.0 MB] already existed.\n"
     ]
    },
    {
     "name": "stderr",
     "output_type": "stream",
     "text": [
      "[2024-02-28 22:18:31,417] - obspy.clients.fdsn.mass_downloader - INFO: 0 MiniSEED files [0.0 MB] already existed.\n"
     ]
    },
    {
     "name": "stderr",
     "output_type": "stream",
     "text": [
      "[2024-02-28 22:18:31,420] - obspy.clients.fdsn.mass_downloader - INFO: 17 StationXML files [0.4 MB] already existed.\n"
     ]
    },
    {
     "name": "stderr",
     "output_type": "stream",
     "text": [
      "[2024-02-28 22:18:31,420] - obspy.clients.fdsn.mass_downloader - INFO: 17 StationXML files [0.4 MB] already existed.\n"
     ]
    },
    {
     "name": "stderr",
     "output_type": "stream",
     "text": [
      "[2024-02-28 22:18:31,420] - obspy.clients.fdsn.mass_downloader - INFO: 17 StationXML files [0.4 MB] already existed.\n"
     ]
    },
    {
     "name": "stderr",
     "output_type": "stream",
     "text": [
      "[2024-02-28 22:18:31,420] - obspy.clients.fdsn.mass_downloader - INFO: 17 StationXML files [0.4 MB] already existed.\n"
     ]
    },
    {
     "name": "stderr",
     "output_type": "stream",
     "text": [
      "[2024-02-28 22:18:31,422] - obspy.clients.fdsn.mass_downloader - INFO: Client 'http://service.iris.edu' - Acquired 51 MiniSEED files [0.3 MB].\n"
     ]
    },
    {
     "name": "stderr",
     "output_type": "stream",
     "text": [
      "[2024-02-28 22:18:31,422] - obspy.clients.fdsn.mass_downloader - INFO: Client 'http://service.iris.edu' - Acquired 51 MiniSEED files [0.3 MB].\n"
     ]
    },
    {
     "name": "stderr",
     "output_type": "stream",
     "text": [
      "[2024-02-28 22:18:31,422] - obspy.clients.fdsn.mass_downloader - INFO: Client 'http://service.iris.edu' - Acquired 51 MiniSEED files [0.3 MB].\n"
     ]
    },
    {
     "name": "stderr",
     "output_type": "stream",
     "text": [
      "[2024-02-28 22:18:31,422] - obspy.clients.fdsn.mass_downloader - INFO: Client 'http://service.iris.edu' - Acquired 51 MiniSEED files [0.3 MB].\n"
     ]
    },
    {
     "name": "stderr",
     "output_type": "stream",
     "text": [
      "[2024-02-28 22:18:31,424] - obspy.clients.fdsn.mass_downloader - INFO: Client 'http://service.iris.edu' - Acquired 0 StationXML files [0.0 MB].\n"
     ]
    },
    {
     "name": "stderr",
     "output_type": "stream",
     "text": [
      "[2024-02-28 22:18:31,424] - obspy.clients.fdsn.mass_downloader - INFO: Client 'http://service.iris.edu' - Acquired 0 StationXML files [0.0 MB].\n"
     ]
    },
    {
     "name": "stderr",
     "output_type": "stream",
     "text": [
      "[2024-02-28 22:18:31,424] - obspy.clients.fdsn.mass_downloader - INFO: Client 'http://service.iris.edu' - Acquired 0 StationXML files [0.0 MB].\n"
     ]
    },
    {
     "name": "stderr",
     "output_type": "stream",
     "text": [
      "[2024-02-28 22:18:31,424] - obspy.clients.fdsn.mass_downloader - INFO: Client 'http://service.iris.edu' - Acquired 0 StationXML files [0.0 MB].\n"
     ]
    },
    {
     "name": "stderr",
     "output_type": "stream",
     "text": [
      "[2024-02-28 22:18:31,425] - obspy.clients.fdsn.mass_downloader - INFO: Downloaded 0.3 MB in total.\n"
     ]
    },
    {
     "name": "stderr",
     "output_type": "stream",
     "text": [
      "[2024-02-28 22:18:31,425] - obspy.clients.fdsn.mass_downloader - INFO: Downloaded 0.3 MB in total.\n"
     ]
    },
    {
     "name": "stderr",
     "output_type": "stream",
     "text": [
      "[2024-02-28 22:18:31,425] - obspy.clients.fdsn.mass_downloader - INFO: Downloaded 0.3 MB in total.\n"
     ]
    },
    {
     "name": "stderr",
     "output_type": "stream",
     "text": [
      "[2024-02-28 22:18:31,425] - obspy.clients.fdsn.mass_downloader - INFO: Downloaded 0.3 MB in total.\n"
     ]
    },
    {
     "name": "stderr",
     "output_type": "stream",
     "text": [
      "[2024-02-28 22:18:31,560] - obspy.clients.fdsn.mass_downloader - INFO: Initializing FDSN client(s) for http://service.iris.edu.\n"
     ]
    },
    {
     "name": "stderr",
     "output_type": "stream",
     "text": [
      "[2024-02-28 22:18:31,560] - obspy.clients.fdsn.mass_downloader - INFO: Initializing FDSN client(s) for http://service.iris.edu.\n"
     ]
    },
    {
     "name": "stderr",
     "output_type": "stream",
     "text": [
      "[2024-02-28 22:18:31,560] - obspy.clients.fdsn.mass_downloader - INFO: Initializing FDSN client(s) for http://service.iris.edu.\n"
     ]
    },
    {
     "name": "stderr",
     "output_type": "stream",
     "text": [
      "[2024-02-28 22:18:31,560] - obspy.clients.fdsn.mass_downloader - INFO: Initializing FDSN client(s) for http://service.iris.edu.\n"
     ]
    },
    {
     "name": "stderr",
     "output_type": "stream",
     "text": [
      "[2024-02-28 22:18:31,560] - obspy.clients.fdsn.mass_downloader - INFO: Initializing FDSN client(s) for http://service.iris.edu.\n"
     ]
    },
    {
     "name": "stderr",
     "output_type": "stream",
     "text": [
      "[2024-02-28 22:18:31,565] - obspy.clients.fdsn.mass_downloader - INFO: Successfully initialized 1 client(s): http://service.iris.edu.\n"
     ]
    },
    {
     "name": "stderr",
     "output_type": "stream",
     "text": [
      "[2024-02-28 22:18:31,565] - obspy.clients.fdsn.mass_downloader - INFO: Successfully initialized 1 client(s): http://service.iris.edu.\n"
     ]
    },
    {
     "name": "stderr",
     "output_type": "stream",
     "text": [
      "[2024-02-28 22:18:31,565] - obspy.clients.fdsn.mass_downloader - INFO: Successfully initialized 1 client(s): http://service.iris.edu.\n"
     ]
    },
    {
     "name": "stderr",
     "output_type": "stream",
     "text": [
      "[2024-02-28 22:18:31,565] - obspy.clients.fdsn.mass_downloader - INFO: Successfully initialized 1 client(s): http://service.iris.edu.\n"
     ]
    },
    {
     "name": "stderr",
     "output_type": "stream",
     "text": [
      "[2024-02-28 22:18:31,565] - obspy.clients.fdsn.mass_downloader - INFO: Successfully initialized 1 client(s): http://service.iris.edu.\n"
     ]
    },
    {
     "name": "stderr",
     "output_type": "stream",
     "text": [
      "[2024-02-28 22:18:31,568] - obspy.clients.fdsn.mass_downloader - INFO: Total acquired or preexisting stations: 0\n"
     ]
    },
    {
     "name": "stderr",
     "output_type": "stream",
     "text": [
      "[2024-02-28 22:18:31,568] - obspy.clients.fdsn.mass_downloader - INFO: Total acquired or preexisting stations: 0\n"
     ]
    },
    {
     "name": "stderr",
     "output_type": "stream",
     "text": [
      "[2024-02-28 22:18:31,568] - obspy.clients.fdsn.mass_downloader - INFO: Total acquired or preexisting stations: 0\n"
     ]
    },
    {
     "name": "stderr",
     "output_type": "stream",
     "text": [
      "[2024-02-28 22:18:31,568] - obspy.clients.fdsn.mass_downloader - INFO: Total acquired or preexisting stations: 0\n"
     ]
    },
    {
     "name": "stderr",
     "output_type": "stream",
     "text": [
      "[2024-02-28 22:18:31,568] - obspy.clients.fdsn.mass_downloader - INFO: Total acquired or preexisting stations: 0\n"
     ]
    },
    {
     "name": "stderr",
     "output_type": "stream",
     "text": [
      "[2024-02-28 22:18:31,570] - obspy.clients.fdsn.mass_downloader - INFO: Client 'http://service.iris.edu' - Requesting reliable availability.\n"
     ]
    },
    {
     "name": "stderr",
     "output_type": "stream",
     "text": [
      "[2024-02-28 22:18:31,570] - obspy.clients.fdsn.mass_downloader - INFO: Client 'http://service.iris.edu' - Requesting reliable availability.\n"
     ]
    },
    {
     "name": "stderr",
     "output_type": "stream",
     "text": [
      "[2024-02-28 22:18:31,570] - obspy.clients.fdsn.mass_downloader - INFO: Client 'http://service.iris.edu' - Requesting reliable availability.\n"
     ]
    },
    {
     "name": "stderr",
     "output_type": "stream",
     "text": [
      "[2024-02-28 22:18:31,570] - obspy.clients.fdsn.mass_downloader - INFO: Client 'http://service.iris.edu' - Requesting reliable availability.\n"
     ]
    },
    {
     "name": "stderr",
     "output_type": "stream",
     "text": [
      "[2024-02-28 22:18:31,570] - obspy.clients.fdsn.mass_downloader - INFO: Client 'http://service.iris.edu' - Requesting reliable availability.\n"
     ]
    },
    {
     "name": "stderr",
     "output_type": "stream",
     "text": [
      "[2024-02-28 22:18:32,742] - obspy.clients.fdsn.mass_downloader - INFO: Client 'http://service.iris.edu' - Successfully requested availability (1.17 seconds)\n"
     ]
    },
    {
     "name": "stderr",
     "output_type": "stream",
     "text": [
      "[2024-02-28 22:18:32,742] - obspy.clients.fdsn.mass_downloader - INFO: Client 'http://service.iris.edu' - Successfully requested availability (1.17 seconds)\n"
     ]
    },
    {
     "name": "stderr",
     "output_type": "stream",
     "text": [
      "[2024-02-28 22:18:32,742] - obspy.clients.fdsn.mass_downloader - INFO: Client 'http://service.iris.edu' - Successfully requested availability (1.17 seconds)\n"
     ]
    },
    {
     "name": "stderr",
     "output_type": "stream",
     "text": [
      "[2024-02-28 22:18:32,742] - obspy.clients.fdsn.mass_downloader - INFO: Client 'http://service.iris.edu' - Successfully requested availability (1.17 seconds)\n"
     ]
    },
    {
     "name": "stderr",
     "output_type": "stream",
     "text": [
      "[2024-02-28 22:18:32,742] - obspy.clients.fdsn.mass_downloader - INFO: Client 'http://service.iris.edu' - Successfully requested availability (1.17 seconds)\n"
     ]
    },
    {
     "name": "stderr",
     "output_type": "stream",
     "text": [
      "[2024-02-28 22:18:32,774] - obspy.clients.fdsn.mass_downloader - INFO: Client 'http://service.iris.edu' - Found 19 stations (57 channels).\n"
     ]
    },
    {
     "name": "stderr",
     "output_type": "stream",
     "text": [
      "[2024-02-28 22:18:32,774] - obspy.clients.fdsn.mass_downloader - INFO: Client 'http://service.iris.edu' - Found 19 stations (57 channels).\n"
     ]
    },
    {
     "name": "stderr",
     "output_type": "stream",
     "text": [
      "[2024-02-28 22:18:32,774] - obspy.clients.fdsn.mass_downloader - INFO: Client 'http://service.iris.edu' - Found 19 stations (57 channels).\n"
     ]
    },
    {
     "name": "stderr",
     "output_type": "stream",
     "text": [
      "[2024-02-28 22:18:32,774] - obspy.clients.fdsn.mass_downloader - INFO: Client 'http://service.iris.edu' - Found 19 stations (57 channels).\n"
     ]
    },
    {
     "name": "stderr",
     "output_type": "stream",
     "text": [
      "[2024-02-28 22:18:32,774] - obspy.clients.fdsn.mass_downloader - INFO: Client 'http://service.iris.edu' - Found 19 stations (57 channels).\n"
     ]
    },
    {
     "name": "stderr",
     "output_type": "stream",
     "text": [
      "[2024-02-28 22:18:32,781] - obspy.clients.fdsn.mass_downloader - INFO: Client 'http://service.iris.edu' - Will attempt to download data from 19 stations.\n"
     ]
    },
    {
     "name": "stderr",
     "output_type": "stream",
     "text": [
      "[2024-02-28 22:18:32,781] - obspy.clients.fdsn.mass_downloader - INFO: Client 'http://service.iris.edu' - Will attempt to download data from 19 stations.\n"
     ]
    },
    {
     "name": "stderr",
     "output_type": "stream",
     "text": [
      "[2024-02-28 22:18:32,781] - obspy.clients.fdsn.mass_downloader - INFO: Client 'http://service.iris.edu' - Will attempt to download data from 19 stations.\n"
     ]
    },
    {
     "name": "stderr",
     "output_type": "stream",
     "text": [
      "[2024-02-28 22:18:32,781] - obspy.clients.fdsn.mass_downloader - INFO: Client 'http://service.iris.edu' - Will attempt to download data from 19 stations.\n"
     ]
    },
    {
     "name": "stderr",
     "output_type": "stream",
     "text": [
      "[2024-02-28 22:18:32,781] - obspy.clients.fdsn.mass_downloader - INFO: Client 'http://service.iris.edu' - Will attempt to download data from 19 stations.\n"
     ]
    },
    {
     "name": "stderr",
     "output_type": "stream",
     "text": [
      "[2024-02-28 22:18:32,786] - obspy.clients.fdsn.mass_downloader - INFO: Client 'http://service.iris.edu' - Status for 57 time intervals/channels before downloading: NEEDS_DOWNLOADING\n"
     ]
    },
    {
     "name": "stderr",
     "output_type": "stream",
     "text": [
      "[2024-02-28 22:18:32,786] - obspy.clients.fdsn.mass_downloader - INFO: Client 'http://service.iris.edu' - Status for 57 time intervals/channels before downloading: NEEDS_DOWNLOADING\n"
     ]
    },
    {
     "name": "stderr",
     "output_type": "stream",
     "text": [
      "[2024-02-28 22:18:32,786] - obspy.clients.fdsn.mass_downloader - INFO: Client 'http://service.iris.edu' - Status for 57 time intervals/channels before downloading: NEEDS_DOWNLOADING\n"
     ]
    },
    {
     "name": "stderr",
     "output_type": "stream",
     "text": [
      "[2024-02-28 22:18:32,786] - obspy.clients.fdsn.mass_downloader - INFO: Client 'http://service.iris.edu' - Status for 57 time intervals/channels before downloading: NEEDS_DOWNLOADING\n"
     ]
    },
    {
     "name": "stderr",
     "output_type": "stream",
     "text": [
      "[2024-02-28 22:18:32,786] - obspy.clients.fdsn.mass_downloader - INFO: Client 'http://service.iris.edu' - Status for 57 time intervals/channels before downloading: NEEDS_DOWNLOADING\n"
     ]
    },
    {
     "name": "stderr",
     "output_type": "stream",
     "text": [
      "[2024-02-28 22:18:33,501] - obspy.clients.fdsn.mass_downloader - INFO: Client 'http://service.iris.edu' - Successfully downloaded 7 channels (of 7)\n"
     ]
    },
    {
     "name": "stderr",
     "output_type": "stream",
     "text": [
      "[2024-02-28 22:18:33,501] - obspy.clients.fdsn.mass_downloader - INFO: Client 'http://service.iris.edu' - Successfully downloaded 7 channels (of 7)\n"
     ]
    },
    {
     "name": "stderr",
     "output_type": "stream",
     "text": [
      "[2024-02-28 22:18:33,501] - obspy.clients.fdsn.mass_downloader - INFO: Client 'http://service.iris.edu' - Successfully downloaded 7 channels (of 7)\n"
     ]
    },
    {
     "name": "stderr",
     "output_type": "stream",
     "text": [
      "[2024-02-28 22:18:33,501] - obspy.clients.fdsn.mass_downloader - INFO: Client 'http://service.iris.edu' - Successfully downloaded 7 channels (of 7)\n"
     ]
    },
    {
     "name": "stderr",
     "output_type": "stream",
     "text": [
      "[2024-02-28 22:18:33,501] - obspy.clients.fdsn.mass_downloader - INFO: Client 'http://service.iris.edu' - Successfully downloaded 7 channels (of 7)\n"
     ]
    },
    {
     "name": "stderr",
     "output_type": "stream",
     "text": [
      "[2024-02-28 22:18:33,951] - obspy.clients.fdsn.mass_downloader - INFO: Client 'http://service.iris.edu' - Successfully downloaded 44 channels (of 50)\n"
     ]
    },
    {
     "name": "stderr",
     "output_type": "stream",
     "text": [
      "[2024-02-28 22:18:33,951] - obspy.clients.fdsn.mass_downloader - INFO: Client 'http://service.iris.edu' - Successfully downloaded 44 channels (of 50)\n"
     ]
    },
    {
     "name": "stderr",
     "output_type": "stream",
     "text": [
      "[2024-02-28 22:18:33,951] - obspy.clients.fdsn.mass_downloader - INFO: Client 'http://service.iris.edu' - Successfully downloaded 44 channels (of 50)\n"
     ]
    },
    {
     "name": "stderr",
     "output_type": "stream",
     "text": [
      "[2024-02-28 22:18:33,951] - obspy.clients.fdsn.mass_downloader - INFO: Client 'http://service.iris.edu' - Successfully downloaded 44 channels (of 50)\n"
     ]
    },
    {
     "name": "stderr",
     "output_type": "stream",
     "text": [
      "[2024-02-28 22:18:33,951] - obspy.clients.fdsn.mass_downloader - INFO: Client 'http://service.iris.edu' - Successfully downloaded 44 channels (of 50)\n"
     ]
    },
    {
     "name": "stderr",
     "output_type": "stream",
     "text": [
      "[2024-02-28 22:18:33,954] - obspy.clients.fdsn.mass_downloader - INFO: Client 'http://service.iris.edu' - Launching basic QC checks...\n"
     ]
    },
    {
     "name": "stderr",
     "output_type": "stream",
     "text": [
      "[2024-02-28 22:18:33,954] - obspy.clients.fdsn.mass_downloader - INFO: Client 'http://service.iris.edu' - Launching basic QC checks...\n"
     ]
    },
    {
     "name": "stderr",
     "output_type": "stream",
     "text": [
      "[2024-02-28 22:18:33,954] - obspy.clients.fdsn.mass_downloader - INFO: Client 'http://service.iris.edu' - Launching basic QC checks...\n"
     ]
    },
    {
     "name": "stderr",
     "output_type": "stream",
     "text": [
      "[2024-02-28 22:18:33,954] - obspy.clients.fdsn.mass_downloader - INFO: Client 'http://service.iris.edu' - Launching basic QC checks...\n"
     ]
    },
    {
     "name": "stderr",
     "output_type": "stream",
     "text": [
      "[2024-02-28 22:18:33,954] - obspy.clients.fdsn.mass_downloader - INFO: Client 'http://service.iris.edu' - Launching basic QC checks...\n"
     ]
    },
    {
     "name": "stderr",
     "output_type": "stream",
     "text": [
      "[2024-02-28 22:18:33,994] - obspy.clients.fdsn.mass_downloader - INFO: Client 'http://service.iris.edu' - Downloaded 0.3 MB [279.72 KB/sec] of data, 0.0 MB of which were discarded afterwards.\n"
     ]
    },
    {
     "name": "stderr",
     "output_type": "stream",
     "text": [
      "[2024-02-28 22:18:33,994] - obspy.clients.fdsn.mass_downloader - INFO: Client 'http://service.iris.edu' - Downloaded 0.3 MB [279.72 KB/sec] of data, 0.0 MB of which were discarded afterwards.\n"
     ]
    },
    {
     "name": "stderr",
     "output_type": "stream",
     "text": [
      "[2024-02-28 22:18:33,994] - obspy.clients.fdsn.mass_downloader - INFO: Client 'http://service.iris.edu' - Downloaded 0.3 MB [279.72 KB/sec] of data, 0.0 MB of which were discarded afterwards.\n"
     ]
    },
    {
     "name": "stderr",
     "output_type": "stream",
     "text": [
      "[2024-02-28 22:18:33,994] - obspy.clients.fdsn.mass_downloader - INFO: Client 'http://service.iris.edu' - Downloaded 0.3 MB [279.72 KB/sec] of data, 0.0 MB of which were discarded afterwards.\n"
     ]
    },
    {
     "name": "stderr",
     "output_type": "stream",
     "text": [
      "[2024-02-28 22:18:33,994] - obspy.clients.fdsn.mass_downloader - INFO: Client 'http://service.iris.edu' - Downloaded 0.3 MB [279.72 KB/sec] of data, 0.0 MB of which were discarded afterwards.\n"
     ]
    },
    {
     "name": "stderr",
     "output_type": "stream",
     "text": [
      "[2024-02-28 22:18:33,996] - obspy.clients.fdsn.mass_downloader - INFO: Client 'http://service.iris.edu' - Status for 6 time intervals/channels after downloading: DOWNLOAD_FAILED\n"
     ]
    },
    {
     "name": "stderr",
     "output_type": "stream",
     "text": [
      "[2024-02-28 22:18:33,996] - obspy.clients.fdsn.mass_downloader - INFO: Client 'http://service.iris.edu' - Status for 6 time intervals/channels after downloading: DOWNLOAD_FAILED\n"
     ]
    },
    {
     "name": "stderr",
     "output_type": "stream",
     "text": [
      "[2024-02-28 22:18:33,996] - obspy.clients.fdsn.mass_downloader - INFO: Client 'http://service.iris.edu' - Status for 6 time intervals/channels after downloading: DOWNLOAD_FAILED\n"
     ]
    },
    {
     "name": "stderr",
     "output_type": "stream",
     "text": [
      "[2024-02-28 22:18:33,996] - obspy.clients.fdsn.mass_downloader - INFO: Client 'http://service.iris.edu' - Status for 6 time intervals/channels after downloading: DOWNLOAD_FAILED\n"
     ]
    },
    {
     "name": "stderr",
     "output_type": "stream",
     "text": [
      "[2024-02-28 22:18:33,996] - obspy.clients.fdsn.mass_downloader - INFO: Client 'http://service.iris.edu' - Status for 6 time intervals/channels after downloading: DOWNLOAD_FAILED\n"
     ]
    },
    {
     "name": "stderr",
     "output_type": "stream",
     "text": [
      "[2024-02-28 22:18:33,998] - obspy.clients.fdsn.mass_downloader - INFO: Client 'http://service.iris.edu' - Status for 51 time intervals/channels after downloading: DOWNLOADED\n"
     ]
    },
    {
     "name": "stderr",
     "output_type": "stream",
     "text": [
      "[2024-02-28 22:18:33,998] - obspy.clients.fdsn.mass_downloader - INFO: Client 'http://service.iris.edu' - Status for 51 time intervals/channels after downloading: DOWNLOADED\n"
     ]
    },
    {
     "name": "stderr",
     "output_type": "stream",
     "text": [
      "[2024-02-28 22:18:33,998] - obspy.clients.fdsn.mass_downloader - INFO: Client 'http://service.iris.edu' - Status for 51 time intervals/channels after downloading: DOWNLOADED\n"
     ]
    },
    {
     "name": "stderr",
     "output_type": "stream",
     "text": [
      "[2024-02-28 22:18:33,998] - obspy.clients.fdsn.mass_downloader - INFO: Client 'http://service.iris.edu' - Status for 51 time intervals/channels after downloading: DOWNLOADED\n"
     ]
    },
    {
     "name": "stderr",
     "output_type": "stream",
     "text": [
      "[2024-02-28 22:18:33,998] - obspy.clients.fdsn.mass_downloader - INFO: Client 'http://service.iris.edu' - Status for 51 time intervals/channels after downloading: DOWNLOADED\n"
     ]
    },
    {
     "name": "stderr",
     "output_type": "stream",
     "text": [
      "[2024-02-28 22:18:34,015] - obspy.clients.fdsn.mass_downloader - INFO: Client 'http://service.iris.edu' - No station information to download.\n"
     ]
    },
    {
     "name": "stderr",
     "output_type": "stream",
     "text": [
      "[2024-02-28 22:18:34,015] - obspy.clients.fdsn.mass_downloader - INFO: Client 'http://service.iris.edu' - No station information to download.\n"
     ]
    },
    {
     "name": "stderr",
     "output_type": "stream",
     "text": [
      "[2024-02-28 22:18:34,015] - obspy.clients.fdsn.mass_downloader - INFO: Client 'http://service.iris.edu' - No station information to download.\n"
     ]
    },
    {
     "name": "stderr",
     "output_type": "stream",
     "text": [
      "[2024-02-28 22:18:34,015] - obspy.clients.fdsn.mass_downloader - INFO: Client 'http://service.iris.edu' - No station information to download.\n"
     ]
    },
    {
     "name": "stderr",
     "output_type": "stream",
     "text": [
      "[2024-02-28 22:18:34,015] - obspy.clients.fdsn.mass_downloader - INFO: Client 'http://service.iris.edu' - No station information to download.\n"
     ]
    },
    {
     "name": "stderr",
     "output_type": "stream",
     "text": [
      "[2024-02-28 22:18:34,018] - obspy.clients.fdsn.mass_downloader - INFO: ============================== Final report\n"
     ]
    },
    {
     "name": "stderr",
     "output_type": "stream",
     "text": [
      "[2024-02-28 22:18:34,018] - obspy.clients.fdsn.mass_downloader - INFO: ============================== Final report\n"
     ]
    },
    {
     "name": "stderr",
     "output_type": "stream",
     "text": [
      "[2024-02-28 22:18:34,018] - obspy.clients.fdsn.mass_downloader - INFO: ============================== Final report\n"
     ]
    },
    {
     "name": "stderr",
     "output_type": "stream",
     "text": [
      "[2024-02-28 22:18:34,018] - obspy.clients.fdsn.mass_downloader - INFO: ============================== Final report\n"
     ]
    },
    {
     "name": "stderr",
     "output_type": "stream",
     "text": [
      "[2024-02-28 22:18:34,018] - obspy.clients.fdsn.mass_downloader - INFO: ============================== Final report\n"
     ]
    },
    {
     "name": "stderr",
     "output_type": "stream",
     "text": [
      "[2024-02-28 22:18:34,020] - obspy.clients.fdsn.mass_downloader - INFO: 0 MiniSEED files [0.0 MB] already existed.\n"
     ]
    },
    {
     "name": "stderr",
     "output_type": "stream",
     "text": [
      "[2024-02-28 22:18:34,020] - obspy.clients.fdsn.mass_downloader - INFO: 0 MiniSEED files [0.0 MB] already existed.\n"
     ]
    },
    {
     "name": "stderr",
     "output_type": "stream",
     "text": [
      "[2024-02-28 22:18:34,020] - obspy.clients.fdsn.mass_downloader - INFO: 0 MiniSEED files [0.0 MB] already existed.\n"
     ]
    },
    {
     "name": "stderr",
     "output_type": "stream",
     "text": [
      "[2024-02-28 22:18:34,020] - obspy.clients.fdsn.mass_downloader - INFO: 0 MiniSEED files [0.0 MB] already existed.\n"
     ]
    },
    {
     "name": "stderr",
     "output_type": "stream",
     "text": [
      "[2024-02-28 22:18:34,020] - obspy.clients.fdsn.mass_downloader - INFO: 0 MiniSEED files [0.0 MB] already existed.\n"
     ]
    },
    {
     "name": "stderr",
     "output_type": "stream",
     "text": [
      "[2024-02-28 22:18:34,023] - obspy.clients.fdsn.mass_downloader - INFO: 17 StationXML files [0.4 MB] already existed.\n"
     ]
    },
    {
     "name": "stderr",
     "output_type": "stream",
     "text": [
      "[2024-02-28 22:18:34,023] - obspy.clients.fdsn.mass_downloader - INFO: 17 StationXML files [0.4 MB] already existed.\n"
     ]
    },
    {
     "name": "stderr",
     "output_type": "stream",
     "text": [
      "[2024-02-28 22:18:34,023] - obspy.clients.fdsn.mass_downloader - INFO: 17 StationXML files [0.4 MB] already existed.\n"
     ]
    },
    {
     "name": "stderr",
     "output_type": "stream",
     "text": [
      "[2024-02-28 22:18:34,023] - obspy.clients.fdsn.mass_downloader - INFO: 17 StationXML files [0.4 MB] already existed.\n"
     ]
    },
    {
     "name": "stderr",
     "output_type": "stream",
     "text": [
      "[2024-02-28 22:18:34,023] - obspy.clients.fdsn.mass_downloader - INFO: 17 StationXML files [0.4 MB] already existed.\n"
     ]
    },
    {
     "name": "stderr",
     "output_type": "stream",
     "text": [
      "[2024-02-28 22:18:34,026] - obspy.clients.fdsn.mass_downloader - INFO: Client 'http://service.iris.edu' - Acquired 51 MiniSEED files [0.3 MB].\n"
     ]
    },
    {
     "name": "stderr",
     "output_type": "stream",
     "text": [
      "[2024-02-28 22:18:34,026] - obspy.clients.fdsn.mass_downloader - INFO: Client 'http://service.iris.edu' - Acquired 51 MiniSEED files [0.3 MB].\n"
     ]
    },
    {
     "name": "stderr",
     "output_type": "stream",
     "text": [
      "[2024-02-28 22:18:34,026] - obspy.clients.fdsn.mass_downloader - INFO: Client 'http://service.iris.edu' - Acquired 51 MiniSEED files [0.3 MB].\n"
     ]
    },
    {
     "name": "stderr",
     "output_type": "stream",
     "text": [
      "[2024-02-28 22:18:34,026] - obspy.clients.fdsn.mass_downloader - INFO: Client 'http://service.iris.edu' - Acquired 51 MiniSEED files [0.3 MB].\n"
     ]
    },
    {
     "name": "stderr",
     "output_type": "stream",
     "text": [
      "[2024-02-28 22:18:34,026] - obspy.clients.fdsn.mass_downloader - INFO: Client 'http://service.iris.edu' - Acquired 51 MiniSEED files [0.3 MB].\n"
     ]
    },
    {
     "name": "stderr",
     "output_type": "stream",
     "text": [
      "[2024-02-28 22:18:34,029] - obspy.clients.fdsn.mass_downloader - INFO: Client 'http://service.iris.edu' - Acquired 0 StationXML files [0.0 MB].\n"
     ]
    },
    {
     "name": "stderr",
     "output_type": "stream",
     "text": [
      "[2024-02-28 22:18:34,029] - obspy.clients.fdsn.mass_downloader - INFO: Client 'http://service.iris.edu' - Acquired 0 StationXML files [0.0 MB].\n"
     ]
    },
    {
     "name": "stderr",
     "output_type": "stream",
     "text": [
      "[2024-02-28 22:18:34,029] - obspy.clients.fdsn.mass_downloader - INFO: Client 'http://service.iris.edu' - Acquired 0 StationXML files [0.0 MB].\n"
     ]
    },
    {
     "name": "stderr",
     "output_type": "stream",
     "text": [
      "[2024-02-28 22:18:34,029] - obspy.clients.fdsn.mass_downloader - INFO: Client 'http://service.iris.edu' - Acquired 0 StationXML files [0.0 MB].\n"
     ]
    },
    {
     "name": "stderr",
     "output_type": "stream",
     "text": [
      "[2024-02-28 22:18:34,029] - obspy.clients.fdsn.mass_downloader - INFO: Client 'http://service.iris.edu' - Acquired 0 StationXML files [0.0 MB].\n"
     ]
    },
    {
     "name": "stderr",
     "output_type": "stream",
     "text": [
      "[2024-02-28 22:18:34,031] - obspy.clients.fdsn.mass_downloader - INFO: Downloaded 0.3 MB in total.\n"
     ]
    },
    {
     "name": "stderr",
     "output_type": "stream",
     "text": [
      "[2024-02-28 22:18:34,031] - obspy.clients.fdsn.mass_downloader - INFO: Downloaded 0.3 MB in total.\n"
     ]
    },
    {
     "name": "stderr",
     "output_type": "stream",
     "text": [
      "[2024-02-28 22:18:34,031] - obspy.clients.fdsn.mass_downloader - INFO: Downloaded 0.3 MB in total.\n"
     ]
    },
    {
     "name": "stderr",
     "output_type": "stream",
     "text": [
      "[2024-02-28 22:18:34,031] - obspy.clients.fdsn.mass_downloader - INFO: Downloaded 0.3 MB in total.\n"
     ]
    },
    {
     "name": "stderr",
     "output_type": "stream",
     "text": [
      "[2024-02-28 22:18:34,031] - obspy.clients.fdsn.mass_downloader - INFO: Downloaded 0.3 MB in total.\n"
     ]
    },
    {
     "name": "stderr",
     "output_type": "stream",
     "text": [
      "[2024-02-28 22:18:34,165] - obspy.clients.fdsn.mass_downloader - INFO: Initializing FDSN client(s) for http://service.iris.edu.\n"
     ]
    },
    {
     "name": "stderr",
     "output_type": "stream",
     "text": [
      "[2024-02-28 22:18:34,165] - obspy.clients.fdsn.mass_downloader - INFO: Initializing FDSN client(s) for http://service.iris.edu.\n"
     ]
    },
    {
     "name": "stderr",
     "output_type": "stream",
     "text": [
      "[2024-02-28 22:18:34,165] - obspy.clients.fdsn.mass_downloader - INFO: Initializing FDSN client(s) for http://service.iris.edu.\n"
     ]
    },
    {
     "name": "stderr",
     "output_type": "stream",
     "text": [
      "[2024-02-28 22:18:34,165] - obspy.clients.fdsn.mass_downloader - INFO: Initializing FDSN client(s) for http://service.iris.edu.\n"
     ]
    },
    {
     "name": "stderr",
     "output_type": "stream",
     "text": [
      "[2024-02-28 22:18:34,165] - obspy.clients.fdsn.mass_downloader - INFO: Initializing FDSN client(s) for http://service.iris.edu.\n"
     ]
    },
    {
     "name": "stderr",
     "output_type": "stream",
     "text": [
      "[2024-02-28 22:18:34,165] - obspy.clients.fdsn.mass_downloader - INFO: Initializing FDSN client(s) for http://service.iris.edu.\n"
     ]
    },
    {
     "name": "stderr",
     "output_type": "stream",
     "text": [
      "[2024-02-28 22:18:34,169] - obspy.clients.fdsn.mass_downloader - INFO: Successfully initialized 1 client(s): http://service.iris.edu.\n"
     ]
    },
    {
     "name": "stderr",
     "output_type": "stream",
     "text": [
      "[2024-02-28 22:18:34,169] - obspy.clients.fdsn.mass_downloader - INFO: Successfully initialized 1 client(s): http://service.iris.edu.\n"
     ]
    },
    {
     "name": "stderr",
     "output_type": "stream",
     "text": [
      "[2024-02-28 22:18:34,169] - obspy.clients.fdsn.mass_downloader - INFO: Successfully initialized 1 client(s): http://service.iris.edu.\n"
     ]
    },
    {
     "name": "stderr",
     "output_type": "stream",
     "text": [
      "[2024-02-28 22:18:34,169] - obspy.clients.fdsn.mass_downloader - INFO: Successfully initialized 1 client(s): http://service.iris.edu.\n"
     ]
    },
    {
     "name": "stderr",
     "output_type": "stream",
     "text": [
      "[2024-02-28 22:18:34,169] - obspy.clients.fdsn.mass_downloader - INFO: Successfully initialized 1 client(s): http://service.iris.edu.\n"
     ]
    },
    {
     "name": "stderr",
     "output_type": "stream",
     "text": [
      "[2024-02-28 22:18:34,169] - obspy.clients.fdsn.mass_downloader - INFO: Successfully initialized 1 client(s): http://service.iris.edu.\n"
     ]
    },
    {
     "name": "stderr",
     "output_type": "stream",
     "text": [
      "[2024-02-28 22:18:34,172] - obspy.clients.fdsn.mass_downloader - INFO: Total acquired or preexisting stations: 0\n"
     ]
    },
    {
     "name": "stderr",
     "output_type": "stream",
     "text": [
      "[2024-02-28 22:18:34,172] - obspy.clients.fdsn.mass_downloader - INFO: Total acquired or preexisting stations: 0\n"
     ]
    },
    {
     "name": "stderr",
     "output_type": "stream",
     "text": [
      "[2024-02-28 22:18:34,172] - obspy.clients.fdsn.mass_downloader - INFO: Total acquired or preexisting stations: 0\n"
     ]
    },
    {
     "name": "stderr",
     "output_type": "stream",
     "text": [
      "[2024-02-28 22:18:34,172] - obspy.clients.fdsn.mass_downloader - INFO: Total acquired or preexisting stations: 0\n"
     ]
    },
    {
     "name": "stderr",
     "output_type": "stream",
     "text": [
      "[2024-02-28 22:18:34,172] - obspy.clients.fdsn.mass_downloader - INFO: Total acquired or preexisting stations: 0\n"
     ]
    },
    {
     "name": "stderr",
     "output_type": "stream",
     "text": [
      "[2024-02-28 22:18:34,172] - obspy.clients.fdsn.mass_downloader - INFO: Total acquired or preexisting stations: 0\n"
     ]
    },
    {
     "name": "stderr",
     "output_type": "stream",
     "text": [
      "[2024-02-28 22:18:34,174] - obspy.clients.fdsn.mass_downloader - INFO: Client 'http://service.iris.edu' - Requesting reliable availability.\n"
     ]
    },
    {
     "name": "stderr",
     "output_type": "stream",
     "text": [
      "[2024-02-28 22:18:34,174] - obspy.clients.fdsn.mass_downloader - INFO: Client 'http://service.iris.edu' - Requesting reliable availability.\n"
     ]
    },
    {
     "name": "stderr",
     "output_type": "stream",
     "text": [
      "[2024-02-28 22:18:34,174] - obspy.clients.fdsn.mass_downloader - INFO: Client 'http://service.iris.edu' - Requesting reliable availability.\n"
     ]
    },
    {
     "name": "stderr",
     "output_type": "stream",
     "text": [
      "[2024-02-28 22:18:34,174] - obspy.clients.fdsn.mass_downloader - INFO: Client 'http://service.iris.edu' - Requesting reliable availability.\n"
     ]
    },
    {
     "name": "stderr",
     "output_type": "stream",
     "text": [
      "[2024-02-28 22:18:34,174] - obspy.clients.fdsn.mass_downloader - INFO: Client 'http://service.iris.edu' - Requesting reliable availability.\n"
     ]
    },
    {
     "name": "stderr",
     "output_type": "stream",
     "text": [
      "[2024-02-28 22:18:34,174] - obspy.clients.fdsn.mass_downloader - INFO: Client 'http://service.iris.edu' - Requesting reliable availability.\n"
     ]
    },
    {
     "name": "stderr",
     "output_type": "stream",
     "text": [
      "[2024-02-28 22:18:35,279] - obspy.clients.fdsn.mass_downloader - INFO: Client 'http://service.iris.edu' - Successfully requested availability (1.10 seconds)\n"
     ]
    },
    {
     "name": "stderr",
     "output_type": "stream",
     "text": [
      "[2024-02-28 22:18:35,279] - obspy.clients.fdsn.mass_downloader - INFO: Client 'http://service.iris.edu' - Successfully requested availability (1.10 seconds)\n"
     ]
    },
    {
     "name": "stderr",
     "output_type": "stream",
     "text": [
      "[2024-02-28 22:18:35,279] - obspy.clients.fdsn.mass_downloader - INFO: Client 'http://service.iris.edu' - Successfully requested availability (1.10 seconds)\n"
     ]
    },
    {
     "name": "stderr",
     "output_type": "stream",
     "text": [
      "[2024-02-28 22:18:35,279] - obspy.clients.fdsn.mass_downloader - INFO: Client 'http://service.iris.edu' - Successfully requested availability (1.10 seconds)\n"
     ]
    },
    {
     "name": "stderr",
     "output_type": "stream",
     "text": [
      "[2024-02-28 22:18:35,279] - obspy.clients.fdsn.mass_downloader - INFO: Client 'http://service.iris.edu' - Successfully requested availability (1.10 seconds)\n"
     ]
    },
    {
     "name": "stderr",
     "output_type": "stream",
     "text": [
      "[2024-02-28 22:18:35,279] - obspy.clients.fdsn.mass_downloader - INFO: Client 'http://service.iris.edu' - Successfully requested availability (1.10 seconds)\n"
     ]
    },
    {
     "name": "stderr",
     "output_type": "stream",
     "text": [
      "[2024-02-28 22:18:35,313] - obspy.clients.fdsn.mass_downloader - INFO: Client 'http://service.iris.edu' - Found 19 stations (57 channels).\n"
     ]
    },
    {
     "name": "stderr",
     "output_type": "stream",
     "text": [
      "[2024-02-28 22:18:35,313] - obspy.clients.fdsn.mass_downloader - INFO: Client 'http://service.iris.edu' - Found 19 stations (57 channels).\n"
     ]
    },
    {
     "name": "stderr",
     "output_type": "stream",
     "text": [
      "[2024-02-28 22:18:35,313] - obspy.clients.fdsn.mass_downloader - INFO: Client 'http://service.iris.edu' - Found 19 stations (57 channels).\n"
     ]
    },
    {
     "name": "stderr",
     "output_type": "stream",
     "text": [
      "[2024-02-28 22:18:35,313] - obspy.clients.fdsn.mass_downloader - INFO: Client 'http://service.iris.edu' - Found 19 stations (57 channels).\n"
     ]
    },
    {
     "name": "stderr",
     "output_type": "stream",
     "text": [
      "[2024-02-28 22:18:35,313] - obspy.clients.fdsn.mass_downloader - INFO: Client 'http://service.iris.edu' - Found 19 stations (57 channels).\n"
     ]
    },
    {
     "name": "stderr",
     "output_type": "stream",
     "text": [
      "[2024-02-28 22:18:35,313] - obspy.clients.fdsn.mass_downloader - INFO: Client 'http://service.iris.edu' - Found 19 stations (57 channels).\n"
     ]
    },
    {
     "name": "stderr",
     "output_type": "stream",
     "text": [
      "[2024-02-28 22:18:35,319] - obspy.clients.fdsn.mass_downloader - INFO: Client 'http://service.iris.edu' - Will attempt to download data from 19 stations.\n"
     ]
    },
    {
     "name": "stderr",
     "output_type": "stream",
     "text": [
      "[2024-02-28 22:18:35,319] - obspy.clients.fdsn.mass_downloader - INFO: Client 'http://service.iris.edu' - Will attempt to download data from 19 stations.\n"
     ]
    },
    {
     "name": "stderr",
     "output_type": "stream",
     "text": [
      "[2024-02-28 22:18:35,319] - obspy.clients.fdsn.mass_downloader - INFO: Client 'http://service.iris.edu' - Will attempt to download data from 19 stations.\n"
     ]
    },
    {
     "name": "stderr",
     "output_type": "stream",
     "text": [
      "[2024-02-28 22:18:35,319] - obspy.clients.fdsn.mass_downloader - INFO: Client 'http://service.iris.edu' - Will attempt to download data from 19 stations.\n"
     ]
    },
    {
     "name": "stderr",
     "output_type": "stream",
     "text": [
      "[2024-02-28 22:18:35,319] - obspy.clients.fdsn.mass_downloader - INFO: Client 'http://service.iris.edu' - Will attempt to download data from 19 stations.\n"
     ]
    },
    {
     "name": "stderr",
     "output_type": "stream",
     "text": [
      "[2024-02-28 22:18:35,319] - obspy.clients.fdsn.mass_downloader - INFO: Client 'http://service.iris.edu' - Will attempt to download data from 19 stations.\n"
     ]
    },
    {
     "name": "stderr",
     "output_type": "stream",
     "text": [
      "[2024-02-28 22:18:35,324] - obspy.clients.fdsn.mass_downloader - INFO: Client 'http://service.iris.edu' - Status for 57 time intervals/channels before downloading: NEEDS_DOWNLOADING\n"
     ]
    },
    {
     "name": "stderr",
     "output_type": "stream",
     "text": [
      "[2024-02-28 22:18:35,324] - obspy.clients.fdsn.mass_downloader - INFO: Client 'http://service.iris.edu' - Status for 57 time intervals/channels before downloading: NEEDS_DOWNLOADING\n"
     ]
    },
    {
     "name": "stderr",
     "output_type": "stream",
     "text": [
      "[2024-02-28 22:18:35,324] - obspy.clients.fdsn.mass_downloader - INFO: Client 'http://service.iris.edu' - Status for 57 time intervals/channels before downloading: NEEDS_DOWNLOADING\n"
     ]
    },
    {
     "name": "stderr",
     "output_type": "stream",
     "text": [
      "[2024-02-28 22:18:35,324] - obspy.clients.fdsn.mass_downloader - INFO: Client 'http://service.iris.edu' - Status for 57 time intervals/channels before downloading: NEEDS_DOWNLOADING\n"
     ]
    },
    {
     "name": "stderr",
     "output_type": "stream",
     "text": [
      "[2024-02-28 22:18:35,324] - obspy.clients.fdsn.mass_downloader - INFO: Client 'http://service.iris.edu' - Status for 57 time intervals/channels before downloading: NEEDS_DOWNLOADING\n"
     ]
    },
    {
     "name": "stderr",
     "output_type": "stream",
     "text": [
      "[2024-02-28 22:18:35,324] - obspy.clients.fdsn.mass_downloader - INFO: Client 'http://service.iris.edu' - Status for 57 time intervals/channels before downloading: NEEDS_DOWNLOADING\n"
     ]
    },
    {
     "name": "stderr",
     "output_type": "stream",
     "text": [
      "[2024-02-28 22:18:36,266] - obspy.clients.fdsn.mass_downloader - INFO: Client 'http://service.iris.edu' - Successfully downloaded 7 channels (of 7)\n"
     ]
    },
    {
     "name": "stderr",
     "output_type": "stream",
     "text": [
      "[2024-02-28 22:18:36,266] - obspy.clients.fdsn.mass_downloader - INFO: Client 'http://service.iris.edu' - Successfully downloaded 7 channels (of 7)\n"
     ]
    },
    {
     "name": "stderr",
     "output_type": "stream",
     "text": [
      "[2024-02-28 22:18:36,266] - obspy.clients.fdsn.mass_downloader - INFO: Client 'http://service.iris.edu' - Successfully downloaded 7 channels (of 7)\n"
     ]
    },
    {
     "name": "stderr",
     "output_type": "stream",
     "text": [
      "[2024-02-28 22:18:36,266] - obspy.clients.fdsn.mass_downloader - INFO: Client 'http://service.iris.edu' - Successfully downloaded 7 channels (of 7)\n"
     ]
    },
    {
     "name": "stderr",
     "output_type": "stream",
     "text": [
      "[2024-02-28 22:18:36,266] - obspy.clients.fdsn.mass_downloader - INFO: Client 'http://service.iris.edu' - Successfully downloaded 7 channels (of 7)\n"
     ]
    },
    {
     "name": "stderr",
     "output_type": "stream",
     "text": [
      "[2024-02-28 22:18:36,266] - obspy.clients.fdsn.mass_downloader - INFO: Client 'http://service.iris.edu' - Successfully downloaded 7 channels (of 7)\n"
     ]
    },
    {
     "name": "stderr",
     "output_type": "stream",
     "text": [
      "[2024-02-28 22:18:38,406] - obspy.clients.fdsn.mass_downloader - INFO: Client 'http://service.iris.edu' - Successfully downloaded 41 channels (of 50)\n"
     ]
    },
    {
     "name": "stderr",
     "output_type": "stream",
     "text": [
      "[2024-02-28 22:18:38,406] - obspy.clients.fdsn.mass_downloader - INFO: Client 'http://service.iris.edu' - Successfully downloaded 41 channels (of 50)\n"
     ]
    },
    {
     "name": "stderr",
     "output_type": "stream",
     "text": [
      "[2024-02-28 22:18:38,406] - obspy.clients.fdsn.mass_downloader - INFO: Client 'http://service.iris.edu' - Successfully downloaded 41 channels (of 50)\n"
     ]
    },
    {
     "name": "stderr",
     "output_type": "stream",
     "text": [
      "[2024-02-28 22:18:38,406] - obspy.clients.fdsn.mass_downloader - INFO: Client 'http://service.iris.edu' - Successfully downloaded 41 channels (of 50)\n"
     ]
    },
    {
     "name": "stderr",
     "output_type": "stream",
     "text": [
      "[2024-02-28 22:18:38,406] - obspy.clients.fdsn.mass_downloader - INFO: Client 'http://service.iris.edu' - Successfully downloaded 41 channels (of 50)\n"
     ]
    },
    {
     "name": "stderr",
     "output_type": "stream",
     "text": [
      "[2024-02-28 22:18:38,406] - obspy.clients.fdsn.mass_downloader - INFO: Client 'http://service.iris.edu' - Successfully downloaded 41 channels (of 50)\n"
     ]
    },
    {
     "name": "stderr",
     "output_type": "stream",
     "text": [
      "[2024-02-28 22:18:38,410] - obspy.clients.fdsn.mass_downloader - INFO: Client 'http://service.iris.edu' - Launching basic QC checks...\n"
     ]
    },
    {
     "name": "stderr",
     "output_type": "stream",
     "text": [
      "[2024-02-28 22:18:38,410] - obspy.clients.fdsn.mass_downloader - INFO: Client 'http://service.iris.edu' - Launching basic QC checks...\n"
     ]
    },
    {
     "name": "stderr",
     "output_type": "stream",
     "text": [
      "[2024-02-28 22:18:38,410] - obspy.clients.fdsn.mass_downloader - INFO: Client 'http://service.iris.edu' - Launching basic QC checks...\n"
     ]
    },
    {
     "name": "stderr",
     "output_type": "stream",
     "text": [
      "[2024-02-28 22:18:38,410] - obspy.clients.fdsn.mass_downloader - INFO: Client 'http://service.iris.edu' - Launching basic QC checks...\n"
     ]
    },
    {
     "name": "stderr",
     "output_type": "stream",
     "text": [
      "[2024-02-28 22:18:38,410] - obspy.clients.fdsn.mass_downloader - INFO: Client 'http://service.iris.edu' - Launching basic QC checks...\n"
     ]
    },
    {
     "name": "stderr",
     "output_type": "stream",
     "text": [
      "[2024-02-28 22:18:38,410] - obspy.clients.fdsn.mass_downloader - INFO: Client 'http://service.iris.edu' - Launching basic QC checks...\n"
     ]
    },
    {
     "name": "stderr",
     "output_type": "stream",
     "text": [
      "[2024-02-28 22:18:38,448] - obspy.clients.fdsn.mass_downloader - INFO: Client 'http://service.iris.edu' - Downloaded 0.3 MB [92.82 KB/sec] of data, 0.0 MB of which were discarded afterwards.\n"
     ]
    },
    {
     "name": "stderr",
     "output_type": "stream",
     "text": [
      "[2024-02-28 22:18:38,448] - obspy.clients.fdsn.mass_downloader - INFO: Client 'http://service.iris.edu' - Downloaded 0.3 MB [92.82 KB/sec] of data, 0.0 MB of which were discarded afterwards.\n"
     ]
    },
    {
     "name": "stderr",
     "output_type": "stream",
     "text": [
      "[2024-02-28 22:18:38,448] - obspy.clients.fdsn.mass_downloader - INFO: Client 'http://service.iris.edu' - Downloaded 0.3 MB [92.82 KB/sec] of data, 0.0 MB of which were discarded afterwards.\n"
     ]
    },
    {
     "name": "stderr",
     "output_type": "stream",
     "text": [
      "[2024-02-28 22:18:38,448] - obspy.clients.fdsn.mass_downloader - INFO: Client 'http://service.iris.edu' - Downloaded 0.3 MB [92.82 KB/sec] of data, 0.0 MB of which were discarded afterwards.\n"
     ]
    },
    {
     "name": "stderr",
     "output_type": "stream",
     "text": [
      "[2024-02-28 22:18:38,448] - obspy.clients.fdsn.mass_downloader - INFO: Client 'http://service.iris.edu' - Downloaded 0.3 MB [92.82 KB/sec] of data, 0.0 MB of which were discarded afterwards.\n"
     ]
    },
    {
     "name": "stderr",
     "output_type": "stream",
     "text": [
      "[2024-02-28 22:18:38,448] - obspy.clients.fdsn.mass_downloader - INFO: Client 'http://service.iris.edu' - Downloaded 0.3 MB [92.82 KB/sec] of data, 0.0 MB of which were discarded afterwards.\n"
     ]
    },
    {
     "name": "stderr",
     "output_type": "stream",
     "text": [
      "[2024-02-28 22:18:38,451] - obspy.clients.fdsn.mass_downloader - INFO: Client 'http://service.iris.edu' - Status for 9 time intervals/channels after downloading: DOWNLOAD_FAILED\n"
     ]
    },
    {
     "name": "stderr",
     "output_type": "stream",
     "text": [
      "[2024-02-28 22:18:38,451] - obspy.clients.fdsn.mass_downloader - INFO: Client 'http://service.iris.edu' - Status for 9 time intervals/channels after downloading: DOWNLOAD_FAILED\n"
     ]
    },
    {
     "name": "stderr",
     "output_type": "stream",
     "text": [
      "[2024-02-28 22:18:38,451] - obspy.clients.fdsn.mass_downloader - INFO: Client 'http://service.iris.edu' - Status for 9 time intervals/channels after downloading: DOWNLOAD_FAILED\n"
     ]
    },
    {
     "name": "stderr",
     "output_type": "stream",
     "text": [
      "[2024-02-28 22:18:38,451] - obspy.clients.fdsn.mass_downloader - INFO: Client 'http://service.iris.edu' - Status for 9 time intervals/channels after downloading: DOWNLOAD_FAILED\n"
     ]
    },
    {
     "name": "stderr",
     "output_type": "stream",
     "text": [
      "[2024-02-28 22:18:38,451] - obspy.clients.fdsn.mass_downloader - INFO: Client 'http://service.iris.edu' - Status for 9 time intervals/channels after downloading: DOWNLOAD_FAILED\n"
     ]
    },
    {
     "name": "stderr",
     "output_type": "stream",
     "text": [
      "[2024-02-28 22:18:38,451] - obspy.clients.fdsn.mass_downloader - INFO: Client 'http://service.iris.edu' - Status for 9 time intervals/channels after downloading: DOWNLOAD_FAILED\n"
     ]
    },
    {
     "name": "stderr",
     "output_type": "stream",
     "text": [
      "[2024-02-28 22:18:38,453] - obspy.clients.fdsn.mass_downloader - INFO: Client 'http://service.iris.edu' - Status for 48 time intervals/channels after downloading: DOWNLOADED\n"
     ]
    },
    {
     "name": "stderr",
     "output_type": "stream",
     "text": [
      "[2024-02-28 22:18:38,453] - obspy.clients.fdsn.mass_downloader - INFO: Client 'http://service.iris.edu' - Status for 48 time intervals/channels after downloading: DOWNLOADED\n"
     ]
    },
    {
     "name": "stderr",
     "output_type": "stream",
     "text": [
      "[2024-02-28 22:18:38,453] - obspy.clients.fdsn.mass_downloader - INFO: Client 'http://service.iris.edu' - Status for 48 time intervals/channels after downloading: DOWNLOADED\n"
     ]
    },
    {
     "name": "stderr",
     "output_type": "stream",
     "text": [
      "[2024-02-28 22:18:38,453] - obspy.clients.fdsn.mass_downloader - INFO: Client 'http://service.iris.edu' - Status for 48 time intervals/channels after downloading: DOWNLOADED\n"
     ]
    },
    {
     "name": "stderr",
     "output_type": "stream",
     "text": [
      "[2024-02-28 22:18:38,453] - obspy.clients.fdsn.mass_downloader - INFO: Client 'http://service.iris.edu' - Status for 48 time intervals/channels after downloading: DOWNLOADED\n"
     ]
    },
    {
     "name": "stderr",
     "output_type": "stream",
     "text": [
      "[2024-02-28 22:18:38,453] - obspy.clients.fdsn.mass_downloader - INFO: Client 'http://service.iris.edu' - Status for 48 time intervals/channels after downloading: DOWNLOADED\n"
     ]
    },
    {
     "name": "stderr",
     "output_type": "stream",
     "text": [
      "[2024-02-28 22:18:38,469] - obspy.clients.fdsn.mass_downloader - INFO: Client 'http://service.iris.edu' - No station information to download.\n"
     ]
    },
    {
     "name": "stderr",
     "output_type": "stream",
     "text": [
      "[2024-02-28 22:18:38,469] - obspy.clients.fdsn.mass_downloader - INFO: Client 'http://service.iris.edu' - No station information to download.\n"
     ]
    },
    {
     "name": "stderr",
     "output_type": "stream",
     "text": [
      "[2024-02-28 22:18:38,469] - obspy.clients.fdsn.mass_downloader - INFO: Client 'http://service.iris.edu' - No station information to download.\n"
     ]
    },
    {
     "name": "stderr",
     "output_type": "stream",
     "text": [
      "[2024-02-28 22:18:38,469] - obspy.clients.fdsn.mass_downloader - INFO: Client 'http://service.iris.edu' - No station information to download.\n"
     ]
    },
    {
     "name": "stderr",
     "output_type": "stream",
     "text": [
      "[2024-02-28 22:18:38,469] - obspy.clients.fdsn.mass_downloader - INFO: Client 'http://service.iris.edu' - No station information to download.\n"
     ]
    },
    {
     "name": "stderr",
     "output_type": "stream",
     "text": [
      "[2024-02-28 22:18:38,469] - obspy.clients.fdsn.mass_downloader - INFO: Client 'http://service.iris.edu' - No station information to download.\n"
     ]
    },
    {
     "name": "stderr",
     "output_type": "stream",
     "text": [
      "[2024-02-28 22:18:38,471] - obspy.clients.fdsn.mass_downloader - INFO: ============================== Final report\n"
     ]
    },
    {
     "name": "stderr",
     "output_type": "stream",
     "text": [
      "[2024-02-28 22:18:38,471] - obspy.clients.fdsn.mass_downloader - INFO: ============================== Final report\n"
     ]
    },
    {
     "name": "stderr",
     "output_type": "stream",
     "text": [
      "[2024-02-28 22:18:38,471] - obspy.clients.fdsn.mass_downloader - INFO: ============================== Final report\n"
     ]
    },
    {
     "name": "stderr",
     "output_type": "stream",
     "text": [
      "[2024-02-28 22:18:38,471] - obspy.clients.fdsn.mass_downloader - INFO: ============================== Final report\n"
     ]
    },
    {
     "name": "stderr",
     "output_type": "stream",
     "text": [
      "[2024-02-28 22:18:38,471] - obspy.clients.fdsn.mass_downloader - INFO: ============================== Final report\n"
     ]
    },
    {
     "name": "stderr",
     "output_type": "stream",
     "text": [
      "[2024-02-28 22:18:38,471] - obspy.clients.fdsn.mass_downloader - INFO: ============================== Final report\n"
     ]
    },
    {
     "name": "stderr",
     "output_type": "stream",
     "text": [
      "[2024-02-28 22:18:38,474] - obspy.clients.fdsn.mass_downloader - INFO: 0 MiniSEED files [0.0 MB] already existed.\n"
     ]
    },
    {
     "name": "stderr",
     "output_type": "stream",
     "text": [
      "[2024-02-28 22:18:38,474] - obspy.clients.fdsn.mass_downloader - INFO: 0 MiniSEED files [0.0 MB] already existed.\n"
     ]
    },
    {
     "name": "stderr",
     "output_type": "stream",
     "text": [
      "[2024-02-28 22:18:38,474] - obspy.clients.fdsn.mass_downloader - INFO: 0 MiniSEED files [0.0 MB] already existed.\n"
     ]
    },
    {
     "name": "stderr",
     "output_type": "stream",
     "text": [
      "[2024-02-28 22:18:38,474] - obspy.clients.fdsn.mass_downloader - INFO: 0 MiniSEED files [0.0 MB] already existed.\n"
     ]
    },
    {
     "name": "stderr",
     "output_type": "stream",
     "text": [
      "[2024-02-28 22:18:38,474] - obspy.clients.fdsn.mass_downloader - INFO: 0 MiniSEED files [0.0 MB] already existed.\n"
     ]
    },
    {
     "name": "stderr",
     "output_type": "stream",
     "text": [
      "[2024-02-28 22:18:38,474] - obspy.clients.fdsn.mass_downloader - INFO: 0 MiniSEED files [0.0 MB] already existed.\n"
     ]
    },
    {
     "name": "stderr",
     "output_type": "stream",
     "text": [
      "[2024-02-28 22:18:38,478] - obspy.clients.fdsn.mass_downloader - INFO: 16 StationXML files [0.4 MB] already existed.\n"
     ]
    },
    {
     "name": "stderr",
     "output_type": "stream",
     "text": [
      "[2024-02-28 22:18:38,478] - obspy.clients.fdsn.mass_downloader - INFO: 16 StationXML files [0.4 MB] already existed.\n"
     ]
    },
    {
     "name": "stderr",
     "output_type": "stream",
     "text": [
      "[2024-02-28 22:18:38,478] - obspy.clients.fdsn.mass_downloader - INFO: 16 StationXML files [0.4 MB] already existed.\n"
     ]
    },
    {
     "name": "stderr",
     "output_type": "stream",
     "text": [
      "[2024-02-28 22:18:38,478] - obspy.clients.fdsn.mass_downloader - INFO: 16 StationXML files [0.4 MB] already existed.\n"
     ]
    },
    {
     "name": "stderr",
     "output_type": "stream",
     "text": [
      "[2024-02-28 22:18:38,478] - obspy.clients.fdsn.mass_downloader - INFO: 16 StationXML files [0.4 MB] already existed.\n"
     ]
    },
    {
     "name": "stderr",
     "output_type": "stream",
     "text": [
      "[2024-02-28 22:18:38,478] - obspy.clients.fdsn.mass_downloader - INFO: 16 StationXML files [0.4 MB] already existed.\n"
     ]
    },
    {
     "name": "stderr",
     "output_type": "stream",
     "text": [
      "[2024-02-28 22:18:38,481] - obspy.clients.fdsn.mass_downloader - INFO: Client 'http://service.iris.edu' - Acquired 48 MiniSEED files [0.3 MB].\n"
     ]
    },
    {
     "name": "stderr",
     "output_type": "stream",
     "text": [
      "[2024-02-28 22:18:38,481] - obspy.clients.fdsn.mass_downloader - INFO: Client 'http://service.iris.edu' - Acquired 48 MiniSEED files [0.3 MB].\n"
     ]
    },
    {
     "name": "stderr",
     "output_type": "stream",
     "text": [
      "[2024-02-28 22:18:38,481] - obspy.clients.fdsn.mass_downloader - INFO: Client 'http://service.iris.edu' - Acquired 48 MiniSEED files [0.3 MB].\n"
     ]
    },
    {
     "name": "stderr",
     "output_type": "stream",
     "text": [
      "[2024-02-28 22:18:38,481] - obspy.clients.fdsn.mass_downloader - INFO: Client 'http://service.iris.edu' - Acquired 48 MiniSEED files [0.3 MB].\n"
     ]
    },
    {
     "name": "stderr",
     "output_type": "stream",
     "text": [
      "[2024-02-28 22:18:38,481] - obspy.clients.fdsn.mass_downloader - INFO: Client 'http://service.iris.edu' - Acquired 48 MiniSEED files [0.3 MB].\n"
     ]
    },
    {
     "name": "stderr",
     "output_type": "stream",
     "text": [
      "[2024-02-28 22:18:38,481] - obspy.clients.fdsn.mass_downloader - INFO: Client 'http://service.iris.edu' - Acquired 48 MiniSEED files [0.3 MB].\n"
     ]
    },
    {
     "name": "stderr",
     "output_type": "stream",
     "text": [
      "[2024-02-28 22:18:38,483] - obspy.clients.fdsn.mass_downloader - INFO: Client 'http://service.iris.edu' - Acquired 0 StationXML files [0.0 MB].\n"
     ]
    },
    {
     "name": "stderr",
     "output_type": "stream",
     "text": [
      "[2024-02-28 22:18:38,483] - obspy.clients.fdsn.mass_downloader - INFO: Client 'http://service.iris.edu' - Acquired 0 StationXML files [0.0 MB].\n"
     ]
    },
    {
     "name": "stderr",
     "output_type": "stream",
     "text": [
      "[2024-02-28 22:18:38,483] - obspy.clients.fdsn.mass_downloader - INFO: Client 'http://service.iris.edu' - Acquired 0 StationXML files [0.0 MB].\n"
     ]
    },
    {
     "name": "stderr",
     "output_type": "stream",
     "text": [
      "[2024-02-28 22:18:38,483] - obspy.clients.fdsn.mass_downloader - INFO: Client 'http://service.iris.edu' - Acquired 0 StationXML files [0.0 MB].\n"
     ]
    },
    {
     "name": "stderr",
     "output_type": "stream",
     "text": [
      "[2024-02-28 22:18:38,483] - obspy.clients.fdsn.mass_downloader - INFO: Client 'http://service.iris.edu' - Acquired 0 StationXML files [0.0 MB].\n"
     ]
    },
    {
     "name": "stderr",
     "output_type": "stream",
     "text": [
      "[2024-02-28 22:18:38,483] - obspy.clients.fdsn.mass_downloader - INFO: Client 'http://service.iris.edu' - Acquired 0 StationXML files [0.0 MB].\n"
     ]
    },
    {
     "name": "stderr",
     "output_type": "stream",
     "text": [
      "[2024-02-28 22:18:38,485] - obspy.clients.fdsn.mass_downloader - INFO: Downloaded 0.3 MB in total.\n"
     ]
    },
    {
     "name": "stderr",
     "output_type": "stream",
     "text": [
      "[2024-02-28 22:18:38,485] - obspy.clients.fdsn.mass_downloader - INFO: Downloaded 0.3 MB in total.\n"
     ]
    },
    {
     "name": "stderr",
     "output_type": "stream",
     "text": [
      "[2024-02-28 22:18:38,485] - obspy.clients.fdsn.mass_downloader - INFO: Downloaded 0.3 MB in total.\n"
     ]
    },
    {
     "name": "stderr",
     "output_type": "stream",
     "text": [
      "[2024-02-28 22:18:38,485] - obspy.clients.fdsn.mass_downloader - INFO: Downloaded 0.3 MB in total.\n"
     ]
    },
    {
     "name": "stderr",
     "output_type": "stream",
     "text": [
      "[2024-02-28 22:18:38,485] - obspy.clients.fdsn.mass_downloader - INFO: Downloaded 0.3 MB in total.\n"
     ]
    },
    {
     "name": "stderr",
     "output_type": "stream",
     "text": [
      "[2024-02-28 22:18:38,485] - obspy.clients.fdsn.mass_downloader - INFO: Downloaded 0.3 MB in total.\n"
     ]
    },
    {
     "name": "stderr",
     "output_type": "stream",
     "text": [
      "[2024-02-28 22:18:38,622] - obspy.clients.fdsn.mass_downloader - INFO: Initializing FDSN client(s) for http://service.iris.edu.\n"
     ]
    },
    {
     "name": "stderr",
     "output_type": "stream",
     "text": [
      "[2024-02-28 22:18:38,622] - obspy.clients.fdsn.mass_downloader - INFO: Initializing FDSN client(s) for http://service.iris.edu.\n"
     ]
    },
    {
     "name": "stderr",
     "output_type": "stream",
     "text": [
      "[2024-02-28 22:18:38,622] - obspy.clients.fdsn.mass_downloader - INFO: Initializing FDSN client(s) for http://service.iris.edu.\n"
     ]
    },
    {
     "name": "stderr",
     "output_type": "stream",
     "text": [
      "[2024-02-28 22:18:38,622] - obspy.clients.fdsn.mass_downloader - INFO: Initializing FDSN client(s) for http://service.iris.edu.\n"
     ]
    },
    {
     "name": "stderr",
     "output_type": "stream",
     "text": [
      "[2024-02-28 22:18:38,622] - obspy.clients.fdsn.mass_downloader - INFO: Initializing FDSN client(s) for http://service.iris.edu.\n"
     ]
    },
    {
     "name": "stderr",
     "output_type": "stream",
     "text": [
      "[2024-02-28 22:18:38,622] - obspy.clients.fdsn.mass_downloader - INFO: Initializing FDSN client(s) for http://service.iris.edu.\n"
     ]
    },
    {
     "name": "stderr",
     "output_type": "stream",
     "text": [
      "[2024-02-28 22:18:38,622] - obspy.clients.fdsn.mass_downloader - INFO: Initializing FDSN client(s) for http://service.iris.edu.\n"
     ]
    },
    {
     "name": "stderr",
     "output_type": "stream",
     "text": [
      "[2024-02-28 22:18:38,627] - obspy.clients.fdsn.mass_downloader - INFO: Successfully initialized 1 client(s): http://service.iris.edu.\n"
     ]
    },
    {
     "name": "stderr",
     "output_type": "stream",
     "text": [
      "[2024-02-28 22:18:38,627] - obspy.clients.fdsn.mass_downloader - INFO: Successfully initialized 1 client(s): http://service.iris.edu.\n"
     ]
    },
    {
     "name": "stderr",
     "output_type": "stream",
     "text": [
      "[2024-02-28 22:18:38,627] - obspy.clients.fdsn.mass_downloader - INFO: Successfully initialized 1 client(s): http://service.iris.edu.\n"
     ]
    },
    {
     "name": "stderr",
     "output_type": "stream",
     "text": [
      "[2024-02-28 22:18:38,627] - obspy.clients.fdsn.mass_downloader - INFO: Successfully initialized 1 client(s): http://service.iris.edu.\n"
     ]
    },
    {
     "name": "stderr",
     "output_type": "stream",
     "text": [
      "[2024-02-28 22:18:38,627] - obspy.clients.fdsn.mass_downloader - INFO: Successfully initialized 1 client(s): http://service.iris.edu.\n"
     ]
    },
    {
     "name": "stderr",
     "output_type": "stream",
     "text": [
      "[2024-02-28 22:18:38,627] - obspy.clients.fdsn.mass_downloader - INFO: Successfully initialized 1 client(s): http://service.iris.edu.\n"
     ]
    },
    {
     "name": "stderr",
     "output_type": "stream",
     "text": [
      "[2024-02-28 22:18:38,627] - obspy.clients.fdsn.mass_downloader - INFO: Successfully initialized 1 client(s): http://service.iris.edu.\n"
     ]
    },
    {
     "name": "stderr",
     "output_type": "stream",
     "text": [
      "[2024-02-28 22:18:38,630] - obspy.clients.fdsn.mass_downloader - INFO: Total acquired or preexisting stations: 0\n"
     ]
    },
    {
     "name": "stderr",
     "output_type": "stream",
     "text": [
      "[2024-02-28 22:18:38,630] - obspy.clients.fdsn.mass_downloader - INFO: Total acquired or preexisting stations: 0\n"
     ]
    },
    {
     "name": "stderr",
     "output_type": "stream",
     "text": [
      "[2024-02-28 22:18:38,630] - obspy.clients.fdsn.mass_downloader - INFO: Total acquired or preexisting stations: 0\n"
     ]
    },
    {
     "name": "stderr",
     "output_type": "stream",
     "text": [
      "[2024-02-28 22:18:38,630] - obspy.clients.fdsn.mass_downloader - INFO: Total acquired or preexisting stations: 0\n"
     ]
    },
    {
     "name": "stderr",
     "output_type": "stream",
     "text": [
      "[2024-02-28 22:18:38,630] - obspy.clients.fdsn.mass_downloader - INFO: Total acquired or preexisting stations: 0\n"
     ]
    },
    {
     "name": "stderr",
     "output_type": "stream",
     "text": [
      "[2024-02-28 22:18:38,630] - obspy.clients.fdsn.mass_downloader - INFO: Total acquired or preexisting stations: 0\n"
     ]
    },
    {
     "name": "stderr",
     "output_type": "stream",
     "text": [
      "[2024-02-28 22:18:38,630] - obspy.clients.fdsn.mass_downloader - INFO: Total acquired or preexisting stations: 0\n"
     ]
    },
    {
     "name": "stderr",
     "output_type": "stream",
     "text": [
      "[2024-02-28 22:18:38,633] - obspy.clients.fdsn.mass_downloader - INFO: Client 'http://service.iris.edu' - Requesting reliable availability.\n"
     ]
    },
    {
     "name": "stderr",
     "output_type": "stream",
     "text": [
      "[2024-02-28 22:18:38,633] - obspy.clients.fdsn.mass_downloader - INFO: Client 'http://service.iris.edu' - Requesting reliable availability.\n"
     ]
    },
    {
     "name": "stderr",
     "output_type": "stream",
     "text": [
      "[2024-02-28 22:18:38,633] - obspy.clients.fdsn.mass_downloader - INFO: Client 'http://service.iris.edu' - Requesting reliable availability.\n"
     ]
    },
    {
     "name": "stderr",
     "output_type": "stream",
     "text": [
      "[2024-02-28 22:18:38,633] - obspy.clients.fdsn.mass_downloader - INFO: Client 'http://service.iris.edu' - Requesting reliable availability.\n"
     ]
    },
    {
     "name": "stderr",
     "output_type": "stream",
     "text": [
      "[2024-02-28 22:18:38,633] - obspy.clients.fdsn.mass_downloader - INFO: Client 'http://service.iris.edu' - Requesting reliable availability.\n"
     ]
    },
    {
     "name": "stderr",
     "output_type": "stream",
     "text": [
      "[2024-02-28 22:18:38,633] - obspy.clients.fdsn.mass_downloader - INFO: Client 'http://service.iris.edu' - Requesting reliable availability.\n"
     ]
    },
    {
     "name": "stderr",
     "output_type": "stream",
     "text": [
      "[2024-02-28 22:18:38,633] - obspy.clients.fdsn.mass_downloader - INFO: Client 'http://service.iris.edu' - Requesting reliable availability.\n"
     ]
    },
    {
     "name": "stderr",
     "output_type": "stream",
     "text": [
      "[2024-02-28 22:18:39,724] - obspy.clients.fdsn.mass_downloader - INFO: Client 'http://service.iris.edu' - Successfully requested availability (1.09 seconds)\n"
     ]
    },
    {
     "name": "stderr",
     "output_type": "stream",
     "text": [
      "[2024-02-28 22:18:39,724] - obspy.clients.fdsn.mass_downloader - INFO: Client 'http://service.iris.edu' - Successfully requested availability (1.09 seconds)\n"
     ]
    },
    {
     "name": "stderr",
     "output_type": "stream",
     "text": [
      "[2024-02-28 22:18:39,724] - obspy.clients.fdsn.mass_downloader - INFO: Client 'http://service.iris.edu' - Successfully requested availability (1.09 seconds)\n"
     ]
    },
    {
     "name": "stderr",
     "output_type": "stream",
     "text": [
      "[2024-02-28 22:18:39,724] - obspy.clients.fdsn.mass_downloader - INFO: Client 'http://service.iris.edu' - Successfully requested availability (1.09 seconds)\n"
     ]
    },
    {
     "name": "stderr",
     "output_type": "stream",
     "text": [
      "[2024-02-28 22:18:39,724] - obspy.clients.fdsn.mass_downloader - INFO: Client 'http://service.iris.edu' - Successfully requested availability (1.09 seconds)\n"
     ]
    },
    {
     "name": "stderr",
     "output_type": "stream",
     "text": [
      "[2024-02-28 22:18:39,724] - obspy.clients.fdsn.mass_downloader - INFO: Client 'http://service.iris.edu' - Successfully requested availability (1.09 seconds)\n"
     ]
    },
    {
     "name": "stderr",
     "output_type": "stream",
     "text": [
      "[2024-02-28 22:18:39,724] - obspy.clients.fdsn.mass_downloader - INFO: Client 'http://service.iris.edu' - Successfully requested availability (1.09 seconds)\n"
     ]
    },
    {
     "name": "stderr",
     "output_type": "stream",
     "text": [
      "[2024-02-28 22:18:39,759] - obspy.clients.fdsn.mass_downloader - INFO: Client 'http://service.iris.edu' - Found 19 stations (57 channels).\n"
     ]
    },
    {
     "name": "stderr",
     "output_type": "stream",
     "text": [
      "[2024-02-28 22:18:39,759] - obspy.clients.fdsn.mass_downloader - INFO: Client 'http://service.iris.edu' - Found 19 stations (57 channels).\n"
     ]
    },
    {
     "name": "stderr",
     "output_type": "stream",
     "text": [
      "[2024-02-28 22:18:39,759] - obspy.clients.fdsn.mass_downloader - INFO: Client 'http://service.iris.edu' - Found 19 stations (57 channels).\n"
     ]
    },
    {
     "name": "stderr",
     "output_type": "stream",
     "text": [
      "[2024-02-28 22:18:39,759] - obspy.clients.fdsn.mass_downloader - INFO: Client 'http://service.iris.edu' - Found 19 stations (57 channels).\n"
     ]
    },
    {
     "name": "stderr",
     "output_type": "stream",
     "text": [
      "[2024-02-28 22:18:39,759] - obspy.clients.fdsn.mass_downloader - INFO: Client 'http://service.iris.edu' - Found 19 stations (57 channels).\n"
     ]
    },
    {
     "name": "stderr",
     "output_type": "stream",
     "text": [
      "[2024-02-28 22:18:39,759] - obspy.clients.fdsn.mass_downloader - INFO: Client 'http://service.iris.edu' - Found 19 stations (57 channels).\n"
     ]
    },
    {
     "name": "stderr",
     "output_type": "stream",
     "text": [
      "[2024-02-28 22:18:39,759] - obspy.clients.fdsn.mass_downloader - INFO: Client 'http://service.iris.edu' - Found 19 stations (57 channels).\n"
     ]
    },
    {
     "name": "stderr",
     "output_type": "stream",
     "text": [
      "[2024-02-28 22:18:39,765] - obspy.clients.fdsn.mass_downloader - INFO: Client 'http://service.iris.edu' - Will attempt to download data from 19 stations.\n"
     ]
    },
    {
     "name": "stderr",
     "output_type": "stream",
     "text": [
      "[2024-02-28 22:18:39,765] - obspy.clients.fdsn.mass_downloader - INFO: Client 'http://service.iris.edu' - Will attempt to download data from 19 stations.\n"
     ]
    },
    {
     "name": "stderr",
     "output_type": "stream",
     "text": [
      "[2024-02-28 22:18:39,765] - obspy.clients.fdsn.mass_downloader - INFO: Client 'http://service.iris.edu' - Will attempt to download data from 19 stations.\n"
     ]
    },
    {
     "name": "stderr",
     "output_type": "stream",
     "text": [
      "[2024-02-28 22:18:39,765] - obspy.clients.fdsn.mass_downloader - INFO: Client 'http://service.iris.edu' - Will attempt to download data from 19 stations.\n"
     ]
    },
    {
     "name": "stderr",
     "output_type": "stream",
     "text": [
      "[2024-02-28 22:18:39,765] - obspy.clients.fdsn.mass_downloader - INFO: Client 'http://service.iris.edu' - Will attempt to download data from 19 stations.\n"
     ]
    },
    {
     "name": "stderr",
     "output_type": "stream",
     "text": [
      "[2024-02-28 22:18:39,765] - obspy.clients.fdsn.mass_downloader - INFO: Client 'http://service.iris.edu' - Will attempt to download data from 19 stations.\n"
     ]
    },
    {
     "name": "stderr",
     "output_type": "stream",
     "text": [
      "[2024-02-28 22:18:39,765] - obspy.clients.fdsn.mass_downloader - INFO: Client 'http://service.iris.edu' - Will attempt to download data from 19 stations.\n"
     ]
    },
    {
     "name": "stderr",
     "output_type": "stream",
     "text": [
      "[2024-02-28 22:18:39,771] - obspy.clients.fdsn.mass_downloader - INFO: Client 'http://service.iris.edu' - Status for 57 time intervals/channels before downloading: NEEDS_DOWNLOADING\n"
     ]
    },
    {
     "name": "stderr",
     "output_type": "stream",
     "text": [
      "[2024-02-28 22:18:39,771] - obspy.clients.fdsn.mass_downloader - INFO: Client 'http://service.iris.edu' - Status for 57 time intervals/channels before downloading: NEEDS_DOWNLOADING\n"
     ]
    },
    {
     "name": "stderr",
     "output_type": "stream",
     "text": [
      "[2024-02-28 22:18:39,771] - obspy.clients.fdsn.mass_downloader - INFO: Client 'http://service.iris.edu' - Status for 57 time intervals/channels before downloading: NEEDS_DOWNLOADING\n"
     ]
    },
    {
     "name": "stderr",
     "output_type": "stream",
     "text": [
      "[2024-02-28 22:18:39,771] - obspy.clients.fdsn.mass_downloader - INFO: Client 'http://service.iris.edu' - Status for 57 time intervals/channels before downloading: NEEDS_DOWNLOADING\n"
     ]
    },
    {
     "name": "stderr",
     "output_type": "stream",
     "text": [
      "[2024-02-28 22:18:39,771] - obspy.clients.fdsn.mass_downloader - INFO: Client 'http://service.iris.edu' - Status for 57 time intervals/channels before downloading: NEEDS_DOWNLOADING\n"
     ]
    },
    {
     "name": "stderr",
     "output_type": "stream",
     "text": [
      "[2024-02-28 22:18:39,771] - obspy.clients.fdsn.mass_downloader - INFO: Client 'http://service.iris.edu' - Status for 57 time intervals/channels before downloading: NEEDS_DOWNLOADING\n"
     ]
    },
    {
     "name": "stderr",
     "output_type": "stream",
     "text": [
      "[2024-02-28 22:18:39,771] - obspy.clients.fdsn.mass_downloader - INFO: Client 'http://service.iris.edu' - Status for 57 time intervals/channels before downloading: NEEDS_DOWNLOADING\n"
     ]
    },
    {
     "name": "stderr",
     "output_type": "stream",
     "text": [
      "[2024-02-28 22:18:40,253] - obspy.clients.fdsn.mass_downloader - INFO: Client 'http://service.iris.edu' - Successfully downloaded 7 channels (of 7)\n"
     ]
    },
    {
     "name": "stderr",
     "output_type": "stream",
     "text": [
      "[2024-02-28 22:18:40,253] - obspy.clients.fdsn.mass_downloader - INFO: Client 'http://service.iris.edu' - Successfully downloaded 7 channels (of 7)\n"
     ]
    },
    {
     "name": "stderr",
     "output_type": "stream",
     "text": [
      "[2024-02-28 22:18:40,253] - obspy.clients.fdsn.mass_downloader - INFO: Client 'http://service.iris.edu' - Successfully downloaded 7 channels (of 7)\n"
     ]
    },
    {
     "name": "stderr",
     "output_type": "stream",
     "text": [
      "[2024-02-28 22:18:40,253] - obspy.clients.fdsn.mass_downloader - INFO: Client 'http://service.iris.edu' - Successfully downloaded 7 channels (of 7)\n"
     ]
    },
    {
     "name": "stderr",
     "output_type": "stream",
     "text": [
      "[2024-02-28 22:18:40,253] - obspy.clients.fdsn.mass_downloader - INFO: Client 'http://service.iris.edu' - Successfully downloaded 7 channels (of 7)\n"
     ]
    },
    {
     "name": "stderr",
     "output_type": "stream",
     "text": [
      "[2024-02-28 22:18:40,253] - obspy.clients.fdsn.mass_downloader - INFO: Client 'http://service.iris.edu' - Successfully downloaded 7 channels (of 7)\n"
     ]
    },
    {
     "name": "stderr",
     "output_type": "stream",
     "text": [
      "[2024-02-28 22:18:40,253] - obspy.clients.fdsn.mass_downloader - INFO: Client 'http://service.iris.edu' - Successfully downloaded 7 channels (of 7)\n"
     ]
    },
    {
     "name": "stderr",
     "output_type": "stream",
     "text": [
      "[2024-02-28 22:18:40,900] - obspy.clients.fdsn.mass_downloader - INFO: Client 'http://service.iris.edu' - Successfully downloaded 44 channels (of 50)\n"
     ]
    },
    {
     "name": "stderr",
     "output_type": "stream",
     "text": [
      "[2024-02-28 22:18:40,900] - obspy.clients.fdsn.mass_downloader - INFO: Client 'http://service.iris.edu' - Successfully downloaded 44 channels (of 50)\n"
     ]
    },
    {
     "name": "stderr",
     "output_type": "stream",
     "text": [
      "[2024-02-28 22:18:40,900] - obspy.clients.fdsn.mass_downloader - INFO: Client 'http://service.iris.edu' - Successfully downloaded 44 channels (of 50)\n"
     ]
    },
    {
     "name": "stderr",
     "output_type": "stream",
     "text": [
      "[2024-02-28 22:18:40,900] - obspy.clients.fdsn.mass_downloader - INFO: Client 'http://service.iris.edu' - Successfully downloaded 44 channels (of 50)\n"
     ]
    },
    {
     "name": "stderr",
     "output_type": "stream",
     "text": [
      "[2024-02-28 22:18:40,900] - obspy.clients.fdsn.mass_downloader - INFO: Client 'http://service.iris.edu' - Successfully downloaded 44 channels (of 50)\n"
     ]
    },
    {
     "name": "stderr",
     "output_type": "stream",
     "text": [
      "[2024-02-28 22:18:40,900] - obspy.clients.fdsn.mass_downloader - INFO: Client 'http://service.iris.edu' - Successfully downloaded 44 channels (of 50)\n"
     ]
    },
    {
     "name": "stderr",
     "output_type": "stream",
     "text": [
      "[2024-02-28 22:18:40,900] - obspy.clients.fdsn.mass_downloader - INFO: Client 'http://service.iris.edu' - Successfully downloaded 44 channels (of 50)\n"
     ]
    },
    {
     "name": "stderr",
     "output_type": "stream",
     "text": [
      "[2024-02-28 22:18:40,903] - obspy.clients.fdsn.mass_downloader - INFO: Client 'http://service.iris.edu' - Launching basic QC checks...\n"
     ]
    },
    {
     "name": "stderr",
     "output_type": "stream",
     "text": [
      "[2024-02-28 22:18:40,903] - obspy.clients.fdsn.mass_downloader - INFO: Client 'http://service.iris.edu' - Launching basic QC checks...\n"
     ]
    },
    {
     "name": "stderr",
     "output_type": "stream",
     "text": [
      "[2024-02-28 22:18:40,903] - obspy.clients.fdsn.mass_downloader - INFO: Client 'http://service.iris.edu' - Launching basic QC checks...\n"
     ]
    },
    {
     "name": "stderr",
     "output_type": "stream",
     "text": [
      "[2024-02-28 22:18:40,903] - obspy.clients.fdsn.mass_downloader - INFO: Client 'http://service.iris.edu' - Launching basic QC checks...\n"
     ]
    },
    {
     "name": "stderr",
     "output_type": "stream",
     "text": [
      "[2024-02-28 22:18:40,903] - obspy.clients.fdsn.mass_downloader - INFO: Client 'http://service.iris.edu' - Launching basic QC checks...\n"
     ]
    },
    {
     "name": "stderr",
     "output_type": "stream",
     "text": [
      "[2024-02-28 22:18:40,903] - obspy.clients.fdsn.mass_downloader - INFO: Client 'http://service.iris.edu' - Launching basic QC checks...\n"
     ]
    },
    {
     "name": "stderr",
     "output_type": "stream",
     "text": [
      "[2024-02-28 22:18:40,903] - obspy.clients.fdsn.mass_downloader - INFO: Client 'http://service.iris.edu' - Launching basic QC checks...\n"
     ]
    },
    {
     "name": "stderr",
     "output_type": "stream",
     "text": [
      "[2024-02-28 22:18:40,945] - obspy.clients.fdsn.mass_downloader - INFO: Client 'http://service.iris.edu' - Downloaded 0.3 MB [284.31 KB/sec] of data, 0.0 MB of which were discarded afterwards.\n"
     ]
    },
    {
     "name": "stderr",
     "output_type": "stream",
     "text": [
      "[2024-02-28 22:18:40,945] - obspy.clients.fdsn.mass_downloader - INFO: Client 'http://service.iris.edu' - Downloaded 0.3 MB [284.31 KB/sec] of data, 0.0 MB of which were discarded afterwards.\n"
     ]
    },
    {
     "name": "stderr",
     "output_type": "stream",
     "text": [
      "[2024-02-28 22:18:40,945] - obspy.clients.fdsn.mass_downloader - INFO: Client 'http://service.iris.edu' - Downloaded 0.3 MB [284.31 KB/sec] of data, 0.0 MB of which were discarded afterwards.\n"
     ]
    },
    {
     "name": "stderr",
     "output_type": "stream",
     "text": [
      "[2024-02-28 22:18:40,945] - obspy.clients.fdsn.mass_downloader - INFO: Client 'http://service.iris.edu' - Downloaded 0.3 MB [284.31 KB/sec] of data, 0.0 MB of which were discarded afterwards.\n"
     ]
    },
    {
     "name": "stderr",
     "output_type": "stream",
     "text": [
      "[2024-02-28 22:18:40,945] - obspy.clients.fdsn.mass_downloader - INFO: Client 'http://service.iris.edu' - Downloaded 0.3 MB [284.31 KB/sec] of data, 0.0 MB of which were discarded afterwards.\n"
     ]
    },
    {
     "name": "stderr",
     "output_type": "stream",
     "text": [
      "[2024-02-28 22:18:40,945] - obspy.clients.fdsn.mass_downloader - INFO: Client 'http://service.iris.edu' - Downloaded 0.3 MB [284.31 KB/sec] of data, 0.0 MB of which were discarded afterwards.\n"
     ]
    },
    {
     "name": "stderr",
     "output_type": "stream",
     "text": [
      "[2024-02-28 22:18:40,945] - obspy.clients.fdsn.mass_downloader - INFO: Client 'http://service.iris.edu' - Downloaded 0.3 MB [284.31 KB/sec] of data, 0.0 MB of which were discarded afterwards.\n"
     ]
    },
    {
     "name": "stderr",
     "output_type": "stream",
     "text": [
      "[2024-02-28 22:18:40,947] - obspy.clients.fdsn.mass_downloader - INFO: Client 'http://service.iris.edu' - Status for 6 time intervals/channels after downloading: DOWNLOAD_FAILED\n"
     ]
    },
    {
     "name": "stderr",
     "output_type": "stream",
     "text": [
      "[2024-02-28 22:18:40,947] - obspy.clients.fdsn.mass_downloader - INFO: Client 'http://service.iris.edu' - Status for 6 time intervals/channels after downloading: DOWNLOAD_FAILED\n"
     ]
    },
    {
     "name": "stderr",
     "output_type": "stream",
     "text": [
      "[2024-02-28 22:18:40,947] - obspy.clients.fdsn.mass_downloader - INFO: Client 'http://service.iris.edu' - Status for 6 time intervals/channels after downloading: DOWNLOAD_FAILED\n"
     ]
    },
    {
     "name": "stderr",
     "output_type": "stream",
     "text": [
      "[2024-02-28 22:18:40,947] - obspy.clients.fdsn.mass_downloader - INFO: Client 'http://service.iris.edu' - Status for 6 time intervals/channels after downloading: DOWNLOAD_FAILED\n"
     ]
    },
    {
     "name": "stderr",
     "output_type": "stream",
     "text": [
      "[2024-02-28 22:18:40,947] - obspy.clients.fdsn.mass_downloader - INFO: Client 'http://service.iris.edu' - Status for 6 time intervals/channels after downloading: DOWNLOAD_FAILED\n"
     ]
    },
    {
     "name": "stderr",
     "output_type": "stream",
     "text": [
      "[2024-02-28 22:18:40,947] - obspy.clients.fdsn.mass_downloader - INFO: Client 'http://service.iris.edu' - Status for 6 time intervals/channels after downloading: DOWNLOAD_FAILED\n"
     ]
    },
    {
     "name": "stderr",
     "output_type": "stream",
     "text": [
      "[2024-02-28 22:18:40,947] - obspy.clients.fdsn.mass_downloader - INFO: Client 'http://service.iris.edu' - Status for 6 time intervals/channels after downloading: DOWNLOAD_FAILED\n"
     ]
    },
    {
     "name": "stderr",
     "output_type": "stream",
     "text": [
      "[2024-02-28 22:18:40,949] - obspy.clients.fdsn.mass_downloader - INFO: Client 'http://service.iris.edu' - Status for 51 time intervals/channels after downloading: DOWNLOADED\n"
     ]
    },
    {
     "name": "stderr",
     "output_type": "stream",
     "text": [
      "[2024-02-28 22:18:40,949] - obspy.clients.fdsn.mass_downloader - INFO: Client 'http://service.iris.edu' - Status for 51 time intervals/channels after downloading: DOWNLOADED\n"
     ]
    },
    {
     "name": "stderr",
     "output_type": "stream",
     "text": [
      "[2024-02-28 22:18:40,949] - obspy.clients.fdsn.mass_downloader - INFO: Client 'http://service.iris.edu' - Status for 51 time intervals/channels after downloading: DOWNLOADED\n"
     ]
    },
    {
     "name": "stderr",
     "output_type": "stream",
     "text": [
      "[2024-02-28 22:18:40,949] - obspy.clients.fdsn.mass_downloader - INFO: Client 'http://service.iris.edu' - Status for 51 time intervals/channels after downloading: DOWNLOADED\n"
     ]
    },
    {
     "name": "stderr",
     "output_type": "stream",
     "text": [
      "[2024-02-28 22:18:40,949] - obspy.clients.fdsn.mass_downloader - INFO: Client 'http://service.iris.edu' - Status for 51 time intervals/channels after downloading: DOWNLOADED\n"
     ]
    },
    {
     "name": "stderr",
     "output_type": "stream",
     "text": [
      "[2024-02-28 22:18:40,949] - obspy.clients.fdsn.mass_downloader - INFO: Client 'http://service.iris.edu' - Status for 51 time intervals/channels after downloading: DOWNLOADED\n"
     ]
    },
    {
     "name": "stderr",
     "output_type": "stream",
     "text": [
      "[2024-02-28 22:18:40,949] - obspy.clients.fdsn.mass_downloader - INFO: Client 'http://service.iris.edu' - Status for 51 time intervals/channels after downloading: DOWNLOADED\n"
     ]
    },
    {
     "name": "stderr",
     "output_type": "stream",
     "text": [
      "[2024-02-28 22:18:40,970] - obspy.clients.fdsn.mass_downloader - INFO: Client 'http://service.iris.edu' - No station information to download.\n"
     ]
    },
    {
     "name": "stderr",
     "output_type": "stream",
     "text": [
      "[2024-02-28 22:18:40,970] - obspy.clients.fdsn.mass_downloader - INFO: Client 'http://service.iris.edu' - No station information to download.\n"
     ]
    },
    {
     "name": "stderr",
     "output_type": "stream",
     "text": [
      "[2024-02-28 22:18:40,970] - obspy.clients.fdsn.mass_downloader - INFO: Client 'http://service.iris.edu' - No station information to download.\n"
     ]
    },
    {
     "name": "stderr",
     "output_type": "stream",
     "text": [
      "[2024-02-28 22:18:40,970] - obspy.clients.fdsn.mass_downloader - INFO: Client 'http://service.iris.edu' - No station information to download.\n"
     ]
    },
    {
     "name": "stderr",
     "output_type": "stream",
     "text": [
      "[2024-02-28 22:18:40,970] - obspy.clients.fdsn.mass_downloader - INFO: Client 'http://service.iris.edu' - No station information to download.\n"
     ]
    },
    {
     "name": "stderr",
     "output_type": "stream",
     "text": [
      "[2024-02-28 22:18:40,970] - obspy.clients.fdsn.mass_downloader - INFO: Client 'http://service.iris.edu' - No station information to download.\n"
     ]
    },
    {
     "name": "stderr",
     "output_type": "stream",
     "text": [
      "[2024-02-28 22:18:40,970] - obspy.clients.fdsn.mass_downloader - INFO: Client 'http://service.iris.edu' - No station information to download.\n"
     ]
    },
    {
     "name": "stderr",
     "output_type": "stream",
     "text": [
      "[2024-02-28 22:18:40,973] - obspy.clients.fdsn.mass_downloader - INFO: ============================== Final report\n"
     ]
    },
    {
     "name": "stderr",
     "output_type": "stream",
     "text": [
      "[2024-02-28 22:18:40,973] - obspy.clients.fdsn.mass_downloader - INFO: ============================== Final report\n"
     ]
    },
    {
     "name": "stderr",
     "output_type": "stream",
     "text": [
      "[2024-02-28 22:18:40,973] - obspy.clients.fdsn.mass_downloader - INFO: ============================== Final report\n"
     ]
    },
    {
     "name": "stderr",
     "output_type": "stream",
     "text": [
      "[2024-02-28 22:18:40,973] - obspy.clients.fdsn.mass_downloader - INFO: ============================== Final report\n"
     ]
    },
    {
     "name": "stderr",
     "output_type": "stream",
     "text": [
      "[2024-02-28 22:18:40,973] - obspy.clients.fdsn.mass_downloader - INFO: ============================== Final report\n"
     ]
    },
    {
     "name": "stderr",
     "output_type": "stream",
     "text": [
      "[2024-02-28 22:18:40,973] - obspy.clients.fdsn.mass_downloader - INFO: ============================== Final report\n"
     ]
    },
    {
     "name": "stderr",
     "output_type": "stream",
     "text": [
      "[2024-02-28 22:18:40,973] - obspy.clients.fdsn.mass_downloader - INFO: ============================== Final report\n"
     ]
    },
    {
     "name": "stderr",
     "output_type": "stream",
     "text": [
      "[2024-02-28 22:18:40,976] - obspy.clients.fdsn.mass_downloader - INFO: 0 MiniSEED files [0.0 MB] already existed.\n"
     ]
    },
    {
     "name": "stderr",
     "output_type": "stream",
     "text": [
      "[2024-02-28 22:18:40,976] - obspy.clients.fdsn.mass_downloader - INFO: 0 MiniSEED files [0.0 MB] already existed.\n"
     ]
    },
    {
     "name": "stderr",
     "output_type": "stream",
     "text": [
      "[2024-02-28 22:18:40,976] - obspy.clients.fdsn.mass_downloader - INFO: 0 MiniSEED files [0.0 MB] already existed.\n"
     ]
    },
    {
     "name": "stderr",
     "output_type": "stream",
     "text": [
      "[2024-02-28 22:18:40,976] - obspy.clients.fdsn.mass_downloader - INFO: 0 MiniSEED files [0.0 MB] already existed.\n"
     ]
    },
    {
     "name": "stderr",
     "output_type": "stream",
     "text": [
      "[2024-02-28 22:18:40,976] - obspy.clients.fdsn.mass_downloader - INFO: 0 MiniSEED files [0.0 MB] already existed.\n"
     ]
    },
    {
     "name": "stderr",
     "output_type": "stream",
     "text": [
      "[2024-02-28 22:18:40,976] - obspy.clients.fdsn.mass_downloader - INFO: 0 MiniSEED files [0.0 MB] already existed.\n"
     ]
    },
    {
     "name": "stderr",
     "output_type": "stream",
     "text": [
      "[2024-02-28 22:18:40,976] - obspy.clients.fdsn.mass_downloader - INFO: 0 MiniSEED files [0.0 MB] already existed.\n"
     ]
    },
    {
     "name": "stderr",
     "output_type": "stream",
     "text": [
      "[2024-02-28 22:18:40,979] - obspy.clients.fdsn.mass_downloader - INFO: 17 StationXML files [0.4 MB] already existed.\n"
     ]
    },
    {
     "name": "stderr",
     "output_type": "stream",
     "text": [
      "[2024-02-28 22:18:40,979] - obspy.clients.fdsn.mass_downloader - INFO: 17 StationXML files [0.4 MB] already existed.\n"
     ]
    },
    {
     "name": "stderr",
     "output_type": "stream",
     "text": [
      "[2024-02-28 22:18:40,979] - obspy.clients.fdsn.mass_downloader - INFO: 17 StationXML files [0.4 MB] already existed.\n"
     ]
    },
    {
     "name": "stderr",
     "output_type": "stream",
     "text": [
      "[2024-02-28 22:18:40,979] - obspy.clients.fdsn.mass_downloader - INFO: 17 StationXML files [0.4 MB] already existed.\n"
     ]
    },
    {
     "name": "stderr",
     "output_type": "stream",
     "text": [
      "[2024-02-28 22:18:40,979] - obspy.clients.fdsn.mass_downloader - INFO: 17 StationXML files [0.4 MB] already existed.\n"
     ]
    },
    {
     "name": "stderr",
     "output_type": "stream",
     "text": [
      "[2024-02-28 22:18:40,979] - obspy.clients.fdsn.mass_downloader - INFO: 17 StationXML files [0.4 MB] already existed.\n"
     ]
    },
    {
     "name": "stderr",
     "output_type": "stream",
     "text": [
      "[2024-02-28 22:18:40,979] - obspy.clients.fdsn.mass_downloader - INFO: 17 StationXML files [0.4 MB] already existed.\n"
     ]
    },
    {
     "name": "stderr",
     "output_type": "stream",
     "text": [
      "[2024-02-28 22:18:40,983] - obspy.clients.fdsn.mass_downloader - INFO: Client 'http://service.iris.edu' - Acquired 51 MiniSEED files [0.3 MB].\n"
     ]
    },
    {
     "name": "stderr",
     "output_type": "stream",
     "text": [
      "[2024-02-28 22:18:40,983] - obspy.clients.fdsn.mass_downloader - INFO: Client 'http://service.iris.edu' - Acquired 51 MiniSEED files [0.3 MB].\n"
     ]
    },
    {
     "name": "stderr",
     "output_type": "stream",
     "text": [
      "[2024-02-28 22:18:40,983] - obspy.clients.fdsn.mass_downloader - INFO: Client 'http://service.iris.edu' - Acquired 51 MiniSEED files [0.3 MB].\n"
     ]
    },
    {
     "name": "stderr",
     "output_type": "stream",
     "text": [
      "[2024-02-28 22:18:40,983] - obspy.clients.fdsn.mass_downloader - INFO: Client 'http://service.iris.edu' - Acquired 51 MiniSEED files [0.3 MB].\n"
     ]
    },
    {
     "name": "stderr",
     "output_type": "stream",
     "text": [
      "[2024-02-28 22:18:40,983] - obspy.clients.fdsn.mass_downloader - INFO: Client 'http://service.iris.edu' - Acquired 51 MiniSEED files [0.3 MB].\n"
     ]
    },
    {
     "name": "stderr",
     "output_type": "stream",
     "text": [
      "[2024-02-28 22:18:40,983] - obspy.clients.fdsn.mass_downloader - INFO: Client 'http://service.iris.edu' - Acquired 51 MiniSEED files [0.3 MB].\n"
     ]
    },
    {
     "name": "stderr",
     "output_type": "stream",
     "text": [
      "[2024-02-28 22:18:40,983] - obspy.clients.fdsn.mass_downloader - INFO: Client 'http://service.iris.edu' - Acquired 51 MiniSEED files [0.3 MB].\n"
     ]
    },
    {
     "name": "stderr",
     "output_type": "stream",
     "text": [
      "[2024-02-28 22:18:40,985] - obspy.clients.fdsn.mass_downloader - INFO: Client 'http://service.iris.edu' - Acquired 0 StationXML files [0.0 MB].\n"
     ]
    },
    {
     "name": "stderr",
     "output_type": "stream",
     "text": [
      "[2024-02-28 22:18:40,985] - obspy.clients.fdsn.mass_downloader - INFO: Client 'http://service.iris.edu' - Acquired 0 StationXML files [0.0 MB].\n"
     ]
    },
    {
     "name": "stderr",
     "output_type": "stream",
     "text": [
      "[2024-02-28 22:18:40,985] - obspy.clients.fdsn.mass_downloader - INFO: Client 'http://service.iris.edu' - Acquired 0 StationXML files [0.0 MB].\n"
     ]
    },
    {
     "name": "stderr",
     "output_type": "stream",
     "text": [
      "[2024-02-28 22:18:40,985] - obspy.clients.fdsn.mass_downloader - INFO: Client 'http://service.iris.edu' - Acquired 0 StationXML files [0.0 MB].\n"
     ]
    },
    {
     "name": "stderr",
     "output_type": "stream",
     "text": [
      "[2024-02-28 22:18:40,985] - obspy.clients.fdsn.mass_downloader - INFO: Client 'http://service.iris.edu' - Acquired 0 StationXML files [0.0 MB].\n"
     ]
    },
    {
     "name": "stderr",
     "output_type": "stream",
     "text": [
      "[2024-02-28 22:18:40,985] - obspy.clients.fdsn.mass_downloader - INFO: Client 'http://service.iris.edu' - Acquired 0 StationXML files [0.0 MB].\n"
     ]
    },
    {
     "name": "stderr",
     "output_type": "stream",
     "text": [
      "[2024-02-28 22:18:40,985] - obspy.clients.fdsn.mass_downloader - INFO: Client 'http://service.iris.edu' - Acquired 0 StationXML files [0.0 MB].\n"
     ]
    },
    {
     "name": "stderr",
     "output_type": "stream",
     "text": [
      "[2024-02-28 22:18:40,988] - obspy.clients.fdsn.mass_downloader - INFO: Downloaded 0.3 MB in total.\n"
     ]
    },
    {
     "name": "stderr",
     "output_type": "stream",
     "text": [
      "[2024-02-28 22:18:40,988] - obspy.clients.fdsn.mass_downloader - INFO: Downloaded 0.3 MB in total.\n"
     ]
    },
    {
     "name": "stderr",
     "output_type": "stream",
     "text": [
      "[2024-02-28 22:18:40,988] - obspy.clients.fdsn.mass_downloader - INFO: Downloaded 0.3 MB in total.\n"
     ]
    },
    {
     "name": "stderr",
     "output_type": "stream",
     "text": [
      "[2024-02-28 22:18:40,988] - obspy.clients.fdsn.mass_downloader - INFO: Downloaded 0.3 MB in total.\n"
     ]
    },
    {
     "name": "stderr",
     "output_type": "stream",
     "text": [
      "[2024-02-28 22:18:40,988] - obspy.clients.fdsn.mass_downloader - INFO: Downloaded 0.3 MB in total.\n"
     ]
    },
    {
     "name": "stderr",
     "output_type": "stream",
     "text": [
      "[2024-02-28 22:18:40,988] - obspy.clients.fdsn.mass_downloader - INFO: Downloaded 0.3 MB in total.\n"
     ]
    },
    {
     "name": "stderr",
     "output_type": "stream",
     "text": [
      "[2024-02-28 22:18:40,988] - obspy.clients.fdsn.mass_downloader - INFO: Downloaded 0.3 MB in total.\n"
     ]
    },
    {
     "name": "stderr",
     "output_type": "stream",
     "text": [
      "[2024-02-28 22:18:41,128] - obspy.clients.fdsn.mass_downloader - INFO: Initializing FDSN client(s) for http://service.iris.edu.\n"
     ]
    },
    {
     "name": "stderr",
     "output_type": "stream",
     "text": [
      "[2024-02-28 22:18:41,128] - obspy.clients.fdsn.mass_downloader - INFO: Initializing FDSN client(s) for http://service.iris.edu.\n"
     ]
    },
    {
     "name": "stderr",
     "output_type": "stream",
     "text": [
      "[2024-02-28 22:18:41,128] - obspy.clients.fdsn.mass_downloader - INFO: Initializing FDSN client(s) for http://service.iris.edu.\n"
     ]
    },
    {
     "name": "stderr",
     "output_type": "stream",
     "text": [
      "[2024-02-28 22:18:41,128] - obspy.clients.fdsn.mass_downloader - INFO: Initializing FDSN client(s) for http://service.iris.edu.\n"
     ]
    },
    {
     "name": "stderr",
     "output_type": "stream",
     "text": [
      "[2024-02-28 22:18:41,128] - obspy.clients.fdsn.mass_downloader - INFO: Initializing FDSN client(s) for http://service.iris.edu.\n"
     ]
    },
    {
     "name": "stderr",
     "output_type": "stream",
     "text": [
      "[2024-02-28 22:18:41,128] - obspy.clients.fdsn.mass_downloader - INFO: Initializing FDSN client(s) for http://service.iris.edu.\n"
     ]
    },
    {
     "name": "stderr",
     "output_type": "stream",
     "text": [
      "[2024-02-28 22:18:41,128] - obspy.clients.fdsn.mass_downloader - INFO: Initializing FDSN client(s) for http://service.iris.edu.\n"
     ]
    },
    {
     "name": "stderr",
     "output_type": "stream",
     "text": [
      "[2024-02-28 22:18:41,128] - obspy.clients.fdsn.mass_downloader - INFO: Initializing FDSN client(s) for http://service.iris.edu.\n"
     ]
    },
    {
     "name": "stderr",
     "output_type": "stream",
     "text": [
      "[2024-02-28 22:18:41,133] - obspy.clients.fdsn.mass_downloader - INFO: Successfully initialized 1 client(s): http://service.iris.edu.\n"
     ]
    },
    {
     "name": "stderr",
     "output_type": "stream",
     "text": [
      "[2024-02-28 22:18:41,133] - obspy.clients.fdsn.mass_downloader - INFO: Successfully initialized 1 client(s): http://service.iris.edu.\n"
     ]
    },
    {
     "name": "stderr",
     "output_type": "stream",
     "text": [
      "[2024-02-28 22:18:41,133] - obspy.clients.fdsn.mass_downloader - INFO: Successfully initialized 1 client(s): http://service.iris.edu.\n"
     ]
    },
    {
     "name": "stderr",
     "output_type": "stream",
     "text": [
      "[2024-02-28 22:18:41,133] - obspy.clients.fdsn.mass_downloader - INFO: Successfully initialized 1 client(s): http://service.iris.edu.\n"
     ]
    },
    {
     "name": "stderr",
     "output_type": "stream",
     "text": [
      "[2024-02-28 22:18:41,133] - obspy.clients.fdsn.mass_downloader - INFO: Successfully initialized 1 client(s): http://service.iris.edu.\n"
     ]
    },
    {
     "name": "stderr",
     "output_type": "stream",
     "text": [
      "[2024-02-28 22:18:41,133] - obspy.clients.fdsn.mass_downloader - INFO: Successfully initialized 1 client(s): http://service.iris.edu.\n"
     ]
    },
    {
     "name": "stderr",
     "output_type": "stream",
     "text": [
      "[2024-02-28 22:18:41,133] - obspy.clients.fdsn.mass_downloader - INFO: Successfully initialized 1 client(s): http://service.iris.edu.\n"
     ]
    },
    {
     "name": "stderr",
     "output_type": "stream",
     "text": [
      "[2024-02-28 22:18:41,133] - obspy.clients.fdsn.mass_downloader - INFO: Successfully initialized 1 client(s): http://service.iris.edu.\n"
     ]
    },
    {
     "name": "stderr",
     "output_type": "stream",
     "text": [
      "[2024-02-28 22:18:41,137] - obspy.clients.fdsn.mass_downloader - INFO: Total acquired or preexisting stations: 0\n"
     ]
    },
    {
     "name": "stderr",
     "output_type": "stream",
     "text": [
      "[2024-02-28 22:18:41,137] - obspy.clients.fdsn.mass_downloader - INFO: Total acquired or preexisting stations: 0\n"
     ]
    },
    {
     "name": "stderr",
     "output_type": "stream",
     "text": [
      "[2024-02-28 22:18:41,137] - obspy.clients.fdsn.mass_downloader - INFO: Total acquired or preexisting stations: 0\n"
     ]
    },
    {
     "name": "stderr",
     "output_type": "stream",
     "text": [
      "[2024-02-28 22:18:41,137] - obspy.clients.fdsn.mass_downloader - INFO: Total acquired or preexisting stations: 0\n"
     ]
    },
    {
     "name": "stderr",
     "output_type": "stream",
     "text": [
      "[2024-02-28 22:18:41,137] - obspy.clients.fdsn.mass_downloader - INFO: Total acquired or preexisting stations: 0\n"
     ]
    },
    {
     "name": "stderr",
     "output_type": "stream",
     "text": [
      "[2024-02-28 22:18:41,137] - obspy.clients.fdsn.mass_downloader - INFO: Total acquired or preexisting stations: 0\n"
     ]
    },
    {
     "name": "stderr",
     "output_type": "stream",
     "text": [
      "[2024-02-28 22:18:41,137] - obspy.clients.fdsn.mass_downloader - INFO: Total acquired or preexisting stations: 0\n"
     ]
    },
    {
     "name": "stderr",
     "output_type": "stream",
     "text": [
      "[2024-02-28 22:18:41,137] - obspy.clients.fdsn.mass_downloader - INFO: Total acquired or preexisting stations: 0\n"
     ]
    },
    {
     "name": "stderr",
     "output_type": "stream",
     "text": [
      "[2024-02-28 22:18:41,140] - obspy.clients.fdsn.mass_downloader - INFO: Client 'http://service.iris.edu' - Requesting reliable availability.\n"
     ]
    },
    {
     "name": "stderr",
     "output_type": "stream",
     "text": [
      "[2024-02-28 22:18:41,140] - obspy.clients.fdsn.mass_downloader - INFO: Client 'http://service.iris.edu' - Requesting reliable availability.\n"
     ]
    },
    {
     "name": "stderr",
     "output_type": "stream",
     "text": [
      "[2024-02-28 22:18:41,140] - obspy.clients.fdsn.mass_downloader - INFO: Client 'http://service.iris.edu' - Requesting reliable availability.\n"
     ]
    },
    {
     "name": "stderr",
     "output_type": "stream",
     "text": [
      "[2024-02-28 22:18:41,140] - obspy.clients.fdsn.mass_downloader - INFO: Client 'http://service.iris.edu' - Requesting reliable availability.\n"
     ]
    },
    {
     "name": "stderr",
     "output_type": "stream",
     "text": [
      "[2024-02-28 22:18:41,140] - obspy.clients.fdsn.mass_downloader - INFO: Client 'http://service.iris.edu' - Requesting reliable availability.\n"
     ]
    },
    {
     "name": "stderr",
     "output_type": "stream",
     "text": [
      "[2024-02-28 22:18:41,140] - obspy.clients.fdsn.mass_downloader - INFO: Client 'http://service.iris.edu' - Requesting reliable availability.\n"
     ]
    },
    {
     "name": "stderr",
     "output_type": "stream",
     "text": [
      "[2024-02-28 22:18:41,140] - obspy.clients.fdsn.mass_downloader - INFO: Client 'http://service.iris.edu' - Requesting reliable availability.\n"
     ]
    },
    {
     "name": "stderr",
     "output_type": "stream",
     "text": [
      "[2024-02-28 22:18:41,140] - obspy.clients.fdsn.mass_downloader - INFO: Client 'http://service.iris.edu' - Requesting reliable availability.\n"
     ]
    },
    {
     "name": "stderr",
     "output_type": "stream",
     "text": [
      "[2024-02-28 22:18:42,295] - obspy.clients.fdsn.mass_downloader - INFO: Client 'http://service.iris.edu' - Successfully requested availability (1.15 seconds)\n"
     ]
    },
    {
     "name": "stderr",
     "output_type": "stream",
     "text": [
      "[2024-02-28 22:18:42,295] - obspy.clients.fdsn.mass_downloader - INFO: Client 'http://service.iris.edu' - Successfully requested availability (1.15 seconds)\n"
     ]
    },
    {
     "name": "stderr",
     "output_type": "stream",
     "text": [
      "[2024-02-28 22:18:42,295] - obspy.clients.fdsn.mass_downloader - INFO: Client 'http://service.iris.edu' - Successfully requested availability (1.15 seconds)\n"
     ]
    },
    {
     "name": "stderr",
     "output_type": "stream",
     "text": [
      "[2024-02-28 22:18:42,295] - obspy.clients.fdsn.mass_downloader - INFO: Client 'http://service.iris.edu' - Successfully requested availability (1.15 seconds)\n"
     ]
    },
    {
     "name": "stderr",
     "output_type": "stream",
     "text": [
      "[2024-02-28 22:18:42,295] - obspy.clients.fdsn.mass_downloader - INFO: Client 'http://service.iris.edu' - Successfully requested availability (1.15 seconds)\n"
     ]
    },
    {
     "name": "stderr",
     "output_type": "stream",
     "text": [
      "[2024-02-28 22:18:42,295] - obspy.clients.fdsn.mass_downloader - INFO: Client 'http://service.iris.edu' - Successfully requested availability (1.15 seconds)\n"
     ]
    },
    {
     "name": "stderr",
     "output_type": "stream",
     "text": [
      "[2024-02-28 22:18:42,295] - obspy.clients.fdsn.mass_downloader - INFO: Client 'http://service.iris.edu' - Successfully requested availability (1.15 seconds)\n"
     ]
    },
    {
     "name": "stderr",
     "output_type": "stream",
     "text": [
      "[2024-02-28 22:18:42,295] - obspy.clients.fdsn.mass_downloader - INFO: Client 'http://service.iris.edu' - Successfully requested availability (1.15 seconds)\n"
     ]
    },
    {
     "name": "stderr",
     "output_type": "stream",
     "text": [
      "[2024-02-28 22:18:42,330] - obspy.clients.fdsn.mass_downloader - INFO: Client 'http://service.iris.edu' - Found 19 stations (57 channels).\n"
     ]
    },
    {
     "name": "stderr",
     "output_type": "stream",
     "text": [
      "[2024-02-28 22:18:42,330] - obspy.clients.fdsn.mass_downloader - INFO: Client 'http://service.iris.edu' - Found 19 stations (57 channels).\n"
     ]
    },
    {
     "name": "stderr",
     "output_type": "stream",
     "text": [
      "[2024-02-28 22:18:42,330] - obspy.clients.fdsn.mass_downloader - INFO: Client 'http://service.iris.edu' - Found 19 stations (57 channels).\n"
     ]
    },
    {
     "name": "stderr",
     "output_type": "stream",
     "text": [
      "[2024-02-28 22:18:42,330] - obspy.clients.fdsn.mass_downloader - INFO: Client 'http://service.iris.edu' - Found 19 stations (57 channels).\n"
     ]
    },
    {
     "name": "stderr",
     "output_type": "stream",
     "text": [
      "[2024-02-28 22:18:42,330] - obspy.clients.fdsn.mass_downloader - INFO: Client 'http://service.iris.edu' - Found 19 stations (57 channels).\n"
     ]
    },
    {
     "name": "stderr",
     "output_type": "stream",
     "text": [
      "[2024-02-28 22:18:42,330] - obspy.clients.fdsn.mass_downloader - INFO: Client 'http://service.iris.edu' - Found 19 stations (57 channels).\n"
     ]
    },
    {
     "name": "stderr",
     "output_type": "stream",
     "text": [
      "[2024-02-28 22:18:42,330] - obspy.clients.fdsn.mass_downloader - INFO: Client 'http://service.iris.edu' - Found 19 stations (57 channels).\n"
     ]
    },
    {
     "name": "stderr",
     "output_type": "stream",
     "text": [
      "[2024-02-28 22:18:42,330] - obspy.clients.fdsn.mass_downloader - INFO: Client 'http://service.iris.edu' - Found 19 stations (57 channels).\n"
     ]
    },
    {
     "name": "stderr",
     "output_type": "stream",
     "text": [
      "[2024-02-28 22:18:42,337] - obspy.clients.fdsn.mass_downloader - INFO: Client 'http://service.iris.edu' - Will attempt to download data from 19 stations.\n"
     ]
    },
    {
     "name": "stderr",
     "output_type": "stream",
     "text": [
      "[2024-02-28 22:18:42,337] - obspy.clients.fdsn.mass_downloader - INFO: Client 'http://service.iris.edu' - Will attempt to download data from 19 stations.\n"
     ]
    },
    {
     "name": "stderr",
     "output_type": "stream",
     "text": [
      "[2024-02-28 22:18:42,337] - obspy.clients.fdsn.mass_downloader - INFO: Client 'http://service.iris.edu' - Will attempt to download data from 19 stations.\n"
     ]
    },
    {
     "name": "stderr",
     "output_type": "stream",
     "text": [
      "[2024-02-28 22:18:42,337] - obspy.clients.fdsn.mass_downloader - INFO: Client 'http://service.iris.edu' - Will attempt to download data from 19 stations.\n"
     ]
    },
    {
     "name": "stderr",
     "output_type": "stream",
     "text": [
      "[2024-02-28 22:18:42,337] - obspy.clients.fdsn.mass_downloader - INFO: Client 'http://service.iris.edu' - Will attempt to download data from 19 stations.\n"
     ]
    },
    {
     "name": "stderr",
     "output_type": "stream",
     "text": [
      "[2024-02-28 22:18:42,337] - obspy.clients.fdsn.mass_downloader - INFO: Client 'http://service.iris.edu' - Will attempt to download data from 19 stations.\n"
     ]
    },
    {
     "name": "stderr",
     "output_type": "stream",
     "text": [
      "[2024-02-28 22:18:42,337] - obspy.clients.fdsn.mass_downloader - INFO: Client 'http://service.iris.edu' - Will attempt to download data from 19 stations.\n"
     ]
    },
    {
     "name": "stderr",
     "output_type": "stream",
     "text": [
      "[2024-02-28 22:18:42,337] - obspy.clients.fdsn.mass_downloader - INFO: Client 'http://service.iris.edu' - Will attempt to download data from 19 stations.\n"
     ]
    },
    {
     "name": "stderr",
     "output_type": "stream",
     "text": [
      "[2024-02-28 22:18:42,344] - obspy.clients.fdsn.mass_downloader - INFO: Client 'http://service.iris.edu' - Status for 57 time intervals/channels before downloading: NEEDS_DOWNLOADING\n"
     ]
    },
    {
     "name": "stderr",
     "output_type": "stream",
     "text": [
      "[2024-02-28 22:18:42,344] - obspy.clients.fdsn.mass_downloader - INFO: Client 'http://service.iris.edu' - Status for 57 time intervals/channels before downloading: NEEDS_DOWNLOADING\n"
     ]
    },
    {
     "name": "stderr",
     "output_type": "stream",
     "text": [
      "[2024-02-28 22:18:42,344] - obspy.clients.fdsn.mass_downloader - INFO: Client 'http://service.iris.edu' - Status for 57 time intervals/channels before downloading: NEEDS_DOWNLOADING\n"
     ]
    },
    {
     "name": "stderr",
     "output_type": "stream",
     "text": [
      "[2024-02-28 22:18:42,344] - obspy.clients.fdsn.mass_downloader - INFO: Client 'http://service.iris.edu' - Status for 57 time intervals/channels before downloading: NEEDS_DOWNLOADING\n"
     ]
    },
    {
     "name": "stderr",
     "output_type": "stream",
     "text": [
      "[2024-02-28 22:18:42,344] - obspy.clients.fdsn.mass_downloader - INFO: Client 'http://service.iris.edu' - Status for 57 time intervals/channels before downloading: NEEDS_DOWNLOADING\n"
     ]
    },
    {
     "name": "stderr",
     "output_type": "stream",
     "text": [
      "[2024-02-28 22:18:42,344] - obspy.clients.fdsn.mass_downloader - INFO: Client 'http://service.iris.edu' - Status for 57 time intervals/channels before downloading: NEEDS_DOWNLOADING\n"
     ]
    },
    {
     "name": "stderr",
     "output_type": "stream",
     "text": [
      "[2024-02-28 22:18:42,344] - obspy.clients.fdsn.mass_downloader - INFO: Client 'http://service.iris.edu' - Status for 57 time intervals/channels before downloading: NEEDS_DOWNLOADING\n"
     ]
    },
    {
     "name": "stderr",
     "output_type": "stream",
     "text": [
      "[2024-02-28 22:18:42,344] - obspy.clients.fdsn.mass_downloader - INFO: Client 'http://service.iris.edu' - Status for 57 time intervals/channels before downloading: NEEDS_DOWNLOADING\n"
     ]
    },
    {
     "name": "stderr",
     "output_type": "stream",
     "text": [
      "[2024-02-28 22:18:42,954] - obspy.clients.fdsn.mass_downloader - INFO: Client 'http://service.iris.edu' - Successfully downloaded 7 channels (of 7)\n"
     ]
    },
    {
     "name": "stderr",
     "output_type": "stream",
     "text": [
      "[2024-02-28 22:18:42,954] - obspy.clients.fdsn.mass_downloader - INFO: Client 'http://service.iris.edu' - Successfully downloaded 7 channels (of 7)\n"
     ]
    },
    {
     "name": "stderr",
     "output_type": "stream",
     "text": [
      "[2024-02-28 22:18:42,954] - obspy.clients.fdsn.mass_downloader - INFO: Client 'http://service.iris.edu' - Successfully downloaded 7 channels (of 7)\n"
     ]
    },
    {
     "name": "stderr",
     "output_type": "stream",
     "text": [
      "[2024-02-28 22:18:42,954] - obspy.clients.fdsn.mass_downloader - INFO: Client 'http://service.iris.edu' - Successfully downloaded 7 channels (of 7)\n"
     ]
    },
    {
     "name": "stderr",
     "output_type": "stream",
     "text": [
      "[2024-02-28 22:18:42,954] - obspy.clients.fdsn.mass_downloader - INFO: Client 'http://service.iris.edu' - Successfully downloaded 7 channels (of 7)\n"
     ]
    },
    {
     "name": "stderr",
     "output_type": "stream",
     "text": [
      "[2024-02-28 22:18:42,954] - obspy.clients.fdsn.mass_downloader - INFO: Client 'http://service.iris.edu' - Successfully downloaded 7 channels (of 7)\n"
     ]
    },
    {
     "name": "stderr",
     "output_type": "stream",
     "text": [
      "[2024-02-28 22:18:42,954] - obspy.clients.fdsn.mass_downloader - INFO: Client 'http://service.iris.edu' - Successfully downloaded 7 channels (of 7)\n"
     ]
    },
    {
     "name": "stderr",
     "output_type": "stream",
     "text": [
      "[2024-02-28 22:18:42,954] - obspy.clients.fdsn.mass_downloader - INFO: Client 'http://service.iris.edu' - Successfully downloaded 7 channels (of 7)\n"
     ]
    },
    {
     "name": "stderr",
     "output_type": "stream",
     "text": [
      "[2024-02-28 22:18:44,113] - obspy.clients.fdsn.mass_downloader - INFO: Client 'http://service.iris.edu' - Successfully downloaded 41 channels (of 50)\n"
     ]
    },
    {
     "name": "stderr",
     "output_type": "stream",
     "text": [
      "[2024-02-28 22:18:44,113] - obspy.clients.fdsn.mass_downloader - INFO: Client 'http://service.iris.edu' - Successfully downloaded 41 channels (of 50)\n"
     ]
    },
    {
     "name": "stderr",
     "output_type": "stream",
     "text": [
      "[2024-02-28 22:18:44,113] - obspy.clients.fdsn.mass_downloader - INFO: Client 'http://service.iris.edu' - Successfully downloaded 41 channels (of 50)\n"
     ]
    },
    {
     "name": "stderr",
     "output_type": "stream",
     "text": [
      "[2024-02-28 22:18:44,113] - obspy.clients.fdsn.mass_downloader - INFO: Client 'http://service.iris.edu' - Successfully downloaded 41 channels (of 50)\n"
     ]
    },
    {
     "name": "stderr",
     "output_type": "stream",
     "text": [
      "[2024-02-28 22:18:44,113] - obspy.clients.fdsn.mass_downloader - INFO: Client 'http://service.iris.edu' - Successfully downloaded 41 channels (of 50)\n"
     ]
    },
    {
     "name": "stderr",
     "output_type": "stream",
     "text": [
      "[2024-02-28 22:18:44,113] - obspy.clients.fdsn.mass_downloader - INFO: Client 'http://service.iris.edu' - Successfully downloaded 41 channels (of 50)\n"
     ]
    },
    {
     "name": "stderr",
     "output_type": "stream",
     "text": [
      "[2024-02-28 22:18:44,113] - obspy.clients.fdsn.mass_downloader - INFO: Client 'http://service.iris.edu' - Successfully downloaded 41 channels (of 50)\n"
     ]
    },
    {
     "name": "stderr",
     "output_type": "stream",
     "text": [
      "[2024-02-28 22:18:44,113] - obspy.clients.fdsn.mass_downloader - INFO: Client 'http://service.iris.edu' - Successfully downloaded 41 channels (of 50)\n"
     ]
    },
    {
     "name": "stderr",
     "output_type": "stream",
     "text": [
      "[2024-02-28 22:18:44,119] - obspy.clients.fdsn.mass_downloader - INFO: Client 'http://service.iris.edu' - Launching basic QC checks...\n"
     ]
    },
    {
     "name": "stderr",
     "output_type": "stream",
     "text": [
      "[2024-02-28 22:18:44,119] - obspy.clients.fdsn.mass_downloader - INFO: Client 'http://service.iris.edu' - Launching basic QC checks...\n"
     ]
    },
    {
     "name": "stderr",
     "output_type": "stream",
     "text": [
      "[2024-02-28 22:18:44,119] - obspy.clients.fdsn.mass_downloader - INFO: Client 'http://service.iris.edu' - Launching basic QC checks...\n"
     ]
    },
    {
     "name": "stderr",
     "output_type": "stream",
     "text": [
      "[2024-02-28 22:18:44,119] - obspy.clients.fdsn.mass_downloader - INFO: Client 'http://service.iris.edu' - Launching basic QC checks...\n"
     ]
    },
    {
     "name": "stderr",
     "output_type": "stream",
     "text": [
      "[2024-02-28 22:18:44,119] - obspy.clients.fdsn.mass_downloader - INFO: Client 'http://service.iris.edu' - Launching basic QC checks...\n"
     ]
    },
    {
     "name": "stderr",
     "output_type": "stream",
     "text": [
      "[2024-02-28 22:18:44,119] - obspy.clients.fdsn.mass_downloader - INFO: Client 'http://service.iris.edu' - Launching basic QC checks...\n"
     ]
    },
    {
     "name": "stderr",
     "output_type": "stream",
     "text": [
      "[2024-02-28 22:18:44,119] - obspy.clients.fdsn.mass_downloader - INFO: Client 'http://service.iris.edu' - Launching basic QC checks...\n"
     ]
    },
    {
     "name": "stderr",
     "output_type": "stream",
     "text": [
      "[2024-02-28 22:18:44,119] - obspy.clients.fdsn.mass_downloader - INFO: Client 'http://service.iris.edu' - Launching basic QC checks...\n"
     ]
    },
    {
     "name": "stderr",
     "output_type": "stream",
     "text": [
      "[2024-02-28 22:18:44,158] - obspy.clients.fdsn.mass_downloader - INFO: Client 'http://service.iris.edu' - Downloaded 0.3 MB [178.32 KB/sec] of data, 0.0 MB of which were discarded afterwards.\n"
     ]
    },
    {
     "name": "stderr",
     "output_type": "stream",
     "text": [
      "[2024-02-28 22:18:44,158] - obspy.clients.fdsn.mass_downloader - INFO: Client 'http://service.iris.edu' - Downloaded 0.3 MB [178.32 KB/sec] of data, 0.0 MB of which were discarded afterwards.\n"
     ]
    },
    {
     "name": "stderr",
     "output_type": "stream",
     "text": [
      "[2024-02-28 22:18:44,158] - obspy.clients.fdsn.mass_downloader - INFO: Client 'http://service.iris.edu' - Downloaded 0.3 MB [178.32 KB/sec] of data, 0.0 MB of which were discarded afterwards.\n"
     ]
    },
    {
     "name": "stderr",
     "output_type": "stream",
     "text": [
      "[2024-02-28 22:18:44,158] - obspy.clients.fdsn.mass_downloader - INFO: Client 'http://service.iris.edu' - Downloaded 0.3 MB [178.32 KB/sec] of data, 0.0 MB of which were discarded afterwards.\n"
     ]
    },
    {
     "name": "stderr",
     "output_type": "stream",
     "text": [
      "[2024-02-28 22:18:44,158] - obspy.clients.fdsn.mass_downloader - INFO: Client 'http://service.iris.edu' - Downloaded 0.3 MB [178.32 KB/sec] of data, 0.0 MB of which were discarded afterwards.\n"
     ]
    },
    {
     "name": "stderr",
     "output_type": "stream",
     "text": [
      "[2024-02-28 22:18:44,158] - obspy.clients.fdsn.mass_downloader - INFO: Client 'http://service.iris.edu' - Downloaded 0.3 MB [178.32 KB/sec] of data, 0.0 MB of which were discarded afterwards.\n"
     ]
    },
    {
     "name": "stderr",
     "output_type": "stream",
     "text": [
      "[2024-02-28 22:18:44,158] - obspy.clients.fdsn.mass_downloader - INFO: Client 'http://service.iris.edu' - Downloaded 0.3 MB [178.32 KB/sec] of data, 0.0 MB of which were discarded afterwards.\n"
     ]
    },
    {
     "name": "stderr",
     "output_type": "stream",
     "text": [
      "[2024-02-28 22:18:44,158] - obspy.clients.fdsn.mass_downloader - INFO: Client 'http://service.iris.edu' - Downloaded 0.3 MB [178.32 KB/sec] of data, 0.0 MB of which were discarded afterwards.\n"
     ]
    },
    {
     "name": "stderr",
     "output_type": "stream",
     "text": [
      "[2024-02-28 22:18:44,162] - obspy.clients.fdsn.mass_downloader - INFO: Client 'http://service.iris.edu' - Status for 9 time intervals/channels after downloading: DOWNLOAD_FAILED\n"
     ]
    },
    {
     "name": "stderr",
     "output_type": "stream",
     "text": [
      "[2024-02-28 22:18:44,162] - obspy.clients.fdsn.mass_downloader - INFO: Client 'http://service.iris.edu' - Status for 9 time intervals/channels after downloading: DOWNLOAD_FAILED\n"
     ]
    },
    {
     "name": "stderr",
     "output_type": "stream",
     "text": [
      "[2024-02-28 22:18:44,162] - obspy.clients.fdsn.mass_downloader - INFO: Client 'http://service.iris.edu' - Status for 9 time intervals/channels after downloading: DOWNLOAD_FAILED\n"
     ]
    },
    {
     "name": "stderr",
     "output_type": "stream",
     "text": [
      "[2024-02-28 22:18:44,162] - obspy.clients.fdsn.mass_downloader - INFO: Client 'http://service.iris.edu' - Status for 9 time intervals/channels after downloading: DOWNLOAD_FAILED\n"
     ]
    },
    {
     "name": "stderr",
     "output_type": "stream",
     "text": [
      "[2024-02-28 22:18:44,162] - obspy.clients.fdsn.mass_downloader - INFO: Client 'http://service.iris.edu' - Status for 9 time intervals/channels after downloading: DOWNLOAD_FAILED\n"
     ]
    },
    {
     "name": "stderr",
     "output_type": "stream",
     "text": [
      "[2024-02-28 22:18:44,162] - obspy.clients.fdsn.mass_downloader - INFO: Client 'http://service.iris.edu' - Status for 9 time intervals/channels after downloading: DOWNLOAD_FAILED\n"
     ]
    },
    {
     "name": "stderr",
     "output_type": "stream",
     "text": [
      "[2024-02-28 22:18:44,162] - obspy.clients.fdsn.mass_downloader - INFO: Client 'http://service.iris.edu' - Status for 9 time intervals/channels after downloading: DOWNLOAD_FAILED\n"
     ]
    },
    {
     "name": "stderr",
     "output_type": "stream",
     "text": [
      "[2024-02-28 22:18:44,162] - obspy.clients.fdsn.mass_downloader - INFO: Client 'http://service.iris.edu' - Status for 9 time intervals/channels after downloading: DOWNLOAD_FAILED\n"
     ]
    },
    {
     "name": "stderr",
     "output_type": "stream",
     "text": [
      "[2024-02-28 22:18:44,164] - obspy.clients.fdsn.mass_downloader - INFO: Client 'http://service.iris.edu' - Status for 48 time intervals/channels after downloading: DOWNLOADED\n"
     ]
    },
    {
     "name": "stderr",
     "output_type": "stream",
     "text": [
      "[2024-02-28 22:18:44,164] - obspy.clients.fdsn.mass_downloader - INFO: Client 'http://service.iris.edu' - Status for 48 time intervals/channels after downloading: DOWNLOADED\n"
     ]
    },
    {
     "name": "stderr",
     "output_type": "stream",
     "text": [
      "[2024-02-28 22:18:44,164] - obspy.clients.fdsn.mass_downloader - INFO: Client 'http://service.iris.edu' - Status for 48 time intervals/channels after downloading: DOWNLOADED\n"
     ]
    },
    {
     "name": "stderr",
     "output_type": "stream",
     "text": [
      "[2024-02-28 22:18:44,164] - obspy.clients.fdsn.mass_downloader - INFO: Client 'http://service.iris.edu' - Status for 48 time intervals/channels after downloading: DOWNLOADED\n"
     ]
    },
    {
     "name": "stderr",
     "output_type": "stream",
     "text": [
      "[2024-02-28 22:18:44,164] - obspy.clients.fdsn.mass_downloader - INFO: Client 'http://service.iris.edu' - Status for 48 time intervals/channels after downloading: DOWNLOADED\n"
     ]
    },
    {
     "name": "stderr",
     "output_type": "stream",
     "text": [
      "[2024-02-28 22:18:44,164] - obspy.clients.fdsn.mass_downloader - INFO: Client 'http://service.iris.edu' - Status for 48 time intervals/channels after downloading: DOWNLOADED\n"
     ]
    },
    {
     "name": "stderr",
     "output_type": "stream",
     "text": [
      "[2024-02-28 22:18:44,164] - obspy.clients.fdsn.mass_downloader - INFO: Client 'http://service.iris.edu' - Status for 48 time intervals/channels after downloading: DOWNLOADED\n"
     ]
    },
    {
     "name": "stderr",
     "output_type": "stream",
     "text": [
      "[2024-02-28 22:18:44,164] - obspy.clients.fdsn.mass_downloader - INFO: Client 'http://service.iris.edu' - Status for 48 time intervals/channels after downloading: DOWNLOADED\n"
     ]
    },
    {
     "name": "stderr",
     "output_type": "stream",
     "text": [
      "[2024-02-28 22:18:44,185] - obspy.clients.fdsn.mass_downloader - INFO: Client 'http://service.iris.edu' - No station information to download.\n"
     ]
    },
    {
     "name": "stderr",
     "output_type": "stream",
     "text": [
      "[2024-02-28 22:18:44,185] - obspy.clients.fdsn.mass_downloader - INFO: Client 'http://service.iris.edu' - No station information to download.\n"
     ]
    },
    {
     "name": "stderr",
     "output_type": "stream",
     "text": [
      "[2024-02-28 22:18:44,185] - obspy.clients.fdsn.mass_downloader - INFO: Client 'http://service.iris.edu' - No station information to download.\n"
     ]
    },
    {
     "name": "stderr",
     "output_type": "stream",
     "text": [
      "[2024-02-28 22:18:44,185] - obspy.clients.fdsn.mass_downloader - INFO: Client 'http://service.iris.edu' - No station information to download.\n"
     ]
    },
    {
     "name": "stderr",
     "output_type": "stream",
     "text": [
      "[2024-02-28 22:18:44,185] - obspy.clients.fdsn.mass_downloader - INFO: Client 'http://service.iris.edu' - No station information to download.\n"
     ]
    },
    {
     "name": "stderr",
     "output_type": "stream",
     "text": [
      "[2024-02-28 22:18:44,185] - obspy.clients.fdsn.mass_downloader - INFO: Client 'http://service.iris.edu' - No station information to download.\n"
     ]
    },
    {
     "name": "stderr",
     "output_type": "stream",
     "text": [
      "[2024-02-28 22:18:44,185] - obspy.clients.fdsn.mass_downloader - INFO: Client 'http://service.iris.edu' - No station information to download.\n"
     ]
    },
    {
     "name": "stderr",
     "output_type": "stream",
     "text": [
      "[2024-02-28 22:18:44,185] - obspy.clients.fdsn.mass_downloader - INFO: Client 'http://service.iris.edu' - No station information to download.\n"
     ]
    },
    {
     "name": "stderr",
     "output_type": "stream",
     "text": [
      "[2024-02-28 22:18:44,189] - obspy.clients.fdsn.mass_downloader - INFO: ============================== Final report\n"
     ]
    },
    {
     "name": "stderr",
     "output_type": "stream",
     "text": [
      "[2024-02-28 22:18:44,189] - obspy.clients.fdsn.mass_downloader - INFO: ============================== Final report\n"
     ]
    },
    {
     "name": "stderr",
     "output_type": "stream",
     "text": [
      "[2024-02-28 22:18:44,189] - obspy.clients.fdsn.mass_downloader - INFO: ============================== Final report\n"
     ]
    },
    {
     "name": "stderr",
     "output_type": "stream",
     "text": [
      "[2024-02-28 22:18:44,189] - obspy.clients.fdsn.mass_downloader - INFO: ============================== Final report\n"
     ]
    },
    {
     "name": "stderr",
     "output_type": "stream",
     "text": [
      "[2024-02-28 22:18:44,189] - obspy.clients.fdsn.mass_downloader - INFO: ============================== Final report\n"
     ]
    },
    {
     "name": "stderr",
     "output_type": "stream",
     "text": [
      "[2024-02-28 22:18:44,189] - obspy.clients.fdsn.mass_downloader - INFO: ============================== Final report\n"
     ]
    },
    {
     "name": "stderr",
     "output_type": "stream",
     "text": [
      "[2024-02-28 22:18:44,189] - obspy.clients.fdsn.mass_downloader - INFO: ============================== Final report\n"
     ]
    },
    {
     "name": "stderr",
     "output_type": "stream",
     "text": [
      "[2024-02-28 22:18:44,189] - obspy.clients.fdsn.mass_downloader - INFO: ============================== Final report\n"
     ]
    },
    {
     "name": "stderr",
     "output_type": "stream",
     "text": [
      "[2024-02-28 22:18:44,193] - obspy.clients.fdsn.mass_downloader - INFO: 0 MiniSEED files [0.0 MB] already existed.\n"
     ]
    },
    {
     "name": "stderr",
     "output_type": "stream",
     "text": [
      "[2024-02-28 22:18:44,193] - obspy.clients.fdsn.mass_downloader - INFO: 0 MiniSEED files [0.0 MB] already existed.\n"
     ]
    },
    {
     "name": "stderr",
     "output_type": "stream",
     "text": [
      "[2024-02-28 22:18:44,193] - obspy.clients.fdsn.mass_downloader - INFO: 0 MiniSEED files [0.0 MB] already existed.\n"
     ]
    },
    {
     "name": "stderr",
     "output_type": "stream",
     "text": [
      "[2024-02-28 22:18:44,193] - obspy.clients.fdsn.mass_downloader - INFO: 0 MiniSEED files [0.0 MB] already existed.\n"
     ]
    },
    {
     "name": "stderr",
     "output_type": "stream",
     "text": [
      "[2024-02-28 22:18:44,193] - obspy.clients.fdsn.mass_downloader - INFO: 0 MiniSEED files [0.0 MB] already existed.\n"
     ]
    },
    {
     "name": "stderr",
     "output_type": "stream",
     "text": [
      "[2024-02-28 22:18:44,193] - obspy.clients.fdsn.mass_downloader - INFO: 0 MiniSEED files [0.0 MB] already existed.\n"
     ]
    },
    {
     "name": "stderr",
     "output_type": "stream",
     "text": [
      "[2024-02-28 22:18:44,193] - obspy.clients.fdsn.mass_downloader - INFO: 0 MiniSEED files [0.0 MB] already existed.\n"
     ]
    },
    {
     "name": "stderr",
     "output_type": "stream",
     "text": [
      "[2024-02-28 22:18:44,193] - obspy.clients.fdsn.mass_downloader - INFO: 0 MiniSEED files [0.0 MB] already existed.\n"
     ]
    },
    {
     "name": "stderr",
     "output_type": "stream",
     "text": [
      "[2024-02-28 22:18:44,197] - obspy.clients.fdsn.mass_downloader - INFO: 16 StationXML files [0.4 MB] already existed.\n"
     ]
    },
    {
     "name": "stderr",
     "output_type": "stream",
     "text": [
      "[2024-02-28 22:18:44,197] - obspy.clients.fdsn.mass_downloader - INFO: 16 StationXML files [0.4 MB] already existed.\n"
     ]
    },
    {
     "name": "stderr",
     "output_type": "stream",
     "text": [
      "[2024-02-28 22:18:44,197] - obspy.clients.fdsn.mass_downloader - INFO: 16 StationXML files [0.4 MB] already existed.\n"
     ]
    },
    {
     "name": "stderr",
     "output_type": "stream",
     "text": [
      "[2024-02-28 22:18:44,197] - obspy.clients.fdsn.mass_downloader - INFO: 16 StationXML files [0.4 MB] already existed.\n"
     ]
    },
    {
     "name": "stderr",
     "output_type": "stream",
     "text": [
      "[2024-02-28 22:18:44,197] - obspy.clients.fdsn.mass_downloader - INFO: 16 StationXML files [0.4 MB] already existed.\n"
     ]
    },
    {
     "name": "stderr",
     "output_type": "stream",
     "text": [
      "[2024-02-28 22:18:44,197] - obspy.clients.fdsn.mass_downloader - INFO: 16 StationXML files [0.4 MB] already existed.\n"
     ]
    },
    {
     "name": "stderr",
     "output_type": "stream",
     "text": [
      "[2024-02-28 22:18:44,197] - obspy.clients.fdsn.mass_downloader - INFO: 16 StationXML files [0.4 MB] already existed.\n"
     ]
    },
    {
     "name": "stderr",
     "output_type": "stream",
     "text": [
      "[2024-02-28 22:18:44,197] - obspy.clients.fdsn.mass_downloader - INFO: 16 StationXML files [0.4 MB] already existed.\n"
     ]
    },
    {
     "name": "stderr",
     "output_type": "stream",
     "text": [
      "[2024-02-28 22:18:44,201] - obspy.clients.fdsn.mass_downloader - INFO: Client 'http://service.iris.edu' - Acquired 48 MiniSEED files [0.3 MB].\n"
     ]
    },
    {
     "name": "stderr",
     "output_type": "stream",
     "text": [
      "[2024-02-28 22:18:44,201] - obspy.clients.fdsn.mass_downloader - INFO: Client 'http://service.iris.edu' - Acquired 48 MiniSEED files [0.3 MB].\n"
     ]
    },
    {
     "name": "stderr",
     "output_type": "stream",
     "text": [
      "[2024-02-28 22:18:44,201] - obspy.clients.fdsn.mass_downloader - INFO: Client 'http://service.iris.edu' - Acquired 48 MiniSEED files [0.3 MB].\n"
     ]
    },
    {
     "name": "stderr",
     "output_type": "stream",
     "text": [
      "[2024-02-28 22:18:44,201] - obspy.clients.fdsn.mass_downloader - INFO: Client 'http://service.iris.edu' - Acquired 48 MiniSEED files [0.3 MB].\n"
     ]
    },
    {
     "name": "stderr",
     "output_type": "stream",
     "text": [
      "[2024-02-28 22:18:44,201] - obspy.clients.fdsn.mass_downloader - INFO: Client 'http://service.iris.edu' - Acquired 48 MiniSEED files [0.3 MB].\n"
     ]
    },
    {
     "name": "stderr",
     "output_type": "stream",
     "text": [
      "[2024-02-28 22:18:44,201] - obspy.clients.fdsn.mass_downloader - INFO: Client 'http://service.iris.edu' - Acquired 48 MiniSEED files [0.3 MB].\n"
     ]
    },
    {
     "name": "stderr",
     "output_type": "stream",
     "text": [
      "[2024-02-28 22:18:44,201] - obspy.clients.fdsn.mass_downloader - INFO: Client 'http://service.iris.edu' - Acquired 48 MiniSEED files [0.3 MB].\n"
     ]
    },
    {
     "name": "stderr",
     "output_type": "stream",
     "text": [
      "[2024-02-28 22:18:44,201] - obspy.clients.fdsn.mass_downloader - INFO: Client 'http://service.iris.edu' - Acquired 48 MiniSEED files [0.3 MB].\n"
     ]
    },
    {
     "name": "stderr",
     "output_type": "stream",
     "text": [
      "[2024-02-28 22:18:44,204] - obspy.clients.fdsn.mass_downloader - INFO: Client 'http://service.iris.edu' - Acquired 0 StationXML files [0.0 MB].\n"
     ]
    },
    {
     "name": "stderr",
     "output_type": "stream",
     "text": [
      "[2024-02-28 22:18:44,204] - obspy.clients.fdsn.mass_downloader - INFO: Client 'http://service.iris.edu' - Acquired 0 StationXML files [0.0 MB].\n"
     ]
    },
    {
     "name": "stderr",
     "output_type": "stream",
     "text": [
      "[2024-02-28 22:18:44,204] - obspy.clients.fdsn.mass_downloader - INFO: Client 'http://service.iris.edu' - Acquired 0 StationXML files [0.0 MB].\n"
     ]
    },
    {
     "name": "stderr",
     "output_type": "stream",
     "text": [
      "[2024-02-28 22:18:44,204] - obspy.clients.fdsn.mass_downloader - INFO: Client 'http://service.iris.edu' - Acquired 0 StationXML files [0.0 MB].\n"
     ]
    },
    {
     "name": "stderr",
     "output_type": "stream",
     "text": [
      "[2024-02-28 22:18:44,204] - obspy.clients.fdsn.mass_downloader - INFO: Client 'http://service.iris.edu' - Acquired 0 StationXML files [0.0 MB].\n"
     ]
    },
    {
     "name": "stderr",
     "output_type": "stream",
     "text": [
      "[2024-02-28 22:18:44,204] - obspy.clients.fdsn.mass_downloader - INFO: Client 'http://service.iris.edu' - Acquired 0 StationXML files [0.0 MB].\n"
     ]
    },
    {
     "name": "stderr",
     "output_type": "stream",
     "text": [
      "[2024-02-28 22:18:44,204] - obspy.clients.fdsn.mass_downloader - INFO: Client 'http://service.iris.edu' - Acquired 0 StationXML files [0.0 MB].\n"
     ]
    },
    {
     "name": "stderr",
     "output_type": "stream",
     "text": [
      "[2024-02-28 22:18:44,204] - obspy.clients.fdsn.mass_downloader - INFO: Client 'http://service.iris.edu' - Acquired 0 StationXML files [0.0 MB].\n"
     ]
    },
    {
     "name": "stderr",
     "output_type": "stream",
     "text": [
      "[2024-02-28 22:18:44,207] - obspy.clients.fdsn.mass_downloader - INFO: Downloaded 0.3 MB in total.\n"
     ]
    },
    {
     "name": "stderr",
     "output_type": "stream",
     "text": [
      "[2024-02-28 22:18:44,207] - obspy.clients.fdsn.mass_downloader - INFO: Downloaded 0.3 MB in total.\n"
     ]
    },
    {
     "name": "stderr",
     "output_type": "stream",
     "text": [
      "[2024-02-28 22:18:44,207] - obspy.clients.fdsn.mass_downloader - INFO: Downloaded 0.3 MB in total.\n"
     ]
    },
    {
     "name": "stderr",
     "output_type": "stream",
     "text": [
      "[2024-02-28 22:18:44,207] - obspy.clients.fdsn.mass_downloader - INFO: Downloaded 0.3 MB in total.\n"
     ]
    },
    {
     "name": "stderr",
     "output_type": "stream",
     "text": [
      "[2024-02-28 22:18:44,207] - obspy.clients.fdsn.mass_downloader - INFO: Downloaded 0.3 MB in total.\n"
     ]
    },
    {
     "name": "stderr",
     "output_type": "stream",
     "text": [
      "[2024-02-28 22:18:44,207] - obspy.clients.fdsn.mass_downloader - INFO: Downloaded 0.3 MB in total.\n"
     ]
    },
    {
     "name": "stderr",
     "output_type": "stream",
     "text": [
      "[2024-02-28 22:18:44,207] - obspy.clients.fdsn.mass_downloader - INFO: Downloaded 0.3 MB in total.\n"
     ]
    },
    {
     "name": "stderr",
     "output_type": "stream",
     "text": [
      "[2024-02-28 22:18:44,207] - obspy.clients.fdsn.mass_downloader - INFO: Downloaded 0.3 MB in total.\n"
     ]
    },
    {
     "name": "stdout",
     "output_type": "stream",
     "text": [
      "finished downloading waveform data for crandall_test\n",
      "downloading station data for crandall_test dataset ...\n"
     ]
    },
    {
     "name": "stderr",
     "output_type": "stream",
     "text": [
      "[2024-02-28 22:18:45,209] - obspy.clients.fdsn.mass_downloader - INFO: Initializing FDSN client(s) for http://service.iris.edu.\n"
     ]
    },
    {
     "name": "stderr",
     "output_type": "stream",
     "text": [
      "[2024-02-28 22:18:45,209] - obspy.clients.fdsn.mass_downloader - INFO: Initializing FDSN client(s) for http://service.iris.edu.\n"
     ]
    },
    {
     "name": "stderr",
     "output_type": "stream",
     "text": [
      "[2024-02-28 22:18:45,209] - obspy.clients.fdsn.mass_downloader - INFO: Initializing FDSN client(s) for http://service.iris.edu.\n"
     ]
    },
    {
     "name": "stderr",
     "output_type": "stream",
     "text": [
      "[2024-02-28 22:18:45,209] - obspy.clients.fdsn.mass_downloader - INFO: Initializing FDSN client(s) for http://service.iris.edu.\n"
     ]
    },
    {
     "name": "stderr",
     "output_type": "stream",
     "text": [
      "[2024-02-28 22:18:45,209] - obspy.clients.fdsn.mass_downloader - INFO: Initializing FDSN client(s) for http://service.iris.edu.\n"
     ]
    },
    {
     "name": "stderr",
     "output_type": "stream",
     "text": [
      "[2024-02-28 22:18:45,209] - obspy.clients.fdsn.mass_downloader - INFO: Initializing FDSN client(s) for http://service.iris.edu.\n"
     ]
    },
    {
     "name": "stderr",
     "output_type": "stream",
     "text": [
      "[2024-02-28 22:18:45,209] - obspy.clients.fdsn.mass_downloader - INFO: Initializing FDSN client(s) for http://service.iris.edu.\n"
     ]
    },
    {
     "name": "stderr",
     "output_type": "stream",
     "text": [
      "[2024-02-28 22:18:45,209] - obspy.clients.fdsn.mass_downloader - INFO: Initializing FDSN client(s) for http://service.iris.edu.\n"
     ]
    },
    {
     "name": "stderr",
     "output_type": "stream",
     "text": [
      "[2024-02-28 22:18:45,209] - obspy.clients.fdsn.mass_downloader - INFO: Initializing FDSN client(s) for http://service.iris.edu.\n"
     ]
    },
    {
     "name": "stderr",
     "output_type": "stream",
     "text": [
      "[2024-02-28 22:18:45,214] - obspy.clients.fdsn.mass_downloader - INFO: Successfully initialized 1 client(s): http://service.iris.edu.\n"
     ]
    },
    {
     "name": "stderr",
     "output_type": "stream",
     "text": [
      "[2024-02-28 22:18:45,214] - obspy.clients.fdsn.mass_downloader - INFO: Successfully initialized 1 client(s): http://service.iris.edu.\n"
     ]
    },
    {
     "name": "stderr",
     "output_type": "stream",
     "text": [
      "[2024-02-28 22:18:45,214] - obspy.clients.fdsn.mass_downloader - INFO: Successfully initialized 1 client(s): http://service.iris.edu.\n"
     ]
    },
    {
     "name": "stderr",
     "output_type": "stream",
     "text": [
      "[2024-02-28 22:18:45,214] - obspy.clients.fdsn.mass_downloader - INFO: Successfully initialized 1 client(s): http://service.iris.edu.\n"
     ]
    },
    {
     "name": "stderr",
     "output_type": "stream",
     "text": [
      "[2024-02-28 22:18:45,214] - obspy.clients.fdsn.mass_downloader - INFO: Successfully initialized 1 client(s): http://service.iris.edu.\n"
     ]
    },
    {
     "name": "stderr",
     "output_type": "stream",
     "text": [
      "[2024-02-28 22:18:45,214] - obspy.clients.fdsn.mass_downloader - INFO: Successfully initialized 1 client(s): http://service.iris.edu.\n"
     ]
    },
    {
     "name": "stderr",
     "output_type": "stream",
     "text": [
      "[2024-02-28 22:18:45,214] - obspy.clients.fdsn.mass_downloader - INFO: Successfully initialized 1 client(s): http://service.iris.edu.\n"
     ]
    },
    {
     "name": "stderr",
     "output_type": "stream",
     "text": [
      "[2024-02-28 22:18:45,214] - obspy.clients.fdsn.mass_downloader - INFO: Successfully initialized 1 client(s): http://service.iris.edu.\n"
     ]
    },
    {
     "name": "stderr",
     "output_type": "stream",
     "text": [
      "[2024-02-28 22:18:45,214] - obspy.clients.fdsn.mass_downloader - INFO: Successfully initialized 1 client(s): http://service.iris.edu.\n"
     ]
    },
    {
     "name": "stderr",
     "output_type": "stream",
     "text": [
      "[2024-02-28 22:18:45,218] - obspy.clients.fdsn.mass_downloader - INFO: Total acquired or preexisting stations: 0\n"
     ]
    },
    {
     "name": "stderr",
     "output_type": "stream",
     "text": [
      "[2024-02-28 22:18:45,218] - obspy.clients.fdsn.mass_downloader - INFO: Total acquired or preexisting stations: 0\n"
     ]
    },
    {
     "name": "stderr",
     "output_type": "stream",
     "text": [
      "[2024-02-28 22:18:45,218] - obspy.clients.fdsn.mass_downloader - INFO: Total acquired or preexisting stations: 0\n"
     ]
    },
    {
     "name": "stderr",
     "output_type": "stream",
     "text": [
      "[2024-02-28 22:18:45,218] - obspy.clients.fdsn.mass_downloader - INFO: Total acquired or preexisting stations: 0\n"
     ]
    },
    {
     "name": "stderr",
     "output_type": "stream",
     "text": [
      "[2024-02-28 22:18:45,218] - obspy.clients.fdsn.mass_downloader - INFO: Total acquired or preexisting stations: 0\n"
     ]
    },
    {
     "name": "stderr",
     "output_type": "stream",
     "text": [
      "[2024-02-28 22:18:45,218] - obspy.clients.fdsn.mass_downloader - INFO: Total acquired or preexisting stations: 0\n"
     ]
    },
    {
     "name": "stderr",
     "output_type": "stream",
     "text": [
      "[2024-02-28 22:18:45,218] - obspy.clients.fdsn.mass_downloader - INFO: Total acquired or preexisting stations: 0\n"
     ]
    },
    {
     "name": "stderr",
     "output_type": "stream",
     "text": [
      "[2024-02-28 22:18:45,218] - obspy.clients.fdsn.mass_downloader - INFO: Total acquired or preexisting stations: 0\n"
     ]
    },
    {
     "name": "stderr",
     "output_type": "stream",
     "text": [
      "[2024-02-28 22:18:45,218] - obspy.clients.fdsn.mass_downloader - INFO: Total acquired or preexisting stations: 0\n"
     ]
    },
    {
     "name": "stderr",
     "output_type": "stream",
     "text": [
      "[2024-02-28 22:18:45,222] - obspy.clients.fdsn.mass_downloader - INFO: Client 'http://service.iris.edu' - Requesting reliable availability.\n"
     ]
    },
    {
     "name": "stderr",
     "output_type": "stream",
     "text": [
      "[2024-02-28 22:18:45,222] - obspy.clients.fdsn.mass_downloader - INFO: Client 'http://service.iris.edu' - Requesting reliable availability.\n"
     ]
    },
    {
     "name": "stderr",
     "output_type": "stream",
     "text": [
      "[2024-02-28 22:18:45,222] - obspy.clients.fdsn.mass_downloader - INFO: Client 'http://service.iris.edu' - Requesting reliable availability.\n"
     ]
    },
    {
     "name": "stderr",
     "output_type": "stream",
     "text": [
      "[2024-02-28 22:18:45,222] - obspy.clients.fdsn.mass_downloader - INFO: Client 'http://service.iris.edu' - Requesting reliable availability.\n"
     ]
    },
    {
     "name": "stderr",
     "output_type": "stream",
     "text": [
      "[2024-02-28 22:18:45,222] - obspy.clients.fdsn.mass_downloader - INFO: Client 'http://service.iris.edu' - Requesting reliable availability.\n"
     ]
    },
    {
     "name": "stderr",
     "output_type": "stream",
     "text": [
      "[2024-02-28 22:18:45,222] - obspy.clients.fdsn.mass_downloader - INFO: Client 'http://service.iris.edu' - Requesting reliable availability.\n"
     ]
    },
    {
     "name": "stderr",
     "output_type": "stream",
     "text": [
      "[2024-02-28 22:18:45,222] - obspy.clients.fdsn.mass_downloader - INFO: Client 'http://service.iris.edu' - Requesting reliable availability.\n"
     ]
    },
    {
     "name": "stderr",
     "output_type": "stream",
     "text": [
      "[2024-02-28 22:18:45,222] - obspy.clients.fdsn.mass_downloader - INFO: Client 'http://service.iris.edu' - Requesting reliable availability.\n"
     ]
    },
    {
     "name": "stderr",
     "output_type": "stream",
     "text": [
      "[2024-02-28 22:18:45,222] - obspy.clients.fdsn.mass_downloader - INFO: Client 'http://service.iris.edu' - Requesting reliable availability.\n"
     ]
    },
    {
     "name": "stderr",
     "output_type": "stream",
     "text": [
      "[2024-02-28 22:18:46,325] - obspy.clients.fdsn.mass_downloader - INFO: Client 'http://service.iris.edu' - Successfully requested availability (1.10 seconds)\n"
     ]
    },
    {
     "name": "stderr",
     "output_type": "stream",
     "text": [
      "[2024-02-28 22:18:46,325] - obspy.clients.fdsn.mass_downloader - INFO: Client 'http://service.iris.edu' - Successfully requested availability (1.10 seconds)\n"
     ]
    },
    {
     "name": "stderr",
     "output_type": "stream",
     "text": [
      "[2024-02-28 22:18:46,325] - obspy.clients.fdsn.mass_downloader - INFO: Client 'http://service.iris.edu' - Successfully requested availability (1.10 seconds)\n"
     ]
    },
    {
     "name": "stderr",
     "output_type": "stream",
     "text": [
      "[2024-02-28 22:18:46,325] - obspy.clients.fdsn.mass_downloader - INFO: Client 'http://service.iris.edu' - Successfully requested availability (1.10 seconds)\n"
     ]
    },
    {
     "name": "stderr",
     "output_type": "stream",
     "text": [
      "[2024-02-28 22:18:46,325] - obspy.clients.fdsn.mass_downloader - INFO: Client 'http://service.iris.edu' - Successfully requested availability (1.10 seconds)\n"
     ]
    },
    {
     "name": "stderr",
     "output_type": "stream",
     "text": [
      "[2024-02-28 22:18:46,325] - obspy.clients.fdsn.mass_downloader - INFO: Client 'http://service.iris.edu' - Successfully requested availability (1.10 seconds)\n"
     ]
    },
    {
     "name": "stderr",
     "output_type": "stream",
     "text": [
      "[2024-02-28 22:18:46,325] - obspy.clients.fdsn.mass_downloader - INFO: Client 'http://service.iris.edu' - Successfully requested availability (1.10 seconds)\n"
     ]
    },
    {
     "name": "stderr",
     "output_type": "stream",
     "text": [
      "[2024-02-28 22:18:46,325] - obspy.clients.fdsn.mass_downloader - INFO: Client 'http://service.iris.edu' - Successfully requested availability (1.10 seconds)\n"
     ]
    },
    {
     "name": "stderr",
     "output_type": "stream",
     "text": [
      "[2024-02-28 22:18:46,325] - obspy.clients.fdsn.mass_downloader - INFO: Client 'http://service.iris.edu' - Successfully requested availability (1.10 seconds)\n"
     ]
    },
    {
     "name": "stderr",
     "output_type": "stream",
     "text": [
      "[2024-02-28 22:18:46,361] - obspy.clients.fdsn.mass_downloader - INFO: Client 'http://service.iris.edu' - Found 19 stations (57 channels).\n"
     ]
    },
    {
     "name": "stderr",
     "output_type": "stream",
     "text": [
      "[2024-02-28 22:18:46,361] - obspy.clients.fdsn.mass_downloader - INFO: Client 'http://service.iris.edu' - Found 19 stations (57 channels).\n"
     ]
    },
    {
     "name": "stderr",
     "output_type": "stream",
     "text": [
      "[2024-02-28 22:18:46,361] - obspy.clients.fdsn.mass_downloader - INFO: Client 'http://service.iris.edu' - Found 19 stations (57 channels).\n"
     ]
    },
    {
     "name": "stderr",
     "output_type": "stream",
     "text": [
      "[2024-02-28 22:18:46,361] - obspy.clients.fdsn.mass_downloader - INFO: Client 'http://service.iris.edu' - Found 19 stations (57 channels).\n"
     ]
    },
    {
     "name": "stderr",
     "output_type": "stream",
     "text": [
      "[2024-02-28 22:18:46,361] - obspy.clients.fdsn.mass_downloader - INFO: Client 'http://service.iris.edu' - Found 19 stations (57 channels).\n"
     ]
    },
    {
     "name": "stderr",
     "output_type": "stream",
     "text": [
      "[2024-02-28 22:18:46,361] - obspy.clients.fdsn.mass_downloader - INFO: Client 'http://service.iris.edu' - Found 19 stations (57 channels).\n"
     ]
    },
    {
     "name": "stderr",
     "output_type": "stream",
     "text": [
      "[2024-02-28 22:18:46,361] - obspy.clients.fdsn.mass_downloader - INFO: Client 'http://service.iris.edu' - Found 19 stations (57 channels).\n"
     ]
    },
    {
     "name": "stderr",
     "output_type": "stream",
     "text": [
      "[2024-02-28 22:18:46,361] - obspy.clients.fdsn.mass_downloader - INFO: Client 'http://service.iris.edu' - Found 19 stations (57 channels).\n"
     ]
    },
    {
     "name": "stderr",
     "output_type": "stream",
     "text": [
      "[2024-02-28 22:18:46,361] - obspy.clients.fdsn.mass_downloader - INFO: Client 'http://service.iris.edu' - Found 19 stations (57 channels).\n"
     ]
    },
    {
     "name": "stderr",
     "output_type": "stream",
     "text": [
      "[2024-02-28 22:18:46,368] - obspy.clients.fdsn.mass_downloader - INFO: Client 'http://service.iris.edu' - Will attempt to download data from 19 stations.\n"
     ]
    },
    {
     "name": "stderr",
     "output_type": "stream",
     "text": [
      "[2024-02-28 22:18:46,368] - obspy.clients.fdsn.mass_downloader - INFO: Client 'http://service.iris.edu' - Will attempt to download data from 19 stations.\n"
     ]
    },
    {
     "name": "stderr",
     "output_type": "stream",
     "text": [
      "[2024-02-28 22:18:46,368] - obspy.clients.fdsn.mass_downloader - INFO: Client 'http://service.iris.edu' - Will attempt to download data from 19 stations.\n"
     ]
    },
    {
     "name": "stderr",
     "output_type": "stream",
     "text": [
      "[2024-02-28 22:18:46,368] - obspy.clients.fdsn.mass_downloader - INFO: Client 'http://service.iris.edu' - Will attempt to download data from 19 stations.\n"
     ]
    },
    {
     "name": "stderr",
     "output_type": "stream",
     "text": [
      "[2024-02-28 22:18:46,368] - obspy.clients.fdsn.mass_downloader - INFO: Client 'http://service.iris.edu' - Will attempt to download data from 19 stations.\n"
     ]
    },
    {
     "name": "stderr",
     "output_type": "stream",
     "text": [
      "[2024-02-28 22:18:46,368] - obspy.clients.fdsn.mass_downloader - INFO: Client 'http://service.iris.edu' - Will attempt to download data from 19 stations.\n"
     ]
    },
    {
     "name": "stderr",
     "output_type": "stream",
     "text": [
      "[2024-02-28 22:18:46,368] - obspy.clients.fdsn.mass_downloader - INFO: Client 'http://service.iris.edu' - Will attempt to download data from 19 stations.\n"
     ]
    },
    {
     "name": "stderr",
     "output_type": "stream",
     "text": [
      "[2024-02-28 22:18:46,368] - obspy.clients.fdsn.mass_downloader - INFO: Client 'http://service.iris.edu' - Will attempt to download data from 19 stations.\n"
     ]
    },
    {
     "name": "stderr",
     "output_type": "stream",
     "text": [
      "[2024-02-28 22:18:46,368] - obspy.clients.fdsn.mass_downloader - INFO: Client 'http://service.iris.edu' - Will attempt to download data from 19 stations.\n"
     ]
    },
    {
     "name": "stderr",
     "output_type": "stream",
     "text": [
      "[2024-02-28 22:18:46,375] - obspy.clients.fdsn.mass_downloader - INFO: Client 'http://service.iris.edu' - Status for 48 time intervals/channels before downloading: EXISTS\n"
     ]
    },
    {
     "name": "stderr",
     "output_type": "stream",
     "text": [
      "[2024-02-28 22:18:46,375] - obspy.clients.fdsn.mass_downloader - INFO: Client 'http://service.iris.edu' - Status for 48 time intervals/channels before downloading: EXISTS\n"
     ]
    },
    {
     "name": "stderr",
     "output_type": "stream",
     "text": [
      "[2024-02-28 22:18:46,375] - obspy.clients.fdsn.mass_downloader - INFO: Client 'http://service.iris.edu' - Status for 48 time intervals/channels before downloading: EXISTS\n"
     ]
    },
    {
     "name": "stderr",
     "output_type": "stream",
     "text": [
      "[2024-02-28 22:18:46,375] - obspy.clients.fdsn.mass_downloader - INFO: Client 'http://service.iris.edu' - Status for 48 time intervals/channels before downloading: EXISTS\n"
     ]
    },
    {
     "name": "stderr",
     "output_type": "stream",
     "text": [
      "[2024-02-28 22:18:46,375] - obspy.clients.fdsn.mass_downloader - INFO: Client 'http://service.iris.edu' - Status for 48 time intervals/channels before downloading: EXISTS\n"
     ]
    },
    {
     "name": "stderr",
     "output_type": "stream",
     "text": [
      "[2024-02-28 22:18:46,375] - obspy.clients.fdsn.mass_downloader - INFO: Client 'http://service.iris.edu' - Status for 48 time intervals/channels before downloading: EXISTS\n"
     ]
    },
    {
     "name": "stderr",
     "output_type": "stream",
     "text": [
      "[2024-02-28 22:18:46,375] - obspy.clients.fdsn.mass_downloader - INFO: Client 'http://service.iris.edu' - Status for 48 time intervals/channels before downloading: EXISTS\n"
     ]
    },
    {
     "name": "stderr",
     "output_type": "stream",
     "text": [
      "[2024-02-28 22:18:46,375] - obspy.clients.fdsn.mass_downloader - INFO: Client 'http://service.iris.edu' - Status for 48 time intervals/channels before downloading: EXISTS\n"
     ]
    },
    {
     "name": "stderr",
     "output_type": "stream",
     "text": [
      "[2024-02-28 22:18:46,375] - obspy.clients.fdsn.mass_downloader - INFO: Client 'http://service.iris.edu' - Status for 48 time intervals/channels before downloading: EXISTS\n"
     ]
    },
    {
     "name": "stderr",
     "output_type": "stream",
     "text": [
      "[2024-02-28 22:18:46,378] - obspy.clients.fdsn.mass_downloader - INFO: Client 'http://service.iris.edu' - Status for 9 time intervals/channels before downloading: NEEDS_DOWNLOADING\n"
     ]
    },
    {
     "name": "stderr",
     "output_type": "stream",
     "text": [
      "[2024-02-28 22:18:46,378] - obspy.clients.fdsn.mass_downloader - INFO: Client 'http://service.iris.edu' - Status for 9 time intervals/channels before downloading: NEEDS_DOWNLOADING\n"
     ]
    },
    {
     "name": "stderr",
     "output_type": "stream",
     "text": [
      "[2024-02-28 22:18:46,378] - obspy.clients.fdsn.mass_downloader - INFO: Client 'http://service.iris.edu' - Status for 9 time intervals/channels before downloading: NEEDS_DOWNLOADING\n"
     ]
    },
    {
     "name": "stderr",
     "output_type": "stream",
     "text": [
      "[2024-02-28 22:18:46,378] - obspy.clients.fdsn.mass_downloader - INFO: Client 'http://service.iris.edu' - Status for 9 time intervals/channels before downloading: NEEDS_DOWNLOADING\n"
     ]
    },
    {
     "name": "stderr",
     "output_type": "stream",
     "text": [
      "[2024-02-28 22:18:46,378] - obspy.clients.fdsn.mass_downloader - INFO: Client 'http://service.iris.edu' - Status for 9 time intervals/channels before downloading: NEEDS_DOWNLOADING\n"
     ]
    },
    {
     "name": "stderr",
     "output_type": "stream",
     "text": [
      "[2024-02-28 22:18:46,378] - obspy.clients.fdsn.mass_downloader - INFO: Client 'http://service.iris.edu' - Status for 9 time intervals/channels before downloading: NEEDS_DOWNLOADING\n"
     ]
    },
    {
     "name": "stderr",
     "output_type": "stream",
     "text": [
      "[2024-02-28 22:18:46,378] - obspy.clients.fdsn.mass_downloader - INFO: Client 'http://service.iris.edu' - Status for 9 time intervals/channels before downloading: NEEDS_DOWNLOADING\n"
     ]
    },
    {
     "name": "stderr",
     "output_type": "stream",
     "text": [
      "[2024-02-28 22:18:46,378] - obspy.clients.fdsn.mass_downloader - INFO: Client 'http://service.iris.edu' - Status for 9 time intervals/channels before downloading: NEEDS_DOWNLOADING\n"
     ]
    },
    {
     "name": "stderr",
     "output_type": "stream",
     "text": [
      "[2024-02-28 22:18:46,378] - obspy.clients.fdsn.mass_downloader - INFO: Client 'http://service.iris.edu' - Status for 9 time intervals/channels before downloading: NEEDS_DOWNLOADING\n"
     ]
    },
    {
     "name": "stderr",
     "output_type": "stream",
     "text": [
      "[2024-02-28 22:18:46,782] - obspy.clients.fdsn.mass_downloader - INFO: Client 'http://service.iris.edu' - No data available for request.\n",
      "HTTP Status code: 204\n"
     ]
    },
    {
     "name": "stderr",
     "output_type": "stream",
     "text": [
      "[2024-02-28 22:18:46,782] - obspy.clients.fdsn.mass_downloader - INFO: Client 'http://service.iris.edu' - No data available for request.\n",
      "HTTP Status code: 204\n"
     ]
    },
    {
     "name": "stderr",
     "output_type": "stream",
     "text": [
      "[2024-02-28 22:18:46,782] - obspy.clients.fdsn.mass_downloader - INFO: Client 'http://service.iris.edu' - No data available for request.\n",
      "HTTP Status code: 204\n"
     ]
    },
    {
     "name": "stderr",
     "output_type": "stream",
     "text": [
      "[2024-02-28 22:18:46,782] - obspy.clients.fdsn.mass_downloader - INFO: Client 'http://service.iris.edu' - No data available for request.\n",
      "HTTP Status code: 204\n"
     ]
    },
    {
     "name": "stderr",
     "output_type": "stream",
     "text": [
      "[2024-02-28 22:18:46,782] - obspy.clients.fdsn.mass_downloader - INFO: Client 'http://service.iris.edu' - No data available for request.\n",
      "HTTP Status code: 204\n"
     ]
    },
    {
     "name": "stderr",
     "output_type": "stream",
     "text": [
      "[2024-02-28 22:18:46,782] - obspy.clients.fdsn.mass_downloader - INFO: Client 'http://service.iris.edu' - No data available for request.\n",
      "HTTP Status code: 204\n"
     ]
    },
    {
     "name": "stderr",
     "output_type": "stream",
     "text": [
      "[2024-02-28 22:18:46,782] - obspy.clients.fdsn.mass_downloader - INFO: Client 'http://service.iris.edu' - No data available for request.\n",
      "HTTP Status code: 204\n"
     ]
    },
    {
     "name": "stderr",
     "output_type": "stream",
     "text": [
      "[2024-02-28 22:18:46,782] - obspy.clients.fdsn.mass_downloader - INFO: Client 'http://service.iris.edu' - No data available for request.\n",
      "HTTP Status code: 204\n"
     ]
    },
    {
     "name": "stderr",
     "output_type": "stream",
     "text": [
      "[2024-02-28 22:18:46,782] - obspy.clients.fdsn.mass_downloader - INFO: Client 'http://service.iris.edu' - No data available for request.\n",
      "HTTP Status code: 204\n"
     ]
    },
    {
     "name": "stderr",
     "output_type": "stream",
     "text": [
      "[2024-02-28 22:18:46,787] - obspy.clients.fdsn.mass_downloader - INFO: Client 'http://service.iris.edu' - Launching basic QC checks...\n"
     ]
    },
    {
     "name": "stderr",
     "output_type": "stream",
     "text": [
      "[2024-02-28 22:18:46,787] - obspy.clients.fdsn.mass_downloader - INFO: Client 'http://service.iris.edu' - Launching basic QC checks...\n"
     ]
    },
    {
     "name": "stderr",
     "output_type": "stream",
     "text": [
      "[2024-02-28 22:18:46,787] - obspy.clients.fdsn.mass_downloader - INFO: Client 'http://service.iris.edu' - Launching basic QC checks...\n"
     ]
    },
    {
     "name": "stderr",
     "output_type": "stream",
     "text": [
      "[2024-02-28 22:18:46,787] - obspy.clients.fdsn.mass_downloader - INFO: Client 'http://service.iris.edu' - Launching basic QC checks...\n"
     ]
    },
    {
     "name": "stderr",
     "output_type": "stream",
     "text": [
      "[2024-02-28 22:18:46,787] - obspy.clients.fdsn.mass_downloader - INFO: Client 'http://service.iris.edu' - Launching basic QC checks...\n"
     ]
    },
    {
     "name": "stderr",
     "output_type": "stream",
     "text": [
      "[2024-02-28 22:18:46,787] - obspy.clients.fdsn.mass_downloader - INFO: Client 'http://service.iris.edu' - Launching basic QC checks...\n"
     ]
    },
    {
     "name": "stderr",
     "output_type": "stream",
     "text": [
      "[2024-02-28 22:18:46,787] - obspy.clients.fdsn.mass_downloader - INFO: Client 'http://service.iris.edu' - Launching basic QC checks...\n"
     ]
    },
    {
     "name": "stderr",
     "output_type": "stream",
     "text": [
      "[2024-02-28 22:18:46,787] - obspy.clients.fdsn.mass_downloader - INFO: Client 'http://service.iris.edu' - Launching basic QC checks...\n"
     ]
    },
    {
     "name": "stderr",
     "output_type": "stream",
     "text": [
      "[2024-02-28 22:18:46,787] - obspy.clients.fdsn.mass_downloader - INFO: Client 'http://service.iris.edu' - Launching basic QC checks...\n"
     ]
    },
    {
     "name": "stderr",
     "output_type": "stream",
     "text": [
      "[2024-02-28 22:18:46,791] - obspy.clients.fdsn.mass_downloader - INFO: Client 'http://service.iris.edu' - Downloaded 0.0 MB [0.00 KB/sec] of data, 0.0 MB of which were discarded afterwards.\n"
     ]
    },
    {
     "name": "stderr",
     "output_type": "stream",
     "text": [
      "[2024-02-28 22:18:46,791] - obspy.clients.fdsn.mass_downloader - INFO: Client 'http://service.iris.edu' - Downloaded 0.0 MB [0.00 KB/sec] of data, 0.0 MB of which were discarded afterwards.\n"
     ]
    },
    {
     "name": "stderr",
     "output_type": "stream",
     "text": [
      "[2024-02-28 22:18:46,791] - obspy.clients.fdsn.mass_downloader - INFO: Client 'http://service.iris.edu' - Downloaded 0.0 MB [0.00 KB/sec] of data, 0.0 MB of which were discarded afterwards.\n"
     ]
    },
    {
     "name": "stderr",
     "output_type": "stream",
     "text": [
      "[2024-02-28 22:18:46,791] - obspy.clients.fdsn.mass_downloader - INFO: Client 'http://service.iris.edu' - Downloaded 0.0 MB [0.00 KB/sec] of data, 0.0 MB of which were discarded afterwards.\n"
     ]
    },
    {
     "name": "stderr",
     "output_type": "stream",
     "text": [
      "[2024-02-28 22:18:46,791] - obspy.clients.fdsn.mass_downloader - INFO: Client 'http://service.iris.edu' - Downloaded 0.0 MB [0.00 KB/sec] of data, 0.0 MB of which were discarded afterwards.\n"
     ]
    },
    {
     "name": "stderr",
     "output_type": "stream",
     "text": [
      "[2024-02-28 22:18:46,791] - obspy.clients.fdsn.mass_downloader - INFO: Client 'http://service.iris.edu' - Downloaded 0.0 MB [0.00 KB/sec] of data, 0.0 MB of which were discarded afterwards.\n"
     ]
    },
    {
     "name": "stderr",
     "output_type": "stream",
     "text": [
      "[2024-02-28 22:18:46,791] - obspy.clients.fdsn.mass_downloader - INFO: Client 'http://service.iris.edu' - Downloaded 0.0 MB [0.00 KB/sec] of data, 0.0 MB of which were discarded afterwards.\n"
     ]
    },
    {
     "name": "stderr",
     "output_type": "stream",
     "text": [
      "[2024-02-28 22:18:46,791] - obspy.clients.fdsn.mass_downloader - INFO: Client 'http://service.iris.edu' - Downloaded 0.0 MB [0.00 KB/sec] of data, 0.0 MB of which were discarded afterwards.\n"
     ]
    },
    {
     "name": "stderr",
     "output_type": "stream",
     "text": [
      "[2024-02-28 22:18:46,791] - obspy.clients.fdsn.mass_downloader - INFO: Client 'http://service.iris.edu' - Downloaded 0.0 MB [0.00 KB/sec] of data, 0.0 MB of which were discarded afterwards.\n"
     ]
    },
    {
     "name": "stderr",
     "output_type": "stream",
     "text": [
      "[2024-02-28 22:18:46,796] - obspy.clients.fdsn.mass_downloader - INFO: Client 'http://service.iris.edu' - Status for 9 time intervals/channels after downloading: DOWNLOAD_FAILED\n"
     ]
    },
    {
     "name": "stderr",
     "output_type": "stream",
     "text": [
      "[2024-02-28 22:18:46,796] - obspy.clients.fdsn.mass_downloader - INFO: Client 'http://service.iris.edu' - Status for 9 time intervals/channels after downloading: DOWNLOAD_FAILED\n"
     ]
    },
    {
     "name": "stderr",
     "output_type": "stream",
     "text": [
      "[2024-02-28 22:18:46,796] - obspy.clients.fdsn.mass_downloader - INFO: Client 'http://service.iris.edu' - Status for 9 time intervals/channels after downloading: DOWNLOAD_FAILED\n"
     ]
    },
    {
     "name": "stderr",
     "output_type": "stream",
     "text": [
      "[2024-02-28 22:18:46,796] - obspy.clients.fdsn.mass_downloader - INFO: Client 'http://service.iris.edu' - Status for 9 time intervals/channels after downloading: DOWNLOAD_FAILED\n"
     ]
    },
    {
     "name": "stderr",
     "output_type": "stream",
     "text": [
      "[2024-02-28 22:18:46,796] - obspy.clients.fdsn.mass_downloader - INFO: Client 'http://service.iris.edu' - Status for 9 time intervals/channels after downloading: DOWNLOAD_FAILED\n"
     ]
    },
    {
     "name": "stderr",
     "output_type": "stream",
     "text": [
      "[2024-02-28 22:18:46,796] - obspy.clients.fdsn.mass_downloader - INFO: Client 'http://service.iris.edu' - Status for 9 time intervals/channels after downloading: DOWNLOAD_FAILED\n"
     ]
    },
    {
     "name": "stderr",
     "output_type": "stream",
     "text": [
      "[2024-02-28 22:18:46,796] - obspy.clients.fdsn.mass_downloader - INFO: Client 'http://service.iris.edu' - Status for 9 time intervals/channels after downloading: DOWNLOAD_FAILED\n"
     ]
    },
    {
     "name": "stderr",
     "output_type": "stream",
     "text": [
      "[2024-02-28 22:18:46,796] - obspy.clients.fdsn.mass_downloader - INFO: Client 'http://service.iris.edu' - Status for 9 time intervals/channels after downloading: DOWNLOAD_FAILED\n"
     ]
    },
    {
     "name": "stderr",
     "output_type": "stream",
     "text": [
      "[2024-02-28 22:18:46,796] - obspy.clients.fdsn.mass_downloader - INFO: Client 'http://service.iris.edu' - Status for 9 time intervals/channels after downloading: DOWNLOAD_FAILED\n"
     ]
    },
    {
     "name": "stderr",
     "output_type": "stream",
     "text": [
      "[2024-02-28 22:18:46,800] - obspy.clients.fdsn.mass_downloader - INFO: Client 'http://service.iris.edu' - Status for 48 time intervals/channels after downloading: EXISTS\n"
     ]
    },
    {
     "name": "stderr",
     "output_type": "stream",
     "text": [
      "[2024-02-28 22:18:46,800] - obspy.clients.fdsn.mass_downloader - INFO: Client 'http://service.iris.edu' - Status for 48 time intervals/channels after downloading: EXISTS\n"
     ]
    },
    {
     "name": "stderr",
     "output_type": "stream",
     "text": [
      "[2024-02-28 22:18:46,800] - obspy.clients.fdsn.mass_downloader - INFO: Client 'http://service.iris.edu' - Status for 48 time intervals/channels after downloading: EXISTS\n"
     ]
    },
    {
     "name": "stderr",
     "output_type": "stream",
     "text": [
      "[2024-02-28 22:18:46,800] - obspy.clients.fdsn.mass_downloader - INFO: Client 'http://service.iris.edu' - Status for 48 time intervals/channels after downloading: EXISTS\n"
     ]
    },
    {
     "name": "stderr",
     "output_type": "stream",
     "text": [
      "[2024-02-28 22:18:46,800] - obspy.clients.fdsn.mass_downloader - INFO: Client 'http://service.iris.edu' - Status for 48 time intervals/channels after downloading: EXISTS\n"
     ]
    },
    {
     "name": "stderr",
     "output_type": "stream",
     "text": [
      "[2024-02-28 22:18:46,800] - obspy.clients.fdsn.mass_downloader - INFO: Client 'http://service.iris.edu' - Status for 48 time intervals/channels after downloading: EXISTS\n"
     ]
    },
    {
     "name": "stderr",
     "output_type": "stream",
     "text": [
      "[2024-02-28 22:18:46,800] - obspy.clients.fdsn.mass_downloader - INFO: Client 'http://service.iris.edu' - Status for 48 time intervals/channels after downloading: EXISTS\n"
     ]
    },
    {
     "name": "stderr",
     "output_type": "stream",
     "text": [
      "[2024-02-28 22:18:46,800] - obspy.clients.fdsn.mass_downloader - INFO: Client 'http://service.iris.edu' - Status for 48 time intervals/channels after downloading: EXISTS\n"
     ]
    },
    {
     "name": "stderr",
     "output_type": "stream",
     "text": [
      "[2024-02-28 22:18:46,800] - obspy.clients.fdsn.mass_downloader - INFO: Client 'http://service.iris.edu' - Status for 48 time intervals/channels after downloading: EXISTS\n"
     ]
    },
    {
     "name": "stderr",
     "output_type": "stream",
     "text": [
      "[2024-02-28 22:18:46,821] - obspy.clients.fdsn.mass_downloader - INFO: Client 'http://service.iris.edu' - No station information to download.\n"
     ]
    },
    {
     "name": "stderr",
     "output_type": "stream",
     "text": [
      "[2024-02-28 22:18:46,821] - obspy.clients.fdsn.mass_downloader - INFO: Client 'http://service.iris.edu' - No station information to download.\n"
     ]
    },
    {
     "name": "stderr",
     "output_type": "stream",
     "text": [
      "[2024-02-28 22:18:46,821] - obspy.clients.fdsn.mass_downloader - INFO: Client 'http://service.iris.edu' - No station information to download.\n"
     ]
    },
    {
     "name": "stderr",
     "output_type": "stream",
     "text": [
      "[2024-02-28 22:18:46,821] - obspy.clients.fdsn.mass_downloader - INFO: Client 'http://service.iris.edu' - No station information to download.\n"
     ]
    },
    {
     "name": "stderr",
     "output_type": "stream",
     "text": [
      "[2024-02-28 22:18:46,821] - obspy.clients.fdsn.mass_downloader - INFO: Client 'http://service.iris.edu' - No station information to download.\n"
     ]
    },
    {
     "name": "stderr",
     "output_type": "stream",
     "text": [
      "[2024-02-28 22:18:46,821] - obspy.clients.fdsn.mass_downloader - INFO: Client 'http://service.iris.edu' - No station information to download.\n"
     ]
    },
    {
     "name": "stderr",
     "output_type": "stream",
     "text": [
      "[2024-02-28 22:18:46,821] - obspy.clients.fdsn.mass_downloader - INFO: Client 'http://service.iris.edu' - No station information to download.\n"
     ]
    },
    {
     "name": "stderr",
     "output_type": "stream",
     "text": [
      "[2024-02-28 22:18:46,821] - obspy.clients.fdsn.mass_downloader - INFO: Client 'http://service.iris.edu' - No station information to download.\n"
     ]
    },
    {
     "name": "stderr",
     "output_type": "stream",
     "text": [
      "[2024-02-28 22:18:46,821] - obspy.clients.fdsn.mass_downloader - INFO: Client 'http://service.iris.edu' - No station information to download.\n"
     ]
    },
    {
     "name": "stderr",
     "output_type": "stream",
     "text": [
      "[2024-02-28 22:18:46,825] - obspy.clients.fdsn.mass_downloader - INFO: ============================== Final report\n"
     ]
    },
    {
     "name": "stderr",
     "output_type": "stream",
     "text": [
      "[2024-02-28 22:18:46,825] - obspy.clients.fdsn.mass_downloader - INFO: ============================== Final report\n"
     ]
    },
    {
     "name": "stderr",
     "output_type": "stream",
     "text": [
      "[2024-02-28 22:18:46,825] - obspy.clients.fdsn.mass_downloader - INFO: ============================== Final report\n"
     ]
    },
    {
     "name": "stderr",
     "output_type": "stream",
     "text": [
      "[2024-02-28 22:18:46,825] - obspy.clients.fdsn.mass_downloader - INFO: ============================== Final report\n"
     ]
    },
    {
     "name": "stderr",
     "output_type": "stream",
     "text": [
      "[2024-02-28 22:18:46,825] - obspy.clients.fdsn.mass_downloader - INFO: ============================== Final report\n"
     ]
    },
    {
     "name": "stderr",
     "output_type": "stream",
     "text": [
      "[2024-02-28 22:18:46,825] - obspy.clients.fdsn.mass_downloader - INFO: ============================== Final report\n"
     ]
    },
    {
     "name": "stderr",
     "output_type": "stream",
     "text": [
      "[2024-02-28 22:18:46,825] - obspy.clients.fdsn.mass_downloader - INFO: ============================== Final report\n"
     ]
    },
    {
     "name": "stderr",
     "output_type": "stream",
     "text": [
      "[2024-02-28 22:18:46,825] - obspy.clients.fdsn.mass_downloader - INFO: ============================== Final report\n"
     ]
    },
    {
     "name": "stderr",
     "output_type": "stream",
     "text": [
      "[2024-02-28 22:18:46,825] - obspy.clients.fdsn.mass_downloader - INFO: ============================== Final report\n"
     ]
    },
    {
     "name": "stderr",
     "output_type": "stream",
     "text": [
      "[2024-02-28 22:18:46,830] - obspy.clients.fdsn.mass_downloader - INFO: 48 MiniSEED files [0.4 MB] already existed.\n"
     ]
    },
    {
     "name": "stderr",
     "output_type": "stream",
     "text": [
      "[2024-02-28 22:18:46,830] - obspy.clients.fdsn.mass_downloader - INFO: 48 MiniSEED files [0.4 MB] already existed.\n"
     ]
    },
    {
     "name": "stderr",
     "output_type": "stream",
     "text": [
      "[2024-02-28 22:18:46,830] - obspy.clients.fdsn.mass_downloader - INFO: 48 MiniSEED files [0.4 MB] already existed.\n"
     ]
    },
    {
     "name": "stderr",
     "output_type": "stream",
     "text": [
      "[2024-02-28 22:18:46,830] - obspy.clients.fdsn.mass_downloader - INFO: 48 MiniSEED files [0.4 MB] already existed.\n"
     ]
    },
    {
     "name": "stderr",
     "output_type": "stream",
     "text": [
      "[2024-02-28 22:18:46,830] - obspy.clients.fdsn.mass_downloader - INFO: 48 MiniSEED files [0.4 MB] already existed.\n"
     ]
    },
    {
     "name": "stderr",
     "output_type": "stream",
     "text": [
      "[2024-02-28 22:18:46,830] - obspy.clients.fdsn.mass_downloader - INFO: 48 MiniSEED files [0.4 MB] already existed.\n"
     ]
    },
    {
     "name": "stderr",
     "output_type": "stream",
     "text": [
      "[2024-02-28 22:18:46,830] - obspy.clients.fdsn.mass_downloader - INFO: 48 MiniSEED files [0.4 MB] already existed.\n"
     ]
    },
    {
     "name": "stderr",
     "output_type": "stream",
     "text": [
      "[2024-02-28 22:18:46,830] - obspy.clients.fdsn.mass_downloader - INFO: 48 MiniSEED files [0.4 MB] already existed.\n"
     ]
    },
    {
     "name": "stderr",
     "output_type": "stream",
     "text": [
      "[2024-02-28 22:18:46,830] - obspy.clients.fdsn.mass_downloader - INFO: 48 MiniSEED files [0.4 MB] already existed.\n"
     ]
    },
    {
     "name": "stderr",
     "output_type": "stream",
     "text": [
      "[2024-02-28 22:18:46,836] - obspy.clients.fdsn.mass_downloader - INFO: 16 StationXML files [0.4 MB] already existed.\n"
     ]
    },
    {
     "name": "stderr",
     "output_type": "stream",
     "text": [
      "[2024-02-28 22:18:46,836] - obspy.clients.fdsn.mass_downloader - INFO: 16 StationXML files [0.4 MB] already existed.\n"
     ]
    },
    {
     "name": "stderr",
     "output_type": "stream",
     "text": [
      "[2024-02-28 22:18:46,836] - obspy.clients.fdsn.mass_downloader - INFO: 16 StationXML files [0.4 MB] already existed.\n"
     ]
    },
    {
     "name": "stderr",
     "output_type": "stream",
     "text": [
      "[2024-02-28 22:18:46,836] - obspy.clients.fdsn.mass_downloader - INFO: 16 StationXML files [0.4 MB] already existed.\n"
     ]
    },
    {
     "name": "stderr",
     "output_type": "stream",
     "text": [
      "[2024-02-28 22:18:46,836] - obspy.clients.fdsn.mass_downloader - INFO: 16 StationXML files [0.4 MB] already existed.\n"
     ]
    },
    {
     "name": "stderr",
     "output_type": "stream",
     "text": [
      "[2024-02-28 22:18:46,836] - obspy.clients.fdsn.mass_downloader - INFO: 16 StationXML files [0.4 MB] already existed.\n"
     ]
    },
    {
     "name": "stderr",
     "output_type": "stream",
     "text": [
      "[2024-02-28 22:18:46,836] - obspy.clients.fdsn.mass_downloader - INFO: 16 StationXML files [0.4 MB] already existed.\n"
     ]
    },
    {
     "name": "stderr",
     "output_type": "stream",
     "text": [
      "[2024-02-28 22:18:46,836] - obspy.clients.fdsn.mass_downloader - INFO: 16 StationXML files [0.4 MB] already existed.\n"
     ]
    },
    {
     "name": "stderr",
     "output_type": "stream",
     "text": [
      "[2024-02-28 22:18:46,836] - obspy.clients.fdsn.mass_downloader - INFO: 16 StationXML files [0.4 MB] already existed.\n"
     ]
    },
    {
     "name": "stderr",
     "output_type": "stream",
     "text": [
      "[2024-02-28 22:18:46,839] - obspy.clients.fdsn.mass_downloader - INFO: Client 'http://service.iris.edu' - Acquired 0 MiniSEED files [0.0 MB].\n"
     ]
    },
    {
     "name": "stderr",
     "output_type": "stream",
     "text": [
      "[2024-02-28 22:18:46,839] - obspy.clients.fdsn.mass_downloader - INFO: Client 'http://service.iris.edu' - Acquired 0 MiniSEED files [0.0 MB].\n"
     ]
    },
    {
     "name": "stderr",
     "output_type": "stream",
     "text": [
      "[2024-02-28 22:18:46,839] - obspy.clients.fdsn.mass_downloader - INFO: Client 'http://service.iris.edu' - Acquired 0 MiniSEED files [0.0 MB].\n"
     ]
    },
    {
     "name": "stderr",
     "output_type": "stream",
     "text": [
      "[2024-02-28 22:18:46,839] - obspy.clients.fdsn.mass_downloader - INFO: Client 'http://service.iris.edu' - Acquired 0 MiniSEED files [0.0 MB].\n"
     ]
    },
    {
     "name": "stderr",
     "output_type": "stream",
     "text": [
      "[2024-02-28 22:18:46,839] - obspy.clients.fdsn.mass_downloader - INFO: Client 'http://service.iris.edu' - Acquired 0 MiniSEED files [0.0 MB].\n"
     ]
    },
    {
     "name": "stderr",
     "output_type": "stream",
     "text": [
      "[2024-02-28 22:18:46,839] - obspy.clients.fdsn.mass_downloader - INFO: Client 'http://service.iris.edu' - Acquired 0 MiniSEED files [0.0 MB].\n"
     ]
    },
    {
     "name": "stderr",
     "output_type": "stream",
     "text": [
      "[2024-02-28 22:18:46,839] - obspy.clients.fdsn.mass_downloader - INFO: Client 'http://service.iris.edu' - Acquired 0 MiniSEED files [0.0 MB].\n"
     ]
    },
    {
     "name": "stderr",
     "output_type": "stream",
     "text": [
      "[2024-02-28 22:18:46,839] - obspy.clients.fdsn.mass_downloader - INFO: Client 'http://service.iris.edu' - Acquired 0 MiniSEED files [0.0 MB].\n"
     ]
    },
    {
     "name": "stderr",
     "output_type": "stream",
     "text": [
      "[2024-02-28 22:18:46,839] - obspy.clients.fdsn.mass_downloader - INFO: Client 'http://service.iris.edu' - Acquired 0 MiniSEED files [0.0 MB].\n"
     ]
    },
    {
     "name": "stderr",
     "output_type": "stream",
     "text": [
      "[2024-02-28 22:18:46,845] - obspy.clients.fdsn.mass_downloader - INFO: Client 'http://service.iris.edu' - Acquired 0 StationXML files [0.0 MB].\n"
     ]
    },
    {
     "name": "stderr",
     "output_type": "stream",
     "text": [
      "[2024-02-28 22:18:46,845] - obspy.clients.fdsn.mass_downloader - INFO: Client 'http://service.iris.edu' - Acquired 0 StationXML files [0.0 MB].\n"
     ]
    },
    {
     "name": "stderr",
     "output_type": "stream",
     "text": [
      "[2024-02-28 22:18:46,845] - obspy.clients.fdsn.mass_downloader - INFO: Client 'http://service.iris.edu' - Acquired 0 StationXML files [0.0 MB].\n"
     ]
    },
    {
     "name": "stderr",
     "output_type": "stream",
     "text": [
      "[2024-02-28 22:18:46,845] - obspy.clients.fdsn.mass_downloader - INFO: Client 'http://service.iris.edu' - Acquired 0 StationXML files [0.0 MB].\n"
     ]
    },
    {
     "name": "stderr",
     "output_type": "stream",
     "text": [
      "[2024-02-28 22:18:46,845] - obspy.clients.fdsn.mass_downloader - INFO: Client 'http://service.iris.edu' - Acquired 0 StationXML files [0.0 MB].\n"
     ]
    },
    {
     "name": "stderr",
     "output_type": "stream",
     "text": [
      "[2024-02-28 22:18:46,845] - obspy.clients.fdsn.mass_downloader - INFO: Client 'http://service.iris.edu' - Acquired 0 StationXML files [0.0 MB].\n"
     ]
    },
    {
     "name": "stderr",
     "output_type": "stream",
     "text": [
      "[2024-02-28 22:18:46,845] - obspy.clients.fdsn.mass_downloader - INFO: Client 'http://service.iris.edu' - Acquired 0 StationXML files [0.0 MB].\n"
     ]
    },
    {
     "name": "stderr",
     "output_type": "stream",
     "text": [
      "[2024-02-28 22:18:46,845] - obspy.clients.fdsn.mass_downloader - INFO: Client 'http://service.iris.edu' - Acquired 0 StationXML files [0.0 MB].\n"
     ]
    },
    {
     "name": "stderr",
     "output_type": "stream",
     "text": [
      "[2024-02-28 22:18:46,845] - obspy.clients.fdsn.mass_downloader - INFO: Client 'http://service.iris.edu' - Acquired 0 StationXML files [0.0 MB].\n"
     ]
    },
    {
     "name": "stderr",
     "output_type": "stream",
     "text": [
      "[2024-02-28 22:18:46,849] - obspy.clients.fdsn.mass_downloader - INFO: Downloaded 0.0 MB in total.\n"
     ]
    },
    {
     "name": "stderr",
     "output_type": "stream",
     "text": [
      "[2024-02-28 22:18:46,849] - obspy.clients.fdsn.mass_downloader - INFO: Downloaded 0.0 MB in total.\n"
     ]
    },
    {
     "name": "stderr",
     "output_type": "stream",
     "text": [
      "[2024-02-28 22:18:46,849] - obspy.clients.fdsn.mass_downloader - INFO: Downloaded 0.0 MB in total.\n"
     ]
    },
    {
     "name": "stderr",
     "output_type": "stream",
     "text": [
      "[2024-02-28 22:18:46,849] - obspy.clients.fdsn.mass_downloader - INFO: Downloaded 0.0 MB in total.\n"
     ]
    },
    {
     "name": "stderr",
     "output_type": "stream",
     "text": [
      "[2024-02-28 22:18:46,849] - obspy.clients.fdsn.mass_downloader - INFO: Downloaded 0.0 MB in total.\n"
     ]
    },
    {
     "name": "stderr",
     "output_type": "stream",
     "text": [
      "[2024-02-28 22:18:46,849] - obspy.clients.fdsn.mass_downloader - INFO: Downloaded 0.0 MB in total.\n"
     ]
    },
    {
     "name": "stderr",
     "output_type": "stream",
     "text": [
      "[2024-02-28 22:18:46,849] - obspy.clients.fdsn.mass_downloader - INFO: Downloaded 0.0 MB in total.\n"
     ]
    },
    {
     "name": "stderr",
     "output_type": "stream",
     "text": [
      "[2024-02-28 22:18:46,849] - obspy.clients.fdsn.mass_downloader - INFO: Downloaded 0.0 MB in total.\n"
     ]
    },
    {
     "name": "stderr",
     "output_type": "stream",
     "text": [
      "[2024-02-28 22:18:46,849] - obspy.clients.fdsn.mass_downloader - INFO: Downloaded 0.0 MB in total.\n"
     ]
    },
    {
     "name": "stderr",
     "output_type": "stream",
     "text": [
      "[2024-02-28 22:18:46,902] - obspy.clients.fdsn.mass_downloader - INFO: Initializing FDSN client(s) for http://service.iris.edu.\n"
     ]
    },
    {
     "name": "stderr",
     "output_type": "stream",
     "text": [
      "[2024-02-28 22:18:46,902] - obspy.clients.fdsn.mass_downloader - INFO: Initializing FDSN client(s) for http://service.iris.edu.\n"
     ]
    },
    {
     "name": "stderr",
     "output_type": "stream",
     "text": [
      "[2024-02-28 22:18:46,902] - obspy.clients.fdsn.mass_downloader - INFO: Initializing FDSN client(s) for http://service.iris.edu.\n"
     ]
    },
    {
     "name": "stderr",
     "output_type": "stream",
     "text": [
      "[2024-02-28 22:18:46,902] - obspy.clients.fdsn.mass_downloader - INFO: Initializing FDSN client(s) for http://service.iris.edu.\n"
     ]
    },
    {
     "name": "stderr",
     "output_type": "stream",
     "text": [
      "[2024-02-28 22:18:46,902] - obspy.clients.fdsn.mass_downloader - INFO: Initializing FDSN client(s) for http://service.iris.edu.\n"
     ]
    },
    {
     "name": "stderr",
     "output_type": "stream",
     "text": [
      "[2024-02-28 22:18:46,902] - obspy.clients.fdsn.mass_downloader - INFO: Initializing FDSN client(s) for http://service.iris.edu.\n"
     ]
    },
    {
     "name": "stderr",
     "output_type": "stream",
     "text": [
      "[2024-02-28 22:18:46,902] - obspy.clients.fdsn.mass_downloader - INFO: Initializing FDSN client(s) for http://service.iris.edu.\n"
     ]
    },
    {
     "name": "stderr",
     "output_type": "stream",
     "text": [
      "[2024-02-28 22:18:46,902] - obspy.clients.fdsn.mass_downloader - INFO: Initializing FDSN client(s) for http://service.iris.edu.\n"
     ]
    },
    {
     "name": "stderr",
     "output_type": "stream",
     "text": [
      "[2024-02-28 22:18:46,902] - obspy.clients.fdsn.mass_downloader - INFO: Initializing FDSN client(s) for http://service.iris.edu.\n"
     ]
    },
    {
     "name": "stderr",
     "output_type": "stream",
     "text": [
      "[2024-02-28 22:18:46,902] - obspy.clients.fdsn.mass_downloader - INFO: Initializing FDSN client(s) for http://service.iris.edu.\n"
     ]
    },
    {
     "name": "stderr",
     "output_type": "stream",
     "text": [
      "[2024-02-28 22:18:46,908] - obspy.clients.fdsn.mass_downloader - INFO: Successfully initialized 1 client(s): http://service.iris.edu.\n"
     ]
    },
    {
     "name": "stderr",
     "output_type": "stream",
     "text": [
      "[2024-02-28 22:18:46,908] - obspy.clients.fdsn.mass_downloader - INFO: Successfully initialized 1 client(s): http://service.iris.edu.\n"
     ]
    },
    {
     "name": "stderr",
     "output_type": "stream",
     "text": [
      "[2024-02-28 22:18:46,908] - obspy.clients.fdsn.mass_downloader - INFO: Successfully initialized 1 client(s): http://service.iris.edu.\n"
     ]
    },
    {
     "name": "stderr",
     "output_type": "stream",
     "text": [
      "[2024-02-28 22:18:46,908] - obspy.clients.fdsn.mass_downloader - INFO: Successfully initialized 1 client(s): http://service.iris.edu.\n"
     ]
    },
    {
     "name": "stderr",
     "output_type": "stream",
     "text": [
      "[2024-02-28 22:18:46,908] - obspy.clients.fdsn.mass_downloader - INFO: Successfully initialized 1 client(s): http://service.iris.edu.\n"
     ]
    },
    {
     "name": "stderr",
     "output_type": "stream",
     "text": [
      "[2024-02-28 22:18:46,908] - obspy.clients.fdsn.mass_downloader - INFO: Successfully initialized 1 client(s): http://service.iris.edu.\n"
     ]
    },
    {
     "name": "stderr",
     "output_type": "stream",
     "text": [
      "[2024-02-28 22:18:46,908] - obspy.clients.fdsn.mass_downloader - INFO: Successfully initialized 1 client(s): http://service.iris.edu.\n"
     ]
    },
    {
     "name": "stderr",
     "output_type": "stream",
     "text": [
      "[2024-02-28 22:18:46,908] - obspy.clients.fdsn.mass_downloader - INFO: Successfully initialized 1 client(s): http://service.iris.edu.\n"
     ]
    },
    {
     "name": "stderr",
     "output_type": "stream",
     "text": [
      "[2024-02-28 22:18:46,908] - obspy.clients.fdsn.mass_downloader - INFO: Successfully initialized 1 client(s): http://service.iris.edu.\n"
     ]
    },
    {
     "name": "stderr",
     "output_type": "stream",
     "text": [
      "[2024-02-28 22:18:46,908] - obspy.clients.fdsn.mass_downloader - INFO: Successfully initialized 1 client(s): http://service.iris.edu.\n"
     ]
    },
    {
     "name": "stderr",
     "output_type": "stream",
     "text": [
      "[2024-02-28 22:18:46,913] - obspy.clients.fdsn.mass_downloader - INFO: Total acquired or preexisting stations: 0\n"
     ]
    },
    {
     "name": "stderr",
     "output_type": "stream",
     "text": [
      "[2024-02-28 22:18:46,913] - obspy.clients.fdsn.mass_downloader - INFO: Total acquired or preexisting stations: 0\n"
     ]
    },
    {
     "name": "stderr",
     "output_type": "stream",
     "text": [
      "[2024-02-28 22:18:46,913] - obspy.clients.fdsn.mass_downloader - INFO: Total acquired or preexisting stations: 0\n"
     ]
    },
    {
     "name": "stderr",
     "output_type": "stream",
     "text": [
      "[2024-02-28 22:18:46,913] - obspy.clients.fdsn.mass_downloader - INFO: Total acquired or preexisting stations: 0\n"
     ]
    },
    {
     "name": "stderr",
     "output_type": "stream",
     "text": [
      "[2024-02-28 22:18:46,913] - obspy.clients.fdsn.mass_downloader - INFO: Total acquired or preexisting stations: 0\n"
     ]
    },
    {
     "name": "stderr",
     "output_type": "stream",
     "text": [
      "[2024-02-28 22:18:46,913] - obspy.clients.fdsn.mass_downloader - INFO: Total acquired or preexisting stations: 0\n"
     ]
    },
    {
     "name": "stderr",
     "output_type": "stream",
     "text": [
      "[2024-02-28 22:18:46,913] - obspy.clients.fdsn.mass_downloader - INFO: Total acquired or preexisting stations: 0\n"
     ]
    },
    {
     "name": "stderr",
     "output_type": "stream",
     "text": [
      "[2024-02-28 22:18:46,913] - obspy.clients.fdsn.mass_downloader - INFO: Total acquired or preexisting stations: 0\n"
     ]
    },
    {
     "name": "stderr",
     "output_type": "stream",
     "text": [
      "[2024-02-28 22:18:46,913] - obspy.clients.fdsn.mass_downloader - INFO: Total acquired or preexisting stations: 0\n"
     ]
    },
    {
     "name": "stderr",
     "output_type": "stream",
     "text": [
      "[2024-02-28 22:18:46,913] - obspy.clients.fdsn.mass_downloader - INFO: Total acquired or preexisting stations: 0\n"
     ]
    },
    {
     "name": "stderr",
     "output_type": "stream",
     "text": [
      "[2024-02-28 22:18:46,918] - obspy.clients.fdsn.mass_downloader - INFO: Client 'http://service.iris.edu' - Requesting reliable availability.\n"
     ]
    },
    {
     "name": "stderr",
     "output_type": "stream",
     "text": [
      "[2024-02-28 22:18:46,918] - obspy.clients.fdsn.mass_downloader - INFO: Client 'http://service.iris.edu' - Requesting reliable availability.\n"
     ]
    },
    {
     "name": "stderr",
     "output_type": "stream",
     "text": [
      "[2024-02-28 22:18:46,918] - obspy.clients.fdsn.mass_downloader - INFO: Client 'http://service.iris.edu' - Requesting reliable availability.\n"
     ]
    },
    {
     "name": "stderr",
     "output_type": "stream",
     "text": [
      "[2024-02-28 22:18:46,918] - obspy.clients.fdsn.mass_downloader - INFO: Client 'http://service.iris.edu' - Requesting reliable availability.\n"
     ]
    },
    {
     "name": "stderr",
     "output_type": "stream",
     "text": [
      "[2024-02-28 22:18:46,918] - obspy.clients.fdsn.mass_downloader - INFO: Client 'http://service.iris.edu' - Requesting reliable availability.\n"
     ]
    },
    {
     "name": "stderr",
     "output_type": "stream",
     "text": [
      "[2024-02-28 22:18:46,918] - obspy.clients.fdsn.mass_downloader - INFO: Client 'http://service.iris.edu' - Requesting reliable availability.\n"
     ]
    },
    {
     "name": "stderr",
     "output_type": "stream",
     "text": [
      "[2024-02-28 22:18:46,918] - obspy.clients.fdsn.mass_downloader - INFO: Client 'http://service.iris.edu' - Requesting reliable availability.\n"
     ]
    },
    {
     "name": "stderr",
     "output_type": "stream",
     "text": [
      "[2024-02-28 22:18:46,918] - obspy.clients.fdsn.mass_downloader - INFO: Client 'http://service.iris.edu' - Requesting reliable availability.\n"
     ]
    },
    {
     "name": "stderr",
     "output_type": "stream",
     "text": [
      "[2024-02-28 22:18:46,918] - obspy.clients.fdsn.mass_downloader - INFO: Client 'http://service.iris.edu' - Requesting reliable availability.\n"
     ]
    },
    {
     "name": "stderr",
     "output_type": "stream",
     "text": [
      "[2024-02-28 22:18:46,918] - obspy.clients.fdsn.mass_downloader - INFO: Client 'http://service.iris.edu' - Requesting reliable availability.\n"
     ]
    },
    {
     "name": "stderr",
     "output_type": "stream",
     "text": [
      "[2024-02-28 22:18:48,038] - obspy.clients.fdsn.mass_downloader - INFO: Client 'http://service.iris.edu' - Successfully requested availability (1.12 seconds)\n"
     ]
    },
    {
     "name": "stderr",
     "output_type": "stream",
     "text": [
      "[2024-02-28 22:18:48,038] - obspy.clients.fdsn.mass_downloader - INFO: Client 'http://service.iris.edu' - Successfully requested availability (1.12 seconds)\n"
     ]
    },
    {
     "name": "stderr",
     "output_type": "stream",
     "text": [
      "[2024-02-28 22:18:48,038] - obspy.clients.fdsn.mass_downloader - INFO: Client 'http://service.iris.edu' - Successfully requested availability (1.12 seconds)\n"
     ]
    },
    {
     "name": "stderr",
     "output_type": "stream",
     "text": [
      "[2024-02-28 22:18:48,038] - obspy.clients.fdsn.mass_downloader - INFO: Client 'http://service.iris.edu' - Successfully requested availability (1.12 seconds)\n"
     ]
    },
    {
     "name": "stderr",
     "output_type": "stream",
     "text": [
      "[2024-02-28 22:18:48,038] - obspy.clients.fdsn.mass_downloader - INFO: Client 'http://service.iris.edu' - Successfully requested availability (1.12 seconds)\n"
     ]
    },
    {
     "name": "stderr",
     "output_type": "stream",
     "text": [
      "[2024-02-28 22:18:48,038] - obspy.clients.fdsn.mass_downloader - INFO: Client 'http://service.iris.edu' - Successfully requested availability (1.12 seconds)\n"
     ]
    },
    {
     "name": "stderr",
     "output_type": "stream",
     "text": [
      "[2024-02-28 22:18:48,038] - obspy.clients.fdsn.mass_downloader - INFO: Client 'http://service.iris.edu' - Successfully requested availability (1.12 seconds)\n"
     ]
    },
    {
     "name": "stderr",
     "output_type": "stream",
     "text": [
      "[2024-02-28 22:18:48,038] - obspy.clients.fdsn.mass_downloader - INFO: Client 'http://service.iris.edu' - Successfully requested availability (1.12 seconds)\n"
     ]
    },
    {
     "name": "stderr",
     "output_type": "stream",
     "text": [
      "[2024-02-28 22:18:48,038] - obspy.clients.fdsn.mass_downloader - INFO: Client 'http://service.iris.edu' - Successfully requested availability (1.12 seconds)\n"
     ]
    },
    {
     "name": "stderr",
     "output_type": "stream",
     "text": [
      "[2024-02-28 22:18:48,038] - obspy.clients.fdsn.mass_downloader - INFO: Client 'http://service.iris.edu' - Successfully requested availability (1.12 seconds)\n"
     ]
    },
    {
     "name": "stderr",
     "output_type": "stream",
     "text": [
      "[2024-02-28 22:18:48,072] - obspy.clients.fdsn.mass_downloader - INFO: Client 'http://service.iris.edu' - Found 19 stations (57 channels).\n"
     ]
    },
    {
     "name": "stderr",
     "output_type": "stream",
     "text": [
      "[2024-02-28 22:18:48,072] - obspy.clients.fdsn.mass_downloader - INFO: Client 'http://service.iris.edu' - Found 19 stations (57 channels).\n"
     ]
    },
    {
     "name": "stderr",
     "output_type": "stream",
     "text": [
      "[2024-02-28 22:18:48,072] - obspy.clients.fdsn.mass_downloader - INFO: Client 'http://service.iris.edu' - Found 19 stations (57 channels).\n"
     ]
    },
    {
     "name": "stderr",
     "output_type": "stream",
     "text": [
      "[2024-02-28 22:18:48,072] - obspy.clients.fdsn.mass_downloader - INFO: Client 'http://service.iris.edu' - Found 19 stations (57 channels).\n"
     ]
    },
    {
     "name": "stderr",
     "output_type": "stream",
     "text": [
      "[2024-02-28 22:18:48,072] - obspy.clients.fdsn.mass_downloader - INFO: Client 'http://service.iris.edu' - Found 19 stations (57 channels).\n"
     ]
    },
    {
     "name": "stderr",
     "output_type": "stream",
     "text": [
      "[2024-02-28 22:18:48,072] - obspy.clients.fdsn.mass_downloader - INFO: Client 'http://service.iris.edu' - Found 19 stations (57 channels).\n"
     ]
    },
    {
     "name": "stderr",
     "output_type": "stream",
     "text": [
      "[2024-02-28 22:18:48,072] - obspy.clients.fdsn.mass_downloader - INFO: Client 'http://service.iris.edu' - Found 19 stations (57 channels).\n"
     ]
    },
    {
     "name": "stderr",
     "output_type": "stream",
     "text": [
      "[2024-02-28 22:18:48,072] - obspy.clients.fdsn.mass_downloader - INFO: Client 'http://service.iris.edu' - Found 19 stations (57 channels).\n"
     ]
    },
    {
     "name": "stderr",
     "output_type": "stream",
     "text": [
      "[2024-02-28 22:18:48,072] - obspy.clients.fdsn.mass_downloader - INFO: Client 'http://service.iris.edu' - Found 19 stations (57 channels).\n"
     ]
    },
    {
     "name": "stderr",
     "output_type": "stream",
     "text": [
      "[2024-02-28 22:18:48,072] - obspy.clients.fdsn.mass_downloader - INFO: Client 'http://service.iris.edu' - Found 19 stations (57 channels).\n"
     ]
    },
    {
     "name": "stderr",
     "output_type": "stream",
     "text": [
      "[2024-02-28 22:18:48,080] - obspy.clients.fdsn.mass_downloader - INFO: Client 'http://service.iris.edu' - Will attempt to download data from 19 stations.\n"
     ]
    },
    {
     "name": "stderr",
     "output_type": "stream",
     "text": [
      "[2024-02-28 22:18:48,080] - obspy.clients.fdsn.mass_downloader - INFO: Client 'http://service.iris.edu' - Will attempt to download data from 19 stations.\n"
     ]
    },
    {
     "name": "stderr",
     "output_type": "stream",
     "text": [
      "[2024-02-28 22:18:48,080] - obspy.clients.fdsn.mass_downloader - INFO: Client 'http://service.iris.edu' - Will attempt to download data from 19 stations.\n"
     ]
    },
    {
     "name": "stderr",
     "output_type": "stream",
     "text": [
      "[2024-02-28 22:18:48,080] - obspy.clients.fdsn.mass_downloader - INFO: Client 'http://service.iris.edu' - Will attempt to download data from 19 stations.\n"
     ]
    },
    {
     "name": "stderr",
     "output_type": "stream",
     "text": [
      "[2024-02-28 22:18:48,080] - obspy.clients.fdsn.mass_downloader - INFO: Client 'http://service.iris.edu' - Will attempt to download data from 19 stations.\n"
     ]
    },
    {
     "name": "stderr",
     "output_type": "stream",
     "text": [
      "[2024-02-28 22:18:48,080] - obspy.clients.fdsn.mass_downloader - INFO: Client 'http://service.iris.edu' - Will attempt to download data from 19 stations.\n"
     ]
    },
    {
     "name": "stderr",
     "output_type": "stream",
     "text": [
      "[2024-02-28 22:18:48,080] - obspy.clients.fdsn.mass_downloader - INFO: Client 'http://service.iris.edu' - Will attempt to download data from 19 stations.\n"
     ]
    },
    {
     "name": "stderr",
     "output_type": "stream",
     "text": [
      "[2024-02-28 22:18:48,080] - obspy.clients.fdsn.mass_downloader - INFO: Client 'http://service.iris.edu' - Will attempt to download data from 19 stations.\n"
     ]
    },
    {
     "name": "stderr",
     "output_type": "stream",
     "text": [
      "[2024-02-28 22:18:48,080] - obspy.clients.fdsn.mass_downloader - INFO: Client 'http://service.iris.edu' - Will attempt to download data from 19 stations.\n"
     ]
    },
    {
     "name": "stderr",
     "output_type": "stream",
     "text": [
      "[2024-02-28 22:18:48,080] - obspy.clients.fdsn.mass_downloader - INFO: Client 'http://service.iris.edu' - Will attempt to download data from 19 stations.\n"
     ]
    },
    {
     "name": "stderr",
     "output_type": "stream",
     "text": [
      "[2024-02-28 22:18:48,088] - obspy.clients.fdsn.mass_downloader - INFO: Client 'http://service.iris.edu' - Status for 51 time intervals/channels before downloading: EXISTS\n"
     ]
    },
    {
     "name": "stderr",
     "output_type": "stream",
     "text": [
      "[2024-02-28 22:18:48,088] - obspy.clients.fdsn.mass_downloader - INFO: Client 'http://service.iris.edu' - Status for 51 time intervals/channels before downloading: EXISTS\n"
     ]
    },
    {
     "name": "stderr",
     "output_type": "stream",
     "text": [
      "[2024-02-28 22:18:48,088] - obspy.clients.fdsn.mass_downloader - INFO: Client 'http://service.iris.edu' - Status for 51 time intervals/channels before downloading: EXISTS\n"
     ]
    },
    {
     "name": "stderr",
     "output_type": "stream",
     "text": [
      "[2024-02-28 22:18:48,088] - obspy.clients.fdsn.mass_downloader - INFO: Client 'http://service.iris.edu' - Status for 51 time intervals/channels before downloading: EXISTS\n"
     ]
    },
    {
     "name": "stderr",
     "output_type": "stream",
     "text": [
      "[2024-02-28 22:18:48,088] - obspy.clients.fdsn.mass_downloader - INFO: Client 'http://service.iris.edu' - Status for 51 time intervals/channels before downloading: EXISTS\n"
     ]
    },
    {
     "name": "stderr",
     "output_type": "stream",
     "text": [
      "[2024-02-28 22:18:48,088] - obspy.clients.fdsn.mass_downloader - INFO: Client 'http://service.iris.edu' - Status for 51 time intervals/channels before downloading: EXISTS\n"
     ]
    },
    {
     "name": "stderr",
     "output_type": "stream",
     "text": [
      "[2024-02-28 22:18:48,088] - obspy.clients.fdsn.mass_downloader - INFO: Client 'http://service.iris.edu' - Status for 51 time intervals/channels before downloading: EXISTS\n"
     ]
    },
    {
     "name": "stderr",
     "output_type": "stream",
     "text": [
      "[2024-02-28 22:18:48,088] - obspy.clients.fdsn.mass_downloader - INFO: Client 'http://service.iris.edu' - Status for 51 time intervals/channels before downloading: EXISTS\n"
     ]
    },
    {
     "name": "stderr",
     "output_type": "stream",
     "text": [
      "[2024-02-28 22:18:48,088] - obspy.clients.fdsn.mass_downloader - INFO: Client 'http://service.iris.edu' - Status for 51 time intervals/channels before downloading: EXISTS\n"
     ]
    },
    {
     "name": "stderr",
     "output_type": "stream",
     "text": [
      "[2024-02-28 22:18:48,088] - obspy.clients.fdsn.mass_downloader - INFO: Client 'http://service.iris.edu' - Status for 51 time intervals/channels before downloading: EXISTS\n"
     ]
    },
    {
     "name": "stderr",
     "output_type": "stream",
     "text": [
      "[2024-02-28 22:18:48,091] - obspy.clients.fdsn.mass_downloader - INFO: Client 'http://service.iris.edu' - Status for 6 time intervals/channels before downloading: NEEDS_DOWNLOADING\n"
     ]
    },
    {
     "name": "stderr",
     "output_type": "stream",
     "text": [
      "[2024-02-28 22:18:48,091] - obspy.clients.fdsn.mass_downloader - INFO: Client 'http://service.iris.edu' - Status for 6 time intervals/channels before downloading: NEEDS_DOWNLOADING\n"
     ]
    },
    {
     "name": "stderr",
     "output_type": "stream",
     "text": [
      "[2024-02-28 22:18:48,091] - obspy.clients.fdsn.mass_downloader - INFO: Client 'http://service.iris.edu' - Status for 6 time intervals/channels before downloading: NEEDS_DOWNLOADING\n"
     ]
    },
    {
     "name": "stderr",
     "output_type": "stream",
     "text": [
      "[2024-02-28 22:18:48,091] - obspy.clients.fdsn.mass_downloader - INFO: Client 'http://service.iris.edu' - Status for 6 time intervals/channels before downloading: NEEDS_DOWNLOADING\n"
     ]
    },
    {
     "name": "stderr",
     "output_type": "stream",
     "text": [
      "[2024-02-28 22:18:48,091] - obspy.clients.fdsn.mass_downloader - INFO: Client 'http://service.iris.edu' - Status for 6 time intervals/channels before downloading: NEEDS_DOWNLOADING\n"
     ]
    },
    {
     "name": "stderr",
     "output_type": "stream",
     "text": [
      "[2024-02-28 22:18:48,091] - obspy.clients.fdsn.mass_downloader - INFO: Client 'http://service.iris.edu' - Status for 6 time intervals/channels before downloading: NEEDS_DOWNLOADING\n"
     ]
    },
    {
     "name": "stderr",
     "output_type": "stream",
     "text": [
      "[2024-02-28 22:18:48,091] - obspy.clients.fdsn.mass_downloader - INFO: Client 'http://service.iris.edu' - Status for 6 time intervals/channels before downloading: NEEDS_DOWNLOADING\n"
     ]
    },
    {
     "name": "stderr",
     "output_type": "stream",
     "text": [
      "[2024-02-28 22:18:48,091] - obspy.clients.fdsn.mass_downloader - INFO: Client 'http://service.iris.edu' - Status for 6 time intervals/channels before downloading: NEEDS_DOWNLOADING\n"
     ]
    },
    {
     "name": "stderr",
     "output_type": "stream",
     "text": [
      "[2024-02-28 22:18:48,091] - obspy.clients.fdsn.mass_downloader - INFO: Client 'http://service.iris.edu' - Status for 6 time intervals/channels before downloading: NEEDS_DOWNLOADING\n"
     ]
    },
    {
     "name": "stderr",
     "output_type": "stream",
     "text": [
      "[2024-02-28 22:18:48,091] - obspy.clients.fdsn.mass_downloader - INFO: Client 'http://service.iris.edu' - Status for 6 time intervals/channels before downloading: NEEDS_DOWNLOADING\n"
     ]
    },
    {
     "name": "stderr",
     "output_type": "stream",
     "text": [
      "[2024-02-28 22:18:48,494] - obspy.clients.fdsn.mass_downloader - INFO: Client 'http://service.iris.edu' - No data available for request.\n",
      "HTTP Status code: 204\n"
     ]
    },
    {
     "name": "stderr",
     "output_type": "stream",
     "text": [
      "[2024-02-28 22:18:48,494] - obspy.clients.fdsn.mass_downloader - INFO: Client 'http://service.iris.edu' - No data available for request.\n",
      "HTTP Status code: 204\n"
     ]
    },
    {
     "name": "stderr",
     "output_type": "stream",
     "text": [
      "[2024-02-28 22:18:48,494] - obspy.clients.fdsn.mass_downloader - INFO: Client 'http://service.iris.edu' - No data available for request.\n",
      "HTTP Status code: 204\n"
     ]
    },
    {
     "name": "stderr",
     "output_type": "stream",
     "text": [
      "[2024-02-28 22:18:48,494] - obspy.clients.fdsn.mass_downloader - INFO: Client 'http://service.iris.edu' - No data available for request.\n",
      "HTTP Status code: 204\n"
     ]
    },
    {
     "name": "stderr",
     "output_type": "stream",
     "text": [
      "[2024-02-28 22:18:48,494] - obspy.clients.fdsn.mass_downloader - INFO: Client 'http://service.iris.edu' - No data available for request.\n",
      "HTTP Status code: 204\n"
     ]
    },
    {
     "name": "stderr",
     "output_type": "stream",
     "text": [
      "[2024-02-28 22:18:48,494] - obspy.clients.fdsn.mass_downloader - INFO: Client 'http://service.iris.edu' - No data available for request.\n",
      "HTTP Status code: 204\n"
     ]
    },
    {
     "name": "stderr",
     "output_type": "stream",
     "text": [
      "[2024-02-28 22:18:48,494] - obspy.clients.fdsn.mass_downloader - INFO: Client 'http://service.iris.edu' - No data available for request.\n",
      "HTTP Status code: 204\n"
     ]
    },
    {
     "name": "stderr",
     "output_type": "stream",
     "text": [
      "[2024-02-28 22:18:48,494] - obspy.clients.fdsn.mass_downloader - INFO: Client 'http://service.iris.edu' - No data available for request.\n",
      "HTTP Status code: 204\n"
     ]
    },
    {
     "name": "stderr",
     "output_type": "stream",
     "text": [
      "[2024-02-28 22:18:48,494] - obspy.clients.fdsn.mass_downloader - INFO: Client 'http://service.iris.edu' - No data available for request.\n",
      "HTTP Status code: 204\n"
     ]
    },
    {
     "name": "stderr",
     "output_type": "stream",
     "text": [
      "[2024-02-28 22:18:48,494] - obspy.clients.fdsn.mass_downloader - INFO: Client 'http://service.iris.edu' - No data available for request.\n",
      "HTTP Status code: 204\n"
     ]
    },
    {
     "name": "stderr",
     "output_type": "stream",
     "text": [
      "[2024-02-28 22:18:48,498] - obspy.clients.fdsn.mass_downloader - INFO: Client 'http://service.iris.edu' - Launching basic QC checks...\n"
     ]
    },
    {
     "name": "stderr",
     "output_type": "stream",
     "text": [
      "[2024-02-28 22:18:48,498] - obspy.clients.fdsn.mass_downloader - INFO: Client 'http://service.iris.edu' - Launching basic QC checks...\n"
     ]
    },
    {
     "name": "stderr",
     "output_type": "stream",
     "text": [
      "[2024-02-28 22:18:48,498] - obspy.clients.fdsn.mass_downloader - INFO: Client 'http://service.iris.edu' - Launching basic QC checks...\n"
     ]
    },
    {
     "name": "stderr",
     "output_type": "stream",
     "text": [
      "[2024-02-28 22:18:48,498] - obspy.clients.fdsn.mass_downloader - INFO: Client 'http://service.iris.edu' - Launching basic QC checks...\n"
     ]
    },
    {
     "name": "stderr",
     "output_type": "stream",
     "text": [
      "[2024-02-28 22:18:48,498] - obspy.clients.fdsn.mass_downloader - INFO: Client 'http://service.iris.edu' - Launching basic QC checks...\n"
     ]
    },
    {
     "name": "stderr",
     "output_type": "stream",
     "text": [
      "[2024-02-28 22:18:48,498] - obspy.clients.fdsn.mass_downloader - INFO: Client 'http://service.iris.edu' - Launching basic QC checks...\n"
     ]
    },
    {
     "name": "stderr",
     "output_type": "stream",
     "text": [
      "[2024-02-28 22:18:48,498] - obspy.clients.fdsn.mass_downloader - INFO: Client 'http://service.iris.edu' - Launching basic QC checks...\n"
     ]
    },
    {
     "name": "stderr",
     "output_type": "stream",
     "text": [
      "[2024-02-28 22:18:48,498] - obspy.clients.fdsn.mass_downloader - INFO: Client 'http://service.iris.edu' - Launching basic QC checks...\n"
     ]
    },
    {
     "name": "stderr",
     "output_type": "stream",
     "text": [
      "[2024-02-28 22:18:48,498] - obspy.clients.fdsn.mass_downloader - INFO: Client 'http://service.iris.edu' - Launching basic QC checks...\n"
     ]
    },
    {
     "name": "stderr",
     "output_type": "stream",
     "text": [
      "[2024-02-28 22:18:48,498] - obspy.clients.fdsn.mass_downloader - INFO: Client 'http://service.iris.edu' - Launching basic QC checks...\n"
     ]
    },
    {
     "name": "stderr",
     "output_type": "stream",
     "text": [
      "[2024-02-28 22:18:48,505] - obspy.clients.fdsn.mass_downloader - INFO: Client 'http://service.iris.edu' - Downloaded 0.0 MB [0.00 KB/sec] of data, 0.0 MB of which were discarded afterwards.\n"
     ]
    },
    {
     "name": "stderr",
     "output_type": "stream",
     "text": [
      "[2024-02-28 22:18:48,505] - obspy.clients.fdsn.mass_downloader - INFO: Client 'http://service.iris.edu' - Downloaded 0.0 MB [0.00 KB/sec] of data, 0.0 MB of which were discarded afterwards.\n"
     ]
    },
    {
     "name": "stderr",
     "output_type": "stream",
     "text": [
      "[2024-02-28 22:18:48,505] - obspy.clients.fdsn.mass_downloader - INFO: Client 'http://service.iris.edu' - Downloaded 0.0 MB [0.00 KB/sec] of data, 0.0 MB of which were discarded afterwards.\n"
     ]
    },
    {
     "name": "stderr",
     "output_type": "stream",
     "text": [
      "[2024-02-28 22:18:48,505] - obspy.clients.fdsn.mass_downloader - INFO: Client 'http://service.iris.edu' - Downloaded 0.0 MB [0.00 KB/sec] of data, 0.0 MB of which were discarded afterwards.\n"
     ]
    },
    {
     "name": "stderr",
     "output_type": "stream",
     "text": [
      "[2024-02-28 22:18:48,505] - obspy.clients.fdsn.mass_downloader - INFO: Client 'http://service.iris.edu' - Downloaded 0.0 MB [0.00 KB/sec] of data, 0.0 MB of which were discarded afterwards.\n"
     ]
    },
    {
     "name": "stderr",
     "output_type": "stream",
     "text": [
      "[2024-02-28 22:18:48,505] - obspy.clients.fdsn.mass_downloader - INFO: Client 'http://service.iris.edu' - Downloaded 0.0 MB [0.00 KB/sec] of data, 0.0 MB of which were discarded afterwards.\n"
     ]
    },
    {
     "name": "stderr",
     "output_type": "stream",
     "text": [
      "[2024-02-28 22:18:48,505] - obspy.clients.fdsn.mass_downloader - INFO: Client 'http://service.iris.edu' - Downloaded 0.0 MB [0.00 KB/sec] of data, 0.0 MB of which were discarded afterwards.\n"
     ]
    },
    {
     "name": "stderr",
     "output_type": "stream",
     "text": [
      "[2024-02-28 22:18:48,505] - obspy.clients.fdsn.mass_downloader - INFO: Client 'http://service.iris.edu' - Downloaded 0.0 MB [0.00 KB/sec] of data, 0.0 MB of which were discarded afterwards.\n"
     ]
    },
    {
     "name": "stderr",
     "output_type": "stream",
     "text": [
      "[2024-02-28 22:18:48,505] - obspy.clients.fdsn.mass_downloader - INFO: Client 'http://service.iris.edu' - Downloaded 0.0 MB [0.00 KB/sec] of data, 0.0 MB of which were discarded afterwards.\n"
     ]
    },
    {
     "name": "stderr",
     "output_type": "stream",
     "text": [
      "[2024-02-28 22:18:48,505] - obspy.clients.fdsn.mass_downloader - INFO: Client 'http://service.iris.edu' - Downloaded 0.0 MB [0.00 KB/sec] of data, 0.0 MB of which were discarded afterwards.\n"
     ]
    },
    {
     "name": "stderr",
     "output_type": "stream",
     "text": [
      "[2024-02-28 22:18:48,510] - obspy.clients.fdsn.mass_downloader - INFO: Client 'http://service.iris.edu' - Status for 6 time intervals/channels after downloading: DOWNLOAD_FAILED\n"
     ]
    },
    {
     "name": "stderr",
     "output_type": "stream",
     "text": [
      "[2024-02-28 22:18:48,510] - obspy.clients.fdsn.mass_downloader - INFO: Client 'http://service.iris.edu' - Status for 6 time intervals/channels after downloading: DOWNLOAD_FAILED\n"
     ]
    },
    {
     "name": "stderr",
     "output_type": "stream",
     "text": [
      "[2024-02-28 22:18:48,510] - obspy.clients.fdsn.mass_downloader - INFO: Client 'http://service.iris.edu' - Status for 6 time intervals/channels after downloading: DOWNLOAD_FAILED\n"
     ]
    },
    {
     "name": "stderr",
     "output_type": "stream",
     "text": [
      "[2024-02-28 22:18:48,510] - obspy.clients.fdsn.mass_downloader - INFO: Client 'http://service.iris.edu' - Status for 6 time intervals/channels after downloading: DOWNLOAD_FAILED\n"
     ]
    },
    {
     "name": "stderr",
     "output_type": "stream",
     "text": [
      "[2024-02-28 22:18:48,510] - obspy.clients.fdsn.mass_downloader - INFO: Client 'http://service.iris.edu' - Status for 6 time intervals/channels after downloading: DOWNLOAD_FAILED\n"
     ]
    },
    {
     "name": "stderr",
     "output_type": "stream",
     "text": [
      "[2024-02-28 22:18:48,510] - obspy.clients.fdsn.mass_downloader - INFO: Client 'http://service.iris.edu' - Status for 6 time intervals/channels after downloading: DOWNLOAD_FAILED\n"
     ]
    },
    {
     "name": "stderr",
     "output_type": "stream",
     "text": [
      "[2024-02-28 22:18:48,510] - obspy.clients.fdsn.mass_downloader - INFO: Client 'http://service.iris.edu' - Status for 6 time intervals/channels after downloading: DOWNLOAD_FAILED\n"
     ]
    },
    {
     "name": "stderr",
     "output_type": "stream",
     "text": [
      "[2024-02-28 22:18:48,510] - obspy.clients.fdsn.mass_downloader - INFO: Client 'http://service.iris.edu' - Status for 6 time intervals/channels after downloading: DOWNLOAD_FAILED\n"
     ]
    },
    {
     "name": "stderr",
     "output_type": "stream",
     "text": [
      "[2024-02-28 22:18:48,510] - obspy.clients.fdsn.mass_downloader - INFO: Client 'http://service.iris.edu' - Status for 6 time intervals/channels after downloading: DOWNLOAD_FAILED\n"
     ]
    },
    {
     "name": "stderr",
     "output_type": "stream",
     "text": [
      "[2024-02-28 22:18:48,510] - obspy.clients.fdsn.mass_downloader - INFO: Client 'http://service.iris.edu' - Status for 6 time intervals/channels after downloading: DOWNLOAD_FAILED\n"
     ]
    },
    {
     "name": "stderr",
     "output_type": "stream",
     "text": [
      "[2024-02-28 22:18:48,514] - obspy.clients.fdsn.mass_downloader - INFO: Client 'http://service.iris.edu' - Status for 51 time intervals/channels after downloading: EXISTS\n"
     ]
    },
    {
     "name": "stderr",
     "output_type": "stream",
     "text": [
      "[2024-02-28 22:18:48,514] - obspy.clients.fdsn.mass_downloader - INFO: Client 'http://service.iris.edu' - Status for 51 time intervals/channels after downloading: EXISTS\n"
     ]
    },
    {
     "name": "stderr",
     "output_type": "stream",
     "text": [
      "[2024-02-28 22:18:48,514] - obspy.clients.fdsn.mass_downloader - INFO: Client 'http://service.iris.edu' - Status for 51 time intervals/channels after downloading: EXISTS\n"
     ]
    },
    {
     "name": "stderr",
     "output_type": "stream",
     "text": [
      "[2024-02-28 22:18:48,514] - obspy.clients.fdsn.mass_downloader - INFO: Client 'http://service.iris.edu' - Status for 51 time intervals/channels after downloading: EXISTS\n"
     ]
    },
    {
     "name": "stderr",
     "output_type": "stream",
     "text": [
      "[2024-02-28 22:18:48,514] - obspy.clients.fdsn.mass_downloader - INFO: Client 'http://service.iris.edu' - Status for 51 time intervals/channels after downloading: EXISTS\n"
     ]
    },
    {
     "name": "stderr",
     "output_type": "stream",
     "text": [
      "[2024-02-28 22:18:48,514] - obspy.clients.fdsn.mass_downloader - INFO: Client 'http://service.iris.edu' - Status for 51 time intervals/channels after downloading: EXISTS\n"
     ]
    },
    {
     "name": "stderr",
     "output_type": "stream",
     "text": [
      "[2024-02-28 22:18:48,514] - obspy.clients.fdsn.mass_downloader - INFO: Client 'http://service.iris.edu' - Status for 51 time intervals/channels after downloading: EXISTS\n"
     ]
    },
    {
     "name": "stderr",
     "output_type": "stream",
     "text": [
      "[2024-02-28 22:18:48,514] - obspy.clients.fdsn.mass_downloader - INFO: Client 'http://service.iris.edu' - Status for 51 time intervals/channels after downloading: EXISTS\n"
     ]
    },
    {
     "name": "stderr",
     "output_type": "stream",
     "text": [
      "[2024-02-28 22:18:48,514] - obspy.clients.fdsn.mass_downloader - INFO: Client 'http://service.iris.edu' - Status for 51 time intervals/channels after downloading: EXISTS\n"
     ]
    },
    {
     "name": "stderr",
     "output_type": "stream",
     "text": [
      "[2024-02-28 22:18:48,514] - obspy.clients.fdsn.mass_downloader - INFO: Client 'http://service.iris.edu' - Status for 51 time intervals/channels after downloading: EXISTS\n"
     ]
    },
    {
     "name": "stderr",
     "output_type": "stream",
     "text": [
      "[2024-02-28 22:18:48,532] - obspy.clients.fdsn.mass_downloader - INFO: Client 'http://service.iris.edu' - No station information to download.\n"
     ]
    },
    {
     "name": "stderr",
     "output_type": "stream",
     "text": [
      "[2024-02-28 22:18:48,532] - obspy.clients.fdsn.mass_downloader - INFO: Client 'http://service.iris.edu' - No station information to download.\n"
     ]
    },
    {
     "name": "stderr",
     "output_type": "stream",
     "text": [
      "[2024-02-28 22:18:48,532] - obspy.clients.fdsn.mass_downloader - INFO: Client 'http://service.iris.edu' - No station information to download.\n"
     ]
    },
    {
     "name": "stderr",
     "output_type": "stream",
     "text": [
      "[2024-02-28 22:18:48,532] - obspy.clients.fdsn.mass_downloader - INFO: Client 'http://service.iris.edu' - No station information to download.\n"
     ]
    },
    {
     "name": "stderr",
     "output_type": "stream",
     "text": [
      "[2024-02-28 22:18:48,532] - obspy.clients.fdsn.mass_downloader - INFO: Client 'http://service.iris.edu' - No station information to download.\n"
     ]
    },
    {
     "name": "stderr",
     "output_type": "stream",
     "text": [
      "[2024-02-28 22:18:48,532] - obspy.clients.fdsn.mass_downloader - INFO: Client 'http://service.iris.edu' - No station information to download.\n"
     ]
    },
    {
     "name": "stderr",
     "output_type": "stream",
     "text": [
      "[2024-02-28 22:18:48,532] - obspy.clients.fdsn.mass_downloader - INFO: Client 'http://service.iris.edu' - No station information to download.\n"
     ]
    },
    {
     "name": "stderr",
     "output_type": "stream",
     "text": [
      "[2024-02-28 22:18:48,532] - obspy.clients.fdsn.mass_downloader - INFO: Client 'http://service.iris.edu' - No station information to download.\n"
     ]
    },
    {
     "name": "stderr",
     "output_type": "stream",
     "text": [
      "[2024-02-28 22:18:48,532] - obspy.clients.fdsn.mass_downloader - INFO: Client 'http://service.iris.edu' - No station information to download.\n"
     ]
    },
    {
     "name": "stderr",
     "output_type": "stream",
     "text": [
      "[2024-02-28 22:18:48,532] - obspy.clients.fdsn.mass_downloader - INFO: Client 'http://service.iris.edu' - No station information to download.\n"
     ]
    },
    {
     "name": "stderr",
     "output_type": "stream",
     "text": [
      "[2024-02-28 22:18:48,536] - obspy.clients.fdsn.mass_downloader - INFO: ============================== Final report\n"
     ]
    },
    {
     "name": "stderr",
     "output_type": "stream",
     "text": [
      "[2024-02-28 22:18:48,536] - obspy.clients.fdsn.mass_downloader - INFO: ============================== Final report\n"
     ]
    },
    {
     "name": "stderr",
     "output_type": "stream",
     "text": [
      "[2024-02-28 22:18:48,536] - obspy.clients.fdsn.mass_downloader - INFO: ============================== Final report\n"
     ]
    },
    {
     "name": "stderr",
     "output_type": "stream",
     "text": [
      "[2024-02-28 22:18:48,536] - obspy.clients.fdsn.mass_downloader - INFO: ============================== Final report\n"
     ]
    },
    {
     "name": "stderr",
     "output_type": "stream",
     "text": [
      "[2024-02-28 22:18:48,536] - obspy.clients.fdsn.mass_downloader - INFO: ============================== Final report\n"
     ]
    },
    {
     "name": "stderr",
     "output_type": "stream",
     "text": [
      "[2024-02-28 22:18:48,536] - obspy.clients.fdsn.mass_downloader - INFO: ============================== Final report\n"
     ]
    },
    {
     "name": "stderr",
     "output_type": "stream",
     "text": [
      "[2024-02-28 22:18:48,536] - obspy.clients.fdsn.mass_downloader - INFO: ============================== Final report\n"
     ]
    },
    {
     "name": "stderr",
     "output_type": "stream",
     "text": [
      "[2024-02-28 22:18:48,536] - obspy.clients.fdsn.mass_downloader - INFO: ============================== Final report\n"
     ]
    },
    {
     "name": "stderr",
     "output_type": "stream",
     "text": [
      "[2024-02-28 22:18:48,536] - obspy.clients.fdsn.mass_downloader - INFO: ============================== Final report\n"
     ]
    },
    {
     "name": "stderr",
     "output_type": "stream",
     "text": [
      "[2024-02-28 22:18:48,536] - obspy.clients.fdsn.mass_downloader - INFO: ============================== Final report\n"
     ]
    },
    {
     "name": "stderr",
     "output_type": "stream",
     "text": [
      "[2024-02-28 22:18:48,543] - obspy.clients.fdsn.mass_downloader - INFO: 51 MiniSEED files [0.3 MB] already existed.\n"
     ]
    },
    {
     "name": "stderr",
     "output_type": "stream",
     "text": [
      "[2024-02-28 22:18:48,543] - obspy.clients.fdsn.mass_downloader - INFO: 51 MiniSEED files [0.3 MB] already existed.\n"
     ]
    },
    {
     "name": "stderr",
     "output_type": "stream",
     "text": [
      "[2024-02-28 22:18:48,543] - obspy.clients.fdsn.mass_downloader - INFO: 51 MiniSEED files [0.3 MB] already existed.\n"
     ]
    },
    {
     "name": "stderr",
     "output_type": "stream",
     "text": [
      "[2024-02-28 22:18:48,543] - obspy.clients.fdsn.mass_downloader - INFO: 51 MiniSEED files [0.3 MB] already existed.\n"
     ]
    },
    {
     "name": "stderr",
     "output_type": "stream",
     "text": [
      "[2024-02-28 22:18:48,543] - obspy.clients.fdsn.mass_downloader - INFO: 51 MiniSEED files [0.3 MB] already existed.\n"
     ]
    },
    {
     "name": "stderr",
     "output_type": "stream",
     "text": [
      "[2024-02-28 22:18:48,543] - obspy.clients.fdsn.mass_downloader - INFO: 51 MiniSEED files [0.3 MB] already existed.\n"
     ]
    },
    {
     "name": "stderr",
     "output_type": "stream",
     "text": [
      "[2024-02-28 22:18:48,543] - obspy.clients.fdsn.mass_downloader - INFO: 51 MiniSEED files [0.3 MB] already existed.\n"
     ]
    },
    {
     "name": "stderr",
     "output_type": "stream",
     "text": [
      "[2024-02-28 22:18:48,543] - obspy.clients.fdsn.mass_downloader - INFO: 51 MiniSEED files [0.3 MB] already existed.\n"
     ]
    },
    {
     "name": "stderr",
     "output_type": "stream",
     "text": [
      "[2024-02-28 22:18:48,543] - obspy.clients.fdsn.mass_downloader - INFO: 51 MiniSEED files [0.3 MB] already existed.\n"
     ]
    },
    {
     "name": "stderr",
     "output_type": "stream",
     "text": [
      "[2024-02-28 22:18:48,543] - obspy.clients.fdsn.mass_downloader - INFO: 51 MiniSEED files [0.3 MB] already existed.\n"
     ]
    },
    {
     "name": "stderr",
     "output_type": "stream",
     "text": [
      "[2024-02-28 22:18:48,547] - obspy.clients.fdsn.mass_downloader - INFO: 17 StationXML files [0.4 MB] already existed.\n"
     ]
    },
    {
     "name": "stderr",
     "output_type": "stream",
     "text": [
      "[2024-02-28 22:18:48,547] - obspy.clients.fdsn.mass_downloader - INFO: 17 StationXML files [0.4 MB] already existed.\n"
     ]
    },
    {
     "name": "stderr",
     "output_type": "stream",
     "text": [
      "[2024-02-28 22:18:48,547] - obspy.clients.fdsn.mass_downloader - INFO: 17 StationXML files [0.4 MB] already existed.\n"
     ]
    },
    {
     "name": "stderr",
     "output_type": "stream",
     "text": [
      "[2024-02-28 22:18:48,547] - obspy.clients.fdsn.mass_downloader - INFO: 17 StationXML files [0.4 MB] already existed.\n"
     ]
    },
    {
     "name": "stderr",
     "output_type": "stream",
     "text": [
      "[2024-02-28 22:18:48,547] - obspy.clients.fdsn.mass_downloader - INFO: 17 StationXML files [0.4 MB] already existed.\n"
     ]
    },
    {
     "name": "stderr",
     "output_type": "stream",
     "text": [
      "[2024-02-28 22:18:48,547] - obspy.clients.fdsn.mass_downloader - INFO: 17 StationXML files [0.4 MB] already existed.\n"
     ]
    },
    {
     "name": "stderr",
     "output_type": "stream",
     "text": [
      "[2024-02-28 22:18:48,547] - obspy.clients.fdsn.mass_downloader - INFO: 17 StationXML files [0.4 MB] already existed.\n"
     ]
    },
    {
     "name": "stderr",
     "output_type": "stream",
     "text": [
      "[2024-02-28 22:18:48,547] - obspy.clients.fdsn.mass_downloader - INFO: 17 StationXML files [0.4 MB] already existed.\n"
     ]
    },
    {
     "name": "stderr",
     "output_type": "stream",
     "text": [
      "[2024-02-28 22:18:48,547] - obspy.clients.fdsn.mass_downloader - INFO: 17 StationXML files [0.4 MB] already existed.\n"
     ]
    },
    {
     "name": "stderr",
     "output_type": "stream",
     "text": [
      "[2024-02-28 22:18:48,547] - obspy.clients.fdsn.mass_downloader - INFO: 17 StationXML files [0.4 MB] already existed.\n"
     ]
    },
    {
     "name": "stderr",
     "output_type": "stream",
     "text": [
      "[2024-02-28 22:18:48,552] - obspy.clients.fdsn.mass_downloader - INFO: Client 'http://service.iris.edu' - Acquired 0 MiniSEED files [0.0 MB].\n"
     ]
    },
    {
     "name": "stderr",
     "output_type": "stream",
     "text": [
      "[2024-02-28 22:18:48,552] - obspy.clients.fdsn.mass_downloader - INFO: Client 'http://service.iris.edu' - Acquired 0 MiniSEED files [0.0 MB].\n"
     ]
    },
    {
     "name": "stderr",
     "output_type": "stream",
     "text": [
      "[2024-02-28 22:18:48,552] - obspy.clients.fdsn.mass_downloader - INFO: Client 'http://service.iris.edu' - Acquired 0 MiniSEED files [0.0 MB].\n"
     ]
    },
    {
     "name": "stderr",
     "output_type": "stream",
     "text": [
      "[2024-02-28 22:18:48,552] - obspy.clients.fdsn.mass_downloader - INFO: Client 'http://service.iris.edu' - Acquired 0 MiniSEED files [0.0 MB].\n"
     ]
    },
    {
     "name": "stderr",
     "output_type": "stream",
     "text": [
      "[2024-02-28 22:18:48,552] - obspy.clients.fdsn.mass_downloader - INFO: Client 'http://service.iris.edu' - Acquired 0 MiniSEED files [0.0 MB].\n"
     ]
    },
    {
     "name": "stderr",
     "output_type": "stream",
     "text": [
      "[2024-02-28 22:18:48,552] - obspy.clients.fdsn.mass_downloader - INFO: Client 'http://service.iris.edu' - Acquired 0 MiniSEED files [0.0 MB].\n"
     ]
    },
    {
     "name": "stderr",
     "output_type": "stream",
     "text": [
      "[2024-02-28 22:18:48,552] - obspy.clients.fdsn.mass_downloader - INFO: Client 'http://service.iris.edu' - Acquired 0 MiniSEED files [0.0 MB].\n"
     ]
    },
    {
     "name": "stderr",
     "output_type": "stream",
     "text": [
      "[2024-02-28 22:18:48,552] - obspy.clients.fdsn.mass_downloader - INFO: Client 'http://service.iris.edu' - Acquired 0 MiniSEED files [0.0 MB].\n"
     ]
    },
    {
     "name": "stderr",
     "output_type": "stream",
     "text": [
      "[2024-02-28 22:18:48,552] - obspy.clients.fdsn.mass_downloader - INFO: Client 'http://service.iris.edu' - Acquired 0 MiniSEED files [0.0 MB].\n"
     ]
    },
    {
     "name": "stderr",
     "output_type": "stream",
     "text": [
      "[2024-02-28 22:18:48,552] - obspy.clients.fdsn.mass_downloader - INFO: Client 'http://service.iris.edu' - Acquired 0 MiniSEED files [0.0 MB].\n"
     ]
    },
    {
     "name": "stderr",
     "output_type": "stream",
     "text": [
      "[2024-02-28 22:18:48,555] - obspy.clients.fdsn.mass_downloader - INFO: Client 'http://service.iris.edu' - Acquired 0 StationXML files [0.0 MB].\n"
     ]
    },
    {
     "name": "stderr",
     "output_type": "stream",
     "text": [
      "[2024-02-28 22:18:48,555] - obspy.clients.fdsn.mass_downloader - INFO: Client 'http://service.iris.edu' - Acquired 0 StationXML files [0.0 MB].\n"
     ]
    },
    {
     "name": "stderr",
     "output_type": "stream",
     "text": [
      "[2024-02-28 22:18:48,555] - obspy.clients.fdsn.mass_downloader - INFO: Client 'http://service.iris.edu' - Acquired 0 StationXML files [0.0 MB].\n"
     ]
    },
    {
     "name": "stderr",
     "output_type": "stream",
     "text": [
      "[2024-02-28 22:18:48,555] - obspy.clients.fdsn.mass_downloader - INFO: Client 'http://service.iris.edu' - Acquired 0 StationXML files [0.0 MB].\n"
     ]
    },
    {
     "name": "stderr",
     "output_type": "stream",
     "text": [
      "[2024-02-28 22:18:48,555] - obspy.clients.fdsn.mass_downloader - INFO: Client 'http://service.iris.edu' - Acquired 0 StationXML files [0.0 MB].\n"
     ]
    },
    {
     "name": "stderr",
     "output_type": "stream",
     "text": [
      "[2024-02-28 22:18:48,555] - obspy.clients.fdsn.mass_downloader - INFO: Client 'http://service.iris.edu' - Acquired 0 StationXML files [0.0 MB].\n"
     ]
    },
    {
     "name": "stderr",
     "output_type": "stream",
     "text": [
      "[2024-02-28 22:18:48,555] - obspy.clients.fdsn.mass_downloader - INFO: Client 'http://service.iris.edu' - Acquired 0 StationXML files [0.0 MB].\n"
     ]
    },
    {
     "name": "stderr",
     "output_type": "stream",
     "text": [
      "[2024-02-28 22:18:48,555] - obspy.clients.fdsn.mass_downloader - INFO: Client 'http://service.iris.edu' - Acquired 0 StationXML files [0.0 MB].\n"
     ]
    },
    {
     "name": "stderr",
     "output_type": "stream",
     "text": [
      "[2024-02-28 22:18:48,555] - obspy.clients.fdsn.mass_downloader - INFO: Client 'http://service.iris.edu' - Acquired 0 StationXML files [0.0 MB].\n"
     ]
    },
    {
     "name": "stderr",
     "output_type": "stream",
     "text": [
      "[2024-02-28 22:18:48,555] - obspy.clients.fdsn.mass_downloader - INFO: Client 'http://service.iris.edu' - Acquired 0 StationXML files [0.0 MB].\n"
     ]
    },
    {
     "name": "stderr",
     "output_type": "stream",
     "text": [
      "[2024-02-28 22:18:48,562] - obspy.clients.fdsn.mass_downloader - INFO: Downloaded 0.0 MB in total.\n"
     ]
    },
    {
     "name": "stderr",
     "output_type": "stream",
     "text": [
      "[2024-02-28 22:18:48,562] - obspy.clients.fdsn.mass_downloader - INFO: Downloaded 0.0 MB in total.\n"
     ]
    },
    {
     "name": "stderr",
     "output_type": "stream",
     "text": [
      "[2024-02-28 22:18:48,562] - obspy.clients.fdsn.mass_downloader - INFO: Downloaded 0.0 MB in total.\n"
     ]
    },
    {
     "name": "stderr",
     "output_type": "stream",
     "text": [
      "[2024-02-28 22:18:48,562] - obspy.clients.fdsn.mass_downloader - INFO: Downloaded 0.0 MB in total.\n"
     ]
    },
    {
     "name": "stderr",
     "output_type": "stream",
     "text": [
      "[2024-02-28 22:18:48,562] - obspy.clients.fdsn.mass_downloader - INFO: Downloaded 0.0 MB in total.\n"
     ]
    },
    {
     "name": "stderr",
     "output_type": "stream",
     "text": [
      "[2024-02-28 22:18:48,562] - obspy.clients.fdsn.mass_downloader - INFO: Downloaded 0.0 MB in total.\n"
     ]
    },
    {
     "name": "stderr",
     "output_type": "stream",
     "text": [
      "[2024-02-28 22:18:48,562] - obspy.clients.fdsn.mass_downloader - INFO: Downloaded 0.0 MB in total.\n"
     ]
    },
    {
     "name": "stderr",
     "output_type": "stream",
     "text": [
      "[2024-02-28 22:18:48,562] - obspy.clients.fdsn.mass_downloader - INFO: Downloaded 0.0 MB in total.\n"
     ]
    },
    {
     "name": "stderr",
     "output_type": "stream",
     "text": [
      "[2024-02-28 22:18:48,562] - obspy.clients.fdsn.mass_downloader - INFO: Downloaded 0.0 MB in total.\n"
     ]
    },
    {
     "name": "stderr",
     "output_type": "stream",
     "text": [
      "[2024-02-28 22:18:48,562] - obspy.clients.fdsn.mass_downloader - INFO: Downloaded 0.0 MB in total.\n"
     ]
    },
    {
     "name": "stderr",
     "output_type": "stream",
     "text": [
      "[2024-02-28 22:18:48,615] - obspy.clients.fdsn.mass_downloader - INFO: Initializing FDSN client(s) for http://service.iris.edu.\n"
     ]
    },
    {
     "name": "stderr",
     "output_type": "stream",
     "text": [
      "[2024-02-28 22:18:48,615] - obspy.clients.fdsn.mass_downloader - INFO: Initializing FDSN client(s) for http://service.iris.edu.\n"
     ]
    },
    {
     "name": "stderr",
     "output_type": "stream",
     "text": [
      "[2024-02-28 22:18:48,615] - obspy.clients.fdsn.mass_downloader - INFO: Initializing FDSN client(s) for http://service.iris.edu.\n"
     ]
    },
    {
     "name": "stderr",
     "output_type": "stream",
     "text": [
      "[2024-02-28 22:18:48,615] - obspy.clients.fdsn.mass_downloader - INFO: Initializing FDSN client(s) for http://service.iris.edu.\n"
     ]
    },
    {
     "name": "stderr",
     "output_type": "stream",
     "text": [
      "[2024-02-28 22:18:48,615] - obspy.clients.fdsn.mass_downloader - INFO: Initializing FDSN client(s) for http://service.iris.edu.\n"
     ]
    },
    {
     "name": "stderr",
     "output_type": "stream",
     "text": [
      "[2024-02-28 22:18:48,615] - obspy.clients.fdsn.mass_downloader - INFO: Initializing FDSN client(s) for http://service.iris.edu.\n"
     ]
    },
    {
     "name": "stderr",
     "output_type": "stream",
     "text": [
      "[2024-02-28 22:18:48,615] - obspy.clients.fdsn.mass_downloader - INFO: Initializing FDSN client(s) for http://service.iris.edu.\n"
     ]
    },
    {
     "name": "stderr",
     "output_type": "stream",
     "text": [
      "[2024-02-28 22:18:48,615] - obspy.clients.fdsn.mass_downloader - INFO: Initializing FDSN client(s) for http://service.iris.edu.\n"
     ]
    },
    {
     "name": "stderr",
     "output_type": "stream",
     "text": [
      "[2024-02-28 22:18:48,615] - obspy.clients.fdsn.mass_downloader - INFO: Initializing FDSN client(s) for http://service.iris.edu.\n"
     ]
    },
    {
     "name": "stderr",
     "output_type": "stream",
     "text": [
      "[2024-02-28 22:18:48,615] - obspy.clients.fdsn.mass_downloader - INFO: Initializing FDSN client(s) for http://service.iris.edu.\n"
     ]
    },
    {
     "name": "stderr",
     "output_type": "stream",
     "text": [
      "[2024-02-28 22:18:48,615] - obspy.clients.fdsn.mass_downloader - INFO: Initializing FDSN client(s) for http://service.iris.edu.\n"
     ]
    },
    {
     "name": "stderr",
     "output_type": "stream",
     "text": [
      "[2024-02-28 22:18:48,622] - obspy.clients.fdsn.mass_downloader - INFO: Successfully initialized 1 client(s): http://service.iris.edu.\n"
     ]
    },
    {
     "name": "stderr",
     "output_type": "stream",
     "text": [
      "[2024-02-28 22:18:48,622] - obspy.clients.fdsn.mass_downloader - INFO: Successfully initialized 1 client(s): http://service.iris.edu.\n"
     ]
    },
    {
     "name": "stderr",
     "output_type": "stream",
     "text": [
      "[2024-02-28 22:18:48,622] - obspy.clients.fdsn.mass_downloader - INFO: Successfully initialized 1 client(s): http://service.iris.edu.\n"
     ]
    },
    {
     "name": "stderr",
     "output_type": "stream",
     "text": [
      "[2024-02-28 22:18:48,622] - obspy.clients.fdsn.mass_downloader - INFO: Successfully initialized 1 client(s): http://service.iris.edu.\n"
     ]
    },
    {
     "name": "stderr",
     "output_type": "stream",
     "text": [
      "[2024-02-28 22:18:48,622] - obspy.clients.fdsn.mass_downloader - INFO: Successfully initialized 1 client(s): http://service.iris.edu.\n"
     ]
    },
    {
     "name": "stderr",
     "output_type": "stream",
     "text": [
      "[2024-02-28 22:18:48,622] - obspy.clients.fdsn.mass_downloader - INFO: Successfully initialized 1 client(s): http://service.iris.edu.\n"
     ]
    },
    {
     "name": "stderr",
     "output_type": "stream",
     "text": [
      "[2024-02-28 22:18:48,622] - obspy.clients.fdsn.mass_downloader - INFO: Successfully initialized 1 client(s): http://service.iris.edu.\n"
     ]
    },
    {
     "name": "stderr",
     "output_type": "stream",
     "text": [
      "[2024-02-28 22:18:48,622] - obspy.clients.fdsn.mass_downloader - INFO: Successfully initialized 1 client(s): http://service.iris.edu.\n"
     ]
    },
    {
     "name": "stderr",
     "output_type": "stream",
     "text": [
      "[2024-02-28 22:18:48,622] - obspy.clients.fdsn.mass_downloader - INFO: Successfully initialized 1 client(s): http://service.iris.edu.\n"
     ]
    },
    {
     "name": "stderr",
     "output_type": "stream",
     "text": [
      "[2024-02-28 22:18:48,622] - obspy.clients.fdsn.mass_downloader - INFO: Successfully initialized 1 client(s): http://service.iris.edu.\n"
     ]
    },
    {
     "name": "stderr",
     "output_type": "stream",
     "text": [
      "[2024-02-28 22:18:48,622] - obspy.clients.fdsn.mass_downloader - INFO: Successfully initialized 1 client(s): http://service.iris.edu.\n"
     ]
    },
    {
     "name": "stderr",
     "output_type": "stream",
     "text": [
      "[2024-02-28 22:18:48,628] - obspy.clients.fdsn.mass_downloader - INFO: Total acquired or preexisting stations: 0\n"
     ]
    },
    {
     "name": "stderr",
     "output_type": "stream",
     "text": [
      "[2024-02-28 22:18:48,628] - obspy.clients.fdsn.mass_downloader - INFO: Total acquired or preexisting stations: 0\n"
     ]
    },
    {
     "name": "stderr",
     "output_type": "stream",
     "text": [
      "[2024-02-28 22:18:48,628] - obspy.clients.fdsn.mass_downloader - INFO: Total acquired or preexisting stations: 0\n"
     ]
    },
    {
     "name": "stderr",
     "output_type": "stream",
     "text": [
      "[2024-02-28 22:18:48,628] - obspy.clients.fdsn.mass_downloader - INFO: Total acquired or preexisting stations: 0\n"
     ]
    },
    {
     "name": "stderr",
     "output_type": "stream",
     "text": [
      "[2024-02-28 22:18:48,628] - obspy.clients.fdsn.mass_downloader - INFO: Total acquired or preexisting stations: 0\n"
     ]
    },
    {
     "name": "stderr",
     "output_type": "stream",
     "text": [
      "[2024-02-28 22:18:48,628] - obspy.clients.fdsn.mass_downloader - INFO: Total acquired or preexisting stations: 0\n"
     ]
    },
    {
     "name": "stderr",
     "output_type": "stream",
     "text": [
      "[2024-02-28 22:18:48,628] - obspy.clients.fdsn.mass_downloader - INFO: Total acquired or preexisting stations: 0\n"
     ]
    },
    {
     "name": "stderr",
     "output_type": "stream",
     "text": [
      "[2024-02-28 22:18:48,628] - obspy.clients.fdsn.mass_downloader - INFO: Total acquired or preexisting stations: 0\n"
     ]
    },
    {
     "name": "stderr",
     "output_type": "stream",
     "text": [
      "[2024-02-28 22:18:48,628] - obspy.clients.fdsn.mass_downloader - INFO: Total acquired or preexisting stations: 0\n"
     ]
    },
    {
     "name": "stderr",
     "output_type": "stream",
     "text": [
      "[2024-02-28 22:18:48,628] - obspy.clients.fdsn.mass_downloader - INFO: Total acquired or preexisting stations: 0\n"
     ]
    },
    {
     "name": "stderr",
     "output_type": "stream",
     "text": [
      "[2024-02-28 22:18:48,628] - obspy.clients.fdsn.mass_downloader - INFO: Total acquired or preexisting stations: 0\n"
     ]
    },
    {
     "name": "stderr",
     "output_type": "stream",
     "text": [
      "[2024-02-28 22:18:48,633] - obspy.clients.fdsn.mass_downloader - INFO: Client 'http://service.iris.edu' - Requesting reliable availability.\n"
     ]
    },
    {
     "name": "stderr",
     "output_type": "stream",
     "text": [
      "[2024-02-28 22:18:48,633] - obspy.clients.fdsn.mass_downloader - INFO: Client 'http://service.iris.edu' - Requesting reliable availability.\n"
     ]
    },
    {
     "name": "stderr",
     "output_type": "stream",
     "text": [
      "[2024-02-28 22:18:48,633] - obspy.clients.fdsn.mass_downloader - INFO: Client 'http://service.iris.edu' - Requesting reliable availability.\n"
     ]
    },
    {
     "name": "stderr",
     "output_type": "stream",
     "text": [
      "[2024-02-28 22:18:48,633] - obspy.clients.fdsn.mass_downloader - INFO: Client 'http://service.iris.edu' - Requesting reliable availability.\n"
     ]
    },
    {
     "name": "stderr",
     "output_type": "stream",
     "text": [
      "[2024-02-28 22:18:48,633] - obspy.clients.fdsn.mass_downloader - INFO: Client 'http://service.iris.edu' - Requesting reliable availability.\n"
     ]
    },
    {
     "name": "stderr",
     "output_type": "stream",
     "text": [
      "[2024-02-28 22:18:48,633] - obspy.clients.fdsn.mass_downloader - INFO: Client 'http://service.iris.edu' - Requesting reliable availability.\n"
     ]
    },
    {
     "name": "stderr",
     "output_type": "stream",
     "text": [
      "[2024-02-28 22:18:48,633] - obspy.clients.fdsn.mass_downloader - INFO: Client 'http://service.iris.edu' - Requesting reliable availability.\n"
     ]
    },
    {
     "name": "stderr",
     "output_type": "stream",
     "text": [
      "[2024-02-28 22:18:48,633] - obspy.clients.fdsn.mass_downloader - INFO: Client 'http://service.iris.edu' - Requesting reliable availability.\n"
     ]
    },
    {
     "name": "stderr",
     "output_type": "stream",
     "text": [
      "[2024-02-28 22:18:48,633] - obspy.clients.fdsn.mass_downloader - INFO: Client 'http://service.iris.edu' - Requesting reliable availability.\n"
     ]
    },
    {
     "name": "stderr",
     "output_type": "stream",
     "text": [
      "[2024-02-28 22:18:48,633] - obspy.clients.fdsn.mass_downloader - INFO: Client 'http://service.iris.edu' - Requesting reliable availability.\n"
     ]
    },
    {
     "name": "stderr",
     "output_type": "stream",
     "text": [
      "[2024-02-28 22:18:48,633] - obspy.clients.fdsn.mass_downloader - INFO: Client 'http://service.iris.edu' - Requesting reliable availability.\n"
     ]
    },
    {
     "name": "stderr",
     "output_type": "stream",
     "text": [
      "[2024-02-28 22:18:49,748] - obspy.clients.fdsn.mass_downloader - INFO: Client 'http://service.iris.edu' - Successfully requested availability (1.11 seconds)\n"
     ]
    },
    {
     "name": "stderr",
     "output_type": "stream",
     "text": [
      "[2024-02-28 22:18:49,748] - obspy.clients.fdsn.mass_downloader - INFO: Client 'http://service.iris.edu' - Successfully requested availability (1.11 seconds)\n"
     ]
    },
    {
     "name": "stderr",
     "output_type": "stream",
     "text": [
      "[2024-02-28 22:18:49,748] - obspy.clients.fdsn.mass_downloader - INFO: Client 'http://service.iris.edu' - Successfully requested availability (1.11 seconds)\n"
     ]
    },
    {
     "name": "stderr",
     "output_type": "stream",
     "text": [
      "[2024-02-28 22:18:49,748] - obspy.clients.fdsn.mass_downloader - INFO: Client 'http://service.iris.edu' - Successfully requested availability (1.11 seconds)\n"
     ]
    },
    {
     "name": "stderr",
     "output_type": "stream",
     "text": [
      "[2024-02-28 22:18:49,748] - obspy.clients.fdsn.mass_downloader - INFO: Client 'http://service.iris.edu' - Successfully requested availability (1.11 seconds)\n"
     ]
    },
    {
     "name": "stderr",
     "output_type": "stream",
     "text": [
      "[2024-02-28 22:18:49,748] - obspy.clients.fdsn.mass_downloader - INFO: Client 'http://service.iris.edu' - Successfully requested availability (1.11 seconds)\n"
     ]
    },
    {
     "name": "stderr",
     "output_type": "stream",
     "text": [
      "[2024-02-28 22:18:49,748] - obspy.clients.fdsn.mass_downloader - INFO: Client 'http://service.iris.edu' - Successfully requested availability (1.11 seconds)\n"
     ]
    },
    {
     "name": "stderr",
     "output_type": "stream",
     "text": [
      "[2024-02-28 22:18:49,748] - obspy.clients.fdsn.mass_downloader - INFO: Client 'http://service.iris.edu' - Successfully requested availability (1.11 seconds)\n"
     ]
    },
    {
     "name": "stderr",
     "output_type": "stream",
     "text": [
      "[2024-02-28 22:18:49,748] - obspy.clients.fdsn.mass_downloader - INFO: Client 'http://service.iris.edu' - Successfully requested availability (1.11 seconds)\n"
     ]
    },
    {
     "name": "stderr",
     "output_type": "stream",
     "text": [
      "[2024-02-28 22:18:49,748] - obspy.clients.fdsn.mass_downloader - INFO: Client 'http://service.iris.edu' - Successfully requested availability (1.11 seconds)\n"
     ]
    },
    {
     "name": "stderr",
     "output_type": "stream",
     "text": [
      "[2024-02-28 22:18:49,748] - obspy.clients.fdsn.mass_downloader - INFO: Client 'http://service.iris.edu' - Successfully requested availability (1.11 seconds)\n"
     ]
    },
    {
     "name": "stderr",
     "output_type": "stream",
     "text": [
      "[2024-02-28 22:18:49,784] - obspy.clients.fdsn.mass_downloader - INFO: Client 'http://service.iris.edu' - Found 19 stations (57 channels).\n"
     ]
    },
    {
     "name": "stderr",
     "output_type": "stream",
     "text": [
      "[2024-02-28 22:18:49,784] - obspy.clients.fdsn.mass_downloader - INFO: Client 'http://service.iris.edu' - Found 19 stations (57 channels).\n"
     ]
    },
    {
     "name": "stderr",
     "output_type": "stream",
     "text": [
      "[2024-02-28 22:18:49,784] - obspy.clients.fdsn.mass_downloader - INFO: Client 'http://service.iris.edu' - Found 19 stations (57 channels).\n"
     ]
    },
    {
     "name": "stderr",
     "output_type": "stream",
     "text": [
      "[2024-02-28 22:18:49,784] - obspy.clients.fdsn.mass_downloader - INFO: Client 'http://service.iris.edu' - Found 19 stations (57 channels).\n"
     ]
    },
    {
     "name": "stderr",
     "output_type": "stream",
     "text": [
      "[2024-02-28 22:18:49,784] - obspy.clients.fdsn.mass_downloader - INFO: Client 'http://service.iris.edu' - Found 19 stations (57 channels).\n"
     ]
    },
    {
     "name": "stderr",
     "output_type": "stream",
     "text": [
      "[2024-02-28 22:18:49,784] - obspy.clients.fdsn.mass_downloader - INFO: Client 'http://service.iris.edu' - Found 19 stations (57 channels).\n"
     ]
    },
    {
     "name": "stderr",
     "output_type": "stream",
     "text": [
      "[2024-02-28 22:18:49,784] - obspy.clients.fdsn.mass_downloader - INFO: Client 'http://service.iris.edu' - Found 19 stations (57 channels).\n"
     ]
    },
    {
     "name": "stderr",
     "output_type": "stream",
     "text": [
      "[2024-02-28 22:18:49,784] - obspy.clients.fdsn.mass_downloader - INFO: Client 'http://service.iris.edu' - Found 19 stations (57 channels).\n"
     ]
    },
    {
     "name": "stderr",
     "output_type": "stream",
     "text": [
      "[2024-02-28 22:18:49,784] - obspy.clients.fdsn.mass_downloader - INFO: Client 'http://service.iris.edu' - Found 19 stations (57 channels).\n"
     ]
    },
    {
     "name": "stderr",
     "output_type": "stream",
     "text": [
      "[2024-02-28 22:18:49,784] - obspy.clients.fdsn.mass_downloader - INFO: Client 'http://service.iris.edu' - Found 19 stations (57 channels).\n"
     ]
    },
    {
     "name": "stderr",
     "output_type": "stream",
     "text": [
      "[2024-02-28 22:18:49,784] - obspy.clients.fdsn.mass_downloader - INFO: Client 'http://service.iris.edu' - Found 19 stations (57 channels).\n"
     ]
    },
    {
     "name": "stderr",
     "output_type": "stream",
     "text": [
      "[2024-02-28 22:18:49,793] - obspy.clients.fdsn.mass_downloader - INFO: Client 'http://service.iris.edu' - Will attempt to download data from 19 stations.\n"
     ]
    },
    {
     "name": "stderr",
     "output_type": "stream",
     "text": [
      "[2024-02-28 22:18:49,793] - obspy.clients.fdsn.mass_downloader - INFO: Client 'http://service.iris.edu' - Will attempt to download data from 19 stations.\n"
     ]
    },
    {
     "name": "stderr",
     "output_type": "stream",
     "text": [
      "[2024-02-28 22:18:49,793] - obspy.clients.fdsn.mass_downloader - INFO: Client 'http://service.iris.edu' - Will attempt to download data from 19 stations.\n"
     ]
    },
    {
     "name": "stderr",
     "output_type": "stream",
     "text": [
      "[2024-02-28 22:18:49,793] - obspy.clients.fdsn.mass_downloader - INFO: Client 'http://service.iris.edu' - Will attempt to download data from 19 stations.\n"
     ]
    },
    {
     "name": "stderr",
     "output_type": "stream",
     "text": [
      "[2024-02-28 22:18:49,793] - obspy.clients.fdsn.mass_downloader - INFO: Client 'http://service.iris.edu' - Will attempt to download data from 19 stations.\n"
     ]
    },
    {
     "name": "stderr",
     "output_type": "stream",
     "text": [
      "[2024-02-28 22:18:49,793] - obspy.clients.fdsn.mass_downloader - INFO: Client 'http://service.iris.edu' - Will attempt to download data from 19 stations.\n"
     ]
    },
    {
     "name": "stderr",
     "output_type": "stream",
     "text": [
      "[2024-02-28 22:18:49,793] - obspy.clients.fdsn.mass_downloader - INFO: Client 'http://service.iris.edu' - Will attempt to download data from 19 stations.\n"
     ]
    },
    {
     "name": "stderr",
     "output_type": "stream",
     "text": [
      "[2024-02-28 22:18:49,793] - obspy.clients.fdsn.mass_downloader - INFO: Client 'http://service.iris.edu' - Will attempt to download data from 19 stations.\n"
     ]
    },
    {
     "name": "stderr",
     "output_type": "stream",
     "text": [
      "[2024-02-28 22:18:49,793] - obspy.clients.fdsn.mass_downloader - INFO: Client 'http://service.iris.edu' - Will attempt to download data from 19 stations.\n"
     ]
    },
    {
     "name": "stderr",
     "output_type": "stream",
     "text": [
      "[2024-02-28 22:18:49,793] - obspy.clients.fdsn.mass_downloader - INFO: Client 'http://service.iris.edu' - Will attempt to download data from 19 stations.\n"
     ]
    },
    {
     "name": "stderr",
     "output_type": "stream",
     "text": [
      "[2024-02-28 22:18:49,793] - obspy.clients.fdsn.mass_downloader - INFO: Client 'http://service.iris.edu' - Will attempt to download data from 19 stations.\n"
     ]
    },
    {
     "name": "stderr",
     "output_type": "stream",
     "text": [
      "[2024-02-28 22:18:49,800] - obspy.clients.fdsn.mass_downloader - INFO: Client 'http://service.iris.edu' - Status for 51 time intervals/channels before downloading: EXISTS\n"
     ]
    },
    {
     "name": "stderr",
     "output_type": "stream",
     "text": [
      "[2024-02-28 22:18:49,800] - obspy.clients.fdsn.mass_downloader - INFO: Client 'http://service.iris.edu' - Status for 51 time intervals/channels before downloading: EXISTS\n"
     ]
    },
    {
     "name": "stderr",
     "output_type": "stream",
     "text": [
      "[2024-02-28 22:18:49,800] - obspy.clients.fdsn.mass_downloader - INFO: Client 'http://service.iris.edu' - Status for 51 time intervals/channels before downloading: EXISTS\n"
     ]
    },
    {
     "name": "stderr",
     "output_type": "stream",
     "text": [
      "[2024-02-28 22:18:49,800] - obspy.clients.fdsn.mass_downloader - INFO: Client 'http://service.iris.edu' - Status for 51 time intervals/channels before downloading: EXISTS\n"
     ]
    },
    {
     "name": "stderr",
     "output_type": "stream",
     "text": [
      "[2024-02-28 22:18:49,800] - obspy.clients.fdsn.mass_downloader - INFO: Client 'http://service.iris.edu' - Status for 51 time intervals/channels before downloading: EXISTS\n"
     ]
    },
    {
     "name": "stderr",
     "output_type": "stream",
     "text": [
      "[2024-02-28 22:18:49,800] - obspy.clients.fdsn.mass_downloader - INFO: Client 'http://service.iris.edu' - Status for 51 time intervals/channels before downloading: EXISTS\n"
     ]
    },
    {
     "name": "stderr",
     "output_type": "stream",
     "text": [
      "[2024-02-28 22:18:49,800] - obspy.clients.fdsn.mass_downloader - INFO: Client 'http://service.iris.edu' - Status for 51 time intervals/channels before downloading: EXISTS\n"
     ]
    },
    {
     "name": "stderr",
     "output_type": "stream",
     "text": [
      "[2024-02-28 22:18:49,800] - obspy.clients.fdsn.mass_downloader - INFO: Client 'http://service.iris.edu' - Status for 51 time intervals/channels before downloading: EXISTS\n"
     ]
    },
    {
     "name": "stderr",
     "output_type": "stream",
     "text": [
      "[2024-02-28 22:18:49,800] - obspy.clients.fdsn.mass_downloader - INFO: Client 'http://service.iris.edu' - Status for 51 time intervals/channels before downloading: EXISTS\n"
     ]
    },
    {
     "name": "stderr",
     "output_type": "stream",
     "text": [
      "[2024-02-28 22:18:49,800] - obspy.clients.fdsn.mass_downloader - INFO: Client 'http://service.iris.edu' - Status for 51 time intervals/channels before downloading: EXISTS\n"
     ]
    },
    {
     "name": "stderr",
     "output_type": "stream",
     "text": [
      "[2024-02-28 22:18:49,800] - obspy.clients.fdsn.mass_downloader - INFO: Client 'http://service.iris.edu' - Status for 51 time intervals/channels before downloading: EXISTS\n"
     ]
    },
    {
     "name": "stderr",
     "output_type": "stream",
     "text": [
      "[2024-02-28 22:18:49,805] - obspy.clients.fdsn.mass_downloader - INFO: Client 'http://service.iris.edu' - Status for 6 time intervals/channels before downloading: NEEDS_DOWNLOADING\n"
     ]
    },
    {
     "name": "stderr",
     "output_type": "stream",
     "text": [
      "[2024-02-28 22:18:49,805] - obspy.clients.fdsn.mass_downloader - INFO: Client 'http://service.iris.edu' - Status for 6 time intervals/channels before downloading: NEEDS_DOWNLOADING\n"
     ]
    },
    {
     "name": "stderr",
     "output_type": "stream",
     "text": [
      "[2024-02-28 22:18:49,805] - obspy.clients.fdsn.mass_downloader - INFO: Client 'http://service.iris.edu' - Status for 6 time intervals/channels before downloading: NEEDS_DOWNLOADING\n"
     ]
    },
    {
     "name": "stderr",
     "output_type": "stream",
     "text": [
      "[2024-02-28 22:18:49,805] - obspy.clients.fdsn.mass_downloader - INFO: Client 'http://service.iris.edu' - Status for 6 time intervals/channels before downloading: NEEDS_DOWNLOADING\n"
     ]
    },
    {
     "name": "stderr",
     "output_type": "stream",
     "text": [
      "[2024-02-28 22:18:49,805] - obspy.clients.fdsn.mass_downloader - INFO: Client 'http://service.iris.edu' - Status for 6 time intervals/channels before downloading: NEEDS_DOWNLOADING\n"
     ]
    },
    {
     "name": "stderr",
     "output_type": "stream",
     "text": [
      "[2024-02-28 22:18:49,805] - obspy.clients.fdsn.mass_downloader - INFO: Client 'http://service.iris.edu' - Status for 6 time intervals/channels before downloading: NEEDS_DOWNLOADING\n"
     ]
    },
    {
     "name": "stderr",
     "output_type": "stream",
     "text": [
      "[2024-02-28 22:18:49,805] - obspy.clients.fdsn.mass_downloader - INFO: Client 'http://service.iris.edu' - Status for 6 time intervals/channels before downloading: NEEDS_DOWNLOADING\n"
     ]
    },
    {
     "name": "stderr",
     "output_type": "stream",
     "text": [
      "[2024-02-28 22:18:49,805] - obspy.clients.fdsn.mass_downloader - INFO: Client 'http://service.iris.edu' - Status for 6 time intervals/channels before downloading: NEEDS_DOWNLOADING\n"
     ]
    },
    {
     "name": "stderr",
     "output_type": "stream",
     "text": [
      "[2024-02-28 22:18:49,805] - obspy.clients.fdsn.mass_downloader - INFO: Client 'http://service.iris.edu' - Status for 6 time intervals/channels before downloading: NEEDS_DOWNLOADING\n"
     ]
    },
    {
     "name": "stderr",
     "output_type": "stream",
     "text": [
      "[2024-02-28 22:18:49,805] - obspy.clients.fdsn.mass_downloader - INFO: Client 'http://service.iris.edu' - Status for 6 time intervals/channels before downloading: NEEDS_DOWNLOADING\n"
     ]
    },
    {
     "name": "stderr",
     "output_type": "stream",
     "text": [
      "[2024-02-28 22:18:49,805] - obspy.clients.fdsn.mass_downloader - INFO: Client 'http://service.iris.edu' - Status for 6 time intervals/channels before downloading: NEEDS_DOWNLOADING\n"
     ]
    },
    {
     "name": "stderr",
     "output_type": "stream",
     "text": [
      "[2024-02-28 22:18:50,159] - obspy.clients.fdsn.mass_downloader - INFO: Client 'http://service.iris.edu' - No data available for request.\n",
      "HTTP Status code: 204\n"
     ]
    },
    {
     "name": "stderr",
     "output_type": "stream",
     "text": [
      "[2024-02-28 22:18:50,159] - obspy.clients.fdsn.mass_downloader - INFO: Client 'http://service.iris.edu' - No data available for request.\n",
      "HTTP Status code: 204\n"
     ]
    },
    {
     "name": "stderr",
     "output_type": "stream",
     "text": [
      "[2024-02-28 22:18:50,159] - obspy.clients.fdsn.mass_downloader - INFO: Client 'http://service.iris.edu' - No data available for request.\n",
      "HTTP Status code: 204\n"
     ]
    },
    {
     "name": "stderr",
     "output_type": "stream",
     "text": [
      "[2024-02-28 22:18:50,159] - obspy.clients.fdsn.mass_downloader - INFO: Client 'http://service.iris.edu' - No data available for request.\n",
      "HTTP Status code: 204\n"
     ]
    },
    {
     "name": "stderr",
     "output_type": "stream",
     "text": [
      "[2024-02-28 22:18:50,159] - obspy.clients.fdsn.mass_downloader - INFO: Client 'http://service.iris.edu' - No data available for request.\n",
      "HTTP Status code: 204\n"
     ]
    },
    {
     "name": "stderr",
     "output_type": "stream",
     "text": [
      "[2024-02-28 22:18:50,159] - obspy.clients.fdsn.mass_downloader - INFO: Client 'http://service.iris.edu' - No data available for request.\n",
      "HTTP Status code: 204\n"
     ]
    },
    {
     "name": "stderr",
     "output_type": "stream",
     "text": [
      "[2024-02-28 22:18:50,159] - obspy.clients.fdsn.mass_downloader - INFO: Client 'http://service.iris.edu' - No data available for request.\n",
      "HTTP Status code: 204\n"
     ]
    },
    {
     "name": "stderr",
     "output_type": "stream",
     "text": [
      "[2024-02-28 22:18:50,159] - obspy.clients.fdsn.mass_downloader - INFO: Client 'http://service.iris.edu' - No data available for request.\n",
      "HTTP Status code: 204\n"
     ]
    },
    {
     "name": "stderr",
     "output_type": "stream",
     "text": [
      "[2024-02-28 22:18:50,159] - obspy.clients.fdsn.mass_downloader - INFO: Client 'http://service.iris.edu' - No data available for request.\n",
      "HTTP Status code: 204\n"
     ]
    },
    {
     "name": "stderr",
     "output_type": "stream",
     "text": [
      "[2024-02-28 22:18:50,159] - obspy.clients.fdsn.mass_downloader - INFO: Client 'http://service.iris.edu' - No data available for request.\n",
      "HTTP Status code: 204\n"
     ]
    },
    {
     "name": "stderr",
     "output_type": "stream",
     "text": [
      "[2024-02-28 22:18:50,159] - obspy.clients.fdsn.mass_downloader - INFO: Client 'http://service.iris.edu' - No data available for request.\n",
      "HTTP Status code: 204\n"
     ]
    },
    {
     "name": "stderr",
     "output_type": "stream",
     "text": [
      "[2024-02-28 22:18:50,163] - obspy.clients.fdsn.mass_downloader - INFO: Client 'http://service.iris.edu' - Launching basic QC checks...\n"
     ]
    },
    {
     "name": "stderr",
     "output_type": "stream",
     "text": [
      "[2024-02-28 22:18:50,163] - obspy.clients.fdsn.mass_downloader - INFO: Client 'http://service.iris.edu' - Launching basic QC checks...\n"
     ]
    },
    {
     "name": "stderr",
     "output_type": "stream",
     "text": [
      "[2024-02-28 22:18:50,163] - obspy.clients.fdsn.mass_downloader - INFO: Client 'http://service.iris.edu' - Launching basic QC checks...\n"
     ]
    },
    {
     "name": "stderr",
     "output_type": "stream",
     "text": [
      "[2024-02-28 22:18:50,163] - obspy.clients.fdsn.mass_downloader - INFO: Client 'http://service.iris.edu' - Launching basic QC checks...\n"
     ]
    },
    {
     "name": "stderr",
     "output_type": "stream",
     "text": [
      "[2024-02-28 22:18:50,163] - obspy.clients.fdsn.mass_downloader - INFO: Client 'http://service.iris.edu' - Launching basic QC checks...\n"
     ]
    },
    {
     "name": "stderr",
     "output_type": "stream",
     "text": [
      "[2024-02-28 22:18:50,163] - obspy.clients.fdsn.mass_downloader - INFO: Client 'http://service.iris.edu' - Launching basic QC checks...\n"
     ]
    },
    {
     "name": "stderr",
     "output_type": "stream",
     "text": [
      "[2024-02-28 22:18:50,163] - obspy.clients.fdsn.mass_downloader - INFO: Client 'http://service.iris.edu' - Launching basic QC checks...\n"
     ]
    },
    {
     "name": "stderr",
     "output_type": "stream",
     "text": [
      "[2024-02-28 22:18:50,163] - obspy.clients.fdsn.mass_downloader - INFO: Client 'http://service.iris.edu' - Launching basic QC checks...\n"
     ]
    },
    {
     "name": "stderr",
     "output_type": "stream",
     "text": [
      "[2024-02-28 22:18:50,163] - obspy.clients.fdsn.mass_downloader - INFO: Client 'http://service.iris.edu' - Launching basic QC checks...\n"
     ]
    },
    {
     "name": "stderr",
     "output_type": "stream",
     "text": [
      "[2024-02-28 22:18:50,163] - obspy.clients.fdsn.mass_downloader - INFO: Client 'http://service.iris.edu' - Launching basic QC checks...\n"
     ]
    },
    {
     "name": "stderr",
     "output_type": "stream",
     "text": [
      "[2024-02-28 22:18:50,163] - obspy.clients.fdsn.mass_downloader - INFO: Client 'http://service.iris.edu' - Launching basic QC checks...\n"
     ]
    },
    {
     "name": "stderr",
     "output_type": "stream",
     "text": [
      "[2024-02-28 22:18:50,168] - obspy.clients.fdsn.mass_downloader - INFO: Client 'http://service.iris.edu' - Downloaded 0.0 MB [0.00 KB/sec] of data, 0.0 MB of which were discarded afterwards.\n"
     ]
    },
    {
     "name": "stderr",
     "output_type": "stream",
     "text": [
      "[2024-02-28 22:18:50,168] - obspy.clients.fdsn.mass_downloader - INFO: Client 'http://service.iris.edu' - Downloaded 0.0 MB [0.00 KB/sec] of data, 0.0 MB of which were discarded afterwards.\n"
     ]
    },
    {
     "name": "stderr",
     "output_type": "stream",
     "text": [
      "[2024-02-28 22:18:50,168] - obspy.clients.fdsn.mass_downloader - INFO: Client 'http://service.iris.edu' - Downloaded 0.0 MB [0.00 KB/sec] of data, 0.0 MB of which were discarded afterwards.\n"
     ]
    },
    {
     "name": "stderr",
     "output_type": "stream",
     "text": [
      "[2024-02-28 22:18:50,168] - obspy.clients.fdsn.mass_downloader - INFO: Client 'http://service.iris.edu' - Downloaded 0.0 MB [0.00 KB/sec] of data, 0.0 MB of which were discarded afterwards.\n"
     ]
    },
    {
     "name": "stderr",
     "output_type": "stream",
     "text": [
      "[2024-02-28 22:18:50,168] - obspy.clients.fdsn.mass_downloader - INFO: Client 'http://service.iris.edu' - Downloaded 0.0 MB [0.00 KB/sec] of data, 0.0 MB of which were discarded afterwards.\n"
     ]
    },
    {
     "name": "stderr",
     "output_type": "stream",
     "text": [
      "[2024-02-28 22:18:50,168] - obspy.clients.fdsn.mass_downloader - INFO: Client 'http://service.iris.edu' - Downloaded 0.0 MB [0.00 KB/sec] of data, 0.0 MB of which were discarded afterwards.\n"
     ]
    },
    {
     "name": "stderr",
     "output_type": "stream",
     "text": [
      "[2024-02-28 22:18:50,168] - obspy.clients.fdsn.mass_downloader - INFO: Client 'http://service.iris.edu' - Downloaded 0.0 MB [0.00 KB/sec] of data, 0.0 MB of which were discarded afterwards.\n"
     ]
    },
    {
     "name": "stderr",
     "output_type": "stream",
     "text": [
      "[2024-02-28 22:18:50,168] - obspy.clients.fdsn.mass_downloader - INFO: Client 'http://service.iris.edu' - Downloaded 0.0 MB [0.00 KB/sec] of data, 0.0 MB of which were discarded afterwards.\n"
     ]
    },
    {
     "name": "stderr",
     "output_type": "stream",
     "text": [
      "[2024-02-28 22:18:50,168] - obspy.clients.fdsn.mass_downloader - INFO: Client 'http://service.iris.edu' - Downloaded 0.0 MB [0.00 KB/sec] of data, 0.0 MB of which were discarded afterwards.\n"
     ]
    },
    {
     "name": "stderr",
     "output_type": "stream",
     "text": [
      "[2024-02-28 22:18:50,168] - obspy.clients.fdsn.mass_downloader - INFO: Client 'http://service.iris.edu' - Downloaded 0.0 MB [0.00 KB/sec] of data, 0.0 MB of which were discarded afterwards.\n"
     ]
    },
    {
     "name": "stderr",
     "output_type": "stream",
     "text": [
      "[2024-02-28 22:18:50,168] - obspy.clients.fdsn.mass_downloader - INFO: Client 'http://service.iris.edu' - Downloaded 0.0 MB [0.00 KB/sec] of data, 0.0 MB of which were discarded afterwards.\n"
     ]
    },
    {
     "name": "stderr",
     "output_type": "stream",
     "text": [
      "[2024-02-28 22:18:50,172] - obspy.clients.fdsn.mass_downloader - INFO: Client 'http://service.iris.edu' - Status for 6 time intervals/channels after downloading: DOWNLOAD_FAILED\n"
     ]
    },
    {
     "name": "stderr",
     "output_type": "stream",
     "text": [
      "[2024-02-28 22:18:50,172] - obspy.clients.fdsn.mass_downloader - INFO: Client 'http://service.iris.edu' - Status for 6 time intervals/channels after downloading: DOWNLOAD_FAILED\n"
     ]
    },
    {
     "name": "stderr",
     "output_type": "stream",
     "text": [
      "[2024-02-28 22:18:50,172] - obspy.clients.fdsn.mass_downloader - INFO: Client 'http://service.iris.edu' - Status for 6 time intervals/channels after downloading: DOWNLOAD_FAILED\n"
     ]
    },
    {
     "name": "stderr",
     "output_type": "stream",
     "text": [
      "[2024-02-28 22:18:50,172] - obspy.clients.fdsn.mass_downloader - INFO: Client 'http://service.iris.edu' - Status for 6 time intervals/channels after downloading: DOWNLOAD_FAILED\n"
     ]
    },
    {
     "name": "stderr",
     "output_type": "stream",
     "text": [
      "[2024-02-28 22:18:50,172] - obspy.clients.fdsn.mass_downloader - INFO: Client 'http://service.iris.edu' - Status for 6 time intervals/channels after downloading: DOWNLOAD_FAILED\n"
     ]
    },
    {
     "name": "stderr",
     "output_type": "stream",
     "text": [
      "[2024-02-28 22:18:50,172] - obspy.clients.fdsn.mass_downloader - INFO: Client 'http://service.iris.edu' - Status for 6 time intervals/channels after downloading: DOWNLOAD_FAILED\n"
     ]
    },
    {
     "name": "stderr",
     "output_type": "stream",
     "text": [
      "[2024-02-28 22:18:50,172] - obspy.clients.fdsn.mass_downloader - INFO: Client 'http://service.iris.edu' - Status for 6 time intervals/channels after downloading: DOWNLOAD_FAILED\n"
     ]
    },
    {
     "name": "stderr",
     "output_type": "stream",
     "text": [
      "[2024-02-28 22:18:50,172] - obspy.clients.fdsn.mass_downloader - INFO: Client 'http://service.iris.edu' - Status for 6 time intervals/channels after downloading: DOWNLOAD_FAILED\n"
     ]
    },
    {
     "name": "stderr",
     "output_type": "stream",
     "text": [
      "[2024-02-28 22:18:50,172] - obspy.clients.fdsn.mass_downloader - INFO: Client 'http://service.iris.edu' - Status for 6 time intervals/channels after downloading: DOWNLOAD_FAILED\n"
     ]
    },
    {
     "name": "stderr",
     "output_type": "stream",
     "text": [
      "[2024-02-28 22:18:50,172] - obspy.clients.fdsn.mass_downloader - INFO: Client 'http://service.iris.edu' - Status for 6 time intervals/channels after downloading: DOWNLOAD_FAILED\n"
     ]
    },
    {
     "name": "stderr",
     "output_type": "stream",
     "text": [
      "[2024-02-28 22:18:50,172] - obspy.clients.fdsn.mass_downloader - INFO: Client 'http://service.iris.edu' - Status for 6 time intervals/channels after downloading: DOWNLOAD_FAILED\n"
     ]
    },
    {
     "name": "stderr",
     "output_type": "stream",
     "text": [
      "[2024-02-28 22:18:50,176] - obspy.clients.fdsn.mass_downloader - INFO: Client 'http://service.iris.edu' - Status for 51 time intervals/channels after downloading: EXISTS\n"
     ]
    },
    {
     "name": "stderr",
     "output_type": "stream",
     "text": [
      "[2024-02-28 22:18:50,176] - obspy.clients.fdsn.mass_downloader - INFO: Client 'http://service.iris.edu' - Status for 51 time intervals/channels after downloading: EXISTS\n"
     ]
    },
    {
     "name": "stderr",
     "output_type": "stream",
     "text": [
      "[2024-02-28 22:18:50,176] - obspy.clients.fdsn.mass_downloader - INFO: Client 'http://service.iris.edu' - Status for 51 time intervals/channels after downloading: EXISTS\n"
     ]
    },
    {
     "name": "stderr",
     "output_type": "stream",
     "text": [
      "[2024-02-28 22:18:50,176] - obspy.clients.fdsn.mass_downloader - INFO: Client 'http://service.iris.edu' - Status for 51 time intervals/channels after downloading: EXISTS\n"
     ]
    },
    {
     "name": "stderr",
     "output_type": "stream",
     "text": [
      "[2024-02-28 22:18:50,176] - obspy.clients.fdsn.mass_downloader - INFO: Client 'http://service.iris.edu' - Status for 51 time intervals/channels after downloading: EXISTS\n"
     ]
    },
    {
     "name": "stderr",
     "output_type": "stream",
     "text": [
      "[2024-02-28 22:18:50,176] - obspy.clients.fdsn.mass_downloader - INFO: Client 'http://service.iris.edu' - Status for 51 time intervals/channels after downloading: EXISTS\n"
     ]
    },
    {
     "name": "stderr",
     "output_type": "stream",
     "text": [
      "[2024-02-28 22:18:50,176] - obspy.clients.fdsn.mass_downloader - INFO: Client 'http://service.iris.edu' - Status for 51 time intervals/channels after downloading: EXISTS\n"
     ]
    },
    {
     "name": "stderr",
     "output_type": "stream",
     "text": [
      "[2024-02-28 22:18:50,176] - obspy.clients.fdsn.mass_downloader - INFO: Client 'http://service.iris.edu' - Status for 51 time intervals/channels after downloading: EXISTS\n"
     ]
    },
    {
     "name": "stderr",
     "output_type": "stream",
     "text": [
      "[2024-02-28 22:18:50,176] - obspy.clients.fdsn.mass_downloader - INFO: Client 'http://service.iris.edu' - Status for 51 time intervals/channels after downloading: EXISTS\n"
     ]
    },
    {
     "name": "stderr",
     "output_type": "stream",
     "text": [
      "[2024-02-28 22:18:50,176] - obspy.clients.fdsn.mass_downloader - INFO: Client 'http://service.iris.edu' - Status for 51 time intervals/channels after downloading: EXISTS\n"
     ]
    },
    {
     "name": "stderr",
     "output_type": "stream",
     "text": [
      "[2024-02-28 22:18:50,176] - obspy.clients.fdsn.mass_downloader - INFO: Client 'http://service.iris.edu' - Status for 51 time intervals/channels after downloading: EXISTS\n"
     ]
    },
    {
     "name": "stderr",
     "output_type": "stream",
     "text": [
      "[2024-02-28 22:18:50,202] - obspy.clients.fdsn.mass_downloader - INFO: Client 'http://service.iris.edu' - No station information to download.\n"
     ]
    },
    {
     "name": "stderr",
     "output_type": "stream",
     "text": [
      "[2024-02-28 22:18:50,202] - obspy.clients.fdsn.mass_downloader - INFO: Client 'http://service.iris.edu' - No station information to download.\n"
     ]
    },
    {
     "name": "stderr",
     "output_type": "stream",
     "text": [
      "[2024-02-28 22:18:50,202] - obspy.clients.fdsn.mass_downloader - INFO: Client 'http://service.iris.edu' - No station information to download.\n"
     ]
    },
    {
     "name": "stderr",
     "output_type": "stream",
     "text": [
      "[2024-02-28 22:18:50,202] - obspy.clients.fdsn.mass_downloader - INFO: Client 'http://service.iris.edu' - No station information to download.\n"
     ]
    },
    {
     "name": "stderr",
     "output_type": "stream",
     "text": [
      "[2024-02-28 22:18:50,202] - obspy.clients.fdsn.mass_downloader - INFO: Client 'http://service.iris.edu' - No station information to download.\n"
     ]
    },
    {
     "name": "stderr",
     "output_type": "stream",
     "text": [
      "[2024-02-28 22:18:50,202] - obspy.clients.fdsn.mass_downloader - INFO: Client 'http://service.iris.edu' - No station information to download.\n"
     ]
    },
    {
     "name": "stderr",
     "output_type": "stream",
     "text": [
      "[2024-02-28 22:18:50,202] - obspy.clients.fdsn.mass_downloader - INFO: Client 'http://service.iris.edu' - No station information to download.\n"
     ]
    },
    {
     "name": "stderr",
     "output_type": "stream",
     "text": [
      "[2024-02-28 22:18:50,202] - obspy.clients.fdsn.mass_downloader - INFO: Client 'http://service.iris.edu' - No station information to download.\n"
     ]
    },
    {
     "name": "stderr",
     "output_type": "stream",
     "text": [
      "[2024-02-28 22:18:50,202] - obspy.clients.fdsn.mass_downloader - INFO: Client 'http://service.iris.edu' - No station information to download.\n"
     ]
    },
    {
     "name": "stderr",
     "output_type": "stream",
     "text": [
      "[2024-02-28 22:18:50,202] - obspy.clients.fdsn.mass_downloader - INFO: Client 'http://service.iris.edu' - No station information to download.\n"
     ]
    },
    {
     "name": "stderr",
     "output_type": "stream",
     "text": [
      "[2024-02-28 22:18:50,202] - obspy.clients.fdsn.mass_downloader - INFO: Client 'http://service.iris.edu' - No station information to download.\n"
     ]
    },
    {
     "name": "stderr",
     "output_type": "stream",
     "text": [
      "[2024-02-28 22:18:50,206] - obspy.clients.fdsn.mass_downloader - INFO: ============================== Final report\n"
     ]
    },
    {
     "name": "stderr",
     "output_type": "stream",
     "text": [
      "[2024-02-28 22:18:50,206] - obspy.clients.fdsn.mass_downloader - INFO: ============================== Final report\n"
     ]
    },
    {
     "name": "stderr",
     "output_type": "stream",
     "text": [
      "[2024-02-28 22:18:50,206] - obspy.clients.fdsn.mass_downloader - INFO: ============================== Final report\n"
     ]
    },
    {
     "name": "stderr",
     "output_type": "stream",
     "text": [
      "[2024-02-28 22:18:50,206] - obspy.clients.fdsn.mass_downloader - INFO: ============================== Final report\n"
     ]
    },
    {
     "name": "stderr",
     "output_type": "stream",
     "text": [
      "[2024-02-28 22:18:50,206] - obspy.clients.fdsn.mass_downloader - INFO: ============================== Final report\n"
     ]
    },
    {
     "name": "stderr",
     "output_type": "stream",
     "text": [
      "[2024-02-28 22:18:50,206] - obspy.clients.fdsn.mass_downloader - INFO: ============================== Final report\n"
     ]
    },
    {
     "name": "stderr",
     "output_type": "stream",
     "text": [
      "[2024-02-28 22:18:50,206] - obspy.clients.fdsn.mass_downloader - INFO: ============================== Final report\n"
     ]
    },
    {
     "name": "stderr",
     "output_type": "stream",
     "text": [
      "[2024-02-28 22:18:50,206] - obspy.clients.fdsn.mass_downloader - INFO: ============================== Final report\n"
     ]
    },
    {
     "name": "stderr",
     "output_type": "stream",
     "text": [
      "[2024-02-28 22:18:50,206] - obspy.clients.fdsn.mass_downloader - INFO: ============================== Final report\n"
     ]
    },
    {
     "name": "stderr",
     "output_type": "stream",
     "text": [
      "[2024-02-28 22:18:50,206] - obspy.clients.fdsn.mass_downloader - INFO: ============================== Final report\n"
     ]
    },
    {
     "name": "stderr",
     "output_type": "stream",
     "text": [
      "[2024-02-28 22:18:50,206] - obspy.clients.fdsn.mass_downloader - INFO: ============================== Final report\n"
     ]
    },
    {
     "name": "stderr",
     "output_type": "stream",
     "text": [
      "[2024-02-28 22:18:50,212] - obspy.clients.fdsn.mass_downloader - INFO: 51 MiniSEED files [0.3 MB] already existed.\n"
     ]
    },
    {
     "name": "stderr",
     "output_type": "stream",
     "text": [
      "[2024-02-28 22:18:50,212] - obspy.clients.fdsn.mass_downloader - INFO: 51 MiniSEED files [0.3 MB] already existed.\n"
     ]
    },
    {
     "name": "stderr",
     "output_type": "stream",
     "text": [
      "[2024-02-28 22:18:50,212] - obspy.clients.fdsn.mass_downloader - INFO: 51 MiniSEED files [0.3 MB] already existed.\n"
     ]
    },
    {
     "name": "stderr",
     "output_type": "stream",
     "text": [
      "[2024-02-28 22:18:50,212] - obspy.clients.fdsn.mass_downloader - INFO: 51 MiniSEED files [0.3 MB] already existed.\n"
     ]
    },
    {
     "name": "stderr",
     "output_type": "stream",
     "text": [
      "[2024-02-28 22:18:50,212] - obspy.clients.fdsn.mass_downloader - INFO: 51 MiniSEED files [0.3 MB] already existed.\n"
     ]
    },
    {
     "name": "stderr",
     "output_type": "stream",
     "text": [
      "[2024-02-28 22:18:50,212] - obspy.clients.fdsn.mass_downloader - INFO: 51 MiniSEED files [0.3 MB] already existed.\n"
     ]
    },
    {
     "name": "stderr",
     "output_type": "stream",
     "text": [
      "[2024-02-28 22:18:50,212] - obspy.clients.fdsn.mass_downloader - INFO: 51 MiniSEED files [0.3 MB] already existed.\n"
     ]
    },
    {
     "name": "stderr",
     "output_type": "stream",
     "text": [
      "[2024-02-28 22:18:50,212] - obspy.clients.fdsn.mass_downloader - INFO: 51 MiniSEED files [0.3 MB] already existed.\n"
     ]
    },
    {
     "name": "stderr",
     "output_type": "stream",
     "text": [
      "[2024-02-28 22:18:50,212] - obspy.clients.fdsn.mass_downloader - INFO: 51 MiniSEED files [0.3 MB] already existed.\n"
     ]
    },
    {
     "name": "stderr",
     "output_type": "stream",
     "text": [
      "[2024-02-28 22:18:50,212] - obspy.clients.fdsn.mass_downloader - INFO: 51 MiniSEED files [0.3 MB] already existed.\n"
     ]
    },
    {
     "name": "stderr",
     "output_type": "stream",
     "text": [
      "[2024-02-28 22:18:50,212] - obspy.clients.fdsn.mass_downloader - INFO: 51 MiniSEED files [0.3 MB] already existed.\n"
     ]
    },
    {
     "name": "stderr",
     "output_type": "stream",
     "text": [
      "[2024-02-28 22:18:50,218] - obspy.clients.fdsn.mass_downloader - INFO: 17 StationXML files [0.4 MB] already existed.\n"
     ]
    },
    {
     "name": "stderr",
     "output_type": "stream",
     "text": [
      "[2024-02-28 22:18:50,218] - obspy.clients.fdsn.mass_downloader - INFO: 17 StationXML files [0.4 MB] already existed.\n"
     ]
    },
    {
     "name": "stderr",
     "output_type": "stream",
     "text": [
      "[2024-02-28 22:18:50,218] - obspy.clients.fdsn.mass_downloader - INFO: 17 StationXML files [0.4 MB] already existed.\n"
     ]
    },
    {
     "name": "stderr",
     "output_type": "stream",
     "text": [
      "[2024-02-28 22:18:50,218] - obspy.clients.fdsn.mass_downloader - INFO: 17 StationXML files [0.4 MB] already existed.\n"
     ]
    },
    {
     "name": "stderr",
     "output_type": "stream",
     "text": [
      "[2024-02-28 22:18:50,218] - obspy.clients.fdsn.mass_downloader - INFO: 17 StationXML files [0.4 MB] already existed.\n"
     ]
    },
    {
     "name": "stderr",
     "output_type": "stream",
     "text": [
      "[2024-02-28 22:18:50,218] - obspy.clients.fdsn.mass_downloader - INFO: 17 StationXML files [0.4 MB] already existed.\n"
     ]
    },
    {
     "name": "stderr",
     "output_type": "stream",
     "text": [
      "[2024-02-28 22:18:50,218] - obspy.clients.fdsn.mass_downloader - INFO: 17 StationXML files [0.4 MB] already existed.\n"
     ]
    },
    {
     "name": "stderr",
     "output_type": "stream",
     "text": [
      "[2024-02-28 22:18:50,218] - obspy.clients.fdsn.mass_downloader - INFO: 17 StationXML files [0.4 MB] already existed.\n"
     ]
    },
    {
     "name": "stderr",
     "output_type": "stream",
     "text": [
      "[2024-02-28 22:18:50,218] - obspy.clients.fdsn.mass_downloader - INFO: 17 StationXML files [0.4 MB] already existed.\n"
     ]
    },
    {
     "name": "stderr",
     "output_type": "stream",
     "text": [
      "[2024-02-28 22:18:50,218] - obspy.clients.fdsn.mass_downloader - INFO: 17 StationXML files [0.4 MB] already existed.\n"
     ]
    },
    {
     "name": "stderr",
     "output_type": "stream",
     "text": [
      "[2024-02-28 22:18:50,218] - obspy.clients.fdsn.mass_downloader - INFO: 17 StationXML files [0.4 MB] already existed.\n"
     ]
    },
    {
     "name": "stderr",
     "output_type": "stream",
     "text": [
      "[2024-02-28 22:18:50,223] - obspy.clients.fdsn.mass_downloader - INFO: Client 'http://service.iris.edu' - Acquired 0 MiniSEED files [0.0 MB].\n"
     ]
    },
    {
     "name": "stderr",
     "output_type": "stream",
     "text": [
      "[2024-02-28 22:18:50,223] - obspy.clients.fdsn.mass_downloader - INFO: Client 'http://service.iris.edu' - Acquired 0 MiniSEED files [0.0 MB].\n"
     ]
    },
    {
     "name": "stderr",
     "output_type": "stream",
     "text": [
      "[2024-02-28 22:18:50,223] - obspy.clients.fdsn.mass_downloader - INFO: Client 'http://service.iris.edu' - Acquired 0 MiniSEED files [0.0 MB].\n"
     ]
    },
    {
     "name": "stderr",
     "output_type": "stream",
     "text": [
      "[2024-02-28 22:18:50,223] - obspy.clients.fdsn.mass_downloader - INFO: Client 'http://service.iris.edu' - Acquired 0 MiniSEED files [0.0 MB].\n"
     ]
    },
    {
     "name": "stderr",
     "output_type": "stream",
     "text": [
      "[2024-02-28 22:18:50,223] - obspy.clients.fdsn.mass_downloader - INFO: Client 'http://service.iris.edu' - Acquired 0 MiniSEED files [0.0 MB].\n"
     ]
    },
    {
     "name": "stderr",
     "output_type": "stream",
     "text": [
      "[2024-02-28 22:18:50,223] - obspy.clients.fdsn.mass_downloader - INFO: Client 'http://service.iris.edu' - Acquired 0 MiniSEED files [0.0 MB].\n"
     ]
    },
    {
     "name": "stderr",
     "output_type": "stream",
     "text": [
      "[2024-02-28 22:18:50,223] - obspy.clients.fdsn.mass_downloader - INFO: Client 'http://service.iris.edu' - Acquired 0 MiniSEED files [0.0 MB].\n"
     ]
    },
    {
     "name": "stderr",
     "output_type": "stream",
     "text": [
      "[2024-02-28 22:18:50,223] - obspy.clients.fdsn.mass_downloader - INFO: Client 'http://service.iris.edu' - Acquired 0 MiniSEED files [0.0 MB].\n"
     ]
    },
    {
     "name": "stderr",
     "output_type": "stream",
     "text": [
      "[2024-02-28 22:18:50,223] - obspy.clients.fdsn.mass_downloader - INFO: Client 'http://service.iris.edu' - Acquired 0 MiniSEED files [0.0 MB].\n"
     ]
    },
    {
     "name": "stderr",
     "output_type": "stream",
     "text": [
      "[2024-02-28 22:18:50,223] - obspy.clients.fdsn.mass_downloader - INFO: Client 'http://service.iris.edu' - Acquired 0 MiniSEED files [0.0 MB].\n"
     ]
    },
    {
     "name": "stderr",
     "output_type": "stream",
     "text": [
      "[2024-02-28 22:18:50,223] - obspy.clients.fdsn.mass_downloader - INFO: Client 'http://service.iris.edu' - Acquired 0 MiniSEED files [0.0 MB].\n"
     ]
    },
    {
     "name": "stderr",
     "output_type": "stream",
     "text": [
      "[2024-02-28 22:18:50,228] - obspy.clients.fdsn.mass_downloader - INFO: Client 'http://service.iris.edu' - Acquired 0 StationXML files [0.0 MB].\n"
     ]
    },
    {
     "name": "stderr",
     "output_type": "stream",
     "text": [
      "[2024-02-28 22:18:50,228] - obspy.clients.fdsn.mass_downloader - INFO: Client 'http://service.iris.edu' - Acquired 0 StationXML files [0.0 MB].\n"
     ]
    },
    {
     "name": "stderr",
     "output_type": "stream",
     "text": [
      "[2024-02-28 22:18:50,228] - obspy.clients.fdsn.mass_downloader - INFO: Client 'http://service.iris.edu' - Acquired 0 StationXML files [0.0 MB].\n"
     ]
    },
    {
     "name": "stderr",
     "output_type": "stream",
     "text": [
      "[2024-02-28 22:18:50,228] - obspy.clients.fdsn.mass_downloader - INFO: Client 'http://service.iris.edu' - Acquired 0 StationXML files [0.0 MB].\n"
     ]
    },
    {
     "name": "stderr",
     "output_type": "stream",
     "text": [
      "[2024-02-28 22:18:50,228] - obspy.clients.fdsn.mass_downloader - INFO: Client 'http://service.iris.edu' - Acquired 0 StationXML files [0.0 MB].\n"
     ]
    },
    {
     "name": "stderr",
     "output_type": "stream",
     "text": [
      "[2024-02-28 22:18:50,228] - obspy.clients.fdsn.mass_downloader - INFO: Client 'http://service.iris.edu' - Acquired 0 StationXML files [0.0 MB].\n"
     ]
    },
    {
     "name": "stderr",
     "output_type": "stream",
     "text": [
      "[2024-02-28 22:18:50,228] - obspy.clients.fdsn.mass_downloader - INFO: Client 'http://service.iris.edu' - Acquired 0 StationXML files [0.0 MB].\n"
     ]
    },
    {
     "name": "stderr",
     "output_type": "stream",
     "text": [
      "[2024-02-28 22:18:50,228] - obspy.clients.fdsn.mass_downloader - INFO: Client 'http://service.iris.edu' - Acquired 0 StationXML files [0.0 MB].\n"
     ]
    },
    {
     "name": "stderr",
     "output_type": "stream",
     "text": [
      "[2024-02-28 22:18:50,228] - obspy.clients.fdsn.mass_downloader - INFO: Client 'http://service.iris.edu' - Acquired 0 StationXML files [0.0 MB].\n"
     ]
    },
    {
     "name": "stderr",
     "output_type": "stream",
     "text": [
      "[2024-02-28 22:18:50,228] - obspy.clients.fdsn.mass_downloader - INFO: Client 'http://service.iris.edu' - Acquired 0 StationXML files [0.0 MB].\n"
     ]
    },
    {
     "name": "stderr",
     "output_type": "stream",
     "text": [
      "[2024-02-28 22:18:50,228] - obspy.clients.fdsn.mass_downloader - INFO: Client 'http://service.iris.edu' - Acquired 0 StationXML files [0.0 MB].\n"
     ]
    },
    {
     "name": "stderr",
     "output_type": "stream",
     "text": [
      "[2024-02-28 22:18:50,232] - obspy.clients.fdsn.mass_downloader - INFO: Downloaded 0.0 MB in total.\n"
     ]
    },
    {
     "name": "stderr",
     "output_type": "stream",
     "text": [
      "[2024-02-28 22:18:50,232] - obspy.clients.fdsn.mass_downloader - INFO: Downloaded 0.0 MB in total.\n"
     ]
    },
    {
     "name": "stderr",
     "output_type": "stream",
     "text": [
      "[2024-02-28 22:18:50,232] - obspy.clients.fdsn.mass_downloader - INFO: Downloaded 0.0 MB in total.\n"
     ]
    },
    {
     "name": "stderr",
     "output_type": "stream",
     "text": [
      "[2024-02-28 22:18:50,232] - obspy.clients.fdsn.mass_downloader - INFO: Downloaded 0.0 MB in total.\n"
     ]
    },
    {
     "name": "stderr",
     "output_type": "stream",
     "text": [
      "[2024-02-28 22:18:50,232] - obspy.clients.fdsn.mass_downloader - INFO: Downloaded 0.0 MB in total.\n"
     ]
    },
    {
     "name": "stderr",
     "output_type": "stream",
     "text": [
      "[2024-02-28 22:18:50,232] - obspy.clients.fdsn.mass_downloader - INFO: Downloaded 0.0 MB in total.\n"
     ]
    },
    {
     "name": "stderr",
     "output_type": "stream",
     "text": [
      "[2024-02-28 22:18:50,232] - obspy.clients.fdsn.mass_downloader - INFO: Downloaded 0.0 MB in total.\n"
     ]
    },
    {
     "name": "stderr",
     "output_type": "stream",
     "text": [
      "[2024-02-28 22:18:50,232] - obspy.clients.fdsn.mass_downloader - INFO: Downloaded 0.0 MB in total.\n"
     ]
    },
    {
     "name": "stderr",
     "output_type": "stream",
     "text": [
      "[2024-02-28 22:18:50,232] - obspy.clients.fdsn.mass_downloader - INFO: Downloaded 0.0 MB in total.\n"
     ]
    },
    {
     "name": "stderr",
     "output_type": "stream",
     "text": [
      "[2024-02-28 22:18:50,232] - obspy.clients.fdsn.mass_downloader - INFO: Downloaded 0.0 MB in total.\n"
     ]
    },
    {
     "name": "stderr",
     "output_type": "stream",
     "text": [
      "[2024-02-28 22:18:50,232] - obspy.clients.fdsn.mass_downloader - INFO: Downloaded 0.0 MB in total.\n"
     ]
    },
    {
     "name": "stderr",
     "output_type": "stream",
     "text": [
      "[2024-02-28 22:18:50,292] - obspy.clients.fdsn.mass_downloader - INFO: Initializing FDSN client(s) for http://service.iris.edu.\n"
     ]
    },
    {
     "name": "stderr",
     "output_type": "stream",
     "text": [
      "[2024-02-28 22:18:50,292] - obspy.clients.fdsn.mass_downloader - INFO: Initializing FDSN client(s) for http://service.iris.edu.\n"
     ]
    },
    {
     "name": "stderr",
     "output_type": "stream",
     "text": [
      "[2024-02-28 22:18:50,292] - obspy.clients.fdsn.mass_downloader - INFO: Initializing FDSN client(s) for http://service.iris.edu.\n"
     ]
    },
    {
     "name": "stderr",
     "output_type": "stream",
     "text": [
      "[2024-02-28 22:18:50,292] - obspy.clients.fdsn.mass_downloader - INFO: Initializing FDSN client(s) for http://service.iris.edu.\n"
     ]
    },
    {
     "name": "stderr",
     "output_type": "stream",
     "text": [
      "[2024-02-28 22:18:50,292] - obspy.clients.fdsn.mass_downloader - INFO: Initializing FDSN client(s) for http://service.iris.edu.\n"
     ]
    },
    {
     "name": "stderr",
     "output_type": "stream",
     "text": [
      "[2024-02-28 22:18:50,292] - obspy.clients.fdsn.mass_downloader - INFO: Initializing FDSN client(s) for http://service.iris.edu.\n"
     ]
    },
    {
     "name": "stderr",
     "output_type": "stream",
     "text": [
      "[2024-02-28 22:18:50,292] - obspy.clients.fdsn.mass_downloader - INFO: Initializing FDSN client(s) for http://service.iris.edu.\n"
     ]
    },
    {
     "name": "stderr",
     "output_type": "stream",
     "text": [
      "[2024-02-28 22:18:50,292] - obspy.clients.fdsn.mass_downloader - INFO: Initializing FDSN client(s) for http://service.iris.edu.\n"
     ]
    },
    {
     "name": "stderr",
     "output_type": "stream",
     "text": [
      "[2024-02-28 22:18:50,292] - obspy.clients.fdsn.mass_downloader - INFO: Initializing FDSN client(s) for http://service.iris.edu.\n"
     ]
    },
    {
     "name": "stderr",
     "output_type": "stream",
     "text": [
      "[2024-02-28 22:18:50,292] - obspy.clients.fdsn.mass_downloader - INFO: Initializing FDSN client(s) for http://service.iris.edu.\n"
     ]
    },
    {
     "name": "stderr",
     "output_type": "stream",
     "text": [
      "[2024-02-28 22:18:50,292] - obspy.clients.fdsn.mass_downloader - INFO: Initializing FDSN client(s) for http://service.iris.edu.\n"
     ]
    },
    {
     "name": "stderr",
     "output_type": "stream",
     "text": [
      "[2024-02-28 22:18:50,292] - obspy.clients.fdsn.mass_downloader - INFO: Initializing FDSN client(s) for http://service.iris.edu.\n"
     ]
    },
    {
     "name": "stderr",
     "output_type": "stream",
     "text": [
      "[2024-02-28 22:18:50,299] - obspy.clients.fdsn.mass_downloader - INFO: Successfully initialized 1 client(s): http://service.iris.edu.\n"
     ]
    },
    {
     "name": "stderr",
     "output_type": "stream",
     "text": [
      "[2024-02-28 22:18:50,299] - obspy.clients.fdsn.mass_downloader - INFO: Successfully initialized 1 client(s): http://service.iris.edu.\n"
     ]
    },
    {
     "name": "stderr",
     "output_type": "stream",
     "text": [
      "[2024-02-28 22:18:50,299] - obspy.clients.fdsn.mass_downloader - INFO: Successfully initialized 1 client(s): http://service.iris.edu.\n"
     ]
    },
    {
     "name": "stderr",
     "output_type": "stream",
     "text": [
      "[2024-02-28 22:18:50,299] - obspy.clients.fdsn.mass_downloader - INFO: Successfully initialized 1 client(s): http://service.iris.edu.\n"
     ]
    },
    {
     "name": "stderr",
     "output_type": "stream",
     "text": [
      "[2024-02-28 22:18:50,299] - obspy.clients.fdsn.mass_downloader - INFO: Successfully initialized 1 client(s): http://service.iris.edu.\n"
     ]
    },
    {
     "name": "stderr",
     "output_type": "stream",
     "text": [
      "[2024-02-28 22:18:50,299] - obspy.clients.fdsn.mass_downloader - INFO: Successfully initialized 1 client(s): http://service.iris.edu.\n"
     ]
    },
    {
     "name": "stderr",
     "output_type": "stream",
     "text": [
      "[2024-02-28 22:18:50,299] - obspy.clients.fdsn.mass_downloader - INFO: Successfully initialized 1 client(s): http://service.iris.edu.\n"
     ]
    },
    {
     "name": "stderr",
     "output_type": "stream",
     "text": [
      "[2024-02-28 22:18:50,299] - obspy.clients.fdsn.mass_downloader - INFO: Successfully initialized 1 client(s): http://service.iris.edu.\n"
     ]
    },
    {
     "name": "stderr",
     "output_type": "stream",
     "text": [
      "[2024-02-28 22:18:50,299] - obspy.clients.fdsn.mass_downloader - INFO: Successfully initialized 1 client(s): http://service.iris.edu.\n"
     ]
    },
    {
     "name": "stderr",
     "output_type": "stream",
     "text": [
      "[2024-02-28 22:18:50,299] - obspy.clients.fdsn.mass_downloader - INFO: Successfully initialized 1 client(s): http://service.iris.edu.\n"
     ]
    },
    {
     "name": "stderr",
     "output_type": "stream",
     "text": [
      "[2024-02-28 22:18:50,299] - obspy.clients.fdsn.mass_downloader - INFO: Successfully initialized 1 client(s): http://service.iris.edu.\n"
     ]
    },
    {
     "name": "stderr",
     "output_type": "stream",
     "text": [
      "[2024-02-28 22:18:50,299] - obspy.clients.fdsn.mass_downloader - INFO: Successfully initialized 1 client(s): http://service.iris.edu.\n"
     ]
    },
    {
     "name": "stderr",
     "output_type": "stream",
     "text": [
      "[2024-02-28 22:18:50,305] - obspy.clients.fdsn.mass_downloader - INFO: Total acquired or preexisting stations: 0\n"
     ]
    },
    {
     "name": "stderr",
     "output_type": "stream",
     "text": [
      "[2024-02-28 22:18:50,305] - obspy.clients.fdsn.mass_downloader - INFO: Total acquired or preexisting stations: 0\n"
     ]
    },
    {
     "name": "stderr",
     "output_type": "stream",
     "text": [
      "[2024-02-28 22:18:50,305] - obspy.clients.fdsn.mass_downloader - INFO: Total acquired or preexisting stations: 0\n"
     ]
    },
    {
     "name": "stderr",
     "output_type": "stream",
     "text": [
      "[2024-02-28 22:18:50,305] - obspy.clients.fdsn.mass_downloader - INFO: Total acquired or preexisting stations: 0\n"
     ]
    },
    {
     "name": "stderr",
     "output_type": "stream",
     "text": [
      "[2024-02-28 22:18:50,305] - obspy.clients.fdsn.mass_downloader - INFO: Total acquired or preexisting stations: 0\n"
     ]
    },
    {
     "name": "stderr",
     "output_type": "stream",
     "text": [
      "[2024-02-28 22:18:50,305] - obspy.clients.fdsn.mass_downloader - INFO: Total acquired or preexisting stations: 0\n"
     ]
    },
    {
     "name": "stderr",
     "output_type": "stream",
     "text": [
      "[2024-02-28 22:18:50,305] - obspy.clients.fdsn.mass_downloader - INFO: Total acquired or preexisting stations: 0\n"
     ]
    },
    {
     "name": "stderr",
     "output_type": "stream",
     "text": [
      "[2024-02-28 22:18:50,305] - obspy.clients.fdsn.mass_downloader - INFO: Total acquired or preexisting stations: 0\n"
     ]
    },
    {
     "name": "stderr",
     "output_type": "stream",
     "text": [
      "[2024-02-28 22:18:50,305] - obspy.clients.fdsn.mass_downloader - INFO: Total acquired or preexisting stations: 0\n"
     ]
    },
    {
     "name": "stderr",
     "output_type": "stream",
     "text": [
      "[2024-02-28 22:18:50,305] - obspy.clients.fdsn.mass_downloader - INFO: Total acquired or preexisting stations: 0\n"
     ]
    },
    {
     "name": "stderr",
     "output_type": "stream",
     "text": [
      "[2024-02-28 22:18:50,305] - obspy.clients.fdsn.mass_downloader - INFO: Total acquired or preexisting stations: 0\n"
     ]
    },
    {
     "name": "stderr",
     "output_type": "stream",
     "text": [
      "[2024-02-28 22:18:50,305] - obspy.clients.fdsn.mass_downloader - INFO: Total acquired or preexisting stations: 0\n"
     ]
    },
    {
     "name": "stderr",
     "output_type": "stream",
     "text": [
      "[2024-02-28 22:18:50,310] - obspy.clients.fdsn.mass_downloader - INFO: Client 'http://service.iris.edu' - Requesting reliable availability.\n"
     ]
    },
    {
     "name": "stderr",
     "output_type": "stream",
     "text": [
      "[2024-02-28 22:18:50,310] - obspy.clients.fdsn.mass_downloader - INFO: Client 'http://service.iris.edu' - Requesting reliable availability.\n"
     ]
    },
    {
     "name": "stderr",
     "output_type": "stream",
     "text": [
      "[2024-02-28 22:18:50,310] - obspy.clients.fdsn.mass_downloader - INFO: Client 'http://service.iris.edu' - Requesting reliable availability.\n"
     ]
    },
    {
     "name": "stderr",
     "output_type": "stream",
     "text": [
      "[2024-02-28 22:18:50,310] - obspy.clients.fdsn.mass_downloader - INFO: Client 'http://service.iris.edu' - Requesting reliable availability.\n"
     ]
    },
    {
     "name": "stderr",
     "output_type": "stream",
     "text": [
      "[2024-02-28 22:18:50,310] - obspy.clients.fdsn.mass_downloader - INFO: Client 'http://service.iris.edu' - Requesting reliable availability.\n"
     ]
    },
    {
     "name": "stderr",
     "output_type": "stream",
     "text": [
      "[2024-02-28 22:18:50,310] - obspy.clients.fdsn.mass_downloader - INFO: Client 'http://service.iris.edu' - Requesting reliable availability.\n"
     ]
    },
    {
     "name": "stderr",
     "output_type": "stream",
     "text": [
      "[2024-02-28 22:18:50,310] - obspy.clients.fdsn.mass_downloader - INFO: Client 'http://service.iris.edu' - Requesting reliable availability.\n"
     ]
    },
    {
     "name": "stderr",
     "output_type": "stream",
     "text": [
      "[2024-02-28 22:18:50,310] - obspy.clients.fdsn.mass_downloader - INFO: Client 'http://service.iris.edu' - Requesting reliable availability.\n"
     ]
    },
    {
     "name": "stderr",
     "output_type": "stream",
     "text": [
      "[2024-02-28 22:18:50,310] - obspy.clients.fdsn.mass_downloader - INFO: Client 'http://service.iris.edu' - Requesting reliable availability.\n"
     ]
    },
    {
     "name": "stderr",
     "output_type": "stream",
     "text": [
      "[2024-02-28 22:18:50,310] - obspy.clients.fdsn.mass_downloader - INFO: Client 'http://service.iris.edu' - Requesting reliable availability.\n"
     ]
    },
    {
     "name": "stderr",
     "output_type": "stream",
     "text": [
      "[2024-02-28 22:18:50,310] - obspy.clients.fdsn.mass_downloader - INFO: Client 'http://service.iris.edu' - Requesting reliable availability.\n"
     ]
    },
    {
     "name": "stderr",
     "output_type": "stream",
     "text": [
      "[2024-02-28 22:18:50,310] - obspy.clients.fdsn.mass_downloader - INFO: Client 'http://service.iris.edu' - Requesting reliable availability.\n"
     ]
    },
    {
     "name": "stderr",
     "output_type": "stream",
     "text": [
      "[2024-02-28 22:18:51,436] - obspy.clients.fdsn.mass_downloader - INFO: Client 'http://service.iris.edu' - Successfully requested availability (1.12 seconds)\n"
     ]
    },
    {
     "name": "stderr",
     "output_type": "stream",
     "text": [
      "[2024-02-28 22:18:51,436] - obspy.clients.fdsn.mass_downloader - INFO: Client 'http://service.iris.edu' - Successfully requested availability (1.12 seconds)\n"
     ]
    },
    {
     "name": "stderr",
     "output_type": "stream",
     "text": [
      "[2024-02-28 22:18:51,436] - obspy.clients.fdsn.mass_downloader - INFO: Client 'http://service.iris.edu' - Successfully requested availability (1.12 seconds)\n"
     ]
    },
    {
     "name": "stderr",
     "output_type": "stream",
     "text": [
      "[2024-02-28 22:18:51,436] - obspy.clients.fdsn.mass_downloader - INFO: Client 'http://service.iris.edu' - Successfully requested availability (1.12 seconds)\n"
     ]
    },
    {
     "name": "stderr",
     "output_type": "stream",
     "text": [
      "[2024-02-28 22:18:51,436] - obspy.clients.fdsn.mass_downloader - INFO: Client 'http://service.iris.edu' - Successfully requested availability (1.12 seconds)\n"
     ]
    },
    {
     "name": "stderr",
     "output_type": "stream",
     "text": [
      "[2024-02-28 22:18:51,436] - obspy.clients.fdsn.mass_downloader - INFO: Client 'http://service.iris.edu' - Successfully requested availability (1.12 seconds)\n"
     ]
    },
    {
     "name": "stderr",
     "output_type": "stream",
     "text": [
      "[2024-02-28 22:18:51,436] - obspy.clients.fdsn.mass_downloader - INFO: Client 'http://service.iris.edu' - Successfully requested availability (1.12 seconds)\n"
     ]
    },
    {
     "name": "stderr",
     "output_type": "stream",
     "text": [
      "[2024-02-28 22:18:51,436] - obspy.clients.fdsn.mass_downloader - INFO: Client 'http://service.iris.edu' - Successfully requested availability (1.12 seconds)\n"
     ]
    },
    {
     "name": "stderr",
     "output_type": "stream",
     "text": [
      "[2024-02-28 22:18:51,436] - obspy.clients.fdsn.mass_downloader - INFO: Client 'http://service.iris.edu' - Successfully requested availability (1.12 seconds)\n"
     ]
    },
    {
     "name": "stderr",
     "output_type": "stream",
     "text": [
      "[2024-02-28 22:18:51,436] - obspy.clients.fdsn.mass_downloader - INFO: Client 'http://service.iris.edu' - Successfully requested availability (1.12 seconds)\n"
     ]
    },
    {
     "name": "stderr",
     "output_type": "stream",
     "text": [
      "[2024-02-28 22:18:51,436] - obspy.clients.fdsn.mass_downloader - INFO: Client 'http://service.iris.edu' - Successfully requested availability (1.12 seconds)\n"
     ]
    },
    {
     "name": "stderr",
     "output_type": "stream",
     "text": [
      "[2024-02-28 22:18:51,436] - obspy.clients.fdsn.mass_downloader - INFO: Client 'http://service.iris.edu' - Successfully requested availability (1.12 seconds)\n"
     ]
    },
    {
     "name": "stderr",
     "output_type": "stream",
     "text": [
      "[2024-02-28 22:18:51,471] - obspy.clients.fdsn.mass_downloader - INFO: Client 'http://service.iris.edu' - Found 19 stations (57 channels).\n"
     ]
    },
    {
     "name": "stderr",
     "output_type": "stream",
     "text": [
      "[2024-02-28 22:18:51,471] - obspy.clients.fdsn.mass_downloader - INFO: Client 'http://service.iris.edu' - Found 19 stations (57 channels).\n"
     ]
    },
    {
     "name": "stderr",
     "output_type": "stream",
     "text": [
      "[2024-02-28 22:18:51,471] - obspy.clients.fdsn.mass_downloader - INFO: Client 'http://service.iris.edu' - Found 19 stations (57 channels).\n"
     ]
    },
    {
     "name": "stderr",
     "output_type": "stream",
     "text": [
      "[2024-02-28 22:18:51,471] - obspy.clients.fdsn.mass_downloader - INFO: Client 'http://service.iris.edu' - Found 19 stations (57 channels).\n"
     ]
    },
    {
     "name": "stderr",
     "output_type": "stream",
     "text": [
      "[2024-02-28 22:18:51,471] - obspy.clients.fdsn.mass_downloader - INFO: Client 'http://service.iris.edu' - Found 19 stations (57 channels).\n"
     ]
    },
    {
     "name": "stderr",
     "output_type": "stream",
     "text": [
      "[2024-02-28 22:18:51,471] - obspy.clients.fdsn.mass_downloader - INFO: Client 'http://service.iris.edu' - Found 19 stations (57 channels).\n"
     ]
    },
    {
     "name": "stderr",
     "output_type": "stream",
     "text": [
      "[2024-02-28 22:18:51,471] - obspy.clients.fdsn.mass_downloader - INFO: Client 'http://service.iris.edu' - Found 19 stations (57 channels).\n"
     ]
    },
    {
     "name": "stderr",
     "output_type": "stream",
     "text": [
      "[2024-02-28 22:18:51,471] - obspy.clients.fdsn.mass_downloader - INFO: Client 'http://service.iris.edu' - Found 19 stations (57 channels).\n"
     ]
    },
    {
     "name": "stderr",
     "output_type": "stream",
     "text": [
      "[2024-02-28 22:18:51,471] - obspy.clients.fdsn.mass_downloader - INFO: Client 'http://service.iris.edu' - Found 19 stations (57 channels).\n"
     ]
    },
    {
     "name": "stderr",
     "output_type": "stream",
     "text": [
      "[2024-02-28 22:18:51,471] - obspy.clients.fdsn.mass_downloader - INFO: Client 'http://service.iris.edu' - Found 19 stations (57 channels).\n"
     ]
    },
    {
     "name": "stderr",
     "output_type": "stream",
     "text": [
      "[2024-02-28 22:18:51,471] - obspy.clients.fdsn.mass_downloader - INFO: Client 'http://service.iris.edu' - Found 19 stations (57 channels).\n"
     ]
    },
    {
     "name": "stderr",
     "output_type": "stream",
     "text": [
      "[2024-02-28 22:18:51,471] - obspy.clients.fdsn.mass_downloader - INFO: Client 'http://service.iris.edu' - Found 19 stations (57 channels).\n"
     ]
    },
    {
     "name": "stderr",
     "output_type": "stream",
     "text": [
      "[2024-02-28 22:18:51,481] - obspy.clients.fdsn.mass_downloader - INFO: Client 'http://service.iris.edu' - Will attempt to download data from 19 stations.\n"
     ]
    },
    {
     "name": "stderr",
     "output_type": "stream",
     "text": [
      "[2024-02-28 22:18:51,481] - obspy.clients.fdsn.mass_downloader - INFO: Client 'http://service.iris.edu' - Will attempt to download data from 19 stations.\n"
     ]
    },
    {
     "name": "stderr",
     "output_type": "stream",
     "text": [
      "[2024-02-28 22:18:51,481] - obspy.clients.fdsn.mass_downloader - INFO: Client 'http://service.iris.edu' - Will attempt to download data from 19 stations.\n"
     ]
    },
    {
     "name": "stderr",
     "output_type": "stream",
     "text": [
      "[2024-02-28 22:18:51,481] - obspy.clients.fdsn.mass_downloader - INFO: Client 'http://service.iris.edu' - Will attempt to download data from 19 stations.\n"
     ]
    },
    {
     "name": "stderr",
     "output_type": "stream",
     "text": [
      "[2024-02-28 22:18:51,481] - obspy.clients.fdsn.mass_downloader - INFO: Client 'http://service.iris.edu' - Will attempt to download data from 19 stations.\n"
     ]
    },
    {
     "name": "stderr",
     "output_type": "stream",
     "text": [
      "[2024-02-28 22:18:51,481] - obspy.clients.fdsn.mass_downloader - INFO: Client 'http://service.iris.edu' - Will attempt to download data from 19 stations.\n"
     ]
    },
    {
     "name": "stderr",
     "output_type": "stream",
     "text": [
      "[2024-02-28 22:18:51,481] - obspy.clients.fdsn.mass_downloader - INFO: Client 'http://service.iris.edu' - Will attempt to download data from 19 stations.\n"
     ]
    },
    {
     "name": "stderr",
     "output_type": "stream",
     "text": [
      "[2024-02-28 22:18:51,481] - obspy.clients.fdsn.mass_downloader - INFO: Client 'http://service.iris.edu' - Will attempt to download data from 19 stations.\n"
     ]
    },
    {
     "name": "stderr",
     "output_type": "stream",
     "text": [
      "[2024-02-28 22:18:51,481] - obspy.clients.fdsn.mass_downloader - INFO: Client 'http://service.iris.edu' - Will attempt to download data from 19 stations.\n"
     ]
    },
    {
     "name": "stderr",
     "output_type": "stream",
     "text": [
      "[2024-02-28 22:18:51,481] - obspy.clients.fdsn.mass_downloader - INFO: Client 'http://service.iris.edu' - Will attempt to download data from 19 stations.\n"
     ]
    },
    {
     "name": "stderr",
     "output_type": "stream",
     "text": [
      "[2024-02-28 22:18:51,481] - obspy.clients.fdsn.mass_downloader - INFO: Client 'http://service.iris.edu' - Will attempt to download data from 19 stations.\n"
     ]
    },
    {
     "name": "stderr",
     "output_type": "stream",
     "text": [
      "[2024-02-28 22:18:51,481] - obspy.clients.fdsn.mass_downloader - INFO: Client 'http://service.iris.edu' - Will attempt to download data from 19 stations.\n"
     ]
    },
    {
     "name": "stderr",
     "output_type": "stream",
     "text": [
      "[2024-02-28 22:18:51,488] - obspy.clients.fdsn.mass_downloader - INFO: Client 'http://service.iris.edu' - Status for 51 time intervals/channels before downloading: EXISTS\n"
     ]
    },
    {
     "name": "stderr",
     "output_type": "stream",
     "text": [
      "[2024-02-28 22:18:51,488] - obspy.clients.fdsn.mass_downloader - INFO: Client 'http://service.iris.edu' - Status for 51 time intervals/channels before downloading: EXISTS\n"
     ]
    },
    {
     "name": "stderr",
     "output_type": "stream",
     "text": [
      "[2024-02-28 22:18:51,488] - obspy.clients.fdsn.mass_downloader - INFO: Client 'http://service.iris.edu' - Status for 51 time intervals/channels before downloading: EXISTS\n"
     ]
    },
    {
     "name": "stderr",
     "output_type": "stream",
     "text": [
      "[2024-02-28 22:18:51,488] - obspy.clients.fdsn.mass_downloader - INFO: Client 'http://service.iris.edu' - Status for 51 time intervals/channels before downloading: EXISTS\n"
     ]
    },
    {
     "name": "stderr",
     "output_type": "stream",
     "text": [
      "[2024-02-28 22:18:51,488] - obspy.clients.fdsn.mass_downloader - INFO: Client 'http://service.iris.edu' - Status for 51 time intervals/channels before downloading: EXISTS\n"
     ]
    },
    {
     "name": "stderr",
     "output_type": "stream",
     "text": [
      "[2024-02-28 22:18:51,488] - obspy.clients.fdsn.mass_downloader - INFO: Client 'http://service.iris.edu' - Status for 51 time intervals/channels before downloading: EXISTS\n"
     ]
    },
    {
     "name": "stderr",
     "output_type": "stream",
     "text": [
      "[2024-02-28 22:18:51,488] - obspy.clients.fdsn.mass_downloader - INFO: Client 'http://service.iris.edu' - Status for 51 time intervals/channels before downloading: EXISTS\n"
     ]
    },
    {
     "name": "stderr",
     "output_type": "stream",
     "text": [
      "[2024-02-28 22:18:51,488] - obspy.clients.fdsn.mass_downloader - INFO: Client 'http://service.iris.edu' - Status for 51 time intervals/channels before downloading: EXISTS\n"
     ]
    },
    {
     "name": "stderr",
     "output_type": "stream",
     "text": [
      "[2024-02-28 22:18:51,488] - obspy.clients.fdsn.mass_downloader - INFO: Client 'http://service.iris.edu' - Status for 51 time intervals/channels before downloading: EXISTS\n"
     ]
    },
    {
     "name": "stderr",
     "output_type": "stream",
     "text": [
      "[2024-02-28 22:18:51,488] - obspy.clients.fdsn.mass_downloader - INFO: Client 'http://service.iris.edu' - Status for 51 time intervals/channels before downloading: EXISTS\n"
     ]
    },
    {
     "name": "stderr",
     "output_type": "stream",
     "text": [
      "[2024-02-28 22:18:51,488] - obspy.clients.fdsn.mass_downloader - INFO: Client 'http://service.iris.edu' - Status for 51 time intervals/channels before downloading: EXISTS\n"
     ]
    },
    {
     "name": "stderr",
     "output_type": "stream",
     "text": [
      "[2024-02-28 22:18:51,488] - obspy.clients.fdsn.mass_downloader - INFO: Client 'http://service.iris.edu' - Status for 51 time intervals/channels before downloading: EXISTS\n"
     ]
    },
    {
     "name": "stderr",
     "output_type": "stream",
     "text": [
      "[2024-02-28 22:18:51,493] - obspy.clients.fdsn.mass_downloader - INFO: Client 'http://service.iris.edu' - Status for 6 time intervals/channels before downloading: NEEDS_DOWNLOADING\n"
     ]
    },
    {
     "name": "stderr",
     "output_type": "stream",
     "text": [
      "[2024-02-28 22:18:51,493] - obspy.clients.fdsn.mass_downloader - INFO: Client 'http://service.iris.edu' - Status for 6 time intervals/channels before downloading: NEEDS_DOWNLOADING\n"
     ]
    },
    {
     "name": "stderr",
     "output_type": "stream",
     "text": [
      "[2024-02-28 22:18:51,493] - obspy.clients.fdsn.mass_downloader - INFO: Client 'http://service.iris.edu' - Status for 6 time intervals/channels before downloading: NEEDS_DOWNLOADING\n"
     ]
    },
    {
     "name": "stderr",
     "output_type": "stream",
     "text": [
      "[2024-02-28 22:18:51,493] - obspy.clients.fdsn.mass_downloader - INFO: Client 'http://service.iris.edu' - Status for 6 time intervals/channels before downloading: NEEDS_DOWNLOADING\n"
     ]
    },
    {
     "name": "stderr",
     "output_type": "stream",
     "text": [
      "[2024-02-28 22:18:51,493] - obspy.clients.fdsn.mass_downloader - INFO: Client 'http://service.iris.edu' - Status for 6 time intervals/channels before downloading: NEEDS_DOWNLOADING\n"
     ]
    },
    {
     "name": "stderr",
     "output_type": "stream",
     "text": [
      "[2024-02-28 22:18:51,493] - obspy.clients.fdsn.mass_downloader - INFO: Client 'http://service.iris.edu' - Status for 6 time intervals/channels before downloading: NEEDS_DOWNLOADING\n"
     ]
    },
    {
     "name": "stderr",
     "output_type": "stream",
     "text": [
      "[2024-02-28 22:18:51,493] - obspy.clients.fdsn.mass_downloader - INFO: Client 'http://service.iris.edu' - Status for 6 time intervals/channels before downloading: NEEDS_DOWNLOADING\n"
     ]
    },
    {
     "name": "stderr",
     "output_type": "stream",
     "text": [
      "[2024-02-28 22:18:51,493] - obspy.clients.fdsn.mass_downloader - INFO: Client 'http://service.iris.edu' - Status for 6 time intervals/channels before downloading: NEEDS_DOWNLOADING\n"
     ]
    },
    {
     "name": "stderr",
     "output_type": "stream",
     "text": [
      "[2024-02-28 22:18:51,493] - obspy.clients.fdsn.mass_downloader - INFO: Client 'http://service.iris.edu' - Status for 6 time intervals/channels before downloading: NEEDS_DOWNLOADING\n"
     ]
    },
    {
     "name": "stderr",
     "output_type": "stream",
     "text": [
      "[2024-02-28 22:18:51,493] - obspy.clients.fdsn.mass_downloader - INFO: Client 'http://service.iris.edu' - Status for 6 time intervals/channels before downloading: NEEDS_DOWNLOADING\n"
     ]
    },
    {
     "name": "stderr",
     "output_type": "stream",
     "text": [
      "[2024-02-28 22:18:51,493] - obspy.clients.fdsn.mass_downloader - INFO: Client 'http://service.iris.edu' - Status for 6 time intervals/channels before downloading: NEEDS_DOWNLOADING\n"
     ]
    },
    {
     "name": "stderr",
     "output_type": "stream",
     "text": [
      "[2024-02-28 22:18:51,493] - obspy.clients.fdsn.mass_downloader - INFO: Client 'http://service.iris.edu' - Status for 6 time intervals/channels before downloading: NEEDS_DOWNLOADING\n"
     ]
    },
    {
     "name": "stderr",
     "output_type": "stream",
     "text": [
      "[2024-02-28 22:18:52,104] - obspy.clients.fdsn.mass_downloader - INFO: Client 'http://service.iris.edu' - No data available for request.\n",
      "HTTP Status code: 204\n"
     ]
    },
    {
     "name": "stderr",
     "output_type": "stream",
     "text": [
      "[2024-02-28 22:18:52,104] - obspy.clients.fdsn.mass_downloader - INFO: Client 'http://service.iris.edu' - No data available for request.\n",
      "HTTP Status code: 204\n"
     ]
    },
    {
     "name": "stderr",
     "output_type": "stream",
     "text": [
      "[2024-02-28 22:18:52,104] - obspy.clients.fdsn.mass_downloader - INFO: Client 'http://service.iris.edu' - No data available for request.\n",
      "HTTP Status code: 204\n"
     ]
    },
    {
     "name": "stderr",
     "output_type": "stream",
     "text": [
      "[2024-02-28 22:18:52,104] - obspy.clients.fdsn.mass_downloader - INFO: Client 'http://service.iris.edu' - No data available for request.\n",
      "HTTP Status code: 204\n"
     ]
    },
    {
     "name": "stderr",
     "output_type": "stream",
     "text": [
      "[2024-02-28 22:18:52,104] - obspy.clients.fdsn.mass_downloader - INFO: Client 'http://service.iris.edu' - No data available for request.\n",
      "HTTP Status code: 204\n"
     ]
    },
    {
     "name": "stderr",
     "output_type": "stream",
     "text": [
      "[2024-02-28 22:18:52,104] - obspy.clients.fdsn.mass_downloader - INFO: Client 'http://service.iris.edu' - No data available for request.\n",
      "HTTP Status code: 204\n"
     ]
    },
    {
     "name": "stderr",
     "output_type": "stream",
     "text": [
      "[2024-02-28 22:18:52,104] - obspy.clients.fdsn.mass_downloader - INFO: Client 'http://service.iris.edu' - No data available for request.\n",
      "HTTP Status code: 204\n"
     ]
    },
    {
     "name": "stderr",
     "output_type": "stream",
     "text": [
      "[2024-02-28 22:18:52,104] - obspy.clients.fdsn.mass_downloader - INFO: Client 'http://service.iris.edu' - No data available for request.\n",
      "HTTP Status code: 204\n"
     ]
    },
    {
     "name": "stderr",
     "output_type": "stream",
     "text": [
      "[2024-02-28 22:18:52,104] - obspy.clients.fdsn.mass_downloader - INFO: Client 'http://service.iris.edu' - No data available for request.\n",
      "HTTP Status code: 204\n"
     ]
    },
    {
     "name": "stderr",
     "output_type": "stream",
     "text": [
      "[2024-02-28 22:18:52,104] - obspy.clients.fdsn.mass_downloader - INFO: Client 'http://service.iris.edu' - No data available for request.\n",
      "HTTP Status code: 204\n"
     ]
    },
    {
     "name": "stderr",
     "output_type": "stream",
     "text": [
      "[2024-02-28 22:18:52,104] - obspy.clients.fdsn.mass_downloader - INFO: Client 'http://service.iris.edu' - No data available for request.\n",
      "HTTP Status code: 204\n"
     ]
    },
    {
     "name": "stderr",
     "output_type": "stream",
     "text": [
      "[2024-02-28 22:18:52,104] - obspy.clients.fdsn.mass_downloader - INFO: Client 'http://service.iris.edu' - No data available for request.\n",
      "HTTP Status code: 204\n"
     ]
    },
    {
     "name": "stderr",
     "output_type": "stream",
     "text": [
      "[2024-02-28 22:18:52,110] - obspy.clients.fdsn.mass_downloader - INFO: Client 'http://service.iris.edu' - Launching basic QC checks...\n"
     ]
    },
    {
     "name": "stderr",
     "output_type": "stream",
     "text": [
      "[2024-02-28 22:18:52,110] - obspy.clients.fdsn.mass_downloader - INFO: Client 'http://service.iris.edu' - Launching basic QC checks...\n"
     ]
    },
    {
     "name": "stderr",
     "output_type": "stream",
     "text": [
      "[2024-02-28 22:18:52,110] - obspy.clients.fdsn.mass_downloader - INFO: Client 'http://service.iris.edu' - Launching basic QC checks...\n"
     ]
    },
    {
     "name": "stderr",
     "output_type": "stream",
     "text": [
      "[2024-02-28 22:18:52,110] - obspy.clients.fdsn.mass_downloader - INFO: Client 'http://service.iris.edu' - Launching basic QC checks...\n"
     ]
    },
    {
     "name": "stderr",
     "output_type": "stream",
     "text": [
      "[2024-02-28 22:18:52,110] - obspy.clients.fdsn.mass_downloader - INFO: Client 'http://service.iris.edu' - Launching basic QC checks...\n"
     ]
    },
    {
     "name": "stderr",
     "output_type": "stream",
     "text": [
      "[2024-02-28 22:18:52,110] - obspy.clients.fdsn.mass_downloader - INFO: Client 'http://service.iris.edu' - Launching basic QC checks...\n"
     ]
    },
    {
     "name": "stderr",
     "output_type": "stream",
     "text": [
      "[2024-02-28 22:18:52,110] - obspy.clients.fdsn.mass_downloader - INFO: Client 'http://service.iris.edu' - Launching basic QC checks...\n"
     ]
    },
    {
     "name": "stderr",
     "output_type": "stream",
     "text": [
      "[2024-02-28 22:18:52,110] - obspy.clients.fdsn.mass_downloader - INFO: Client 'http://service.iris.edu' - Launching basic QC checks...\n"
     ]
    },
    {
     "name": "stderr",
     "output_type": "stream",
     "text": [
      "[2024-02-28 22:18:52,110] - obspy.clients.fdsn.mass_downloader - INFO: Client 'http://service.iris.edu' - Launching basic QC checks...\n"
     ]
    },
    {
     "name": "stderr",
     "output_type": "stream",
     "text": [
      "[2024-02-28 22:18:52,110] - obspy.clients.fdsn.mass_downloader - INFO: Client 'http://service.iris.edu' - Launching basic QC checks...\n"
     ]
    },
    {
     "name": "stderr",
     "output_type": "stream",
     "text": [
      "[2024-02-28 22:18:52,110] - obspy.clients.fdsn.mass_downloader - INFO: Client 'http://service.iris.edu' - Launching basic QC checks...\n"
     ]
    },
    {
     "name": "stderr",
     "output_type": "stream",
     "text": [
      "[2024-02-28 22:18:52,110] - obspy.clients.fdsn.mass_downloader - INFO: Client 'http://service.iris.edu' - Launching basic QC checks...\n"
     ]
    },
    {
     "name": "stderr",
     "output_type": "stream",
     "text": [
      "[2024-02-28 22:18:52,117] - obspy.clients.fdsn.mass_downloader - INFO: Client 'http://service.iris.edu' - Downloaded 0.0 MB [0.00 KB/sec] of data, 0.0 MB of which were discarded afterwards.\n"
     ]
    },
    {
     "name": "stderr",
     "output_type": "stream",
     "text": [
      "[2024-02-28 22:18:52,117] - obspy.clients.fdsn.mass_downloader - INFO: Client 'http://service.iris.edu' - Downloaded 0.0 MB [0.00 KB/sec] of data, 0.0 MB of which were discarded afterwards.\n"
     ]
    },
    {
     "name": "stderr",
     "output_type": "stream",
     "text": [
      "[2024-02-28 22:18:52,117] - obspy.clients.fdsn.mass_downloader - INFO: Client 'http://service.iris.edu' - Downloaded 0.0 MB [0.00 KB/sec] of data, 0.0 MB of which were discarded afterwards.\n"
     ]
    },
    {
     "name": "stderr",
     "output_type": "stream",
     "text": [
      "[2024-02-28 22:18:52,117] - obspy.clients.fdsn.mass_downloader - INFO: Client 'http://service.iris.edu' - Downloaded 0.0 MB [0.00 KB/sec] of data, 0.0 MB of which were discarded afterwards.\n"
     ]
    },
    {
     "name": "stderr",
     "output_type": "stream",
     "text": [
      "[2024-02-28 22:18:52,117] - obspy.clients.fdsn.mass_downloader - INFO: Client 'http://service.iris.edu' - Downloaded 0.0 MB [0.00 KB/sec] of data, 0.0 MB of which were discarded afterwards.\n"
     ]
    },
    {
     "name": "stderr",
     "output_type": "stream",
     "text": [
      "[2024-02-28 22:18:52,117] - obspy.clients.fdsn.mass_downloader - INFO: Client 'http://service.iris.edu' - Downloaded 0.0 MB [0.00 KB/sec] of data, 0.0 MB of which were discarded afterwards.\n"
     ]
    },
    {
     "name": "stderr",
     "output_type": "stream",
     "text": [
      "[2024-02-28 22:18:52,117] - obspy.clients.fdsn.mass_downloader - INFO: Client 'http://service.iris.edu' - Downloaded 0.0 MB [0.00 KB/sec] of data, 0.0 MB of which were discarded afterwards.\n"
     ]
    },
    {
     "name": "stderr",
     "output_type": "stream",
     "text": [
      "[2024-02-28 22:18:52,117] - obspy.clients.fdsn.mass_downloader - INFO: Client 'http://service.iris.edu' - Downloaded 0.0 MB [0.00 KB/sec] of data, 0.0 MB of which were discarded afterwards.\n"
     ]
    },
    {
     "name": "stderr",
     "output_type": "stream",
     "text": [
      "[2024-02-28 22:18:52,117] - obspy.clients.fdsn.mass_downloader - INFO: Client 'http://service.iris.edu' - Downloaded 0.0 MB [0.00 KB/sec] of data, 0.0 MB of which were discarded afterwards.\n"
     ]
    },
    {
     "name": "stderr",
     "output_type": "stream",
     "text": [
      "[2024-02-28 22:18:52,117] - obspy.clients.fdsn.mass_downloader - INFO: Client 'http://service.iris.edu' - Downloaded 0.0 MB [0.00 KB/sec] of data, 0.0 MB of which were discarded afterwards.\n"
     ]
    },
    {
     "name": "stderr",
     "output_type": "stream",
     "text": [
      "[2024-02-28 22:18:52,117] - obspy.clients.fdsn.mass_downloader - INFO: Client 'http://service.iris.edu' - Downloaded 0.0 MB [0.00 KB/sec] of data, 0.0 MB of which were discarded afterwards.\n"
     ]
    },
    {
     "name": "stderr",
     "output_type": "stream",
     "text": [
      "[2024-02-28 22:18:52,117] - obspy.clients.fdsn.mass_downloader - INFO: Client 'http://service.iris.edu' - Downloaded 0.0 MB [0.00 KB/sec] of data, 0.0 MB of which were discarded afterwards.\n"
     ]
    },
    {
     "name": "stderr",
     "output_type": "stream",
     "text": [
      "[2024-02-28 22:18:52,123] - obspy.clients.fdsn.mass_downloader - INFO: Client 'http://service.iris.edu' - Status for 6 time intervals/channels after downloading: DOWNLOAD_FAILED\n"
     ]
    },
    {
     "name": "stderr",
     "output_type": "stream",
     "text": [
      "[2024-02-28 22:18:52,123] - obspy.clients.fdsn.mass_downloader - INFO: Client 'http://service.iris.edu' - Status for 6 time intervals/channels after downloading: DOWNLOAD_FAILED\n"
     ]
    },
    {
     "name": "stderr",
     "output_type": "stream",
     "text": [
      "[2024-02-28 22:18:52,123] - obspy.clients.fdsn.mass_downloader - INFO: Client 'http://service.iris.edu' - Status for 6 time intervals/channels after downloading: DOWNLOAD_FAILED\n"
     ]
    },
    {
     "name": "stderr",
     "output_type": "stream",
     "text": [
      "[2024-02-28 22:18:52,123] - obspy.clients.fdsn.mass_downloader - INFO: Client 'http://service.iris.edu' - Status for 6 time intervals/channels after downloading: DOWNLOAD_FAILED\n"
     ]
    },
    {
     "name": "stderr",
     "output_type": "stream",
     "text": [
      "[2024-02-28 22:18:52,123] - obspy.clients.fdsn.mass_downloader - INFO: Client 'http://service.iris.edu' - Status for 6 time intervals/channels after downloading: DOWNLOAD_FAILED\n"
     ]
    },
    {
     "name": "stderr",
     "output_type": "stream",
     "text": [
      "[2024-02-28 22:18:52,123] - obspy.clients.fdsn.mass_downloader - INFO: Client 'http://service.iris.edu' - Status for 6 time intervals/channels after downloading: DOWNLOAD_FAILED\n"
     ]
    },
    {
     "name": "stderr",
     "output_type": "stream",
     "text": [
      "[2024-02-28 22:18:52,123] - obspy.clients.fdsn.mass_downloader - INFO: Client 'http://service.iris.edu' - Status for 6 time intervals/channels after downloading: DOWNLOAD_FAILED\n"
     ]
    },
    {
     "name": "stderr",
     "output_type": "stream",
     "text": [
      "[2024-02-28 22:18:52,123] - obspy.clients.fdsn.mass_downloader - INFO: Client 'http://service.iris.edu' - Status for 6 time intervals/channels after downloading: DOWNLOAD_FAILED\n"
     ]
    },
    {
     "name": "stderr",
     "output_type": "stream",
     "text": [
      "[2024-02-28 22:18:52,123] - obspy.clients.fdsn.mass_downloader - INFO: Client 'http://service.iris.edu' - Status for 6 time intervals/channels after downloading: DOWNLOAD_FAILED\n"
     ]
    },
    {
     "name": "stderr",
     "output_type": "stream",
     "text": [
      "[2024-02-28 22:18:52,123] - obspy.clients.fdsn.mass_downloader - INFO: Client 'http://service.iris.edu' - Status for 6 time intervals/channels after downloading: DOWNLOAD_FAILED\n"
     ]
    },
    {
     "name": "stderr",
     "output_type": "stream",
     "text": [
      "[2024-02-28 22:18:52,123] - obspy.clients.fdsn.mass_downloader - INFO: Client 'http://service.iris.edu' - Status for 6 time intervals/channels after downloading: DOWNLOAD_FAILED\n"
     ]
    },
    {
     "name": "stderr",
     "output_type": "stream",
     "text": [
      "[2024-02-28 22:18:52,123] - obspy.clients.fdsn.mass_downloader - INFO: Client 'http://service.iris.edu' - Status for 6 time intervals/channels after downloading: DOWNLOAD_FAILED\n"
     ]
    },
    {
     "name": "stderr",
     "output_type": "stream",
     "text": [
      "[2024-02-28 22:18:52,129] - obspy.clients.fdsn.mass_downloader - INFO: Client 'http://service.iris.edu' - Status for 51 time intervals/channels after downloading: EXISTS\n"
     ]
    },
    {
     "name": "stderr",
     "output_type": "stream",
     "text": [
      "[2024-02-28 22:18:52,129] - obspy.clients.fdsn.mass_downloader - INFO: Client 'http://service.iris.edu' - Status for 51 time intervals/channels after downloading: EXISTS\n"
     ]
    },
    {
     "name": "stderr",
     "output_type": "stream",
     "text": [
      "[2024-02-28 22:18:52,129] - obspy.clients.fdsn.mass_downloader - INFO: Client 'http://service.iris.edu' - Status for 51 time intervals/channels after downloading: EXISTS\n"
     ]
    },
    {
     "name": "stderr",
     "output_type": "stream",
     "text": [
      "[2024-02-28 22:18:52,129] - obspy.clients.fdsn.mass_downloader - INFO: Client 'http://service.iris.edu' - Status for 51 time intervals/channels after downloading: EXISTS\n"
     ]
    },
    {
     "name": "stderr",
     "output_type": "stream",
     "text": [
      "[2024-02-28 22:18:52,129] - obspy.clients.fdsn.mass_downloader - INFO: Client 'http://service.iris.edu' - Status for 51 time intervals/channels after downloading: EXISTS\n"
     ]
    },
    {
     "name": "stderr",
     "output_type": "stream",
     "text": [
      "[2024-02-28 22:18:52,129] - obspy.clients.fdsn.mass_downloader - INFO: Client 'http://service.iris.edu' - Status for 51 time intervals/channels after downloading: EXISTS\n"
     ]
    },
    {
     "name": "stderr",
     "output_type": "stream",
     "text": [
      "[2024-02-28 22:18:52,129] - obspy.clients.fdsn.mass_downloader - INFO: Client 'http://service.iris.edu' - Status for 51 time intervals/channels after downloading: EXISTS\n"
     ]
    },
    {
     "name": "stderr",
     "output_type": "stream",
     "text": [
      "[2024-02-28 22:18:52,129] - obspy.clients.fdsn.mass_downloader - INFO: Client 'http://service.iris.edu' - Status for 51 time intervals/channels after downloading: EXISTS\n"
     ]
    },
    {
     "name": "stderr",
     "output_type": "stream",
     "text": [
      "[2024-02-28 22:18:52,129] - obspy.clients.fdsn.mass_downloader - INFO: Client 'http://service.iris.edu' - Status for 51 time intervals/channels after downloading: EXISTS\n"
     ]
    },
    {
     "name": "stderr",
     "output_type": "stream",
     "text": [
      "[2024-02-28 22:18:52,129] - obspy.clients.fdsn.mass_downloader - INFO: Client 'http://service.iris.edu' - Status for 51 time intervals/channels after downloading: EXISTS\n"
     ]
    },
    {
     "name": "stderr",
     "output_type": "stream",
     "text": [
      "[2024-02-28 22:18:52,129] - obspy.clients.fdsn.mass_downloader - INFO: Client 'http://service.iris.edu' - Status for 51 time intervals/channels after downloading: EXISTS\n"
     ]
    },
    {
     "name": "stderr",
     "output_type": "stream",
     "text": [
      "[2024-02-28 22:18:52,129] - obspy.clients.fdsn.mass_downloader - INFO: Client 'http://service.iris.edu' - Status for 51 time intervals/channels after downloading: EXISTS\n"
     ]
    },
    {
     "name": "stderr",
     "output_type": "stream",
     "text": [
      "[2024-02-28 22:18:52,149] - obspy.clients.fdsn.mass_downloader - INFO: Client 'http://service.iris.edu' - No station information to download.\n"
     ]
    },
    {
     "name": "stderr",
     "output_type": "stream",
     "text": [
      "[2024-02-28 22:18:52,149] - obspy.clients.fdsn.mass_downloader - INFO: Client 'http://service.iris.edu' - No station information to download.\n"
     ]
    },
    {
     "name": "stderr",
     "output_type": "stream",
     "text": [
      "[2024-02-28 22:18:52,149] - obspy.clients.fdsn.mass_downloader - INFO: Client 'http://service.iris.edu' - No station information to download.\n"
     ]
    },
    {
     "name": "stderr",
     "output_type": "stream",
     "text": [
      "[2024-02-28 22:18:52,149] - obspy.clients.fdsn.mass_downloader - INFO: Client 'http://service.iris.edu' - No station information to download.\n"
     ]
    },
    {
     "name": "stderr",
     "output_type": "stream",
     "text": [
      "[2024-02-28 22:18:52,149] - obspy.clients.fdsn.mass_downloader - INFO: Client 'http://service.iris.edu' - No station information to download.\n"
     ]
    },
    {
     "name": "stderr",
     "output_type": "stream",
     "text": [
      "[2024-02-28 22:18:52,149] - obspy.clients.fdsn.mass_downloader - INFO: Client 'http://service.iris.edu' - No station information to download.\n"
     ]
    },
    {
     "name": "stderr",
     "output_type": "stream",
     "text": [
      "[2024-02-28 22:18:52,149] - obspy.clients.fdsn.mass_downloader - INFO: Client 'http://service.iris.edu' - No station information to download.\n"
     ]
    },
    {
     "name": "stderr",
     "output_type": "stream",
     "text": [
      "[2024-02-28 22:18:52,149] - obspy.clients.fdsn.mass_downloader - INFO: Client 'http://service.iris.edu' - No station information to download.\n"
     ]
    },
    {
     "name": "stderr",
     "output_type": "stream",
     "text": [
      "[2024-02-28 22:18:52,149] - obspy.clients.fdsn.mass_downloader - INFO: Client 'http://service.iris.edu' - No station information to download.\n"
     ]
    },
    {
     "name": "stderr",
     "output_type": "stream",
     "text": [
      "[2024-02-28 22:18:52,149] - obspy.clients.fdsn.mass_downloader - INFO: Client 'http://service.iris.edu' - No station information to download.\n"
     ]
    },
    {
     "name": "stderr",
     "output_type": "stream",
     "text": [
      "[2024-02-28 22:18:52,149] - obspy.clients.fdsn.mass_downloader - INFO: Client 'http://service.iris.edu' - No station information to download.\n"
     ]
    },
    {
     "name": "stderr",
     "output_type": "stream",
     "text": [
      "[2024-02-28 22:18:52,149] - obspy.clients.fdsn.mass_downloader - INFO: Client 'http://service.iris.edu' - No station information to download.\n"
     ]
    },
    {
     "name": "stderr",
     "output_type": "stream",
     "text": [
      "[2024-02-28 22:18:52,154] - obspy.clients.fdsn.mass_downloader - INFO: ============================== Final report\n"
     ]
    },
    {
     "name": "stderr",
     "output_type": "stream",
     "text": [
      "[2024-02-28 22:18:52,154] - obspy.clients.fdsn.mass_downloader - INFO: ============================== Final report\n"
     ]
    },
    {
     "name": "stderr",
     "output_type": "stream",
     "text": [
      "[2024-02-28 22:18:52,154] - obspy.clients.fdsn.mass_downloader - INFO: ============================== Final report\n"
     ]
    },
    {
     "name": "stderr",
     "output_type": "stream",
     "text": [
      "[2024-02-28 22:18:52,154] - obspy.clients.fdsn.mass_downloader - INFO: ============================== Final report\n"
     ]
    },
    {
     "name": "stderr",
     "output_type": "stream",
     "text": [
      "[2024-02-28 22:18:52,154] - obspy.clients.fdsn.mass_downloader - INFO: ============================== Final report\n"
     ]
    },
    {
     "name": "stderr",
     "output_type": "stream",
     "text": [
      "[2024-02-28 22:18:52,154] - obspy.clients.fdsn.mass_downloader - INFO: ============================== Final report\n"
     ]
    },
    {
     "name": "stderr",
     "output_type": "stream",
     "text": [
      "[2024-02-28 22:18:52,154] - obspy.clients.fdsn.mass_downloader - INFO: ============================== Final report\n"
     ]
    },
    {
     "name": "stderr",
     "output_type": "stream",
     "text": [
      "[2024-02-28 22:18:52,154] - obspy.clients.fdsn.mass_downloader - INFO: ============================== Final report\n"
     ]
    },
    {
     "name": "stderr",
     "output_type": "stream",
     "text": [
      "[2024-02-28 22:18:52,154] - obspy.clients.fdsn.mass_downloader - INFO: ============================== Final report\n"
     ]
    },
    {
     "name": "stderr",
     "output_type": "stream",
     "text": [
      "[2024-02-28 22:18:52,154] - obspy.clients.fdsn.mass_downloader - INFO: ============================== Final report\n"
     ]
    },
    {
     "name": "stderr",
     "output_type": "stream",
     "text": [
      "[2024-02-28 22:18:52,154] - obspy.clients.fdsn.mass_downloader - INFO: ============================== Final report\n"
     ]
    },
    {
     "name": "stderr",
     "output_type": "stream",
     "text": [
      "[2024-02-28 22:18:52,154] - obspy.clients.fdsn.mass_downloader - INFO: ============================== Final report\n"
     ]
    },
    {
     "name": "stderr",
     "output_type": "stream",
     "text": [
      "[2024-02-28 22:18:52,161] - obspy.clients.fdsn.mass_downloader - INFO: 51 MiniSEED files [0.3 MB] already existed.\n"
     ]
    },
    {
     "name": "stderr",
     "output_type": "stream",
     "text": [
      "[2024-02-28 22:18:52,161] - obspy.clients.fdsn.mass_downloader - INFO: 51 MiniSEED files [0.3 MB] already existed.\n"
     ]
    },
    {
     "name": "stderr",
     "output_type": "stream",
     "text": [
      "[2024-02-28 22:18:52,161] - obspy.clients.fdsn.mass_downloader - INFO: 51 MiniSEED files [0.3 MB] already existed.\n"
     ]
    },
    {
     "name": "stderr",
     "output_type": "stream",
     "text": [
      "[2024-02-28 22:18:52,161] - obspy.clients.fdsn.mass_downloader - INFO: 51 MiniSEED files [0.3 MB] already existed.\n"
     ]
    },
    {
     "name": "stderr",
     "output_type": "stream",
     "text": [
      "[2024-02-28 22:18:52,161] - obspy.clients.fdsn.mass_downloader - INFO: 51 MiniSEED files [0.3 MB] already existed.\n"
     ]
    },
    {
     "name": "stderr",
     "output_type": "stream",
     "text": [
      "[2024-02-28 22:18:52,161] - obspy.clients.fdsn.mass_downloader - INFO: 51 MiniSEED files [0.3 MB] already existed.\n"
     ]
    },
    {
     "name": "stderr",
     "output_type": "stream",
     "text": [
      "[2024-02-28 22:18:52,161] - obspy.clients.fdsn.mass_downloader - INFO: 51 MiniSEED files [0.3 MB] already existed.\n"
     ]
    },
    {
     "name": "stderr",
     "output_type": "stream",
     "text": [
      "[2024-02-28 22:18:52,161] - obspy.clients.fdsn.mass_downloader - INFO: 51 MiniSEED files [0.3 MB] already existed.\n"
     ]
    },
    {
     "name": "stderr",
     "output_type": "stream",
     "text": [
      "[2024-02-28 22:18:52,161] - obspy.clients.fdsn.mass_downloader - INFO: 51 MiniSEED files [0.3 MB] already existed.\n"
     ]
    },
    {
     "name": "stderr",
     "output_type": "stream",
     "text": [
      "[2024-02-28 22:18:52,161] - obspy.clients.fdsn.mass_downloader - INFO: 51 MiniSEED files [0.3 MB] already existed.\n"
     ]
    },
    {
     "name": "stderr",
     "output_type": "stream",
     "text": [
      "[2024-02-28 22:18:52,161] - obspy.clients.fdsn.mass_downloader - INFO: 51 MiniSEED files [0.3 MB] already existed.\n"
     ]
    },
    {
     "name": "stderr",
     "output_type": "stream",
     "text": [
      "[2024-02-28 22:18:52,161] - obspy.clients.fdsn.mass_downloader - INFO: 51 MiniSEED files [0.3 MB] already existed.\n"
     ]
    },
    {
     "name": "stderr",
     "output_type": "stream",
     "text": [
      "[2024-02-28 22:18:52,166] - obspy.clients.fdsn.mass_downloader - INFO: 17 StationXML files [0.4 MB] already existed.\n"
     ]
    },
    {
     "name": "stderr",
     "output_type": "stream",
     "text": [
      "[2024-02-28 22:18:52,166] - obspy.clients.fdsn.mass_downloader - INFO: 17 StationXML files [0.4 MB] already existed.\n"
     ]
    },
    {
     "name": "stderr",
     "output_type": "stream",
     "text": [
      "[2024-02-28 22:18:52,166] - obspy.clients.fdsn.mass_downloader - INFO: 17 StationXML files [0.4 MB] already existed.\n"
     ]
    },
    {
     "name": "stderr",
     "output_type": "stream",
     "text": [
      "[2024-02-28 22:18:52,166] - obspy.clients.fdsn.mass_downloader - INFO: 17 StationXML files [0.4 MB] already existed.\n"
     ]
    },
    {
     "name": "stderr",
     "output_type": "stream",
     "text": [
      "[2024-02-28 22:18:52,166] - obspy.clients.fdsn.mass_downloader - INFO: 17 StationXML files [0.4 MB] already existed.\n"
     ]
    },
    {
     "name": "stderr",
     "output_type": "stream",
     "text": [
      "[2024-02-28 22:18:52,166] - obspy.clients.fdsn.mass_downloader - INFO: 17 StationXML files [0.4 MB] already existed.\n"
     ]
    },
    {
     "name": "stderr",
     "output_type": "stream",
     "text": [
      "[2024-02-28 22:18:52,166] - obspy.clients.fdsn.mass_downloader - INFO: 17 StationXML files [0.4 MB] already existed.\n"
     ]
    },
    {
     "name": "stderr",
     "output_type": "stream",
     "text": [
      "[2024-02-28 22:18:52,166] - obspy.clients.fdsn.mass_downloader - INFO: 17 StationXML files [0.4 MB] already existed.\n"
     ]
    },
    {
     "name": "stderr",
     "output_type": "stream",
     "text": [
      "[2024-02-28 22:18:52,166] - obspy.clients.fdsn.mass_downloader - INFO: 17 StationXML files [0.4 MB] already existed.\n"
     ]
    },
    {
     "name": "stderr",
     "output_type": "stream",
     "text": [
      "[2024-02-28 22:18:52,166] - obspy.clients.fdsn.mass_downloader - INFO: 17 StationXML files [0.4 MB] already existed.\n"
     ]
    },
    {
     "name": "stderr",
     "output_type": "stream",
     "text": [
      "[2024-02-28 22:18:52,166] - obspy.clients.fdsn.mass_downloader - INFO: 17 StationXML files [0.4 MB] already existed.\n"
     ]
    },
    {
     "name": "stderr",
     "output_type": "stream",
     "text": [
      "[2024-02-28 22:18:52,166] - obspy.clients.fdsn.mass_downloader - INFO: 17 StationXML files [0.4 MB] already existed.\n"
     ]
    },
    {
     "name": "stderr",
     "output_type": "stream",
     "text": [
      "[2024-02-28 22:18:52,171] - obspy.clients.fdsn.mass_downloader - INFO: Client 'http://service.iris.edu' - Acquired 0 MiniSEED files [0.0 MB].\n"
     ]
    },
    {
     "name": "stderr",
     "output_type": "stream",
     "text": [
      "[2024-02-28 22:18:52,171] - obspy.clients.fdsn.mass_downloader - INFO: Client 'http://service.iris.edu' - Acquired 0 MiniSEED files [0.0 MB].\n"
     ]
    },
    {
     "name": "stderr",
     "output_type": "stream",
     "text": [
      "[2024-02-28 22:18:52,171] - obspy.clients.fdsn.mass_downloader - INFO: Client 'http://service.iris.edu' - Acquired 0 MiniSEED files [0.0 MB].\n"
     ]
    },
    {
     "name": "stderr",
     "output_type": "stream",
     "text": [
      "[2024-02-28 22:18:52,171] - obspy.clients.fdsn.mass_downloader - INFO: Client 'http://service.iris.edu' - Acquired 0 MiniSEED files [0.0 MB].\n"
     ]
    },
    {
     "name": "stderr",
     "output_type": "stream",
     "text": [
      "[2024-02-28 22:18:52,171] - obspy.clients.fdsn.mass_downloader - INFO: Client 'http://service.iris.edu' - Acquired 0 MiniSEED files [0.0 MB].\n"
     ]
    },
    {
     "name": "stderr",
     "output_type": "stream",
     "text": [
      "[2024-02-28 22:18:52,171] - obspy.clients.fdsn.mass_downloader - INFO: Client 'http://service.iris.edu' - Acquired 0 MiniSEED files [0.0 MB].\n"
     ]
    },
    {
     "name": "stderr",
     "output_type": "stream",
     "text": [
      "[2024-02-28 22:18:52,171] - obspy.clients.fdsn.mass_downloader - INFO: Client 'http://service.iris.edu' - Acquired 0 MiniSEED files [0.0 MB].\n"
     ]
    },
    {
     "name": "stderr",
     "output_type": "stream",
     "text": [
      "[2024-02-28 22:18:52,171] - obspy.clients.fdsn.mass_downloader - INFO: Client 'http://service.iris.edu' - Acquired 0 MiniSEED files [0.0 MB].\n"
     ]
    },
    {
     "name": "stderr",
     "output_type": "stream",
     "text": [
      "[2024-02-28 22:18:52,171] - obspy.clients.fdsn.mass_downloader - INFO: Client 'http://service.iris.edu' - Acquired 0 MiniSEED files [0.0 MB].\n"
     ]
    },
    {
     "name": "stderr",
     "output_type": "stream",
     "text": [
      "[2024-02-28 22:18:52,171] - obspy.clients.fdsn.mass_downloader - INFO: Client 'http://service.iris.edu' - Acquired 0 MiniSEED files [0.0 MB].\n"
     ]
    },
    {
     "name": "stderr",
     "output_type": "stream",
     "text": [
      "[2024-02-28 22:18:52,171] - obspy.clients.fdsn.mass_downloader - INFO: Client 'http://service.iris.edu' - Acquired 0 MiniSEED files [0.0 MB].\n"
     ]
    },
    {
     "name": "stderr",
     "output_type": "stream",
     "text": [
      "[2024-02-28 22:18:52,171] - obspy.clients.fdsn.mass_downloader - INFO: Client 'http://service.iris.edu' - Acquired 0 MiniSEED files [0.0 MB].\n"
     ]
    },
    {
     "name": "stderr",
     "output_type": "stream",
     "text": [
      "[2024-02-28 22:18:52,175] - obspy.clients.fdsn.mass_downloader - INFO: Client 'http://service.iris.edu' - Acquired 0 StationXML files [0.0 MB].\n"
     ]
    },
    {
     "name": "stderr",
     "output_type": "stream",
     "text": [
      "[2024-02-28 22:18:52,175] - obspy.clients.fdsn.mass_downloader - INFO: Client 'http://service.iris.edu' - Acquired 0 StationXML files [0.0 MB].\n"
     ]
    },
    {
     "name": "stderr",
     "output_type": "stream",
     "text": [
      "[2024-02-28 22:18:52,175] - obspy.clients.fdsn.mass_downloader - INFO: Client 'http://service.iris.edu' - Acquired 0 StationXML files [0.0 MB].\n"
     ]
    },
    {
     "name": "stderr",
     "output_type": "stream",
     "text": [
      "[2024-02-28 22:18:52,175] - obspy.clients.fdsn.mass_downloader - INFO: Client 'http://service.iris.edu' - Acquired 0 StationXML files [0.0 MB].\n"
     ]
    },
    {
     "name": "stderr",
     "output_type": "stream",
     "text": [
      "[2024-02-28 22:18:52,175] - obspy.clients.fdsn.mass_downloader - INFO: Client 'http://service.iris.edu' - Acquired 0 StationXML files [0.0 MB].\n"
     ]
    },
    {
     "name": "stderr",
     "output_type": "stream",
     "text": [
      "[2024-02-28 22:18:52,175] - obspy.clients.fdsn.mass_downloader - INFO: Client 'http://service.iris.edu' - Acquired 0 StationXML files [0.0 MB].\n"
     ]
    },
    {
     "name": "stderr",
     "output_type": "stream",
     "text": [
      "[2024-02-28 22:18:52,175] - obspy.clients.fdsn.mass_downloader - INFO: Client 'http://service.iris.edu' - Acquired 0 StationXML files [0.0 MB].\n"
     ]
    },
    {
     "name": "stderr",
     "output_type": "stream",
     "text": [
      "[2024-02-28 22:18:52,175] - obspy.clients.fdsn.mass_downloader - INFO: Client 'http://service.iris.edu' - Acquired 0 StationXML files [0.0 MB].\n"
     ]
    },
    {
     "name": "stderr",
     "output_type": "stream",
     "text": [
      "[2024-02-28 22:18:52,175] - obspy.clients.fdsn.mass_downloader - INFO: Client 'http://service.iris.edu' - Acquired 0 StationXML files [0.0 MB].\n"
     ]
    },
    {
     "name": "stderr",
     "output_type": "stream",
     "text": [
      "[2024-02-28 22:18:52,175] - obspy.clients.fdsn.mass_downloader - INFO: Client 'http://service.iris.edu' - Acquired 0 StationXML files [0.0 MB].\n"
     ]
    },
    {
     "name": "stderr",
     "output_type": "stream",
     "text": [
      "[2024-02-28 22:18:52,175] - obspy.clients.fdsn.mass_downloader - INFO: Client 'http://service.iris.edu' - Acquired 0 StationXML files [0.0 MB].\n"
     ]
    },
    {
     "name": "stderr",
     "output_type": "stream",
     "text": [
      "[2024-02-28 22:18:52,175] - obspy.clients.fdsn.mass_downloader - INFO: Client 'http://service.iris.edu' - Acquired 0 StationXML files [0.0 MB].\n"
     ]
    },
    {
     "name": "stderr",
     "output_type": "stream",
     "text": [
      "[2024-02-28 22:18:52,179] - obspy.clients.fdsn.mass_downloader - INFO: Downloaded 0.0 MB in total.\n"
     ]
    },
    {
     "name": "stderr",
     "output_type": "stream",
     "text": [
      "[2024-02-28 22:18:52,179] - obspy.clients.fdsn.mass_downloader - INFO: Downloaded 0.0 MB in total.\n"
     ]
    },
    {
     "name": "stderr",
     "output_type": "stream",
     "text": [
      "[2024-02-28 22:18:52,179] - obspy.clients.fdsn.mass_downloader - INFO: Downloaded 0.0 MB in total.\n"
     ]
    },
    {
     "name": "stderr",
     "output_type": "stream",
     "text": [
      "[2024-02-28 22:18:52,179] - obspy.clients.fdsn.mass_downloader - INFO: Downloaded 0.0 MB in total.\n"
     ]
    },
    {
     "name": "stderr",
     "output_type": "stream",
     "text": [
      "[2024-02-28 22:18:52,179] - obspy.clients.fdsn.mass_downloader - INFO: Downloaded 0.0 MB in total.\n"
     ]
    },
    {
     "name": "stderr",
     "output_type": "stream",
     "text": [
      "[2024-02-28 22:18:52,179] - obspy.clients.fdsn.mass_downloader - INFO: Downloaded 0.0 MB in total.\n"
     ]
    },
    {
     "name": "stderr",
     "output_type": "stream",
     "text": [
      "[2024-02-28 22:18:52,179] - obspy.clients.fdsn.mass_downloader - INFO: Downloaded 0.0 MB in total.\n"
     ]
    },
    {
     "name": "stderr",
     "output_type": "stream",
     "text": [
      "[2024-02-28 22:18:52,179] - obspy.clients.fdsn.mass_downloader - INFO: Downloaded 0.0 MB in total.\n"
     ]
    },
    {
     "name": "stderr",
     "output_type": "stream",
     "text": [
      "[2024-02-28 22:18:52,179] - obspy.clients.fdsn.mass_downloader - INFO: Downloaded 0.0 MB in total.\n"
     ]
    },
    {
     "name": "stderr",
     "output_type": "stream",
     "text": [
      "[2024-02-28 22:18:52,179] - obspy.clients.fdsn.mass_downloader - INFO: Downloaded 0.0 MB in total.\n"
     ]
    },
    {
     "name": "stderr",
     "output_type": "stream",
     "text": [
      "[2024-02-28 22:18:52,179] - obspy.clients.fdsn.mass_downloader - INFO: Downloaded 0.0 MB in total.\n"
     ]
    },
    {
     "name": "stderr",
     "output_type": "stream",
     "text": [
      "[2024-02-28 22:18:52,179] - obspy.clients.fdsn.mass_downloader - INFO: Downloaded 0.0 MB in total.\n"
     ]
    },
    {
     "name": "stderr",
     "output_type": "stream",
     "text": [
      "[2024-02-28 22:18:52,243] - obspy.clients.fdsn.mass_downloader - INFO: Initializing FDSN client(s) for http://service.iris.edu.\n"
     ]
    },
    {
     "name": "stderr",
     "output_type": "stream",
     "text": [
      "[2024-02-28 22:18:52,243] - obspy.clients.fdsn.mass_downloader - INFO: Initializing FDSN client(s) for http://service.iris.edu.\n"
     ]
    },
    {
     "name": "stderr",
     "output_type": "stream",
     "text": [
      "[2024-02-28 22:18:52,243] - obspy.clients.fdsn.mass_downloader - INFO: Initializing FDSN client(s) for http://service.iris.edu.\n"
     ]
    },
    {
     "name": "stderr",
     "output_type": "stream",
     "text": [
      "[2024-02-28 22:18:52,243] - obspy.clients.fdsn.mass_downloader - INFO: Initializing FDSN client(s) for http://service.iris.edu.\n"
     ]
    },
    {
     "name": "stderr",
     "output_type": "stream",
     "text": [
      "[2024-02-28 22:18:52,243] - obspy.clients.fdsn.mass_downloader - INFO: Initializing FDSN client(s) for http://service.iris.edu.\n"
     ]
    },
    {
     "name": "stderr",
     "output_type": "stream",
     "text": [
      "[2024-02-28 22:18:52,243] - obspy.clients.fdsn.mass_downloader - INFO: Initializing FDSN client(s) for http://service.iris.edu.\n"
     ]
    },
    {
     "name": "stderr",
     "output_type": "stream",
     "text": [
      "[2024-02-28 22:18:52,243] - obspy.clients.fdsn.mass_downloader - INFO: Initializing FDSN client(s) for http://service.iris.edu.\n"
     ]
    },
    {
     "name": "stderr",
     "output_type": "stream",
     "text": [
      "[2024-02-28 22:18:52,243] - obspy.clients.fdsn.mass_downloader - INFO: Initializing FDSN client(s) for http://service.iris.edu.\n"
     ]
    },
    {
     "name": "stderr",
     "output_type": "stream",
     "text": [
      "[2024-02-28 22:18:52,243] - obspy.clients.fdsn.mass_downloader - INFO: Initializing FDSN client(s) for http://service.iris.edu.\n"
     ]
    },
    {
     "name": "stderr",
     "output_type": "stream",
     "text": [
      "[2024-02-28 22:18:52,243] - obspy.clients.fdsn.mass_downloader - INFO: Initializing FDSN client(s) for http://service.iris.edu.\n"
     ]
    },
    {
     "name": "stderr",
     "output_type": "stream",
     "text": [
      "[2024-02-28 22:18:52,243] - obspy.clients.fdsn.mass_downloader - INFO: Initializing FDSN client(s) for http://service.iris.edu.\n"
     ]
    },
    {
     "name": "stderr",
     "output_type": "stream",
     "text": [
      "[2024-02-28 22:18:52,243] - obspy.clients.fdsn.mass_downloader - INFO: Initializing FDSN client(s) for http://service.iris.edu.\n"
     ]
    },
    {
     "name": "stderr",
     "output_type": "stream",
     "text": [
      "[2024-02-28 22:18:52,243] - obspy.clients.fdsn.mass_downloader - INFO: Initializing FDSN client(s) for http://service.iris.edu.\n"
     ]
    },
    {
     "name": "stderr",
     "output_type": "stream",
     "text": [
      "[2024-02-28 22:18:52,250] - obspy.clients.fdsn.mass_downloader - INFO: Successfully initialized 1 client(s): http://service.iris.edu.\n"
     ]
    },
    {
     "name": "stderr",
     "output_type": "stream",
     "text": [
      "[2024-02-28 22:18:52,250] - obspy.clients.fdsn.mass_downloader - INFO: Successfully initialized 1 client(s): http://service.iris.edu.\n"
     ]
    },
    {
     "name": "stderr",
     "output_type": "stream",
     "text": [
      "[2024-02-28 22:18:52,250] - obspy.clients.fdsn.mass_downloader - INFO: Successfully initialized 1 client(s): http://service.iris.edu.\n"
     ]
    },
    {
     "name": "stderr",
     "output_type": "stream",
     "text": [
      "[2024-02-28 22:18:52,250] - obspy.clients.fdsn.mass_downloader - INFO: Successfully initialized 1 client(s): http://service.iris.edu.\n"
     ]
    },
    {
     "name": "stderr",
     "output_type": "stream",
     "text": [
      "[2024-02-28 22:18:52,250] - obspy.clients.fdsn.mass_downloader - INFO: Successfully initialized 1 client(s): http://service.iris.edu.\n"
     ]
    },
    {
     "name": "stderr",
     "output_type": "stream",
     "text": [
      "[2024-02-28 22:18:52,250] - obspy.clients.fdsn.mass_downloader - INFO: Successfully initialized 1 client(s): http://service.iris.edu.\n"
     ]
    },
    {
     "name": "stderr",
     "output_type": "stream",
     "text": [
      "[2024-02-28 22:18:52,250] - obspy.clients.fdsn.mass_downloader - INFO: Successfully initialized 1 client(s): http://service.iris.edu.\n"
     ]
    },
    {
     "name": "stderr",
     "output_type": "stream",
     "text": [
      "[2024-02-28 22:18:52,250] - obspy.clients.fdsn.mass_downloader - INFO: Successfully initialized 1 client(s): http://service.iris.edu.\n"
     ]
    },
    {
     "name": "stderr",
     "output_type": "stream",
     "text": [
      "[2024-02-28 22:18:52,250] - obspy.clients.fdsn.mass_downloader - INFO: Successfully initialized 1 client(s): http://service.iris.edu.\n"
     ]
    },
    {
     "name": "stderr",
     "output_type": "stream",
     "text": [
      "[2024-02-28 22:18:52,250] - obspy.clients.fdsn.mass_downloader - INFO: Successfully initialized 1 client(s): http://service.iris.edu.\n"
     ]
    },
    {
     "name": "stderr",
     "output_type": "stream",
     "text": [
      "[2024-02-28 22:18:52,250] - obspy.clients.fdsn.mass_downloader - INFO: Successfully initialized 1 client(s): http://service.iris.edu.\n"
     ]
    },
    {
     "name": "stderr",
     "output_type": "stream",
     "text": [
      "[2024-02-28 22:18:52,250] - obspy.clients.fdsn.mass_downloader - INFO: Successfully initialized 1 client(s): http://service.iris.edu.\n"
     ]
    },
    {
     "name": "stderr",
     "output_type": "stream",
     "text": [
      "[2024-02-28 22:18:52,250] - obspy.clients.fdsn.mass_downloader - INFO: Successfully initialized 1 client(s): http://service.iris.edu.\n"
     ]
    },
    {
     "name": "stderr",
     "output_type": "stream",
     "text": [
      "[2024-02-28 22:18:52,256] - obspy.clients.fdsn.mass_downloader - INFO: Total acquired or preexisting stations: 0\n"
     ]
    },
    {
     "name": "stderr",
     "output_type": "stream",
     "text": [
      "[2024-02-28 22:18:52,256] - obspy.clients.fdsn.mass_downloader - INFO: Total acquired or preexisting stations: 0\n"
     ]
    },
    {
     "name": "stderr",
     "output_type": "stream",
     "text": [
      "[2024-02-28 22:18:52,256] - obspy.clients.fdsn.mass_downloader - INFO: Total acquired or preexisting stations: 0\n"
     ]
    },
    {
     "name": "stderr",
     "output_type": "stream",
     "text": [
      "[2024-02-28 22:18:52,256] - obspy.clients.fdsn.mass_downloader - INFO: Total acquired or preexisting stations: 0\n"
     ]
    },
    {
     "name": "stderr",
     "output_type": "stream",
     "text": [
      "[2024-02-28 22:18:52,256] - obspy.clients.fdsn.mass_downloader - INFO: Total acquired or preexisting stations: 0\n"
     ]
    },
    {
     "name": "stderr",
     "output_type": "stream",
     "text": [
      "[2024-02-28 22:18:52,256] - obspy.clients.fdsn.mass_downloader - INFO: Total acquired or preexisting stations: 0\n"
     ]
    },
    {
     "name": "stderr",
     "output_type": "stream",
     "text": [
      "[2024-02-28 22:18:52,256] - obspy.clients.fdsn.mass_downloader - INFO: Total acquired or preexisting stations: 0\n"
     ]
    },
    {
     "name": "stderr",
     "output_type": "stream",
     "text": [
      "[2024-02-28 22:18:52,256] - obspy.clients.fdsn.mass_downloader - INFO: Total acquired or preexisting stations: 0\n"
     ]
    },
    {
     "name": "stderr",
     "output_type": "stream",
     "text": [
      "[2024-02-28 22:18:52,256] - obspy.clients.fdsn.mass_downloader - INFO: Total acquired or preexisting stations: 0\n"
     ]
    },
    {
     "name": "stderr",
     "output_type": "stream",
     "text": [
      "[2024-02-28 22:18:52,256] - obspy.clients.fdsn.mass_downloader - INFO: Total acquired or preexisting stations: 0\n"
     ]
    },
    {
     "name": "stderr",
     "output_type": "stream",
     "text": [
      "[2024-02-28 22:18:52,256] - obspy.clients.fdsn.mass_downloader - INFO: Total acquired or preexisting stations: 0\n"
     ]
    },
    {
     "name": "stderr",
     "output_type": "stream",
     "text": [
      "[2024-02-28 22:18:52,256] - obspy.clients.fdsn.mass_downloader - INFO: Total acquired or preexisting stations: 0\n"
     ]
    },
    {
     "name": "stderr",
     "output_type": "stream",
     "text": [
      "[2024-02-28 22:18:52,256] - obspy.clients.fdsn.mass_downloader - INFO: Total acquired or preexisting stations: 0\n"
     ]
    },
    {
     "name": "stderr",
     "output_type": "stream",
     "text": [
      "[2024-02-28 22:18:52,262] - obspy.clients.fdsn.mass_downloader - INFO: Client 'http://service.iris.edu' - Requesting reliable availability.\n"
     ]
    },
    {
     "name": "stderr",
     "output_type": "stream",
     "text": [
      "[2024-02-28 22:18:52,262] - obspy.clients.fdsn.mass_downloader - INFO: Client 'http://service.iris.edu' - Requesting reliable availability.\n"
     ]
    },
    {
     "name": "stderr",
     "output_type": "stream",
     "text": [
      "[2024-02-28 22:18:52,262] - obspy.clients.fdsn.mass_downloader - INFO: Client 'http://service.iris.edu' - Requesting reliable availability.\n"
     ]
    },
    {
     "name": "stderr",
     "output_type": "stream",
     "text": [
      "[2024-02-28 22:18:52,262] - obspy.clients.fdsn.mass_downloader - INFO: Client 'http://service.iris.edu' - Requesting reliable availability.\n"
     ]
    },
    {
     "name": "stderr",
     "output_type": "stream",
     "text": [
      "[2024-02-28 22:18:52,262] - obspy.clients.fdsn.mass_downloader - INFO: Client 'http://service.iris.edu' - Requesting reliable availability.\n"
     ]
    },
    {
     "name": "stderr",
     "output_type": "stream",
     "text": [
      "[2024-02-28 22:18:52,262] - obspy.clients.fdsn.mass_downloader - INFO: Client 'http://service.iris.edu' - Requesting reliable availability.\n"
     ]
    },
    {
     "name": "stderr",
     "output_type": "stream",
     "text": [
      "[2024-02-28 22:18:52,262] - obspy.clients.fdsn.mass_downloader - INFO: Client 'http://service.iris.edu' - Requesting reliable availability.\n"
     ]
    },
    {
     "name": "stderr",
     "output_type": "stream",
     "text": [
      "[2024-02-28 22:18:52,262] - obspy.clients.fdsn.mass_downloader - INFO: Client 'http://service.iris.edu' - Requesting reliable availability.\n"
     ]
    },
    {
     "name": "stderr",
     "output_type": "stream",
     "text": [
      "[2024-02-28 22:18:52,262] - obspy.clients.fdsn.mass_downloader - INFO: Client 'http://service.iris.edu' - Requesting reliable availability.\n"
     ]
    },
    {
     "name": "stderr",
     "output_type": "stream",
     "text": [
      "[2024-02-28 22:18:52,262] - obspy.clients.fdsn.mass_downloader - INFO: Client 'http://service.iris.edu' - Requesting reliable availability.\n"
     ]
    },
    {
     "name": "stderr",
     "output_type": "stream",
     "text": [
      "[2024-02-28 22:18:52,262] - obspy.clients.fdsn.mass_downloader - INFO: Client 'http://service.iris.edu' - Requesting reliable availability.\n"
     ]
    },
    {
     "name": "stderr",
     "output_type": "stream",
     "text": [
      "[2024-02-28 22:18:52,262] - obspy.clients.fdsn.mass_downloader - INFO: Client 'http://service.iris.edu' - Requesting reliable availability.\n"
     ]
    },
    {
     "name": "stderr",
     "output_type": "stream",
     "text": [
      "[2024-02-28 22:18:52,262] - obspy.clients.fdsn.mass_downloader - INFO: Client 'http://service.iris.edu' - Requesting reliable availability.\n"
     ]
    },
    {
     "name": "stderr",
     "output_type": "stream",
     "text": [
      "[2024-02-28 22:18:53,425] - obspy.clients.fdsn.mass_downloader - INFO: Client 'http://service.iris.edu' - Successfully requested availability (1.16 seconds)\n"
     ]
    },
    {
     "name": "stderr",
     "output_type": "stream",
     "text": [
      "[2024-02-28 22:18:53,425] - obspy.clients.fdsn.mass_downloader - INFO: Client 'http://service.iris.edu' - Successfully requested availability (1.16 seconds)\n"
     ]
    },
    {
     "name": "stderr",
     "output_type": "stream",
     "text": [
      "[2024-02-28 22:18:53,425] - obspy.clients.fdsn.mass_downloader - INFO: Client 'http://service.iris.edu' - Successfully requested availability (1.16 seconds)\n"
     ]
    },
    {
     "name": "stderr",
     "output_type": "stream",
     "text": [
      "[2024-02-28 22:18:53,425] - obspy.clients.fdsn.mass_downloader - INFO: Client 'http://service.iris.edu' - Successfully requested availability (1.16 seconds)\n"
     ]
    },
    {
     "name": "stderr",
     "output_type": "stream",
     "text": [
      "[2024-02-28 22:18:53,425] - obspy.clients.fdsn.mass_downloader - INFO: Client 'http://service.iris.edu' - Successfully requested availability (1.16 seconds)\n"
     ]
    },
    {
     "name": "stderr",
     "output_type": "stream",
     "text": [
      "[2024-02-28 22:18:53,425] - obspy.clients.fdsn.mass_downloader - INFO: Client 'http://service.iris.edu' - Successfully requested availability (1.16 seconds)\n"
     ]
    },
    {
     "name": "stderr",
     "output_type": "stream",
     "text": [
      "[2024-02-28 22:18:53,425] - obspy.clients.fdsn.mass_downloader - INFO: Client 'http://service.iris.edu' - Successfully requested availability (1.16 seconds)\n"
     ]
    },
    {
     "name": "stderr",
     "output_type": "stream",
     "text": [
      "[2024-02-28 22:18:53,425] - obspy.clients.fdsn.mass_downloader - INFO: Client 'http://service.iris.edu' - Successfully requested availability (1.16 seconds)\n"
     ]
    },
    {
     "name": "stderr",
     "output_type": "stream",
     "text": [
      "[2024-02-28 22:18:53,425] - obspy.clients.fdsn.mass_downloader - INFO: Client 'http://service.iris.edu' - Successfully requested availability (1.16 seconds)\n"
     ]
    },
    {
     "name": "stderr",
     "output_type": "stream",
     "text": [
      "[2024-02-28 22:18:53,425] - obspy.clients.fdsn.mass_downloader - INFO: Client 'http://service.iris.edu' - Successfully requested availability (1.16 seconds)\n"
     ]
    },
    {
     "name": "stderr",
     "output_type": "stream",
     "text": [
      "[2024-02-28 22:18:53,425] - obspy.clients.fdsn.mass_downloader - INFO: Client 'http://service.iris.edu' - Successfully requested availability (1.16 seconds)\n"
     ]
    },
    {
     "name": "stderr",
     "output_type": "stream",
     "text": [
      "[2024-02-28 22:18:53,425] - obspy.clients.fdsn.mass_downloader - INFO: Client 'http://service.iris.edu' - Successfully requested availability (1.16 seconds)\n"
     ]
    },
    {
     "name": "stderr",
     "output_type": "stream",
     "text": [
      "[2024-02-28 22:18:53,425] - obspy.clients.fdsn.mass_downloader - INFO: Client 'http://service.iris.edu' - Successfully requested availability (1.16 seconds)\n"
     ]
    },
    {
     "name": "stderr",
     "output_type": "stream",
     "text": [
      "[2024-02-28 22:18:53,461] - obspy.clients.fdsn.mass_downloader - INFO: Client 'http://service.iris.edu' - Found 19 stations (57 channels).\n"
     ]
    },
    {
     "name": "stderr",
     "output_type": "stream",
     "text": [
      "[2024-02-28 22:18:53,461] - obspy.clients.fdsn.mass_downloader - INFO: Client 'http://service.iris.edu' - Found 19 stations (57 channels).\n"
     ]
    },
    {
     "name": "stderr",
     "output_type": "stream",
     "text": [
      "[2024-02-28 22:18:53,461] - obspy.clients.fdsn.mass_downloader - INFO: Client 'http://service.iris.edu' - Found 19 stations (57 channels).\n"
     ]
    },
    {
     "name": "stderr",
     "output_type": "stream",
     "text": [
      "[2024-02-28 22:18:53,461] - obspy.clients.fdsn.mass_downloader - INFO: Client 'http://service.iris.edu' - Found 19 stations (57 channels).\n"
     ]
    },
    {
     "name": "stderr",
     "output_type": "stream",
     "text": [
      "[2024-02-28 22:18:53,461] - obspy.clients.fdsn.mass_downloader - INFO: Client 'http://service.iris.edu' - Found 19 stations (57 channels).\n"
     ]
    },
    {
     "name": "stderr",
     "output_type": "stream",
     "text": [
      "[2024-02-28 22:18:53,461] - obspy.clients.fdsn.mass_downloader - INFO: Client 'http://service.iris.edu' - Found 19 stations (57 channels).\n"
     ]
    },
    {
     "name": "stderr",
     "output_type": "stream",
     "text": [
      "[2024-02-28 22:18:53,461] - obspy.clients.fdsn.mass_downloader - INFO: Client 'http://service.iris.edu' - Found 19 stations (57 channels).\n"
     ]
    },
    {
     "name": "stderr",
     "output_type": "stream",
     "text": [
      "[2024-02-28 22:18:53,461] - obspy.clients.fdsn.mass_downloader - INFO: Client 'http://service.iris.edu' - Found 19 stations (57 channels).\n"
     ]
    },
    {
     "name": "stderr",
     "output_type": "stream",
     "text": [
      "[2024-02-28 22:18:53,461] - obspy.clients.fdsn.mass_downloader - INFO: Client 'http://service.iris.edu' - Found 19 stations (57 channels).\n"
     ]
    },
    {
     "name": "stderr",
     "output_type": "stream",
     "text": [
      "[2024-02-28 22:18:53,461] - obspy.clients.fdsn.mass_downloader - INFO: Client 'http://service.iris.edu' - Found 19 stations (57 channels).\n"
     ]
    },
    {
     "name": "stderr",
     "output_type": "stream",
     "text": [
      "[2024-02-28 22:18:53,461] - obspy.clients.fdsn.mass_downloader - INFO: Client 'http://service.iris.edu' - Found 19 stations (57 channels).\n"
     ]
    },
    {
     "name": "stderr",
     "output_type": "stream",
     "text": [
      "[2024-02-28 22:18:53,461] - obspy.clients.fdsn.mass_downloader - INFO: Client 'http://service.iris.edu' - Found 19 stations (57 channels).\n"
     ]
    },
    {
     "name": "stderr",
     "output_type": "stream",
     "text": [
      "[2024-02-28 22:18:53,461] - obspy.clients.fdsn.mass_downloader - INFO: Client 'http://service.iris.edu' - Found 19 stations (57 channels).\n"
     ]
    },
    {
     "name": "stderr",
     "output_type": "stream",
     "text": [
      "[2024-02-28 22:18:53,471] - obspy.clients.fdsn.mass_downloader - INFO: Client 'http://service.iris.edu' - Will attempt to download data from 19 stations.\n"
     ]
    },
    {
     "name": "stderr",
     "output_type": "stream",
     "text": [
      "[2024-02-28 22:18:53,471] - obspy.clients.fdsn.mass_downloader - INFO: Client 'http://service.iris.edu' - Will attempt to download data from 19 stations.\n"
     ]
    },
    {
     "name": "stderr",
     "output_type": "stream",
     "text": [
      "[2024-02-28 22:18:53,471] - obspy.clients.fdsn.mass_downloader - INFO: Client 'http://service.iris.edu' - Will attempt to download data from 19 stations.\n"
     ]
    },
    {
     "name": "stderr",
     "output_type": "stream",
     "text": [
      "[2024-02-28 22:18:53,471] - obspy.clients.fdsn.mass_downloader - INFO: Client 'http://service.iris.edu' - Will attempt to download data from 19 stations.\n"
     ]
    },
    {
     "name": "stderr",
     "output_type": "stream",
     "text": [
      "[2024-02-28 22:18:53,471] - obspy.clients.fdsn.mass_downloader - INFO: Client 'http://service.iris.edu' - Will attempt to download data from 19 stations.\n"
     ]
    },
    {
     "name": "stderr",
     "output_type": "stream",
     "text": [
      "[2024-02-28 22:18:53,471] - obspy.clients.fdsn.mass_downloader - INFO: Client 'http://service.iris.edu' - Will attempt to download data from 19 stations.\n"
     ]
    },
    {
     "name": "stderr",
     "output_type": "stream",
     "text": [
      "[2024-02-28 22:18:53,471] - obspy.clients.fdsn.mass_downloader - INFO: Client 'http://service.iris.edu' - Will attempt to download data from 19 stations.\n"
     ]
    },
    {
     "name": "stderr",
     "output_type": "stream",
     "text": [
      "[2024-02-28 22:18:53,471] - obspy.clients.fdsn.mass_downloader - INFO: Client 'http://service.iris.edu' - Will attempt to download data from 19 stations.\n"
     ]
    },
    {
     "name": "stderr",
     "output_type": "stream",
     "text": [
      "[2024-02-28 22:18:53,471] - obspy.clients.fdsn.mass_downloader - INFO: Client 'http://service.iris.edu' - Will attempt to download data from 19 stations.\n"
     ]
    },
    {
     "name": "stderr",
     "output_type": "stream",
     "text": [
      "[2024-02-28 22:18:53,471] - obspy.clients.fdsn.mass_downloader - INFO: Client 'http://service.iris.edu' - Will attempt to download data from 19 stations.\n"
     ]
    },
    {
     "name": "stderr",
     "output_type": "stream",
     "text": [
      "[2024-02-28 22:18:53,471] - obspy.clients.fdsn.mass_downloader - INFO: Client 'http://service.iris.edu' - Will attempt to download data from 19 stations.\n"
     ]
    },
    {
     "name": "stderr",
     "output_type": "stream",
     "text": [
      "[2024-02-28 22:18:53,471] - obspy.clients.fdsn.mass_downloader - INFO: Client 'http://service.iris.edu' - Will attempt to download data from 19 stations.\n"
     ]
    },
    {
     "name": "stderr",
     "output_type": "stream",
     "text": [
      "[2024-02-28 22:18:53,471] - obspy.clients.fdsn.mass_downloader - INFO: Client 'http://service.iris.edu' - Will attempt to download data from 19 stations.\n"
     ]
    },
    {
     "name": "stderr",
     "output_type": "stream",
     "text": [
      "[2024-02-28 22:18:53,480] - obspy.clients.fdsn.mass_downloader - INFO: Client 'http://service.iris.edu' - Status for 51 time intervals/channels before downloading: EXISTS\n"
     ]
    },
    {
     "name": "stderr",
     "output_type": "stream",
     "text": [
      "[2024-02-28 22:18:53,480] - obspy.clients.fdsn.mass_downloader - INFO: Client 'http://service.iris.edu' - Status for 51 time intervals/channels before downloading: EXISTS\n"
     ]
    },
    {
     "name": "stderr",
     "output_type": "stream",
     "text": [
      "[2024-02-28 22:18:53,480] - obspy.clients.fdsn.mass_downloader - INFO: Client 'http://service.iris.edu' - Status for 51 time intervals/channels before downloading: EXISTS\n"
     ]
    },
    {
     "name": "stderr",
     "output_type": "stream",
     "text": [
      "[2024-02-28 22:18:53,480] - obspy.clients.fdsn.mass_downloader - INFO: Client 'http://service.iris.edu' - Status for 51 time intervals/channels before downloading: EXISTS\n"
     ]
    },
    {
     "name": "stderr",
     "output_type": "stream",
     "text": [
      "[2024-02-28 22:18:53,480] - obspy.clients.fdsn.mass_downloader - INFO: Client 'http://service.iris.edu' - Status for 51 time intervals/channels before downloading: EXISTS\n"
     ]
    },
    {
     "name": "stderr",
     "output_type": "stream",
     "text": [
      "[2024-02-28 22:18:53,480] - obspy.clients.fdsn.mass_downloader - INFO: Client 'http://service.iris.edu' - Status for 51 time intervals/channels before downloading: EXISTS\n"
     ]
    },
    {
     "name": "stderr",
     "output_type": "stream",
     "text": [
      "[2024-02-28 22:18:53,480] - obspy.clients.fdsn.mass_downloader - INFO: Client 'http://service.iris.edu' - Status for 51 time intervals/channels before downloading: EXISTS\n"
     ]
    },
    {
     "name": "stderr",
     "output_type": "stream",
     "text": [
      "[2024-02-28 22:18:53,480] - obspy.clients.fdsn.mass_downloader - INFO: Client 'http://service.iris.edu' - Status for 51 time intervals/channels before downloading: EXISTS\n"
     ]
    },
    {
     "name": "stderr",
     "output_type": "stream",
     "text": [
      "[2024-02-28 22:18:53,480] - obspy.clients.fdsn.mass_downloader - INFO: Client 'http://service.iris.edu' - Status for 51 time intervals/channels before downloading: EXISTS\n"
     ]
    },
    {
     "name": "stderr",
     "output_type": "stream",
     "text": [
      "[2024-02-28 22:18:53,480] - obspy.clients.fdsn.mass_downloader - INFO: Client 'http://service.iris.edu' - Status for 51 time intervals/channels before downloading: EXISTS\n"
     ]
    },
    {
     "name": "stderr",
     "output_type": "stream",
     "text": [
      "[2024-02-28 22:18:53,480] - obspy.clients.fdsn.mass_downloader - INFO: Client 'http://service.iris.edu' - Status for 51 time intervals/channels before downloading: EXISTS\n"
     ]
    },
    {
     "name": "stderr",
     "output_type": "stream",
     "text": [
      "[2024-02-28 22:18:53,480] - obspy.clients.fdsn.mass_downloader - INFO: Client 'http://service.iris.edu' - Status for 51 time intervals/channels before downloading: EXISTS\n"
     ]
    },
    {
     "name": "stderr",
     "output_type": "stream",
     "text": [
      "[2024-02-28 22:18:53,480] - obspy.clients.fdsn.mass_downloader - INFO: Client 'http://service.iris.edu' - Status for 51 time intervals/channels before downloading: EXISTS\n"
     ]
    },
    {
     "name": "stderr",
     "output_type": "stream",
     "text": [
      "[2024-02-28 22:18:53,485] - obspy.clients.fdsn.mass_downloader - INFO: Client 'http://service.iris.edu' - Status for 6 time intervals/channels before downloading: NEEDS_DOWNLOADING\n"
     ]
    },
    {
     "name": "stderr",
     "output_type": "stream",
     "text": [
      "[2024-02-28 22:18:53,485] - obspy.clients.fdsn.mass_downloader - INFO: Client 'http://service.iris.edu' - Status for 6 time intervals/channels before downloading: NEEDS_DOWNLOADING\n"
     ]
    },
    {
     "name": "stderr",
     "output_type": "stream",
     "text": [
      "[2024-02-28 22:18:53,485] - obspy.clients.fdsn.mass_downloader - INFO: Client 'http://service.iris.edu' - Status for 6 time intervals/channels before downloading: NEEDS_DOWNLOADING\n"
     ]
    },
    {
     "name": "stderr",
     "output_type": "stream",
     "text": [
      "[2024-02-28 22:18:53,485] - obspy.clients.fdsn.mass_downloader - INFO: Client 'http://service.iris.edu' - Status for 6 time intervals/channels before downloading: NEEDS_DOWNLOADING\n"
     ]
    },
    {
     "name": "stderr",
     "output_type": "stream",
     "text": [
      "[2024-02-28 22:18:53,485] - obspy.clients.fdsn.mass_downloader - INFO: Client 'http://service.iris.edu' - Status for 6 time intervals/channels before downloading: NEEDS_DOWNLOADING\n"
     ]
    },
    {
     "name": "stderr",
     "output_type": "stream",
     "text": [
      "[2024-02-28 22:18:53,485] - obspy.clients.fdsn.mass_downloader - INFO: Client 'http://service.iris.edu' - Status for 6 time intervals/channels before downloading: NEEDS_DOWNLOADING\n"
     ]
    },
    {
     "name": "stderr",
     "output_type": "stream",
     "text": [
      "[2024-02-28 22:18:53,485] - obspy.clients.fdsn.mass_downloader - INFO: Client 'http://service.iris.edu' - Status for 6 time intervals/channels before downloading: NEEDS_DOWNLOADING\n"
     ]
    },
    {
     "name": "stderr",
     "output_type": "stream",
     "text": [
      "[2024-02-28 22:18:53,485] - obspy.clients.fdsn.mass_downloader - INFO: Client 'http://service.iris.edu' - Status for 6 time intervals/channels before downloading: NEEDS_DOWNLOADING\n"
     ]
    },
    {
     "name": "stderr",
     "output_type": "stream",
     "text": [
      "[2024-02-28 22:18:53,485] - obspy.clients.fdsn.mass_downloader - INFO: Client 'http://service.iris.edu' - Status for 6 time intervals/channels before downloading: NEEDS_DOWNLOADING\n"
     ]
    },
    {
     "name": "stderr",
     "output_type": "stream",
     "text": [
      "[2024-02-28 22:18:53,485] - obspy.clients.fdsn.mass_downloader - INFO: Client 'http://service.iris.edu' - Status for 6 time intervals/channels before downloading: NEEDS_DOWNLOADING\n"
     ]
    },
    {
     "name": "stderr",
     "output_type": "stream",
     "text": [
      "[2024-02-28 22:18:53,485] - obspy.clients.fdsn.mass_downloader - INFO: Client 'http://service.iris.edu' - Status for 6 time intervals/channels before downloading: NEEDS_DOWNLOADING\n"
     ]
    },
    {
     "name": "stderr",
     "output_type": "stream",
     "text": [
      "[2024-02-28 22:18:53,485] - obspy.clients.fdsn.mass_downloader - INFO: Client 'http://service.iris.edu' - Status for 6 time intervals/channels before downloading: NEEDS_DOWNLOADING\n"
     ]
    },
    {
     "name": "stderr",
     "output_type": "stream",
     "text": [
      "[2024-02-28 22:18:53,485] - obspy.clients.fdsn.mass_downloader - INFO: Client 'http://service.iris.edu' - Status for 6 time intervals/channels before downloading: NEEDS_DOWNLOADING\n"
     ]
    },
    {
     "name": "stderr",
     "output_type": "stream",
     "text": [
      "[2024-02-28 22:18:53,887] - obspy.clients.fdsn.mass_downloader - INFO: Client 'http://service.iris.edu' - No data available for request.\n",
      "HTTP Status code: 204\n"
     ]
    },
    {
     "name": "stderr",
     "output_type": "stream",
     "text": [
      "[2024-02-28 22:18:53,887] - obspy.clients.fdsn.mass_downloader - INFO: Client 'http://service.iris.edu' - No data available for request.\n",
      "HTTP Status code: 204\n"
     ]
    },
    {
     "name": "stderr",
     "output_type": "stream",
     "text": [
      "[2024-02-28 22:18:53,887] - obspy.clients.fdsn.mass_downloader - INFO: Client 'http://service.iris.edu' - No data available for request.\n",
      "HTTP Status code: 204\n"
     ]
    },
    {
     "name": "stderr",
     "output_type": "stream",
     "text": [
      "[2024-02-28 22:18:53,887] - obspy.clients.fdsn.mass_downloader - INFO: Client 'http://service.iris.edu' - No data available for request.\n",
      "HTTP Status code: 204\n"
     ]
    },
    {
     "name": "stderr",
     "output_type": "stream",
     "text": [
      "[2024-02-28 22:18:53,887] - obspy.clients.fdsn.mass_downloader - INFO: Client 'http://service.iris.edu' - No data available for request.\n",
      "HTTP Status code: 204\n"
     ]
    },
    {
     "name": "stderr",
     "output_type": "stream",
     "text": [
      "[2024-02-28 22:18:53,887] - obspy.clients.fdsn.mass_downloader - INFO: Client 'http://service.iris.edu' - No data available for request.\n",
      "HTTP Status code: 204\n"
     ]
    },
    {
     "name": "stderr",
     "output_type": "stream",
     "text": [
      "[2024-02-28 22:18:53,887] - obspy.clients.fdsn.mass_downloader - INFO: Client 'http://service.iris.edu' - No data available for request.\n",
      "HTTP Status code: 204\n"
     ]
    },
    {
     "name": "stderr",
     "output_type": "stream",
     "text": [
      "[2024-02-28 22:18:53,887] - obspy.clients.fdsn.mass_downloader - INFO: Client 'http://service.iris.edu' - No data available for request.\n",
      "HTTP Status code: 204\n"
     ]
    },
    {
     "name": "stderr",
     "output_type": "stream",
     "text": [
      "[2024-02-28 22:18:53,887] - obspy.clients.fdsn.mass_downloader - INFO: Client 'http://service.iris.edu' - No data available for request.\n",
      "HTTP Status code: 204\n"
     ]
    },
    {
     "name": "stderr",
     "output_type": "stream",
     "text": [
      "[2024-02-28 22:18:53,887] - obspy.clients.fdsn.mass_downloader - INFO: Client 'http://service.iris.edu' - No data available for request.\n",
      "HTTP Status code: 204\n"
     ]
    },
    {
     "name": "stderr",
     "output_type": "stream",
     "text": [
      "[2024-02-28 22:18:53,887] - obspy.clients.fdsn.mass_downloader - INFO: Client 'http://service.iris.edu' - No data available for request.\n",
      "HTTP Status code: 204\n"
     ]
    },
    {
     "name": "stderr",
     "output_type": "stream",
     "text": [
      "[2024-02-28 22:18:53,887] - obspy.clients.fdsn.mass_downloader - INFO: Client 'http://service.iris.edu' - No data available for request.\n",
      "HTTP Status code: 204\n"
     ]
    },
    {
     "name": "stderr",
     "output_type": "stream",
     "text": [
      "[2024-02-28 22:18:53,887] - obspy.clients.fdsn.mass_downloader - INFO: Client 'http://service.iris.edu' - No data available for request.\n",
      "HTTP Status code: 204\n"
     ]
    },
    {
     "name": "stderr",
     "output_type": "stream",
     "text": [
      "[2024-02-28 22:18:53,894] - obspy.clients.fdsn.mass_downloader - INFO: Client 'http://service.iris.edu' - Launching basic QC checks...\n"
     ]
    },
    {
     "name": "stderr",
     "output_type": "stream",
     "text": [
      "[2024-02-28 22:18:53,894] - obspy.clients.fdsn.mass_downloader - INFO: Client 'http://service.iris.edu' - Launching basic QC checks...\n"
     ]
    },
    {
     "name": "stderr",
     "output_type": "stream",
     "text": [
      "[2024-02-28 22:18:53,894] - obspy.clients.fdsn.mass_downloader - INFO: Client 'http://service.iris.edu' - Launching basic QC checks...\n"
     ]
    },
    {
     "name": "stderr",
     "output_type": "stream",
     "text": [
      "[2024-02-28 22:18:53,894] - obspy.clients.fdsn.mass_downloader - INFO: Client 'http://service.iris.edu' - Launching basic QC checks...\n"
     ]
    },
    {
     "name": "stderr",
     "output_type": "stream",
     "text": [
      "[2024-02-28 22:18:53,894] - obspy.clients.fdsn.mass_downloader - INFO: Client 'http://service.iris.edu' - Launching basic QC checks...\n"
     ]
    },
    {
     "name": "stderr",
     "output_type": "stream",
     "text": [
      "[2024-02-28 22:18:53,894] - obspy.clients.fdsn.mass_downloader - INFO: Client 'http://service.iris.edu' - Launching basic QC checks...\n"
     ]
    },
    {
     "name": "stderr",
     "output_type": "stream",
     "text": [
      "[2024-02-28 22:18:53,894] - obspy.clients.fdsn.mass_downloader - INFO: Client 'http://service.iris.edu' - Launching basic QC checks...\n"
     ]
    },
    {
     "name": "stderr",
     "output_type": "stream",
     "text": [
      "[2024-02-28 22:18:53,894] - obspy.clients.fdsn.mass_downloader - INFO: Client 'http://service.iris.edu' - Launching basic QC checks...\n"
     ]
    },
    {
     "name": "stderr",
     "output_type": "stream",
     "text": [
      "[2024-02-28 22:18:53,894] - obspy.clients.fdsn.mass_downloader - INFO: Client 'http://service.iris.edu' - Launching basic QC checks...\n"
     ]
    },
    {
     "name": "stderr",
     "output_type": "stream",
     "text": [
      "[2024-02-28 22:18:53,894] - obspy.clients.fdsn.mass_downloader - INFO: Client 'http://service.iris.edu' - Launching basic QC checks...\n"
     ]
    },
    {
     "name": "stderr",
     "output_type": "stream",
     "text": [
      "[2024-02-28 22:18:53,894] - obspy.clients.fdsn.mass_downloader - INFO: Client 'http://service.iris.edu' - Launching basic QC checks...\n"
     ]
    },
    {
     "name": "stderr",
     "output_type": "stream",
     "text": [
      "[2024-02-28 22:18:53,894] - obspy.clients.fdsn.mass_downloader - INFO: Client 'http://service.iris.edu' - Launching basic QC checks...\n"
     ]
    },
    {
     "name": "stderr",
     "output_type": "stream",
     "text": [
      "[2024-02-28 22:18:53,894] - obspy.clients.fdsn.mass_downloader - INFO: Client 'http://service.iris.edu' - Launching basic QC checks...\n"
     ]
    },
    {
     "name": "stderr",
     "output_type": "stream",
     "text": [
      "[2024-02-28 22:18:53,899] - obspy.clients.fdsn.mass_downloader - INFO: Client 'http://service.iris.edu' - Downloaded 0.0 MB [0.00 KB/sec] of data, 0.0 MB of which were discarded afterwards.\n"
     ]
    },
    {
     "name": "stderr",
     "output_type": "stream",
     "text": [
      "[2024-02-28 22:18:53,899] - obspy.clients.fdsn.mass_downloader - INFO: Client 'http://service.iris.edu' - Downloaded 0.0 MB [0.00 KB/sec] of data, 0.0 MB of which were discarded afterwards.\n"
     ]
    },
    {
     "name": "stderr",
     "output_type": "stream",
     "text": [
      "[2024-02-28 22:18:53,899] - obspy.clients.fdsn.mass_downloader - INFO: Client 'http://service.iris.edu' - Downloaded 0.0 MB [0.00 KB/sec] of data, 0.0 MB of which were discarded afterwards.\n"
     ]
    },
    {
     "name": "stderr",
     "output_type": "stream",
     "text": [
      "[2024-02-28 22:18:53,899] - obspy.clients.fdsn.mass_downloader - INFO: Client 'http://service.iris.edu' - Downloaded 0.0 MB [0.00 KB/sec] of data, 0.0 MB of which were discarded afterwards.\n"
     ]
    },
    {
     "name": "stderr",
     "output_type": "stream",
     "text": [
      "[2024-02-28 22:18:53,899] - obspy.clients.fdsn.mass_downloader - INFO: Client 'http://service.iris.edu' - Downloaded 0.0 MB [0.00 KB/sec] of data, 0.0 MB of which were discarded afterwards.\n"
     ]
    },
    {
     "name": "stderr",
     "output_type": "stream",
     "text": [
      "[2024-02-28 22:18:53,899] - obspy.clients.fdsn.mass_downloader - INFO: Client 'http://service.iris.edu' - Downloaded 0.0 MB [0.00 KB/sec] of data, 0.0 MB of which were discarded afterwards.\n"
     ]
    },
    {
     "name": "stderr",
     "output_type": "stream",
     "text": [
      "[2024-02-28 22:18:53,899] - obspy.clients.fdsn.mass_downloader - INFO: Client 'http://service.iris.edu' - Downloaded 0.0 MB [0.00 KB/sec] of data, 0.0 MB of which were discarded afterwards.\n"
     ]
    },
    {
     "name": "stderr",
     "output_type": "stream",
     "text": [
      "[2024-02-28 22:18:53,899] - obspy.clients.fdsn.mass_downloader - INFO: Client 'http://service.iris.edu' - Downloaded 0.0 MB [0.00 KB/sec] of data, 0.0 MB of which were discarded afterwards.\n"
     ]
    },
    {
     "name": "stderr",
     "output_type": "stream",
     "text": [
      "[2024-02-28 22:18:53,899] - obspy.clients.fdsn.mass_downloader - INFO: Client 'http://service.iris.edu' - Downloaded 0.0 MB [0.00 KB/sec] of data, 0.0 MB of which were discarded afterwards.\n"
     ]
    },
    {
     "name": "stderr",
     "output_type": "stream",
     "text": [
      "[2024-02-28 22:18:53,899] - obspy.clients.fdsn.mass_downloader - INFO: Client 'http://service.iris.edu' - Downloaded 0.0 MB [0.00 KB/sec] of data, 0.0 MB of which were discarded afterwards.\n"
     ]
    },
    {
     "name": "stderr",
     "output_type": "stream",
     "text": [
      "[2024-02-28 22:18:53,899] - obspy.clients.fdsn.mass_downloader - INFO: Client 'http://service.iris.edu' - Downloaded 0.0 MB [0.00 KB/sec] of data, 0.0 MB of which were discarded afterwards.\n"
     ]
    },
    {
     "name": "stderr",
     "output_type": "stream",
     "text": [
      "[2024-02-28 22:18:53,899] - obspy.clients.fdsn.mass_downloader - INFO: Client 'http://service.iris.edu' - Downloaded 0.0 MB [0.00 KB/sec] of data, 0.0 MB of which were discarded afterwards.\n"
     ]
    },
    {
     "name": "stderr",
     "output_type": "stream",
     "text": [
      "[2024-02-28 22:18:53,899] - obspy.clients.fdsn.mass_downloader - INFO: Client 'http://service.iris.edu' - Downloaded 0.0 MB [0.00 KB/sec] of data, 0.0 MB of which were discarded afterwards.\n"
     ]
    },
    {
     "name": "stderr",
     "output_type": "stream",
     "text": [
      "[2024-02-28 22:18:53,903] - obspy.clients.fdsn.mass_downloader - INFO: Client 'http://service.iris.edu' - Status for 6 time intervals/channels after downloading: DOWNLOAD_FAILED\n"
     ]
    },
    {
     "name": "stderr",
     "output_type": "stream",
     "text": [
      "[2024-02-28 22:18:53,903] - obspy.clients.fdsn.mass_downloader - INFO: Client 'http://service.iris.edu' - Status for 6 time intervals/channels after downloading: DOWNLOAD_FAILED\n"
     ]
    },
    {
     "name": "stderr",
     "output_type": "stream",
     "text": [
      "[2024-02-28 22:18:53,903] - obspy.clients.fdsn.mass_downloader - INFO: Client 'http://service.iris.edu' - Status for 6 time intervals/channels after downloading: DOWNLOAD_FAILED\n"
     ]
    },
    {
     "name": "stderr",
     "output_type": "stream",
     "text": [
      "[2024-02-28 22:18:53,903] - obspy.clients.fdsn.mass_downloader - INFO: Client 'http://service.iris.edu' - Status for 6 time intervals/channels after downloading: DOWNLOAD_FAILED\n"
     ]
    },
    {
     "name": "stderr",
     "output_type": "stream",
     "text": [
      "[2024-02-28 22:18:53,903] - obspy.clients.fdsn.mass_downloader - INFO: Client 'http://service.iris.edu' - Status for 6 time intervals/channels after downloading: DOWNLOAD_FAILED\n"
     ]
    },
    {
     "name": "stderr",
     "output_type": "stream",
     "text": [
      "[2024-02-28 22:18:53,903] - obspy.clients.fdsn.mass_downloader - INFO: Client 'http://service.iris.edu' - Status for 6 time intervals/channels after downloading: DOWNLOAD_FAILED\n"
     ]
    },
    {
     "name": "stderr",
     "output_type": "stream",
     "text": [
      "[2024-02-28 22:18:53,903] - obspy.clients.fdsn.mass_downloader - INFO: Client 'http://service.iris.edu' - Status for 6 time intervals/channels after downloading: DOWNLOAD_FAILED\n"
     ]
    },
    {
     "name": "stderr",
     "output_type": "stream",
     "text": [
      "[2024-02-28 22:18:53,903] - obspy.clients.fdsn.mass_downloader - INFO: Client 'http://service.iris.edu' - Status for 6 time intervals/channels after downloading: DOWNLOAD_FAILED\n"
     ]
    },
    {
     "name": "stderr",
     "output_type": "stream",
     "text": [
      "[2024-02-28 22:18:53,903] - obspy.clients.fdsn.mass_downloader - INFO: Client 'http://service.iris.edu' - Status for 6 time intervals/channels after downloading: DOWNLOAD_FAILED\n"
     ]
    },
    {
     "name": "stderr",
     "output_type": "stream",
     "text": [
      "[2024-02-28 22:18:53,903] - obspy.clients.fdsn.mass_downloader - INFO: Client 'http://service.iris.edu' - Status for 6 time intervals/channels after downloading: DOWNLOAD_FAILED\n"
     ]
    },
    {
     "name": "stderr",
     "output_type": "stream",
     "text": [
      "[2024-02-28 22:18:53,903] - obspy.clients.fdsn.mass_downloader - INFO: Client 'http://service.iris.edu' - Status for 6 time intervals/channels after downloading: DOWNLOAD_FAILED\n"
     ]
    },
    {
     "name": "stderr",
     "output_type": "stream",
     "text": [
      "[2024-02-28 22:18:53,903] - obspy.clients.fdsn.mass_downloader - INFO: Client 'http://service.iris.edu' - Status for 6 time intervals/channels after downloading: DOWNLOAD_FAILED\n"
     ]
    },
    {
     "name": "stderr",
     "output_type": "stream",
     "text": [
      "[2024-02-28 22:18:53,903] - obspy.clients.fdsn.mass_downloader - INFO: Client 'http://service.iris.edu' - Status for 6 time intervals/channels after downloading: DOWNLOAD_FAILED\n"
     ]
    },
    {
     "name": "stderr",
     "output_type": "stream",
     "text": [
      "[2024-02-28 22:18:53,911] - obspy.clients.fdsn.mass_downloader - INFO: Client 'http://service.iris.edu' - Status for 51 time intervals/channels after downloading: EXISTS\n"
     ]
    },
    {
     "name": "stderr",
     "output_type": "stream",
     "text": [
      "[2024-02-28 22:18:53,911] - obspy.clients.fdsn.mass_downloader - INFO: Client 'http://service.iris.edu' - Status for 51 time intervals/channels after downloading: EXISTS\n"
     ]
    },
    {
     "name": "stderr",
     "output_type": "stream",
     "text": [
      "[2024-02-28 22:18:53,911] - obspy.clients.fdsn.mass_downloader - INFO: Client 'http://service.iris.edu' - Status for 51 time intervals/channels after downloading: EXISTS\n"
     ]
    },
    {
     "name": "stderr",
     "output_type": "stream",
     "text": [
      "[2024-02-28 22:18:53,911] - obspy.clients.fdsn.mass_downloader - INFO: Client 'http://service.iris.edu' - Status for 51 time intervals/channels after downloading: EXISTS\n"
     ]
    },
    {
     "name": "stderr",
     "output_type": "stream",
     "text": [
      "[2024-02-28 22:18:53,911] - obspy.clients.fdsn.mass_downloader - INFO: Client 'http://service.iris.edu' - Status for 51 time intervals/channels after downloading: EXISTS\n"
     ]
    },
    {
     "name": "stderr",
     "output_type": "stream",
     "text": [
      "[2024-02-28 22:18:53,911] - obspy.clients.fdsn.mass_downloader - INFO: Client 'http://service.iris.edu' - Status for 51 time intervals/channels after downloading: EXISTS\n"
     ]
    },
    {
     "name": "stderr",
     "output_type": "stream",
     "text": [
      "[2024-02-28 22:18:53,911] - obspy.clients.fdsn.mass_downloader - INFO: Client 'http://service.iris.edu' - Status for 51 time intervals/channels after downloading: EXISTS\n"
     ]
    },
    {
     "name": "stderr",
     "output_type": "stream",
     "text": [
      "[2024-02-28 22:18:53,911] - obspy.clients.fdsn.mass_downloader - INFO: Client 'http://service.iris.edu' - Status for 51 time intervals/channels after downloading: EXISTS\n"
     ]
    },
    {
     "name": "stderr",
     "output_type": "stream",
     "text": [
      "[2024-02-28 22:18:53,911] - obspy.clients.fdsn.mass_downloader - INFO: Client 'http://service.iris.edu' - Status for 51 time intervals/channels after downloading: EXISTS\n"
     ]
    },
    {
     "name": "stderr",
     "output_type": "stream",
     "text": [
      "[2024-02-28 22:18:53,911] - obspy.clients.fdsn.mass_downloader - INFO: Client 'http://service.iris.edu' - Status for 51 time intervals/channels after downloading: EXISTS\n"
     ]
    },
    {
     "name": "stderr",
     "output_type": "stream",
     "text": [
      "[2024-02-28 22:18:53,911] - obspy.clients.fdsn.mass_downloader - INFO: Client 'http://service.iris.edu' - Status for 51 time intervals/channels after downloading: EXISTS\n"
     ]
    },
    {
     "name": "stderr",
     "output_type": "stream",
     "text": [
      "[2024-02-28 22:18:53,911] - obspy.clients.fdsn.mass_downloader - INFO: Client 'http://service.iris.edu' - Status for 51 time intervals/channels after downloading: EXISTS\n"
     ]
    },
    {
     "name": "stderr",
     "output_type": "stream",
     "text": [
      "[2024-02-28 22:18:53,911] - obspy.clients.fdsn.mass_downloader - INFO: Client 'http://service.iris.edu' - Status for 51 time intervals/channels after downloading: EXISTS\n"
     ]
    },
    {
     "name": "stderr",
     "output_type": "stream",
     "text": [
      "[2024-02-28 22:18:53,937] - obspy.clients.fdsn.mass_downloader - INFO: Client 'http://service.iris.edu' - No station information to download.\n"
     ]
    },
    {
     "name": "stderr",
     "output_type": "stream",
     "text": [
      "[2024-02-28 22:18:53,937] - obspy.clients.fdsn.mass_downloader - INFO: Client 'http://service.iris.edu' - No station information to download.\n"
     ]
    },
    {
     "name": "stderr",
     "output_type": "stream",
     "text": [
      "[2024-02-28 22:18:53,937] - obspy.clients.fdsn.mass_downloader - INFO: Client 'http://service.iris.edu' - No station information to download.\n"
     ]
    },
    {
     "name": "stderr",
     "output_type": "stream",
     "text": [
      "[2024-02-28 22:18:53,937] - obspy.clients.fdsn.mass_downloader - INFO: Client 'http://service.iris.edu' - No station information to download.\n"
     ]
    },
    {
     "name": "stderr",
     "output_type": "stream",
     "text": [
      "[2024-02-28 22:18:53,937] - obspy.clients.fdsn.mass_downloader - INFO: Client 'http://service.iris.edu' - No station information to download.\n"
     ]
    },
    {
     "name": "stderr",
     "output_type": "stream",
     "text": [
      "[2024-02-28 22:18:53,937] - obspy.clients.fdsn.mass_downloader - INFO: Client 'http://service.iris.edu' - No station information to download.\n"
     ]
    },
    {
     "name": "stderr",
     "output_type": "stream",
     "text": [
      "[2024-02-28 22:18:53,937] - obspy.clients.fdsn.mass_downloader - INFO: Client 'http://service.iris.edu' - No station information to download.\n"
     ]
    },
    {
     "name": "stderr",
     "output_type": "stream",
     "text": [
      "[2024-02-28 22:18:53,937] - obspy.clients.fdsn.mass_downloader - INFO: Client 'http://service.iris.edu' - No station information to download.\n"
     ]
    },
    {
     "name": "stderr",
     "output_type": "stream",
     "text": [
      "[2024-02-28 22:18:53,937] - obspy.clients.fdsn.mass_downloader - INFO: Client 'http://service.iris.edu' - No station information to download.\n"
     ]
    },
    {
     "name": "stderr",
     "output_type": "stream",
     "text": [
      "[2024-02-28 22:18:53,937] - obspy.clients.fdsn.mass_downloader - INFO: Client 'http://service.iris.edu' - No station information to download.\n"
     ]
    },
    {
     "name": "stderr",
     "output_type": "stream",
     "text": [
      "[2024-02-28 22:18:53,937] - obspy.clients.fdsn.mass_downloader - INFO: Client 'http://service.iris.edu' - No station information to download.\n"
     ]
    },
    {
     "name": "stderr",
     "output_type": "stream",
     "text": [
      "[2024-02-28 22:18:53,937] - obspy.clients.fdsn.mass_downloader - INFO: Client 'http://service.iris.edu' - No station information to download.\n"
     ]
    },
    {
     "name": "stderr",
     "output_type": "stream",
     "text": [
      "[2024-02-28 22:18:53,937] - obspy.clients.fdsn.mass_downloader - INFO: Client 'http://service.iris.edu' - No station information to download.\n"
     ]
    },
    {
     "name": "stderr",
     "output_type": "stream",
     "text": [
      "[2024-02-28 22:18:53,942] - obspy.clients.fdsn.mass_downloader - INFO: ============================== Final report\n"
     ]
    },
    {
     "name": "stderr",
     "output_type": "stream",
     "text": [
      "[2024-02-28 22:18:53,942] - obspy.clients.fdsn.mass_downloader - INFO: ============================== Final report\n"
     ]
    },
    {
     "name": "stderr",
     "output_type": "stream",
     "text": [
      "[2024-02-28 22:18:53,942] - obspy.clients.fdsn.mass_downloader - INFO: ============================== Final report\n"
     ]
    },
    {
     "name": "stderr",
     "output_type": "stream",
     "text": [
      "[2024-02-28 22:18:53,942] - obspy.clients.fdsn.mass_downloader - INFO: ============================== Final report\n"
     ]
    },
    {
     "name": "stderr",
     "output_type": "stream",
     "text": [
      "[2024-02-28 22:18:53,942] - obspy.clients.fdsn.mass_downloader - INFO: ============================== Final report\n"
     ]
    },
    {
     "name": "stderr",
     "output_type": "stream",
     "text": [
      "[2024-02-28 22:18:53,942] - obspy.clients.fdsn.mass_downloader - INFO: ============================== Final report\n"
     ]
    },
    {
     "name": "stderr",
     "output_type": "stream",
     "text": [
      "[2024-02-28 22:18:53,942] - obspy.clients.fdsn.mass_downloader - INFO: ============================== Final report\n"
     ]
    },
    {
     "name": "stderr",
     "output_type": "stream",
     "text": [
      "[2024-02-28 22:18:53,942] - obspy.clients.fdsn.mass_downloader - INFO: ============================== Final report\n"
     ]
    },
    {
     "name": "stderr",
     "output_type": "stream",
     "text": [
      "[2024-02-28 22:18:53,942] - obspy.clients.fdsn.mass_downloader - INFO: ============================== Final report\n"
     ]
    },
    {
     "name": "stderr",
     "output_type": "stream",
     "text": [
      "[2024-02-28 22:18:53,942] - obspy.clients.fdsn.mass_downloader - INFO: ============================== Final report\n"
     ]
    },
    {
     "name": "stderr",
     "output_type": "stream",
     "text": [
      "[2024-02-28 22:18:53,942] - obspy.clients.fdsn.mass_downloader - INFO: ============================== Final report\n"
     ]
    },
    {
     "name": "stderr",
     "output_type": "stream",
     "text": [
      "[2024-02-28 22:18:53,942] - obspy.clients.fdsn.mass_downloader - INFO: ============================== Final report\n"
     ]
    },
    {
     "name": "stderr",
     "output_type": "stream",
     "text": [
      "[2024-02-28 22:18:53,942] - obspy.clients.fdsn.mass_downloader - INFO: ============================== Final report\n"
     ]
    },
    {
     "name": "stderr",
     "output_type": "stream",
     "text": [
      "[2024-02-28 22:18:53,949] - obspy.clients.fdsn.mass_downloader - INFO: 51 MiniSEED files [0.3 MB] already existed.\n"
     ]
    },
    {
     "name": "stderr",
     "output_type": "stream",
     "text": [
      "[2024-02-28 22:18:53,949] - obspy.clients.fdsn.mass_downloader - INFO: 51 MiniSEED files [0.3 MB] already existed.\n"
     ]
    },
    {
     "name": "stderr",
     "output_type": "stream",
     "text": [
      "[2024-02-28 22:18:53,949] - obspy.clients.fdsn.mass_downloader - INFO: 51 MiniSEED files [0.3 MB] already existed.\n"
     ]
    },
    {
     "name": "stderr",
     "output_type": "stream",
     "text": [
      "[2024-02-28 22:18:53,949] - obspy.clients.fdsn.mass_downloader - INFO: 51 MiniSEED files [0.3 MB] already existed.\n"
     ]
    },
    {
     "name": "stderr",
     "output_type": "stream",
     "text": [
      "[2024-02-28 22:18:53,949] - obspy.clients.fdsn.mass_downloader - INFO: 51 MiniSEED files [0.3 MB] already existed.\n"
     ]
    },
    {
     "name": "stderr",
     "output_type": "stream",
     "text": [
      "[2024-02-28 22:18:53,949] - obspy.clients.fdsn.mass_downloader - INFO: 51 MiniSEED files [0.3 MB] already existed.\n"
     ]
    },
    {
     "name": "stderr",
     "output_type": "stream",
     "text": [
      "[2024-02-28 22:18:53,949] - obspy.clients.fdsn.mass_downloader - INFO: 51 MiniSEED files [0.3 MB] already existed.\n"
     ]
    },
    {
     "name": "stderr",
     "output_type": "stream",
     "text": [
      "[2024-02-28 22:18:53,949] - obspy.clients.fdsn.mass_downloader - INFO: 51 MiniSEED files [0.3 MB] already existed.\n"
     ]
    },
    {
     "name": "stderr",
     "output_type": "stream",
     "text": [
      "[2024-02-28 22:18:53,949] - obspy.clients.fdsn.mass_downloader - INFO: 51 MiniSEED files [0.3 MB] already existed.\n"
     ]
    },
    {
     "name": "stderr",
     "output_type": "stream",
     "text": [
      "[2024-02-28 22:18:53,949] - obspy.clients.fdsn.mass_downloader - INFO: 51 MiniSEED files [0.3 MB] already existed.\n"
     ]
    },
    {
     "name": "stderr",
     "output_type": "stream",
     "text": [
      "[2024-02-28 22:18:53,949] - obspy.clients.fdsn.mass_downloader - INFO: 51 MiniSEED files [0.3 MB] already existed.\n"
     ]
    },
    {
     "name": "stderr",
     "output_type": "stream",
     "text": [
      "[2024-02-28 22:18:53,949] - obspy.clients.fdsn.mass_downloader - INFO: 51 MiniSEED files [0.3 MB] already existed.\n"
     ]
    },
    {
     "name": "stderr",
     "output_type": "stream",
     "text": [
      "[2024-02-28 22:18:53,949] - obspy.clients.fdsn.mass_downloader - INFO: 51 MiniSEED files [0.3 MB] already existed.\n"
     ]
    },
    {
     "name": "stderr",
     "output_type": "stream",
     "text": [
      "[2024-02-28 22:18:53,956] - obspy.clients.fdsn.mass_downloader - INFO: 17 StationXML files [0.4 MB] already existed.\n"
     ]
    },
    {
     "name": "stderr",
     "output_type": "stream",
     "text": [
      "[2024-02-28 22:18:53,956] - obspy.clients.fdsn.mass_downloader - INFO: 17 StationXML files [0.4 MB] already existed.\n"
     ]
    },
    {
     "name": "stderr",
     "output_type": "stream",
     "text": [
      "[2024-02-28 22:18:53,956] - obspy.clients.fdsn.mass_downloader - INFO: 17 StationXML files [0.4 MB] already existed.\n"
     ]
    },
    {
     "name": "stderr",
     "output_type": "stream",
     "text": [
      "[2024-02-28 22:18:53,956] - obspy.clients.fdsn.mass_downloader - INFO: 17 StationXML files [0.4 MB] already existed.\n"
     ]
    },
    {
     "name": "stderr",
     "output_type": "stream",
     "text": [
      "[2024-02-28 22:18:53,956] - obspy.clients.fdsn.mass_downloader - INFO: 17 StationXML files [0.4 MB] already existed.\n"
     ]
    },
    {
     "name": "stderr",
     "output_type": "stream",
     "text": [
      "[2024-02-28 22:18:53,956] - obspy.clients.fdsn.mass_downloader - INFO: 17 StationXML files [0.4 MB] already existed.\n"
     ]
    },
    {
     "name": "stderr",
     "output_type": "stream",
     "text": [
      "[2024-02-28 22:18:53,956] - obspy.clients.fdsn.mass_downloader - INFO: 17 StationXML files [0.4 MB] already existed.\n"
     ]
    },
    {
     "name": "stderr",
     "output_type": "stream",
     "text": [
      "[2024-02-28 22:18:53,956] - obspy.clients.fdsn.mass_downloader - INFO: 17 StationXML files [0.4 MB] already existed.\n"
     ]
    },
    {
     "name": "stderr",
     "output_type": "stream",
     "text": [
      "[2024-02-28 22:18:53,956] - obspy.clients.fdsn.mass_downloader - INFO: 17 StationXML files [0.4 MB] already existed.\n"
     ]
    },
    {
     "name": "stderr",
     "output_type": "stream",
     "text": [
      "[2024-02-28 22:18:53,956] - obspy.clients.fdsn.mass_downloader - INFO: 17 StationXML files [0.4 MB] already existed.\n"
     ]
    },
    {
     "name": "stderr",
     "output_type": "stream",
     "text": [
      "[2024-02-28 22:18:53,956] - obspy.clients.fdsn.mass_downloader - INFO: 17 StationXML files [0.4 MB] already existed.\n"
     ]
    },
    {
     "name": "stderr",
     "output_type": "stream",
     "text": [
      "[2024-02-28 22:18:53,956] - obspy.clients.fdsn.mass_downloader - INFO: 17 StationXML files [0.4 MB] already existed.\n"
     ]
    },
    {
     "name": "stderr",
     "output_type": "stream",
     "text": [
      "[2024-02-28 22:18:53,956] - obspy.clients.fdsn.mass_downloader - INFO: 17 StationXML files [0.4 MB] already existed.\n"
     ]
    },
    {
     "name": "stderr",
     "output_type": "stream",
     "text": [
      "[2024-02-28 22:18:53,962] - obspy.clients.fdsn.mass_downloader - INFO: Client 'http://service.iris.edu' - Acquired 0 MiniSEED files [0.0 MB].\n"
     ]
    },
    {
     "name": "stderr",
     "output_type": "stream",
     "text": [
      "[2024-02-28 22:18:53,962] - obspy.clients.fdsn.mass_downloader - INFO: Client 'http://service.iris.edu' - Acquired 0 MiniSEED files [0.0 MB].\n"
     ]
    },
    {
     "name": "stderr",
     "output_type": "stream",
     "text": [
      "[2024-02-28 22:18:53,962] - obspy.clients.fdsn.mass_downloader - INFO: Client 'http://service.iris.edu' - Acquired 0 MiniSEED files [0.0 MB].\n"
     ]
    },
    {
     "name": "stderr",
     "output_type": "stream",
     "text": [
      "[2024-02-28 22:18:53,962] - obspy.clients.fdsn.mass_downloader - INFO: Client 'http://service.iris.edu' - Acquired 0 MiniSEED files [0.0 MB].\n"
     ]
    },
    {
     "name": "stderr",
     "output_type": "stream",
     "text": [
      "[2024-02-28 22:18:53,962] - obspy.clients.fdsn.mass_downloader - INFO: Client 'http://service.iris.edu' - Acquired 0 MiniSEED files [0.0 MB].\n"
     ]
    },
    {
     "name": "stderr",
     "output_type": "stream",
     "text": [
      "[2024-02-28 22:18:53,962] - obspy.clients.fdsn.mass_downloader - INFO: Client 'http://service.iris.edu' - Acquired 0 MiniSEED files [0.0 MB].\n"
     ]
    },
    {
     "name": "stderr",
     "output_type": "stream",
     "text": [
      "[2024-02-28 22:18:53,962] - obspy.clients.fdsn.mass_downloader - INFO: Client 'http://service.iris.edu' - Acquired 0 MiniSEED files [0.0 MB].\n"
     ]
    },
    {
     "name": "stderr",
     "output_type": "stream",
     "text": [
      "[2024-02-28 22:18:53,962] - obspy.clients.fdsn.mass_downloader - INFO: Client 'http://service.iris.edu' - Acquired 0 MiniSEED files [0.0 MB].\n"
     ]
    },
    {
     "name": "stderr",
     "output_type": "stream",
     "text": [
      "[2024-02-28 22:18:53,962] - obspy.clients.fdsn.mass_downloader - INFO: Client 'http://service.iris.edu' - Acquired 0 MiniSEED files [0.0 MB].\n"
     ]
    },
    {
     "name": "stderr",
     "output_type": "stream",
     "text": [
      "[2024-02-28 22:18:53,962] - obspy.clients.fdsn.mass_downloader - INFO: Client 'http://service.iris.edu' - Acquired 0 MiniSEED files [0.0 MB].\n"
     ]
    },
    {
     "name": "stderr",
     "output_type": "stream",
     "text": [
      "[2024-02-28 22:18:53,962] - obspy.clients.fdsn.mass_downloader - INFO: Client 'http://service.iris.edu' - Acquired 0 MiniSEED files [0.0 MB].\n"
     ]
    },
    {
     "name": "stderr",
     "output_type": "stream",
     "text": [
      "[2024-02-28 22:18:53,962] - obspy.clients.fdsn.mass_downloader - INFO: Client 'http://service.iris.edu' - Acquired 0 MiniSEED files [0.0 MB].\n"
     ]
    },
    {
     "name": "stderr",
     "output_type": "stream",
     "text": [
      "[2024-02-28 22:18:53,962] - obspy.clients.fdsn.mass_downloader - INFO: Client 'http://service.iris.edu' - Acquired 0 MiniSEED files [0.0 MB].\n"
     ]
    },
    {
     "name": "stderr",
     "output_type": "stream",
     "text": [
      "[2024-02-28 22:18:53,966] - obspy.clients.fdsn.mass_downloader - INFO: Client 'http://service.iris.edu' - Acquired 0 StationXML files [0.0 MB].\n"
     ]
    },
    {
     "name": "stderr",
     "output_type": "stream",
     "text": [
      "[2024-02-28 22:18:53,966] - obspy.clients.fdsn.mass_downloader - INFO: Client 'http://service.iris.edu' - Acquired 0 StationXML files [0.0 MB].\n"
     ]
    },
    {
     "name": "stderr",
     "output_type": "stream",
     "text": [
      "[2024-02-28 22:18:53,966] - obspy.clients.fdsn.mass_downloader - INFO: Client 'http://service.iris.edu' - Acquired 0 StationXML files [0.0 MB].\n"
     ]
    },
    {
     "name": "stderr",
     "output_type": "stream",
     "text": [
      "[2024-02-28 22:18:53,966] - obspy.clients.fdsn.mass_downloader - INFO: Client 'http://service.iris.edu' - Acquired 0 StationXML files [0.0 MB].\n"
     ]
    },
    {
     "name": "stderr",
     "output_type": "stream",
     "text": [
      "[2024-02-28 22:18:53,966] - obspy.clients.fdsn.mass_downloader - INFO: Client 'http://service.iris.edu' - Acquired 0 StationXML files [0.0 MB].\n"
     ]
    },
    {
     "name": "stderr",
     "output_type": "stream",
     "text": [
      "[2024-02-28 22:18:53,966] - obspy.clients.fdsn.mass_downloader - INFO: Client 'http://service.iris.edu' - Acquired 0 StationXML files [0.0 MB].\n"
     ]
    },
    {
     "name": "stderr",
     "output_type": "stream",
     "text": [
      "[2024-02-28 22:18:53,966] - obspy.clients.fdsn.mass_downloader - INFO: Client 'http://service.iris.edu' - Acquired 0 StationXML files [0.0 MB].\n"
     ]
    },
    {
     "name": "stderr",
     "output_type": "stream",
     "text": [
      "[2024-02-28 22:18:53,966] - obspy.clients.fdsn.mass_downloader - INFO: Client 'http://service.iris.edu' - Acquired 0 StationXML files [0.0 MB].\n"
     ]
    },
    {
     "name": "stderr",
     "output_type": "stream",
     "text": [
      "[2024-02-28 22:18:53,966] - obspy.clients.fdsn.mass_downloader - INFO: Client 'http://service.iris.edu' - Acquired 0 StationXML files [0.0 MB].\n"
     ]
    },
    {
     "name": "stderr",
     "output_type": "stream",
     "text": [
      "[2024-02-28 22:18:53,966] - obspy.clients.fdsn.mass_downloader - INFO: Client 'http://service.iris.edu' - Acquired 0 StationXML files [0.0 MB].\n"
     ]
    },
    {
     "name": "stderr",
     "output_type": "stream",
     "text": [
      "[2024-02-28 22:18:53,966] - obspy.clients.fdsn.mass_downloader - INFO: Client 'http://service.iris.edu' - Acquired 0 StationXML files [0.0 MB].\n"
     ]
    },
    {
     "name": "stderr",
     "output_type": "stream",
     "text": [
      "[2024-02-28 22:18:53,966] - obspy.clients.fdsn.mass_downloader - INFO: Client 'http://service.iris.edu' - Acquired 0 StationXML files [0.0 MB].\n"
     ]
    },
    {
     "name": "stderr",
     "output_type": "stream",
     "text": [
      "[2024-02-28 22:18:53,966] - obspy.clients.fdsn.mass_downloader - INFO: Client 'http://service.iris.edu' - Acquired 0 StationXML files [0.0 MB].\n"
     ]
    },
    {
     "name": "stderr",
     "output_type": "stream",
     "text": [
      "[2024-02-28 22:18:53,971] - obspy.clients.fdsn.mass_downloader - INFO: Downloaded 0.0 MB in total.\n"
     ]
    },
    {
     "name": "stderr",
     "output_type": "stream",
     "text": [
      "[2024-02-28 22:18:53,971] - obspy.clients.fdsn.mass_downloader - INFO: Downloaded 0.0 MB in total.\n"
     ]
    },
    {
     "name": "stderr",
     "output_type": "stream",
     "text": [
      "[2024-02-28 22:18:53,971] - obspy.clients.fdsn.mass_downloader - INFO: Downloaded 0.0 MB in total.\n"
     ]
    },
    {
     "name": "stderr",
     "output_type": "stream",
     "text": [
      "[2024-02-28 22:18:53,971] - obspy.clients.fdsn.mass_downloader - INFO: Downloaded 0.0 MB in total.\n"
     ]
    },
    {
     "name": "stderr",
     "output_type": "stream",
     "text": [
      "[2024-02-28 22:18:53,971] - obspy.clients.fdsn.mass_downloader - INFO: Downloaded 0.0 MB in total.\n"
     ]
    },
    {
     "name": "stderr",
     "output_type": "stream",
     "text": [
      "[2024-02-28 22:18:53,971] - obspy.clients.fdsn.mass_downloader - INFO: Downloaded 0.0 MB in total.\n"
     ]
    },
    {
     "name": "stderr",
     "output_type": "stream",
     "text": [
      "[2024-02-28 22:18:53,971] - obspy.clients.fdsn.mass_downloader - INFO: Downloaded 0.0 MB in total.\n"
     ]
    },
    {
     "name": "stderr",
     "output_type": "stream",
     "text": [
      "[2024-02-28 22:18:53,971] - obspy.clients.fdsn.mass_downloader - INFO: Downloaded 0.0 MB in total.\n"
     ]
    },
    {
     "name": "stderr",
     "output_type": "stream",
     "text": [
      "[2024-02-28 22:18:53,971] - obspy.clients.fdsn.mass_downloader - INFO: Downloaded 0.0 MB in total.\n"
     ]
    },
    {
     "name": "stderr",
     "output_type": "stream",
     "text": [
      "[2024-02-28 22:18:53,971] - obspy.clients.fdsn.mass_downloader - INFO: Downloaded 0.0 MB in total.\n"
     ]
    },
    {
     "name": "stderr",
     "output_type": "stream",
     "text": [
      "[2024-02-28 22:18:53,971] - obspy.clients.fdsn.mass_downloader - INFO: Downloaded 0.0 MB in total.\n"
     ]
    },
    {
     "name": "stderr",
     "output_type": "stream",
     "text": [
      "[2024-02-28 22:18:53,971] - obspy.clients.fdsn.mass_downloader - INFO: Downloaded 0.0 MB in total.\n"
     ]
    },
    {
     "name": "stderr",
     "output_type": "stream",
     "text": [
      "[2024-02-28 22:18:53,971] - obspy.clients.fdsn.mass_downloader - INFO: Downloaded 0.0 MB in total.\n"
     ]
    },
    {
     "name": "stderr",
     "output_type": "stream",
     "text": [
      "[2024-02-28 22:18:54,033] - obspy.clients.fdsn.mass_downloader - INFO: Initializing FDSN client(s) for http://service.iris.edu.\n"
     ]
    },
    {
     "name": "stderr",
     "output_type": "stream",
     "text": [
      "[2024-02-28 22:18:54,033] - obspy.clients.fdsn.mass_downloader - INFO: Initializing FDSN client(s) for http://service.iris.edu.\n"
     ]
    },
    {
     "name": "stderr",
     "output_type": "stream",
     "text": [
      "[2024-02-28 22:18:54,033] - obspy.clients.fdsn.mass_downloader - INFO: Initializing FDSN client(s) for http://service.iris.edu.\n"
     ]
    },
    {
     "name": "stderr",
     "output_type": "stream",
     "text": [
      "[2024-02-28 22:18:54,033] - obspy.clients.fdsn.mass_downloader - INFO: Initializing FDSN client(s) for http://service.iris.edu.\n"
     ]
    },
    {
     "name": "stderr",
     "output_type": "stream",
     "text": [
      "[2024-02-28 22:18:54,033] - obspy.clients.fdsn.mass_downloader - INFO: Initializing FDSN client(s) for http://service.iris.edu.\n"
     ]
    },
    {
     "name": "stderr",
     "output_type": "stream",
     "text": [
      "[2024-02-28 22:18:54,033] - obspy.clients.fdsn.mass_downloader - INFO: Initializing FDSN client(s) for http://service.iris.edu.\n"
     ]
    },
    {
     "name": "stderr",
     "output_type": "stream",
     "text": [
      "[2024-02-28 22:18:54,033] - obspy.clients.fdsn.mass_downloader - INFO: Initializing FDSN client(s) for http://service.iris.edu.\n"
     ]
    },
    {
     "name": "stderr",
     "output_type": "stream",
     "text": [
      "[2024-02-28 22:18:54,033] - obspy.clients.fdsn.mass_downloader - INFO: Initializing FDSN client(s) for http://service.iris.edu.\n"
     ]
    },
    {
     "name": "stderr",
     "output_type": "stream",
     "text": [
      "[2024-02-28 22:18:54,033] - obspy.clients.fdsn.mass_downloader - INFO: Initializing FDSN client(s) for http://service.iris.edu.\n"
     ]
    },
    {
     "name": "stderr",
     "output_type": "stream",
     "text": [
      "[2024-02-28 22:18:54,033] - obspy.clients.fdsn.mass_downloader - INFO: Initializing FDSN client(s) for http://service.iris.edu.\n"
     ]
    },
    {
     "name": "stderr",
     "output_type": "stream",
     "text": [
      "[2024-02-28 22:18:54,033] - obspy.clients.fdsn.mass_downloader - INFO: Initializing FDSN client(s) for http://service.iris.edu.\n"
     ]
    },
    {
     "name": "stderr",
     "output_type": "stream",
     "text": [
      "[2024-02-28 22:18:54,033] - obspy.clients.fdsn.mass_downloader - INFO: Initializing FDSN client(s) for http://service.iris.edu.\n"
     ]
    },
    {
     "name": "stderr",
     "output_type": "stream",
     "text": [
      "[2024-02-28 22:18:54,033] - obspy.clients.fdsn.mass_downloader - INFO: Initializing FDSN client(s) for http://service.iris.edu.\n"
     ]
    },
    {
     "name": "stderr",
     "output_type": "stream",
     "text": [
      "[2024-02-28 22:18:54,033] - obspy.clients.fdsn.mass_downloader - INFO: Initializing FDSN client(s) for http://service.iris.edu.\n"
     ]
    },
    {
     "name": "stderr",
     "output_type": "stream",
     "text": [
      "[2024-02-28 22:18:54,041] - obspy.clients.fdsn.mass_downloader - INFO: Successfully initialized 1 client(s): http://service.iris.edu.\n"
     ]
    },
    {
     "name": "stderr",
     "output_type": "stream",
     "text": [
      "[2024-02-28 22:18:54,041] - obspy.clients.fdsn.mass_downloader - INFO: Successfully initialized 1 client(s): http://service.iris.edu.\n"
     ]
    },
    {
     "name": "stderr",
     "output_type": "stream",
     "text": [
      "[2024-02-28 22:18:54,041] - obspy.clients.fdsn.mass_downloader - INFO: Successfully initialized 1 client(s): http://service.iris.edu.\n"
     ]
    },
    {
     "name": "stderr",
     "output_type": "stream",
     "text": [
      "[2024-02-28 22:18:54,041] - obspy.clients.fdsn.mass_downloader - INFO: Successfully initialized 1 client(s): http://service.iris.edu.\n"
     ]
    },
    {
     "name": "stderr",
     "output_type": "stream",
     "text": [
      "[2024-02-28 22:18:54,041] - obspy.clients.fdsn.mass_downloader - INFO: Successfully initialized 1 client(s): http://service.iris.edu.\n"
     ]
    },
    {
     "name": "stderr",
     "output_type": "stream",
     "text": [
      "[2024-02-28 22:18:54,041] - obspy.clients.fdsn.mass_downloader - INFO: Successfully initialized 1 client(s): http://service.iris.edu.\n"
     ]
    },
    {
     "name": "stderr",
     "output_type": "stream",
     "text": [
      "[2024-02-28 22:18:54,041] - obspy.clients.fdsn.mass_downloader - INFO: Successfully initialized 1 client(s): http://service.iris.edu.\n"
     ]
    },
    {
     "name": "stderr",
     "output_type": "stream",
     "text": [
      "[2024-02-28 22:18:54,041] - obspy.clients.fdsn.mass_downloader - INFO: Successfully initialized 1 client(s): http://service.iris.edu.\n"
     ]
    },
    {
     "name": "stderr",
     "output_type": "stream",
     "text": [
      "[2024-02-28 22:18:54,041] - obspy.clients.fdsn.mass_downloader - INFO: Successfully initialized 1 client(s): http://service.iris.edu.\n"
     ]
    },
    {
     "name": "stderr",
     "output_type": "stream",
     "text": [
      "[2024-02-28 22:18:54,041] - obspy.clients.fdsn.mass_downloader - INFO: Successfully initialized 1 client(s): http://service.iris.edu.\n"
     ]
    },
    {
     "name": "stderr",
     "output_type": "stream",
     "text": [
      "[2024-02-28 22:18:54,041] - obspy.clients.fdsn.mass_downloader - INFO: Successfully initialized 1 client(s): http://service.iris.edu.\n"
     ]
    },
    {
     "name": "stderr",
     "output_type": "stream",
     "text": [
      "[2024-02-28 22:18:54,041] - obspy.clients.fdsn.mass_downloader - INFO: Successfully initialized 1 client(s): http://service.iris.edu.\n"
     ]
    },
    {
     "name": "stderr",
     "output_type": "stream",
     "text": [
      "[2024-02-28 22:18:54,041] - obspy.clients.fdsn.mass_downloader - INFO: Successfully initialized 1 client(s): http://service.iris.edu.\n"
     ]
    },
    {
     "name": "stderr",
     "output_type": "stream",
     "text": [
      "[2024-02-28 22:18:54,041] - obspy.clients.fdsn.mass_downloader - INFO: Successfully initialized 1 client(s): http://service.iris.edu.\n"
     ]
    },
    {
     "name": "stderr",
     "output_type": "stream",
     "text": [
      "[2024-02-28 22:18:54,048] - obspy.clients.fdsn.mass_downloader - INFO: Total acquired or preexisting stations: 0\n"
     ]
    },
    {
     "name": "stderr",
     "output_type": "stream",
     "text": [
      "[2024-02-28 22:18:54,048] - obspy.clients.fdsn.mass_downloader - INFO: Total acquired or preexisting stations: 0\n"
     ]
    },
    {
     "name": "stderr",
     "output_type": "stream",
     "text": [
      "[2024-02-28 22:18:54,048] - obspy.clients.fdsn.mass_downloader - INFO: Total acquired or preexisting stations: 0\n"
     ]
    },
    {
     "name": "stderr",
     "output_type": "stream",
     "text": [
      "[2024-02-28 22:18:54,048] - obspy.clients.fdsn.mass_downloader - INFO: Total acquired or preexisting stations: 0\n"
     ]
    },
    {
     "name": "stderr",
     "output_type": "stream",
     "text": [
      "[2024-02-28 22:18:54,048] - obspy.clients.fdsn.mass_downloader - INFO: Total acquired or preexisting stations: 0\n"
     ]
    },
    {
     "name": "stderr",
     "output_type": "stream",
     "text": [
      "[2024-02-28 22:18:54,048] - obspy.clients.fdsn.mass_downloader - INFO: Total acquired or preexisting stations: 0\n"
     ]
    },
    {
     "name": "stderr",
     "output_type": "stream",
     "text": [
      "[2024-02-28 22:18:54,048] - obspy.clients.fdsn.mass_downloader - INFO: Total acquired or preexisting stations: 0\n"
     ]
    },
    {
     "name": "stderr",
     "output_type": "stream",
     "text": [
      "[2024-02-28 22:18:54,048] - obspy.clients.fdsn.mass_downloader - INFO: Total acquired or preexisting stations: 0\n"
     ]
    },
    {
     "name": "stderr",
     "output_type": "stream",
     "text": [
      "[2024-02-28 22:18:54,048] - obspy.clients.fdsn.mass_downloader - INFO: Total acquired or preexisting stations: 0\n"
     ]
    },
    {
     "name": "stderr",
     "output_type": "stream",
     "text": [
      "[2024-02-28 22:18:54,048] - obspy.clients.fdsn.mass_downloader - INFO: Total acquired or preexisting stations: 0\n"
     ]
    },
    {
     "name": "stderr",
     "output_type": "stream",
     "text": [
      "[2024-02-28 22:18:54,048] - obspy.clients.fdsn.mass_downloader - INFO: Total acquired or preexisting stations: 0\n"
     ]
    },
    {
     "name": "stderr",
     "output_type": "stream",
     "text": [
      "[2024-02-28 22:18:54,048] - obspy.clients.fdsn.mass_downloader - INFO: Total acquired or preexisting stations: 0\n"
     ]
    },
    {
     "name": "stderr",
     "output_type": "stream",
     "text": [
      "[2024-02-28 22:18:54,048] - obspy.clients.fdsn.mass_downloader - INFO: Total acquired or preexisting stations: 0\n"
     ]
    },
    {
     "name": "stderr",
     "output_type": "stream",
     "text": [
      "[2024-02-28 22:18:54,048] - obspy.clients.fdsn.mass_downloader - INFO: Total acquired or preexisting stations: 0\n"
     ]
    },
    {
     "name": "stderr",
     "output_type": "stream",
     "text": [
      "[2024-02-28 22:18:54,055] - obspy.clients.fdsn.mass_downloader - INFO: Client 'http://service.iris.edu' - Requesting reliable availability.\n"
     ]
    },
    {
     "name": "stderr",
     "output_type": "stream",
     "text": [
      "[2024-02-28 22:18:54,055] - obspy.clients.fdsn.mass_downloader - INFO: Client 'http://service.iris.edu' - Requesting reliable availability.\n"
     ]
    },
    {
     "name": "stderr",
     "output_type": "stream",
     "text": [
      "[2024-02-28 22:18:54,055] - obspy.clients.fdsn.mass_downloader - INFO: Client 'http://service.iris.edu' - Requesting reliable availability.\n"
     ]
    },
    {
     "name": "stderr",
     "output_type": "stream",
     "text": [
      "[2024-02-28 22:18:54,055] - obspy.clients.fdsn.mass_downloader - INFO: Client 'http://service.iris.edu' - Requesting reliable availability.\n"
     ]
    },
    {
     "name": "stderr",
     "output_type": "stream",
     "text": [
      "[2024-02-28 22:18:54,055] - obspy.clients.fdsn.mass_downloader - INFO: Client 'http://service.iris.edu' - Requesting reliable availability.\n"
     ]
    },
    {
     "name": "stderr",
     "output_type": "stream",
     "text": [
      "[2024-02-28 22:18:54,055] - obspy.clients.fdsn.mass_downloader - INFO: Client 'http://service.iris.edu' - Requesting reliable availability.\n"
     ]
    },
    {
     "name": "stderr",
     "output_type": "stream",
     "text": [
      "[2024-02-28 22:18:54,055] - obspy.clients.fdsn.mass_downloader - INFO: Client 'http://service.iris.edu' - Requesting reliable availability.\n"
     ]
    },
    {
     "name": "stderr",
     "output_type": "stream",
     "text": [
      "[2024-02-28 22:18:54,055] - obspy.clients.fdsn.mass_downloader - INFO: Client 'http://service.iris.edu' - Requesting reliable availability.\n"
     ]
    },
    {
     "name": "stderr",
     "output_type": "stream",
     "text": [
      "[2024-02-28 22:18:54,055] - obspy.clients.fdsn.mass_downloader - INFO: Client 'http://service.iris.edu' - Requesting reliable availability.\n"
     ]
    },
    {
     "name": "stderr",
     "output_type": "stream",
     "text": [
      "[2024-02-28 22:18:54,055] - obspy.clients.fdsn.mass_downloader - INFO: Client 'http://service.iris.edu' - Requesting reliable availability.\n"
     ]
    },
    {
     "name": "stderr",
     "output_type": "stream",
     "text": [
      "[2024-02-28 22:18:54,055] - obspy.clients.fdsn.mass_downloader - INFO: Client 'http://service.iris.edu' - Requesting reliable availability.\n"
     ]
    },
    {
     "name": "stderr",
     "output_type": "stream",
     "text": [
      "[2024-02-28 22:18:54,055] - obspy.clients.fdsn.mass_downloader - INFO: Client 'http://service.iris.edu' - Requesting reliable availability.\n"
     ]
    },
    {
     "name": "stderr",
     "output_type": "stream",
     "text": [
      "[2024-02-28 22:18:54,055] - obspy.clients.fdsn.mass_downloader - INFO: Client 'http://service.iris.edu' - Requesting reliable availability.\n"
     ]
    },
    {
     "name": "stderr",
     "output_type": "stream",
     "text": [
      "[2024-02-28 22:18:54,055] - obspy.clients.fdsn.mass_downloader - INFO: Client 'http://service.iris.edu' - Requesting reliable availability.\n"
     ]
    },
    {
     "name": "stderr",
     "output_type": "stream",
     "text": [
      "[2024-02-28 22:18:55,169] - obspy.clients.fdsn.mass_downloader - INFO: Client 'http://service.iris.edu' - Successfully requested availability (1.11 seconds)\n"
     ]
    },
    {
     "name": "stderr",
     "output_type": "stream",
     "text": [
      "[2024-02-28 22:18:55,169] - obspy.clients.fdsn.mass_downloader - INFO: Client 'http://service.iris.edu' - Successfully requested availability (1.11 seconds)\n"
     ]
    },
    {
     "name": "stderr",
     "output_type": "stream",
     "text": [
      "[2024-02-28 22:18:55,169] - obspy.clients.fdsn.mass_downloader - INFO: Client 'http://service.iris.edu' - Successfully requested availability (1.11 seconds)\n"
     ]
    },
    {
     "name": "stderr",
     "output_type": "stream",
     "text": [
      "[2024-02-28 22:18:55,169] - obspy.clients.fdsn.mass_downloader - INFO: Client 'http://service.iris.edu' - Successfully requested availability (1.11 seconds)\n"
     ]
    },
    {
     "name": "stderr",
     "output_type": "stream",
     "text": [
      "[2024-02-28 22:18:55,169] - obspy.clients.fdsn.mass_downloader - INFO: Client 'http://service.iris.edu' - Successfully requested availability (1.11 seconds)\n"
     ]
    },
    {
     "name": "stderr",
     "output_type": "stream",
     "text": [
      "[2024-02-28 22:18:55,169] - obspy.clients.fdsn.mass_downloader - INFO: Client 'http://service.iris.edu' - Successfully requested availability (1.11 seconds)\n"
     ]
    },
    {
     "name": "stderr",
     "output_type": "stream",
     "text": [
      "[2024-02-28 22:18:55,169] - obspy.clients.fdsn.mass_downloader - INFO: Client 'http://service.iris.edu' - Successfully requested availability (1.11 seconds)\n"
     ]
    },
    {
     "name": "stderr",
     "output_type": "stream",
     "text": [
      "[2024-02-28 22:18:55,169] - obspy.clients.fdsn.mass_downloader - INFO: Client 'http://service.iris.edu' - Successfully requested availability (1.11 seconds)\n"
     ]
    },
    {
     "name": "stderr",
     "output_type": "stream",
     "text": [
      "[2024-02-28 22:18:55,169] - obspy.clients.fdsn.mass_downloader - INFO: Client 'http://service.iris.edu' - Successfully requested availability (1.11 seconds)\n"
     ]
    },
    {
     "name": "stderr",
     "output_type": "stream",
     "text": [
      "[2024-02-28 22:18:55,169] - obspy.clients.fdsn.mass_downloader - INFO: Client 'http://service.iris.edu' - Successfully requested availability (1.11 seconds)\n"
     ]
    },
    {
     "name": "stderr",
     "output_type": "stream",
     "text": [
      "[2024-02-28 22:18:55,169] - obspy.clients.fdsn.mass_downloader - INFO: Client 'http://service.iris.edu' - Successfully requested availability (1.11 seconds)\n"
     ]
    },
    {
     "name": "stderr",
     "output_type": "stream",
     "text": [
      "[2024-02-28 22:18:55,169] - obspy.clients.fdsn.mass_downloader - INFO: Client 'http://service.iris.edu' - Successfully requested availability (1.11 seconds)\n"
     ]
    },
    {
     "name": "stderr",
     "output_type": "stream",
     "text": [
      "[2024-02-28 22:18:55,169] - obspy.clients.fdsn.mass_downloader - INFO: Client 'http://service.iris.edu' - Successfully requested availability (1.11 seconds)\n"
     ]
    },
    {
     "name": "stderr",
     "output_type": "stream",
     "text": [
      "[2024-02-28 22:18:55,169] - obspy.clients.fdsn.mass_downloader - INFO: Client 'http://service.iris.edu' - Successfully requested availability (1.11 seconds)\n"
     ]
    },
    {
     "name": "stderr",
     "output_type": "stream",
     "text": [
      "[2024-02-28 22:18:55,207] - obspy.clients.fdsn.mass_downloader - INFO: Client 'http://service.iris.edu' - Found 19 stations (57 channels).\n"
     ]
    },
    {
     "name": "stderr",
     "output_type": "stream",
     "text": [
      "[2024-02-28 22:18:55,207] - obspy.clients.fdsn.mass_downloader - INFO: Client 'http://service.iris.edu' - Found 19 stations (57 channels).\n"
     ]
    },
    {
     "name": "stderr",
     "output_type": "stream",
     "text": [
      "[2024-02-28 22:18:55,207] - obspy.clients.fdsn.mass_downloader - INFO: Client 'http://service.iris.edu' - Found 19 stations (57 channels).\n"
     ]
    },
    {
     "name": "stderr",
     "output_type": "stream",
     "text": [
      "[2024-02-28 22:18:55,207] - obspy.clients.fdsn.mass_downloader - INFO: Client 'http://service.iris.edu' - Found 19 stations (57 channels).\n"
     ]
    },
    {
     "name": "stderr",
     "output_type": "stream",
     "text": [
      "[2024-02-28 22:18:55,207] - obspy.clients.fdsn.mass_downloader - INFO: Client 'http://service.iris.edu' - Found 19 stations (57 channels).\n"
     ]
    },
    {
     "name": "stderr",
     "output_type": "stream",
     "text": [
      "[2024-02-28 22:18:55,207] - obspy.clients.fdsn.mass_downloader - INFO: Client 'http://service.iris.edu' - Found 19 stations (57 channels).\n"
     ]
    },
    {
     "name": "stderr",
     "output_type": "stream",
     "text": [
      "[2024-02-28 22:18:55,207] - obspy.clients.fdsn.mass_downloader - INFO: Client 'http://service.iris.edu' - Found 19 stations (57 channels).\n"
     ]
    },
    {
     "name": "stderr",
     "output_type": "stream",
     "text": [
      "[2024-02-28 22:18:55,207] - obspy.clients.fdsn.mass_downloader - INFO: Client 'http://service.iris.edu' - Found 19 stations (57 channels).\n"
     ]
    },
    {
     "name": "stderr",
     "output_type": "stream",
     "text": [
      "[2024-02-28 22:18:55,207] - obspy.clients.fdsn.mass_downloader - INFO: Client 'http://service.iris.edu' - Found 19 stations (57 channels).\n"
     ]
    },
    {
     "name": "stderr",
     "output_type": "stream",
     "text": [
      "[2024-02-28 22:18:55,207] - obspy.clients.fdsn.mass_downloader - INFO: Client 'http://service.iris.edu' - Found 19 stations (57 channels).\n"
     ]
    },
    {
     "name": "stderr",
     "output_type": "stream",
     "text": [
      "[2024-02-28 22:18:55,207] - obspy.clients.fdsn.mass_downloader - INFO: Client 'http://service.iris.edu' - Found 19 stations (57 channels).\n"
     ]
    },
    {
     "name": "stderr",
     "output_type": "stream",
     "text": [
      "[2024-02-28 22:18:55,207] - obspy.clients.fdsn.mass_downloader - INFO: Client 'http://service.iris.edu' - Found 19 stations (57 channels).\n"
     ]
    },
    {
     "name": "stderr",
     "output_type": "stream",
     "text": [
      "[2024-02-28 22:18:55,207] - obspy.clients.fdsn.mass_downloader - INFO: Client 'http://service.iris.edu' - Found 19 stations (57 channels).\n"
     ]
    },
    {
     "name": "stderr",
     "output_type": "stream",
     "text": [
      "[2024-02-28 22:18:55,207] - obspy.clients.fdsn.mass_downloader - INFO: Client 'http://service.iris.edu' - Found 19 stations (57 channels).\n"
     ]
    },
    {
     "name": "stderr",
     "output_type": "stream",
     "text": [
      "[2024-02-28 22:18:55,217] - obspy.clients.fdsn.mass_downloader - INFO: Client 'http://service.iris.edu' - Will attempt to download data from 19 stations.\n"
     ]
    },
    {
     "name": "stderr",
     "output_type": "stream",
     "text": [
      "[2024-02-28 22:18:55,217] - obspy.clients.fdsn.mass_downloader - INFO: Client 'http://service.iris.edu' - Will attempt to download data from 19 stations.\n"
     ]
    },
    {
     "name": "stderr",
     "output_type": "stream",
     "text": [
      "[2024-02-28 22:18:55,217] - obspy.clients.fdsn.mass_downloader - INFO: Client 'http://service.iris.edu' - Will attempt to download data from 19 stations.\n"
     ]
    },
    {
     "name": "stderr",
     "output_type": "stream",
     "text": [
      "[2024-02-28 22:18:55,217] - obspy.clients.fdsn.mass_downloader - INFO: Client 'http://service.iris.edu' - Will attempt to download data from 19 stations.\n"
     ]
    },
    {
     "name": "stderr",
     "output_type": "stream",
     "text": [
      "[2024-02-28 22:18:55,217] - obspy.clients.fdsn.mass_downloader - INFO: Client 'http://service.iris.edu' - Will attempt to download data from 19 stations.\n"
     ]
    },
    {
     "name": "stderr",
     "output_type": "stream",
     "text": [
      "[2024-02-28 22:18:55,217] - obspy.clients.fdsn.mass_downloader - INFO: Client 'http://service.iris.edu' - Will attempt to download data from 19 stations.\n"
     ]
    },
    {
     "name": "stderr",
     "output_type": "stream",
     "text": [
      "[2024-02-28 22:18:55,217] - obspy.clients.fdsn.mass_downloader - INFO: Client 'http://service.iris.edu' - Will attempt to download data from 19 stations.\n"
     ]
    },
    {
     "name": "stderr",
     "output_type": "stream",
     "text": [
      "[2024-02-28 22:18:55,217] - obspy.clients.fdsn.mass_downloader - INFO: Client 'http://service.iris.edu' - Will attempt to download data from 19 stations.\n"
     ]
    },
    {
     "name": "stderr",
     "output_type": "stream",
     "text": [
      "[2024-02-28 22:18:55,217] - obspy.clients.fdsn.mass_downloader - INFO: Client 'http://service.iris.edu' - Will attempt to download data from 19 stations.\n"
     ]
    },
    {
     "name": "stderr",
     "output_type": "stream",
     "text": [
      "[2024-02-28 22:18:55,217] - obspy.clients.fdsn.mass_downloader - INFO: Client 'http://service.iris.edu' - Will attempt to download data from 19 stations.\n"
     ]
    },
    {
     "name": "stderr",
     "output_type": "stream",
     "text": [
      "[2024-02-28 22:18:55,217] - obspy.clients.fdsn.mass_downloader - INFO: Client 'http://service.iris.edu' - Will attempt to download data from 19 stations.\n"
     ]
    },
    {
     "name": "stderr",
     "output_type": "stream",
     "text": [
      "[2024-02-28 22:18:55,217] - obspy.clients.fdsn.mass_downloader - INFO: Client 'http://service.iris.edu' - Will attempt to download data from 19 stations.\n"
     ]
    },
    {
     "name": "stderr",
     "output_type": "stream",
     "text": [
      "[2024-02-28 22:18:55,217] - obspy.clients.fdsn.mass_downloader - INFO: Client 'http://service.iris.edu' - Will attempt to download data from 19 stations.\n"
     ]
    },
    {
     "name": "stderr",
     "output_type": "stream",
     "text": [
      "[2024-02-28 22:18:55,217] - obspy.clients.fdsn.mass_downloader - INFO: Client 'http://service.iris.edu' - Will attempt to download data from 19 stations.\n"
     ]
    },
    {
     "name": "stderr",
     "output_type": "stream",
     "text": [
      "[2024-02-28 22:18:55,226] - obspy.clients.fdsn.mass_downloader - INFO: Client 'http://service.iris.edu' - Status for 48 time intervals/channels before downloading: EXISTS\n"
     ]
    },
    {
     "name": "stderr",
     "output_type": "stream",
     "text": [
      "[2024-02-28 22:18:55,226] - obspy.clients.fdsn.mass_downloader - INFO: Client 'http://service.iris.edu' - Status for 48 time intervals/channels before downloading: EXISTS\n"
     ]
    },
    {
     "name": "stderr",
     "output_type": "stream",
     "text": [
      "[2024-02-28 22:18:55,226] - obspy.clients.fdsn.mass_downloader - INFO: Client 'http://service.iris.edu' - Status for 48 time intervals/channels before downloading: EXISTS\n"
     ]
    },
    {
     "name": "stderr",
     "output_type": "stream",
     "text": [
      "[2024-02-28 22:18:55,226] - obspy.clients.fdsn.mass_downloader - INFO: Client 'http://service.iris.edu' - Status for 48 time intervals/channels before downloading: EXISTS\n"
     ]
    },
    {
     "name": "stderr",
     "output_type": "stream",
     "text": [
      "[2024-02-28 22:18:55,226] - obspy.clients.fdsn.mass_downloader - INFO: Client 'http://service.iris.edu' - Status for 48 time intervals/channels before downloading: EXISTS\n"
     ]
    },
    {
     "name": "stderr",
     "output_type": "stream",
     "text": [
      "[2024-02-28 22:18:55,226] - obspy.clients.fdsn.mass_downloader - INFO: Client 'http://service.iris.edu' - Status for 48 time intervals/channels before downloading: EXISTS\n"
     ]
    },
    {
     "name": "stderr",
     "output_type": "stream",
     "text": [
      "[2024-02-28 22:18:55,226] - obspy.clients.fdsn.mass_downloader - INFO: Client 'http://service.iris.edu' - Status for 48 time intervals/channels before downloading: EXISTS\n"
     ]
    },
    {
     "name": "stderr",
     "output_type": "stream",
     "text": [
      "[2024-02-28 22:18:55,226] - obspy.clients.fdsn.mass_downloader - INFO: Client 'http://service.iris.edu' - Status for 48 time intervals/channels before downloading: EXISTS\n"
     ]
    },
    {
     "name": "stderr",
     "output_type": "stream",
     "text": [
      "[2024-02-28 22:18:55,226] - obspy.clients.fdsn.mass_downloader - INFO: Client 'http://service.iris.edu' - Status for 48 time intervals/channels before downloading: EXISTS\n"
     ]
    },
    {
     "name": "stderr",
     "output_type": "stream",
     "text": [
      "[2024-02-28 22:18:55,226] - obspy.clients.fdsn.mass_downloader - INFO: Client 'http://service.iris.edu' - Status for 48 time intervals/channels before downloading: EXISTS\n"
     ]
    },
    {
     "name": "stderr",
     "output_type": "stream",
     "text": [
      "[2024-02-28 22:18:55,226] - obspy.clients.fdsn.mass_downloader - INFO: Client 'http://service.iris.edu' - Status for 48 time intervals/channels before downloading: EXISTS\n"
     ]
    },
    {
     "name": "stderr",
     "output_type": "stream",
     "text": [
      "[2024-02-28 22:18:55,226] - obspy.clients.fdsn.mass_downloader - INFO: Client 'http://service.iris.edu' - Status for 48 time intervals/channels before downloading: EXISTS\n"
     ]
    },
    {
     "name": "stderr",
     "output_type": "stream",
     "text": [
      "[2024-02-28 22:18:55,226] - obspy.clients.fdsn.mass_downloader - INFO: Client 'http://service.iris.edu' - Status for 48 time intervals/channels before downloading: EXISTS\n"
     ]
    },
    {
     "name": "stderr",
     "output_type": "stream",
     "text": [
      "[2024-02-28 22:18:55,226] - obspy.clients.fdsn.mass_downloader - INFO: Client 'http://service.iris.edu' - Status for 48 time intervals/channels before downloading: EXISTS\n"
     ]
    },
    {
     "name": "stderr",
     "output_type": "stream",
     "text": [
      "[2024-02-28 22:18:55,230] - obspy.clients.fdsn.mass_downloader - INFO: Client 'http://service.iris.edu' - Status for 9 time intervals/channels before downloading: NEEDS_DOWNLOADING\n"
     ]
    },
    {
     "name": "stderr",
     "output_type": "stream",
     "text": [
      "[2024-02-28 22:18:55,230] - obspy.clients.fdsn.mass_downloader - INFO: Client 'http://service.iris.edu' - Status for 9 time intervals/channels before downloading: NEEDS_DOWNLOADING\n"
     ]
    },
    {
     "name": "stderr",
     "output_type": "stream",
     "text": [
      "[2024-02-28 22:18:55,230] - obspy.clients.fdsn.mass_downloader - INFO: Client 'http://service.iris.edu' - Status for 9 time intervals/channels before downloading: NEEDS_DOWNLOADING\n"
     ]
    },
    {
     "name": "stderr",
     "output_type": "stream",
     "text": [
      "[2024-02-28 22:18:55,230] - obspy.clients.fdsn.mass_downloader - INFO: Client 'http://service.iris.edu' - Status for 9 time intervals/channels before downloading: NEEDS_DOWNLOADING\n"
     ]
    },
    {
     "name": "stderr",
     "output_type": "stream",
     "text": [
      "[2024-02-28 22:18:55,230] - obspy.clients.fdsn.mass_downloader - INFO: Client 'http://service.iris.edu' - Status for 9 time intervals/channels before downloading: NEEDS_DOWNLOADING\n"
     ]
    },
    {
     "name": "stderr",
     "output_type": "stream",
     "text": [
      "[2024-02-28 22:18:55,230] - obspy.clients.fdsn.mass_downloader - INFO: Client 'http://service.iris.edu' - Status for 9 time intervals/channels before downloading: NEEDS_DOWNLOADING\n"
     ]
    },
    {
     "name": "stderr",
     "output_type": "stream",
     "text": [
      "[2024-02-28 22:18:55,230] - obspy.clients.fdsn.mass_downloader - INFO: Client 'http://service.iris.edu' - Status for 9 time intervals/channels before downloading: NEEDS_DOWNLOADING\n"
     ]
    },
    {
     "name": "stderr",
     "output_type": "stream",
     "text": [
      "[2024-02-28 22:18:55,230] - obspy.clients.fdsn.mass_downloader - INFO: Client 'http://service.iris.edu' - Status for 9 time intervals/channels before downloading: NEEDS_DOWNLOADING\n"
     ]
    },
    {
     "name": "stderr",
     "output_type": "stream",
     "text": [
      "[2024-02-28 22:18:55,230] - obspy.clients.fdsn.mass_downloader - INFO: Client 'http://service.iris.edu' - Status for 9 time intervals/channels before downloading: NEEDS_DOWNLOADING\n"
     ]
    },
    {
     "name": "stderr",
     "output_type": "stream",
     "text": [
      "[2024-02-28 22:18:55,230] - obspy.clients.fdsn.mass_downloader - INFO: Client 'http://service.iris.edu' - Status for 9 time intervals/channels before downloading: NEEDS_DOWNLOADING\n"
     ]
    },
    {
     "name": "stderr",
     "output_type": "stream",
     "text": [
      "[2024-02-28 22:18:55,230] - obspy.clients.fdsn.mass_downloader - INFO: Client 'http://service.iris.edu' - Status for 9 time intervals/channels before downloading: NEEDS_DOWNLOADING\n"
     ]
    },
    {
     "name": "stderr",
     "output_type": "stream",
     "text": [
      "[2024-02-28 22:18:55,230] - obspy.clients.fdsn.mass_downloader - INFO: Client 'http://service.iris.edu' - Status for 9 time intervals/channels before downloading: NEEDS_DOWNLOADING\n"
     ]
    },
    {
     "name": "stderr",
     "output_type": "stream",
     "text": [
      "[2024-02-28 22:18:55,230] - obspy.clients.fdsn.mass_downloader - INFO: Client 'http://service.iris.edu' - Status for 9 time intervals/channels before downloading: NEEDS_DOWNLOADING\n"
     ]
    },
    {
     "name": "stderr",
     "output_type": "stream",
     "text": [
      "[2024-02-28 22:18:55,230] - obspy.clients.fdsn.mass_downloader - INFO: Client 'http://service.iris.edu' - Status for 9 time intervals/channels before downloading: NEEDS_DOWNLOADING\n"
     ]
    },
    {
     "name": "stderr",
     "output_type": "stream",
     "text": [
      "[2024-02-28 22:18:56,023] - obspy.clients.fdsn.mass_downloader - INFO: Client 'http://service.iris.edu' - No data available for request.\n",
      "HTTP Status code: 204\n"
     ]
    },
    {
     "name": "stderr",
     "output_type": "stream",
     "text": [
      "[2024-02-28 22:18:56,023] - obspy.clients.fdsn.mass_downloader - INFO: Client 'http://service.iris.edu' - No data available for request.\n",
      "HTTP Status code: 204\n"
     ]
    },
    {
     "name": "stderr",
     "output_type": "stream",
     "text": [
      "[2024-02-28 22:18:56,023] - obspy.clients.fdsn.mass_downloader - INFO: Client 'http://service.iris.edu' - No data available for request.\n",
      "HTTP Status code: 204\n"
     ]
    },
    {
     "name": "stderr",
     "output_type": "stream",
     "text": [
      "[2024-02-28 22:18:56,023] - obspy.clients.fdsn.mass_downloader - INFO: Client 'http://service.iris.edu' - No data available for request.\n",
      "HTTP Status code: 204\n"
     ]
    },
    {
     "name": "stderr",
     "output_type": "stream",
     "text": [
      "[2024-02-28 22:18:56,023] - obspy.clients.fdsn.mass_downloader - INFO: Client 'http://service.iris.edu' - No data available for request.\n",
      "HTTP Status code: 204\n"
     ]
    },
    {
     "name": "stderr",
     "output_type": "stream",
     "text": [
      "[2024-02-28 22:18:56,023] - obspy.clients.fdsn.mass_downloader - INFO: Client 'http://service.iris.edu' - No data available for request.\n",
      "HTTP Status code: 204\n"
     ]
    },
    {
     "name": "stderr",
     "output_type": "stream",
     "text": [
      "[2024-02-28 22:18:56,023] - obspy.clients.fdsn.mass_downloader - INFO: Client 'http://service.iris.edu' - No data available for request.\n",
      "HTTP Status code: 204\n"
     ]
    },
    {
     "name": "stderr",
     "output_type": "stream",
     "text": [
      "[2024-02-28 22:18:56,023] - obspy.clients.fdsn.mass_downloader - INFO: Client 'http://service.iris.edu' - No data available for request.\n",
      "HTTP Status code: 204\n"
     ]
    },
    {
     "name": "stderr",
     "output_type": "stream",
     "text": [
      "[2024-02-28 22:18:56,023] - obspy.clients.fdsn.mass_downloader - INFO: Client 'http://service.iris.edu' - No data available for request.\n",
      "HTTP Status code: 204\n"
     ]
    },
    {
     "name": "stderr",
     "output_type": "stream",
     "text": [
      "[2024-02-28 22:18:56,023] - obspy.clients.fdsn.mass_downloader - INFO: Client 'http://service.iris.edu' - No data available for request.\n",
      "HTTP Status code: 204\n"
     ]
    },
    {
     "name": "stderr",
     "output_type": "stream",
     "text": [
      "[2024-02-28 22:18:56,023] - obspy.clients.fdsn.mass_downloader - INFO: Client 'http://service.iris.edu' - No data available for request.\n",
      "HTTP Status code: 204\n"
     ]
    },
    {
     "name": "stderr",
     "output_type": "stream",
     "text": [
      "[2024-02-28 22:18:56,023] - obspy.clients.fdsn.mass_downloader - INFO: Client 'http://service.iris.edu' - No data available for request.\n",
      "HTTP Status code: 204\n"
     ]
    },
    {
     "name": "stderr",
     "output_type": "stream",
     "text": [
      "[2024-02-28 22:18:56,023] - obspy.clients.fdsn.mass_downloader - INFO: Client 'http://service.iris.edu' - No data available for request.\n",
      "HTTP Status code: 204\n"
     ]
    },
    {
     "name": "stderr",
     "output_type": "stream",
     "text": [
      "[2024-02-28 22:18:56,023] - obspy.clients.fdsn.mass_downloader - INFO: Client 'http://service.iris.edu' - No data available for request.\n",
      "HTTP Status code: 204\n"
     ]
    },
    {
     "name": "stderr",
     "output_type": "stream",
     "text": [
      "[2024-02-28 22:18:56,030] - obspy.clients.fdsn.mass_downloader - INFO: Client 'http://service.iris.edu' - Launching basic QC checks...\n"
     ]
    },
    {
     "name": "stderr",
     "output_type": "stream",
     "text": [
      "[2024-02-28 22:18:56,030] - obspy.clients.fdsn.mass_downloader - INFO: Client 'http://service.iris.edu' - Launching basic QC checks...\n"
     ]
    },
    {
     "name": "stderr",
     "output_type": "stream",
     "text": [
      "[2024-02-28 22:18:56,030] - obspy.clients.fdsn.mass_downloader - INFO: Client 'http://service.iris.edu' - Launching basic QC checks...\n"
     ]
    },
    {
     "name": "stderr",
     "output_type": "stream",
     "text": [
      "[2024-02-28 22:18:56,030] - obspy.clients.fdsn.mass_downloader - INFO: Client 'http://service.iris.edu' - Launching basic QC checks...\n"
     ]
    },
    {
     "name": "stderr",
     "output_type": "stream",
     "text": [
      "[2024-02-28 22:18:56,030] - obspy.clients.fdsn.mass_downloader - INFO: Client 'http://service.iris.edu' - Launching basic QC checks...\n"
     ]
    },
    {
     "name": "stderr",
     "output_type": "stream",
     "text": [
      "[2024-02-28 22:18:56,030] - obspy.clients.fdsn.mass_downloader - INFO: Client 'http://service.iris.edu' - Launching basic QC checks...\n"
     ]
    },
    {
     "name": "stderr",
     "output_type": "stream",
     "text": [
      "[2024-02-28 22:18:56,030] - obspy.clients.fdsn.mass_downloader - INFO: Client 'http://service.iris.edu' - Launching basic QC checks...\n"
     ]
    },
    {
     "name": "stderr",
     "output_type": "stream",
     "text": [
      "[2024-02-28 22:18:56,030] - obspy.clients.fdsn.mass_downloader - INFO: Client 'http://service.iris.edu' - Launching basic QC checks...\n"
     ]
    },
    {
     "name": "stderr",
     "output_type": "stream",
     "text": [
      "[2024-02-28 22:18:56,030] - obspy.clients.fdsn.mass_downloader - INFO: Client 'http://service.iris.edu' - Launching basic QC checks...\n"
     ]
    },
    {
     "name": "stderr",
     "output_type": "stream",
     "text": [
      "[2024-02-28 22:18:56,030] - obspy.clients.fdsn.mass_downloader - INFO: Client 'http://service.iris.edu' - Launching basic QC checks...\n"
     ]
    },
    {
     "name": "stderr",
     "output_type": "stream",
     "text": [
      "[2024-02-28 22:18:56,030] - obspy.clients.fdsn.mass_downloader - INFO: Client 'http://service.iris.edu' - Launching basic QC checks...\n"
     ]
    },
    {
     "name": "stderr",
     "output_type": "stream",
     "text": [
      "[2024-02-28 22:18:56,030] - obspy.clients.fdsn.mass_downloader - INFO: Client 'http://service.iris.edu' - Launching basic QC checks...\n"
     ]
    },
    {
     "name": "stderr",
     "output_type": "stream",
     "text": [
      "[2024-02-28 22:18:56,030] - obspy.clients.fdsn.mass_downloader - INFO: Client 'http://service.iris.edu' - Launching basic QC checks...\n"
     ]
    },
    {
     "name": "stderr",
     "output_type": "stream",
     "text": [
      "[2024-02-28 22:18:56,030] - obspy.clients.fdsn.mass_downloader - INFO: Client 'http://service.iris.edu' - Launching basic QC checks...\n"
     ]
    },
    {
     "name": "stderr",
     "output_type": "stream",
     "text": [
      "[2024-02-28 22:18:56,036] - obspy.clients.fdsn.mass_downloader - INFO: Client 'http://service.iris.edu' - Downloaded 0.0 MB [0.00 KB/sec] of data, 0.0 MB of which were discarded afterwards.\n"
     ]
    },
    {
     "name": "stderr",
     "output_type": "stream",
     "text": [
      "[2024-02-28 22:18:56,036] - obspy.clients.fdsn.mass_downloader - INFO: Client 'http://service.iris.edu' - Downloaded 0.0 MB [0.00 KB/sec] of data, 0.0 MB of which were discarded afterwards.\n"
     ]
    },
    {
     "name": "stderr",
     "output_type": "stream",
     "text": [
      "[2024-02-28 22:18:56,036] - obspy.clients.fdsn.mass_downloader - INFO: Client 'http://service.iris.edu' - Downloaded 0.0 MB [0.00 KB/sec] of data, 0.0 MB of which were discarded afterwards.\n"
     ]
    },
    {
     "name": "stderr",
     "output_type": "stream",
     "text": [
      "[2024-02-28 22:18:56,036] - obspy.clients.fdsn.mass_downloader - INFO: Client 'http://service.iris.edu' - Downloaded 0.0 MB [0.00 KB/sec] of data, 0.0 MB of which were discarded afterwards.\n"
     ]
    },
    {
     "name": "stderr",
     "output_type": "stream",
     "text": [
      "[2024-02-28 22:18:56,036] - obspy.clients.fdsn.mass_downloader - INFO: Client 'http://service.iris.edu' - Downloaded 0.0 MB [0.00 KB/sec] of data, 0.0 MB of which were discarded afterwards.\n"
     ]
    },
    {
     "name": "stderr",
     "output_type": "stream",
     "text": [
      "[2024-02-28 22:18:56,036] - obspy.clients.fdsn.mass_downloader - INFO: Client 'http://service.iris.edu' - Downloaded 0.0 MB [0.00 KB/sec] of data, 0.0 MB of which were discarded afterwards.\n"
     ]
    },
    {
     "name": "stderr",
     "output_type": "stream",
     "text": [
      "[2024-02-28 22:18:56,036] - obspy.clients.fdsn.mass_downloader - INFO: Client 'http://service.iris.edu' - Downloaded 0.0 MB [0.00 KB/sec] of data, 0.0 MB of which were discarded afterwards.\n"
     ]
    },
    {
     "name": "stderr",
     "output_type": "stream",
     "text": [
      "[2024-02-28 22:18:56,036] - obspy.clients.fdsn.mass_downloader - INFO: Client 'http://service.iris.edu' - Downloaded 0.0 MB [0.00 KB/sec] of data, 0.0 MB of which were discarded afterwards.\n"
     ]
    },
    {
     "name": "stderr",
     "output_type": "stream",
     "text": [
      "[2024-02-28 22:18:56,036] - obspy.clients.fdsn.mass_downloader - INFO: Client 'http://service.iris.edu' - Downloaded 0.0 MB [0.00 KB/sec] of data, 0.0 MB of which were discarded afterwards.\n"
     ]
    },
    {
     "name": "stderr",
     "output_type": "stream",
     "text": [
      "[2024-02-28 22:18:56,036] - obspy.clients.fdsn.mass_downloader - INFO: Client 'http://service.iris.edu' - Downloaded 0.0 MB [0.00 KB/sec] of data, 0.0 MB of which were discarded afterwards.\n"
     ]
    },
    {
     "name": "stderr",
     "output_type": "stream",
     "text": [
      "[2024-02-28 22:18:56,036] - obspy.clients.fdsn.mass_downloader - INFO: Client 'http://service.iris.edu' - Downloaded 0.0 MB [0.00 KB/sec] of data, 0.0 MB of which were discarded afterwards.\n"
     ]
    },
    {
     "name": "stderr",
     "output_type": "stream",
     "text": [
      "[2024-02-28 22:18:56,036] - obspy.clients.fdsn.mass_downloader - INFO: Client 'http://service.iris.edu' - Downloaded 0.0 MB [0.00 KB/sec] of data, 0.0 MB of which were discarded afterwards.\n"
     ]
    },
    {
     "name": "stderr",
     "output_type": "stream",
     "text": [
      "[2024-02-28 22:18:56,036] - obspy.clients.fdsn.mass_downloader - INFO: Client 'http://service.iris.edu' - Downloaded 0.0 MB [0.00 KB/sec] of data, 0.0 MB of which were discarded afterwards.\n"
     ]
    },
    {
     "name": "stderr",
     "output_type": "stream",
     "text": [
      "[2024-02-28 22:18:56,036] - obspy.clients.fdsn.mass_downloader - INFO: Client 'http://service.iris.edu' - Downloaded 0.0 MB [0.00 KB/sec] of data, 0.0 MB of which were discarded afterwards.\n"
     ]
    },
    {
     "name": "stderr",
     "output_type": "stream",
     "text": [
      "[2024-02-28 22:18:56,041] - obspy.clients.fdsn.mass_downloader - INFO: Client 'http://service.iris.edu' - Status for 9 time intervals/channels after downloading: DOWNLOAD_FAILED\n"
     ]
    },
    {
     "name": "stderr",
     "output_type": "stream",
     "text": [
      "[2024-02-28 22:18:56,041] - obspy.clients.fdsn.mass_downloader - INFO: Client 'http://service.iris.edu' - Status for 9 time intervals/channels after downloading: DOWNLOAD_FAILED\n"
     ]
    },
    {
     "name": "stderr",
     "output_type": "stream",
     "text": [
      "[2024-02-28 22:18:56,041] - obspy.clients.fdsn.mass_downloader - INFO: Client 'http://service.iris.edu' - Status for 9 time intervals/channels after downloading: DOWNLOAD_FAILED\n"
     ]
    },
    {
     "name": "stderr",
     "output_type": "stream",
     "text": [
      "[2024-02-28 22:18:56,041] - obspy.clients.fdsn.mass_downloader - INFO: Client 'http://service.iris.edu' - Status for 9 time intervals/channels after downloading: DOWNLOAD_FAILED\n"
     ]
    },
    {
     "name": "stderr",
     "output_type": "stream",
     "text": [
      "[2024-02-28 22:18:56,041] - obspy.clients.fdsn.mass_downloader - INFO: Client 'http://service.iris.edu' - Status for 9 time intervals/channels after downloading: DOWNLOAD_FAILED\n"
     ]
    },
    {
     "name": "stderr",
     "output_type": "stream",
     "text": [
      "[2024-02-28 22:18:56,041] - obspy.clients.fdsn.mass_downloader - INFO: Client 'http://service.iris.edu' - Status for 9 time intervals/channels after downloading: DOWNLOAD_FAILED\n"
     ]
    },
    {
     "name": "stderr",
     "output_type": "stream",
     "text": [
      "[2024-02-28 22:18:56,041] - obspy.clients.fdsn.mass_downloader - INFO: Client 'http://service.iris.edu' - Status for 9 time intervals/channels after downloading: DOWNLOAD_FAILED\n"
     ]
    },
    {
     "name": "stderr",
     "output_type": "stream",
     "text": [
      "[2024-02-28 22:18:56,041] - obspy.clients.fdsn.mass_downloader - INFO: Client 'http://service.iris.edu' - Status for 9 time intervals/channels after downloading: DOWNLOAD_FAILED\n"
     ]
    },
    {
     "name": "stderr",
     "output_type": "stream",
     "text": [
      "[2024-02-28 22:18:56,041] - obspy.clients.fdsn.mass_downloader - INFO: Client 'http://service.iris.edu' - Status for 9 time intervals/channels after downloading: DOWNLOAD_FAILED\n"
     ]
    },
    {
     "name": "stderr",
     "output_type": "stream",
     "text": [
      "[2024-02-28 22:18:56,041] - obspy.clients.fdsn.mass_downloader - INFO: Client 'http://service.iris.edu' - Status for 9 time intervals/channels after downloading: DOWNLOAD_FAILED\n"
     ]
    },
    {
     "name": "stderr",
     "output_type": "stream",
     "text": [
      "[2024-02-28 22:18:56,041] - obspy.clients.fdsn.mass_downloader - INFO: Client 'http://service.iris.edu' - Status for 9 time intervals/channels after downloading: DOWNLOAD_FAILED\n"
     ]
    },
    {
     "name": "stderr",
     "output_type": "stream",
     "text": [
      "[2024-02-28 22:18:56,041] - obspy.clients.fdsn.mass_downloader - INFO: Client 'http://service.iris.edu' - Status for 9 time intervals/channels after downloading: DOWNLOAD_FAILED\n"
     ]
    },
    {
     "name": "stderr",
     "output_type": "stream",
     "text": [
      "[2024-02-28 22:18:56,041] - obspy.clients.fdsn.mass_downloader - INFO: Client 'http://service.iris.edu' - Status for 9 time intervals/channels after downloading: DOWNLOAD_FAILED\n"
     ]
    },
    {
     "name": "stderr",
     "output_type": "stream",
     "text": [
      "[2024-02-28 22:18:56,041] - obspy.clients.fdsn.mass_downloader - INFO: Client 'http://service.iris.edu' - Status for 9 time intervals/channels after downloading: DOWNLOAD_FAILED\n"
     ]
    },
    {
     "name": "stderr",
     "output_type": "stream",
     "text": [
      "[2024-02-28 22:18:56,046] - obspy.clients.fdsn.mass_downloader - INFO: Client 'http://service.iris.edu' - Status for 48 time intervals/channels after downloading: EXISTS\n"
     ]
    },
    {
     "name": "stderr",
     "output_type": "stream",
     "text": [
      "[2024-02-28 22:18:56,046] - obspy.clients.fdsn.mass_downloader - INFO: Client 'http://service.iris.edu' - Status for 48 time intervals/channels after downloading: EXISTS\n"
     ]
    },
    {
     "name": "stderr",
     "output_type": "stream",
     "text": [
      "[2024-02-28 22:18:56,046] - obspy.clients.fdsn.mass_downloader - INFO: Client 'http://service.iris.edu' - Status for 48 time intervals/channels after downloading: EXISTS\n"
     ]
    },
    {
     "name": "stderr",
     "output_type": "stream",
     "text": [
      "[2024-02-28 22:18:56,046] - obspy.clients.fdsn.mass_downloader - INFO: Client 'http://service.iris.edu' - Status for 48 time intervals/channels after downloading: EXISTS\n"
     ]
    },
    {
     "name": "stderr",
     "output_type": "stream",
     "text": [
      "[2024-02-28 22:18:56,046] - obspy.clients.fdsn.mass_downloader - INFO: Client 'http://service.iris.edu' - Status for 48 time intervals/channels after downloading: EXISTS\n"
     ]
    },
    {
     "name": "stderr",
     "output_type": "stream",
     "text": [
      "[2024-02-28 22:18:56,046] - obspy.clients.fdsn.mass_downloader - INFO: Client 'http://service.iris.edu' - Status for 48 time intervals/channels after downloading: EXISTS\n"
     ]
    },
    {
     "name": "stderr",
     "output_type": "stream",
     "text": [
      "[2024-02-28 22:18:56,046] - obspy.clients.fdsn.mass_downloader - INFO: Client 'http://service.iris.edu' - Status for 48 time intervals/channels after downloading: EXISTS\n"
     ]
    },
    {
     "name": "stderr",
     "output_type": "stream",
     "text": [
      "[2024-02-28 22:18:56,046] - obspy.clients.fdsn.mass_downloader - INFO: Client 'http://service.iris.edu' - Status for 48 time intervals/channels after downloading: EXISTS\n"
     ]
    },
    {
     "name": "stderr",
     "output_type": "stream",
     "text": [
      "[2024-02-28 22:18:56,046] - obspy.clients.fdsn.mass_downloader - INFO: Client 'http://service.iris.edu' - Status for 48 time intervals/channels after downloading: EXISTS\n"
     ]
    },
    {
     "name": "stderr",
     "output_type": "stream",
     "text": [
      "[2024-02-28 22:18:56,046] - obspy.clients.fdsn.mass_downloader - INFO: Client 'http://service.iris.edu' - Status for 48 time intervals/channels after downloading: EXISTS\n"
     ]
    },
    {
     "name": "stderr",
     "output_type": "stream",
     "text": [
      "[2024-02-28 22:18:56,046] - obspy.clients.fdsn.mass_downloader - INFO: Client 'http://service.iris.edu' - Status for 48 time intervals/channels after downloading: EXISTS\n"
     ]
    },
    {
     "name": "stderr",
     "output_type": "stream",
     "text": [
      "[2024-02-28 22:18:56,046] - obspy.clients.fdsn.mass_downloader - INFO: Client 'http://service.iris.edu' - Status for 48 time intervals/channels after downloading: EXISTS\n"
     ]
    },
    {
     "name": "stderr",
     "output_type": "stream",
     "text": [
      "[2024-02-28 22:18:56,046] - obspy.clients.fdsn.mass_downloader - INFO: Client 'http://service.iris.edu' - Status for 48 time intervals/channels after downloading: EXISTS\n"
     ]
    },
    {
     "name": "stderr",
     "output_type": "stream",
     "text": [
      "[2024-02-28 22:18:56,046] - obspy.clients.fdsn.mass_downloader - INFO: Client 'http://service.iris.edu' - Status for 48 time intervals/channels after downloading: EXISTS\n"
     ]
    },
    {
     "name": "stderr",
     "output_type": "stream",
     "text": [
      "[2024-02-28 22:18:56,069] - obspy.clients.fdsn.mass_downloader - INFO: Client 'http://service.iris.edu' - No station information to download.\n"
     ]
    },
    {
     "name": "stderr",
     "output_type": "stream",
     "text": [
      "[2024-02-28 22:18:56,069] - obspy.clients.fdsn.mass_downloader - INFO: Client 'http://service.iris.edu' - No station information to download.\n"
     ]
    },
    {
     "name": "stderr",
     "output_type": "stream",
     "text": [
      "[2024-02-28 22:18:56,069] - obspy.clients.fdsn.mass_downloader - INFO: Client 'http://service.iris.edu' - No station information to download.\n"
     ]
    },
    {
     "name": "stderr",
     "output_type": "stream",
     "text": [
      "[2024-02-28 22:18:56,069] - obspy.clients.fdsn.mass_downloader - INFO: Client 'http://service.iris.edu' - No station information to download.\n"
     ]
    },
    {
     "name": "stderr",
     "output_type": "stream",
     "text": [
      "[2024-02-28 22:18:56,069] - obspy.clients.fdsn.mass_downloader - INFO: Client 'http://service.iris.edu' - No station information to download.\n"
     ]
    },
    {
     "name": "stderr",
     "output_type": "stream",
     "text": [
      "[2024-02-28 22:18:56,069] - obspy.clients.fdsn.mass_downloader - INFO: Client 'http://service.iris.edu' - No station information to download.\n"
     ]
    },
    {
     "name": "stderr",
     "output_type": "stream",
     "text": [
      "[2024-02-28 22:18:56,069] - obspy.clients.fdsn.mass_downloader - INFO: Client 'http://service.iris.edu' - No station information to download.\n"
     ]
    },
    {
     "name": "stderr",
     "output_type": "stream",
     "text": [
      "[2024-02-28 22:18:56,069] - obspy.clients.fdsn.mass_downloader - INFO: Client 'http://service.iris.edu' - No station information to download.\n"
     ]
    },
    {
     "name": "stderr",
     "output_type": "stream",
     "text": [
      "[2024-02-28 22:18:56,069] - obspy.clients.fdsn.mass_downloader - INFO: Client 'http://service.iris.edu' - No station information to download.\n"
     ]
    },
    {
     "name": "stderr",
     "output_type": "stream",
     "text": [
      "[2024-02-28 22:18:56,069] - obspy.clients.fdsn.mass_downloader - INFO: Client 'http://service.iris.edu' - No station information to download.\n"
     ]
    },
    {
     "name": "stderr",
     "output_type": "stream",
     "text": [
      "[2024-02-28 22:18:56,069] - obspy.clients.fdsn.mass_downloader - INFO: Client 'http://service.iris.edu' - No station information to download.\n"
     ]
    },
    {
     "name": "stderr",
     "output_type": "stream",
     "text": [
      "[2024-02-28 22:18:56,069] - obspy.clients.fdsn.mass_downloader - INFO: Client 'http://service.iris.edu' - No station information to download.\n"
     ]
    },
    {
     "name": "stderr",
     "output_type": "stream",
     "text": [
      "[2024-02-28 22:18:56,069] - obspy.clients.fdsn.mass_downloader - INFO: Client 'http://service.iris.edu' - No station information to download.\n"
     ]
    },
    {
     "name": "stderr",
     "output_type": "stream",
     "text": [
      "[2024-02-28 22:18:56,069] - obspy.clients.fdsn.mass_downloader - INFO: Client 'http://service.iris.edu' - No station information to download.\n"
     ]
    },
    {
     "name": "stderr",
     "output_type": "stream",
     "text": [
      "[2024-02-28 22:18:56,076] - obspy.clients.fdsn.mass_downloader - INFO: ============================== Final report\n"
     ]
    },
    {
     "name": "stderr",
     "output_type": "stream",
     "text": [
      "[2024-02-28 22:18:56,076] - obspy.clients.fdsn.mass_downloader - INFO: ============================== Final report\n"
     ]
    },
    {
     "name": "stderr",
     "output_type": "stream",
     "text": [
      "[2024-02-28 22:18:56,076] - obspy.clients.fdsn.mass_downloader - INFO: ============================== Final report\n"
     ]
    },
    {
     "name": "stderr",
     "output_type": "stream",
     "text": [
      "[2024-02-28 22:18:56,076] - obspy.clients.fdsn.mass_downloader - INFO: ============================== Final report\n"
     ]
    },
    {
     "name": "stderr",
     "output_type": "stream",
     "text": [
      "[2024-02-28 22:18:56,076] - obspy.clients.fdsn.mass_downloader - INFO: ============================== Final report\n"
     ]
    },
    {
     "name": "stderr",
     "output_type": "stream",
     "text": [
      "[2024-02-28 22:18:56,076] - obspy.clients.fdsn.mass_downloader - INFO: ============================== Final report\n"
     ]
    },
    {
     "name": "stderr",
     "output_type": "stream",
     "text": [
      "[2024-02-28 22:18:56,076] - obspy.clients.fdsn.mass_downloader - INFO: ============================== Final report\n"
     ]
    },
    {
     "name": "stderr",
     "output_type": "stream",
     "text": [
      "[2024-02-28 22:18:56,076] - obspy.clients.fdsn.mass_downloader - INFO: ============================== Final report\n"
     ]
    },
    {
     "name": "stderr",
     "output_type": "stream",
     "text": [
      "[2024-02-28 22:18:56,076] - obspy.clients.fdsn.mass_downloader - INFO: ============================== Final report\n"
     ]
    },
    {
     "name": "stderr",
     "output_type": "stream",
     "text": [
      "[2024-02-28 22:18:56,076] - obspy.clients.fdsn.mass_downloader - INFO: ============================== Final report\n"
     ]
    },
    {
     "name": "stderr",
     "output_type": "stream",
     "text": [
      "[2024-02-28 22:18:56,076] - obspy.clients.fdsn.mass_downloader - INFO: ============================== Final report\n"
     ]
    },
    {
     "name": "stderr",
     "output_type": "stream",
     "text": [
      "[2024-02-28 22:18:56,076] - obspy.clients.fdsn.mass_downloader - INFO: ============================== Final report\n"
     ]
    },
    {
     "name": "stderr",
     "output_type": "stream",
     "text": [
      "[2024-02-28 22:18:56,076] - obspy.clients.fdsn.mass_downloader - INFO: ============================== Final report\n"
     ]
    },
    {
     "name": "stderr",
     "output_type": "stream",
     "text": [
      "[2024-02-28 22:18:56,076] - obspy.clients.fdsn.mass_downloader - INFO: ============================== Final report\n"
     ]
    },
    {
     "name": "stderr",
     "output_type": "stream",
     "text": [
      "[2024-02-28 22:18:56,086] - obspy.clients.fdsn.mass_downloader - INFO: 48 MiniSEED files [0.3 MB] already existed.\n"
     ]
    },
    {
     "name": "stderr",
     "output_type": "stream",
     "text": [
      "[2024-02-28 22:18:56,086] - obspy.clients.fdsn.mass_downloader - INFO: 48 MiniSEED files [0.3 MB] already existed.\n"
     ]
    },
    {
     "name": "stderr",
     "output_type": "stream",
     "text": [
      "[2024-02-28 22:18:56,086] - obspy.clients.fdsn.mass_downloader - INFO: 48 MiniSEED files [0.3 MB] already existed.\n"
     ]
    },
    {
     "name": "stderr",
     "output_type": "stream",
     "text": [
      "[2024-02-28 22:18:56,086] - obspy.clients.fdsn.mass_downloader - INFO: 48 MiniSEED files [0.3 MB] already existed.\n"
     ]
    },
    {
     "name": "stderr",
     "output_type": "stream",
     "text": [
      "[2024-02-28 22:18:56,086] - obspy.clients.fdsn.mass_downloader - INFO: 48 MiniSEED files [0.3 MB] already existed.\n"
     ]
    },
    {
     "name": "stderr",
     "output_type": "stream",
     "text": [
      "[2024-02-28 22:18:56,086] - obspy.clients.fdsn.mass_downloader - INFO: 48 MiniSEED files [0.3 MB] already existed.\n"
     ]
    },
    {
     "name": "stderr",
     "output_type": "stream",
     "text": [
      "[2024-02-28 22:18:56,086] - obspy.clients.fdsn.mass_downloader - INFO: 48 MiniSEED files [0.3 MB] already existed.\n"
     ]
    },
    {
     "name": "stderr",
     "output_type": "stream",
     "text": [
      "[2024-02-28 22:18:56,086] - obspy.clients.fdsn.mass_downloader - INFO: 48 MiniSEED files [0.3 MB] already existed.\n"
     ]
    },
    {
     "name": "stderr",
     "output_type": "stream",
     "text": [
      "[2024-02-28 22:18:56,086] - obspy.clients.fdsn.mass_downloader - INFO: 48 MiniSEED files [0.3 MB] already existed.\n"
     ]
    },
    {
     "name": "stderr",
     "output_type": "stream",
     "text": [
      "[2024-02-28 22:18:56,086] - obspy.clients.fdsn.mass_downloader - INFO: 48 MiniSEED files [0.3 MB] already existed.\n"
     ]
    },
    {
     "name": "stderr",
     "output_type": "stream",
     "text": [
      "[2024-02-28 22:18:56,086] - obspy.clients.fdsn.mass_downloader - INFO: 48 MiniSEED files [0.3 MB] already existed.\n"
     ]
    },
    {
     "name": "stderr",
     "output_type": "stream",
     "text": [
      "[2024-02-28 22:18:56,086] - obspy.clients.fdsn.mass_downloader - INFO: 48 MiniSEED files [0.3 MB] already existed.\n"
     ]
    },
    {
     "name": "stderr",
     "output_type": "stream",
     "text": [
      "[2024-02-28 22:18:56,086] - obspy.clients.fdsn.mass_downloader - INFO: 48 MiniSEED files [0.3 MB] already existed.\n"
     ]
    },
    {
     "name": "stderr",
     "output_type": "stream",
     "text": [
      "[2024-02-28 22:18:56,086] - obspy.clients.fdsn.mass_downloader - INFO: 48 MiniSEED files [0.3 MB] already existed.\n"
     ]
    },
    {
     "name": "stderr",
     "output_type": "stream",
     "text": [
      "[2024-02-28 22:18:56,096] - obspy.clients.fdsn.mass_downloader - INFO: 16 StationXML files [0.4 MB] already existed.\n"
     ]
    },
    {
     "name": "stderr",
     "output_type": "stream",
     "text": [
      "[2024-02-28 22:18:56,096] - obspy.clients.fdsn.mass_downloader - INFO: 16 StationXML files [0.4 MB] already existed.\n"
     ]
    },
    {
     "name": "stderr",
     "output_type": "stream",
     "text": [
      "[2024-02-28 22:18:56,096] - obspy.clients.fdsn.mass_downloader - INFO: 16 StationXML files [0.4 MB] already existed.\n"
     ]
    },
    {
     "name": "stderr",
     "output_type": "stream",
     "text": [
      "[2024-02-28 22:18:56,096] - obspy.clients.fdsn.mass_downloader - INFO: 16 StationXML files [0.4 MB] already existed.\n"
     ]
    },
    {
     "name": "stderr",
     "output_type": "stream",
     "text": [
      "[2024-02-28 22:18:56,096] - obspy.clients.fdsn.mass_downloader - INFO: 16 StationXML files [0.4 MB] already existed.\n"
     ]
    },
    {
     "name": "stderr",
     "output_type": "stream",
     "text": [
      "[2024-02-28 22:18:56,096] - obspy.clients.fdsn.mass_downloader - INFO: 16 StationXML files [0.4 MB] already existed.\n"
     ]
    },
    {
     "name": "stderr",
     "output_type": "stream",
     "text": [
      "[2024-02-28 22:18:56,096] - obspy.clients.fdsn.mass_downloader - INFO: 16 StationXML files [0.4 MB] already existed.\n"
     ]
    },
    {
     "name": "stderr",
     "output_type": "stream",
     "text": [
      "[2024-02-28 22:18:56,096] - obspy.clients.fdsn.mass_downloader - INFO: 16 StationXML files [0.4 MB] already existed.\n"
     ]
    },
    {
     "name": "stderr",
     "output_type": "stream",
     "text": [
      "[2024-02-28 22:18:56,096] - obspy.clients.fdsn.mass_downloader - INFO: 16 StationXML files [0.4 MB] already existed.\n"
     ]
    },
    {
     "name": "stderr",
     "output_type": "stream",
     "text": [
      "[2024-02-28 22:18:56,096] - obspy.clients.fdsn.mass_downloader - INFO: 16 StationXML files [0.4 MB] already existed.\n"
     ]
    },
    {
     "name": "stderr",
     "output_type": "stream",
     "text": [
      "[2024-02-28 22:18:56,096] - obspy.clients.fdsn.mass_downloader - INFO: 16 StationXML files [0.4 MB] already existed.\n"
     ]
    },
    {
     "name": "stderr",
     "output_type": "stream",
     "text": [
      "[2024-02-28 22:18:56,096] - obspy.clients.fdsn.mass_downloader - INFO: 16 StationXML files [0.4 MB] already existed.\n"
     ]
    },
    {
     "name": "stderr",
     "output_type": "stream",
     "text": [
      "[2024-02-28 22:18:56,096] - obspy.clients.fdsn.mass_downloader - INFO: 16 StationXML files [0.4 MB] already existed.\n"
     ]
    },
    {
     "name": "stderr",
     "output_type": "stream",
     "text": [
      "[2024-02-28 22:18:56,096] - obspy.clients.fdsn.mass_downloader - INFO: 16 StationXML files [0.4 MB] already existed.\n"
     ]
    },
    {
     "name": "stderr",
     "output_type": "stream",
     "text": [
      "[2024-02-28 22:18:56,102] - obspy.clients.fdsn.mass_downloader - INFO: Client 'http://service.iris.edu' - Acquired 0 MiniSEED files [0.0 MB].\n"
     ]
    },
    {
     "name": "stderr",
     "output_type": "stream",
     "text": [
      "[2024-02-28 22:18:56,102] - obspy.clients.fdsn.mass_downloader - INFO: Client 'http://service.iris.edu' - Acquired 0 MiniSEED files [0.0 MB].\n"
     ]
    },
    {
     "name": "stderr",
     "output_type": "stream",
     "text": [
      "[2024-02-28 22:18:56,102] - obspy.clients.fdsn.mass_downloader - INFO: Client 'http://service.iris.edu' - Acquired 0 MiniSEED files [0.0 MB].\n"
     ]
    },
    {
     "name": "stderr",
     "output_type": "stream",
     "text": [
      "[2024-02-28 22:18:56,102] - obspy.clients.fdsn.mass_downloader - INFO: Client 'http://service.iris.edu' - Acquired 0 MiniSEED files [0.0 MB].\n"
     ]
    },
    {
     "name": "stderr",
     "output_type": "stream",
     "text": [
      "[2024-02-28 22:18:56,102] - obspy.clients.fdsn.mass_downloader - INFO: Client 'http://service.iris.edu' - Acquired 0 MiniSEED files [0.0 MB].\n"
     ]
    },
    {
     "name": "stderr",
     "output_type": "stream",
     "text": [
      "[2024-02-28 22:18:56,102] - obspy.clients.fdsn.mass_downloader - INFO: Client 'http://service.iris.edu' - Acquired 0 MiniSEED files [0.0 MB].\n"
     ]
    },
    {
     "name": "stderr",
     "output_type": "stream",
     "text": [
      "[2024-02-28 22:18:56,102] - obspy.clients.fdsn.mass_downloader - INFO: Client 'http://service.iris.edu' - Acquired 0 MiniSEED files [0.0 MB].\n"
     ]
    },
    {
     "name": "stderr",
     "output_type": "stream",
     "text": [
      "[2024-02-28 22:18:56,102] - obspy.clients.fdsn.mass_downloader - INFO: Client 'http://service.iris.edu' - Acquired 0 MiniSEED files [0.0 MB].\n"
     ]
    },
    {
     "name": "stderr",
     "output_type": "stream",
     "text": [
      "[2024-02-28 22:18:56,102] - obspy.clients.fdsn.mass_downloader - INFO: Client 'http://service.iris.edu' - Acquired 0 MiniSEED files [0.0 MB].\n"
     ]
    },
    {
     "name": "stderr",
     "output_type": "stream",
     "text": [
      "[2024-02-28 22:18:56,102] - obspy.clients.fdsn.mass_downloader - INFO: Client 'http://service.iris.edu' - Acquired 0 MiniSEED files [0.0 MB].\n"
     ]
    },
    {
     "name": "stderr",
     "output_type": "stream",
     "text": [
      "[2024-02-28 22:18:56,102] - obspy.clients.fdsn.mass_downloader - INFO: Client 'http://service.iris.edu' - Acquired 0 MiniSEED files [0.0 MB].\n"
     ]
    },
    {
     "name": "stderr",
     "output_type": "stream",
     "text": [
      "[2024-02-28 22:18:56,102] - obspy.clients.fdsn.mass_downloader - INFO: Client 'http://service.iris.edu' - Acquired 0 MiniSEED files [0.0 MB].\n"
     ]
    },
    {
     "name": "stderr",
     "output_type": "stream",
     "text": [
      "[2024-02-28 22:18:56,102] - obspy.clients.fdsn.mass_downloader - INFO: Client 'http://service.iris.edu' - Acquired 0 MiniSEED files [0.0 MB].\n"
     ]
    },
    {
     "name": "stderr",
     "output_type": "stream",
     "text": [
      "[2024-02-28 22:18:56,102] - obspy.clients.fdsn.mass_downloader - INFO: Client 'http://service.iris.edu' - Acquired 0 MiniSEED files [0.0 MB].\n"
     ]
    },
    {
     "name": "stderr",
     "output_type": "stream",
     "text": [
      "[2024-02-28 22:18:56,110] - obspy.clients.fdsn.mass_downloader - INFO: Client 'http://service.iris.edu' - Acquired 0 StationXML files [0.0 MB].\n"
     ]
    },
    {
     "name": "stderr",
     "output_type": "stream",
     "text": [
      "[2024-02-28 22:18:56,110] - obspy.clients.fdsn.mass_downloader - INFO: Client 'http://service.iris.edu' - Acquired 0 StationXML files [0.0 MB].\n"
     ]
    },
    {
     "name": "stderr",
     "output_type": "stream",
     "text": [
      "[2024-02-28 22:18:56,110] - obspy.clients.fdsn.mass_downloader - INFO: Client 'http://service.iris.edu' - Acquired 0 StationXML files [0.0 MB].\n"
     ]
    },
    {
     "name": "stderr",
     "output_type": "stream",
     "text": [
      "[2024-02-28 22:18:56,110] - obspy.clients.fdsn.mass_downloader - INFO: Client 'http://service.iris.edu' - Acquired 0 StationXML files [0.0 MB].\n"
     ]
    },
    {
     "name": "stderr",
     "output_type": "stream",
     "text": [
      "[2024-02-28 22:18:56,110] - obspy.clients.fdsn.mass_downloader - INFO: Client 'http://service.iris.edu' - Acquired 0 StationXML files [0.0 MB].\n"
     ]
    },
    {
     "name": "stderr",
     "output_type": "stream",
     "text": [
      "[2024-02-28 22:18:56,110] - obspy.clients.fdsn.mass_downloader - INFO: Client 'http://service.iris.edu' - Acquired 0 StationXML files [0.0 MB].\n"
     ]
    },
    {
     "name": "stderr",
     "output_type": "stream",
     "text": [
      "[2024-02-28 22:18:56,110] - obspy.clients.fdsn.mass_downloader - INFO: Client 'http://service.iris.edu' - Acquired 0 StationXML files [0.0 MB].\n"
     ]
    },
    {
     "name": "stderr",
     "output_type": "stream",
     "text": [
      "[2024-02-28 22:18:56,110] - obspy.clients.fdsn.mass_downloader - INFO: Client 'http://service.iris.edu' - Acquired 0 StationXML files [0.0 MB].\n"
     ]
    },
    {
     "name": "stderr",
     "output_type": "stream",
     "text": [
      "[2024-02-28 22:18:56,110] - obspy.clients.fdsn.mass_downloader - INFO: Client 'http://service.iris.edu' - Acquired 0 StationXML files [0.0 MB].\n"
     ]
    },
    {
     "name": "stderr",
     "output_type": "stream",
     "text": [
      "[2024-02-28 22:18:56,110] - obspy.clients.fdsn.mass_downloader - INFO: Client 'http://service.iris.edu' - Acquired 0 StationXML files [0.0 MB].\n"
     ]
    },
    {
     "name": "stderr",
     "output_type": "stream",
     "text": [
      "[2024-02-28 22:18:56,110] - obspy.clients.fdsn.mass_downloader - INFO: Client 'http://service.iris.edu' - Acquired 0 StationXML files [0.0 MB].\n"
     ]
    },
    {
     "name": "stderr",
     "output_type": "stream",
     "text": [
      "[2024-02-28 22:18:56,110] - obspy.clients.fdsn.mass_downloader - INFO: Client 'http://service.iris.edu' - Acquired 0 StationXML files [0.0 MB].\n"
     ]
    },
    {
     "name": "stderr",
     "output_type": "stream",
     "text": [
      "[2024-02-28 22:18:56,110] - obspy.clients.fdsn.mass_downloader - INFO: Client 'http://service.iris.edu' - Acquired 0 StationXML files [0.0 MB].\n"
     ]
    },
    {
     "name": "stderr",
     "output_type": "stream",
     "text": [
      "[2024-02-28 22:18:56,110] - obspy.clients.fdsn.mass_downloader - INFO: Client 'http://service.iris.edu' - Acquired 0 StationXML files [0.0 MB].\n"
     ]
    },
    {
     "name": "stderr",
     "output_type": "stream",
     "text": [
      "[2024-02-28 22:18:56,117] - obspy.clients.fdsn.mass_downloader - INFO: Downloaded 0.0 MB in total.\n"
     ]
    },
    {
     "name": "stderr",
     "output_type": "stream",
     "text": [
      "[2024-02-28 22:18:56,117] - obspy.clients.fdsn.mass_downloader - INFO: Downloaded 0.0 MB in total.\n"
     ]
    },
    {
     "name": "stderr",
     "output_type": "stream",
     "text": [
      "[2024-02-28 22:18:56,117] - obspy.clients.fdsn.mass_downloader - INFO: Downloaded 0.0 MB in total.\n"
     ]
    },
    {
     "name": "stderr",
     "output_type": "stream",
     "text": [
      "[2024-02-28 22:18:56,117] - obspy.clients.fdsn.mass_downloader - INFO: Downloaded 0.0 MB in total.\n"
     ]
    },
    {
     "name": "stderr",
     "output_type": "stream",
     "text": [
      "[2024-02-28 22:18:56,117] - obspy.clients.fdsn.mass_downloader - INFO: Downloaded 0.0 MB in total.\n"
     ]
    },
    {
     "name": "stderr",
     "output_type": "stream",
     "text": [
      "[2024-02-28 22:18:56,117] - obspy.clients.fdsn.mass_downloader - INFO: Downloaded 0.0 MB in total.\n"
     ]
    },
    {
     "name": "stderr",
     "output_type": "stream",
     "text": [
      "[2024-02-28 22:18:56,117] - obspy.clients.fdsn.mass_downloader - INFO: Downloaded 0.0 MB in total.\n"
     ]
    },
    {
     "name": "stderr",
     "output_type": "stream",
     "text": [
      "[2024-02-28 22:18:56,117] - obspy.clients.fdsn.mass_downloader - INFO: Downloaded 0.0 MB in total.\n"
     ]
    },
    {
     "name": "stderr",
     "output_type": "stream",
     "text": [
      "[2024-02-28 22:18:56,117] - obspy.clients.fdsn.mass_downloader - INFO: Downloaded 0.0 MB in total.\n"
     ]
    },
    {
     "name": "stderr",
     "output_type": "stream",
     "text": [
      "[2024-02-28 22:18:56,117] - obspy.clients.fdsn.mass_downloader - INFO: Downloaded 0.0 MB in total.\n"
     ]
    },
    {
     "name": "stderr",
     "output_type": "stream",
     "text": [
      "[2024-02-28 22:18:56,117] - obspy.clients.fdsn.mass_downloader - INFO: Downloaded 0.0 MB in total.\n"
     ]
    },
    {
     "name": "stderr",
     "output_type": "stream",
     "text": [
      "[2024-02-28 22:18:56,117] - obspy.clients.fdsn.mass_downloader - INFO: Downloaded 0.0 MB in total.\n"
     ]
    },
    {
     "name": "stderr",
     "output_type": "stream",
     "text": [
      "[2024-02-28 22:18:56,117] - obspy.clients.fdsn.mass_downloader - INFO: Downloaded 0.0 MB in total.\n"
     ]
    },
    {
     "name": "stderr",
     "output_type": "stream",
     "text": [
      "[2024-02-28 22:18:56,117] - obspy.clients.fdsn.mass_downloader - INFO: Downloaded 0.0 MB in total.\n"
     ]
    },
    {
     "name": "stderr",
     "output_type": "stream",
     "text": [
      "[2024-02-28 22:18:56,172] - obspy.clients.fdsn.mass_downloader - INFO: Initializing FDSN client(s) for http://service.iris.edu.\n"
     ]
    },
    {
     "name": "stderr",
     "output_type": "stream",
     "text": [
      "[2024-02-28 22:18:56,172] - obspy.clients.fdsn.mass_downloader - INFO: Initializing FDSN client(s) for http://service.iris.edu.\n"
     ]
    },
    {
     "name": "stderr",
     "output_type": "stream",
     "text": [
      "[2024-02-28 22:18:56,172] - obspy.clients.fdsn.mass_downloader - INFO: Initializing FDSN client(s) for http://service.iris.edu.\n"
     ]
    },
    {
     "name": "stderr",
     "output_type": "stream",
     "text": [
      "[2024-02-28 22:18:56,172] - obspy.clients.fdsn.mass_downloader - INFO: Initializing FDSN client(s) for http://service.iris.edu.\n"
     ]
    },
    {
     "name": "stderr",
     "output_type": "stream",
     "text": [
      "[2024-02-28 22:18:56,172] - obspy.clients.fdsn.mass_downloader - INFO: Initializing FDSN client(s) for http://service.iris.edu.\n"
     ]
    },
    {
     "name": "stderr",
     "output_type": "stream",
     "text": [
      "[2024-02-28 22:18:56,172] - obspy.clients.fdsn.mass_downloader - INFO: Initializing FDSN client(s) for http://service.iris.edu.\n"
     ]
    },
    {
     "name": "stderr",
     "output_type": "stream",
     "text": [
      "[2024-02-28 22:18:56,172] - obspy.clients.fdsn.mass_downloader - INFO: Initializing FDSN client(s) for http://service.iris.edu.\n"
     ]
    },
    {
     "name": "stderr",
     "output_type": "stream",
     "text": [
      "[2024-02-28 22:18:56,172] - obspy.clients.fdsn.mass_downloader - INFO: Initializing FDSN client(s) for http://service.iris.edu.\n"
     ]
    },
    {
     "name": "stderr",
     "output_type": "stream",
     "text": [
      "[2024-02-28 22:18:56,172] - obspy.clients.fdsn.mass_downloader - INFO: Initializing FDSN client(s) for http://service.iris.edu.\n"
     ]
    },
    {
     "name": "stderr",
     "output_type": "stream",
     "text": [
      "[2024-02-28 22:18:56,172] - obspy.clients.fdsn.mass_downloader - INFO: Initializing FDSN client(s) for http://service.iris.edu.\n"
     ]
    },
    {
     "name": "stderr",
     "output_type": "stream",
     "text": [
      "[2024-02-28 22:18:56,172] - obspy.clients.fdsn.mass_downloader - INFO: Initializing FDSN client(s) for http://service.iris.edu.\n"
     ]
    },
    {
     "name": "stderr",
     "output_type": "stream",
     "text": [
      "[2024-02-28 22:18:56,172] - obspy.clients.fdsn.mass_downloader - INFO: Initializing FDSN client(s) for http://service.iris.edu.\n"
     ]
    },
    {
     "name": "stderr",
     "output_type": "stream",
     "text": [
      "[2024-02-28 22:18:56,172] - obspy.clients.fdsn.mass_downloader - INFO: Initializing FDSN client(s) for http://service.iris.edu.\n"
     ]
    },
    {
     "name": "stderr",
     "output_type": "stream",
     "text": [
      "[2024-02-28 22:18:56,172] - obspy.clients.fdsn.mass_downloader - INFO: Initializing FDSN client(s) for http://service.iris.edu.\n"
     ]
    },
    {
     "name": "stderr",
     "output_type": "stream",
     "text": [
      "[2024-02-28 22:18:56,172] - obspy.clients.fdsn.mass_downloader - INFO: Initializing FDSN client(s) for http://service.iris.edu.\n"
     ]
    },
    {
     "name": "stderr",
     "output_type": "stream",
     "text": [
      "[2024-02-28 22:18:56,181] - obspy.clients.fdsn.mass_downloader - INFO: Successfully initialized 1 client(s): http://service.iris.edu.\n"
     ]
    },
    {
     "name": "stderr",
     "output_type": "stream",
     "text": [
      "[2024-02-28 22:18:56,181] - obspy.clients.fdsn.mass_downloader - INFO: Successfully initialized 1 client(s): http://service.iris.edu.\n"
     ]
    },
    {
     "name": "stderr",
     "output_type": "stream",
     "text": [
      "[2024-02-28 22:18:56,181] - obspy.clients.fdsn.mass_downloader - INFO: Successfully initialized 1 client(s): http://service.iris.edu.\n"
     ]
    },
    {
     "name": "stderr",
     "output_type": "stream",
     "text": [
      "[2024-02-28 22:18:56,181] - obspy.clients.fdsn.mass_downloader - INFO: Successfully initialized 1 client(s): http://service.iris.edu.\n"
     ]
    },
    {
     "name": "stderr",
     "output_type": "stream",
     "text": [
      "[2024-02-28 22:18:56,181] - obspy.clients.fdsn.mass_downloader - INFO: Successfully initialized 1 client(s): http://service.iris.edu.\n"
     ]
    },
    {
     "name": "stderr",
     "output_type": "stream",
     "text": [
      "[2024-02-28 22:18:56,181] - obspy.clients.fdsn.mass_downloader - INFO: Successfully initialized 1 client(s): http://service.iris.edu.\n"
     ]
    },
    {
     "name": "stderr",
     "output_type": "stream",
     "text": [
      "[2024-02-28 22:18:56,181] - obspy.clients.fdsn.mass_downloader - INFO: Successfully initialized 1 client(s): http://service.iris.edu.\n"
     ]
    },
    {
     "name": "stderr",
     "output_type": "stream",
     "text": [
      "[2024-02-28 22:18:56,181] - obspy.clients.fdsn.mass_downloader - INFO: Successfully initialized 1 client(s): http://service.iris.edu.\n"
     ]
    },
    {
     "name": "stderr",
     "output_type": "stream",
     "text": [
      "[2024-02-28 22:18:56,181] - obspy.clients.fdsn.mass_downloader - INFO: Successfully initialized 1 client(s): http://service.iris.edu.\n"
     ]
    },
    {
     "name": "stderr",
     "output_type": "stream",
     "text": [
      "[2024-02-28 22:18:56,181] - obspy.clients.fdsn.mass_downloader - INFO: Successfully initialized 1 client(s): http://service.iris.edu.\n"
     ]
    },
    {
     "name": "stderr",
     "output_type": "stream",
     "text": [
      "[2024-02-28 22:18:56,181] - obspy.clients.fdsn.mass_downloader - INFO: Successfully initialized 1 client(s): http://service.iris.edu.\n"
     ]
    },
    {
     "name": "stderr",
     "output_type": "stream",
     "text": [
      "[2024-02-28 22:18:56,181] - obspy.clients.fdsn.mass_downloader - INFO: Successfully initialized 1 client(s): http://service.iris.edu.\n"
     ]
    },
    {
     "name": "stderr",
     "output_type": "stream",
     "text": [
      "[2024-02-28 22:18:56,181] - obspy.clients.fdsn.mass_downloader - INFO: Successfully initialized 1 client(s): http://service.iris.edu.\n"
     ]
    },
    {
     "name": "stderr",
     "output_type": "stream",
     "text": [
      "[2024-02-28 22:18:56,181] - obspy.clients.fdsn.mass_downloader - INFO: Successfully initialized 1 client(s): http://service.iris.edu.\n"
     ]
    },
    {
     "name": "stderr",
     "output_type": "stream",
     "text": [
      "[2024-02-28 22:18:56,181] - obspy.clients.fdsn.mass_downloader - INFO: Successfully initialized 1 client(s): http://service.iris.edu.\n"
     ]
    },
    {
     "name": "stderr",
     "output_type": "stream",
     "text": [
      "[2024-02-28 22:18:56,188] - obspy.clients.fdsn.mass_downloader - INFO: Total acquired or preexisting stations: 0\n"
     ]
    },
    {
     "name": "stderr",
     "output_type": "stream",
     "text": [
      "[2024-02-28 22:18:56,188] - obspy.clients.fdsn.mass_downloader - INFO: Total acquired or preexisting stations: 0\n"
     ]
    },
    {
     "name": "stderr",
     "output_type": "stream",
     "text": [
      "[2024-02-28 22:18:56,188] - obspy.clients.fdsn.mass_downloader - INFO: Total acquired or preexisting stations: 0\n"
     ]
    },
    {
     "name": "stderr",
     "output_type": "stream",
     "text": [
      "[2024-02-28 22:18:56,188] - obspy.clients.fdsn.mass_downloader - INFO: Total acquired or preexisting stations: 0\n"
     ]
    },
    {
     "name": "stderr",
     "output_type": "stream",
     "text": [
      "[2024-02-28 22:18:56,188] - obspy.clients.fdsn.mass_downloader - INFO: Total acquired or preexisting stations: 0\n"
     ]
    },
    {
     "name": "stderr",
     "output_type": "stream",
     "text": [
      "[2024-02-28 22:18:56,188] - obspy.clients.fdsn.mass_downloader - INFO: Total acquired or preexisting stations: 0\n"
     ]
    },
    {
     "name": "stderr",
     "output_type": "stream",
     "text": [
      "[2024-02-28 22:18:56,188] - obspy.clients.fdsn.mass_downloader - INFO: Total acquired or preexisting stations: 0\n"
     ]
    },
    {
     "name": "stderr",
     "output_type": "stream",
     "text": [
      "[2024-02-28 22:18:56,188] - obspy.clients.fdsn.mass_downloader - INFO: Total acquired or preexisting stations: 0\n"
     ]
    },
    {
     "name": "stderr",
     "output_type": "stream",
     "text": [
      "[2024-02-28 22:18:56,188] - obspy.clients.fdsn.mass_downloader - INFO: Total acquired or preexisting stations: 0\n"
     ]
    },
    {
     "name": "stderr",
     "output_type": "stream",
     "text": [
      "[2024-02-28 22:18:56,188] - obspy.clients.fdsn.mass_downloader - INFO: Total acquired or preexisting stations: 0\n"
     ]
    },
    {
     "name": "stderr",
     "output_type": "stream",
     "text": [
      "[2024-02-28 22:18:56,188] - obspy.clients.fdsn.mass_downloader - INFO: Total acquired or preexisting stations: 0\n"
     ]
    },
    {
     "name": "stderr",
     "output_type": "stream",
     "text": [
      "[2024-02-28 22:18:56,188] - obspy.clients.fdsn.mass_downloader - INFO: Total acquired or preexisting stations: 0\n"
     ]
    },
    {
     "name": "stderr",
     "output_type": "stream",
     "text": [
      "[2024-02-28 22:18:56,188] - obspy.clients.fdsn.mass_downloader - INFO: Total acquired or preexisting stations: 0\n"
     ]
    },
    {
     "name": "stderr",
     "output_type": "stream",
     "text": [
      "[2024-02-28 22:18:56,188] - obspy.clients.fdsn.mass_downloader - INFO: Total acquired or preexisting stations: 0\n"
     ]
    },
    {
     "name": "stderr",
     "output_type": "stream",
     "text": [
      "[2024-02-28 22:18:56,188] - obspy.clients.fdsn.mass_downloader - INFO: Total acquired or preexisting stations: 0\n"
     ]
    },
    {
     "name": "stderr",
     "output_type": "stream",
     "text": [
      "[2024-02-28 22:18:56,195] - obspy.clients.fdsn.mass_downloader - INFO: Client 'http://service.iris.edu' - Requesting reliable availability.\n"
     ]
    },
    {
     "name": "stderr",
     "output_type": "stream",
     "text": [
      "[2024-02-28 22:18:56,195] - obspy.clients.fdsn.mass_downloader - INFO: Client 'http://service.iris.edu' - Requesting reliable availability.\n"
     ]
    },
    {
     "name": "stderr",
     "output_type": "stream",
     "text": [
      "[2024-02-28 22:18:56,195] - obspy.clients.fdsn.mass_downloader - INFO: Client 'http://service.iris.edu' - Requesting reliable availability.\n"
     ]
    },
    {
     "name": "stderr",
     "output_type": "stream",
     "text": [
      "[2024-02-28 22:18:56,195] - obspy.clients.fdsn.mass_downloader - INFO: Client 'http://service.iris.edu' - Requesting reliable availability.\n"
     ]
    },
    {
     "name": "stderr",
     "output_type": "stream",
     "text": [
      "[2024-02-28 22:18:56,195] - obspy.clients.fdsn.mass_downloader - INFO: Client 'http://service.iris.edu' - Requesting reliable availability.\n"
     ]
    },
    {
     "name": "stderr",
     "output_type": "stream",
     "text": [
      "[2024-02-28 22:18:56,195] - obspy.clients.fdsn.mass_downloader - INFO: Client 'http://service.iris.edu' - Requesting reliable availability.\n"
     ]
    },
    {
     "name": "stderr",
     "output_type": "stream",
     "text": [
      "[2024-02-28 22:18:56,195] - obspy.clients.fdsn.mass_downloader - INFO: Client 'http://service.iris.edu' - Requesting reliable availability.\n"
     ]
    },
    {
     "name": "stderr",
     "output_type": "stream",
     "text": [
      "[2024-02-28 22:18:56,195] - obspy.clients.fdsn.mass_downloader - INFO: Client 'http://service.iris.edu' - Requesting reliable availability.\n"
     ]
    },
    {
     "name": "stderr",
     "output_type": "stream",
     "text": [
      "[2024-02-28 22:18:56,195] - obspy.clients.fdsn.mass_downloader - INFO: Client 'http://service.iris.edu' - Requesting reliable availability.\n"
     ]
    },
    {
     "name": "stderr",
     "output_type": "stream",
     "text": [
      "[2024-02-28 22:18:56,195] - obspy.clients.fdsn.mass_downloader - INFO: Client 'http://service.iris.edu' - Requesting reliable availability.\n"
     ]
    },
    {
     "name": "stderr",
     "output_type": "stream",
     "text": [
      "[2024-02-28 22:18:56,195] - obspy.clients.fdsn.mass_downloader - INFO: Client 'http://service.iris.edu' - Requesting reliable availability.\n"
     ]
    },
    {
     "name": "stderr",
     "output_type": "stream",
     "text": [
      "[2024-02-28 22:18:56,195] - obspy.clients.fdsn.mass_downloader - INFO: Client 'http://service.iris.edu' - Requesting reliable availability.\n"
     ]
    },
    {
     "name": "stderr",
     "output_type": "stream",
     "text": [
      "[2024-02-28 22:18:56,195] - obspy.clients.fdsn.mass_downloader - INFO: Client 'http://service.iris.edu' - Requesting reliable availability.\n"
     ]
    },
    {
     "name": "stderr",
     "output_type": "stream",
     "text": [
      "[2024-02-28 22:18:56,195] - obspy.clients.fdsn.mass_downloader - INFO: Client 'http://service.iris.edu' - Requesting reliable availability.\n"
     ]
    },
    {
     "name": "stderr",
     "output_type": "stream",
     "text": [
      "[2024-02-28 22:18:56,195] - obspy.clients.fdsn.mass_downloader - INFO: Client 'http://service.iris.edu' - Requesting reliable availability.\n"
     ]
    },
    {
     "name": "stderr",
     "output_type": "stream",
     "text": [
      "[2024-02-28 22:18:57,330] - obspy.clients.fdsn.mass_downloader - INFO: Client 'http://service.iris.edu' - Successfully requested availability (1.13 seconds)\n"
     ]
    },
    {
     "name": "stderr",
     "output_type": "stream",
     "text": [
      "[2024-02-28 22:18:57,330] - obspy.clients.fdsn.mass_downloader - INFO: Client 'http://service.iris.edu' - Successfully requested availability (1.13 seconds)\n"
     ]
    },
    {
     "name": "stderr",
     "output_type": "stream",
     "text": [
      "[2024-02-28 22:18:57,330] - obspy.clients.fdsn.mass_downloader - INFO: Client 'http://service.iris.edu' - Successfully requested availability (1.13 seconds)\n"
     ]
    },
    {
     "name": "stderr",
     "output_type": "stream",
     "text": [
      "[2024-02-28 22:18:57,330] - obspy.clients.fdsn.mass_downloader - INFO: Client 'http://service.iris.edu' - Successfully requested availability (1.13 seconds)\n"
     ]
    },
    {
     "name": "stderr",
     "output_type": "stream",
     "text": [
      "[2024-02-28 22:18:57,330] - obspy.clients.fdsn.mass_downloader - INFO: Client 'http://service.iris.edu' - Successfully requested availability (1.13 seconds)\n"
     ]
    },
    {
     "name": "stderr",
     "output_type": "stream",
     "text": [
      "[2024-02-28 22:18:57,330] - obspy.clients.fdsn.mass_downloader - INFO: Client 'http://service.iris.edu' - Successfully requested availability (1.13 seconds)\n"
     ]
    },
    {
     "name": "stderr",
     "output_type": "stream",
     "text": [
      "[2024-02-28 22:18:57,330] - obspy.clients.fdsn.mass_downloader - INFO: Client 'http://service.iris.edu' - Successfully requested availability (1.13 seconds)\n"
     ]
    },
    {
     "name": "stderr",
     "output_type": "stream",
     "text": [
      "[2024-02-28 22:18:57,330] - obspy.clients.fdsn.mass_downloader - INFO: Client 'http://service.iris.edu' - Successfully requested availability (1.13 seconds)\n"
     ]
    },
    {
     "name": "stderr",
     "output_type": "stream",
     "text": [
      "[2024-02-28 22:18:57,330] - obspy.clients.fdsn.mass_downloader - INFO: Client 'http://service.iris.edu' - Successfully requested availability (1.13 seconds)\n"
     ]
    },
    {
     "name": "stderr",
     "output_type": "stream",
     "text": [
      "[2024-02-28 22:18:57,330] - obspy.clients.fdsn.mass_downloader - INFO: Client 'http://service.iris.edu' - Successfully requested availability (1.13 seconds)\n"
     ]
    },
    {
     "name": "stderr",
     "output_type": "stream",
     "text": [
      "[2024-02-28 22:18:57,330] - obspy.clients.fdsn.mass_downloader - INFO: Client 'http://service.iris.edu' - Successfully requested availability (1.13 seconds)\n"
     ]
    },
    {
     "name": "stderr",
     "output_type": "stream",
     "text": [
      "[2024-02-28 22:18:57,330] - obspy.clients.fdsn.mass_downloader - INFO: Client 'http://service.iris.edu' - Successfully requested availability (1.13 seconds)\n"
     ]
    },
    {
     "name": "stderr",
     "output_type": "stream",
     "text": [
      "[2024-02-28 22:18:57,330] - obspy.clients.fdsn.mass_downloader - INFO: Client 'http://service.iris.edu' - Successfully requested availability (1.13 seconds)\n"
     ]
    },
    {
     "name": "stderr",
     "output_type": "stream",
     "text": [
      "[2024-02-28 22:18:57,330] - obspy.clients.fdsn.mass_downloader - INFO: Client 'http://service.iris.edu' - Successfully requested availability (1.13 seconds)\n"
     ]
    },
    {
     "name": "stderr",
     "output_type": "stream",
     "text": [
      "[2024-02-28 22:18:57,330] - obspy.clients.fdsn.mass_downloader - INFO: Client 'http://service.iris.edu' - Successfully requested availability (1.13 seconds)\n"
     ]
    },
    {
     "name": "stderr",
     "output_type": "stream",
     "text": [
      "[2024-02-28 22:18:57,368] - obspy.clients.fdsn.mass_downloader - INFO: Client 'http://service.iris.edu' - Found 19 stations (57 channels).\n"
     ]
    },
    {
     "name": "stderr",
     "output_type": "stream",
     "text": [
      "[2024-02-28 22:18:57,368] - obspy.clients.fdsn.mass_downloader - INFO: Client 'http://service.iris.edu' - Found 19 stations (57 channels).\n"
     ]
    },
    {
     "name": "stderr",
     "output_type": "stream",
     "text": [
      "[2024-02-28 22:18:57,368] - obspy.clients.fdsn.mass_downloader - INFO: Client 'http://service.iris.edu' - Found 19 stations (57 channels).\n"
     ]
    },
    {
     "name": "stderr",
     "output_type": "stream",
     "text": [
      "[2024-02-28 22:18:57,368] - obspy.clients.fdsn.mass_downloader - INFO: Client 'http://service.iris.edu' - Found 19 stations (57 channels).\n"
     ]
    },
    {
     "name": "stderr",
     "output_type": "stream",
     "text": [
      "[2024-02-28 22:18:57,368] - obspy.clients.fdsn.mass_downloader - INFO: Client 'http://service.iris.edu' - Found 19 stations (57 channels).\n"
     ]
    },
    {
     "name": "stderr",
     "output_type": "stream",
     "text": [
      "[2024-02-28 22:18:57,368] - obspy.clients.fdsn.mass_downloader - INFO: Client 'http://service.iris.edu' - Found 19 stations (57 channels).\n"
     ]
    },
    {
     "name": "stderr",
     "output_type": "stream",
     "text": [
      "[2024-02-28 22:18:57,368] - obspy.clients.fdsn.mass_downloader - INFO: Client 'http://service.iris.edu' - Found 19 stations (57 channels).\n"
     ]
    },
    {
     "name": "stderr",
     "output_type": "stream",
     "text": [
      "[2024-02-28 22:18:57,368] - obspy.clients.fdsn.mass_downloader - INFO: Client 'http://service.iris.edu' - Found 19 stations (57 channels).\n"
     ]
    },
    {
     "name": "stderr",
     "output_type": "stream",
     "text": [
      "[2024-02-28 22:18:57,368] - obspy.clients.fdsn.mass_downloader - INFO: Client 'http://service.iris.edu' - Found 19 stations (57 channels).\n"
     ]
    },
    {
     "name": "stderr",
     "output_type": "stream",
     "text": [
      "[2024-02-28 22:18:57,368] - obspy.clients.fdsn.mass_downloader - INFO: Client 'http://service.iris.edu' - Found 19 stations (57 channels).\n"
     ]
    },
    {
     "name": "stderr",
     "output_type": "stream",
     "text": [
      "[2024-02-28 22:18:57,368] - obspy.clients.fdsn.mass_downloader - INFO: Client 'http://service.iris.edu' - Found 19 stations (57 channels).\n"
     ]
    },
    {
     "name": "stderr",
     "output_type": "stream",
     "text": [
      "[2024-02-28 22:18:57,368] - obspy.clients.fdsn.mass_downloader - INFO: Client 'http://service.iris.edu' - Found 19 stations (57 channels).\n"
     ]
    },
    {
     "name": "stderr",
     "output_type": "stream",
     "text": [
      "[2024-02-28 22:18:57,368] - obspy.clients.fdsn.mass_downloader - INFO: Client 'http://service.iris.edu' - Found 19 stations (57 channels).\n"
     ]
    },
    {
     "name": "stderr",
     "output_type": "stream",
     "text": [
      "[2024-02-28 22:18:57,368] - obspy.clients.fdsn.mass_downloader - INFO: Client 'http://service.iris.edu' - Found 19 stations (57 channels).\n"
     ]
    },
    {
     "name": "stderr",
     "output_type": "stream",
     "text": [
      "[2024-02-28 22:18:57,368] - obspy.clients.fdsn.mass_downloader - INFO: Client 'http://service.iris.edu' - Found 19 stations (57 channels).\n"
     ]
    },
    {
     "name": "stderr",
     "output_type": "stream",
     "text": [
      "[2024-02-28 22:18:57,380] - obspy.clients.fdsn.mass_downloader - INFO: Client 'http://service.iris.edu' - Will attempt to download data from 19 stations.\n"
     ]
    },
    {
     "name": "stderr",
     "output_type": "stream",
     "text": [
      "[2024-02-28 22:18:57,380] - obspy.clients.fdsn.mass_downloader - INFO: Client 'http://service.iris.edu' - Will attempt to download data from 19 stations.\n"
     ]
    },
    {
     "name": "stderr",
     "output_type": "stream",
     "text": [
      "[2024-02-28 22:18:57,380] - obspy.clients.fdsn.mass_downloader - INFO: Client 'http://service.iris.edu' - Will attempt to download data from 19 stations.\n"
     ]
    },
    {
     "name": "stderr",
     "output_type": "stream",
     "text": [
      "[2024-02-28 22:18:57,380] - obspy.clients.fdsn.mass_downloader - INFO: Client 'http://service.iris.edu' - Will attempt to download data from 19 stations.\n"
     ]
    },
    {
     "name": "stderr",
     "output_type": "stream",
     "text": [
      "[2024-02-28 22:18:57,380] - obspy.clients.fdsn.mass_downloader - INFO: Client 'http://service.iris.edu' - Will attempt to download data from 19 stations.\n"
     ]
    },
    {
     "name": "stderr",
     "output_type": "stream",
     "text": [
      "[2024-02-28 22:18:57,380] - obspy.clients.fdsn.mass_downloader - INFO: Client 'http://service.iris.edu' - Will attempt to download data from 19 stations.\n"
     ]
    },
    {
     "name": "stderr",
     "output_type": "stream",
     "text": [
      "[2024-02-28 22:18:57,380] - obspy.clients.fdsn.mass_downloader - INFO: Client 'http://service.iris.edu' - Will attempt to download data from 19 stations.\n"
     ]
    },
    {
     "name": "stderr",
     "output_type": "stream",
     "text": [
      "[2024-02-28 22:18:57,380] - obspy.clients.fdsn.mass_downloader - INFO: Client 'http://service.iris.edu' - Will attempt to download data from 19 stations.\n"
     ]
    },
    {
     "name": "stderr",
     "output_type": "stream",
     "text": [
      "[2024-02-28 22:18:57,380] - obspy.clients.fdsn.mass_downloader - INFO: Client 'http://service.iris.edu' - Will attempt to download data from 19 stations.\n"
     ]
    },
    {
     "name": "stderr",
     "output_type": "stream",
     "text": [
      "[2024-02-28 22:18:57,380] - obspy.clients.fdsn.mass_downloader - INFO: Client 'http://service.iris.edu' - Will attempt to download data from 19 stations.\n"
     ]
    },
    {
     "name": "stderr",
     "output_type": "stream",
     "text": [
      "[2024-02-28 22:18:57,380] - obspy.clients.fdsn.mass_downloader - INFO: Client 'http://service.iris.edu' - Will attempt to download data from 19 stations.\n"
     ]
    },
    {
     "name": "stderr",
     "output_type": "stream",
     "text": [
      "[2024-02-28 22:18:57,380] - obspy.clients.fdsn.mass_downloader - INFO: Client 'http://service.iris.edu' - Will attempt to download data from 19 stations.\n"
     ]
    },
    {
     "name": "stderr",
     "output_type": "stream",
     "text": [
      "[2024-02-28 22:18:57,380] - obspy.clients.fdsn.mass_downloader - INFO: Client 'http://service.iris.edu' - Will attempt to download data from 19 stations.\n"
     ]
    },
    {
     "name": "stderr",
     "output_type": "stream",
     "text": [
      "[2024-02-28 22:18:57,380] - obspy.clients.fdsn.mass_downloader - INFO: Client 'http://service.iris.edu' - Will attempt to download data from 19 stations.\n"
     ]
    },
    {
     "name": "stderr",
     "output_type": "stream",
     "text": [
      "[2024-02-28 22:18:57,380] - obspy.clients.fdsn.mass_downloader - INFO: Client 'http://service.iris.edu' - Will attempt to download data from 19 stations.\n"
     ]
    },
    {
     "name": "stderr",
     "output_type": "stream",
     "text": [
      "[2024-02-28 22:18:57,389] - obspy.clients.fdsn.mass_downloader - INFO: Client 'http://service.iris.edu' - Status for 51 time intervals/channels before downloading: EXISTS\n"
     ]
    },
    {
     "name": "stderr",
     "output_type": "stream",
     "text": [
      "[2024-02-28 22:18:57,389] - obspy.clients.fdsn.mass_downloader - INFO: Client 'http://service.iris.edu' - Status for 51 time intervals/channels before downloading: EXISTS\n"
     ]
    },
    {
     "name": "stderr",
     "output_type": "stream",
     "text": [
      "[2024-02-28 22:18:57,389] - obspy.clients.fdsn.mass_downloader - INFO: Client 'http://service.iris.edu' - Status for 51 time intervals/channels before downloading: EXISTS\n"
     ]
    },
    {
     "name": "stderr",
     "output_type": "stream",
     "text": [
      "[2024-02-28 22:18:57,389] - obspy.clients.fdsn.mass_downloader - INFO: Client 'http://service.iris.edu' - Status for 51 time intervals/channels before downloading: EXISTS\n"
     ]
    },
    {
     "name": "stderr",
     "output_type": "stream",
     "text": [
      "[2024-02-28 22:18:57,389] - obspy.clients.fdsn.mass_downloader - INFO: Client 'http://service.iris.edu' - Status for 51 time intervals/channels before downloading: EXISTS\n"
     ]
    },
    {
     "name": "stderr",
     "output_type": "stream",
     "text": [
      "[2024-02-28 22:18:57,389] - obspy.clients.fdsn.mass_downloader - INFO: Client 'http://service.iris.edu' - Status for 51 time intervals/channels before downloading: EXISTS\n"
     ]
    },
    {
     "name": "stderr",
     "output_type": "stream",
     "text": [
      "[2024-02-28 22:18:57,389] - obspy.clients.fdsn.mass_downloader - INFO: Client 'http://service.iris.edu' - Status for 51 time intervals/channels before downloading: EXISTS\n"
     ]
    },
    {
     "name": "stderr",
     "output_type": "stream",
     "text": [
      "[2024-02-28 22:18:57,389] - obspy.clients.fdsn.mass_downloader - INFO: Client 'http://service.iris.edu' - Status for 51 time intervals/channels before downloading: EXISTS\n"
     ]
    },
    {
     "name": "stderr",
     "output_type": "stream",
     "text": [
      "[2024-02-28 22:18:57,389] - obspy.clients.fdsn.mass_downloader - INFO: Client 'http://service.iris.edu' - Status for 51 time intervals/channels before downloading: EXISTS\n"
     ]
    },
    {
     "name": "stderr",
     "output_type": "stream",
     "text": [
      "[2024-02-28 22:18:57,389] - obspy.clients.fdsn.mass_downloader - INFO: Client 'http://service.iris.edu' - Status for 51 time intervals/channels before downloading: EXISTS\n"
     ]
    },
    {
     "name": "stderr",
     "output_type": "stream",
     "text": [
      "[2024-02-28 22:18:57,389] - obspy.clients.fdsn.mass_downloader - INFO: Client 'http://service.iris.edu' - Status for 51 time intervals/channels before downloading: EXISTS\n"
     ]
    },
    {
     "name": "stderr",
     "output_type": "stream",
     "text": [
      "[2024-02-28 22:18:57,389] - obspy.clients.fdsn.mass_downloader - INFO: Client 'http://service.iris.edu' - Status for 51 time intervals/channels before downloading: EXISTS\n"
     ]
    },
    {
     "name": "stderr",
     "output_type": "stream",
     "text": [
      "[2024-02-28 22:18:57,389] - obspy.clients.fdsn.mass_downloader - INFO: Client 'http://service.iris.edu' - Status for 51 time intervals/channels before downloading: EXISTS\n"
     ]
    },
    {
     "name": "stderr",
     "output_type": "stream",
     "text": [
      "[2024-02-28 22:18:57,389] - obspy.clients.fdsn.mass_downloader - INFO: Client 'http://service.iris.edu' - Status for 51 time intervals/channels before downloading: EXISTS\n"
     ]
    },
    {
     "name": "stderr",
     "output_type": "stream",
     "text": [
      "[2024-02-28 22:18:57,389] - obspy.clients.fdsn.mass_downloader - INFO: Client 'http://service.iris.edu' - Status for 51 time intervals/channels before downloading: EXISTS\n"
     ]
    },
    {
     "name": "stderr",
     "output_type": "stream",
     "text": [
      "[2024-02-28 22:18:57,394] - obspy.clients.fdsn.mass_downloader - INFO: Client 'http://service.iris.edu' - Status for 6 time intervals/channels before downloading: NEEDS_DOWNLOADING\n"
     ]
    },
    {
     "name": "stderr",
     "output_type": "stream",
     "text": [
      "[2024-02-28 22:18:57,394] - obspy.clients.fdsn.mass_downloader - INFO: Client 'http://service.iris.edu' - Status for 6 time intervals/channels before downloading: NEEDS_DOWNLOADING\n"
     ]
    },
    {
     "name": "stderr",
     "output_type": "stream",
     "text": [
      "[2024-02-28 22:18:57,394] - obspy.clients.fdsn.mass_downloader - INFO: Client 'http://service.iris.edu' - Status for 6 time intervals/channels before downloading: NEEDS_DOWNLOADING\n"
     ]
    },
    {
     "name": "stderr",
     "output_type": "stream",
     "text": [
      "[2024-02-28 22:18:57,394] - obspy.clients.fdsn.mass_downloader - INFO: Client 'http://service.iris.edu' - Status for 6 time intervals/channels before downloading: NEEDS_DOWNLOADING\n"
     ]
    },
    {
     "name": "stderr",
     "output_type": "stream",
     "text": [
      "[2024-02-28 22:18:57,394] - obspy.clients.fdsn.mass_downloader - INFO: Client 'http://service.iris.edu' - Status for 6 time intervals/channels before downloading: NEEDS_DOWNLOADING\n"
     ]
    },
    {
     "name": "stderr",
     "output_type": "stream",
     "text": [
      "[2024-02-28 22:18:57,394] - obspy.clients.fdsn.mass_downloader - INFO: Client 'http://service.iris.edu' - Status for 6 time intervals/channels before downloading: NEEDS_DOWNLOADING\n"
     ]
    },
    {
     "name": "stderr",
     "output_type": "stream",
     "text": [
      "[2024-02-28 22:18:57,394] - obspy.clients.fdsn.mass_downloader - INFO: Client 'http://service.iris.edu' - Status for 6 time intervals/channels before downloading: NEEDS_DOWNLOADING\n"
     ]
    },
    {
     "name": "stderr",
     "output_type": "stream",
     "text": [
      "[2024-02-28 22:18:57,394] - obspy.clients.fdsn.mass_downloader - INFO: Client 'http://service.iris.edu' - Status for 6 time intervals/channels before downloading: NEEDS_DOWNLOADING\n"
     ]
    },
    {
     "name": "stderr",
     "output_type": "stream",
     "text": [
      "[2024-02-28 22:18:57,394] - obspy.clients.fdsn.mass_downloader - INFO: Client 'http://service.iris.edu' - Status for 6 time intervals/channels before downloading: NEEDS_DOWNLOADING\n"
     ]
    },
    {
     "name": "stderr",
     "output_type": "stream",
     "text": [
      "[2024-02-28 22:18:57,394] - obspy.clients.fdsn.mass_downloader - INFO: Client 'http://service.iris.edu' - Status for 6 time intervals/channels before downloading: NEEDS_DOWNLOADING\n"
     ]
    },
    {
     "name": "stderr",
     "output_type": "stream",
     "text": [
      "[2024-02-28 22:18:57,394] - obspy.clients.fdsn.mass_downloader - INFO: Client 'http://service.iris.edu' - Status for 6 time intervals/channels before downloading: NEEDS_DOWNLOADING\n"
     ]
    },
    {
     "name": "stderr",
     "output_type": "stream",
     "text": [
      "[2024-02-28 22:18:57,394] - obspy.clients.fdsn.mass_downloader - INFO: Client 'http://service.iris.edu' - Status for 6 time intervals/channels before downloading: NEEDS_DOWNLOADING\n"
     ]
    },
    {
     "name": "stderr",
     "output_type": "stream",
     "text": [
      "[2024-02-28 22:18:57,394] - obspy.clients.fdsn.mass_downloader - INFO: Client 'http://service.iris.edu' - Status for 6 time intervals/channels before downloading: NEEDS_DOWNLOADING\n"
     ]
    },
    {
     "name": "stderr",
     "output_type": "stream",
     "text": [
      "[2024-02-28 22:18:57,394] - obspy.clients.fdsn.mass_downloader - INFO: Client 'http://service.iris.edu' - Status for 6 time intervals/channels before downloading: NEEDS_DOWNLOADING\n"
     ]
    },
    {
     "name": "stderr",
     "output_type": "stream",
     "text": [
      "[2024-02-28 22:18:57,394] - obspy.clients.fdsn.mass_downloader - INFO: Client 'http://service.iris.edu' - Status for 6 time intervals/channels before downloading: NEEDS_DOWNLOADING\n"
     ]
    },
    {
     "name": "stderr",
     "output_type": "stream",
     "text": [
      "[2024-02-28 22:18:58,009] - obspy.clients.fdsn.mass_downloader - INFO: Client 'http://service.iris.edu' - No data available for request.\n",
      "HTTP Status code: 204\n"
     ]
    },
    {
     "name": "stderr",
     "output_type": "stream",
     "text": [
      "[2024-02-28 22:18:58,009] - obspy.clients.fdsn.mass_downloader - INFO: Client 'http://service.iris.edu' - No data available for request.\n",
      "HTTP Status code: 204\n"
     ]
    },
    {
     "name": "stderr",
     "output_type": "stream",
     "text": [
      "[2024-02-28 22:18:58,009] - obspy.clients.fdsn.mass_downloader - INFO: Client 'http://service.iris.edu' - No data available for request.\n",
      "HTTP Status code: 204\n"
     ]
    },
    {
     "name": "stderr",
     "output_type": "stream",
     "text": [
      "[2024-02-28 22:18:58,009] - obspy.clients.fdsn.mass_downloader - INFO: Client 'http://service.iris.edu' - No data available for request.\n",
      "HTTP Status code: 204\n"
     ]
    },
    {
     "name": "stderr",
     "output_type": "stream",
     "text": [
      "[2024-02-28 22:18:58,009] - obspy.clients.fdsn.mass_downloader - INFO: Client 'http://service.iris.edu' - No data available for request.\n",
      "HTTP Status code: 204\n"
     ]
    },
    {
     "name": "stderr",
     "output_type": "stream",
     "text": [
      "[2024-02-28 22:18:58,009] - obspy.clients.fdsn.mass_downloader - INFO: Client 'http://service.iris.edu' - No data available for request.\n",
      "HTTP Status code: 204\n"
     ]
    },
    {
     "name": "stderr",
     "output_type": "stream",
     "text": [
      "[2024-02-28 22:18:58,009] - obspy.clients.fdsn.mass_downloader - INFO: Client 'http://service.iris.edu' - No data available for request.\n",
      "HTTP Status code: 204\n"
     ]
    },
    {
     "name": "stderr",
     "output_type": "stream",
     "text": [
      "[2024-02-28 22:18:58,009] - obspy.clients.fdsn.mass_downloader - INFO: Client 'http://service.iris.edu' - No data available for request.\n",
      "HTTP Status code: 204\n"
     ]
    },
    {
     "name": "stderr",
     "output_type": "stream",
     "text": [
      "[2024-02-28 22:18:58,009] - obspy.clients.fdsn.mass_downloader - INFO: Client 'http://service.iris.edu' - No data available for request.\n",
      "HTTP Status code: 204\n"
     ]
    },
    {
     "name": "stderr",
     "output_type": "stream",
     "text": [
      "[2024-02-28 22:18:58,009] - obspy.clients.fdsn.mass_downloader - INFO: Client 'http://service.iris.edu' - No data available for request.\n",
      "HTTP Status code: 204\n"
     ]
    },
    {
     "name": "stderr",
     "output_type": "stream",
     "text": [
      "[2024-02-28 22:18:58,009] - obspy.clients.fdsn.mass_downloader - INFO: Client 'http://service.iris.edu' - No data available for request.\n",
      "HTTP Status code: 204\n"
     ]
    },
    {
     "name": "stderr",
     "output_type": "stream",
     "text": [
      "[2024-02-28 22:18:58,009] - obspy.clients.fdsn.mass_downloader - INFO: Client 'http://service.iris.edu' - No data available for request.\n",
      "HTTP Status code: 204\n"
     ]
    },
    {
     "name": "stderr",
     "output_type": "stream",
     "text": [
      "[2024-02-28 22:18:58,009] - obspy.clients.fdsn.mass_downloader - INFO: Client 'http://service.iris.edu' - No data available for request.\n",
      "HTTP Status code: 204\n"
     ]
    },
    {
     "name": "stderr",
     "output_type": "stream",
     "text": [
      "[2024-02-28 22:18:58,009] - obspy.clients.fdsn.mass_downloader - INFO: Client 'http://service.iris.edu' - No data available for request.\n",
      "HTTP Status code: 204\n"
     ]
    },
    {
     "name": "stderr",
     "output_type": "stream",
     "text": [
      "[2024-02-28 22:18:58,009] - obspy.clients.fdsn.mass_downloader - INFO: Client 'http://service.iris.edu' - No data available for request.\n",
      "HTTP Status code: 204\n"
     ]
    },
    {
     "name": "stderr",
     "output_type": "stream",
     "text": [
      "[2024-02-28 22:18:58,016] - obspy.clients.fdsn.mass_downloader - INFO: Client 'http://service.iris.edu' - Launching basic QC checks...\n"
     ]
    },
    {
     "name": "stderr",
     "output_type": "stream",
     "text": [
      "[2024-02-28 22:18:58,016] - obspy.clients.fdsn.mass_downloader - INFO: Client 'http://service.iris.edu' - Launching basic QC checks...\n"
     ]
    },
    {
     "name": "stderr",
     "output_type": "stream",
     "text": [
      "[2024-02-28 22:18:58,016] - obspy.clients.fdsn.mass_downloader - INFO: Client 'http://service.iris.edu' - Launching basic QC checks...\n"
     ]
    },
    {
     "name": "stderr",
     "output_type": "stream",
     "text": [
      "[2024-02-28 22:18:58,016] - obspy.clients.fdsn.mass_downloader - INFO: Client 'http://service.iris.edu' - Launching basic QC checks...\n"
     ]
    },
    {
     "name": "stderr",
     "output_type": "stream",
     "text": [
      "[2024-02-28 22:18:58,016] - obspy.clients.fdsn.mass_downloader - INFO: Client 'http://service.iris.edu' - Launching basic QC checks...\n"
     ]
    },
    {
     "name": "stderr",
     "output_type": "stream",
     "text": [
      "[2024-02-28 22:18:58,016] - obspy.clients.fdsn.mass_downloader - INFO: Client 'http://service.iris.edu' - Launching basic QC checks...\n"
     ]
    },
    {
     "name": "stderr",
     "output_type": "stream",
     "text": [
      "[2024-02-28 22:18:58,016] - obspy.clients.fdsn.mass_downloader - INFO: Client 'http://service.iris.edu' - Launching basic QC checks...\n"
     ]
    },
    {
     "name": "stderr",
     "output_type": "stream",
     "text": [
      "[2024-02-28 22:18:58,016] - obspy.clients.fdsn.mass_downloader - INFO: Client 'http://service.iris.edu' - Launching basic QC checks...\n"
     ]
    },
    {
     "name": "stderr",
     "output_type": "stream",
     "text": [
      "[2024-02-28 22:18:58,016] - obspy.clients.fdsn.mass_downloader - INFO: Client 'http://service.iris.edu' - Launching basic QC checks...\n"
     ]
    },
    {
     "name": "stderr",
     "output_type": "stream",
     "text": [
      "[2024-02-28 22:18:58,016] - obspy.clients.fdsn.mass_downloader - INFO: Client 'http://service.iris.edu' - Launching basic QC checks...\n"
     ]
    },
    {
     "name": "stderr",
     "output_type": "stream",
     "text": [
      "[2024-02-28 22:18:58,016] - obspy.clients.fdsn.mass_downloader - INFO: Client 'http://service.iris.edu' - Launching basic QC checks...\n"
     ]
    },
    {
     "name": "stderr",
     "output_type": "stream",
     "text": [
      "[2024-02-28 22:18:58,016] - obspy.clients.fdsn.mass_downloader - INFO: Client 'http://service.iris.edu' - Launching basic QC checks...\n"
     ]
    },
    {
     "name": "stderr",
     "output_type": "stream",
     "text": [
      "[2024-02-28 22:18:58,016] - obspy.clients.fdsn.mass_downloader - INFO: Client 'http://service.iris.edu' - Launching basic QC checks...\n"
     ]
    },
    {
     "name": "stderr",
     "output_type": "stream",
     "text": [
      "[2024-02-28 22:18:58,016] - obspy.clients.fdsn.mass_downloader - INFO: Client 'http://service.iris.edu' - Launching basic QC checks...\n"
     ]
    },
    {
     "name": "stderr",
     "output_type": "stream",
     "text": [
      "[2024-02-28 22:18:58,016] - obspy.clients.fdsn.mass_downloader - INFO: Client 'http://service.iris.edu' - Launching basic QC checks...\n"
     ]
    },
    {
     "name": "stderr",
     "output_type": "stream",
     "text": [
      "[2024-02-28 22:18:58,028] - obspy.clients.fdsn.mass_downloader - INFO: Client 'http://service.iris.edu' - Downloaded 0.0 MB [0.00 KB/sec] of data, 0.0 MB of which were discarded afterwards.\n"
     ]
    },
    {
     "name": "stderr",
     "output_type": "stream",
     "text": [
      "[2024-02-28 22:18:58,028] - obspy.clients.fdsn.mass_downloader - INFO: Client 'http://service.iris.edu' - Downloaded 0.0 MB [0.00 KB/sec] of data, 0.0 MB of which were discarded afterwards.\n"
     ]
    },
    {
     "name": "stderr",
     "output_type": "stream",
     "text": [
      "[2024-02-28 22:18:58,028] - obspy.clients.fdsn.mass_downloader - INFO: Client 'http://service.iris.edu' - Downloaded 0.0 MB [0.00 KB/sec] of data, 0.0 MB of which were discarded afterwards.\n"
     ]
    },
    {
     "name": "stderr",
     "output_type": "stream",
     "text": [
      "[2024-02-28 22:18:58,028] - obspy.clients.fdsn.mass_downloader - INFO: Client 'http://service.iris.edu' - Downloaded 0.0 MB [0.00 KB/sec] of data, 0.0 MB of which were discarded afterwards.\n"
     ]
    },
    {
     "name": "stderr",
     "output_type": "stream",
     "text": [
      "[2024-02-28 22:18:58,028] - obspy.clients.fdsn.mass_downloader - INFO: Client 'http://service.iris.edu' - Downloaded 0.0 MB [0.00 KB/sec] of data, 0.0 MB of which were discarded afterwards.\n"
     ]
    },
    {
     "name": "stderr",
     "output_type": "stream",
     "text": [
      "[2024-02-28 22:18:58,028] - obspy.clients.fdsn.mass_downloader - INFO: Client 'http://service.iris.edu' - Downloaded 0.0 MB [0.00 KB/sec] of data, 0.0 MB of which were discarded afterwards.\n"
     ]
    },
    {
     "name": "stderr",
     "output_type": "stream",
     "text": [
      "[2024-02-28 22:18:58,028] - obspy.clients.fdsn.mass_downloader - INFO: Client 'http://service.iris.edu' - Downloaded 0.0 MB [0.00 KB/sec] of data, 0.0 MB of which were discarded afterwards.\n"
     ]
    },
    {
     "name": "stderr",
     "output_type": "stream",
     "text": [
      "[2024-02-28 22:18:58,028] - obspy.clients.fdsn.mass_downloader - INFO: Client 'http://service.iris.edu' - Downloaded 0.0 MB [0.00 KB/sec] of data, 0.0 MB of which were discarded afterwards.\n"
     ]
    },
    {
     "name": "stderr",
     "output_type": "stream",
     "text": [
      "[2024-02-28 22:18:58,028] - obspy.clients.fdsn.mass_downloader - INFO: Client 'http://service.iris.edu' - Downloaded 0.0 MB [0.00 KB/sec] of data, 0.0 MB of which were discarded afterwards.\n"
     ]
    },
    {
     "name": "stderr",
     "output_type": "stream",
     "text": [
      "[2024-02-28 22:18:58,028] - obspy.clients.fdsn.mass_downloader - INFO: Client 'http://service.iris.edu' - Downloaded 0.0 MB [0.00 KB/sec] of data, 0.0 MB of which were discarded afterwards.\n"
     ]
    },
    {
     "name": "stderr",
     "output_type": "stream",
     "text": [
      "[2024-02-28 22:18:58,028] - obspy.clients.fdsn.mass_downloader - INFO: Client 'http://service.iris.edu' - Downloaded 0.0 MB [0.00 KB/sec] of data, 0.0 MB of which were discarded afterwards.\n"
     ]
    },
    {
     "name": "stderr",
     "output_type": "stream",
     "text": [
      "[2024-02-28 22:18:58,028] - obspy.clients.fdsn.mass_downloader - INFO: Client 'http://service.iris.edu' - Downloaded 0.0 MB [0.00 KB/sec] of data, 0.0 MB of which were discarded afterwards.\n"
     ]
    },
    {
     "name": "stderr",
     "output_type": "stream",
     "text": [
      "[2024-02-28 22:18:58,028] - obspy.clients.fdsn.mass_downloader - INFO: Client 'http://service.iris.edu' - Downloaded 0.0 MB [0.00 KB/sec] of data, 0.0 MB of which were discarded afterwards.\n"
     ]
    },
    {
     "name": "stderr",
     "output_type": "stream",
     "text": [
      "[2024-02-28 22:18:58,028] - obspy.clients.fdsn.mass_downloader - INFO: Client 'http://service.iris.edu' - Downloaded 0.0 MB [0.00 KB/sec] of data, 0.0 MB of which were discarded afterwards.\n"
     ]
    },
    {
     "name": "stderr",
     "output_type": "stream",
     "text": [
      "[2024-02-28 22:18:58,028] - obspy.clients.fdsn.mass_downloader - INFO: Client 'http://service.iris.edu' - Downloaded 0.0 MB [0.00 KB/sec] of data, 0.0 MB of which were discarded afterwards.\n"
     ]
    },
    {
     "name": "stderr",
     "output_type": "stream",
     "text": [
      "[2024-02-28 22:18:58,035] - obspy.clients.fdsn.mass_downloader - INFO: Client 'http://service.iris.edu' - Status for 6 time intervals/channels after downloading: DOWNLOAD_FAILED\n"
     ]
    },
    {
     "name": "stderr",
     "output_type": "stream",
     "text": [
      "[2024-02-28 22:18:58,035] - obspy.clients.fdsn.mass_downloader - INFO: Client 'http://service.iris.edu' - Status for 6 time intervals/channels after downloading: DOWNLOAD_FAILED\n"
     ]
    },
    {
     "name": "stderr",
     "output_type": "stream",
     "text": [
      "[2024-02-28 22:18:58,035] - obspy.clients.fdsn.mass_downloader - INFO: Client 'http://service.iris.edu' - Status for 6 time intervals/channels after downloading: DOWNLOAD_FAILED\n"
     ]
    },
    {
     "name": "stderr",
     "output_type": "stream",
     "text": [
      "[2024-02-28 22:18:58,035] - obspy.clients.fdsn.mass_downloader - INFO: Client 'http://service.iris.edu' - Status for 6 time intervals/channels after downloading: DOWNLOAD_FAILED\n"
     ]
    },
    {
     "name": "stderr",
     "output_type": "stream",
     "text": [
      "[2024-02-28 22:18:58,035] - obspy.clients.fdsn.mass_downloader - INFO: Client 'http://service.iris.edu' - Status for 6 time intervals/channels after downloading: DOWNLOAD_FAILED\n"
     ]
    },
    {
     "name": "stderr",
     "output_type": "stream",
     "text": [
      "[2024-02-28 22:18:58,035] - obspy.clients.fdsn.mass_downloader - INFO: Client 'http://service.iris.edu' - Status for 6 time intervals/channels after downloading: DOWNLOAD_FAILED\n"
     ]
    },
    {
     "name": "stderr",
     "output_type": "stream",
     "text": [
      "[2024-02-28 22:18:58,035] - obspy.clients.fdsn.mass_downloader - INFO: Client 'http://service.iris.edu' - Status for 6 time intervals/channels after downloading: DOWNLOAD_FAILED\n"
     ]
    },
    {
     "name": "stderr",
     "output_type": "stream",
     "text": [
      "[2024-02-28 22:18:58,035] - obspy.clients.fdsn.mass_downloader - INFO: Client 'http://service.iris.edu' - Status for 6 time intervals/channels after downloading: DOWNLOAD_FAILED\n"
     ]
    },
    {
     "name": "stderr",
     "output_type": "stream",
     "text": [
      "[2024-02-28 22:18:58,035] - obspy.clients.fdsn.mass_downloader - INFO: Client 'http://service.iris.edu' - Status for 6 time intervals/channels after downloading: DOWNLOAD_FAILED\n"
     ]
    },
    {
     "name": "stderr",
     "output_type": "stream",
     "text": [
      "[2024-02-28 22:18:58,035] - obspy.clients.fdsn.mass_downloader - INFO: Client 'http://service.iris.edu' - Status for 6 time intervals/channels after downloading: DOWNLOAD_FAILED\n"
     ]
    },
    {
     "name": "stderr",
     "output_type": "stream",
     "text": [
      "[2024-02-28 22:18:58,035] - obspy.clients.fdsn.mass_downloader - INFO: Client 'http://service.iris.edu' - Status for 6 time intervals/channels after downloading: DOWNLOAD_FAILED\n"
     ]
    },
    {
     "name": "stderr",
     "output_type": "stream",
     "text": [
      "[2024-02-28 22:18:58,035] - obspy.clients.fdsn.mass_downloader - INFO: Client 'http://service.iris.edu' - Status for 6 time intervals/channels after downloading: DOWNLOAD_FAILED\n"
     ]
    },
    {
     "name": "stderr",
     "output_type": "stream",
     "text": [
      "[2024-02-28 22:18:58,035] - obspy.clients.fdsn.mass_downloader - INFO: Client 'http://service.iris.edu' - Status for 6 time intervals/channels after downloading: DOWNLOAD_FAILED\n"
     ]
    },
    {
     "name": "stderr",
     "output_type": "stream",
     "text": [
      "[2024-02-28 22:18:58,035] - obspy.clients.fdsn.mass_downloader - INFO: Client 'http://service.iris.edu' - Status for 6 time intervals/channels after downloading: DOWNLOAD_FAILED\n"
     ]
    },
    {
     "name": "stderr",
     "output_type": "stream",
     "text": [
      "[2024-02-28 22:18:58,035] - obspy.clients.fdsn.mass_downloader - INFO: Client 'http://service.iris.edu' - Status for 6 time intervals/channels after downloading: DOWNLOAD_FAILED\n"
     ]
    },
    {
     "name": "stderr",
     "output_type": "stream",
     "text": [
      "[2024-02-28 22:18:58,042] - obspy.clients.fdsn.mass_downloader - INFO: Client 'http://service.iris.edu' - Status for 51 time intervals/channels after downloading: EXISTS\n"
     ]
    },
    {
     "name": "stderr",
     "output_type": "stream",
     "text": [
      "[2024-02-28 22:18:58,042] - obspy.clients.fdsn.mass_downloader - INFO: Client 'http://service.iris.edu' - Status for 51 time intervals/channels after downloading: EXISTS\n"
     ]
    },
    {
     "name": "stderr",
     "output_type": "stream",
     "text": [
      "[2024-02-28 22:18:58,042] - obspy.clients.fdsn.mass_downloader - INFO: Client 'http://service.iris.edu' - Status for 51 time intervals/channels after downloading: EXISTS\n"
     ]
    },
    {
     "name": "stderr",
     "output_type": "stream",
     "text": [
      "[2024-02-28 22:18:58,042] - obspy.clients.fdsn.mass_downloader - INFO: Client 'http://service.iris.edu' - Status for 51 time intervals/channels after downloading: EXISTS\n"
     ]
    },
    {
     "name": "stderr",
     "output_type": "stream",
     "text": [
      "[2024-02-28 22:18:58,042] - obspy.clients.fdsn.mass_downloader - INFO: Client 'http://service.iris.edu' - Status for 51 time intervals/channels after downloading: EXISTS\n"
     ]
    },
    {
     "name": "stderr",
     "output_type": "stream",
     "text": [
      "[2024-02-28 22:18:58,042] - obspy.clients.fdsn.mass_downloader - INFO: Client 'http://service.iris.edu' - Status for 51 time intervals/channels after downloading: EXISTS\n"
     ]
    },
    {
     "name": "stderr",
     "output_type": "stream",
     "text": [
      "[2024-02-28 22:18:58,042] - obspy.clients.fdsn.mass_downloader - INFO: Client 'http://service.iris.edu' - Status for 51 time intervals/channels after downloading: EXISTS\n"
     ]
    },
    {
     "name": "stderr",
     "output_type": "stream",
     "text": [
      "[2024-02-28 22:18:58,042] - obspy.clients.fdsn.mass_downloader - INFO: Client 'http://service.iris.edu' - Status for 51 time intervals/channels after downloading: EXISTS\n"
     ]
    },
    {
     "name": "stderr",
     "output_type": "stream",
     "text": [
      "[2024-02-28 22:18:58,042] - obspy.clients.fdsn.mass_downloader - INFO: Client 'http://service.iris.edu' - Status for 51 time intervals/channels after downloading: EXISTS\n"
     ]
    },
    {
     "name": "stderr",
     "output_type": "stream",
     "text": [
      "[2024-02-28 22:18:58,042] - obspy.clients.fdsn.mass_downloader - INFO: Client 'http://service.iris.edu' - Status for 51 time intervals/channels after downloading: EXISTS\n"
     ]
    },
    {
     "name": "stderr",
     "output_type": "stream",
     "text": [
      "[2024-02-28 22:18:58,042] - obspy.clients.fdsn.mass_downloader - INFO: Client 'http://service.iris.edu' - Status for 51 time intervals/channels after downloading: EXISTS\n"
     ]
    },
    {
     "name": "stderr",
     "output_type": "stream",
     "text": [
      "[2024-02-28 22:18:58,042] - obspy.clients.fdsn.mass_downloader - INFO: Client 'http://service.iris.edu' - Status for 51 time intervals/channels after downloading: EXISTS\n"
     ]
    },
    {
     "name": "stderr",
     "output_type": "stream",
     "text": [
      "[2024-02-28 22:18:58,042] - obspy.clients.fdsn.mass_downloader - INFO: Client 'http://service.iris.edu' - Status for 51 time intervals/channels after downloading: EXISTS\n"
     ]
    },
    {
     "name": "stderr",
     "output_type": "stream",
     "text": [
      "[2024-02-28 22:18:58,042] - obspy.clients.fdsn.mass_downloader - INFO: Client 'http://service.iris.edu' - Status for 51 time intervals/channels after downloading: EXISTS\n"
     ]
    },
    {
     "name": "stderr",
     "output_type": "stream",
     "text": [
      "[2024-02-28 22:18:58,042] - obspy.clients.fdsn.mass_downloader - INFO: Client 'http://service.iris.edu' - Status for 51 time intervals/channels after downloading: EXISTS\n"
     ]
    },
    {
     "name": "stderr",
     "output_type": "stream",
     "text": [
      "[2024-02-28 22:18:58,066] - obspy.clients.fdsn.mass_downloader - INFO: Client 'http://service.iris.edu' - No station information to download.\n"
     ]
    },
    {
     "name": "stderr",
     "output_type": "stream",
     "text": [
      "[2024-02-28 22:18:58,066] - obspy.clients.fdsn.mass_downloader - INFO: Client 'http://service.iris.edu' - No station information to download.\n"
     ]
    },
    {
     "name": "stderr",
     "output_type": "stream",
     "text": [
      "[2024-02-28 22:18:58,066] - obspy.clients.fdsn.mass_downloader - INFO: Client 'http://service.iris.edu' - No station information to download.\n"
     ]
    },
    {
     "name": "stderr",
     "output_type": "stream",
     "text": [
      "[2024-02-28 22:18:58,066] - obspy.clients.fdsn.mass_downloader - INFO: Client 'http://service.iris.edu' - No station information to download.\n"
     ]
    },
    {
     "name": "stderr",
     "output_type": "stream",
     "text": [
      "[2024-02-28 22:18:58,066] - obspy.clients.fdsn.mass_downloader - INFO: Client 'http://service.iris.edu' - No station information to download.\n"
     ]
    },
    {
     "name": "stderr",
     "output_type": "stream",
     "text": [
      "[2024-02-28 22:18:58,066] - obspy.clients.fdsn.mass_downloader - INFO: Client 'http://service.iris.edu' - No station information to download.\n"
     ]
    },
    {
     "name": "stderr",
     "output_type": "stream",
     "text": [
      "[2024-02-28 22:18:58,066] - obspy.clients.fdsn.mass_downloader - INFO: Client 'http://service.iris.edu' - No station information to download.\n"
     ]
    },
    {
     "name": "stderr",
     "output_type": "stream",
     "text": [
      "[2024-02-28 22:18:58,066] - obspy.clients.fdsn.mass_downloader - INFO: Client 'http://service.iris.edu' - No station information to download.\n"
     ]
    },
    {
     "name": "stderr",
     "output_type": "stream",
     "text": [
      "[2024-02-28 22:18:58,066] - obspy.clients.fdsn.mass_downloader - INFO: Client 'http://service.iris.edu' - No station information to download.\n"
     ]
    },
    {
     "name": "stderr",
     "output_type": "stream",
     "text": [
      "[2024-02-28 22:18:58,066] - obspy.clients.fdsn.mass_downloader - INFO: Client 'http://service.iris.edu' - No station information to download.\n"
     ]
    },
    {
     "name": "stderr",
     "output_type": "stream",
     "text": [
      "[2024-02-28 22:18:58,066] - obspy.clients.fdsn.mass_downloader - INFO: Client 'http://service.iris.edu' - No station information to download.\n"
     ]
    },
    {
     "name": "stderr",
     "output_type": "stream",
     "text": [
      "[2024-02-28 22:18:58,066] - obspy.clients.fdsn.mass_downloader - INFO: Client 'http://service.iris.edu' - No station information to download.\n"
     ]
    },
    {
     "name": "stderr",
     "output_type": "stream",
     "text": [
      "[2024-02-28 22:18:58,066] - obspy.clients.fdsn.mass_downloader - INFO: Client 'http://service.iris.edu' - No station information to download.\n"
     ]
    },
    {
     "name": "stderr",
     "output_type": "stream",
     "text": [
      "[2024-02-28 22:18:58,066] - obspy.clients.fdsn.mass_downloader - INFO: Client 'http://service.iris.edu' - No station information to download.\n"
     ]
    },
    {
     "name": "stderr",
     "output_type": "stream",
     "text": [
      "[2024-02-28 22:18:58,066] - obspy.clients.fdsn.mass_downloader - INFO: Client 'http://service.iris.edu' - No station information to download.\n"
     ]
    },
    {
     "name": "stderr",
     "output_type": "stream",
     "text": [
      "[2024-02-28 22:18:58,072] - obspy.clients.fdsn.mass_downloader - INFO: ============================== Final report\n"
     ]
    },
    {
     "name": "stderr",
     "output_type": "stream",
     "text": [
      "[2024-02-28 22:18:58,072] - obspy.clients.fdsn.mass_downloader - INFO: ============================== Final report\n"
     ]
    },
    {
     "name": "stderr",
     "output_type": "stream",
     "text": [
      "[2024-02-28 22:18:58,072] - obspy.clients.fdsn.mass_downloader - INFO: ============================== Final report\n"
     ]
    },
    {
     "name": "stderr",
     "output_type": "stream",
     "text": [
      "[2024-02-28 22:18:58,072] - obspy.clients.fdsn.mass_downloader - INFO: ============================== Final report\n"
     ]
    },
    {
     "name": "stderr",
     "output_type": "stream",
     "text": [
      "[2024-02-28 22:18:58,072] - obspy.clients.fdsn.mass_downloader - INFO: ============================== Final report\n"
     ]
    },
    {
     "name": "stderr",
     "output_type": "stream",
     "text": [
      "[2024-02-28 22:18:58,072] - obspy.clients.fdsn.mass_downloader - INFO: ============================== Final report\n"
     ]
    },
    {
     "name": "stderr",
     "output_type": "stream",
     "text": [
      "[2024-02-28 22:18:58,072] - obspy.clients.fdsn.mass_downloader - INFO: ============================== Final report\n"
     ]
    },
    {
     "name": "stderr",
     "output_type": "stream",
     "text": [
      "[2024-02-28 22:18:58,072] - obspy.clients.fdsn.mass_downloader - INFO: ============================== Final report\n"
     ]
    },
    {
     "name": "stderr",
     "output_type": "stream",
     "text": [
      "[2024-02-28 22:18:58,072] - obspy.clients.fdsn.mass_downloader - INFO: ============================== Final report\n"
     ]
    },
    {
     "name": "stderr",
     "output_type": "stream",
     "text": [
      "[2024-02-28 22:18:58,072] - obspy.clients.fdsn.mass_downloader - INFO: ============================== Final report\n"
     ]
    },
    {
     "name": "stderr",
     "output_type": "stream",
     "text": [
      "[2024-02-28 22:18:58,072] - obspy.clients.fdsn.mass_downloader - INFO: ============================== Final report\n"
     ]
    },
    {
     "name": "stderr",
     "output_type": "stream",
     "text": [
      "[2024-02-28 22:18:58,072] - obspy.clients.fdsn.mass_downloader - INFO: ============================== Final report\n"
     ]
    },
    {
     "name": "stderr",
     "output_type": "stream",
     "text": [
      "[2024-02-28 22:18:58,072] - obspy.clients.fdsn.mass_downloader - INFO: ============================== Final report\n"
     ]
    },
    {
     "name": "stderr",
     "output_type": "stream",
     "text": [
      "[2024-02-28 22:18:58,072] - obspy.clients.fdsn.mass_downloader - INFO: ============================== Final report\n"
     ]
    },
    {
     "name": "stderr",
     "output_type": "stream",
     "text": [
      "[2024-02-28 22:18:58,072] - obspy.clients.fdsn.mass_downloader - INFO: ============================== Final report\n"
     ]
    },
    {
     "name": "stderr",
     "output_type": "stream",
     "text": [
      "[2024-02-28 22:18:58,082] - obspy.clients.fdsn.mass_downloader - INFO: 51 MiniSEED files [0.3 MB] already existed.\n"
     ]
    },
    {
     "name": "stderr",
     "output_type": "stream",
     "text": [
      "[2024-02-28 22:18:58,082] - obspy.clients.fdsn.mass_downloader - INFO: 51 MiniSEED files [0.3 MB] already existed.\n"
     ]
    },
    {
     "name": "stderr",
     "output_type": "stream",
     "text": [
      "[2024-02-28 22:18:58,082] - obspy.clients.fdsn.mass_downloader - INFO: 51 MiniSEED files [0.3 MB] already existed.\n"
     ]
    },
    {
     "name": "stderr",
     "output_type": "stream",
     "text": [
      "[2024-02-28 22:18:58,082] - obspy.clients.fdsn.mass_downloader - INFO: 51 MiniSEED files [0.3 MB] already existed.\n"
     ]
    },
    {
     "name": "stderr",
     "output_type": "stream",
     "text": [
      "[2024-02-28 22:18:58,082] - obspy.clients.fdsn.mass_downloader - INFO: 51 MiniSEED files [0.3 MB] already existed.\n"
     ]
    },
    {
     "name": "stderr",
     "output_type": "stream",
     "text": [
      "[2024-02-28 22:18:58,082] - obspy.clients.fdsn.mass_downloader - INFO: 51 MiniSEED files [0.3 MB] already existed.\n"
     ]
    },
    {
     "name": "stderr",
     "output_type": "stream",
     "text": [
      "[2024-02-28 22:18:58,082] - obspy.clients.fdsn.mass_downloader - INFO: 51 MiniSEED files [0.3 MB] already existed.\n"
     ]
    },
    {
     "name": "stderr",
     "output_type": "stream",
     "text": [
      "[2024-02-28 22:18:58,082] - obspy.clients.fdsn.mass_downloader - INFO: 51 MiniSEED files [0.3 MB] already existed.\n"
     ]
    },
    {
     "name": "stderr",
     "output_type": "stream",
     "text": [
      "[2024-02-28 22:18:58,082] - obspy.clients.fdsn.mass_downloader - INFO: 51 MiniSEED files [0.3 MB] already existed.\n"
     ]
    },
    {
     "name": "stderr",
     "output_type": "stream",
     "text": [
      "[2024-02-28 22:18:58,082] - obspy.clients.fdsn.mass_downloader - INFO: 51 MiniSEED files [0.3 MB] already existed.\n"
     ]
    },
    {
     "name": "stderr",
     "output_type": "stream",
     "text": [
      "[2024-02-28 22:18:58,082] - obspy.clients.fdsn.mass_downloader - INFO: 51 MiniSEED files [0.3 MB] already existed.\n"
     ]
    },
    {
     "name": "stderr",
     "output_type": "stream",
     "text": [
      "[2024-02-28 22:18:58,082] - obspy.clients.fdsn.mass_downloader - INFO: 51 MiniSEED files [0.3 MB] already existed.\n"
     ]
    },
    {
     "name": "stderr",
     "output_type": "stream",
     "text": [
      "[2024-02-28 22:18:58,082] - obspy.clients.fdsn.mass_downloader - INFO: 51 MiniSEED files [0.3 MB] already existed.\n"
     ]
    },
    {
     "name": "stderr",
     "output_type": "stream",
     "text": [
      "[2024-02-28 22:18:58,082] - obspy.clients.fdsn.mass_downloader - INFO: 51 MiniSEED files [0.3 MB] already existed.\n"
     ]
    },
    {
     "name": "stderr",
     "output_type": "stream",
     "text": [
      "[2024-02-28 22:18:58,082] - obspy.clients.fdsn.mass_downloader - INFO: 51 MiniSEED files [0.3 MB] already existed.\n"
     ]
    },
    {
     "name": "stderr",
     "output_type": "stream",
     "text": [
      "[2024-02-28 22:18:58,090] - obspy.clients.fdsn.mass_downloader - INFO: 17 StationXML files [0.4 MB] already existed.\n"
     ]
    },
    {
     "name": "stderr",
     "output_type": "stream",
     "text": [
      "[2024-02-28 22:18:58,090] - obspy.clients.fdsn.mass_downloader - INFO: 17 StationXML files [0.4 MB] already existed.\n"
     ]
    },
    {
     "name": "stderr",
     "output_type": "stream",
     "text": [
      "[2024-02-28 22:18:58,090] - obspy.clients.fdsn.mass_downloader - INFO: 17 StationXML files [0.4 MB] already existed.\n"
     ]
    },
    {
     "name": "stderr",
     "output_type": "stream",
     "text": [
      "[2024-02-28 22:18:58,090] - obspy.clients.fdsn.mass_downloader - INFO: 17 StationXML files [0.4 MB] already existed.\n"
     ]
    },
    {
     "name": "stderr",
     "output_type": "stream",
     "text": [
      "[2024-02-28 22:18:58,090] - obspy.clients.fdsn.mass_downloader - INFO: 17 StationXML files [0.4 MB] already existed.\n"
     ]
    },
    {
     "name": "stderr",
     "output_type": "stream",
     "text": [
      "[2024-02-28 22:18:58,090] - obspy.clients.fdsn.mass_downloader - INFO: 17 StationXML files [0.4 MB] already existed.\n"
     ]
    },
    {
     "name": "stderr",
     "output_type": "stream",
     "text": [
      "[2024-02-28 22:18:58,090] - obspy.clients.fdsn.mass_downloader - INFO: 17 StationXML files [0.4 MB] already existed.\n"
     ]
    },
    {
     "name": "stderr",
     "output_type": "stream",
     "text": [
      "[2024-02-28 22:18:58,090] - obspy.clients.fdsn.mass_downloader - INFO: 17 StationXML files [0.4 MB] already existed.\n"
     ]
    },
    {
     "name": "stderr",
     "output_type": "stream",
     "text": [
      "[2024-02-28 22:18:58,090] - obspy.clients.fdsn.mass_downloader - INFO: 17 StationXML files [0.4 MB] already existed.\n"
     ]
    },
    {
     "name": "stderr",
     "output_type": "stream",
     "text": [
      "[2024-02-28 22:18:58,090] - obspy.clients.fdsn.mass_downloader - INFO: 17 StationXML files [0.4 MB] already existed.\n"
     ]
    },
    {
     "name": "stderr",
     "output_type": "stream",
     "text": [
      "[2024-02-28 22:18:58,090] - obspy.clients.fdsn.mass_downloader - INFO: 17 StationXML files [0.4 MB] already existed.\n"
     ]
    },
    {
     "name": "stderr",
     "output_type": "stream",
     "text": [
      "[2024-02-28 22:18:58,090] - obspy.clients.fdsn.mass_downloader - INFO: 17 StationXML files [0.4 MB] already existed.\n"
     ]
    },
    {
     "name": "stderr",
     "output_type": "stream",
     "text": [
      "[2024-02-28 22:18:58,090] - obspy.clients.fdsn.mass_downloader - INFO: 17 StationXML files [0.4 MB] already existed.\n"
     ]
    },
    {
     "name": "stderr",
     "output_type": "stream",
     "text": [
      "[2024-02-28 22:18:58,090] - obspy.clients.fdsn.mass_downloader - INFO: 17 StationXML files [0.4 MB] already existed.\n"
     ]
    },
    {
     "name": "stderr",
     "output_type": "stream",
     "text": [
      "[2024-02-28 22:18:58,090] - obspy.clients.fdsn.mass_downloader - INFO: 17 StationXML files [0.4 MB] already existed.\n"
     ]
    },
    {
     "name": "stderr",
     "output_type": "stream",
     "text": [
      "[2024-02-28 22:18:58,095] - obspy.clients.fdsn.mass_downloader - INFO: Client 'http://service.iris.edu' - Acquired 0 MiniSEED files [0.0 MB].\n"
     ]
    },
    {
     "name": "stderr",
     "output_type": "stream",
     "text": [
      "[2024-02-28 22:18:58,095] - obspy.clients.fdsn.mass_downloader - INFO: Client 'http://service.iris.edu' - Acquired 0 MiniSEED files [0.0 MB].\n"
     ]
    },
    {
     "name": "stderr",
     "output_type": "stream",
     "text": [
      "[2024-02-28 22:18:58,095] - obspy.clients.fdsn.mass_downloader - INFO: Client 'http://service.iris.edu' - Acquired 0 MiniSEED files [0.0 MB].\n"
     ]
    },
    {
     "name": "stderr",
     "output_type": "stream",
     "text": [
      "[2024-02-28 22:18:58,095] - obspy.clients.fdsn.mass_downloader - INFO: Client 'http://service.iris.edu' - Acquired 0 MiniSEED files [0.0 MB].\n"
     ]
    },
    {
     "name": "stderr",
     "output_type": "stream",
     "text": [
      "[2024-02-28 22:18:58,095] - obspy.clients.fdsn.mass_downloader - INFO: Client 'http://service.iris.edu' - Acquired 0 MiniSEED files [0.0 MB].\n"
     ]
    },
    {
     "name": "stderr",
     "output_type": "stream",
     "text": [
      "[2024-02-28 22:18:58,095] - obspy.clients.fdsn.mass_downloader - INFO: Client 'http://service.iris.edu' - Acquired 0 MiniSEED files [0.0 MB].\n"
     ]
    },
    {
     "name": "stderr",
     "output_type": "stream",
     "text": [
      "[2024-02-28 22:18:58,095] - obspy.clients.fdsn.mass_downloader - INFO: Client 'http://service.iris.edu' - Acquired 0 MiniSEED files [0.0 MB].\n"
     ]
    },
    {
     "name": "stderr",
     "output_type": "stream",
     "text": [
      "[2024-02-28 22:18:58,095] - obspy.clients.fdsn.mass_downloader - INFO: Client 'http://service.iris.edu' - Acquired 0 MiniSEED files [0.0 MB].\n"
     ]
    },
    {
     "name": "stderr",
     "output_type": "stream",
     "text": [
      "[2024-02-28 22:18:58,095] - obspy.clients.fdsn.mass_downloader - INFO: Client 'http://service.iris.edu' - Acquired 0 MiniSEED files [0.0 MB].\n"
     ]
    },
    {
     "name": "stderr",
     "output_type": "stream",
     "text": [
      "[2024-02-28 22:18:58,095] - obspy.clients.fdsn.mass_downloader - INFO: Client 'http://service.iris.edu' - Acquired 0 MiniSEED files [0.0 MB].\n"
     ]
    },
    {
     "name": "stderr",
     "output_type": "stream",
     "text": [
      "[2024-02-28 22:18:58,095] - obspy.clients.fdsn.mass_downloader - INFO: Client 'http://service.iris.edu' - Acquired 0 MiniSEED files [0.0 MB].\n"
     ]
    },
    {
     "name": "stderr",
     "output_type": "stream",
     "text": [
      "[2024-02-28 22:18:58,095] - obspy.clients.fdsn.mass_downloader - INFO: Client 'http://service.iris.edu' - Acquired 0 MiniSEED files [0.0 MB].\n"
     ]
    },
    {
     "name": "stderr",
     "output_type": "stream",
     "text": [
      "[2024-02-28 22:18:58,095] - obspy.clients.fdsn.mass_downloader - INFO: Client 'http://service.iris.edu' - Acquired 0 MiniSEED files [0.0 MB].\n"
     ]
    },
    {
     "name": "stderr",
     "output_type": "stream",
     "text": [
      "[2024-02-28 22:18:58,095] - obspy.clients.fdsn.mass_downloader - INFO: Client 'http://service.iris.edu' - Acquired 0 MiniSEED files [0.0 MB].\n"
     ]
    },
    {
     "name": "stderr",
     "output_type": "stream",
     "text": [
      "[2024-02-28 22:18:58,095] - obspy.clients.fdsn.mass_downloader - INFO: Client 'http://service.iris.edu' - Acquired 0 MiniSEED files [0.0 MB].\n"
     ]
    },
    {
     "name": "stderr",
     "output_type": "stream",
     "text": [
      "[2024-02-28 22:18:58,101] - obspy.clients.fdsn.mass_downloader - INFO: Client 'http://service.iris.edu' - Acquired 0 StationXML files [0.0 MB].\n"
     ]
    },
    {
     "name": "stderr",
     "output_type": "stream",
     "text": [
      "[2024-02-28 22:18:58,101] - obspy.clients.fdsn.mass_downloader - INFO: Client 'http://service.iris.edu' - Acquired 0 StationXML files [0.0 MB].\n"
     ]
    },
    {
     "name": "stderr",
     "output_type": "stream",
     "text": [
      "[2024-02-28 22:18:58,101] - obspy.clients.fdsn.mass_downloader - INFO: Client 'http://service.iris.edu' - Acquired 0 StationXML files [0.0 MB].\n"
     ]
    },
    {
     "name": "stderr",
     "output_type": "stream",
     "text": [
      "[2024-02-28 22:18:58,101] - obspy.clients.fdsn.mass_downloader - INFO: Client 'http://service.iris.edu' - Acquired 0 StationXML files [0.0 MB].\n"
     ]
    },
    {
     "name": "stderr",
     "output_type": "stream",
     "text": [
      "[2024-02-28 22:18:58,101] - obspy.clients.fdsn.mass_downloader - INFO: Client 'http://service.iris.edu' - Acquired 0 StationXML files [0.0 MB].\n"
     ]
    },
    {
     "name": "stderr",
     "output_type": "stream",
     "text": [
      "[2024-02-28 22:18:58,101] - obspy.clients.fdsn.mass_downloader - INFO: Client 'http://service.iris.edu' - Acquired 0 StationXML files [0.0 MB].\n"
     ]
    },
    {
     "name": "stderr",
     "output_type": "stream",
     "text": [
      "[2024-02-28 22:18:58,101] - obspy.clients.fdsn.mass_downloader - INFO: Client 'http://service.iris.edu' - Acquired 0 StationXML files [0.0 MB].\n"
     ]
    },
    {
     "name": "stderr",
     "output_type": "stream",
     "text": [
      "[2024-02-28 22:18:58,101] - obspy.clients.fdsn.mass_downloader - INFO: Client 'http://service.iris.edu' - Acquired 0 StationXML files [0.0 MB].\n"
     ]
    },
    {
     "name": "stderr",
     "output_type": "stream",
     "text": [
      "[2024-02-28 22:18:58,101] - obspy.clients.fdsn.mass_downloader - INFO: Client 'http://service.iris.edu' - Acquired 0 StationXML files [0.0 MB].\n"
     ]
    },
    {
     "name": "stderr",
     "output_type": "stream",
     "text": [
      "[2024-02-28 22:18:58,101] - obspy.clients.fdsn.mass_downloader - INFO: Client 'http://service.iris.edu' - Acquired 0 StationXML files [0.0 MB].\n"
     ]
    },
    {
     "name": "stderr",
     "output_type": "stream",
     "text": [
      "[2024-02-28 22:18:58,101] - obspy.clients.fdsn.mass_downloader - INFO: Client 'http://service.iris.edu' - Acquired 0 StationXML files [0.0 MB].\n"
     ]
    },
    {
     "name": "stderr",
     "output_type": "stream",
     "text": [
      "[2024-02-28 22:18:58,101] - obspy.clients.fdsn.mass_downloader - INFO: Client 'http://service.iris.edu' - Acquired 0 StationXML files [0.0 MB].\n"
     ]
    },
    {
     "name": "stderr",
     "output_type": "stream",
     "text": [
      "[2024-02-28 22:18:58,101] - obspy.clients.fdsn.mass_downloader - INFO: Client 'http://service.iris.edu' - Acquired 0 StationXML files [0.0 MB].\n"
     ]
    },
    {
     "name": "stderr",
     "output_type": "stream",
     "text": [
      "[2024-02-28 22:18:58,101] - obspy.clients.fdsn.mass_downloader - INFO: Client 'http://service.iris.edu' - Acquired 0 StationXML files [0.0 MB].\n"
     ]
    },
    {
     "name": "stderr",
     "output_type": "stream",
     "text": [
      "[2024-02-28 22:18:58,101] - obspy.clients.fdsn.mass_downloader - INFO: Client 'http://service.iris.edu' - Acquired 0 StationXML files [0.0 MB].\n"
     ]
    },
    {
     "name": "stderr",
     "output_type": "stream",
     "text": [
      "[2024-02-28 22:18:58,110] - obspy.clients.fdsn.mass_downloader - INFO: Downloaded 0.0 MB in total.\n"
     ]
    },
    {
     "name": "stderr",
     "output_type": "stream",
     "text": [
      "[2024-02-28 22:18:58,110] - obspy.clients.fdsn.mass_downloader - INFO: Downloaded 0.0 MB in total.\n"
     ]
    },
    {
     "name": "stderr",
     "output_type": "stream",
     "text": [
      "[2024-02-28 22:18:58,110] - obspy.clients.fdsn.mass_downloader - INFO: Downloaded 0.0 MB in total.\n"
     ]
    },
    {
     "name": "stderr",
     "output_type": "stream",
     "text": [
      "[2024-02-28 22:18:58,110] - obspy.clients.fdsn.mass_downloader - INFO: Downloaded 0.0 MB in total.\n"
     ]
    },
    {
     "name": "stderr",
     "output_type": "stream",
     "text": [
      "[2024-02-28 22:18:58,110] - obspy.clients.fdsn.mass_downloader - INFO: Downloaded 0.0 MB in total.\n"
     ]
    },
    {
     "name": "stderr",
     "output_type": "stream",
     "text": [
      "[2024-02-28 22:18:58,110] - obspy.clients.fdsn.mass_downloader - INFO: Downloaded 0.0 MB in total.\n"
     ]
    },
    {
     "name": "stderr",
     "output_type": "stream",
     "text": [
      "[2024-02-28 22:18:58,110] - obspy.clients.fdsn.mass_downloader - INFO: Downloaded 0.0 MB in total.\n"
     ]
    },
    {
     "name": "stderr",
     "output_type": "stream",
     "text": [
      "[2024-02-28 22:18:58,110] - obspy.clients.fdsn.mass_downloader - INFO: Downloaded 0.0 MB in total.\n"
     ]
    },
    {
     "name": "stderr",
     "output_type": "stream",
     "text": [
      "[2024-02-28 22:18:58,110] - obspy.clients.fdsn.mass_downloader - INFO: Downloaded 0.0 MB in total.\n"
     ]
    },
    {
     "name": "stderr",
     "output_type": "stream",
     "text": [
      "[2024-02-28 22:18:58,110] - obspy.clients.fdsn.mass_downloader - INFO: Downloaded 0.0 MB in total.\n"
     ]
    },
    {
     "name": "stderr",
     "output_type": "stream",
     "text": [
      "[2024-02-28 22:18:58,110] - obspy.clients.fdsn.mass_downloader - INFO: Downloaded 0.0 MB in total.\n"
     ]
    },
    {
     "name": "stderr",
     "output_type": "stream",
     "text": [
      "[2024-02-28 22:18:58,110] - obspy.clients.fdsn.mass_downloader - INFO: Downloaded 0.0 MB in total.\n"
     ]
    },
    {
     "name": "stderr",
     "output_type": "stream",
     "text": [
      "[2024-02-28 22:18:58,110] - obspy.clients.fdsn.mass_downloader - INFO: Downloaded 0.0 MB in total.\n"
     ]
    },
    {
     "name": "stderr",
     "output_type": "stream",
     "text": [
      "[2024-02-28 22:18:58,110] - obspy.clients.fdsn.mass_downloader - INFO: Downloaded 0.0 MB in total.\n"
     ]
    },
    {
     "name": "stderr",
     "output_type": "stream",
     "text": [
      "[2024-02-28 22:18:58,110] - obspy.clients.fdsn.mass_downloader - INFO: Downloaded 0.0 MB in total.\n"
     ]
    },
    {
     "name": "stderr",
     "output_type": "stream",
     "text": [
      "[2024-02-28 22:18:58,167] - obspy.clients.fdsn.mass_downloader - INFO: Initializing FDSN client(s) for http://service.iris.edu.\n"
     ]
    },
    {
     "name": "stderr",
     "output_type": "stream",
     "text": [
      "[2024-02-28 22:18:58,167] - obspy.clients.fdsn.mass_downloader - INFO: Initializing FDSN client(s) for http://service.iris.edu.\n"
     ]
    },
    {
     "name": "stderr",
     "output_type": "stream",
     "text": [
      "[2024-02-28 22:18:58,167] - obspy.clients.fdsn.mass_downloader - INFO: Initializing FDSN client(s) for http://service.iris.edu.\n"
     ]
    },
    {
     "name": "stderr",
     "output_type": "stream",
     "text": [
      "[2024-02-28 22:18:58,167] - obspy.clients.fdsn.mass_downloader - INFO: Initializing FDSN client(s) for http://service.iris.edu.\n"
     ]
    },
    {
     "name": "stderr",
     "output_type": "stream",
     "text": [
      "[2024-02-28 22:18:58,167] - obspy.clients.fdsn.mass_downloader - INFO: Initializing FDSN client(s) for http://service.iris.edu.\n"
     ]
    },
    {
     "name": "stderr",
     "output_type": "stream",
     "text": [
      "[2024-02-28 22:18:58,167] - obspy.clients.fdsn.mass_downloader - INFO: Initializing FDSN client(s) for http://service.iris.edu.\n"
     ]
    },
    {
     "name": "stderr",
     "output_type": "stream",
     "text": [
      "[2024-02-28 22:18:58,167] - obspy.clients.fdsn.mass_downloader - INFO: Initializing FDSN client(s) for http://service.iris.edu.\n"
     ]
    },
    {
     "name": "stderr",
     "output_type": "stream",
     "text": [
      "[2024-02-28 22:18:58,167] - obspy.clients.fdsn.mass_downloader - INFO: Initializing FDSN client(s) for http://service.iris.edu.\n"
     ]
    },
    {
     "name": "stderr",
     "output_type": "stream",
     "text": [
      "[2024-02-28 22:18:58,167] - obspy.clients.fdsn.mass_downloader - INFO: Initializing FDSN client(s) for http://service.iris.edu.\n"
     ]
    },
    {
     "name": "stderr",
     "output_type": "stream",
     "text": [
      "[2024-02-28 22:18:58,167] - obspy.clients.fdsn.mass_downloader - INFO: Initializing FDSN client(s) for http://service.iris.edu.\n"
     ]
    },
    {
     "name": "stderr",
     "output_type": "stream",
     "text": [
      "[2024-02-28 22:18:58,167] - obspy.clients.fdsn.mass_downloader - INFO: Initializing FDSN client(s) for http://service.iris.edu.\n"
     ]
    },
    {
     "name": "stderr",
     "output_type": "stream",
     "text": [
      "[2024-02-28 22:18:58,167] - obspy.clients.fdsn.mass_downloader - INFO: Initializing FDSN client(s) for http://service.iris.edu.\n"
     ]
    },
    {
     "name": "stderr",
     "output_type": "stream",
     "text": [
      "[2024-02-28 22:18:58,167] - obspy.clients.fdsn.mass_downloader - INFO: Initializing FDSN client(s) for http://service.iris.edu.\n"
     ]
    },
    {
     "name": "stderr",
     "output_type": "stream",
     "text": [
      "[2024-02-28 22:18:58,167] - obspy.clients.fdsn.mass_downloader - INFO: Initializing FDSN client(s) for http://service.iris.edu.\n"
     ]
    },
    {
     "name": "stderr",
     "output_type": "stream",
     "text": [
      "[2024-02-28 22:18:58,167] - obspy.clients.fdsn.mass_downloader - INFO: Initializing FDSN client(s) for http://service.iris.edu.\n"
     ]
    },
    {
     "name": "stderr",
     "output_type": "stream",
     "text": [
      "[2024-02-28 22:18:58,167] - obspy.clients.fdsn.mass_downloader - INFO: Initializing FDSN client(s) for http://service.iris.edu.\n"
     ]
    },
    {
     "name": "stderr",
     "output_type": "stream",
     "text": [
      "[2024-02-28 22:18:58,176] - obspy.clients.fdsn.mass_downloader - INFO: Successfully initialized 1 client(s): http://service.iris.edu.\n"
     ]
    },
    {
     "name": "stderr",
     "output_type": "stream",
     "text": [
      "[2024-02-28 22:18:58,176] - obspy.clients.fdsn.mass_downloader - INFO: Successfully initialized 1 client(s): http://service.iris.edu.\n"
     ]
    },
    {
     "name": "stderr",
     "output_type": "stream",
     "text": [
      "[2024-02-28 22:18:58,176] - obspy.clients.fdsn.mass_downloader - INFO: Successfully initialized 1 client(s): http://service.iris.edu.\n"
     ]
    },
    {
     "name": "stderr",
     "output_type": "stream",
     "text": [
      "[2024-02-28 22:18:58,176] - obspy.clients.fdsn.mass_downloader - INFO: Successfully initialized 1 client(s): http://service.iris.edu.\n"
     ]
    },
    {
     "name": "stderr",
     "output_type": "stream",
     "text": [
      "[2024-02-28 22:18:58,176] - obspy.clients.fdsn.mass_downloader - INFO: Successfully initialized 1 client(s): http://service.iris.edu.\n"
     ]
    },
    {
     "name": "stderr",
     "output_type": "stream",
     "text": [
      "[2024-02-28 22:18:58,176] - obspy.clients.fdsn.mass_downloader - INFO: Successfully initialized 1 client(s): http://service.iris.edu.\n"
     ]
    },
    {
     "name": "stderr",
     "output_type": "stream",
     "text": [
      "[2024-02-28 22:18:58,176] - obspy.clients.fdsn.mass_downloader - INFO: Successfully initialized 1 client(s): http://service.iris.edu.\n"
     ]
    },
    {
     "name": "stderr",
     "output_type": "stream",
     "text": [
      "[2024-02-28 22:18:58,176] - obspy.clients.fdsn.mass_downloader - INFO: Successfully initialized 1 client(s): http://service.iris.edu.\n"
     ]
    },
    {
     "name": "stderr",
     "output_type": "stream",
     "text": [
      "[2024-02-28 22:18:58,176] - obspy.clients.fdsn.mass_downloader - INFO: Successfully initialized 1 client(s): http://service.iris.edu.\n"
     ]
    },
    {
     "name": "stderr",
     "output_type": "stream",
     "text": [
      "[2024-02-28 22:18:58,176] - obspy.clients.fdsn.mass_downloader - INFO: Successfully initialized 1 client(s): http://service.iris.edu.\n"
     ]
    },
    {
     "name": "stderr",
     "output_type": "stream",
     "text": [
      "[2024-02-28 22:18:58,176] - obspy.clients.fdsn.mass_downloader - INFO: Successfully initialized 1 client(s): http://service.iris.edu.\n"
     ]
    },
    {
     "name": "stderr",
     "output_type": "stream",
     "text": [
      "[2024-02-28 22:18:58,176] - obspy.clients.fdsn.mass_downloader - INFO: Successfully initialized 1 client(s): http://service.iris.edu.\n"
     ]
    },
    {
     "name": "stderr",
     "output_type": "stream",
     "text": [
      "[2024-02-28 22:18:58,176] - obspy.clients.fdsn.mass_downloader - INFO: Successfully initialized 1 client(s): http://service.iris.edu.\n"
     ]
    },
    {
     "name": "stderr",
     "output_type": "stream",
     "text": [
      "[2024-02-28 22:18:58,176] - obspy.clients.fdsn.mass_downloader - INFO: Successfully initialized 1 client(s): http://service.iris.edu.\n"
     ]
    },
    {
     "name": "stderr",
     "output_type": "stream",
     "text": [
      "[2024-02-28 22:18:58,176] - obspy.clients.fdsn.mass_downloader - INFO: Successfully initialized 1 client(s): http://service.iris.edu.\n"
     ]
    },
    {
     "name": "stderr",
     "output_type": "stream",
     "text": [
      "[2024-02-28 22:18:58,176] - obspy.clients.fdsn.mass_downloader - INFO: Successfully initialized 1 client(s): http://service.iris.edu.\n"
     ]
    },
    {
     "name": "stderr",
     "output_type": "stream",
     "text": [
      "[2024-02-28 22:18:58,183] - obspy.clients.fdsn.mass_downloader - INFO: Total acquired or preexisting stations: 0\n"
     ]
    },
    {
     "name": "stderr",
     "output_type": "stream",
     "text": [
      "[2024-02-28 22:18:58,183] - obspy.clients.fdsn.mass_downloader - INFO: Total acquired or preexisting stations: 0\n"
     ]
    },
    {
     "name": "stderr",
     "output_type": "stream",
     "text": [
      "[2024-02-28 22:18:58,183] - obspy.clients.fdsn.mass_downloader - INFO: Total acquired or preexisting stations: 0\n"
     ]
    },
    {
     "name": "stderr",
     "output_type": "stream",
     "text": [
      "[2024-02-28 22:18:58,183] - obspy.clients.fdsn.mass_downloader - INFO: Total acquired or preexisting stations: 0\n"
     ]
    },
    {
     "name": "stderr",
     "output_type": "stream",
     "text": [
      "[2024-02-28 22:18:58,183] - obspy.clients.fdsn.mass_downloader - INFO: Total acquired or preexisting stations: 0\n"
     ]
    },
    {
     "name": "stderr",
     "output_type": "stream",
     "text": [
      "[2024-02-28 22:18:58,183] - obspy.clients.fdsn.mass_downloader - INFO: Total acquired or preexisting stations: 0\n"
     ]
    },
    {
     "name": "stderr",
     "output_type": "stream",
     "text": [
      "[2024-02-28 22:18:58,183] - obspy.clients.fdsn.mass_downloader - INFO: Total acquired or preexisting stations: 0\n"
     ]
    },
    {
     "name": "stderr",
     "output_type": "stream",
     "text": [
      "[2024-02-28 22:18:58,183] - obspy.clients.fdsn.mass_downloader - INFO: Total acquired or preexisting stations: 0\n"
     ]
    },
    {
     "name": "stderr",
     "output_type": "stream",
     "text": [
      "[2024-02-28 22:18:58,183] - obspy.clients.fdsn.mass_downloader - INFO: Total acquired or preexisting stations: 0\n"
     ]
    },
    {
     "name": "stderr",
     "output_type": "stream",
     "text": [
      "[2024-02-28 22:18:58,183] - obspy.clients.fdsn.mass_downloader - INFO: Total acquired or preexisting stations: 0\n"
     ]
    },
    {
     "name": "stderr",
     "output_type": "stream",
     "text": [
      "[2024-02-28 22:18:58,183] - obspy.clients.fdsn.mass_downloader - INFO: Total acquired or preexisting stations: 0\n"
     ]
    },
    {
     "name": "stderr",
     "output_type": "stream",
     "text": [
      "[2024-02-28 22:18:58,183] - obspy.clients.fdsn.mass_downloader - INFO: Total acquired or preexisting stations: 0\n"
     ]
    },
    {
     "name": "stderr",
     "output_type": "stream",
     "text": [
      "[2024-02-28 22:18:58,183] - obspy.clients.fdsn.mass_downloader - INFO: Total acquired or preexisting stations: 0\n"
     ]
    },
    {
     "name": "stderr",
     "output_type": "stream",
     "text": [
      "[2024-02-28 22:18:58,183] - obspy.clients.fdsn.mass_downloader - INFO: Total acquired or preexisting stations: 0\n"
     ]
    },
    {
     "name": "stderr",
     "output_type": "stream",
     "text": [
      "[2024-02-28 22:18:58,183] - obspy.clients.fdsn.mass_downloader - INFO: Total acquired or preexisting stations: 0\n"
     ]
    },
    {
     "name": "stderr",
     "output_type": "stream",
     "text": [
      "[2024-02-28 22:18:58,183] - obspy.clients.fdsn.mass_downloader - INFO: Total acquired or preexisting stations: 0\n"
     ]
    },
    {
     "name": "stderr",
     "output_type": "stream",
     "text": [
      "[2024-02-28 22:18:58,188] - obspy.clients.fdsn.mass_downloader - INFO: Client 'http://service.iris.edu' - Requesting reliable availability.\n"
     ]
    },
    {
     "name": "stderr",
     "output_type": "stream",
     "text": [
      "[2024-02-28 22:18:58,188] - obspy.clients.fdsn.mass_downloader - INFO: Client 'http://service.iris.edu' - Requesting reliable availability.\n"
     ]
    },
    {
     "name": "stderr",
     "output_type": "stream",
     "text": [
      "[2024-02-28 22:18:58,188] - obspy.clients.fdsn.mass_downloader - INFO: Client 'http://service.iris.edu' - Requesting reliable availability.\n"
     ]
    },
    {
     "name": "stderr",
     "output_type": "stream",
     "text": [
      "[2024-02-28 22:18:58,188] - obspy.clients.fdsn.mass_downloader - INFO: Client 'http://service.iris.edu' - Requesting reliable availability.\n"
     ]
    },
    {
     "name": "stderr",
     "output_type": "stream",
     "text": [
      "[2024-02-28 22:18:58,188] - obspy.clients.fdsn.mass_downloader - INFO: Client 'http://service.iris.edu' - Requesting reliable availability.\n"
     ]
    },
    {
     "name": "stderr",
     "output_type": "stream",
     "text": [
      "[2024-02-28 22:18:58,188] - obspy.clients.fdsn.mass_downloader - INFO: Client 'http://service.iris.edu' - Requesting reliable availability.\n"
     ]
    },
    {
     "name": "stderr",
     "output_type": "stream",
     "text": [
      "[2024-02-28 22:18:58,188] - obspy.clients.fdsn.mass_downloader - INFO: Client 'http://service.iris.edu' - Requesting reliable availability.\n"
     ]
    },
    {
     "name": "stderr",
     "output_type": "stream",
     "text": [
      "[2024-02-28 22:18:58,188] - obspy.clients.fdsn.mass_downloader - INFO: Client 'http://service.iris.edu' - Requesting reliable availability.\n"
     ]
    },
    {
     "name": "stderr",
     "output_type": "stream",
     "text": [
      "[2024-02-28 22:18:58,188] - obspy.clients.fdsn.mass_downloader - INFO: Client 'http://service.iris.edu' - Requesting reliable availability.\n"
     ]
    },
    {
     "name": "stderr",
     "output_type": "stream",
     "text": [
      "[2024-02-28 22:18:58,188] - obspy.clients.fdsn.mass_downloader - INFO: Client 'http://service.iris.edu' - Requesting reliable availability.\n"
     ]
    },
    {
     "name": "stderr",
     "output_type": "stream",
     "text": [
      "[2024-02-28 22:18:58,188] - obspy.clients.fdsn.mass_downloader - INFO: Client 'http://service.iris.edu' - Requesting reliable availability.\n"
     ]
    },
    {
     "name": "stderr",
     "output_type": "stream",
     "text": [
      "[2024-02-28 22:18:58,188] - obspy.clients.fdsn.mass_downloader - INFO: Client 'http://service.iris.edu' - Requesting reliable availability.\n"
     ]
    },
    {
     "name": "stderr",
     "output_type": "stream",
     "text": [
      "[2024-02-28 22:18:58,188] - obspy.clients.fdsn.mass_downloader - INFO: Client 'http://service.iris.edu' - Requesting reliable availability.\n"
     ]
    },
    {
     "name": "stderr",
     "output_type": "stream",
     "text": [
      "[2024-02-28 22:18:58,188] - obspy.clients.fdsn.mass_downloader - INFO: Client 'http://service.iris.edu' - Requesting reliable availability.\n"
     ]
    },
    {
     "name": "stderr",
     "output_type": "stream",
     "text": [
      "[2024-02-28 22:18:58,188] - obspy.clients.fdsn.mass_downloader - INFO: Client 'http://service.iris.edu' - Requesting reliable availability.\n"
     ]
    },
    {
     "name": "stderr",
     "output_type": "stream",
     "text": [
      "[2024-02-28 22:18:58,188] - obspy.clients.fdsn.mass_downloader - INFO: Client 'http://service.iris.edu' - Requesting reliable availability.\n"
     ]
    },
    {
     "name": "stderr",
     "output_type": "stream",
     "text": [
      "[2024-02-28 22:18:59,268] - obspy.clients.fdsn.mass_downloader - INFO: Client 'http://service.iris.edu' - Successfully requested availability (1.07 seconds)\n"
     ]
    },
    {
     "name": "stderr",
     "output_type": "stream",
     "text": [
      "[2024-02-28 22:18:59,268] - obspy.clients.fdsn.mass_downloader - INFO: Client 'http://service.iris.edu' - Successfully requested availability (1.07 seconds)\n"
     ]
    },
    {
     "name": "stderr",
     "output_type": "stream",
     "text": [
      "[2024-02-28 22:18:59,268] - obspy.clients.fdsn.mass_downloader - INFO: Client 'http://service.iris.edu' - Successfully requested availability (1.07 seconds)\n"
     ]
    },
    {
     "name": "stderr",
     "output_type": "stream",
     "text": [
      "[2024-02-28 22:18:59,268] - obspy.clients.fdsn.mass_downloader - INFO: Client 'http://service.iris.edu' - Successfully requested availability (1.07 seconds)\n"
     ]
    },
    {
     "name": "stderr",
     "output_type": "stream",
     "text": [
      "[2024-02-28 22:18:59,268] - obspy.clients.fdsn.mass_downloader - INFO: Client 'http://service.iris.edu' - Successfully requested availability (1.07 seconds)\n"
     ]
    },
    {
     "name": "stderr",
     "output_type": "stream",
     "text": [
      "[2024-02-28 22:18:59,268] - obspy.clients.fdsn.mass_downloader - INFO: Client 'http://service.iris.edu' - Successfully requested availability (1.07 seconds)\n"
     ]
    },
    {
     "name": "stderr",
     "output_type": "stream",
     "text": [
      "[2024-02-28 22:18:59,268] - obspy.clients.fdsn.mass_downloader - INFO: Client 'http://service.iris.edu' - Successfully requested availability (1.07 seconds)\n"
     ]
    },
    {
     "name": "stderr",
     "output_type": "stream",
     "text": [
      "[2024-02-28 22:18:59,268] - obspy.clients.fdsn.mass_downloader - INFO: Client 'http://service.iris.edu' - Successfully requested availability (1.07 seconds)\n"
     ]
    },
    {
     "name": "stderr",
     "output_type": "stream",
     "text": [
      "[2024-02-28 22:18:59,268] - obspy.clients.fdsn.mass_downloader - INFO: Client 'http://service.iris.edu' - Successfully requested availability (1.07 seconds)\n"
     ]
    },
    {
     "name": "stderr",
     "output_type": "stream",
     "text": [
      "[2024-02-28 22:18:59,268] - obspy.clients.fdsn.mass_downloader - INFO: Client 'http://service.iris.edu' - Successfully requested availability (1.07 seconds)\n"
     ]
    },
    {
     "name": "stderr",
     "output_type": "stream",
     "text": [
      "[2024-02-28 22:18:59,268] - obspy.clients.fdsn.mass_downloader - INFO: Client 'http://service.iris.edu' - Successfully requested availability (1.07 seconds)\n"
     ]
    },
    {
     "name": "stderr",
     "output_type": "stream",
     "text": [
      "[2024-02-28 22:18:59,268] - obspy.clients.fdsn.mass_downloader - INFO: Client 'http://service.iris.edu' - Successfully requested availability (1.07 seconds)\n"
     ]
    },
    {
     "name": "stderr",
     "output_type": "stream",
     "text": [
      "[2024-02-28 22:18:59,268] - obspy.clients.fdsn.mass_downloader - INFO: Client 'http://service.iris.edu' - Successfully requested availability (1.07 seconds)\n"
     ]
    },
    {
     "name": "stderr",
     "output_type": "stream",
     "text": [
      "[2024-02-28 22:18:59,268] - obspy.clients.fdsn.mass_downloader - INFO: Client 'http://service.iris.edu' - Successfully requested availability (1.07 seconds)\n"
     ]
    },
    {
     "name": "stderr",
     "output_type": "stream",
     "text": [
      "[2024-02-28 22:18:59,268] - obspy.clients.fdsn.mass_downloader - INFO: Client 'http://service.iris.edu' - Successfully requested availability (1.07 seconds)\n"
     ]
    },
    {
     "name": "stderr",
     "output_type": "stream",
     "text": [
      "[2024-02-28 22:18:59,268] - obspy.clients.fdsn.mass_downloader - INFO: Client 'http://service.iris.edu' - Successfully requested availability (1.07 seconds)\n"
     ]
    },
    {
     "name": "stderr",
     "output_type": "stream",
     "text": [
      "[2024-02-28 22:18:59,305] - obspy.clients.fdsn.mass_downloader - INFO: Client 'http://service.iris.edu' - Found 19 stations (57 channels).\n"
     ]
    },
    {
     "name": "stderr",
     "output_type": "stream",
     "text": [
      "[2024-02-28 22:18:59,305] - obspy.clients.fdsn.mass_downloader - INFO: Client 'http://service.iris.edu' - Found 19 stations (57 channels).\n"
     ]
    },
    {
     "name": "stderr",
     "output_type": "stream",
     "text": [
      "[2024-02-28 22:18:59,305] - obspy.clients.fdsn.mass_downloader - INFO: Client 'http://service.iris.edu' - Found 19 stations (57 channels).\n"
     ]
    },
    {
     "name": "stderr",
     "output_type": "stream",
     "text": [
      "[2024-02-28 22:18:59,305] - obspy.clients.fdsn.mass_downloader - INFO: Client 'http://service.iris.edu' - Found 19 stations (57 channels).\n"
     ]
    },
    {
     "name": "stderr",
     "output_type": "stream",
     "text": [
      "[2024-02-28 22:18:59,305] - obspy.clients.fdsn.mass_downloader - INFO: Client 'http://service.iris.edu' - Found 19 stations (57 channels).\n"
     ]
    },
    {
     "name": "stderr",
     "output_type": "stream",
     "text": [
      "[2024-02-28 22:18:59,305] - obspy.clients.fdsn.mass_downloader - INFO: Client 'http://service.iris.edu' - Found 19 stations (57 channels).\n"
     ]
    },
    {
     "name": "stderr",
     "output_type": "stream",
     "text": [
      "[2024-02-28 22:18:59,305] - obspy.clients.fdsn.mass_downloader - INFO: Client 'http://service.iris.edu' - Found 19 stations (57 channels).\n"
     ]
    },
    {
     "name": "stderr",
     "output_type": "stream",
     "text": [
      "[2024-02-28 22:18:59,305] - obspy.clients.fdsn.mass_downloader - INFO: Client 'http://service.iris.edu' - Found 19 stations (57 channels).\n"
     ]
    },
    {
     "name": "stderr",
     "output_type": "stream",
     "text": [
      "[2024-02-28 22:18:59,305] - obspy.clients.fdsn.mass_downloader - INFO: Client 'http://service.iris.edu' - Found 19 stations (57 channels).\n"
     ]
    },
    {
     "name": "stderr",
     "output_type": "stream",
     "text": [
      "[2024-02-28 22:18:59,305] - obspy.clients.fdsn.mass_downloader - INFO: Client 'http://service.iris.edu' - Found 19 stations (57 channels).\n"
     ]
    },
    {
     "name": "stderr",
     "output_type": "stream",
     "text": [
      "[2024-02-28 22:18:59,305] - obspy.clients.fdsn.mass_downloader - INFO: Client 'http://service.iris.edu' - Found 19 stations (57 channels).\n"
     ]
    },
    {
     "name": "stderr",
     "output_type": "stream",
     "text": [
      "[2024-02-28 22:18:59,305] - obspy.clients.fdsn.mass_downloader - INFO: Client 'http://service.iris.edu' - Found 19 stations (57 channels).\n"
     ]
    },
    {
     "name": "stderr",
     "output_type": "stream",
     "text": [
      "[2024-02-28 22:18:59,305] - obspy.clients.fdsn.mass_downloader - INFO: Client 'http://service.iris.edu' - Found 19 stations (57 channels).\n"
     ]
    },
    {
     "name": "stderr",
     "output_type": "stream",
     "text": [
      "[2024-02-28 22:18:59,305] - obspy.clients.fdsn.mass_downloader - INFO: Client 'http://service.iris.edu' - Found 19 stations (57 channels).\n"
     ]
    },
    {
     "name": "stderr",
     "output_type": "stream",
     "text": [
      "[2024-02-28 22:18:59,305] - obspy.clients.fdsn.mass_downloader - INFO: Client 'http://service.iris.edu' - Found 19 stations (57 channels).\n"
     ]
    },
    {
     "name": "stderr",
     "output_type": "stream",
     "text": [
      "[2024-02-28 22:18:59,305] - obspy.clients.fdsn.mass_downloader - INFO: Client 'http://service.iris.edu' - Found 19 stations (57 channels).\n"
     ]
    },
    {
     "name": "stderr",
     "output_type": "stream",
     "text": [
      "[2024-02-28 22:18:59,317] - obspy.clients.fdsn.mass_downloader - INFO: Client 'http://service.iris.edu' - Will attempt to download data from 19 stations.\n"
     ]
    },
    {
     "name": "stderr",
     "output_type": "stream",
     "text": [
      "[2024-02-28 22:18:59,317] - obspy.clients.fdsn.mass_downloader - INFO: Client 'http://service.iris.edu' - Will attempt to download data from 19 stations.\n"
     ]
    },
    {
     "name": "stderr",
     "output_type": "stream",
     "text": [
      "[2024-02-28 22:18:59,317] - obspy.clients.fdsn.mass_downloader - INFO: Client 'http://service.iris.edu' - Will attempt to download data from 19 stations.\n"
     ]
    },
    {
     "name": "stderr",
     "output_type": "stream",
     "text": [
      "[2024-02-28 22:18:59,317] - obspy.clients.fdsn.mass_downloader - INFO: Client 'http://service.iris.edu' - Will attempt to download data from 19 stations.\n"
     ]
    },
    {
     "name": "stderr",
     "output_type": "stream",
     "text": [
      "[2024-02-28 22:18:59,317] - obspy.clients.fdsn.mass_downloader - INFO: Client 'http://service.iris.edu' - Will attempt to download data from 19 stations.\n"
     ]
    },
    {
     "name": "stderr",
     "output_type": "stream",
     "text": [
      "[2024-02-28 22:18:59,317] - obspy.clients.fdsn.mass_downloader - INFO: Client 'http://service.iris.edu' - Will attempt to download data from 19 stations.\n"
     ]
    },
    {
     "name": "stderr",
     "output_type": "stream",
     "text": [
      "[2024-02-28 22:18:59,317] - obspy.clients.fdsn.mass_downloader - INFO: Client 'http://service.iris.edu' - Will attempt to download data from 19 stations.\n"
     ]
    },
    {
     "name": "stderr",
     "output_type": "stream",
     "text": [
      "[2024-02-28 22:18:59,317] - obspy.clients.fdsn.mass_downloader - INFO: Client 'http://service.iris.edu' - Will attempt to download data from 19 stations.\n"
     ]
    },
    {
     "name": "stderr",
     "output_type": "stream",
     "text": [
      "[2024-02-28 22:18:59,317] - obspy.clients.fdsn.mass_downloader - INFO: Client 'http://service.iris.edu' - Will attempt to download data from 19 stations.\n"
     ]
    },
    {
     "name": "stderr",
     "output_type": "stream",
     "text": [
      "[2024-02-28 22:18:59,317] - obspy.clients.fdsn.mass_downloader - INFO: Client 'http://service.iris.edu' - Will attempt to download data from 19 stations.\n"
     ]
    },
    {
     "name": "stderr",
     "output_type": "stream",
     "text": [
      "[2024-02-28 22:18:59,317] - obspy.clients.fdsn.mass_downloader - INFO: Client 'http://service.iris.edu' - Will attempt to download data from 19 stations.\n"
     ]
    },
    {
     "name": "stderr",
     "output_type": "stream",
     "text": [
      "[2024-02-28 22:18:59,317] - obspy.clients.fdsn.mass_downloader - INFO: Client 'http://service.iris.edu' - Will attempt to download data from 19 stations.\n"
     ]
    },
    {
     "name": "stderr",
     "output_type": "stream",
     "text": [
      "[2024-02-28 22:18:59,317] - obspy.clients.fdsn.mass_downloader - INFO: Client 'http://service.iris.edu' - Will attempt to download data from 19 stations.\n"
     ]
    },
    {
     "name": "stderr",
     "output_type": "stream",
     "text": [
      "[2024-02-28 22:18:59,317] - obspy.clients.fdsn.mass_downloader - INFO: Client 'http://service.iris.edu' - Will attempt to download data from 19 stations.\n"
     ]
    },
    {
     "name": "stderr",
     "output_type": "stream",
     "text": [
      "[2024-02-28 22:18:59,317] - obspy.clients.fdsn.mass_downloader - INFO: Client 'http://service.iris.edu' - Will attempt to download data from 19 stations.\n"
     ]
    },
    {
     "name": "stderr",
     "output_type": "stream",
     "text": [
      "[2024-02-28 22:18:59,317] - obspy.clients.fdsn.mass_downloader - INFO: Client 'http://service.iris.edu' - Will attempt to download data from 19 stations.\n"
     ]
    },
    {
     "name": "stderr",
     "output_type": "stream",
     "text": [
      "[2024-02-28 22:18:59,326] - obspy.clients.fdsn.mass_downloader - INFO: Client 'http://service.iris.edu' - Status for 48 time intervals/channels before downloading: EXISTS\n"
     ]
    },
    {
     "name": "stderr",
     "output_type": "stream",
     "text": [
      "[2024-02-28 22:18:59,326] - obspy.clients.fdsn.mass_downloader - INFO: Client 'http://service.iris.edu' - Status for 48 time intervals/channels before downloading: EXISTS\n"
     ]
    },
    {
     "name": "stderr",
     "output_type": "stream",
     "text": [
      "[2024-02-28 22:18:59,326] - obspy.clients.fdsn.mass_downloader - INFO: Client 'http://service.iris.edu' - Status for 48 time intervals/channels before downloading: EXISTS\n"
     ]
    },
    {
     "name": "stderr",
     "output_type": "stream",
     "text": [
      "[2024-02-28 22:18:59,326] - obspy.clients.fdsn.mass_downloader - INFO: Client 'http://service.iris.edu' - Status for 48 time intervals/channels before downloading: EXISTS\n"
     ]
    },
    {
     "name": "stderr",
     "output_type": "stream",
     "text": [
      "[2024-02-28 22:18:59,326] - obspy.clients.fdsn.mass_downloader - INFO: Client 'http://service.iris.edu' - Status for 48 time intervals/channels before downloading: EXISTS\n"
     ]
    },
    {
     "name": "stderr",
     "output_type": "stream",
     "text": [
      "[2024-02-28 22:18:59,326] - obspy.clients.fdsn.mass_downloader - INFO: Client 'http://service.iris.edu' - Status for 48 time intervals/channels before downloading: EXISTS\n"
     ]
    },
    {
     "name": "stderr",
     "output_type": "stream",
     "text": [
      "[2024-02-28 22:18:59,326] - obspy.clients.fdsn.mass_downloader - INFO: Client 'http://service.iris.edu' - Status for 48 time intervals/channels before downloading: EXISTS\n"
     ]
    },
    {
     "name": "stderr",
     "output_type": "stream",
     "text": [
      "[2024-02-28 22:18:59,326] - obspy.clients.fdsn.mass_downloader - INFO: Client 'http://service.iris.edu' - Status for 48 time intervals/channels before downloading: EXISTS\n"
     ]
    },
    {
     "name": "stderr",
     "output_type": "stream",
     "text": [
      "[2024-02-28 22:18:59,326] - obspy.clients.fdsn.mass_downloader - INFO: Client 'http://service.iris.edu' - Status for 48 time intervals/channels before downloading: EXISTS\n"
     ]
    },
    {
     "name": "stderr",
     "output_type": "stream",
     "text": [
      "[2024-02-28 22:18:59,326] - obspy.clients.fdsn.mass_downloader - INFO: Client 'http://service.iris.edu' - Status for 48 time intervals/channels before downloading: EXISTS\n"
     ]
    },
    {
     "name": "stderr",
     "output_type": "stream",
     "text": [
      "[2024-02-28 22:18:59,326] - obspy.clients.fdsn.mass_downloader - INFO: Client 'http://service.iris.edu' - Status for 48 time intervals/channels before downloading: EXISTS\n"
     ]
    },
    {
     "name": "stderr",
     "output_type": "stream",
     "text": [
      "[2024-02-28 22:18:59,326] - obspy.clients.fdsn.mass_downloader - INFO: Client 'http://service.iris.edu' - Status for 48 time intervals/channels before downloading: EXISTS\n"
     ]
    },
    {
     "name": "stderr",
     "output_type": "stream",
     "text": [
      "[2024-02-28 22:18:59,326] - obspy.clients.fdsn.mass_downloader - INFO: Client 'http://service.iris.edu' - Status for 48 time intervals/channels before downloading: EXISTS\n"
     ]
    },
    {
     "name": "stderr",
     "output_type": "stream",
     "text": [
      "[2024-02-28 22:18:59,326] - obspy.clients.fdsn.mass_downloader - INFO: Client 'http://service.iris.edu' - Status for 48 time intervals/channels before downloading: EXISTS\n"
     ]
    },
    {
     "name": "stderr",
     "output_type": "stream",
     "text": [
      "[2024-02-28 22:18:59,326] - obspy.clients.fdsn.mass_downloader - INFO: Client 'http://service.iris.edu' - Status for 48 time intervals/channels before downloading: EXISTS\n"
     ]
    },
    {
     "name": "stderr",
     "output_type": "stream",
     "text": [
      "[2024-02-28 22:18:59,326] - obspy.clients.fdsn.mass_downloader - INFO: Client 'http://service.iris.edu' - Status for 48 time intervals/channels before downloading: EXISTS\n"
     ]
    },
    {
     "name": "stderr",
     "output_type": "stream",
     "text": [
      "[2024-02-28 22:18:59,334] - obspy.clients.fdsn.mass_downloader - INFO: Client 'http://service.iris.edu' - Status for 9 time intervals/channels before downloading: NEEDS_DOWNLOADING\n"
     ]
    },
    {
     "name": "stderr",
     "output_type": "stream",
     "text": [
      "[2024-02-28 22:18:59,334] - obspy.clients.fdsn.mass_downloader - INFO: Client 'http://service.iris.edu' - Status for 9 time intervals/channels before downloading: NEEDS_DOWNLOADING\n"
     ]
    },
    {
     "name": "stderr",
     "output_type": "stream",
     "text": [
      "[2024-02-28 22:18:59,334] - obspy.clients.fdsn.mass_downloader - INFO: Client 'http://service.iris.edu' - Status for 9 time intervals/channels before downloading: NEEDS_DOWNLOADING\n"
     ]
    },
    {
     "name": "stderr",
     "output_type": "stream",
     "text": [
      "[2024-02-28 22:18:59,334] - obspy.clients.fdsn.mass_downloader - INFO: Client 'http://service.iris.edu' - Status for 9 time intervals/channels before downloading: NEEDS_DOWNLOADING\n"
     ]
    },
    {
     "name": "stderr",
     "output_type": "stream",
     "text": [
      "[2024-02-28 22:18:59,334] - obspy.clients.fdsn.mass_downloader - INFO: Client 'http://service.iris.edu' - Status for 9 time intervals/channels before downloading: NEEDS_DOWNLOADING\n"
     ]
    },
    {
     "name": "stderr",
     "output_type": "stream",
     "text": [
      "[2024-02-28 22:18:59,334] - obspy.clients.fdsn.mass_downloader - INFO: Client 'http://service.iris.edu' - Status for 9 time intervals/channels before downloading: NEEDS_DOWNLOADING\n"
     ]
    },
    {
     "name": "stderr",
     "output_type": "stream",
     "text": [
      "[2024-02-28 22:18:59,334] - obspy.clients.fdsn.mass_downloader - INFO: Client 'http://service.iris.edu' - Status for 9 time intervals/channels before downloading: NEEDS_DOWNLOADING\n"
     ]
    },
    {
     "name": "stderr",
     "output_type": "stream",
     "text": [
      "[2024-02-28 22:18:59,334] - obspy.clients.fdsn.mass_downloader - INFO: Client 'http://service.iris.edu' - Status for 9 time intervals/channels before downloading: NEEDS_DOWNLOADING\n"
     ]
    },
    {
     "name": "stderr",
     "output_type": "stream",
     "text": [
      "[2024-02-28 22:18:59,334] - obspy.clients.fdsn.mass_downloader - INFO: Client 'http://service.iris.edu' - Status for 9 time intervals/channels before downloading: NEEDS_DOWNLOADING\n"
     ]
    },
    {
     "name": "stderr",
     "output_type": "stream",
     "text": [
      "[2024-02-28 22:18:59,334] - obspy.clients.fdsn.mass_downloader - INFO: Client 'http://service.iris.edu' - Status for 9 time intervals/channels before downloading: NEEDS_DOWNLOADING\n"
     ]
    },
    {
     "name": "stderr",
     "output_type": "stream",
     "text": [
      "[2024-02-28 22:18:59,334] - obspy.clients.fdsn.mass_downloader - INFO: Client 'http://service.iris.edu' - Status for 9 time intervals/channels before downloading: NEEDS_DOWNLOADING\n"
     ]
    },
    {
     "name": "stderr",
     "output_type": "stream",
     "text": [
      "[2024-02-28 22:18:59,334] - obspy.clients.fdsn.mass_downloader - INFO: Client 'http://service.iris.edu' - Status for 9 time intervals/channels before downloading: NEEDS_DOWNLOADING\n"
     ]
    },
    {
     "name": "stderr",
     "output_type": "stream",
     "text": [
      "[2024-02-28 22:18:59,334] - obspy.clients.fdsn.mass_downloader - INFO: Client 'http://service.iris.edu' - Status for 9 time intervals/channels before downloading: NEEDS_DOWNLOADING\n"
     ]
    },
    {
     "name": "stderr",
     "output_type": "stream",
     "text": [
      "[2024-02-28 22:18:59,334] - obspy.clients.fdsn.mass_downloader - INFO: Client 'http://service.iris.edu' - Status for 9 time intervals/channels before downloading: NEEDS_DOWNLOADING\n"
     ]
    },
    {
     "name": "stderr",
     "output_type": "stream",
     "text": [
      "[2024-02-28 22:18:59,334] - obspy.clients.fdsn.mass_downloader - INFO: Client 'http://service.iris.edu' - Status for 9 time intervals/channels before downloading: NEEDS_DOWNLOADING\n"
     ]
    },
    {
     "name": "stderr",
     "output_type": "stream",
     "text": [
      "[2024-02-28 22:18:59,334] - obspy.clients.fdsn.mass_downloader - INFO: Client 'http://service.iris.edu' - Status for 9 time intervals/channels before downloading: NEEDS_DOWNLOADING\n"
     ]
    },
    {
     "name": "stderr",
     "output_type": "stream",
     "text": [
      "[2024-02-28 22:18:59,880] - obspy.clients.fdsn.mass_downloader - INFO: Client 'http://service.iris.edu' - No data available for request.\n",
      "HTTP Status code: 204\n"
     ]
    },
    {
     "name": "stderr",
     "output_type": "stream",
     "text": [
      "[2024-02-28 22:18:59,880] - obspy.clients.fdsn.mass_downloader - INFO: Client 'http://service.iris.edu' - No data available for request.\n",
      "HTTP Status code: 204\n"
     ]
    },
    {
     "name": "stderr",
     "output_type": "stream",
     "text": [
      "[2024-02-28 22:18:59,880] - obspy.clients.fdsn.mass_downloader - INFO: Client 'http://service.iris.edu' - No data available for request.\n",
      "HTTP Status code: 204\n"
     ]
    },
    {
     "name": "stderr",
     "output_type": "stream",
     "text": [
      "[2024-02-28 22:18:59,880] - obspy.clients.fdsn.mass_downloader - INFO: Client 'http://service.iris.edu' - No data available for request.\n",
      "HTTP Status code: 204\n"
     ]
    },
    {
     "name": "stderr",
     "output_type": "stream",
     "text": [
      "[2024-02-28 22:18:59,880] - obspy.clients.fdsn.mass_downloader - INFO: Client 'http://service.iris.edu' - No data available for request.\n",
      "HTTP Status code: 204\n"
     ]
    },
    {
     "name": "stderr",
     "output_type": "stream",
     "text": [
      "[2024-02-28 22:18:59,880] - obspy.clients.fdsn.mass_downloader - INFO: Client 'http://service.iris.edu' - No data available for request.\n",
      "HTTP Status code: 204\n"
     ]
    },
    {
     "name": "stderr",
     "output_type": "stream",
     "text": [
      "[2024-02-28 22:18:59,880] - obspy.clients.fdsn.mass_downloader - INFO: Client 'http://service.iris.edu' - No data available for request.\n",
      "HTTP Status code: 204\n"
     ]
    },
    {
     "name": "stderr",
     "output_type": "stream",
     "text": [
      "[2024-02-28 22:18:59,880] - obspy.clients.fdsn.mass_downloader - INFO: Client 'http://service.iris.edu' - No data available for request.\n",
      "HTTP Status code: 204\n"
     ]
    },
    {
     "name": "stderr",
     "output_type": "stream",
     "text": [
      "[2024-02-28 22:18:59,880] - obspy.clients.fdsn.mass_downloader - INFO: Client 'http://service.iris.edu' - No data available for request.\n",
      "HTTP Status code: 204\n"
     ]
    },
    {
     "name": "stderr",
     "output_type": "stream",
     "text": [
      "[2024-02-28 22:18:59,880] - obspy.clients.fdsn.mass_downloader - INFO: Client 'http://service.iris.edu' - No data available for request.\n",
      "HTTP Status code: 204\n"
     ]
    },
    {
     "name": "stderr",
     "output_type": "stream",
     "text": [
      "[2024-02-28 22:18:59,880] - obspy.clients.fdsn.mass_downloader - INFO: Client 'http://service.iris.edu' - No data available for request.\n",
      "HTTP Status code: 204\n"
     ]
    },
    {
     "name": "stderr",
     "output_type": "stream",
     "text": [
      "[2024-02-28 22:18:59,880] - obspy.clients.fdsn.mass_downloader - INFO: Client 'http://service.iris.edu' - No data available for request.\n",
      "HTTP Status code: 204\n"
     ]
    },
    {
     "name": "stderr",
     "output_type": "stream",
     "text": [
      "[2024-02-28 22:18:59,880] - obspy.clients.fdsn.mass_downloader - INFO: Client 'http://service.iris.edu' - No data available for request.\n",
      "HTTP Status code: 204\n"
     ]
    },
    {
     "name": "stderr",
     "output_type": "stream",
     "text": [
      "[2024-02-28 22:18:59,880] - obspy.clients.fdsn.mass_downloader - INFO: Client 'http://service.iris.edu' - No data available for request.\n",
      "HTTP Status code: 204\n"
     ]
    },
    {
     "name": "stderr",
     "output_type": "stream",
     "text": [
      "[2024-02-28 22:18:59,880] - obspy.clients.fdsn.mass_downloader - INFO: Client 'http://service.iris.edu' - No data available for request.\n",
      "HTTP Status code: 204\n"
     ]
    },
    {
     "name": "stderr",
     "output_type": "stream",
     "text": [
      "[2024-02-28 22:18:59,880] - obspy.clients.fdsn.mass_downloader - INFO: Client 'http://service.iris.edu' - No data available for request.\n",
      "HTTP Status code: 204\n"
     ]
    },
    {
     "name": "stderr",
     "output_type": "stream",
     "text": [
      "[2024-02-28 22:18:59,890] - obspy.clients.fdsn.mass_downloader - INFO: Client 'http://service.iris.edu' - Launching basic QC checks...\n"
     ]
    },
    {
     "name": "stderr",
     "output_type": "stream",
     "text": [
      "[2024-02-28 22:18:59,890] - obspy.clients.fdsn.mass_downloader - INFO: Client 'http://service.iris.edu' - Launching basic QC checks...\n"
     ]
    },
    {
     "name": "stderr",
     "output_type": "stream",
     "text": [
      "[2024-02-28 22:18:59,890] - obspy.clients.fdsn.mass_downloader - INFO: Client 'http://service.iris.edu' - Launching basic QC checks...\n"
     ]
    },
    {
     "name": "stderr",
     "output_type": "stream",
     "text": [
      "[2024-02-28 22:18:59,890] - obspy.clients.fdsn.mass_downloader - INFO: Client 'http://service.iris.edu' - Launching basic QC checks...\n"
     ]
    },
    {
     "name": "stderr",
     "output_type": "stream",
     "text": [
      "[2024-02-28 22:18:59,890] - obspy.clients.fdsn.mass_downloader - INFO: Client 'http://service.iris.edu' - Launching basic QC checks...\n"
     ]
    },
    {
     "name": "stderr",
     "output_type": "stream",
     "text": [
      "[2024-02-28 22:18:59,890] - obspy.clients.fdsn.mass_downloader - INFO: Client 'http://service.iris.edu' - Launching basic QC checks...\n"
     ]
    },
    {
     "name": "stderr",
     "output_type": "stream",
     "text": [
      "[2024-02-28 22:18:59,890] - obspy.clients.fdsn.mass_downloader - INFO: Client 'http://service.iris.edu' - Launching basic QC checks...\n"
     ]
    },
    {
     "name": "stderr",
     "output_type": "stream",
     "text": [
      "[2024-02-28 22:18:59,890] - obspy.clients.fdsn.mass_downloader - INFO: Client 'http://service.iris.edu' - Launching basic QC checks...\n"
     ]
    },
    {
     "name": "stderr",
     "output_type": "stream",
     "text": [
      "[2024-02-28 22:18:59,890] - obspy.clients.fdsn.mass_downloader - INFO: Client 'http://service.iris.edu' - Launching basic QC checks...\n"
     ]
    },
    {
     "name": "stderr",
     "output_type": "stream",
     "text": [
      "[2024-02-28 22:18:59,890] - obspy.clients.fdsn.mass_downloader - INFO: Client 'http://service.iris.edu' - Launching basic QC checks...\n"
     ]
    },
    {
     "name": "stderr",
     "output_type": "stream",
     "text": [
      "[2024-02-28 22:18:59,890] - obspy.clients.fdsn.mass_downloader - INFO: Client 'http://service.iris.edu' - Launching basic QC checks...\n"
     ]
    },
    {
     "name": "stderr",
     "output_type": "stream",
     "text": [
      "[2024-02-28 22:18:59,890] - obspy.clients.fdsn.mass_downloader - INFO: Client 'http://service.iris.edu' - Launching basic QC checks...\n"
     ]
    },
    {
     "name": "stderr",
     "output_type": "stream",
     "text": [
      "[2024-02-28 22:18:59,890] - obspy.clients.fdsn.mass_downloader - INFO: Client 'http://service.iris.edu' - Launching basic QC checks...\n"
     ]
    },
    {
     "name": "stderr",
     "output_type": "stream",
     "text": [
      "[2024-02-28 22:18:59,890] - obspy.clients.fdsn.mass_downloader - INFO: Client 'http://service.iris.edu' - Launching basic QC checks...\n"
     ]
    },
    {
     "name": "stderr",
     "output_type": "stream",
     "text": [
      "[2024-02-28 22:18:59,890] - obspy.clients.fdsn.mass_downloader - INFO: Client 'http://service.iris.edu' - Launching basic QC checks...\n"
     ]
    },
    {
     "name": "stderr",
     "output_type": "stream",
     "text": [
      "[2024-02-28 22:18:59,890] - obspy.clients.fdsn.mass_downloader - INFO: Client 'http://service.iris.edu' - Launching basic QC checks...\n"
     ]
    },
    {
     "name": "stderr",
     "output_type": "stream",
     "text": [
      "[2024-02-28 22:18:59,899] - obspy.clients.fdsn.mass_downloader - INFO: Client 'http://service.iris.edu' - Downloaded 0.0 MB [0.00 KB/sec] of data, 0.0 MB of which were discarded afterwards.\n"
     ]
    },
    {
     "name": "stderr",
     "output_type": "stream",
     "text": [
      "[2024-02-28 22:18:59,899] - obspy.clients.fdsn.mass_downloader - INFO: Client 'http://service.iris.edu' - Downloaded 0.0 MB [0.00 KB/sec] of data, 0.0 MB of which were discarded afterwards.\n"
     ]
    },
    {
     "name": "stderr",
     "output_type": "stream",
     "text": [
      "[2024-02-28 22:18:59,899] - obspy.clients.fdsn.mass_downloader - INFO: Client 'http://service.iris.edu' - Downloaded 0.0 MB [0.00 KB/sec] of data, 0.0 MB of which were discarded afterwards.\n"
     ]
    },
    {
     "name": "stderr",
     "output_type": "stream",
     "text": [
      "[2024-02-28 22:18:59,899] - obspy.clients.fdsn.mass_downloader - INFO: Client 'http://service.iris.edu' - Downloaded 0.0 MB [0.00 KB/sec] of data, 0.0 MB of which were discarded afterwards.\n"
     ]
    },
    {
     "name": "stderr",
     "output_type": "stream",
     "text": [
      "[2024-02-28 22:18:59,899] - obspy.clients.fdsn.mass_downloader - INFO: Client 'http://service.iris.edu' - Downloaded 0.0 MB [0.00 KB/sec] of data, 0.0 MB of which were discarded afterwards.\n"
     ]
    },
    {
     "name": "stderr",
     "output_type": "stream",
     "text": [
      "[2024-02-28 22:18:59,899] - obspy.clients.fdsn.mass_downloader - INFO: Client 'http://service.iris.edu' - Downloaded 0.0 MB [0.00 KB/sec] of data, 0.0 MB of which were discarded afterwards.\n"
     ]
    },
    {
     "name": "stderr",
     "output_type": "stream",
     "text": [
      "[2024-02-28 22:18:59,899] - obspy.clients.fdsn.mass_downloader - INFO: Client 'http://service.iris.edu' - Downloaded 0.0 MB [0.00 KB/sec] of data, 0.0 MB of which were discarded afterwards.\n"
     ]
    },
    {
     "name": "stderr",
     "output_type": "stream",
     "text": [
      "[2024-02-28 22:18:59,899] - obspy.clients.fdsn.mass_downloader - INFO: Client 'http://service.iris.edu' - Downloaded 0.0 MB [0.00 KB/sec] of data, 0.0 MB of which were discarded afterwards.\n"
     ]
    },
    {
     "name": "stderr",
     "output_type": "stream",
     "text": [
      "[2024-02-28 22:18:59,899] - obspy.clients.fdsn.mass_downloader - INFO: Client 'http://service.iris.edu' - Downloaded 0.0 MB [0.00 KB/sec] of data, 0.0 MB of which were discarded afterwards.\n"
     ]
    },
    {
     "name": "stderr",
     "output_type": "stream",
     "text": [
      "[2024-02-28 22:18:59,899] - obspy.clients.fdsn.mass_downloader - INFO: Client 'http://service.iris.edu' - Downloaded 0.0 MB [0.00 KB/sec] of data, 0.0 MB of which were discarded afterwards.\n"
     ]
    },
    {
     "name": "stderr",
     "output_type": "stream",
     "text": [
      "[2024-02-28 22:18:59,899] - obspy.clients.fdsn.mass_downloader - INFO: Client 'http://service.iris.edu' - Downloaded 0.0 MB [0.00 KB/sec] of data, 0.0 MB of which were discarded afterwards.\n"
     ]
    },
    {
     "name": "stderr",
     "output_type": "stream",
     "text": [
      "[2024-02-28 22:18:59,899] - obspy.clients.fdsn.mass_downloader - INFO: Client 'http://service.iris.edu' - Downloaded 0.0 MB [0.00 KB/sec] of data, 0.0 MB of which were discarded afterwards.\n"
     ]
    },
    {
     "name": "stderr",
     "output_type": "stream",
     "text": [
      "[2024-02-28 22:18:59,899] - obspy.clients.fdsn.mass_downloader - INFO: Client 'http://service.iris.edu' - Downloaded 0.0 MB [0.00 KB/sec] of data, 0.0 MB of which were discarded afterwards.\n"
     ]
    },
    {
     "name": "stderr",
     "output_type": "stream",
     "text": [
      "[2024-02-28 22:18:59,899] - obspy.clients.fdsn.mass_downloader - INFO: Client 'http://service.iris.edu' - Downloaded 0.0 MB [0.00 KB/sec] of data, 0.0 MB of which were discarded afterwards.\n"
     ]
    },
    {
     "name": "stderr",
     "output_type": "stream",
     "text": [
      "[2024-02-28 22:18:59,899] - obspy.clients.fdsn.mass_downloader - INFO: Client 'http://service.iris.edu' - Downloaded 0.0 MB [0.00 KB/sec] of data, 0.0 MB of which were discarded afterwards.\n"
     ]
    },
    {
     "name": "stderr",
     "output_type": "stream",
     "text": [
      "[2024-02-28 22:18:59,899] - obspy.clients.fdsn.mass_downloader - INFO: Client 'http://service.iris.edu' - Downloaded 0.0 MB [0.00 KB/sec] of data, 0.0 MB of which were discarded afterwards.\n"
     ]
    },
    {
     "name": "stderr",
     "output_type": "stream",
     "text": [
      "[2024-02-28 22:18:59,907] - obspy.clients.fdsn.mass_downloader - INFO: Client 'http://service.iris.edu' - Status for 9 time intervals/channels after downloading: DOWNLOAD_FAILED\n"
     ]
    },
    {
     "name": "stderr",
     "output_type": "stream",
     "text": [
      "[2024-02-28 22:18:59,907] - obspy.clients.fdsn.mass_downloader - INFO: Client 'http://service.iris.edu' - Status for 9 time intervals/channels after downloading: DOWNLOAD_FAILED\n"
     ]
    },
    {
     "name": "stderr",
     "output_type": "stream",
     "text": [
      "[2024-02-28 22:18:59,907] - obspy.clients.fdsn.mass_downloader - INFO: Client 'http://service.iris.edu' - Status for 9 time intervals/channels after downloading: DOWNLOAD_FAILED\n"
     ]
    },
    {
     "name": "stderr",
     "output_type": "stream",
     "text": [
      "[2024-02-28 22:18:59,907] - obspy.clients.fdsn.mass_downloader - INFO: Client 'http://service.iris.edu' - Status for 9 time intervals/channels after downloading: DOWNLOAD_FAILED\n"
     ]
    },
    {
     "name": "stderr",
     "output_type": "stream",
     "text": [
      "[2024-02-28 22:18:59,907] - obspy.clients.fdsn.mass_downloader - INFO: Client 'http://service.iris.edu' - Status for 9 time intervals/channels after downloading: DOWNLOAD_FAILED\n"
     ]
    },
    {
     "name": "stderr",
     "output_type": "stream",
     "text": [
      "[2024-02-28 22:18:59,907] - obspy.clients.fdsn.mass_downloader - INFO: Client 'http://service.iris.edu' - Status for 9 time intervals/channels after downloading: DOWNLOAD_FAILED\n"
     ]
    },
    {
     "name": "stderr",
     "output_type": "stream",
     "text": [
      "[2024-02-28 22:18:59,907] - obspy.clients.fdsn.mass_downloader - INFO: Client 'http://service.iris.edu' - Status for 9 time intervals/channels after downloading: DOWNLOAD_FAILED\n"
     ]
    },
    {
     "name": "stderr",
     "output_type": "stream",
     "text": [
      "[2024-02-28 22:18:59,907] - obspy.clients.fdsn.mass_downloader - INFO: Client 'http://service.iris.edu' - Status for 9 time intervals/channels after downloading: DOWNLOAD_FAILED\n"
     ]
    },
    {
     "name": "stderr",
     "output_type": "stream",
     "text": [
      "[2024-02-28 22:18:59,907] - obspy.clients.fdsn.mass_downloader - INFO: Client 'http://service.iris.edu' - Status for 9 time intervals/channels after downloading: DOWNLOAD_FAILED\n"
     ]
    },
    {
     "name": "stderr",
     "output_type": "stream",
     "text": [
      "[2024-02-28 22:18:59,907] - obspy.clients.fdsn.mass_downloader - INFO: Client 'http://service.iris.edu' - Status for 9 time intervals/channels after downloading: DOWNLOAD_FAILED\n"
     ]
    },
    {
     "name": "stderr",
     "output_type": "stream",
     "text": [
      "[2024-02-28 22:18:59,907] - obspy.clients.fdsn.mass_downloader - INFO: Client 'http://service.iris.edu' - Status for 9 time intervals/channels after downloading: DOWNLOAD_FAILED\n"
     ]
    },
    {
     "name": "stderr",
     "output_type": "stream",
     "text": [
      "[2024-02-28 22:18:59,907] - obspy.clients.fdsn.mass_downloader - INFO: Client 'http://service.iris.edu' - Status for 9 time intervals/channels after downloading: DOWNLOAD_FAILED\n"
     ]
    },
    {
     "name": "stderr",
     "output_type": "stream",
     "text": [
      "[2024-02-28 22:18:59,907] - obspy.clients.fdsn.mass_downloader - INFO: Client 'http://service.iris.edu' - Status for 9 time intervals/channels after downloading: DOWNLOAD_FAILED\n"
     ]
    },
    {
     "name": "stderr",
     "output_type": "stream",
     "text": [
      "[2024-02-28 22:18:59,907] - obspy.clients.fdsn.mass_downloader - INFO: Client 'http://service.iris.edu' - Status for 9 time intervals/channels after downloading: DOWNLOAD_FAILED\n"
     ]
    },
    {
     "name": "stderr",
     "output_type": "stream",
     "text": [
      "[2024-02-28 22:18:59,907] - obspy.clients.fdsn.mass_downloader - INFO: Client 'http://service.iris.edu' - Status for 9 time intervals/channels after downloading: DOWNLOAD_FAILED\n"
     ]
    },
    {
     "name": "stderr",
     "output_type": "stream",
     "text": [
      "[2024-02-28 22:18:59,907] - obspy.clients.fdsn.mass_downloader - INFO: Client 'http://service.iris.edu' - Status for 9 time intervals/channels after downloading: DOWNLOAD_FAILED\n"
     ]
    },
    {
     "name": "stderr",
     "output_type": "stream",
     "text": [
      "[2024-02-28 22:18:59,915] - obspy.clients.fdsn.mass_downloader - INFO: Client 'http://service.iris.edu' - Status for 48 time intervals/channels after downloading: EXISTS\n"
     ]
    },
    {
     "name": "stderr",
     "output_type": "stream",
     "text": [
      "[2024-02-28 22:18:59,915] - obspy.clients.fdsn.mass_downloader - INFO: Client 'http://service.iris.edu' - Status for 48 time intervals/channels after downloading: EXISTS\n"
     ]
    },
    {
     "name": "stderr",
     "output_type": "stream",
     "text": [
      "[2024-02-28 22:18:59,915] - obspy.clients.fdsn.mass_downloader - INFO: Client 'http://service.iris.edu' - Status for 48 time intervals/channels after downloading: EXISTS\n"
     ]
    },
    {
     "name": "stderr",
     "output_type": "stream",
     "text": [
      "[2024-02-28 22:18:59,915] - obspy.clients.fdsn.mass_downloader - INFO: Client 'http://service.iris.edu' - Status for 48 time intervals/channels after downloading: EXISTS\n"
     ]
    },
    {
     "name": "stderr",
     "output_type": "stream",
     "text": [
      "[2024-02-28 22:18:59,915] - obspy.clients.fdsn.mass_downloader - INFO: Client 'http://service.iris.edu' - Status for 48 time intervals/channels after downloading: EXISTS\n"
     ]
    },
    {
     "name": "stderr",
     "output_type": "stream",
     "text": [
      "[2024-02-28 22:18:59,915] - obspy.clients.fdsn.mass_downloader - INFO: Client 'http://service.iris.edu' - Status for 48 time intervals/channels after downloading: EXISTS\n"
     ]
    },
    {
     "name": "stderr",
     "output_type": "stream",
     "text": [
      "[2024-02-28 22:18:59,915] - obspy.clients.fdsn.mass_downloader - INFO: Client 'http://service.iris.edu' - Status for 48 time intervals/channels after downloading: EXISTS\n"
     ]
    },
    {
     "name": "stderr",
     "output_type": "stream",
     "text": [
      "[2024-02-28 22:18:59,915] - obspy.clients.fdsn.mass_downloader - INFO: Client 'http://service.iris.edu' - Status for 48 time intervals/channels after downloading: EXISTS\n"
     ]
    },
    {
     "name": "stderr",
     "output_type": "stream",
     "text": [
      "[2024-02-28 22:18:59,915] - obspy.clients.fdsn.mass_downloader - INFO: Client 'http://service.iris.edu' - Status for 48 time intervals/channels after downloading: EXISTS\n"
     ]
    },
    {
     "name": "stderr",
     "output_type": "stream",
     "text": [
      "[2024-02-28 22:18:59,915] - obspy.clients.fdsn.mass_downloader - INFO: Client 'http://service.iris.edu' - Status for 48 time intervals/channels after downloading: EXISTS\n"
     ]
    },
    {
     "name": "stderr",
     "output_type": "stream",
     "text": [
      "[2024-02-28 22:18:59,915] - obspy.clients.fdsn.mass_downloader - INFO: Client 'http://service.iris.edu' - Status for 48 time intervals/channels after downloading: EXISTS\n"
     ]
    },
    {
     "name": "stderr",
     "output_type": "stream",
     "text": [
      "[2024-02-28 22:18:59,915] - obspy.clients.fdsn.mass_downloader - INFO: Client 'http://service.iris.edu' - Status for 48 time intervals/channels after downloading: EXISTS\n"
     ]
    },
    {
     "name": "stderr",
     "output_type": "stream",
     "text": [
      "[2024-02-28 22:18:59,915] - obspy.clients.fdsn.mass_downloader - INFO: Client 'http://service.iris.edu' - Status for 48 time intervals/channels after downloading: EXISTS\n"
     ]
    },
    {
     "name": "stderr",
     "output_type": "stream",
     "text": [
      "[2024-02-28 22:18:59,915] - obspy.clients.fdsn.mass_downloader - INFO: Client 'http://service.iris.edu' - Status for 48 time intervals/channels after downloading: EXISTS\n"
     ]
    },
    {
     "name": "stderr",
     "output_type": "stream",
     "text": [
      "[2024-02-28 22:18:59,915] - obspy.clients.fdsn.mass_downloader - INFO: Client 'http://service.iris.edu' - Status for 48 time intervals/channels after downloading: EXISTS\n"
     ]
    },
    {
     "name": "stderr",
     "output_type": "stream",
     "text": [
      "[2024-02-28 22:18:59,915] - obspy.clients.fdsn.mass_downloader - INFO: Client 'http://service.iris.edu' - Status for 48 time intervals/channels after downloading: EXISTS\n"
     ]
    },
    {
     "name": "stderr",
     "output_type": "stream",
     "text": [
      "[2024-02-28 22:18:59,937] - obspy.clients.fdsn.mass_downloader - INFO: Client 'http://service.iris.edu' - No station information to download.\n"
     ]
    },
    {
     "name": "stderr",
     "output_type": "stream",
     "text": [
      "[2024-02-28 22:18:59,937] - obspy.clients.fdsn.mass_downloader - INFO: Client 'http://service.iris.edu' - No station information to download.\n"
     ]
    },
    {
     "name": "stderr",
     "output_type": "stream",
     "text": [
      "[2024-02-28 22:18:59,937] - obspy.clients.fdsn.mass_downloader - INFO: Client 'http://service.iris.edu' - No station information to download.\n"
     ]
    },
    {
     "name": "stderr",
     "output_type": "stream",
     "text": [
      "[2024-02-28 22:18:59,937] - obspy.clients.fdsn.mass_downloader - INFO: Client 'http://service.iris.edu' - No station information to download.\n"
     ]
    },
    {
     "name": "stderr",
     "output_type": "stream",
     "text": [
      "[2024-02-28 22:18:59,937] - obspy.clients.fdsn.mass_downloader - INFO: Client 'http://service.iris.edu' - No station information to download.\n"
     ]
    },
    {
     "name": "stderr",
     "output_type": "stream",
     "text": [
      "[2024-02-28 22:18:59,937] - obspy.clients.fdsn.mass_downloader - INFO: Client 'http://service.iris.edu' - No station information to download.\n"
     ]
    },
    {
     "name": "stderr",
     "output_type": "stream",
     "text": [
      "[2024-02-28 22:18:59,937] - obspy.clients.fdsn.mass_downloader - INFO: Client 'http://service.iris.edu' - No station information to download.\n"
     ]
    },
    {
     "name": "stderr",
     "output_type": "stream",
     "text": [
      "[2024-02-28 22:18:59,937] - obspy.clients.fdsn.mass_downloader - INFO: Client 'http://service.iris.edu' - No station information to download.\n"
     ]
    },
    {
     "name": "stderr",
     "output_type": "stream",
     "text": [
      "[2024-02-28 22:18:59,937] - obspy.clients.fdsn.mass_downloader - INFO: Client 'http://service.iris.edu' - No station information to download.\n"
     ]
    },
    {
     "name": "stderr",
     "output_type": "stream",
     "text": [
      "[2024-02-28 22:18:59,937] - obspy.clients.fdsn.mass_downloader - INFO: Client 'http://service.iris.edu' - No station information to download.\n"
     ]
    },
    {
     "name": "stderr",
     "output_type": "stream",
     "text": [
      "[2024-02-28 22:18:59,937] - obspy.clients.fdsn.mass_downloader - INFO: Client 'http://service.iris.edu' - No station information to download.\n"
     ]
    },
    {
     "name": "stderr",
     "output_type": "stream",
     "text": [
      "[2024-02-28 22:18:59,937] - obspy.clients.fdsn.mass_downloader - INFO: Client 'http://service.iris.edu' - No station information to download.\n"
     ]
    },
    {
     "name": "stderr",
     "output_type": "stream",
     "text": [
      "[2024-02-28 22:18:59,937] - obspy.clients.fdsn.mass_downloader - INFO: Client 'http://service.iris.edu' - No station information to download.\n"
     ]
    },
    {
     "name": "stderr",
     "output_type": "stream",
     "text": [
      "[2024-02-28 22:18:59,937] - obspy.clients.fdsn.mass_downloader - INFO: Client 'http://service.iris.edu' - No station information to download.\n"
     ]
    },
    {
     "name": "stderr",
     "output_type": "stream",
     "text": [
      "[2024-02-28 22:18:59,937] - obspy.clients.fdsn.mass_downloader - INFO: Client 'http://service.iris.edu' - No station information to download.\n"
     ]
    },
    {
     "name": "stderr",
     "output_type": "stream",
     "text": [
      "[2024-02-28 22:18:59,937] - obspy.clients.fdsn.mass_downloader - INFO: Client 'http://service.iris.edu' - No station information to download.\n"
     ]
    },
    {
     "name": "stderr",
     "output_type": "stream",
     "text": [
      "[2024-02-28 22:18:59,945] - obspy.clients.fdsn.mass_downloader - INFO: ============================== Final report\n"
     ]
    },
    {
     "name": "stderr",
     "output_type": "stream",
     "text": [
      "[2024-02-28 22:18:59,945] - obspy.clients.fdsn.mass_downloader - INFO: ============================== Final report\n"
     ]
    },
    {
     "name": "stderr",
     "output_type": "stream",
     "text": [
      "[2024-02-28 22:18:59,945] - obspy.clients.fdsn.mass_downloader - INFO: ============================== Final report\n"
     ]
    },
    {
     "name": "stderr",
     "output_type": "stream",
     "text": [
      "[2024-02-28 22:18:59,945] - obspy.clients.fdsn.mass_downloader - INFO: ============================== Final report\n"
     ]
    },
    {
     "name": "stderr",
     "output_type": "stream",
     "text": [
      "[2024-02-28 22:18:59,945] - obspy.clients.fdsn.mass_downloader - INFO: ============================== Final report\n"
     ]
    },
    {
     "name": "stderr",
     "output_type": "stream",
     "text": [
      "[2024-02-28 22:18:59,945] - obspy.clients.fdsn.mass_downloader - INFO: ============================== Final report\n"
     ]
    },
    {
     "name": "stderr",
     "output_type": "stream",
     "text": [
      "[2024-02-28 22:18:59,945] - obspy.clients.fdsn.mass_downloader - INFO: ============================== Final report\n"
     ]
    },
    {
     "name": "stderr",
     "output_type": "stream",
     "text": [
      "[2024-02-28 22:18:59,945] - obspy.clients.fdsn.mass_downloader - INFO: ============================== Final report\n"
     ]
    },
    {
     "name": "stderr",
     "output_type": "stream",
     "text": [
      "[2024-02-28 22:18:59,945] - obspy.clients.fdsn.mass_downloader - INFO: ============================== Final report\n"
     ]
    },
    {
     "name": "stderr",
     "output_type": "stream",
     "text": [
      "[2024-02-28 22:18:59,945] - obspy.clients.fdsn.mass_downloader - INFO: ============================== Final report\n"
     ]
    },
    {
     "name": "stderr",
     "output_type": "stream",
     "text": [
      "[2024-02-28 22:18:59,945] - obspy.clients.fdsn.mass_downloader - INFO: ============================== Final report\n"
     ]
    },
    {
     "name": "stderr",
     "output_type": "stream",
     "text": [
      "[2024-02-28 22:18:59,945] - obspy.clients.fdsn.mass_downloader - INFO: ============================== Final report\n"
     ]
    },
    {
     "name": "stderr",
     "output_type": "stream",
     "text": [
      "[2024-02-28 22:18:59,945] - obspy.clients.fdsn.mass_downloader - INFO: ============================== Final report\n"
     ]
    },
    {
     "name": "stderr",
     "output_type": "stream",
     "text": [
      "[2024-02-28 22:18:59,945] - obspy.clients.fdsn.mass_downloader - INFO: ============================== Final report\n"
     ]
    },
    {
     "name": "stderr",
     "output_type": "stream",
     "text": [
      "[2024-02-28 22:18:59,945] - obspy.clients.fdsn.mass_downloader - INFO: ============================== Final report\n"
     ]
    },
    {
     "name": "stderr",
     "output_type": "stream",
     "text": [
      "[2024-02-28 22:18:59,945] - obspy.clients.fdsn.mass_downloader - INFO: ============================== Final report\n"
     ]
    },
    {
     "name": "stderr",
     "output_type": "stream",
     "text": [
      "[2024-02-28 22:18:59,958] - obspy.clients.fdsn.mass_downloader - INFO: 48 MiniSEED files [0.3 MB] already existed.\n"
     ]
    },
    {
     "name": "stderr",
     "output_type": "stream",
     "text": [
      "[2024-02-28 22:18:59,958] - obspy.clients.fdsn.mass_downloader - INFO: 48 MiniSEED files [0.3 MB] already existed.\n"
     ]
    },
    {
     "name": "stderr",
     "output_type": "stream",
     "text": [
      "[2024-02-28 22:18:59,958] - obspy.clients.fdsn.mass_downloader - INFO: 48 MiniSEED files [0.3 MB] already existed.\n"
     ]
    },
    {
     "name": "stderr",
     "output_type": "stream",
     "text": [
      "[2024-02-28 22:18:59,958] - obspy.clients.fdsn.mass_downloader - INFO: 48 MiniSEED files [0.3 MB] already existed.\n"
     ]
    },
    {
     "name": "stderr",
     "output_type": "stream",
     "text": [
      "[2024-02-28 22:18:59,958] - obspy.clients.fdsn.mass_downloader - INFO: 48 MiniSEED files [0.3 MB] already existed.\n"
     ]
    },
    {
     "name": "stderr",
     "output_type": "stream",
     "text": [
      "[2024-02-28 22:18:59,958] - obspy.clients.fdsn.mass_downloader - INFO: 48 MiniSEED files [0.3 MB] already existed.\n"
     ]
    },
    {
     "name": "stderr",
     "output_type": "stream",
     "text": [
      "[2024-02-28 22:18:59,958] - obspy.clients.fdsn.mass_downloader - INFO: 48 MiniSEED files [0.3 MB] already existed.\n"
     ]
    },
    {
     "name": "stderr",
     "output_type": "stream",
     "text": [
      "[2024-02-28 22:18:59,958] - obspy.clients.fdsn.mass_downloader - INFO: 48 MiniSEED files [0.3 MB] already existed.\n"
     ]
    },
    {
     "name": "stderr",
     "output_type": "stream",
     "text": [
      "[2024-02-28 22:18:59,958] - obspy.clients.fdsn.mass_downloader - INFO: 48 MiniSEED files [0.3 MB] already existed.\n"
     ]
    },
    {
     "name": "stderr",
     "output_type": "stream",
     "text": [
      "[2024-02-28 22:18:59,958] - obspy.clients.fdsn.mass_downloader - INFO: 48 MiniSEED files [0.3 MB] already existed.\n"
     ]
    },
    {
     "name": "stderr",
     "output_type": "stream",
     "text": [
      "[2024-02-28 22:18:59,958] - obspy.clients.fdsn.mass_downloader - INFO: 48 MiniSEED files [0.3 MB] already existed.\n"
     ]
    },
    {
     "name": "stderr",
     "output_type": "stream",
     "text": [
      "[2024-02-28 22:18:59,958] - obspy.clients.fdsn.mass_downloader - INFO: 48 MiniSEED files [0.3 MB] already existed.\n"
     ]
    },
    {
     "name": "stderr",
     "output_type": "stream",
     "text": [
      "[2024-02-28 22:18:59,958] - obspy.clients.fdsn.mass_downloader - INFO: 48 MiniSEED files [0.3 MB] already existed.\n"
     ]
    },
    {
     "name": "stderr",
     "output_type": "stream",
     "text": [
      "[2024-02-28 22:18:59,958] - obspy.clients.fdsn.mass_downloader - INFO: 48 MiniSEED files [0.3 MB] already existed.\n"
     ]
    },
    {
     "name": "stderr",
     "output_type": "stream",
     "text": [
      "[2024-02-28 22:18:59,958] - obspy.clients.fdsn.mass_downloader - INFO: 48 MiniSEED files [0.3 MB] already existed.\n"
     ]
    },
    {
     "name": "stderr",
     "output_type": "stream",
     "text": [
      "[2024-02-28 22:18:59,958] - obspy.clients.fdsn.mass_downloader - INFO: 48 MiniSEED files [0.3 MB] already existed.\n"
     ]
    },
    {
     "name": "stderr",
     "output_type": "stream",
     "text": [
      "[2024-02-28 22:18:59,968] - obspy.clients.fdsn.mass_downloader - INFO: 16 StationXML files [0.4 MB] already existed.\n"
     ]
    },
    {
     "name": "stderr",
     "output_type": "stream",
     "text": [
      "[2024-02-28 22:18:59,968] - obspy.clients.fdsn.mass_downloader - INFO: 16 StationXML files [0.4 MB] already existed.\n"
     ]
    },
    {
     "name": "stderr",
     "output_type": "stream",
     "text": [
      "[2024-02-28 22:18:59,968] - obspy.clients.fdsn.mass_downloader - INFO: 16 StationXML files [0.4 MB] already existed.\n"
     ]
    },
    {
     "name": "stderr",
     "output_type": "stream",
     "text": [
      "[2024-02-28 22:18:59,968] - obspy.clients.fdsn.mass_downloader - INFO: 16 StationXML files [0.4 MB] already existed.\n"
     ]
    },
    {
     "name": "stderr",
     "output_type": "stream",
     "text": [
      "[2024-02-28 22:18:59,968] - obspy.clients.fdsn.mass_downloader - INFO: 16 StationXML files [0.4 MB] already existed.\n"
     ]
    },
    {
     "name": "stderr",
     "output_type": "stream",
     "text": [
      "[2024-02-28 22:18:59,968] - obspy.clients.fdsn.mass_downloader - INFO: 16 StationXML files [0.4 MB] already existed.\n"
     ]
    },
    {
     "name": "stderr",
     "output_type": "stream",
     "text": [
      "[2024-02-28 22:18:59,968] - obspy.clients.fdsn.mass_downloader - INFO: 16 StationXML files [0.4 MB] already existed.\n"
     ]
    },
    {
     "name": "stderr",
     "output_type": "stream",
     "text": [
      "[2024-02-28 22:18:59,968] - obspy.clients.fdsn.mass_downloader - INFO: 16 StationXML files [0.4 MB] already existed.\n"
     ]
    },
    {
     "name": "stderr",
     "output_type": "stream",
     "text": [
      "[2024-02-28 22:18:59,968] - obspy.clients.fdsn.mass_downloader - INFO: 16 StationXML files [0.4 MB] already existed.\n"
     ]
    },
    {
     "name": "stderr",
     "output_type": "stream",
     "text": [
      "[2024-02-28 22:18:59,968] - obspy.clients.fdsn.mass_downloader - INFO: 16 StationXML files [0.4 MB] already existed.\n"
     ]
    },
    {
     "name": "stderr",
     "output_type": "stream",
     "text": [
      "[2024-02-28 22:18:59,968] - obspy.clients.fdsn.mass_downloader - INFO: 16 StationXML files [0.4 MB] already existed.\n"
     ]
    },
    {
     "name": "stderr",
     "output_type": "stream",
     "text": [
      "[2024-02-28 22:18:59,968] - obspy.clients.fdsn.mass_downloader - INFO: 16 StationXML files [0.4 MB] already existed.\n"
     ]
    },
    {
     "name": "stderr",
     "output_type": "stream",
     "text": [
      "[2024-02-28 22:18:59,968] - obspy.clients.fdsn.mass_downloader - INFO: 16 StationXML files [0.4 MB] already existed.\n"
     ]
    },
    {
     "name": "stderr",
     "output_type": "stream",
     "text": [
      "[2024-02-28 22:18:59,968] - obspy.clients.fdsn.mass_downloader - INFO: 16 StationXML files [0.4 MB] already existed.\n"
     ]
    },
    {
     "name": "stderr",
     "output_type": "stream",
     "text": [
      "[2024-02-28 22:18:59,968] - obspy.clients.fdsn.mass_downloader - INFO: 16 StationXML files [0.4 MB] already existed.\n"
     ]
    },
    {
     "name": "stderr",
     "output_type": "stream",
     "text": [
      "[2024-02-28 22:18:59,968] - obspy.clients.fdsn.mass_downloader - INFO: 16 StationXML files [0.4 MB] already existed.\n"
     ]
    },
    {
     "name": "stderr",
     "output_type": "stream",
     "text": [
      "[2024-02-28 22:18:59,976] - obspy.clients.fdsn.mass_downloader - INFO: Client 'http://service.iris.edu' - Acquired 0 MiniSEED files [0.0 MB].\n"
     ]
    },
    {
     "name": "stderr",
     "output_type": "stream",
     "text": [
      "[2024-02-28 22:18:59,976] - obspy.clients.fdsn.mass_downloader - INFO: Client 'http://service.iris.edu' - Acquired 0 MiniSEED files [0.0 MB].\n"
     ]
    },
    {
     "name": "stderr",
     "output_type": "stream",
     "text": [
      "[2024-02-28 22:18:59,976] - obspy.clients.fdsn.mass_downloader - INFO: Client 'http://service.iris.edu' - Acquired 0 MiniSEED files [0.0 MB].\n"
     ]
    },
    {
     "name": "stderr",
     "output_type": "stream",
     "text": [
      "[2024-02-28 22:18:59,976] - obspy.clients.fdsn.mass_downloader - INFO: Client 'http://service.iris.edu' - Acquired 0 MiniSEED files [0.0 MB].\n"
     ]
    },
    {
     "name": "stderr",
     "output_type": "stream",
     "text": [
      "[2024-02-28 22:18:59,976] - obspy.clients.fdsn.mass_downloader - INFO: Client 'http://service.iris.edu' - Acquired 0 MiniSEED files [0.0 MB].\n"
     ]
    },
    {
     "name": "stderr",
     "output_type": "stream",
     "text": [
      "[2024-02-28 22:18:59,976] - obspy.clients.fdsn.mass_downloader - INFO: Client 'http://service.iris.edu' - Acquired 0 MiniSEED files [0.0 MB].\n"
     ]
    },
    {
     "name": "stderr",
     "output_type": "stream",
     "text": [
      "[2024-02-28 22:18:59,976] - obspy.clients.fdsn.mass_downloader - INFO: Client 'http://service.iris.edu' - Acquired 0 MiniSEED files [0.0 MB].\n"
     ]
    },
    {
     "name": "stderr",
     "output_type": "stream",
     "text": [
      "[2024-02-28 22:18:59,976] - obspy.clients.fdsn.mass_downloader - INFO: Client 'http://service.iris.edu' - Acquired 0 MiniSEED files [0.0 MB].\n"
     ]
    },
    {
     "name": "stderr",
     "output_type": "stream",
     "text": [
      "[2024-02-28 22:18:59,976] - obspy.clients.fdsn.mass_downloader - INFO: Client 'http://service.iris.edu' - Acquired 0 MiniSEED files [0.0 MB].\n"
     ]
    },
    {
     "name": "stderr",
     "output_type": "stream",
     "text": [
      "[2024-02-28 22:18:59,976] - obspy.clients.fdsn.mass_downloader - INFO: Client 'http://service.iris.edu' - Acquired 0 MiniSEED files [0.0 MB].\n"
     ]
    },
    {
     "name": "stderr",
     "output_type": "stream",
     "text": [
      "[2024-02-28 22:18:59,976] - obspy.clients.fdsn.mass_downloader - INFO: Client 'http://service.iris.edu' - Acquired 0 MiniSEED files [0.0 MB].\n"
     ]
    },
    {
     "name": "stderr",
     "output_type": "stream",
     "text": [
      "[2024-02-28 22:18:59,976] - obspy.clients.fdsn.mass_downloader - INFO: Client 'http://service.iris.edu' - Acquired 0 MiniSEED files [0.0 MB].\n"
     ]
    },
    {
     "name": "stderr",
     "output_type": "stream",
     "text": [
      "[2024-02-28 22:18:59,976] - obspy.clients.fdsn.mass_downloader - INFO: Client 'http://service.iris.edu' - Acquired 0 MiniSEED files [0.0 MB].\n"
     ]
    },
    {
     "name": "stderr",
     "output_type": "stream",
     "text": [
      "[2024-02-28 22:18:59,976] - obspy.clients.fdsn.mass_downloader - INFO: Client 'http://service.iris.edu' - Acquired 0 MiniSEED files [0.0 MB].\n"
     ]
    },
    {
     "name": "stderr",
     "output_type": "stream",
     "text": [
      "[2024-02-28 22:18:59,976] - obspy.clients.fdsn.mass_downloader - INFO: Client 'http://service.iris.edu' - Acquired 0 MiniSEED files [0.0 MB].\n"
     ]
    },
    {
     "name": "stderr",
     "output_type": "stream",
     "text": [
      "[2024-02-28 22:18:59,976] - obspy.clients.fdsn.mass_downloader - INFO: Client 'http://service.iris.edu' - Acquired 0 MiniSEED files [0.0 MB].\n"
     ]
    },
    {
     "name": "stderr",
     "output_type": "stream",
     "text": [
      "[2024-02-28 22:18:59,982] - obspy.clients.fdsn.mass_downloader - INFO: Client 'http://service.iris.edu' - Acquired 0 StationXML files [0.0 MB].\n"
     ]
    },
    {
     "name": "stderr",
     "output_type": "stream",
     "text": [
      "[2024-02-28 22:18:59,982] - obspy.clients.fdsn.mass_downloader - INFO: Client 'http://service.iris.edu' - Acquired 0 StationXML files [0.0 MB].\n"
     ]
    },
    {
     "name": "stderr",
     "output_type": "stream",
     "text": [
      "[2024-02-28 22:18:59,982] - obspy.clients.fdsn.mass_downloader - INFO: Client 'http://service.iris.edu' - Acquired 0 StationXML files [0.0 MB].\n"
     ]
    },
    {
     "name": "stderr",
     "output_type": "stream",
     "text": [
      "[2024-02-28 22:18:59,982] - obspy.clients.fdsn.mass_downloader - INFO: Client 'http://service.iris.edu' - Acquired 0 StationXML files [0.0 MB].\n"
     ]
    },
    {
     "name": "stderr",
     "output_type": "stream",
     "text": [
      "[2024-02-28 22:18:59,982] - obspy.clients.fdsn.mass_downloader - INFO: Client 'http://service.iris.edu' - Acquired 0 StationXML files [0.0 MB].\n"
     ]
    },
    {
     "name": "stderr",
     "output_type": "stream",
     "text": [
      "[2024-02-28 22:18:59,982] - obspy.clients.fdsn.mass_downloader - INFO: Client 'http://service.iris.edu' - Acquired 0 StationXML files [0.0 MB].\n"
     ]
    },
    {
     "name": "stderr",
     "output_type": "stream",
     "text": [
      "[2024-02-28 22:18:59,982] - obspy.clients.fdsn.mass_downloader - INFO: Client 'http://service.iris.edu' - Acquired 0 StationXML files [0.0 MB].\n"
     ]
    },
    {
     "name": "stderr",
     "output_type": "stream",
     "text": [
      "[2024-02-28 22:18:59,982] - obspy.clients.fdsn.mass_downloader - INFO: Client 'http://service.iris.edu' - Acquired 0 StationXML files [0.0 MB].\n"
     ]
    },
    {
     "name": "stderr",
     "output_type": "stream",
     "text": [
      "[2024-02-28 22:18:59,982] - obspy.clients.fdsn.mass_downloader - INFO: Client 'http://service.iris.edu' - Acquired 0 StationXML files [0.0 MB].\n"
     ]
    },
    {
     "name": "stderr",
     "output_type": "stream",
     "text": [
      "[2024-02-28 22:18:59,982] - obspy.clients.fdsn.mass_downloader - INFO: Client 'http://service.iris.edu' - Acquired 0 StationXML files [0.0 MB].\n"
     ]
    },
    {
     "name": "stderr",
     "output_type": "stream",
     "text": [
      "[2024-02-28 22:18:59,982] - obspy.clients.fdsn.mass_downloader - INFO: Client 'http://service.iris.edu' - Acquired 0 StationXML files [0.0 MB].\n"
     ]
    },
    {
     "name": "stderr",
     "output_type": "stream",
     "text": [
      "[2024-02-28 22:18:59,982] - obspy.clients.fdsn.mass_downloader - INFO: Client 'http://service.iris.edu' - Acquired 0 StationXML files [0.0 MB].\n"
     ]
    },
    {
     "name": "stderr",
     "output_type": "stream",
     "text": [
      "[2024-02-28 22:18:59,982] - obspy.clients.fdsn.mass_downloader - INFO: Client 'http://service.iris.edu' - Acquired 0 StationXML files [0.0 MB].\n"
     ]
    },
    {
     "name": "stderr",
     "output_type": "stream",
     "text": [
      "[2024-02-28 22:18:59,982] - obspy.clients.fdsn.mass_downloader - INFO: Client 'http://service.iris.edu' - Acquired 0 StationXML files [0.0 MB].\n"
     ]
    },
    {
     "name": "stderr",
     "output_type": "stream",
     "text": [
      "[2024-02-28 22:18:59,982] - obspy.clients.fdsn.mass_downloader - INFO: Client 'http://service.iris.edu' - Acquired 0 StationXML files [0.0 MB].\n"
     ]
    },
    {
     "name": "stderr",
     "output_type": "stream",
     "text": [
      "[2024-02-28 22:18:59,982] - obspy.clients.fdsn.mass_downloader - INFO: Client 'http://service.iris.edu' - Acquired 0 StationXML files [0.0 MB].\n"
     ]
    },
    {
     "name": "stderr",
     "output_type": "stream",
     "text": [
      "[2024-02-28 22:18:59,992] - obspy.clients.fdsn.mass_downloader - INFO: Downloaded 0.0 MB in total.\n"
     ]
    },
    {
     "name": "stderr",
     "output_type": "stream",
     "text": [
      "[2024-02-28 22:18:59,992] - obspy.clients.fdsn.mass_downloader - INFO: Downloaded 0.0 MB in total.\n"
     ]
    },
    {
     "name": "stderr",
     "output_type": "stream",
     "text": [
      "[2024-02-28 22:18:59,992] - obspy.clients.fdsn.mass_downloader - INFO: Downloaded 0.0 MB in total.\n"
     ]
    },
    {
     "name": "stderr",
     "output_type": "stream",
     "text": [
      "[2024-02-28 22:18:59,992] - obspy.clients.fdsn.mass_downloader - INFO: Downloaded 0.0 MB in total.\n"
     ]
    },
    {
     "name": "stderr",
     "output_type": "stream",
     "text": [
      "[2024-02-28 22:18:59,992] - obspy.clients.fdsn.mass_downloader - INFO: Downloaded 0.0 MB in total.\n"
     ]
    },
    {
     "name": "stderr",
     "output_type": "stream",
     "text": [
      "[2024-02-28 22:18:59,992] - obspy.clients.fdsn.mass_downloader - INFO: Downloaded 0.0 MB in total.\n"
     ]
    },
    {
     "name": "stderr",
     "output_type": "stream",
     "text": [
      "[2024-02-28 22:18:59,992] - obspy.clients.fdsn.mass_downloader - INFO: Downloaded 0.0 MB in total.\n"
     ]
    },
    {
     "name": "stderr",
     "output_type": "stream",
     "text": [
      "[2024-02-28 22:18:59,992] - obspy.clients.fdsn.mass_downloader - INFO: Downloaded 0.0 MB in total.\n"
     ]
    },
    {
     "name": "stderr",
     "output_type": "stream",
     "text": [
      "[2024-02-28 22:18:59,992] - obspy.clients.fdsn.mass_downloader - INFO: Downloaded 0.0 MB in total.\n"
     ]
    },
    {
     "name": "stderr",
     "output_type": "stream",
     "text": [
      "[2024-02-28 22:18:59,992] - obspy.clients.fdsn.mass_downloader - INFO: Downloaded 0.0 MB in total.\n"
     ]
    },
    {
     "name": "stderr",
     "output_type": "stream",
     "text": [
      "[2024-02-28 22:18:59,992] - obspy.clients.fdsn.mass_downloader - INFO: Downloaded 0.0 MB in total.\n"
     ]
    },
    {
     "name": "stderr",
     "output_type": "stream",
     "text": [
      "[2024-02-28 22:18:59,992] - obspy.clients.fdsn.mass_downloader - INFO: Downloaded 0.0 MB in total.\n"
     ]
    },
    {
     "name": "stderr",
     "output_type": "stream",
     "text": [
      "[2024-02-28 22:18:59,992] - obspy.clients.fdsn.mass_downloader - INFO: Downloaded 0.0 MB in total.\n"
     ]
    },
    {
     "name": "stderr",
     "output_type": "stream",
     "text": [
      "[2024-02-28 22:18:59,992] - obspy.clients.fdsn.mass_downloader - INFO: Downloaded 0.0 MB in total.\n"
     ]
    },
    {
     "name": "stderr",
     "output_type": "stream",
     "text": [
      "[2024-02-28 22:18:59,992] - obspy.clients.fdsn.mass_downloader - INFO: Downloaded 0.0 MB in total.\n"
     ]
    },
    {
     "name": "stderr",
     "output_type": "stream",
     "text": [
      "[2024-02-28 22:18:59,992] - obspy.clients.fdsn.mass_downloader - INFO: Downloaded 0.0 MB in total.\n"
     ]
    },
    {
     "name": "stdout",
     "output_type": "stream",
     "text": [
      "finished downloading station data for crandall_test\n",
      "downloading event data for crandall_test dataset ...\n"
     ]
    },
    {
     "name": "stdout",
     "output_type": "stream",
     "text": [
      "finished downloading event data for crandall_test\n"
     ]
    },
    {
     "name": "stderr",
     "output_type": "stream",
     "text": [
      "/home/runner/work/obsplus/obsplus/src/obsplus/utils/pd.py:120: FutureWarning: Setting an item of incompatible dtype is deprecated and will raise in a future error of pandas. Value '[1186390120010000000 1186452864080000000 1186458258470000000\n",
      " 1186470785760000000 1186452304490000000 1186397245600000000\n",
      " 1186522971130000000 1186364688810000000]' has dtype incompatible with datetime64[ns], please explicitly cast to a compatible dtype first.\n",
      "  df.loc[:, cols] = df.loc[:, cols].fillna(nat_value).astype(np.int64)\n",
      "/home/runner/work/obsplus/obsplus/src/obsplus/utils/pd.py:120: FutureWarning: Setting an item of incompatible dtype is deprecated and will raise in a future error of pandas. Value '[1709158740794070528 1709158740794070528 1709158740798070784\n",
      " 1709158740802070528 1709158740806070528 1709158740810070528\n",
      " 1709158740814070784 1709158740818070528]' has dtype incompatible with datetime64[ns], please explicitly cast to a compatible dtype first.\n",
      "  df.loc[:, cols] = df.loc[:, cols].fillna(nat_value).astype(np.int64)\n",
      "/home/runner/work/obsplus/obsplus/src/obsplus/utils/pd.py:120: FutureWarning: Setting an item of incompatible dtype is deprecated and will raise in a future error of pandas. Value '[ 1539203593618111000  1539205826864045000  1539205827576204000\n",
      " -9223372031854775808  1539206119190404000  1539203607110914000\n",
      "  1539295734236916000  1539203209642650000]' has dtype incompatible with datetime64[ns], please explicitly cast to a compatible dtype first.\n",
      "  df.loc[:, cols] = df.loc[:, cols].fillna(nat_value).astype(np.int64)\n"
     ]
    }
   ],
   "source": [
    "import obspy\n",
    "import obsplus\n",
    "ds = obsplus.load_dataset('crandall_test')"
   ]
  },
  {
   "cell_type": "markdown",
   "metadata": {},
   "source": [
    "The best way to access the data in a dataset is by using the desired client:"
   ]
  },
  {
   "cell_type": "code",
   "execution_count": 2,
   "metadata": {
    "execution": {
     "iopub.execute_input": "2024-02-28T22:19:01.552380Z",
     "iopub.status.busy": "2024-02-28T22:19:01.551990Z",
     "iopub.status.idle": "2024-02-28T22:19:02.257885Z",
     "shell.execute_reply": "2024-02-28T22:19:02.257303Z"
    }
   },
   "outputs": [],
   "source": [
    "wave_client = ds.waveform_client\n",
    "station_client = ds.station_client\n",
    "event_client = ds.event_client"
   ]
  },
  {
   "cell_type": "markdown",
   "metadata": {},
   "source": [
    "These clients behave the same as any `Client` in ObsPy:"
   ]
  },
  {
   "cell_type": "code",
   "execution_count": 3,
   "metadata": {
    "execution": {
     "iopub.execute_input": "2024-02-28T22:19:02.260726Z",
     "iopub.status.busy": "2024-02-28T22:19:02.260273Z",
     "iopub.status.idle": "2024-02-28T22:19:02.452490Z",
     "shell.execute_reply": "2024-02-28T22:19:02.451935Z"
    }
   },
   "outputs": [],
   "source": [
    "st = wave_client.get_waveforms()\n",
    "assert isinstance(st, obspy.Stream)\n",
    "inv = station_client.get_stations()\n",
    "assert isinstance(inv, obspy.Inventory)\n",
    "cat = event_client.get_events()\n",
    "assert isinstance(cat, obspy.Catalog)"
   ]
  },
  {
   "cell_type": "markdown",
   "metadata": {},
   "source": [
    "A 'Fetcher' can be used for \"dataset aware\" querying."
   ]
  },
  {
   "cell_type": "code",
   "execution_count": 4,
   "metadata": {
    "execution": {
     "iopub.execute_input": "2024-02-28T22:19:02.455192Z",
     "iopub.status.busy": "2024-02-28T22:19:02.454752Z",
     "iopub.status.idle": "2024-02-28T22:19:02.623877Z",
     "shell.execute_reply": "2024-02-28T22:19:02.623309Z"
    }
   },
   "outputs": [],
   "source": [
    "fetcher = ds.get_fetcher()"
   ]
  },
  {
   "cell_type": "markdown",
   "metadata": {},
   "source": [
    "Each dataset is a just a directory of files whose path is stored as the `data_path` attribute:"
   ]
  },
  {
   "cell_type": "code",
   "execution_count": 5,
   "metadata": {
    "execution": {
     "iopub.execute_input": "2024-02-28T22:19:02.626556Z",
     "iopub.status.busy": "2024-02-28T22:19:02.626267Z",
     "iopub.status.idle": "2024-02-28T22:19:02.631880Z",
     "shell.execute_reply": "2024-02-28T22:19:02.631371Z"
    }
   },
   "outputs": [
    {
     "data": {
      "text/plain": [
       "PosixPath('/home/runner/opsdata/crandall_test')"
      ]
     },
     "execution_count": 5,
     "metadata": {},
     "output_type": "execute_result"
    }
   ],
   "source": [
    "ds.data_path"
   ]
  },
  {
   "cell_type": "markdown",
   "metadata": {},
   "source": [
    "The *included* data files are found in the `source_path`:"
   ]
  },
  {
   "cell_type": "code",
   "execution_count": 6,
   "metadata": {
    "execution": {
     "iopub.execute_input": "2024-02-28T22:19:02.634028Z",
     "iopub.status.busy": "2024-02-28T22:19:02.633693Z",
     "iopub.status.idle": "2024-02-28T22:19:02.637346Z",
     "shell.execute_reply": "2024-02-28T22:19:02.636774Z"
    }
   },
   "outputs": [
    {
     "data": {
      "text/plain": [
       "PosixPath('/home/runner/work/obsplus/obsplus/src/obsplus/datasets/crandall_test')"
      ]
     },
     "execution_count": 6,
     "metadata": {},
     "output_type": "execute_result"
    }
   ],
   "source": [
    "ds.source_path"
   ]
  },
  {
   "cell_type": "markdown",
   "metadata": {},
   "source": [
    "Datasets can be copied with the `copy_dataset` function."
   ]
  },
  {
   "cell_type": "code",
   "execution_count": 7,
   "metadata": {
    "execution": {
     "iopub.execute_input": "2024-02-28T22:19:02.639447Z",
     "iopub.status.busy": "2024-02-28T22:19:02.639121Z",
     "iopub.status.idle": "2024-02-28T22:19:02.684569Z",
     "shell.execute_reply": "2024-02-28T22:19:02.683940Z"
    }
   },
   "outputs": [],
   "source": [
    "from pathlib import Path\n",
    "\n",
    "obsplus.copy_dataset('crandall_test', '.')\n",
    "path = Path('.') / 'crandall_test'\n",
    "assert path.exists() and path.is_dir()"
   ]
  },
  {
   "cell_type": "markdown",
   "metadata": {},
   "source": [
    "## Data path\n",
    "By default, all datasets are stored in the user's home directory in a directory called 'opsdata'. Each dataset is contained by a subdirectory with the same name as the dataset. The environmental variable `OPSDATA_PATH` can be used to change the default dataset location."
   ]
  },
  {
   "cell_type": "markdown",
   "metadata": {},
   "source": [
    "## Included Test Datasets\n",
    "\n",
    "1. TA_test:\n",
    "    A small dataset with two stations from the TA with channels that have very low sampling rates. \n",
    "\n",
    "2. Crandall_test:\n",
    "    Event waveforms for the [Crandall Canyon Mine collapse](https://en.wikipedia.org/wiki/Crandall_Canyon_Mine) and associated aftershocks. The dataset also includes a catalog of the events and a station inventory.\n",
    "    \n",
    "3. Bingham_test:\n",
    "    Event waveforms associated with the [Bingham Canyon Landslide](https://en.wikipedia.org/wiki/Bingham_Canyon_Mine#Landslides), one of the largest anthropogenic landslides ever recorded. The dataset also includes a catalog of the events and a station inventory. \n",
    "    \n",
    "Each of these data sets is accessed via `obsplus.load_dataset` function which takes the name of the dataset as the only argument and returns a `DataSet` instance. This will take a few minutes if the datasets have not yet been downloaded, otherwise it should be very quick."
   ]
  },
  {
   "cell_type": "code",
   "execution_count": 8,
   "metadata": {
    "execution": {
     "iopub.execute_input": "2024-02-28T22:19:02.686839Z",
     "iopub.status.busy": "2024-02-28T22:19:02.686494Z",
     "iopub.status.idle": "2024-02-28T22:19:02.697992Z",
     "shell.execute_reply": "2024-02-28T22:19:02.697575Z"
    }
   },
   "outputs": [],
   "source": [
    "# cleanup temporary directory\n",
    "import shutil\n",
    "from pathlib import Path\n",
    "\n",
    "path = Path('crandall_test')\n",
    "if path.exists():\n",
    "    shutil.rmtree(path)"
   ]
  }
 ],
 "metadata": {
  "kernelspec": {
   "display_name": "Python 3",
   "language": "python",
   "name": "python3"
  },
  "language_info": {
   "codemirror_mode": {
    "name": "ipython",
    "version": 3
   },
   "file_extension": ".py",
   "mimetype": "text/x-python",
   "name": "python",
   "nbconvert_exporter": "python",
   "pygments_lexer": "ipython3",
   "version": "3.10.13"
  }
 },
 "nbformat": 4,
 "nbformat_minor": 4
}

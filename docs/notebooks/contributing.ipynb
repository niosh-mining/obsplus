{
 "cells": [
  {
   "cell_type": "markdown",
   "metadata": {},
   "source": [
    "# Contributing\n",
    "\n",
    "Contributions to ObsPlus are welcomed and appreciated.\n",
    "\n",
    "Here are a few details you will need:\n",
    "\n",
    "1. We are planning to use this [git branching model](https://nvie.com/posts/a-successful-git-branching-model/) (or something similar) starting on version 0.1.0 when ObsPlus is expected to gain a bit more stability. Until then, we will just make feature commits and bug-fix commits directly to master and roll out releases as quickly as needed \n",
    "\n",
    "\n",
    "2. ObsPlus uses [Black](https://github.com/ambv/black) for code linting. If you install ObsPlus in developer mode it *should* install a pre-commit hook to run black.\n",
    "\n",
    "\n",
    "3. Use [numpy style docstrings](https://numpydoc.readthedocs.io/en/latest/format.html).\n",
    "\n",
    "\n",
    "4. ObsPlus makes extensive use of Python 3's [type hints](https://docs.python.org/3/library/typing.html). You are encouraged to annotate any public functions/methods with type hints. "
   ]
  }
 ],
 "metadata": {
  "kernelspec": {
   "display_name": "Python 3",
   "language": "python",
   "name": "python3"
  },
  "language_info": {
   "codemirror_mode": {
    "name": "ipython",
    "version": 3
   },
   "file_extension": ".py",
   "mimetype": "text/x-python",
   "name": "python",
   "nbconvert_exporter": "python",
   "pygments_lexer": "ipython3",
   "version": "3.7.3"
  }
 },
 "nbformat": 4,
 "nbformat_minor": 2
}

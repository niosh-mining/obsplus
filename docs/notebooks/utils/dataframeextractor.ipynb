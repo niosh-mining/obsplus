{
 "cells": [
  {
   "cell_type": "markdown",
   "metadata": {},
   "source": [
    "# DataFrameExtractor\n",
    "\n",
    "\n",
    "<div class=\"alert alert-warning\">\n",
    "\n",
    "**Warning**: This section is a bit technical and many users won't need this functionality. Also, it is a bit experimental and the API may change in future versions. Proceed with caution.\n",
    "\n",
    "</div>\n",
    "\n",
    "The callables [`picks_to_df`, `events_to_df`](../datastructures/events_to_pandas.ipynb), and [`inventory_to_df`](../datastructures/stations_to_pandas.ipynb) are instances of `DataFrameExtractor`, which provides an extensible and customizable way for creating callables that extract `DataFrames` from arbitrary objects.\n",
    "\n",
    "To demonstrate, let's create a new extractor to put arrival objects in the Crandall catalog into a dataframe. We can then join this table together with the picks table to do some (possibly) interesting things."
   ]
  },
  {
   "cell_type": "code",
   "execution_count": 1,
   "metadata": {},
   "outputs": [
    {
     "name": "stdout",
     "output_type": "stream",
     "text": [
      "8 Event(s) in Catalog:\n",
      "2007-08-07T03:44:18.470000Z | +39.462, -111.215 | 1.68 ml\n",
      "2007-08-07T02:05:04.490000Z | +39.465, -111.225 | 2.44 ml\n",
      "2007-08-07T02:14:24.080000Z | +39.463, -111.223 | 1.17 ml\n",
      "2007-08-07T21:42:51.130000Z | +39.463, -111.220 | 1.88 ml\n",
      "2007-08-07T07:13:05.760000Z | +39.461, -111.224 | 2.55 ml\n",
      "2007-08-06T08:48:40.010000Z | +39.464, -111.228 | 4.2 mb\n",
      "2007-08-06T10:47:25.600000Z | +39.462, -111.232 | 1.92 ml\n",
      "2007-08-06T01:44:48.810000Z | +39.462, -111.238 | 2.32 ml\n"
     ]
    }
   ],
   "source": [
    "import obspy\n",
    "\n",
    "import obsplus\n",
    "\n",
    "crandall = obsplus.load_dataset('crandall')\n",
    "cat =crandall.event_client.get_events()\n",
    "print(cat)"
   ]
  },
  {
   "cell_type": "markdown",
   "metadata": {},
   "source": [
    "We will start by initializing the extractor with a list of expected columns and data types. This is optional, but helps ensure the output dataframe has a consistent shape and data type. The [arrival documentation](https://docs.obspy.org/packages/autogen/obspy.core.event.origin.Arrival.html) may be useful to understand these. Rather than collecting all the data contained in the `Arrival` instances, we will only create a few columns of interest."
   ]
  },
  {
   "cell_type": "code",
   "execution_count": 2,
   "metadata": {},
   "outputs": [],
   "source": [
    "from collections import OrderedDict\n",
    "\n",
    "import obspy.core.event as ev\n",
    "\n",
    "# declare datatypes (order to double as required columns)\n",
    "dtypes = OrderedDict(\n",
    "    resource_id=str, \n",
    "    pick_id=str, \n",
    "    event_id=str,\n",
    "    origin_id= str, \n",
    "    phase=str, \n",
    "    time_correction=float, \n",
    "    distance=float, \n",
    "    time_residual=float,                \n",
    "    time_weight=float,\n",
    ")\n",
    "\n",
    "# init the DataFrameExtractor\n",
    "arrivals_to_df = obsplus.DataFrameExtractor(ev.Arrival, required_columns=list(dtypes), \n",
    "                                            dtypes=dtypes)"
   ]
  },
  {
   "cell_type": "markdown",
   "metadata": {},
   "source": [
    "Next we define some \"extractors\". These are callables that will take an `Arrival` instance and return the desired data. The extractors can return:\n",
    "\n",
    "1. A `dict` of values where each key corresponds to a column name and each value is the row value of that column for the current object.\n",
    "\n",
    "2. Anything else, which is interpreted as the row value, and the column name is obtained from the function name."
   ]
  },
  {
   "cell_type": "code",
   "execution_count": 3,
   "metadata": {},
   "outputs": [],
   "source": [
    "# an extractor which returns a dictionary\n",
    "@arrivals_to_df.extractor\n",
    "def _get_basic(arrival):\n",
    "    out = dict(\n",
    "        resource_id=str(arrival.resource_id),\n",
    "        pick_id=str(arrival.pick_id),\n",
    "        time_correction=arrival.time_correction,\n",
    "        distance=arrival.distance,\n",
    "        time_residual=arrival.time_residual,\n",
    "        time_weight=arrival.time_weight,\n",
    "    )\n",
    "    return out\n",
    "\n",
    "\n",
    "# an extractor which returns a single value\n",
    "@arrivals_to_df.extractor\n",
    "def _get_phase(arrival):\n",
    "    return arrival.phase"
   ]
  },
  {
   "cell_type": "markdown",
   "metadata": {},
   "source": [
    "Notice, however, that we have no way of extracting information from the parent `Origin` or `Event` objects. Also, the extractor doesn't yet know how to find the arrivals in a `Catalog` object. To accomplish both these tasks, we can define the types of data the extractor can operate on, and inject the event and origin data into arrival rows:"
   ]
  },
  {
   "cell_type": "code",
   "execution_count": 4,
   "metadata": {},
   "outputs": [],
   "source": [
    "@arrivals_to_df.register(obspy.Catalog)\n",
    "def _get_arrivals_from_catalogs(cat):\n",
    "    arrivals = []  # a list of arrivals\n",
    "    extras = {}  # dict of data to inject to arrival level\n",
    "    for event in cat:\n",
    "        for origin in event.origins:\n",
    "            arrivals.extend(origin.arrivals)\n",
    "            data = dict(event_id=event.resource_id, origin_id=origin.resource_id)\n",
    "            # use arrival id to inject extra to each arrival row\n",
    "            extras.update({id(x): data for x in origin.arrivals})\n",
    "    return arrivals_to_df(arrivals, extras=extras)"
   ]
  },
  {
   "cell_type": "markdown",
   "metadata": {},
   "source": [
    "Great, now let's try out the extractor!"
   ]
  },
  {
   "cell_type": "code",
   "execution_count": 5,
   "metadata": {},
   "outputs": [
    {
     "data": {
      "text/html": [
       "<div>\n",
       "<style scoped>\n",
       "    .dataframe tbody tr th:only-of-type {\n",
       "        vertical-align: middle;\n",
       "    }\n",
       "\n",
       "    .dataframe tbody tr th {\n",
       "        vertical-align: top;\n",
       "    }\n",
       "\n",
       "    .dataframe thead th {\n",
       "        text-align: right;\n",
       "    }\n",
       "</style>\n",
       "<table border=\"1\" class=\"dataframe\">\n",
       "  <thead>\n",
       "    <tr style=\"text-align: right;\">\n",
       "      <th></th>\n",
       "      <th>resource_id</th>\n",
       "      <th>pick_id</th>\n",
       "      <th>event_id</th>\n",
       "      <th>origin_id</th>\n",
       "      <th>phase</th>\n",
       "      <th>time_correction</th>\n",
       "      <th>distance</th>\n",
       "      <th>time_residual</th>\n",
       "      <th>time_weight</th>\n",
       "    </tr>\n",
       "  </thead>\n",
       "  <tbody>\n",
       "    <tr>\n",
       "      <th>0</th>\n",
       "      <td>smi:local/d8d04c01-9d76-4191-8979-b82118b19c5f</td>\n",
       "      <td>smi:local/21693906</td>\n",
       "      <td>smi:local/248887</td>\n",
       "      <td>smi:local/404391</td>\n",
       "      <td>P</td>\n",
       "      <td>NaN</td>\n",
       "      <td>0.388</td>\n",
       "      <td>0.416</td>\n",
       "      <td>-1.0</td>\n",
       "    </tr>\n",
       "    <tr>\n",
       "      <th>1</th>\n",
       "      <td>smi:local/e950b614-4de5-42d0-8a3c-a92f245cb988</td>\n",
       "      <td>smi:local/21693907</td>\n",
       "      <td>smi:local/248887</td>\n",
       "      <td>smi:local/404391</td>\n",
       "      <td>P</td>\n",
       "      <td>NaN</td>\n",
       "      <td>0.504</td>\n",
       "      <td>0.172</td>\n",
       "      <td>-1.0</td>\n",
       "    </tr>\n",
       "    <tr>\n",
       "      <th>2</th>\n",
       "      <td>smi:local/b64d23c4-9083-496c-af1c-b48846eb7092</td>\n",
       "      <td>smi:local/21693908</td>\n",
       "      <td>smi:local/248887</td>\n",
       "      <td>smi:local/404391</td>\n",
       "      <td>P</td>\n",
       "      <td>NaN</td>\n",
       "      <td>0.622</td>\n",
       "      <td>-0.232</td>\n",
       "      <td>-1.0</td>\n",
       "    </tr>\n",
       "    <tr>\n",
       "      <th>3</th>\n",
       "      <td>smi:local/8ebe1d13-5416-448f-bd23-c64a8ac5f296</td>\n",
       "      <td>smi:local/21693909</td>\n",
       "      <td>smi:local/248887</td>\n",
       "      <td>smi:local/404391</td>\n",
       "      <td>P</td>\n",
       "      <td>NaN</td>\n",
       "      <td>0.780</td>\n",
       "      <td>-0.546</td>\n",
       "      <td>-1.0</td>\n",
       "    </tr>\n",
       "    <tr>\n",
       "      <th>4</th>\n",
       "      <td>smi:local/e62bc808-f2d0-4e56-b4b7-6eb9be1d5684</td>\n",
       "      <td>smi:local/21693910</td>\n",
       "      <td>smi:local/248887</td>\n",
       "      <td>smi:local/404391</td>\n",
       "      <td>P</td>\n",
       "      <td>NaN</td>\n",
       "      <td>0.901</td>\n",
       "      <td>-0.333</td>\n",
       "      <td>-1.0</td>\n",
       "    </tr>\n",
       "  </tbody>\n",
       "</table>\n",
       "</div>"
      ],
      "text/plain": [
       "                                      resource_id             pick_id  \\\n",
       "0  smi:local/d8d04c01-9d76-4191-8979-b82118b19c5f  smi:local/21693906   \n",
       "1  smi:local/e950b614-4de5-42d0-8a3c-a92f245cb988  smi:local/21693907   \n",
       "2  smi:local/b64d23c4-9083-496c-af1c-b48846eb7092  smi:local/21693908   \n",
       "3  smi:local/8ebe1d13-5416-448f-bd23-c64a8ac5f296  smi:local/21693909   \n",
       "4  smi:local/e62bc808-f2d0-4e56-b4b7-6eb9be1d5684  smi:local/21693910   \n",
       "\n",
       "           event_id         origin_id phase  time_correction  distance  \\\n",
       "0  smi:local/248887  smi:local/404391     P              NaN     0.388   \n",
       "1  smi:local/248887  smi:local/404391     P              NaN     0.504   \n",
       "2  smi:local/248887  smi:local/404391     P              NaN     0.622   \n",
       "3  smi:local/248887  smi:local/404391     P              NaN     0.780   \n",
       "4  smi:local/248887  smi:local/404391     P              NaN     0.901   \n",
       "\n",
       "   time_residual  time_weight  \n",
       "0          0.416         -1.0  \n",
       "1          0.172         -1.0  \n",
       "2         -0.232         -1.0  \n",
       "3         -0.546         -1.0  \n",
       "4         -0.333         -1.0  "
      ]
     },
     "execution_count": 5,
     "metadata": {},
     "output_type": "execute_result"
    }
   ],
   "source": [
    "df = arrivals_to_df(cat)\n",
    "df.head()"
   ]
  },
  {
   "cell_type": "code",
   "execution_count": 6,
   "metadata": {},
   "outputs": [
    {
     "data": {
      "text/plain": [
       "pPn    238\n",
       "P      224\n",
       "Pb     129\n",
       "Sb      87\n",
       "Pg      79\n",
       "S       66\n",
       "Pn      53\n",
       "Sg      53\n",
       "Sn      22\n",
       "pPb      3\n",
       "Name: phase, dtype: int64"
      ]
     },
     "execution_count": 6,
     "metadata": {},
     "output_type": "execute_result"
    }
   ],
   "source": [
    "df.phase.value_counts()"
   ]
  },
  {
   "cell_type": "markdown",
   "metadata": {},
   "source": [
    "Looks good, however, what if we only wanted P phases? The easiest thing to do is simply filter the dataframe, but, for demonstration, let's modify our phase extractor so that any row that is not a P phase is skipped. This is done by raising a `SkipRow` exception which is an attribute of the `DataFrameExtractor`."
   ]
  },
  {
   "cell_type": "code",
   "execution_count": 7,
   "metadata": {},
   "outputs": [
    {
     "name": "stderr",
     "output_type": "stream",
     "text": [
      "/media/Data/Gits/obsplus/obsplus/structures/dfextractor.py:115: UserWarning: _get_phase is already a registered extractor, overwriting\n",
      "  warnings.warn(msg)\n"
     ]
    }
   ],
   "source": [
    "@arrivals_to_df.extractor\n",
    "def _get_phase(arrival):\n",
    "    phase = arrival.phase\n",
    "    if phase.upper() != 'P':\n",
    "        raise arrivals_to_df.SkipRow\n",
    "    return phase"
   ]
  },
  {
   "cell_type": "code",
   "execution_count": 8,
   "metadata": {},
   "outputs": [
    {
     "name": "stdout",
     "output_type": "stream",
     "text": [
      "P    224\n",
      "Name: phase, dtype: int64\n"
     ]
    }
   ],
   "source": [
    "df = arrivals_to_df(cat)\n",
    "print(df.phase.value_counts())"
   ]
  },
  {
   "cell_type": "markdown",
   "metadata": {},
   "source": [
    "Now we can get a picks dataframe and perform a left join on the phases:"
   ]
  },
  {
   "cell_type": "code",
   "execution_count": 9,
   "metadata": {},
   "outputs": [],
   "source": [
    "# get picks and filter out non-P phases\n",
    "picks = obsplus.picks_to_df(cat)\n",
    "picks = picks[picks.phase_hint.str.upper() == \"P\"]"
   ]
  },
  {
   "cell_type": "code",
   "execution_count": 10,
   "metadata": {},
   "outputs": [],
   "source": [
    "df_merged = df.merge(picks, how='left', right_on='resource_id', left_on='pick_id')"
   ]
  },
  {
   "cell_type": "code",
   "execution_count": 11,
   "metadata": {},
   "outputs": [
    {
     "data": {
      "text/html": [
       "<div>\n",
       "<style scoped>\n",
       "    .dataframe tbody tr th:only-of-type {\n",
       "        vertical-align: middle;\n",
       "    }\n",
       "\n",
       "    .dataframe tbody tr th {\n",
       "        vertical-align: top;\n",
       "    }\n",
       "\n",
       "    .dataframe thead th {\n",
       "        text-align: right;\n",
       "    }\n",
       "</style>\n",
       "<table border=\"1\" class=\"dataframe\">\n",
       "  <thead>\n",
       "    <tr style=\"text-align: right;\">\n",
       "      <th></th>\n",
       "      <th>resource_id_x</th>\n",
       "      <th>pick_id</th>\n",
       "      <th>event_id_x</th>\n",
       "      <th>origin_id</th>\n",
       "      <th>phase</th>\n",
       "      <th>time_correction</th>\n",
       "      <th>distance</th>\n",
       "      <th>time_residual</th>\n",
       "      <th>time_weight</th>\n",
       "      <th>resource_id_y</th>\n",
       "      <th>...</th>\n",
       "      <th>agency_id</th>\n",
       "      <th>event_id_y</th>\n",
       "      <th>network</th>\n",
       "      <th>station</th>\n",
       "      <th>location</th>\n",
       "      <th>channel</th>\n",
       "      <th>uncertainty</th>\n",
       "      <th>lower_uncertainty</th>\n",
       "      <th>upper_uncertainty</th>\n",
       "      <th>confidence_level</th>\n",
       "    </tr>\n",
       "  </thead>\n",
       "  <tbody>\n",
       "    <tr>\n",
       "      <th>0</th>\n",
       "      <td>smi:local/d8d04c01-9d76-4191-8979-b82118b19c5f</td>\n",
       "      <td>smi:local/21693906</td>\n",
       "      <td>smi:local/248887</td>\n",
       "      <td>smi:local/404391</td>\n",
       "      <td>P</td>\n",
       "      <td>NaN</td>\n",
       "      <td>0.388</td>\n",
       "      <td>0.416</td>\n",
       "      <td>-1.0</td>\n",
       "      <td>smi:local/21693906</td>\n",
       "      <td>...</td>\n",
       "      <td></td>\n",
       "      <td>smi:local/248887</td>\n",
       "      <td>TA</td>\n",
       "      <td>P16A</td>\n",
       "      <td></td>\n",
       "      <td>BHZ</td>\n",
       "      <td>NaN</td>\n",
       "      <td>NaN</td>\n",
       "      <td>NaN</td>\n",
       "      <td>NaN</td>\n",
       "    </tr>\n",
       "    <tr>\n",
       "      <th>1</th>\n",
       "      <td>smi:local/e950b614-4de5-42d0-8a3c-a92f245cb988</td>\n",
       "      <td>smi:local/21693907</td>\n",
       "      <td>smi:local/248887</td>\n",
       "      <td>smi:local/404391</td>\n",
       "      <td>P</td>\n",
       "      <td>NaN</td>\n",
       "      <td>0.504</td>\n",
       "      <td>0.172</td>\n",
       "      <td>-1.0</td>\n",
       "      <td>smi:local/21693907</td>\n",
       "      <td>...</td>\n",
       "      <td></td>\n",
       "      <td>smi:local/248887</td>\n",
       "      <td>TA</td>\n",
       "      <td>Q16A</td>\n",
       "      <td></td>\n",
       "      <td>BHZ</td>\n",
       "      <td>NaN</td>\n",
       "      <td>NaN</td>\n",
       "      <td>NaN</td>\n",
       "      <td>NaN</td>\n",
       "    </tr>\n",
       "    <tr>\n",
       "      <th>2</th>\n",
       "      <td>smi:local/b64d23c4-9083-496c-af1c-b48846eb7092</td>\n",
       "      <td>smi:local/21693908</td>\n",
       "      <td>smi:local/248887</td>\n",
       "      <td>smi:local/404391</td>\n",
       "      <td>P</td>\n",
       "      <td>NaN</td>\n",
       "      <td>0.622</td>\n",
       "      <td>-0.232</td>\n",
       "      <td>-1.0</td>\n",
       "      <td>smi:local/21693908</td>\n",
       "      <td>...</td>\n",
       "      <td></td>\n",
       "      <td>smi:local/248887</td>\n",
       "      <td>UU</td>\n",
       "      <td>SRU</td>\n",
       "      <td></td>\n",
       "      <td>BHZ</td>\n",
       "      <td>NaN</td>\n",
       "      <td>NaN</td>\n",
       "      <td>NaN</td>\n",
       "      <td>NaN</td>\n",
       "    </tr>\n",
       "    <tr>\n",
       "      <th>3</th>\n",
       "      <td>smi:local/8ebe1d13-5416-448f-bd23-c64a8ac5f296</td>\n",
       "      <td>smi:local/21693909</td>\n",
       "      <td>smi:local/248887</td>\n",
       "      <td>smi:local/404391</td>\n",
       "      <td>P</td>\n",
       "      <td>NaN</td>\n",
       "      <td>0.780</td>\n",
       "      <td>-0.546</td>\n",
       "      <td>-1.0</td>\n",
       "      <td>smi:local/21693909</td>\n",
       "      <td>...</td>\n",
       "      <td></td>\n",
       "      <td>smi:local/248887</td>\n",
       "      <td>TA</td>\n",
       "      <td>P18A</td>\n",
       "      <td></td>\n",
       "      <td>BHZ</td>\n",
       "      <td>NaN</td>\n",
       "      <td>NaN</td>\n",
       "      <td>NaN</td>\n",
       "      <td>NaN</td>\n",
       "    </tr>\n",
       "    <tr>\n",
       "      <th>4</th>\n",
       "      <td>smi:local/e62bc808-f2d0-4e56-b4b7-6eb9be1d5684</td>\n",
       "      <td>smi:local/21693910</td>\n",
       "      <td>smi:local/248887</td>\n",
       "      <td>smi:local/404391</td>\n",
       "      <td>P</td>\n",
       "      <td>NaN</td>\n",
       "      <td>0.901</td>\n",
       "      <td>-0.333</td>\n",
       "      <td>-1.0</td>\n",
       "      <td>smi:local/21693910</td>\n",
       "      <td>...</td>\n",
       "      <td></td>\n",
       "      <td>smi:local/248887</td>\n",
       "      <td>TA</td>\n",
       "      <td>Q18A</td>\n",
       "      <td></td>\n",
       "      <td>BHZ</td>\n",
       "      <td>NaN</td>\n",
       "      <td>NaN</td>\n",
       "      <td>NaN</td>\n",
       "      <td>NaN</td>\n",
       "    </tr>\n",
       "  </tbody>\n",
       "</table>\n",
       "<p>5 rows × 34 columns</p>\n",
       "</div>"
      ],
      "text/plain": [
       "                                    resource_id_x             pick_id  \\\n",
       "0  smi:local/d8d04c01-9d76-4191-8979-b82118b19c5f  smi:local/21693906   \n",
       "1  smi:local/e950b614-4de5-42d0-8a3c-a92f245cb988  smi:local/21693907   \n",
       "2  smi:local/b64d23c4-9083-496c-af1c-b48846eb7092  smi:local/21693908   \n",
       "3  smi:local/8ebe1d13-5416-448f-bd23-c64a8ac5f296  smi:local/21693909   \n",
       "4  smi:local/e62bc808-f2d0-4e56-b4b7-6eb9be1d5684  smi:local/21693910   \n",
       "\n",
       "         event_id_x         origin_id phase  time_correction  distance  \\\n",
       "0  smi:local/248887  smi:local/404391     P              NaN     0.388   \n",
       "1  smi:local/248887  smi:local/404391     P              NaN     0.504   \n",
       "2  smi:local/248887  smi:local/404391     P              NaN     0.622   \n",
       "3  smi:local/248887  smi:local/404391     P              NaN     0.780   \n",
       "4  smi:local/248887  smi:local/404391     P              NaN     0.901   \n",
       "\n",
       "   time_residual  time_weight       resource_id_y  ... agency_id  \\\n",
       "0          0.416         -1.0  smi:local/21693906  ...             \n",
       "1          0.172         -1.0  smi:local/21693907  ...             \n",
       "2         -0.232         -1.0  smi:local/21693908  ...             \n",
       "3         -0.546         -1.0  smi:local/21693909  ...             \n",
       "4         -0.333         -1.0  smi:local/21693910  ...             \n",
       "\n",
       "         event_id_y network station  location  channel uncertainty  \\\n",
       "0  smi:local/248887      TA    P16A                BHZ         NaN   \n",
       "1  smi:local/248887      TA    Q16A                BHZ         NaN   \n",
       "2  smi:local/248887      UU     SRU                BHZ         NaN   \n",
       "3  smi:local/248887      TA    P18A                BHZ         NaN   \n",
       "4  smi:local/248887      TA    Q18A                BHZ         NaN   \n",
       "\n",
       "  lower_uncertainty upper_uncertainty confidence_level  \n",
       "0               NaN               NaN              NaN  \n",
       "1               NaN               NaN              NaN  \n",
       "2               NaN               NaN              NaN  \n",
       "3               NaN               NaN              NaN  \n",
       "4               NaN               NaN              NaN  \n",
       "\n",
       "[5 rows x 34 columns]"
      ]
     },
     "execution_count": 11,
     "metadata": {},
     "output_type": "execute_result"
    }
   ],
   "source": [
    "df_merged.head()"
   ]
  },
  {
   "cell_type": "code",
   "execution_count": 12,
   "metadata": {},
   "outputs": [
    {
     "data": {
      "text/plain": [
       "Index(['resource_id_x', 'pick_id', 'event_id_x', 'origin_id', 'phase',\n",
       "       'time_correction', 'distance', 'time_residual', 'time_weight',\n",
       "       'resource_id_y', 'time', 'seed_id', 'filter_id', 'method_id',\n",
       "       'horizontal_slowness', 'backazimuth', 'onset', 'phase_hint', 'polarity',\n",
       "       'evaluation_mode', 'event_time', 'evaluation_status', 'creation_time',\n",
       "       'author', 'agency_id', 'event_id_y', 'network', 'station', 'location',\n",
       "       'channel', 'uncertainty', 'lower_uncertainty', 'upper_uncertainty',\n",
       "       'confidence_level'],\n",
       "      dtype='object')"
      ]
     },
     "execution_count": 12,
     "metadata": {},
     "output_type": "execute_result"
    }
   ],
   "source": [
    "df_merged.columns"
   ]
  },
  {
   "cell_type": "markdown",
   "metadata": {},
   "source": [
    "We can also calculate how often the `phase` attribute in the arrival is different from the `phase_hint` in the pick, which could indicate a quality issue."
   ]
  },
  {
   "cell_type": "code",
   "execution_count": 13,
   "metadata": {},
   "outputs": [
    {
     "data": {
      "text/plain": [
       "1.0"
      ]
     },
     "execution_count": 13,
     "metadata": {},
     "output_type": "execute_result"
    }
   ],
   "source": [
    "# calculate fraction of phase_hints that match phase\n",
    "(df_merged['phase'] == df_merged['phase_hint']).sum() / len(df_merged)"
   ]
  }
 ],
 "metadata": {
  "kernelspec": {
   "display_name": "Python 3",
   "language": "python",
   "name": "python3"
  },
  "language_info": {
   "codemirror_mode": {
    "name": "ipython",
    "version": 3
   },
   "file_extension": ".py",
   "mimetype": "text/x-python",
   "name": "python",
   "nbconvert_exporter": "python",
   "pygments_lexer": "ipython3",
   "version": "3.7.3"
  }
 },
 "nbformat": 4,
 "nbformat_minor": 2
}

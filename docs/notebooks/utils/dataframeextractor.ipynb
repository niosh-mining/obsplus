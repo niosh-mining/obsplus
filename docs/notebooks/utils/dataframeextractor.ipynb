{
 "cells": [
  {
   "cell_type": "markdown",
   "metadata": {},
   "source": [
    "# DataFrameExtractor\n",
    "\n",
    "\n",
    "<div class=\"alert alert-warning\">\n",
    "\n",
    "**Warning**: This section is a bit technical and many users won't need this functionality. Also, it is a bit experimental and the API may change in future versions. Proceed with caution.\n",
    "\n",
    "</div>\n",
    "\n",
    "The callables [`picks_to_df`, `events_to_df`](../datastructures/events_to_pandas.ipynb), and [`inventory_to_df`](../datastructures/stations_to_pandas.ipynb) are instances of `DataFrameExtractor`, which provides an extensible and customizable way for creating callables that extract `DataFrames` from arbitrary objects.\n",
    "\n",
    "To demonstrate, let's create a new extractor to put arrival objects in the Crandall catalog into a dataframe. We can then join this table together with the picks table to do some (possibly) interesting things."
   ]
  },
  {
   "cell_type": "code",
   "execution_count": null,
   "metadata": {},
   "outputs": [],
   "source": [
    "import obspy\n",
    "\n",
    "import obsplus\n",
    "\n",
    "crandall = obsplus.load_dataset('crandall_test')\n",
    "cat =crandall.event_client.get_events()\n",
    "print(cat)"
   ]
  },
  {
   "cell_type": "markdown",
   "metadata": {},
   "source": [
    "We will start by initializing the extractor with a list of expected columns and data types. This is optional, but helps ensure the output dataframe has a consistent shape and data type. The [arrival documentation](https://docs.obspy.org/packages/autogen/obspy.core.event.origin.Arrival.html) may be useful to understand these. Rather than collecting all the data contained in the `Arrival` instances, we will only create a few columns of interest."
   ]
  },
  {
   "cell_type": "code",
   "execution_count": null,
   "metadata": {},
   "outputs": [],
   "source": [
    "from collections import OrderedDict\n",
    "\n",
    "import obspy.core.event as ev\n",
    "\n",
    "# declare datatypes (order to double as required columns)\n",
    "dtypes = OrderedDict(\n",
    "    resource_id=str, \n",
    "    pick_id=str, \n",
    "    event_id=str,\n",
    "    origin_id= str, \n",
    "    phase=str, \n",
    "    time_correction=float, \n",
    "    distance=float, \n",
    "    time_residual=float,                \n",
    "    time_weight=float,\n",
    ")\n",
    "\n",
    "# init the DataFrameExtractor\n",
    "arrivals_to_df = obsplus.DataFrameExtractor(ev.Arrival, required_columns=list(dtypes), \n",
    "                                            dtypes=dtypes)"
   ]
  },
  {
   "cell_type": "markdown",
   "metadata": {},
   "source": [
    "Next we define some \"extractors\". These are callables that will take an `Arrival` instance and return the desired data. The extractors can return:\n",
    "\n",
    "1. A `dict` of values where each key corresponds to a column name and each value is the row value of that column for the current object.\n",
    "\n",
    "2. Anything else, which is interpreted as the row value, and the column name is obtained from the function name."
   ]
  },
  {
   "cell_type": "code",
   "execution_count": null,
   "metadata": {},
   "outputs": [],
   "source": [
    "# an extractor which returns a dictionary\n",
    "@arrivals_to_df.extractor\n",
    "def _get_basic(arrival):\n",
    "    out = dict(\n",
    "        resource_id=str(arrival.resource_id),\n",
    "        pick_id=str(arrival.pick_id),\n",
    "        time_correction=arrival.time_correction,\n",
    "        distance=arrival.distance,\n",
    "        time_residual=arrival.time_residual,\n",
    "        time_weight=arrival.time_weight,\n",
    "    )\n",
    "    return out\n",
    "\n",
    "\n",
    "# an extractor which returns a single value\n",
    "@arrivals_to_df.extractor\n",
    "def _get_phase(arrival):\n",
    "    return arrival.phase"
   ]
  },
  {
   "cell_type": "markdown",
   "metadata": {},
   "source": [
    "Notice, however, that we have no way of extracting information from the parent `Origin` or `Event` objects. Also, the extractor doesn't yet know how to find the arrivals in a `Catalog` object. To accomplish both these tasks, we can define the types of data the extractor can operate on, and inject the event and origin data into arrival rows:"
   ]
  },
  {
   "cell_type": "code",
   "execution_count": null,
   "metadata": {},
   "outputs": [],
   "source": [
    "@arrivals_to_df.register(obspy.Catalog)\n",
    "def _get_arrivals_from_catalogs(cat):\n",
    "    arrivals = []  # a list of arrivals\n",
    "    extras = {}  # dict of data to inject to arrival level\n",
    "    for event in cat:\n",
    "        for origin in event.origins:\n",
    "            arrivals.extend(origin.arrivals)\n",
    "            data = dict(event_id=event.resource_id, origin_id=origin.resource_id)\n",
    "            # use arrival id to inject extra to each arrival row\n",
    "            extras.update({id(x): data for x in origin.arrivals})\n",
    "    return arrivals_to_df(arrivals, extras=extras)"
   ]
  },
  {
   "cell_type": "markdown",
   "metadata": {},
   "source": [
    "Great, now let's try out the extractor!"
   ]
  },
  {
   "cell_type": "code",
   "execution_count": null,
   "metadata": {},
   "outputs": [],
   "source": [
    "df = arrivals_to_df(cat)\n",
    "df.head()"
   ]
  },
  {
   "cell_type": "code",
   "execution_count": null,
   "metadata": {},
   "outputs": [],
   "source": [
    "df.phase.value_counts()"
   ]
  },
  {
   "cell_type": "markdown",
   "metadata": {},
   "source": [
    "Looks good, however, what if we only wanted P phases? The easiest thing to do is simply filter the dataframe, but, for demonstration, let's modify our phase extractor so that any row that is not a P phase is skipped. This is done by raising a `SkipRow` exception which is an attribute of the `DataFrameExtractor`."
   ]
  },
  {
   "cell_type": "code",
   "execution_count": null,
   "metadata": {},
   "outputs": [],
   "source": [
    "@arrivals_to_df.extractor\n",
    "def _get_phase(arrival):\n",
    "    phase = arrival.phase\n",
    "    if phase.upper() != 'P':\n",
    "        raise arrivals_to_df.SkipRow\n",
    "    return phase"
   ]
  },
  {
   "cell_type": "code",
   "execution_count": null,
   "metadata": {},
   "outputs": [],
   "source": [
    "df = arrivals_to_df(cat)\n",
    "print(df.phase.value_counts())"
   ]
  },
  {
   "cell_type": "markdown",
   "metadata": {},
   "source": [
    "Now we can get a picks dataframe and perform a left join on the phases:"
   ]
  },
  {
   "cell_type": "code",
   "execution_count": null,
   "metadata": {},
   "outputs": [],
   "source": [
    "# get picks and filter out non-P phases\n",
    "picks = obsplus.picks_to_df(cat)\n",
    "picks = picks[picks.phase_hint.str.upper() == \"P\"]"
   ]
  },
  {
   "cell_type": "code",
   "execution_count": null,
   "metadata": {},
   "outputs": [],
   "source": [
    "df_merged = df.merge(picks, how='left', right_on='resource_id', left_on='pick_id')"
   ]
  },
  {
   "cell_type": "code",
   "execution_count": null,
   "metadata": {},
   "outputs": [],
   "source": [
    "df_merged.head()"
   ]
  },
  {
   "cell_type": "code",
   "execution_count": null,
   "metadata": {},
   "outputs": [],
   "source": [
    "df_merged.columns"
   ]
  },
  {
   "cell_type": "markdown",
   "metadata": {},
   "source": [
    "We can also calculate how often the `phase` attribute in the arrival is different from the `phase_hint` in the pick, which could indicate a quality issue."
   ]
  },
  {
   "cell_type": "code",
   "execution_count": null,
   "metadata": {},
   "outputs": [],
   "source": [
    "# calculate fraction of phase_hints that match phase\n",
    "(df_merged['phase'] == df_merged['phase_hint']).sum() / len(df_merged)"
   ]
  }
 ],
 "metadata": {
  "kernelspec": {
   "display_name": "Python 3",
   "language": "python",
   "name": "python3"
  },
  "language_info": {
   "codemirror_mode": {
    "name": "ipython",
    "version": 3
   },
   "file_extension": ".py",
   "mimetype": "text/x-python",
   "name": "python",
   "nbconvert_exporter": "python",
   "pygments_lexer": "ipython3",
   "version": "3.7.4"
  }
 },
 "nbformat": 4,
 "nbformat_minor": 4
}

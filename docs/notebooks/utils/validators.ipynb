{
 "cells": [
  {
   "cell_type": "markdown",
   "metadata": {},
   "source": [
    "# Validators\n",
    "\n",
    "Obsplus provides a way to declare and test data requirements. The implementation is specifically geared towards nested tree structures (like obspy's `Catalog` object), but can work for any type of object. \n",
    "\n",
    "<div class=\"alert alert-warning\">\n",
    "\n",
    "**Warning**: This is a fairly advanced feature of ObsPlus intended primarily for library authors and users with stringent data requirements. The built-in validators will meet most people's needs.  \n",
    "</div>\n",
    "\n",
    "<div class=\"alert alert-warning\">\n",
    "\n",
    "**Warning**: In the future we may move much of this functionality to obspy as described in [this proposal](https://github.com/obspy/obspy/issues/2154), but an appropriate deprecation cycle will be implemented. \n",
    "</div>\n"
   ]
  },
  {
   "cell_type": "markdown",
   "metadata": {},
   "source": [
    "## Built-in Validators\n",
    "Obsplus comes with a few built-in validators. See the [catalog validation](catalog_validation.ipynb) page for more details.\n",
    "\n",
    "## Custom Validators\n",
    "Here is an example which creates a custom validator for ensuring a group of events all have at least four picks and that the origins have latitude and longitude defined. We will use the namespace `\"_silly_test\"` to let obsplus know these validators should be grouped together.  \n"
   ]
  },
  {
   "cell_type": "code",
   "execution_count": 1,
   "metadata": {},
   "outputs": [
    {
     "name": "stderr",
     "output_type": "stream",
     "text": [
      "/home/derrick_chambers/anaconda3/lib/python3.7/site-packages/dask/config.py:168: YAMLLoadWarning: calling yaml.load() without Loader=... is deprecated, as the default Loader is unsafe. Please read https://msg.pyyaml.org/load for full details.\n",
      "  data = yaml.load(f.read()) or {}\n",
      "/home/derrick_chambers/anaconda3/lib/python3.7/site-packages/distributed/config.py:20: YAMLLoadWarning: calling yaml.load() without Loader=... is deprecated, as the default Loader is unsafe. Please read https://msg.pyyaml.org/load for full details.\n",
      "  defaults = yaml.load(f)\n"
     ]
    }
   ],
   "source": [
    "import obsplus\n",
    "import obspy\n",
    "import obspy.core.event as ev\n",
    "from obsplus.validate import validator, validate\n",
    "\n",
    "namespace = '_silly_test'"
   ]
  },
  {
   "cell_type": "code",
   "execution_count": 2,
   "metadata": {},
   "outputs": [],
   "source": [
    "# We simply have to decorate a callable with the `validator` decorator\n",
    "# and specify the class it is to act on and its namespace\n",
    "@validator(namespace, ev.Event)\n",
    "def ensure_events_have_four_picks(event):\n",
    "    picks = event.picks\n",
    "    assert len(picks) >= 4\n",
    "\n",
    "    \n",
    "@validator(namespace, ev.Origin)\n",
    "def ensure_preferred_origin_set(origin):\n",
    "    assert origin.latitude is not None\n",
    "    assert origin.longitude is not None\n",
    "    "
   ]
  },
  {
   "cell_type": "markdown",
   "metadata": {},
   "source": [
    "Now we create an event we know will violate both conditions and run the `validate` function. it should raise an `AssertionError`."
   ]
  },
  {
   "cell_type": "code",
   "execution_count": 3,
   "metadata": {},
   "outputs": [],
   "source": [
    "cat = obspy.read_events()\n",
    "for event in cat:\n",
    "    event.picks = []\n",
    "    for origin in event.origins:\n",
    "        origin.latitude = None\n",
    "        origin.longitude = None"
   ]
  },
  {
   "cell_type": "code",
   "execution_count": 4,
   "metadata": {},
   "outputs": [
    {
     "name": "stdout",
     "output_type": "stream",
     "text": [
      "catalog failed validations\n"
     ]
    }
   ],
   "source": [
    "try:\n",
    "    validate(cat, namespace)\n",
    "except AssertionError:\n",
    "    print('catalog failed validations')"
   ]
  },
  {
   "cell_type": "markdown",
   "metadata": {},
   "source": [
    "But we could also return a report of failures (in the form of a dataframe)"
   ]
  },
  {
   "cell_type": "code",
   "execution_count": 5,
   "metadata": {},
   "outputs": [],
   "source": [
    "report = validate(cat, namespace, report=True)"
   ]
  },
  {
   "cell_type": "code",
   "execution_count": 6,
   "metadata": {},
   "outputs": [
    {
     "data": {
      "text/html": [
       "<div>\n",
       "<style scoped>\n",
       "    .dataframe tbody tr th:only-of-type {\n",
       "        vertical-align: middle;\n",
       "    }\n",
       "\n",
       "    .dataframe tbody tr th {\n",
       "        vertical-align: top;\n",
       "    }\n",
       "\n",
       "    .dataframe thead th {\n",
       "        text-align: right;\n",
       "    }\n",
       "</style>\n",
       "<table border=\"1\" class=\"dataframe\">\n",
       "  <thead>\n",
       "    <tr style=\"text-align: right;\">\n",
       "      <th></th>\n",
       "      <th>message</th>\n",
       "      <th>object</th>\n",
       "      <th>passed</th>\n",
       "      <th>validator</th>\n",
       "    </tr>\n",
       "  </thead>\n",
       "  <tbody>\n",
       "    <tr>\n",
       "      <th>0</th>\n",
       "      <td>validator ensure_events_have_four_picks failed...</td>\n",
       "      <td>[resource_id, event_type, event_type_certainty...</td>\n",
       "      <td>False</td>\n",
       "      <td>ensure_events_have_four_picks</td>\n",
       "    </tr>\n",
       "    <tr>\n",
       "      <th>1</th>\n",
       "      <td>validator ensure_events_have_four_picks failed...</td>\n",
       "      <td>[resource_id, event_type, event_type_certainty...</td>\n",
       "      <td>False</td>\n",
       "      <td>ensure_events_have_four_picks</td>\n",
       "    </tr>\n",
       "    <tr>\n",
       "      <th>2</th>\n",
       "      <td>validator ensure_events_have_four_picks failed...</td>\n",
       "      <td>[resource_id, event_type, event_type_certainty...</td>\n",
       "      <td>False</td>\n",
       "      <td>ensure_events_have_four_picks</td>\n",
       "    </tr>\n",
       "    <tr>\n",
       "      <th>3</th>\n",
       "      <td>validator ensure_preferred_origin_set failed o...</td>\n",
       "      <td>[resource_id, time, time_errors, longitude, lo...</td>\n",
       "      <td>False</td>\n",
       "      <td>ensure_preferred_origin_set</td>\n",
       "    </tr>\n",
       "    <tr>\n",
       "      <th>4</th>\n",
       "      <td>validator ensure_preferred_origin_set failed o...</td>\n",
       "      <td>[resource_id, time, time_errors, longitude, lo...</td>\n",
       "      <td>False</td>\n",
       "      <td>ensure_preferred_origin_set</td>\n",
       "    </tr>\n",
       "    <tr>\n",
       "      <th>5</th>\n",
       "      <td>validator ensure_preferred_origin_set failed o...</td>\n",
       "      <td>[resource_id, time, time_errors, longitude, lo...</td>\n",
       "      <td>False</td>\n",
       "      <td>ensure_preferred_origin_set</td>\n",
       "    </tr>\n",
       "  </tbody>\n",
       "</table>\n",
       "</div>"
      ],
      "text/plain": [
       "                                             message  \\\n",
       "0  validator ensure_events_have_four_picks failed...   \n",
       "1  validator ensure_events_have_four_picks failed...   \n",
       "2  validator ensure_events_have_four_picks failed...   \n",
       "3  validator ensure_preferred_origin_set failed o...   \n",
       "4  validator ensure_preferred_origin_set failed o...   \n",
       "5  validator ensure_preferred_origin_set failed o...   \n",
       "\n",
       "                                              object  passed  \\\n",
       "0  [resource_id, event_type, event_type_certainty...   False   \n",
       "1  [resource_id, event_type, event_type_certainty...   False   \n",
       "2  [resource_id, event_type, event_type_certainty...   False   \n",
       "3  [resource_id, time, time_errors, longitude, lo...   False   \n",
       "4  [resource_id, time, time_errors, longitude, lo...   False   \n",
       "5  [resource_id, time, time_errors, longitude, lo...   False   \n",
       "\n",
       "                       validator  \n",
       "0  ensure_events_have_four_picks  \n",
       "1  ensure_events_have_four_picks  \n",
       "2  ensure_events_have_four_picks  \n",
       "3    ensure_preferred_origin_set  \n",
       "4    ensure_preferred_origin_set  \n",
       "5    ensure_preferred_origin_set  "
      ]
     },
     "execution_count": 6,
     "metadata": {},
     "output_type": "execute_result"
    }
   ],
   "source": [
    "report"
   ]
  },
  {
   "cell_type": "code",
   "execution_count": null,
   "metadata": {},
   "outputs": [],
   "source": []
  }
 ],
 "metadata": {
  "kernelspec": {
   "display_name": "Python 3",
   "language": "python",
   "name": "python3"
  },
  "language_info": {
   "codemirror_mode": {
    "name": "ipython",
    "version": 3
   },
   "file_extension": ".py",
   "mimetype": "text/x-python",
   "name": "python",
   "nbconvert_exporter": "python",
   "pygments_lexer": "ipython3",
   "version": "3.7.3"
  }
 },
 "nbformat": 4,
 "nbformat_minor": 2
}

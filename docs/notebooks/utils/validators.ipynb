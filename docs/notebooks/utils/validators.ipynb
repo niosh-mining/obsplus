{
 "cells": [
  {
   "cell_type": "markdown",
   "metadata": {},
   "source": [
    "# Validators\n",
    "\n",
    "ObsPlus provides a simple method for declaring and enforcing assumptions about data. You can think of it much like [pytest](https://docs.pytest.org/en/latest/) for data validation (i.e. it is enforced at runtime rather than in a test suite). The implementation is specifically geared towards nested tree structures (like obspy's `Catalog` object), but does work for any type of object. \n",
    "\n",
    "<div class=\"alert alert-warning\">\n",
    "\n",
    "**Warning**: This is a fairly advanced feature of ObsPlus intended primarily for library authors and users with stringent data requirements. The built-in validators will meet most people's needs.  \n",
    "</div>\n",
    "\n",
    "<div class=\"alert alert-warning\">\n",
    "\n",
    "**Warning**: In the future we may move much of this functionality to ObsPy as described in [this proposal](https://github.com/obspy/obspy/issues/2154), but an appropriate deprecation cycle will be implemented.\n",
    "</div>\n"
   ]
  },
  {
   "cell_type": "markdown",
   "metadata": {},
   "source": [
    "## Built-in Validators\n",
    "Obsplus comes with a few built-in validators. See the [catalog validation](catalog_validation.ipynb) page for more details.\n",
    "\n",
    "## Custom Validators\n",
    "Here is an example which creates a custom validator for ensuring a group of events all have at least four picks and that the origins have latitude and longitude defined. We will use the namespace `\"_silly_test\"` to let obsplus know these validators should be grouped together.  \n"
   ]
  },
  {
   "cell_type": "code",
   "execution_count": null,
   "metadata": {},
   "outputs": [],
   "source": [
    "import obsplus\n",
    "import obspy\n",
    "import obspy.core.event as ev\n",
    "from obsplus.validate import validator, validate\n",
    "\n",
    "namespace = '_silly_test'"
   ]
  },
  {
   "cell_type": "code",
   "execution_count": null,
   "metadata": {},
   "outputs": [],
   "source": [
    "# We simply have to decorate a callable with the `validator` decorator\n",
    "# and specify the class it is to act on and its namespace\n",
    "@validator(namespace, ev.Event)\n",
    "def ensure_events_have_four_picks(event):\n",
    "    picks = event.picks\n",
    "    assert len(picks) >= 4\n",
    "\n",
    "    \n",
    "@validator(namespace, ev.Origin)\n",
    "def ensure_origin_have_lat_lon(origin):\n",
    "    assert origin.latitude is not None\n",
    "    assert origin.longitude is not None\n",
    "    "
   ]
  },
  {
   "cell_type": "markdown",
   "metadata": {},
   "source": [
    "Now we create an event we know will violate both conditions and run the `validate` function. it should raise an `AssertionError`."
   ]
  },
  {
   "cell_type": "code",
   "execution_count": null,
   "metadata": {},
   "outputs": [],
   "source": [
    "cat = obspy.read_events()\n",
    "\n",
    "cat[0].picks = []\n",
    "\n",
    "for origin in cat[0].origins:\n",
    "    origin.latitude = None\n",
    "    origin.longitude = None"
   ]
  },
  {
   "cell_type": "code",
   "execution_count": null,
   "metadata": {},
   "outputs": [],
   "source": [
    "try:\n",
    "    validate(cat, namespace)\n",
    "except AssertionError:\n",
    "    print('catalog failed validations')"
   ]
  },
  {
   "cell_type": "markdown",
   "metadata": {},
   "source": [
    "But we could also return a report of failures (in the form of a dataframe) if we don't want execution to stop, but rather what might be wrong with the data."
   ]
  },
  {
   "cell_type": "code",
   "execution_count": null,
   "metadata": {},
   "outputs": [],
   "source": [
    "report = validate(cat, namespace, report=True)\n",
    "report"
   ]
  },
  {
   "cell_type": "markdown",
   "metadata": {},
   "source": [
    "Notice how the `object` column is a reference to the python object which which the validator ran on. This makes is very quick to find (and fix) problematic data."
   ]
  },
  {
   "cell_type": "markdown",
   "metadata": {},
   "source": [
    "### Validators with optional arguments\n",
    "You can also create validators that take optional arguments (in the form of key word arguments). The `validate` function then knows how to distribute these values to the appropriate validators."
   ]
  },
  {
   "cell_type": "code",
   "execution_count": null,
   "metadata": {},
   "outputs": [],
   "source": [
    "@validator(namespace, ev.Origin)\n",
    "def ensure_lat_greater_than(origin, min_lat=None):\n",
    "    if min_lat is not None:\n",
    "        print(f\"min latitude is {min_lat}\")\n",
    "        assert origin.latitude is None or origin.latitude > min_lat"
   ]
  },
  {
   "cell_type": "code",
   "execution_count": null,
   "metadata": {},
   "outputs": [],
   "source": [
    "_ = validate(cat, namespace, min_lat=39, report=True)"
   ]
  }
 ],
 "metadata": {
  "kernelspec": {
   "display_name": "Python 3",
   "language": "python",
   "name": "python3"
  },
  "language_info": {
   "codemirror_mode": {
    "name": "ipython",
    "version": 3
   },
   "file_extension": ".py",
   "mimetype": "text/x-python",
   "name": "python",
   "nbconvert_exporter": "python",
   "pygments_lexer": "ipython3",
   "version": "3.7.3"
  }
 },
 "nbformat": 4,
 "nbformat_minor": 2
}

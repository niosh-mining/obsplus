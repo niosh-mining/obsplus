{
 "cells": [
  {
   "cell_type": "markdown",
   "metadata": {},
   "source": [
    "# Miscellaneous Utilities\n",
    "The follow demonstrates some miscellaneous utilities included in ObsPlus.\n",
    "\n",
    "## Geodetics\n",
    "Often it is necessary to calculate geometric parameters (distance, azimuth, etc.) for pairs of entities in two different groups. For example, distance from each event in a catalog to each receiver in an inventory. ObsPlus provides a simple class for doing just that."
   ]
  },
  {
   "cell_type": "code",
   "execution_count": null,
   "metadata": {},
   "outputs": [],
   "source": [
    "# Load the catalog and inventory from the crandall dataset\n",
    "import obsplus\n",
    "from obsplus.utils.geodetics import SpatialCalculator\n",
    "\n",
    "\n",
    "crandall = obsplus.load_dataset('crandall_test')\n",
    "cat = crandall.event_client.get_events()\n",
    "inv = crandall.station_client.get_stations()"
   ]
  },
  {
   "cell_type": "code",
   "execution_count": null,
   "metadata": {},
   "outputs": [],
   "source": [
    "# init a SpatialCalculator instance (defaults to Earth's params)\n",
    "spatial_calc = SpatialCalculator()"
   ]
  },
  {
   "cell_type": "code",
   "execution_count": null,
   "metadata": {},
   "outputs": [],
   "source": [
    "# create distance dataframe\n",
    "df = spatial_calc(entity_1=cat, entity_2=inv)\n",
    "df.head()"
   ]
  },
  {
   "cell_type": "markdown",
   "metadata": {},
   "source": [
    "Since a multi-index is used it provides a fairly intuitive way to look up particular event-channel pairs using a tuple of (event_id, seed_id) in conjunction with the `.loc` DataFrame attribute like so:"
   ]
  },
  {
   "cell_type": "code",
   "execution_count": null,
   "metadata": {},
   "outputs": [],
   "source": [
    "event_id = str(cat[0].resource_id)\n",
    "seed_id = 'UU.MPU..HHZ'\n",
    "\n",
    "print(df.loc[(event_id, seed_id)])"
   ]
  },
  {
   "cell_type": "code",
   "execution_count": null,
   "metadata": {},
   "outputs": [],
   "source": [
    "# or just get a particular parameter\n",
    "print(df.loc[(event_id, seed_id), 'azimuth'])"
   ]
  },
  {
   "cell_type": "markdown",
   "metadata": {},
   "source": [
    "Of course the distances can be converted to km and we can describe the distributions:"
   ]
  },
  {
   "cell_type": "code",
   "execution_count": null,
   "metadata": {},
   "outputs": [],
   "source": [
    "# Convert add km columns and delete m columns\n",
    "m_columns = [x for x in df.columns if x.endswith('_m')]\n",
    "km_columns = [x.replace('_m', '_km') for x in m_columns]\n",
    "\n",
    "df_km = (\n",
    "    df.assign(**{x: df[y] / 1000. for x,y in zip(km_columns, m_columns)}).\n",
    "    drop(columns=m_columns)\n",
    ")\n",
    "\n",
    "# Calculate stats for source reseiver distances\n",
    "df_km.describe().round(decimals=2)"
   ]
  },
  {
   "cell_type": "markdown",
   "metadata": {},
   "source": [
    "## Time\n",
    "\n",
    "Working with dates/times can be frustrating, especially since (as of 2020) ObsPy, numpy, and pandas all use slightly different methods for working with time. ObsPlus provides some utilities to make things a little easier."
   ]
  },
  {
   "cell_type": "code",
   "execution_count": null,
   "metadata": {},
   "outputs": [],
   "source": [
    "from contextlib import suppress\n",
    "\n",
    "import numpy as np\n",
    "import obspy\n",
    "import obsplus\n",
    "from obsplus.utils import to_datetime64, to_timedelta64, to_utc"
   ]
  },
  {
   "cell_type": "markdown",
   "metadata": {},
   "source": [
    "Note that all ObsPlus datafames use numpy/pandas datatypes. "
   ]
  },
  {
   "cell_type": "code",
   "execution_count": null,
   "metadata": {},
   "outputs": [],
   "source": [
    "df = obsplus.events_to_df(obspy.read_events())"
   ]
  },
  {
   "cell_type": "code",
   "execution_count": null,
   "metadata": {},
   "outputs": [],
   "source": [
    "df['time']"
   ]
  },
  {
   "cell_type": "markdown",
   "metadata": {},
   "source": [
    "### Numpy and ObsPy time differences"
   ]
  },
  {
   "cell_type": "markdown",
   "metadata": {},
   "source": [
    "One difference between numpy's `datatime64` and ObsPy's `UTCDateTime` is how offsets are applied. For ObsPy, numbers are simply taken as seconds, but numpy requires explicitly using `timedeta64` instances."
   ]
  },
  {
   "cell_type": "code",
   "execution_count": null,
   "metadata": {},
   "outputs": [],
   "source": [
    "time_str = '2020-01-03T11:00:00'\n",
    "utc = obspy.UTCDateTime(time_str)\n",
    "dt64 = np.datetime64(time_str, units='ns')"
   ]
  },
  {
   "cell_type": "code",
   "execution_count": null,
   "metadata": {},
   "outputs": [],
   "source": [
    "# add 1/2 second to UTCDateTime\n",
    "utc2 = utc + 0.5\n",
    "print(utc2)"
   ]
  },
  {
   "cell_type": "code",
   "execution_count": null,
   "metadata": {},
   "outputs": [],
   "source": [
    "# however doing the same thing with datetime64 raises a TypeError\n",
    "try:\n",
    "    dt64 + 0.5\n",
    "except TypeError as e:\n",
    "    print(e)"
   ]
  },
  {
   "cell_type": "code",
   "execution_count": null,
   "metadata": {},
   "outputs": [],
   "source": [
    "# so you need to use a timedelta64\n",
    "dt64_2 = dt64 + np.timedelta64(500, 'ms')\n",
    "print(dt64_2)"
   ]
  },
  {
   "cell_type": "code",
   "execution_count": null,
   "metadata": {},
   "outputs": [],
   "source": [
    "# This is, of course, also the case with datetime64 columns\n",
    "df['time'] + np.timedelta64(500, 'ms')"
   ]
  },
  {
   "cell_type": "markdown",
   "metadata": {},
   "source": [
    "This can be a little bit inconvenient so ObsPlus provides some common converters between ObsPy and Pandas/Numpy time objects."
   ]
  },
  {
   "cell_type": "markdown",
   "metadata": {},
   "source": [
    "### Converting between ObsPy and Numpy time datatypes\n",
    "We can convert between ObsPy `UTCDateTime` and numpy `datetime64` objects when needed."
   ]
  },
  {
   "cell_type": "code",
   "execution_count": null,
   "metadata": {},
   "outputs": [],
   "source": [
    "# Convert a time column to an array of ObsPy UTCDateTime objects\n",
    "utc_array = to_utc(df['time'])\n",
    "print(utc_array)"
   ]
  },
  {
   "cell_type": "code",
   "execution_count": null,
   "metadata": {},
   "outputs": [],
   "source": [
    "# Convert back to datetime64\n",
    "dt64_array = to_datetime64(utc_array)\n",
    "print(dt64_array)"
   ]
  },
  {
   "cell_type": "markdown",
   "metadata": {},
   "source": [
    "<div class=\"alert alert-warning\">\n",
    "\n",
    "**Note**: `datetime64` arrays are much more efficient in terms of memory usage and computational efficiency than arrays of `UTCDateTime` *objects*.\n",
    "\n",
    "</div>"
   ]
  },
  {
   "cell_type": "markdown",
   "metadata": {},
   "source": [
    "If you prefer not to manually define `timedelta64` to perform offsets `to_timedelta64` simply converts a real number to an offset in seconds."
   ]
  },
  {
   "cell_type": "code",
   "execution_count": null,
   "metadata": {},
   "outputs": [],
   "source": [
    "to_timedelta64(3.255)"
   ]
  }
 ],
 "metadata": {
  "kernelspec": {
   "display_name": "Python 3",
   "language": "python",
   "name": "python3"
  },
  "language_info": {
   "codemirror_mode": {
    "name": "ipython",
    "version": 3
   },
   "file_extension": ".py",
   "mimetype": "text/x-python",
   "name": "python",
   "nbconvert_exporter": "python",
   "pygments_lexer": "ipython3",
   "version": "3.7.3"
  }
 },
 "nbformat": 4,
 "nbformat_minor": 4
}

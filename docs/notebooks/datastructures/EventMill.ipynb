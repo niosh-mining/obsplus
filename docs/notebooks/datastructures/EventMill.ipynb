{
 "cells": [
  {
   "cell_type": "markdown",
   "metadata": {},
   "source": [
    "# EventMill\n",
    "`EventMill` provides an alternative way of working with seismic events. It is intended to be more efficent than catalog object trees as well as integrate with dataframes for reading and writing.\n"
   ]
  },
  {
   "cell_type": "code",
   "execution_count": null,
   "metadata": {},
   "outputs": [],
   "source": [
    "# load events for testing\n",
    "import obsplus\n",
    "\n",
    "ds = obsplus.load_dataset('bingham_test')\n",
    "cat = ds.event_client.get_events()"
   ]
  },
  {
   "cell_type": "code",
   "execution_count": null,
   "metadata": {},
   "outputs": [],
   "source": [
    "# load mill\n",
    "mill = obsplus.EventMill(cat)"
   ]
  },
  {
   "cell_type": "code",
   "execution_count": null,
   "metadata": {},
   "outputs": [],
   "source": [
    "# convert back to catalog\n",
    "assert mill.to_catalog() == cat"
   ]
  },
  {
   "cell_type": "code",
   "execution_count": null,
   "metadata": {},
   "outputs": [],
   "source": [
    "# The mill is an `EventClient`\n",
    "events = mill.get_events(minmagnitude=1)\n",
    "# but it is also much more than that!"
   ]
  },
  {
   "cell_type": "code",
   "execution_count": null,
   "metadata": {},
   "outputs": [],
   "source": [
    "# get dataframe of contents\n",
    "event_df = mill.get_df('events')\n",
    "pick_df = mill.get_df('picks', inplace=True)"
   ]
  },
  {
   "cell_type": "code",
   "execution_count": null,
   "metadata": {},
   "outputs": [],
   "source": [
    "# modify the dataframe, push back into the mill\n",
    "pick_df['pick_time'] += np.timedelta64(10, 's')\n",
    "mill.put_df(pick_df, inplace=True)"
   ]
  },
  {
   "cell_type": "code",
   "execution_count": null,
   "metadata": {},
   "outputs": [],
   "source": [
    "# add a pick, assign to an event (based on ID), push back into mill\n",
    "new_pick = pick_df.iloc[0].copy()\n",
    "new_pick['event_id'] = 'a_new_event!'\n",
    "mill.put_df(new_pick)"
   ]
  }
 ],
 "metadata": {
  "kernelspec": {
   "display_name": "Python 3",
   "language": "python",
   "name": "python3"
  },
  "language_info": {
   "codemirror_mode": {
    "name": "ipython",
    "version": 3
   },
   "file_extension": ".py",
   "mimetype": "text/x-python",
   "name": "python",
   "nbconvert_exporter": "python",
   "pygments_lexer": "ipython3",
   "version": "3.8.5"
  }
 },
 "nbformat": 4,
 "nbformat_minor": 4
}

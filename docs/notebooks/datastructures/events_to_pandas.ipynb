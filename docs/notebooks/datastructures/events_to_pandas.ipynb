{
 "cells": [
  {
   "cell_type": "markdown",
   "metadata": {},
   "source": [
    "# Events to DataFrame\n",
    "ObsPlus provides a way to extract useful summary information from ObsPy objects in order to create dataframes. This transformation is lossy but very useful when the full complexity of the `Catalog` object isn't warranted. By default the `events_to_df` function collects information the authors of ObsPlus have found useful, but it is fully extensible/customizable using the functionality of the [DataFrameExtractor](../utils/dataframeextractor.ipynb)."
   ]
  },
  {
   "cell_type": "markdown",
   "metadata": {},
   "source": [
    "To demonstrate how the `Catalog` can be flattened into a table, let's again use the Crandall catalog."
   ]
  },
  {
   "cell_type": "code",
   "execution_count": null,
   "metadata": {},
   "outputs": [],
   "source": [
    "import obspy\n",
    "import numpy as np\n",
    "from matplotlib import pyplot as plt\n",
    "from obspy.clients.fdsn import Client\n",
    "\n",
    "import obsplus"
   ]
  },
  {
   "cell_type": "code",
   "execution_count": null,
   "metadata": {},
   "outputs": [],
   "source": [
    "crandall = obsplus.load_dataset('crandall_test')\n",
    "cat = crandall.event_client.get_events()\n",
    "ev_df = obsplus.events_to_df(cat)\n",
    "\n",
    "ev_df.head()"
   ]
  },
  {
   "cell_type": "markdown",
   "metadata": {},
   "source": [
    "`events_to_df` can also operate on other `event_client`s, like the `EventBank`."
   ]
  },
  {
   "cell_type": "code",
   "execution_count": null,
   "metadata": {},
   "outputs": [],
   "source": [
    "bank = crandall.event_client\n",
    "ev_df2 = obsplus.events_to_df(bank)\n",
    "ev_df2.head()"
   ]
  },
  {
   "cell_type": "markdown",
   "metadata": {},
   "source": [
    "Now we have access to all the wonderful Pandas magics. Here are a few contrived examples of things we may want to do:"
   ]
  },
  {
   "cell_type": "code",
   "execution_count": null,
   "metadata": {},
   "outputs": [],
   "source": [
    "# plot a histogram of magnitudes\n",
    "ev_df.magnitude.hist()\n",
    "plt.show()"
   ]
  },
  {
   "cell_type": "markdown",
   "metadata": {},
   "source": [
    "Since there aren't a lot of events let's look at the picks to make things slightly more interesting:"
   ]
  },
  {
   "cell_type": "code",
   "execution_count": null,
   "metadata": {},
   "outputs": [],
   "source": [
    "# get pick info into a dataframe\n",
    "picks = obsplus.picks_to_df(cat)"
   ]
  },
  {
   "cell_type": "code",
   "execution_count": null,
   "metadata": {},
   "outputs": [],
   "source": [
    "# count the types of phase picks made on all events\n",
    "picks.phase_hint.value_counts()"
   ]
  },
  {
   "cell_type": "code",
   "execution_count": null,
   "metadata": {},
   "outputs": [],
   "source": [
    "# calculate the max pick_time for each event\n",
    "picks.groupby('event_id')['time'].max()"
   ]
  },
  {
   "cell_type": "markdown",
   "metadata": {},
   "source": [
    "We could also calculate travel time stats grouped by stations on stations with at least 3 P picks.\n",
    "Since all the events are coming from roughly the same location (within a few km) we might look for stations that have high standard deviations or obvious outliers as on the the first steps in quality control."
   ]
  },
  {
   "cell_type": "code",
   "execution_count": null,
   "metadata": {},
   "outputs": [],
   "source": [
    "# get only P picks\n",
    "df = picks[picks.phase_hint.str.upper() == 'P']\n",
    "\n",
    "# add columns for travel time\n",
    "df['travel_time'] = df['time'] - df['event_time']\n",
    "\n",
    "# filter out stations that aren't used at least 3 times\n",
    "station_count = df['station'].value_counts()\n",
    "stations_with_three = station_count[station_count > 2]\n",
    "\n",
    "# only include picks that are used on at least 3 stations\n",
    "df = df[df.station.isin(stations_with_three.index)]\n",
    "\n",
    "# get stats of travel times\n",
    "df.groupby('station')['travel_time'].describe()"
   ]
  },
  {
   "cell_type": "markdown",
   "metadata": {},
   "source": [
    "In addition to `events_to_df` and `picks_to_df`, the following extractors are defined:\n",
    "\n",
    "- `arrivals_to_df` extracts arrival information from an Origin object (or from the preferred origin of each event in a catalog)\n",
    "- `amplitudes_to_df` extracts amplitude information\n",
    "- `station_magnitudes_to_df` extracts station magnitude information from a catalog, event, or magnitude\n",
    "- `magnitudes_to_df` extracts magnitude information"
   ]
  }
 ],
 "metadata": {
  "kernelspec": {
   "display_name": "Python 3",
   "language": "python",
   "name": "python3"
  },
  "language_info": {
   "codemirror_mode": {
    "name": "ipython",
    "version": 3
   },
   "file_extension": ".py",
   "mimetype": "text/x-python",
   "name": "python",
   "nbconvert_exporter": "python",
   "pygments_lexer": "ipython3",
   "version": "3.7.4"
  }
 },
 "nbformat": 4,
 "nbformat_minor": 4
}

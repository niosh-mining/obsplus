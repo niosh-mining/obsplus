{
 "cells": [
  {
   "cell_type": "markdown",
   "metadata": {},
   "source": [
    "# Stations to DataFrame\n",
    "\n",
    "Station data can also be converted to a dataframe using the predefined [DataFrameExtractor](../utils/dataframeextractor.ipynb). This creates an entry for each channel, so a inventory with channel information is needed. In the future we hope to make this a bit more general to handle inventories with only station level information."
   ]
  },
  {
   "cell_type": "code",
   "execution_count": null,
   "metadata": {},
   "outputs": [],
   "source": [
    "import obspy\n",
    "\n",
    "import obsplus\n",
    "\n",
    "inv = obspy.read_inventory()\n",
    "inv_df = obsplus.stations_to_df(inv)\n",
    "inv_df.head()"
   ]
  }
 ],
 "metadata": {
  "kernelspec": {
   "display_name": "Python 3",
   "language": "python",
   "name": "python3"
  },
  "language_info": {
   "codemirror_mode": {
    "name": "ipython",
    "version": 3
   },
   "file_extension": ".py",
   "mimetype": "text/x-python",
   "name": "python",
   "nbconvert_exporter": "python",
   "pygments_lexer": "ipython3",
   "version": "3.7.3"
  }
 },
 "nbformat": 4,
 "nbformat_minor": 2
}

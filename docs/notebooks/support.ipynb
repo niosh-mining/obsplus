{
 "cells": [
  {
   "cell_type": "markdown",
   "metadata": {},
   "source": [
    "# Support\n",
    "\n",
    "The [ObsPlus Github page](https://github.com/niosh-mining/obsplus) is the place where ObsPlus development, support and discussion takes place. If you encounter and issue, discover a bug, or want to ask a question please first search the [issues](https://github.com/niosh-mining/obsplus/issues) to see if your issue has already been addressed. If not, file a new issue by clicking on the green \"New Issue\" button and selecting the appropriate issue category. "
   ]
  }
 ],
 "metadata": {
  "kernelspec": {
   "display_name": "Python 3",
   "language": "python",
   "name": "python3"
  },
  "language_info": {
   "codemirror_mode": {
    "name": "ipython",
    "version": 3
   },
   "file_extension": ".py",
   "mimetype": "text/x-python",
   "name": "python",
   "nbconvert_exporter": "python",
   "pygments_lexer": "ipython3",
   "version": "3.8.5"
  }
 },
 "nbformat": 4,
 "nbformat_minor": 4
}

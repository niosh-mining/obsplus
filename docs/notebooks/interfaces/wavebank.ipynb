{
 "cells": [
  {
   "cell_type": "markdown",
   "metadata": {},
   "source": [
    "# WaveBank\n",
    "`WaveBank` is an in-process database for accessing seismic time-series data. Any directory structure containing obspy-readable waveforms can be used as the data source. `WaveBank` uses a simple indexing scheme and the [Hierarchical Data Format](https://en.wikipedia.org/wiki/Hierarchical_Data_Format) to keep track of each `Trace` in the directory.\n",
    "\n",
    "For example, after downloading seismic data with [obspy's fdsn mass download](https://docs.obspy.org/packages/autogen/obspy.clients.fdsn.mass_downloader.html), you need a way to access the data. You could manually read in each file but this can become very tedious and clutters up your application code with data access code. Enter WaveBank. "
   ]
  },
  {
   "cell_type": "markdown",
   "metadata": {},
   "source": [
    "## Create a WaveBank object\n",
    "We will use the [Crandall Canyon](https://en.wikipedia.org/wiki/Crandall_Canyon_Mine) dataset from [ObsPlus' datasets](../datasets/datasets.ipynb) to create a new `WaveBank` instance. This will ensure the waveforms have been downloaded (to the obsplus installation directory), copy the dataset to a temporary directory, and initialize a `WaveBank` instance."
   ]
  },
  {
   "cell_type": "code",
   "execution_count": null,
   "metadata": {},
   "outputs": [],
   "source": [
    "import obsplus\n",
    "\n",
    "# get the crandall dataset bank\n",
    "crandall = obsplus.copy_dataset('crandall_test')\n",
    "# a directory of waveforms now lives here:\n",
    "waveform_path = crandall.waveform_path\n",
    "print(waveform_path)"
   ]
  },
  {
   "cell_type": "markdown",
   "metadata": {},
   "source": [
    "Now we just need to feed the path of the waveform files to the WaveBank constructor."
   ]
  },
  {
   "cell_type": "code",
   "execution_count": null,
   "metadata": {},
   "outputs": [],
   "source": [
    "bank = obsplus.WaveBank(waveform_path)"
   ]
  },
  {
   "cell_type": "markdown",
   "metadata": {},
   "source": [
    "To ensure the index is up-to-date you can call the `udpate_index` method on the bank. This will iterate through all files that are timestamped later than the last time `update_index` was run.\n",
    "\n",
    "You only need to run `update_index` if the directory has not been indexed before or you have added new files to it. "
   ]
  },
  {
   "cell_type": "code",
   "execution_count": null,
   "metadata": {},
   "outputs": [],
   "source": [
    "bank.update_index()"
   ]
  },
  {
   "cell_type": "markdown",
   "metadata": {},
   "source": [
    "## Get waveforms\n",
    "\n",
    "Now we can get files from the directory with the `get_waveforms` method, which has the same signature as the obspy client get_waveform methods:"
   ]
  },
  {
   "cell_type": "code",
   "execution_count": null,
   "metadata": {},
   "outputs": [],
   "source": [
    "import obspy\n",
    "\n",
    "t1 = obspy.UTCDateTime('2007-08-06T01-44-48')\n",
    "t2 = t1 + 60\n",
    "st = bank.get_waveforms(starttime=t1, endtime=t2)\n",
    "print (st[:5])  # print first 5 traces"
   ]
  },
  {
   "cell_type": "markdown",
   "metadata": {},
   "source": [
    "We can, of course, filter on channels, locations, stations, networks, etc. using linux style search strings or regex. "
   ]
  },
  {
   "cell_type": "code",
   "execution_count": null,
   "metadata": {},
   "outputs": [],
   "source": [
    "st2 = bank.get_waveforms(network='UU', starttime=t1, endtime=t2)\n",
    "\n",
    "# ensure only UU traces were returned\n",
    "for tr in st2:\n",
    "    assert tr.stats.network == 'UU'\n",
    "\n",
    "print(st2[:5])  # print first 5 traces"
   ]
  },
  {
   "cell_type": "code",
   "execution_count": null,
   "metadata": {},
   "outputs": [],
   "source": [
    "st = bank.get_waveforms(starttime=t1, endtime=t2, station='O1??', channel='BH[NE]')\n",
    "\n",
    "# test returned traces\n",
    "for tr in st:\n",
    "    assert tr.stats.starttime >= t1 - .00001\n",
    "    assert tr.stats.endtime <= t2 + .00001\n",
    "    assert tr.stats.station.startswith('O1')\n",
    "    assert tr.stats.channel.startswith('BH')\n",
    "    assert tr.stats.channel[-1] in {'N', 'E'}\n",
    "\n",
    "print(st)"
   ]
  },
  {
   "cell_type": "markdown",
   "metadata": {},
   "source": [
    "WaveBank also shares the `get_waveforms_bulk` method with the FDSN client for efficiently retrieving a large number of streams. "
   ]
  },
  {
   "cell_type": "code",
   "execution_count": null,
   "metadata": {},
   "outputs": [],
   "source": [
    "args = [  # in practice this list may contain hundreds or thousands of requests\n",
    "    ('TA', 'O15A', '', 'BHZ', t1 - 5, t2 - 5,),\n",
    "    ('UU', 'SRU', '', 'HHZ', t1, t2,),\n",
    "]\n",
    "st = bank.get_waveforms_bulk(args)\n",
    "print(st )"
   ]
  },
  {
   "cell_type": "markdown",
   "metadata": {},
   "source": [
    "## Yield waveforms\n",
    "The Bank class also provides a generator for iterating large amounts of continuous waveforms. For example, if you wanted to run a power detector on the data it might make sense to process one hour at a time with a minute of overlap between the slices. We first need to create a bank on a dataset which has continuous data. For this we will use the TA dataset."
   ]
  },
  {
   "cell_type": "code",
   "execution_count": null,
   "metadata": {},
   "outputs": [],
   "source": [
    "ds = obsplus.load_dataset('TA_test')\n",
    "ta_bank = obsplus.WaveBank(ds.waveform_client)"
   ]
  },
  {
   "cell_type": "code",
   "execution_count": null,
   "metadata": {},
   "outputs": [],
   "source": [
    "# get a few hours of kemmerer data\n",
    "ta_t1 = obspy.UTCDateTime('2007-02-15')\n",
    "ta_t2 = obspy.UTCDateTime('2007-02-16')\n",
    "\n",
    "for st in ta_bank.yield_waveforms(starttime=ta_t1, endtime=ta_t2, duration=3600, overlap=60):\n",
    "    print (f'got {len(st)} streams from {st[0].stats.starttime} to {st[0].stats.endtime}')"
   ]
  },
  {
   "cell_type": "markdown",
   "metadata": {},
   "source": [
    "## Put waveforms\n",
    "You can also add files to the bank by passing a stream or trace to the `bank.put_waveforms` method. WaveBank, however, does not do any file merging so you might end up with overlaps in data if you are not careful."
   ]
  },
  {
   "cell_type": "code",
   "execution_count": null,
   "metadata": {},
   "outputs": [],
   "source": [
    "# show that no data for RJOB is in the bank\n",
    "st = bank.get_waveforms(station='RJOB')\n",
    "\n",
    "assert len(st) == 0\n",
    "\n",
    "print(st)"
   ]
  },
  {
   "cell_type": "code",
   "execution_count": null,
   "metadata": {},
   "outputs": [],
   "source": [
    "# add the default stream to the archive (which contains data for RJOB)\n",
    "bank.put_waveforms(obspy.read())\n",
    "st_out = bank.get_waveforms(station='RJOB')\n",
    "\n",
    "# test output\n",
    "assert len(st_out)\n",
    "for tr in st_out:\n",
    "    assert tr.stats.station == 'RJOB'\n",
    "\n",
    "\n",
    "print(st_out)"
   ]
  },
  {
   "cell_type": "markdown",
   "metadata": {},
   "source": [
    "## Availability\n",
    "You can also use WaveBank to get availability of data, either as a dataframe or as a list of tuples in the form of [(network, station, location, channel, min_starttime, max_endtime)], which is the same as output by the `availability` method of [Obspy's Earthworm client](https://docs.obspy.org/master/packages/obspy.clients.earthworm.html)."
   ]
  },
  {
   "cell_type": "code",
   "execution_count": null,
   "metadata": {},
   "outputs": [],
   "source": [
    "# get a dataframe of availability by seed ids and timestamps\n",
    "bank.get_availability_df(channel='BHE', station='[OR]*')"
   ]
  },
  {
   "cell_type": "code",
   "execution_count": null,
   "metadata": {},
   "outputs": [],
   "source": [
    "bank.availability(channel='BHE', station='[OR]*')"
   ]
  },
  {
   "cell_type": "markdown",
   "metadata": {},
   "source": [
    "## Get Gaps and uptime\n",
    "WaveBank can also return a dataframe of missing data with the `get_gaps_df` method, as well as return a dataframe of reliability statistics. These are useful, for example, if you are trying to assess the completeness of an archive of contiguous data."
   ]
  },
  {
   "cell_type": "code",
   "execution_count": null,
   "metadata": {},
   "outputs": [],
   "source": [
    "bank.get_gaps_df(channel='BHE', station='O*').head()"
   ]
  },
  {
   "cell_type": "code",
   "execution_count": null,
   "metadata": {},
   "outputs": [],
   "source": [
    "ta_bank.get_uptime_df()"
   ]
  },
  {
   "cell_type": "markdown",
   "metadata": {},
   "source": [
    "## Read index\n",
    "You can also read the index directly, although in most cases this shouldn't be needed."
   ]
  },
  {
   "cell_type": "code",
   "execution_count": null,
   "metadata": {},
   "outputs": [],
   "source": [
    "ta_bank.read_index().head()"
   ]
  },
  {
   "cell_type": "markdown",
   "metadata": {},
   "source": [
    "## Similar Projects\n",
    "`WaveBank` is a useful tool, but it may not be a good fit for every application. Check out the following items as well:\n",
    "\n",
    "Obspy has a way to visualize availability of waveform data in a directory using [obspy-scan](https://docs.obspy.org/tutorial/code_snippets/visualize_data_availability_of_local_waveform_archive.html). If you prefer a graphical option to working with `DataFrame`s this might be for you.\n",
    "\n",
    "Obspy also has [filesystem client](https://docs.obspy.org/master/packages/autogen/obspy.clients.filesystem.sds.Client.html#obspy.clients.filesystem.sds.Client) for working with SeisComP structured archives.\n",
    "\n",
    "[IRIS](https://www.iris.edu/hq/) released a mini-seed indexing program called [mseedindex](https://github.com/iris-edu/mseedindex) which will have an [ObsPy API](https://github.com/obspy/obspy/pull/2206). We personally have not yet used mseedindex but it certainly looks worth checking out."
   ]
  }
 ],
 "metadata": {
  "anaconda-cloud": {},
  "kernelspec": {
   "display_name": "Python 3",
   "language": "python",
   "name": "python3"
  },
  "language_info": {
   "codemirror_mode": {
    "name": "ipython",
    "version": 3
   },
   "file_extension": ".py",
   "mimetype": "text/x-python",
   "name": "python",
   "nbconvert_exporter": "python",
   "pygments_lexer": "ipython3",
   "version": "3.7.4"
  }
 },
 "nbformat": 4,
 "nbformat_minor": 4
}

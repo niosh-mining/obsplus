{
 "cells": [
  {
   "cell_type": "markdown",
   "metadata": {},
   "source": [
    "# Event Bank\n",
    "\n",
    "The EventBank class is used to interact with a local directory of event files. It's `get_events` method is compatible with the `get_events` method of the FDSN client in obspy. Additionally it has several useful features for managing events on disk.\n",
    "\n",
    "\n",
    "## Quickstart"
   ]
  },
  {
   "cell_type": "code",
   "execution_count": null,
   "metadata": {},
   "outputs": [],
   "source": [
    "import obspy\n",
    "import obsplus\n",
    "\n",
    "# Copy the Crandall dataset to a temporary directory\n",
    "crandall = obsplus.copy_dataset('crandall_test')\n",
    "\n",
    "# path to directory where events are stored\n",
    "event_path = crandall.event_path\n",
    "\n",
    "# Init the event bank\n",
    "bank = obsplus.EventBank(event_path)\n",
    "\n",
    "# ensure index is up-to-date\n",
    "bank.update_index() "
   ]
  },
  {
   "cell_type": "markdown",
   "metadata": {},
   "source": [
    "### Accessing the index \n",
    "The index can be accessed directly to get a summary of the events contained in the archive. Depending on the task, it can be more natural to work with the index dataframe than the obspy catalog objects directly."
   ]
  },
  {
   "cell_type": "code",
   "execution_count": null,
   "metadata": {},
   "outputs": [],
   "source": [
    "index = bank.read_index()\n",
    "index"
   ]
  },
  {
   "cell_type": "markdown",
   "metadata": {},
   "source": [
    "The index contains the following columns:"
   ]
  },
  {
   "cell_type": "code",
   "execution_count": null,
   "metadata": {},
   "outputs": [],
   "source": [
    "print(index.columns)"
   ]
  },
  {
   "cell_type": "markdown",
   "metadata": {},
   "source": [
    "### Get events\n",
    "The `EventBank` can, of course, be used to get obspy event objects based on query parameters."
   ]
  },
  {
   "cell_type": "code",
   "execution_count": null,
   "metadata": {},
   "outputs": [],
   "source": [
    "catalog = bank.get_events(minmagnitude=2)"
   ]
  },
  {
   "cell_type": "code",
   "execution_count": null,
   "metadata": {},
   "outputs": [],
   "source": [
    "print(catalog)"
   ]
  },
  {
   "cell_type": "markdown",
   "metadata": {},
   "source": [
    "## Put events\n",
    "Events can also be saved to disk using the `put_events` method. If an event with the same resource_id already exists in the bank it will be overwritten."
   ]
  },
  {
   "cell_type": "code",
   "execution_count": null,
   "metadata": {},
   "outputs": [],
   "source": [
    "print(f'The bank has {len(bank.read_index())} events before put_events call.')"
   ]
  },
  {
   "cell_type": "code",
   "execution_count": null,
   "metadata": {},
   "outputs": [],
   "source": [
    "bank.put_events(obspy.read_events())\n",
    "print(f'The bank has {len(bank.read_index())} events after the put_events call.')"
   ]
  },
  {
   "cell_type": "markdown",
   "metadata": {},
   "source": [
    "## Organizing event directories\n",
    "`EventBank` can also be used to (re)organize event directories. For example, currently the events are saved in the following structure by default: `{year/month/day/year-month-dayThour-minute-second-short_id.xml}` (where \"short_id\" means the last 5 characters of the event id). If we want to reorganize it to be `{year/month/short_id.xml}` it could be done like so:"
   ]
  },
  {
   "cell_type": "code",
   "execution_count": null,
   "metadata": {},
   "outputs": [],
   "source": [
    "from pathlib import Path\n",
    "\n",
    "import tempfile\n",
    "\n",
    "temp_dir = Path(tempfile.mkdtemp())\n",
    "\n",
    "kwargs = dict(\n",
    "    path_structure=\"{year}/{month}\",\n",
    "    name_structure=\"{event_id_short}\",\n",
    ")"
   ]
  },
  {
   "cell_type": "code",
   "execution_count": null,
   "metadata": {},
   "outputs": [],
   "source": [
    "print(bank.get_events())"
   ]
  },
  {
   "cell_type": "code",
   "execution_count": null,
   "metadata": {},
   "outputs": [],
   "source": [
    "bank2 = obsplus.EventBank(temp_dir, **kwargs)\n",
    "bank2.put_events(bank)\n",
    "print(bank2.read_index()['path'])"
   ]
  },
  {
   "cell_type": "markdown",
   "metadata": {},
   "source": [
    "## Notes\n",
    "Unlike the [WaveBank](wavebank.pynb), which uses HDF5 to index waveforms, EventBank uses a [SQLite](https://www.sqlite.org/index.html) which is more suitable for frequent updates and [CRUD](https://en.wikipedia.org/wiki/Create,_read,_update_and_delete) usage patterns."
   ]
  }
 ],
 "metadata": {
  "kernelspec": {
   "display_name": "Python 3",
   "language": "python",
   "name": "python3"
  },
  "language_info": {
   "codemirror_mode": {
    "name": "ipython",
    "version": 3
   },
   "file_extension": ".py",
   "mimetype": "text/x-python",
   "name": "python",
   "nbconvert_exporter": "python",
   "pygments_lexer": "ipython3",
   "version": "3.7.3"
  }
 },
 "nbformat": 4,
 "nbformat_minor": 4
}

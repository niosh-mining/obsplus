{
 "cells": [
  {
   "cell_type": "markdown",
   "metadata": {},
   "source": [
    "# Event Bank\n",
    "\n",
    "The EventBank class is used to interact with a local directory of event files. It's `get_events` method is compatible with the `get_events` method of the FDSN client in obspy. Additionally it has several useful features for managing events on disk.\n",
    "\n",
    "\n",
    "## Quickstart"
   ]
  },
  {
   "cell_type": "code",
   "execution_count": 1,
   "metadata": {},
   "outputs": [
    {
     "name": "stderr",
     "output_type": "stream",
     "text": [
      "/home/derrick/Gits/obspy/obspy/core/util/base.py:386: UserWarning: 'Proj.proj_version' is deprecated. Please use `pyproj.proj_version_str` instead.\n",
      "  if hasattr(_proj, 'proj_version'):\n",
      "/home/derrick/Gits/obspy/obspy/core/util/base.py:387: UserWarning: 'Proj.proj_version' is deprecated. Please use `pyproj.proj_version_str` instead.\n",
      "  version_string = str(getattr(_proj, 'proj_version'))\n"
     ]
    },
    {
     "data": {
      "text/plain": [
       "EventBank(base_path=/tmp/tmpmsmkgawc/crandall_test/events)"
      ]
     },
     "execution_count": 1,
     "metadata": {},
     "output_type": "execute_result"
    }
   ],
   "source": [
    "import obspy\n",
    "import obsplus\n",
    "\n",
    "# Copy the Crandall dataset to a temporary directory\n",
    "crandall = obsplus.copy_dataset('crandall_test')\n",
    "\n",
    "# path to directory where events are stored\n",
    "event_path = crandall.event_path\n",
    "\n",
    "# Init the event bank\n",
    "bank = obsplus.EventBank(event_path)\n",
    "\n",
    "# ensure index is up-to-date\n",
    "bank.update_index() "
   ]
  },
  {
   "cell_type": "markdown",
   "metadata": {},
   "source": [
    "### Accessing the index \n",
    "The index can be accessed directly to get a summary of the events contained in the archive. Depending on the task, it can be more natural to work with the index dataframe than the obspy catalog objects directly."
   ]
  },
  {
   "cell_type": "code",
   "execution_count": 2,
   "metadata": {},
   "outputs": [
    {
     "data": {
      "text/html": [
       "<div>\n",
       "<style scoped>\n",
       "    .dataframe tbody tr th:only-of-type {\n",
       "        vertical-align: middle;\n",
       "    }\n",
       "\n",
       "    .dataframe tbody tr th {\n",
       "        vertical-align: top;\n",
       "    }\n",
       "\n",
       "    .dataframe thead th {\n",
       "        text-align: right;\n",
       "    }\n",
       "</style>\n",
       "<table border=\"1\" class=\"dataframe\">\n",
       "  <thead>\n",
       "    <tr style=\"text-align: right;\">\n",
       "      <th></th>\n",
       "      <th>time</th>\n",
       "      <th>latitude</th>\n",
       "      <th>longitude</th>\n",
       "      <th>depth</th>\n",
       "      <th>magnitude</th>\n",
       "      <th>event_description</th>\n",
       "      <th>associated_phase_count</th>\n",
       "      <th>azimuthal_gap</th>\n",
       "      <th>event_id</th>\n",
       "      <th>horizontal_uncertainty</th>\n",
       "      <th>...</th>\n",
       "      <th>standard_error</th>\n",
       "      <th>used_phase_count</th>\n",
       "      <th>station_count</th>\n",
       "      <th>vertical_uncertainty</th>\n",
       "      <th>updated</th>\n",
       "      <th>author</th>\n",
       "      <th>agency_id</th>\n",
       "      <th>creation_time</th>\n",
       "      <th>version</th>\n",
       "      <th>path</th>\n",
       "    </tr>\n",
       "  </thead>\n",
       "  <tbody>\n",
       "    <tr>\n",
       "      <th>0</th>\n",
       "      <td>2007-08-06 08:48:40.010</td>\n",
       "      <td>39.4635</td>\n",
       "      <td>-111.2277</td>\n",
       "      <td>410.0</td>\n",
       "      <td>4.37</td>\n",
       "      <td>LR</td>\n",
       "      <td>0.0</td>\n",
       "      <td>NaN</td>\n",
       "      <td>smi:local/248839</td>\n",
       "      <td>NaN</td>\n",
       "      <td>...</td>\n",
       "      <td>1.7356</td>\n",
       "      <td>0.0</td>\n",
       "      <td>134.0</td>\n",
       "      <td>NaN</td>\n",
       "      <td>2020-02-01 19:22:11.776603136</td>\n",
       "      <td>DC</td>\n",
       "      <td>NIOSH</td>\n",
       "      <td>2018-10-10 20:33:13.618111</td>\n",
       "      <td></td>\n",
       "      <td>/2007/08/06/2007-08-06T08-48-40_48839.xml</td>\n",
       "    </tr>\n",
       "    <tr>\n",
       "      <th>1</th>\n",
       "      <td>2007-08-07 02:14:24.080</td>\n",
       "      <td>39.4632</td>\n",
       "      <td>-111.2230</td>\n",
       "      <td>4180.0</td>\n",
       "      <td>1.26</td>\n",
       "      <td>LR</td>\n",
       "      <td>0.0</td>\n",
       "      <td>NaN</td>\n",
       "      <td>smi:local/248883</td>\n",
       "      <td>NaN</td>\n",
       "      <td>...</td>\n",
       "      <td>0.8834</td>\n",
       "      <td>0.0</td>\n",
       "      <td>14.0</td>\n",
       "      <td>NaN</td>\n",
       "      <td>2020-02-01 19:22:11.776603136</td>\n",
       "      <td>DC</td>\n",
       "      <td>NIOSH</td>\n",
       "      <td>2018-10-10 21:10:26.864045</td>\n",
       "      <td></td>\n",
       "      <td>/2007/08/07/2007-08-07T02-14-24_48883.xml</td>\n",
       "    </tr>\n",
       "    <tr>\n",
       "      <th>2</th>\n",
       "      <td>2007-08-07 03:44:18.470</td>\n",
       "      <td>39.4625</td>\n",
       "      <td>-111.2152</td>\n",
       "      <td>4160.0</td>\n",
       "      <td>1.45</td>\n",
       "      <td>LR</td>\n",
       "      <td>0.0</td>\n",
       "      <td>NaN</td>\n",
       "      <td>smi:local/248887</td>\n",
       "      <td>NaN</td>\n",
       "      <td>...</td>\n",
       "      <td>0.5716</td>\n",
       "      <td>0.0</td>\n",
       "      <td>15.0</td>\n",
       "      <td>NaN</td>\n",
       "      <td>2020-02-01 19:22:11.780602880</td>\n",
       "      <td>DC</td>\n",
       "      <td>NIOSH</td>\n",
       "      <td>2018-10-10 21:10:27.576204</td>\n",
       "      <td></td>\n",
       "      <td>/2007/08/07/2007-08-07T03-44-18_48887.xml</td>\n",
       "    </tr>\n",
       "    <tr>\n",
       "      <th>3</th>\n",
       "      <td>2007-08-07 07:13:05.760</td>\n",
       "      <td>39.4605</td>\n",
       "      <td>-111.2242</td>\n",
       "      <td>3240.0</td>\n",
       "      <td>2.24</td>\n",
       "      <td></td>\n",
       "      <td>0.0</td>\n",
       "      <td>NaN</td>\n",
       "      <td>smi:local/248891</td>\n",
       "      <td>NaN</td>\n",
       "      <td>...</td>\n",
       "      <td>0.9901</td>\n",
       "      <td>0.0</td>\n",
       "      <td>35.0</td>\n",
       "      <td>NaN</td>\n",
       "      <td>2020-02-01 19:22:11.784602880</td>\n",
       "      <td></td>\n",
       "      <td></td>\n",
       "      <td>NaT</td>\n",
       "      <td></td>\n",
       "      <td>/2007/08/07/2007-08-07T07-13-05_48891.xml</td>\n",
       "    </tr>\n",
       "    <tr>\n",
       "      <th>4</th>\n",
       "      <td>2007-08-07 02:05:04.490</td>\n",
       "      <td>39.4648</td>\n",
       "      <td>-111.2255</td>\n",
       "      <td>1790.0</td>\n",
       "      <td>2.08</td>\n",
       "      <td>LR</td>\n",
       "      <td>0.0</td>\n",
       "      <td>NaN</td>\n",
       "      <td>smi:local/248882</td>\n",
       "      <td>NaN</td>\n",
       "      <td>...</td>\n",
       "      <td>0.9935</td>\n",
       "      <td>0.0</td>\n",
       "      <td>35.0</td>\n",
       "      <td>NaN</td>\n",
       "      <td>2020-02-01 19:22:11.792602624</td>\n",
       "      <td>DC</td>\n",
       "      <td>NIOSH</td>\n",
       "      <td>2018-10-10 21:15:19.190404</td>\n",
       "      <td></td>\n",
       "      <td>/2007/08/07/2007-08-07T02-05-04_48882.xml</td>\n",
       "    </tr>\n",
       "    <tr>\n",
       "      <th>5</th>\n",
       "      <td>2007-08-06 10:47:25.600</td>\n",
       "      <td>39.4615</td>\n",
       "      <td>-111.2317</td>\n",
       "      <td>2050.0</td>\n",
       "      <td>1.57</td>\n",
       "      <td>LR</td>\n",
       "      <td>0.0</td>\n",
       "      <td>NaN</td>\n",
       "      <td>smi:local/248843</td>\n",
       "      <td>NaN</td>\n",
       "      <td>...</td>\n",
       "      <td>0.8237</td>\n",
       "      <td>0.0</td>\n",
       "      <td>29.0</td>\n",
       "      <td>NaN</td>\n",
       "      <td>2020-02-01 19:22:11.796602368</td>\n",
       "      <td>DC</td>\n",
       "      <td>NIOSH</td>\n",
       "      <td>2018-10-10 20:33:27.110914</td>\n",
       "      <td></td>\n",
       "      <td>/2007/08/06/2007-08-06T10-47-25_48843.xml</td>\n",
       "    </tr>\n",
       "    <tr>\n",
       "      <th>6</th>\n",
       "      <td>2007-08-07 21:42:51.130</td>\n",
       "      <td>39.4627</td>\n",
       "      <td>-111.2200</td>\n",
       "      <td>4620.0</td>\n",
       "      <td>1.65</td>\n",
       "      <td></td>\n",
       "      <td>0.0</td>\n",
       "      <td>NaN</td>\n",
       "      <td>smi:local/248925</td>\n",
       "      <td>NaN</td>\n",
       "      <td>...</td>\n",
       "      <td>0.5704</td>\n",
       "      <td>0.0</td>\n",
       "      <td>19.0</td>\n",
       "      <td>NaN</td>\n",
       "      <td>2020-02-01 19:22:11.800602112</td>\n",
       "      <td>DC</td>\n",
       "      <td>NIOSH</td>\n",
       "      <td>2018-10-11 22:08:54.236916</td>\n",
       "      <td></td>\n",
       "      <td>/2007/08/07/2007-08-07T21-42-51_48925.xml</td>\n",
       "    </tr>\n",
       "    <tr>\n",
       "      <th>7</th>\n",
       "      <td>2007-08-06 01:44:48.810</td>\n",
       "      <td>39.4617</td>\n",
       "      <td>-111.2378</td>\n",
       "      <td>6570.0</td>\n",
       "      <td>1.78</td>\n",
       "      <td>LR</td>\n",
       "      <td>0.0</td>\n",
       "      <td>NaN</td>\n",
       "      <td>smi:local/248828</td>\n",
       "      <td>NaN</td>\n",
       "      <td>...</td>\n",
       "      <td>0.8936</td>\n",
       "      <td>0.0</td>\n",
       "      <td>23.0</td>\n",
       "      <td>NaN</td>\n",
       "      <td>2020-02-01 19:22:11.808601856</td>\n",
       "      <td>DC</td>\n",
       "      <td>NIOSH</td>\n",
       "      <td>2018-10-10 20:26:49.642650</td>\n",
       "      <td></td>\n",
       "      <td>/2007/08/06/2007-08-06T01-44-48_48828.xml</td>\n",
       "    </tr>\n",
       "  </tbody>\n",
       "</table>\n",
       "<p>8 rows × 28 columns</p>\n",
       "</div>"
      ],
      "text/plain": [
       "                     time  latitude  longitude   depth  magnitude  \\\n",
       "0 2007-08-06 08:48:40.010   39.4635  -111.2277   410.0       4.37   \n",
       "1 2007-08-07 02:14:24.080   39.4632  -111.2230  4180.0       1.26   \n",
       "2 2007-08-07 03:44:18.470   39.4625  -111.2152  4160.0       1.45   \n",
       "3 2007-08-07 07:13:05.760   39.4605  -111.2242  3240.0       2.24   \n",
       "4 2007-08-07 02:05:04.490   39.4648  -111.2255  1790.0       2.08   \n",
       "5 2007-08-06 10:47:25.600   39.4615  -111.2317  2050.0       1.57   \n",
       "6 2007-08-07 21:42:51.130   39.4627  -111.2200  4620.0       1.65   \n",
       "7 2007-08-06 01:44:48.810   39.4617  -111.2378  6570.0       1.78   \n",
       "\n",
       "  event_description  associated_phase_count  azimuthal_gap          event_id  \\\n",
       "0                LR                     0.0            NaN  smi:local/248839   \n",
       "1                LR                     0.0            NaN  smi:local/248883   \n",
       "2                LR                     0.0            NaN  smi:local/248887   \n",
       "3                                       0.0            NaN  smi:local/248891   \n",
       "4                LR                     0.0            NaN  smi:local/248882   \n",
       "5                LR                     0.0            NaN  smi:local/248843   \n",
       "6                                       0.0            NaN  smi:local/248925   \n",
       "7                LR                     0.0            NaN  smi:local/248828   \n",
       "\n",
       "   horizontal_uncertainty  ...  standard_error  used_phase_count  \\\n",
       "0                     NaN  ...          1.7356               0.0   \n",
       "1                     NaN  ...          0.8834               0.0   \n",
       "2                     NaN  ...          0.5716               0.0   \n",
       "3                     NaN  ...          0.9901               0.0   \n",
       "4                     NaN  ...          0.9935               0.0   \n",
       "5                     NaN  ...          0.8237               0.0   \n",
       "6                     NaN  ...          0.5704               0.0   \n",
       "7                     NaN  ...          0.8936               0.0   \n",
       "\n",
       "   station_count vertical_uncertainty                       updated  author  \\\n",
       "0          134.0                  NaN 2020-02-01 19:22:11.776603136      DC   \n",
       "1           14.0                  NaN 2020-02-01 19:22:11.776603136      DC   \n",
       "2           15.0                  NaN 2020-02-01 19:22:11.780602880      DC   \n",
       "3           35.0                  NaN 2020-02-01 19:22:11.784602880           \n",
       "4           35.0                  NaN 2020-02-01 19:22:11.792602624      DC   \n",
       "5           29.0                  NaN 2020-02-01 19:22:11.796602368      DC   \n",
       "6           19.0                  NaN 2020-02-01 19:22:11.800602112      DC   \n",
       "7           23.0                  NaN 2020-02-01 19:22:11.808601856      DC   \n",
       "\n",
       "   agency_id              creation_time  version  \\\n",
       "0      NIOSH 2018-10-10 20:33:13.618111            \n",
       "1      NIOSH 2018-10-10 21:10:26.864045            \n",
       "2      NIOSH 2018-10-10 21:10:27.576204            \n",
       "3                                   NaT            \n",
       "4      NIOSH 2018-10-10 21:15:19.190404            \n",
       "5      NIOSH 2018-10-10 20:33:27.110914            \n",
       "6      NIOSH 2018-10-11 22:08:54.236916            \n",
       "7      NIOSH 2018-10-10 20:26:49.642650            \n",
       "\n",
       "                                        path  \n",
       "0  /2007/08/06/2007-08-06T08-48-40_48839.xml  \n",
       "1  /2007/08/07/2007-08-07T02-14-24_48883.xml  \n",
       "2  /2007/08/07/2007-08-07T03-44-18_48887.xml  \n",
       "3  /2007/08/07/2007-08-07T07-13-05_48891.xml  \n",
       "4  /2007/08/07/2007-08-07T02-05-04_48882.xml  \n",
       "5  /2007/08/06/2007-08-06T10-47-25_48843.xml  \n",
       "6  /2007/08/07/2007-08-07T21-42-51_48925.xml  \n",
       "7  /2007/08/06/2007-08-06T01-44-48_48828.xml  \n",
       "\n",
       "[8 rows x 28 columns]"
      ]
     },
     "execution_count": 2,
     "metadata": {},
     "output_type": "execute_result"
    }
   ],
   "source": [
    "index = bank.read_index()\n",
    "index"
   ]
  },
  {
   "cell_type": "markdown",
   "metadata": {},
   "source": [
    "The index contains the following columns:"
   ]
  },
  {
   "cell_type": "code",
   "execution_count": 3,
   "metadata": {},
   "outputs": [
    {
     "name": "stdout",
     "output_type": "stream",
     "text": [
      "Index(['time', 'latitude', 'longitude', 'depth', 'magnitude',\n",
      "       'event_description', 'associated_phase_count', 'azimuthal_gap',\n",
      "       'event_id', 'horizontal_uncertainty', 'local_magnitude',\n",
      "       'moment_magnitude', 'duration_magnitude', 'magnitude_type',\n",
      "       'p_phase_count', 's_phase_count', 'p_pick_count', 's_pick_count',\n",
      "       'standard_error', 'used_phase_count', 'station_count',\n",
      "       'vertical_uncertainty', 'updated', 'author', 'agency_id',\n",
      "       'creation_time', 'version', 'path'],\n",
      "      dtype='object')\n"
     ]
    }
   ],
   "source": [
    "print(index.columns)"
   ]
  },
  {
   "cell_type": "markdown",
   "metadata": {},
   "source": [
    "### Get events\n",
    "The `EventBank` can, of course, be used to get obspy event objects based on query parameters."
   ]
  },
  {
   "cell_type": "code",
   "execution_count": 4,
   "metadata": {},
   "outputs": [],
   "source": [
    "catalog = bank.get_events(minmagnitude=2)"
   ]
  },
  {
   "cell_type": "code",
   "execution_count": 5,
   "metadata": {},
   "outputs": [
    {
     "name": "stdout",
     "output_type": "stream",
     "text": [
      "3 Event(s) in Catalog:\n",
      "2007-08-06T08:48:40.010000Z | +39.464, -111.228 | 4.2 mb\n",
      "2007-08-07T07:13:05.760000Z | +39.461, -111.224 | 2.55 ml\n",
      "2007-08-07T02:05:04.490000Z | +39.465, -111.225 | 2.44 ml\n"
     ]
    }
   ],
   "source": [
    "print(catalog)"
   ]
  },
  {
   "cell_type": "markdown",
   "metadata": {},
   "source": [
    "## Put events\n",
    "Events can also be saved to disk using the `put_events` method. If an event with the same resource_id already exists in the bank it will be overwritten."
   ]
  },
  {
   "cell_type": "code",
   "execution_count": 6,
   "metadata": {},
   "outputs": [
    {
     "name": "stdout",
     "output_type": "stream",
     "text": [
      "The bank has 8 events before put_events call.\n"
     ]
    }
   ],
   "source": [
    "print(f'The bank has {len(bank.read_index())} events before put_events call.')"
   ]
  },
  {
   "cell_type": "code",
   "execution_count": 7,
   "metadata": {},
   "outputs": [
    {
     "name": "stdout",
     "output_type": "stream",
     "text": [
      "The bank has 11 events after the put_events call.\n"
     ]
    }
   ],
   "source": [
    "bank.put_events(obspy.read_events())\n",
    "print(f'The bank has {len(bank.read_index())} events after the put_events call.')"
   ]
  },
  {
   "cell_type": "markdown",
   "metadata": {},
   "source": [
    "## Organizing event directories\n",
    "`EventBank` can also be used to (re)organize event directories. For example, currently the events are saved in the following structure by default: `{year/month/day/year-month-dayThour-minute-second-short_id.xml}` (where \"short_id\" means the last 5 characters of the event id). If we want to reorganize it to be `{year/month/short_id.xml}` it could be done like so:"
   ]
  },
  {
   "cell_type": "code",
   "execution_count": 8,
   "metadata": {},
   "outputs": [],
   "source": [
    "from pathlib import Path\n",
    "\n",
    "import tempfile\n",
    "\n",
    "temp_dir = Path(tempfile.mkdtemp())\n",
    "\n",
    "kwargs = dict(\n",
    "    path_structure=\"{year}/{month}\",\n",
    "    name_structure=\"{event_id_short}\",\n",
    ")"
   ]
  },
  {
   "cell_type": "code",
   "execution_count": 9,
   "metadata": {},
   "outputs": [
    {
     "name": "stdout",
     "output_type": "stream",
     "text": [
      "11 Event(s) in Catalog:\n",
      "2007-08-06T08:48:40.010000Z | +39.464, -111.228 | 4.2 mb\n",
      "2007-08-07T02:14:24.080000Z | +39.463, -111.223 | 1.17 ml\n",
      "...\n",
      "2012-04-04T14:18:37.000000Z | +39.342,  +41.044 | 4.3 ML | manual\n",
      "2012-04-04T14:08:46.000000Z | +38.017,  +37.736 | 3.0 ML | manual\n",
      "To see all events call 'print(CatalogObject.__str__(print_all=True))'\n"
     ]
    }
   ],
   "source": [
    "print(bank.get_events())"
   ]
  },
  {
   "cell_type": "code",
   "execution_count": 10,
   "metadata": {},
   "outputs": [
    {
     "name": "stdout",
     "output_type": "stream",
     "text": [
      "0     /2007/08/48839.xml\n",
      "1     /2007/08/48883.xml\n",
      "2     /2007/08/48887.xml\n",
      "3     /2007/08/48891.xml\n",
      "4     /2007/08/48882.xml\n",
      "5     /2007/08/48843.xml\n",
      "6     /2007/08/48925.xml\n",
      "7     /2007/08/48828.xml\n",
      "8     /2012/04/00041.xml\n",
      "9     /2012/04/00038.xml\n",
      "10    /2012/04/00039.xml\n",
      "Name: path, dtype: object\n"
     ]
    }
   ],
   "source": [
    "bank2 = obsplus.EventBank(temp_dir, **kwargs)\n",
    "bank2.put_events(bank)\n",
    "print(bank2.read_index()['path'])"
   ]
  },
  {
   "cell_type": "markdown",
   "metadata": {},
   "source": [
    "## Notes\n",
    "Unlike the [WaveBank](wavebank.pynb), which uses HDF5 to index waveforms, EventBank uses a [SQLite](https://www.sqlite.org/index.html) which is more suitable for frequent updates and [CRUD](https://en.wikipedia.org/wiki/Create,_read,_update_and_delete) usage patterns."
   ]
  }
 ],
 "metadata": {
  "kernelspec": {
   "display_name": "Python 3",
   "language": "python",
   "name": "python3"
  },
  "language_info": {
   "codemirror_mode": {
    "name": "ipython",
    "version": 3
   },
   "file_extension": ".py",
   "mimetype": "text/x-python",
   "name": "python",
   "nbconvert_exporter": "python",
   "pygments_lexer": "ipython3",
   "version": "3.7.3"
  }
 },
 "nbformat": 4,
 "nbformat_minor": 4
}

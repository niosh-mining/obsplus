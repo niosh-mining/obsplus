{
 "cells": [
  {
   "cell_type": "markdown",
   "metadata": {},
   "source": [
    "# Installation\n",
    "\n",
    "Currently there are two options for installing ObsPlus:\n",
    "\n",
    "## 1) Pip\n",
    "\n",
    "ObsPlus is on PyPi so you can use pip to install the most recent release:\n",
    "\n",
    "```bash\n",
    "pip install obsplus\n",
    "```\n",
    "\n",
    "## 2) From source\n",
    "\n",
    "If you want to most up-to-date version you can install from source.\n",
    "\n",
    "First clone the source repo\n",
    "\n",
    "```bash\n",
    "git clone https://github.com/niosh-mining/obsplus\n",
    "cd obsplus\n",
    "```\n",
    "\n",
    "then install with pip\n",
    "\n",
    "```bash\n",
    "pip install .\n",
    "```\n",
    "\n",
    "or install in development mode if you plan to [contribute](contributing.ipynb)\n",
    "\n",
    "```bash\n",
    "pip install -e .\n",
    "```\n",
    "\n",
    "We also hope to put ObsPlus on [conda-forge](https://conda-forge.org/) soon, which will be the preferred installation method. \n",
    "\n",
    "It is unlikely that other installation options will be supported.\n",
    "\n",
    "# Operating System\n",
    "\n",
    "ObsPlus only supports MacOS and Ubuntu Linux. "
   ]
  }
 ],
 "metadata": {
  "kernelspec": {
   "display_name": "Python 3",
   "language": "python",
   "name": "python3"
  },
  "language_info": {
   "codemirror_mode": {
    "name": "ipython",
    "version": 3
   },
   "file_extension": ".py",
   "mimetype": "text/x-python",
   "name": "python",
   "nbconvert_exporter": "python",
   "pygments_lexer": "ipython3",
   "version": "3.7.3"
  }
 },
 "nbformat": 4,
 "nbformat_minor": 2
}

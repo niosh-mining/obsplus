{
 "cells": [
  {
   "cell_type": "markdown",
   "metadata": {},
   "source": [
    "# WaveFrame\n",
    "This document serves as scratch space for the design of the `WaveFrame`."
   ]
  },
  {
   "cell_type": "code",
   "execution_count": null,
   "metadata": {},
   "outputs": [],
   "source": [
    "import obsplus\n"
   ]
  },
  {
   "cell_type": "code",
   "execution_count": null,
   "metadata": {},
   "outputs": [],
   "source": [
    "# First load in a related catalog, stream, and inventory\n",
    "ds = obsplus.load_dataset('crandall')\n",
    "st = ds.waveform_client.get_waveforms()\n",
    "cat = ds.event_client.get_events()\n",
    "inv = df.station_client.get_stations()"
   ]
  },
  {
   "cell_type": "markdown",
   "metadata": {},
   "source": [
    "## Create WaveFrame\n",
    "\n",
    "The simples way to create a `WaveFrame` is from a waveform client and a dataframe. The dataframe, at a minimum, must have the following fields:\n",
    "    \n",
    "    [\"network\", \"station\", \"location\", \"channel\", \"starttime\", \"endtime\"]\n",
    "    \n",
    "The first four must be strings, and the last two should be either numpy.datetime64 or something that will be converted to such. "
   ]
  },
  {
   "cell_type": "code",
   "execution_count": null,
   "metadata": {},
   "outputs": [],
   "source": [
    "event_df = obsplus.events_to_df(cat)\n",
    "wf = obsplus.WaveFrame(stats=event_df, waveforms=st)\n",
    "# this would also work\n",
    "wf = obsplus.WaveFrame(stats=event_df, waveforms=ds.waveform_client)"
   ]
  },
  {
   "cell_type": "markdown",
   "metadata": {},
   "source": [
    "However, there are also other methods for creating WaveFrames from picks, amplitudes, continuous data, etc."
   ]
  },
  {
   "cell_type": "code",
   "execution_count": null,
   "metadata": {},
   "outputs": [],
   "source": [
    "# waveframe from picks (5 seconds total, 1 before 4 after)\n",
    "wf = WaveFrame.from_picks(picks=cat, waveforms=st, time_before=1, time_after=4)"
   ]
  },
  {
   "cell_type": "code",
   "execution_count": null,
   "metadata": {},
   "outputs": [],
   "source": [
    "# wavefrom from continuous\n",
    "wf = WaveFrame.from_continuous(stations=inv, overlap=200, waveforms=st)"
   ]
  },
  {
   "cell_type": "markdown",
   "metadata": {},
   "source": [
    "## dataframe\n",
    "The dataframes containing the underlying data and metadata can be accessed with the `data` and `stats` attributes, respectively. This is modeled after ObsPy's `Trace` object."
   ]
  },
  {
   "cell_type": "code",
   "execution_count": null,
   "metadata": {},
   "outputs": [],
   "source": [
    "# get wavefrom dataframe\n",
    "wf.data"
   ]
  },
  {
   "cell_type": "code",
   "execution_count": null,
   "metadata": {},
   "outputs": [],
   "source": [
    "# get metadata dataframe\n",
    "wf.stats"
   ]
  },
  {
   "cell_type": "markdown",
   "metadata": {},
   "source": [
    "## Methods\n",
    "You can do a variety of things with the `WaveFrame`"
   ]
  },
  {
   "cell_type": "code",
   "execution_count": null,
   "metadata": {},
   "outputs": [],
   "source": []
  },
  {
   "cell_type": "code",
   "execution_count": null,
   "metadata": {},
   "outputs": [],
   "source": []
  }
 ],
 "metadata": {
  "kernelspec": {
   "display_name": "Python 3",
   "language": "python",
   "name": "python3"
  },
  "language_info": {
   "codemirror_mode": {
    "name": "ipython",
    "version": 3
   },
   "file_extension": ".py",
   "mimetype": "text/x-python",
   "name": "python",
   "nbconvert_exporter": "python",
   "pygments_lexer": "ipython3",
   "version": "3.7.3"
  }
 },
 "nbformat": 4,
 "nbformat_minor": 2
}
